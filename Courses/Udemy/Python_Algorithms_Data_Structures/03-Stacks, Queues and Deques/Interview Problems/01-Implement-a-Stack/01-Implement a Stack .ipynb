{
 "cells": [
  {
   "cell_type": "markdown",
   "metadata": {},
   "source": [
    "# Implement a Stack \n",
    "\n",
    "A very common interview question is to begin by just implementing a Stack! Try your best to implement your own stack!\n",
    "\n",
    "It should have the methods:\n",
    "\n",
    "* Check if its empty\n",
    "* Push a new item\n",
    "* Pop an item\n",
    "* Peek at the top item\n",
    "* Return the size"
   ]
  },
  {
   "cell_type": "code",
   "execution_count": 1,
   "metadata": {
    "collapsed": true
   },
   "outputs": [],
   "source": [
    "class Stack(object):\n",
    "    def __init__(self):\n",
    "        self.stack = []\n",
    "\n",
    "\n",
    "    def is_empty(self):\n",
    "        return self.stack == []\n",
    "\n",
    "\n",
    "    def push(self, item):\n",
    "        self.stack.append(item)\n",
    "\n",
    "\n",
    "    def pop(self):\n",
    "        if self.is_empty():\n",
    "            raise IndexError('Stack is empty')\n",
    "\n",
    "        tmp = self.stack[-1]\n",
    "        del self.stack[-1]\n",
    "        return tmp\n",
    "        \n",
    "\n",
    "    def peek(self):\n",
    "        if self.is_empty():\n",
    "            raise IndexError('Stack is empty')        \n",
    "        \n",
    "        return self.stack[-1]\n",
    "\n",
    "    \n",
    "    def size(self):\n",
    "        return len(self.stack)"
   ]
  }
 ],
 "metadata": {
  "kernelspec": {
   "display_name": "Python 3",
   "language": "python",
   "name": "python3"
  },
  "language_info": {
   "codemirror_mode": {
    "name": "ipython",
    "version": 3
   },
   "file_extension": ".py",
   "mimetype": "text/x-python",
   "name": "python",
   "nbconvert_exporter": "python",
   "pygments_lexer": "ipython3",
   "version": "3.8.10"
  }
 },
 "nbformat": 4,
 "nbformat_minor": 1
}
