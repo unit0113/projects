{
 "cells": [
  {
   "cell_type": "markdown",
   "metadata": {},
   "source": [
    "<img src=\"../Pierian-Data-Logo.PNG\">\n",
    "<br>\n",
    "<strong><center>Copyright 2019. Created by Jose Marcial Portilla.</center></strong>"
   ]
  },
  {
   "cell_type": "markdown",
   "metadata": {
    "collapsed": true
   },
   "source": [
    "# Regularization\n",
    "In the previous section we successfully developed a model capable of classifying an iris plant based on four features. Our model performed well on the test set, correctly classifying 29 out of 30 flowers.\n",
    "\n",
    "As it turns out, this was purely by chance. We chose a random seed that intentionally gave us good results. Had we chosen another value that gave a different set of starting weights, our results would have been different. Let's see this in practice."
   ]
  },
  {
   "cell_type": "markdown",
   "metadata": {},
   "source": [
    "## Perform standard imports"
   ]
  },
  {
   "cell_type": "code",
   "execution_count": 1,
   "metadata": {},
   "outputs": [],
   "source": [
    "import torch\n",
    "import torch.nn as nn\n",
    "import torch.nn.functional as F\n",
    "from torch.utils.data import Dataset, DataLoader\n",
    "from sklearn.model_selection import train_test_split\n",
    "\n",
    "import pandas as pd\n",
    "import matplotlib.pyplot as plt\n",
    "%matplotlib inline"
   ]
  },
  {
   "cell_type": "markdown",
   "metadata": {},
   "source": [
    "## Load and train/test/split the iris dataset"
   ]
  },
  {
   "cell_type": "code",
   "execution_count": 2,
   "metadata": {},
   "outputs": [],
   "source": [
    "df = pd.read_csv('../Data/iris.csv')\n",
    "\n",
    "X = df.drop('target',axis=1).values\n",
    "y = df['target'].values\n",
    "\n",
    "X_train, X_test, y_train, y_test = train_test_split(X,y,test_size=0.2,random_state=33)\n",
    "\n",
    "X_train = torch.FloatTensor(X_train)\n",
    "X_test = torch.FloatTensor(X_test)\n",
    "# y_train = F.one_hot(torch.LongTensor(y_train))  # not needed with Cross Entropy Loss\n",
    "# y_test = F.one_hot(torch.LongTensor(y_test))\n",
    "y_train = torch.LongTensor(y_train)\n",
    "y_test = torch.LongTensor(y_test)"
   ]
  },
  {
   "cell_type": "code",
   "execution_count": 11,
   "metadata": {},
   "outputs": [
    {
     "data": {
      "text/plain": [
       "36"
      ]
     },
     "execution_count": 11,
     "metadata": {},
     "output_type": "execute_result"
    }
   ],
   "source": [
    "len(X_train[y_train == 2])"
   ]
  },
  {
   "cell_type": "code",
   "execution_count": null,
   "metadata": {},
   "outputs": [],
   "source": []
  },
  {
   "cell_type": "code",
   "execution_count": null,
   "metadata": {},
   "outputs": [],
   "source": []
  },
  {
   "cell_type": "code",
   "execution_count": null,
   "metadata": {},
   "outputs": [],
   "source": []
  },
  {
   "cell_type": "markdown",
   "metadata": {},
   "source": [
    "## Create a model class"
   ]
  },
  {
   "cell_type": "code",
   "execution_count": 3,
   "metadata": {},
   "outputs": [],
   "source": [
    "class Model(nn.Module):\n",
    "    def __init__(self, in_features=4, h1=20, h2=10, out_features=3):\n",
    "        super().__init__()\n",
    "        self.fc1 = nn.Linear(in_features,h1)    # input layer\n",
    "        self.fc2 = nn.Linear(h1, h2)            # hidden layer\n",
    "        self.out = nn.Linear(h2, out_features)  # output layer\n",
    "        \n",
    "    def forward(self, x):\n",
    "        x = F.relu(self.fc1(x))\n",
    "        x = F.relu(self.fc2(x))\n",
    "        x = self.out(x)\n",
    "        return x"
   ]
  },
  {
   "cell_type": "markdown",
   "metadata": {},
   "source": [
    "## Instantiate the Model with a random seed of 1\n",
    "In the previous section our random seed was set to 33."
   ]
  },
  {
   "cell_type": "code",
   "execution_count": 5,
   "metadata": {},
   "outputs": [
    {
     "name": "stdout",
     "output_type": "stream",
     "text": [
      " 0: 30 correct\n",
      " 1: 30 correct\n",
      " 2: 30 correct\n",
      " 3: 29 correct\n",
      " 4: 29 correct\n",
      " 5: 8 correct\n",
      " 6: 30 correct\n",
      " 7: 16 correct\n",
      " 8: 29 correct\n",
      " 9: 30 correct\n",
      "10: 16 correct\n",
      "11: 30 correct\n",
      "12: 28 correct\n",
      "13: 29 correct\n",
      "14: 29 correct\n",
      "15: 30 correct\n",
      "16: 16 correct\n",
      "17: 30 correct\n",
      "18: 16 correct\n",
      "19: 30 correct\n",
      "20: 30 correct\n",
      "21: 30 correct\n",
      "22: 29 correct\n",
      "23: 28 correct\n",
      "24: 30 correct\n",
      "25: 30 correct\n",
      "26: 30 correct\n",
      "27: 29 correct\n",
      "28: 30 correct\n",
      "29: 30 correct\n",
      "30: 30 correct\n",
      "31: 29 correct\n",
      "32: 30 correct\n",
      "33: 29 correct\n",
      "34: 30 correct\n",
      "35: 28 correct\n",
      "36: 30 correct\n",
      "37: 29 correct\n",
      "38: 30 correct\n",
      "39: 28 correct\n",
      "40: 30 correct\n",
      "41: 29 correct\n",
      "42: 8 correct\n",
      "43: 29 correct\n",
      "44: 30 correct\n",
      "45: 28 correct\n",
      "46: 30 correct\n",
      "47: 28 correct\n",
      "48: 8 correct\n",
      "49: 30 correct\n",
      "50: 16 correct\n",
      "51: 29 correct\n",
      "52: 30 correct\n",
      "53: 8 correct\n",
      "54: 30 correct\n",
      "55: 29 correct\n",
      "56: 29 correct\n",
      "57: 30 correct\n",
      "58: 30 correct\n",
      "59: 8 correct\n",
      "60: 30 correct\n",
      "61: 28 correct\n",
      "62: 30 correct\n",
      "63: 30 correct\n",
      "64: 30 correct\n",
      "65: 30 correct\n",
      "66: 30 correct\n",
      "67: 30 correct\n",
      "68: 30 correct\n",
      "69: 29 correct\n",
      "70: 28 correct\n",
      "71: 28 correct\n",
      "72: 29 correct\n",
      "73: 30 correct\n",
      "74: 29 correct\n",
      "75: 8 correct\n",
      "76: 30 correct\n",
      "77: 30 correct\n",
      "78: 29 correct\n",
      "79: 30 correct\n",
      "80: 30 correct\n",
      "81: 30 correct\n",
      "82: 30 correct\n",
      "83: 30 correct\n",
      "84: 30 correct\n",
      "85: 29 correct\n",
      "86: 30 correct\n",
      "87: 30 correct\n",
      "88: 29 correct\n",
      "89: 30 correct\n",
      "90: 30 correct\n",
      "91: 30 correct\n",
      "92: 8 correct\n",
      "93: 29 correct\n",
      "94: 29 correct\n",
      "95: 30 correct\n",
      "96: 30 correct\n",
      "97: 30 correct\n",
      "98: 29 correct\n",
      "99: 30 correct\n"
     ]
    }
   ],
   "source": [
    "for x in range(100):\n",
    "    torch.manual_seed(x)\n",
    "    model = Model()\n",
    "    criterion = nn.CrossEntropyLoss()\n",
    "    optimizer = torch.optim.Adam(model.parameters(), lr=0.1)\n",
    "    epochs = 50\n",
    "    \n",
    "    for i in range(epochs):\n",
    "        i+=1\n",
    "        y_pred = model.forward(X_train)\n",
    "        loss = criterion(y_pred, y_train)\n",
    "        optimizer.zero_grad()\n",
    "        loss.backward()\n",
    "        optimizer.step()\n",
    "\n",
    "    correct = 0\n",
    "    with torch.no_grad():\n",
    "        for i,data in enumerate(X_test):\n",
    "            y_val = model.forward(data)\n",
    "            if y_val.argmax().item() == y_test[i]:\n",
    "                correct += 1\n",
    "    print(f'{x:2}: {correct} correct')"
   ]
  },
  {
   "cell_type": "markdown",
   "metadata": {},
   "source": [
    "## Define loss equations and optimizations\n",
    "As before, we'll utilize <a href='https://en.wikipedia.org/wiki/Cross_entropy'>Cross Entropy</a> with <a href='https://pytorch.org/docs/stable/nn.html#crossentropyloss'><strong><tt>torch.nn.CrossEntropyLoss()</tt></strong></a><br>\n",
    "For the optimizer, we'll use a variation of Stochastic Gradient Descent called <a href='https://en.wikipedia.org/wiki/Stochastic_gradient_descent#Adam'>Adam</a> (short for Adaptive Moment Estimation), with <a href='https://pytorch.org/docs/stable/optim.html#torch.optim.Adam'><strong><tt>torch.optim.Adam()</tt></strong></a>"
   ]
  },
  {
   "cell_type": "code",
   "execution_count": 5,
   "metadata": {},
   "outputs": [],
   "source": []
  },
  {
   "cell_type": "markdown",
   "metadata": {},
   "source": [
    "## Train the model"
   ]
  },
  {
   "cell_type": "code",
   "execution_count": 6,
   "metadata": {},
   "outputs": [
    {
     "name": "stdout",
     "output_type": "stream",
     "text": [
      "epoch:  1  loss: 1.38078284\n",
      "epoch:  6  loss: 0.73267561\n",
      "epoch: 11  loss: 0.46657369\n",
      "epoch: 16  loss: 0.34925833\n",
      "epoch: 21  loss: 0.20197961\n",
      "epoch: 26  loss: 0.09792752\n",
      "epoch: 31  loss: 0.07029670\n",
      "epoch: 36  loss: 0.07071624\n",
      "epoch: 41  loss: 0.06163743\n",
      "epoch: 46  loss: 0.05753142\n"
     ]
    }
   ],
   "source": []
  },
  {
   "cell_type": "markdown",
   "metadata": {},
   "source": [
    "## Plot the loss function"
   ]
  },
  {
   "cell_type": "code",
   "execution_count": 7,
   "metadata": {},
   "outputs": [
    {
     "data": {
      "image/png": "[encoded data removed]",
      "text/plain": [
       "<Figure size 432x288 with 1 Axes>"
      ]
     },
     "metadata": {
      "needs_background": "light"
     },
     "output_type": "display_data"
    }
   ],
   "source": [
    "plt.plot(range(epochs), losses)\n",
    "plt.ylabel('Loss')\n",
    "plt.xlabel('epoch');"
   ]
  },
  {
   "cell_type": "markdown",
   "metadata": {},
   "source": [
    "## Validate the model\n",
    "Now we run the test set through the model to see if the loss calculation resembles the training data."
   ]
  },
  {
   "cell_type": "code",
   "execution_count": 8,
   "metadata": {},
   "outputs": [
    {
     "name": "stdout",
     "output_type": "stream",
     "text": [
      "0.01569263\n"
     ]
    }
   ],
   "source": [
    "# TO EVALUATE THE ENTIRE TEST SET\n",
    "with torch.no_grad():\n",
    "    y_val = model.forward(X_test)\n",
    "    loss = criterion(y_val, y_test)\n",
    "print(f'{loss:.8f}')"
   ]
  },
  {
   "cell_type": "code",
   "execution_count": 9,
   "metadata": {},
   "outputs": [
    {
     "name": "stdout",
     "output_type": "stream",
     "text": [
      " 1. tensor([-7.4747,  3.5867, -4.6536])  \t1\n",
      " 2. tensor([-8.1293,  4.5405, -6.2979])  \t1\n",
      " 3. tensor([ 18.4200,   2.5921, -21.0390])  \t0\n",
      " 4. tensor([-9.8697,  2.8374, -2.1015])  \t1\n",
      " 5. tensor([-12.7232,   0.1503,   4.4810])  \t2\n",
      " 6. tensor([-16.1400,  -2.3436,  10.1481])  \t2\n",
      " 7. tensor([ 18.3593,   2.6977, -21.2681])  \t0\n",
      " 8. tensor([ 20.8290,   2.7278, -23.3197])  \t0\n",
      " 9. tensor([-12.5974,   0.1295,   4.4131])  \t2\n",
      "10. tensor([-14.1679,  -1.3597,   7.7502])  \t2\n",
      "11. tensor([-14.2858,  -1.8817,   8.6559])  \t2\n",
      "12. tensor([ 18.4295,   2.4510, -20.6759])  \t0\n",
      "13. tensor([-13.3654,  -1.8888,   8.3043])  \t2\n",
      "14. tensor([-9.3591,  2.6664, -2.0111])  \t1\n",
      "15. tensor([-13.5261,  -0.3528,   5.8239])  \t2\n",
      "16. tensor([-7.9635,  4.3522, -5.9656])  \t1\n",
      "17. tensor([-10.8256,   0.8753,   2.1968])  \t2\n",
      "18. tensor([ 21.2366,   2.7748, -23.7688])  \t0\n",
      "19. tensor([-9.0154,  2.9119, -2.7033])  \t1\n",
      "20. tensor([-13.9357,   0.3726,   4.4805])  \t2\n",
      "21. tensor([ 19.4147,   2.5647, -21.7614])  \t0\n",
      "22. tensor([ 21.9401,   2.8560, -24.5440])  \t0\n",
      "23. tensor([-14.0641,  -2.0034,   8.7686])  \t2\n",
      "24. tensor([ 19.1480,   2.5339, -21.4675])  \t0\n",
      "25. tensor([-12.5656,   0.1075,   4.5912])  \t2\n",
      "26. tensor([-11.4654,   0.7645,   2.7300])  \t2\n",
      "27. tensor([-8.7921,  3.0762, -3.0870])  \t1\n",
      "28. tensor([-7.3308,  4.3802, -6.2707])  \t1\n",
      "29. tensor([-12.8403,  -0.0986,   5.0126])  \t2\n",
      "30. tensor([-11.6271,   0.0920,   4.0943])  \t2\n",
      "30 out of 30 = 100.00% correct\n"
     ]
    }
   ],
   "source": []
  },
  {
   "cell_type": "markdown",
   "metadata": {},
   "source": [
    "What happened? We have an extremely low "
   ]
  },
  {
   "cell_type": "markdown",
   "metadata": {},
   "source": [
    "## Great job!"
   ]
  }
 ],
 "metadata": {
  "kernelspec": {
   "display_name": "Python 3",
   "language": "python",
   "name": "python3"
  },
  "language_info": {
   "codemirror_mode": {
    "name": "ipython",
    "version": 3
   },
   "file_extension": ".py",
   "mimetype": "text/x-python",
   "name": "python",
   "nbconvert_exporter": "python",
   "pygments_lexer": "ipython3",
   "version": "3.7.3"
  }
 },
 "nbformat": 4,
 "nbformat_minor": 2
}
