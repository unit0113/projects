{
 "cells": [
  {
   "cell_type": "markdown",
   "id": "white-chocolate",
   "metadata": {},
   "source": [
    "## Introduction\n",
    "In this notebook we will create a custom DataSet which will load and return an X-Ray image together with the location of the heart"
   ]
  },
  {
   "cell_type": "markdown",
   "id": "unnecessary-limit",
   "metadata": {},
   "source": [
    "## Imports:\n",
    "\n",
    "* Path for easy path handling\n",
    "* torch for dataset creation\n",
    "* numpy for loading the images\n",
    "* pandas for loading the csv file containing the labels\n",
    "* imgaug to set a random seed for augmentations\n",
    "* BoundingBox from imgaug to automatically handle the coordinates when augmenting the image\n",
    "\n"
   ]
  },
  {
   "cell_type": "code",
   "execution_count": null,
   "id": "accredited-florence",
   "metadata": {},
   "outputs": [],
   "source": [
    "from pathlib import Path\n",
    "import torch\n",
    "import numpy as np\n",
    "import pandas as pd\n",
    "import imgaug\n",
    "from imgaug.augmentables.bbs import BoundingBox\n"
   ]
  },
  {
   "cell_type": "markdown",
   "id": "coral-awareness",
   "metadata": {},
   "source": [
    "## DataSet Creation\n",
    "Now we define the torch dataset!\n",
    "We need to define a __ len __ function which returns the length of the dataset and a __ getitem __ function which returns the image and corresponding bounding box.\n",
    "\n",
    "Additionally we apply data augmentation and normalization.\n",
    "\n",
    "**Important**: Augment bounding box together with image!<br />\n",
    "You can use *BoundingBox(x1, y1, x2, y2) for that*.<br />\n",
    "Next you call *self.augment(image=img, bounding_boxes=bb)* which returns the augmented image and bounding boxes<br />\n",
    "Finally you extract the coordinates from the augmented bbox coordinates. Note that it is a 2D array.\n",
    "```python\n",
    "bb = BoundingBox(x1=bbox[0], y1=bbox[1], x2=bbox[2], y2=bbox[3])\n",
    "img, aug_bbox  = self.augment(image=img, bounding_boxes=bb)\n",
    "bbox = aug_bbox[0][0], aug_bbox[0][1], aug_bbox[1][0], aug_bbox[1][1]\n",
    "```"
   ]
  },
  {
   "cell_type": "code",
   "execution_count": null,
   "id": "universal-ministry",
   "metadata": {},
   "outputs": [],
   "source": [
    "class CardiacDataset(torch.utils.data.Dataset):\n",
    "\n",
    "    def __init__(self, path_to_labels_csv, patients, root_path, augs):\n",
    "        \n",
    "        self.labels = pd.read_csv(path_to_labels_csv)\n",
    "        \n",
    "        self.patients = np.load(patients)\n",
    "        self.root_path = Path(root_path)\n",
    "        self.augment = augs\n",
    "        \n",
    "    def  __len__(self):\n",
    "        \"\"\"\n",
    "        Returns the length of the dataset\n",
    "        \"\"\"\n",
    "        return len(self.patients)\n",
    "        \n",
    "    def __getitem__(self, idx):\n",
    "        \"\"\"\n",
    "        Returns an image paired with bbox around the heart\n",
    "        \"\"\"\n",
    "        patient = self.patients[idx]\n",
    "        # Get data according to index\n",
    "        data = self.labels[self.labels[\"name\"]==patient]\n",
    "        \n",
    "        # Get entries of given patient\n",
    "        # Extract coordinates\n",
    "        \n",
    "        x_min = data[\"x0\"].item()\n",
    "        y_min = data[\"y0\"].item()\n",
    "        x_max = x_min + data[\"w\"].item()  # get xmax from width\n",
    "        y_max = y_min + data[\"h\"].item()  # get ymax from height\n",
    "        bbox = [x_min, y_min, x_max, y_max]\n",
    "\n",
    "\n",
    "        # Load file and convert to float32\n",
    "        file_path = self.root_path/patient  # Create the path to the file\n",
    "        img = np.load(f\"{file_path}.npy\").astype(np.float32)\n",
    "        \n",
    "        \n",
    "        # Apply imgaug augmentations to image and bounding box\n",
    "        if self.augment:\n",
    "            \n",
    "            bb = BoundingBox(x1=bbox[0], y1=bbox[1], x2=bbox[2], y2=bbox[3])\n",
    "            \n",
    "            ###################IMPORTANT###################\n",
    "            # Fix for https://discuss.pytorch.org/t/dataloader-workers-generate-the-same-random-augmentations/28830/2\n",
    "            # https://github.com/pytorch/pytorch/issues/5059\n",
    "            random_seed = torch.randint(0, 1000000, (1,)).item()\n",
    "            imgaug.seed(random_seed)\n",
    "            #####################################################\n",
    "\n",
    "            img, aug_bbox  = self.augment(image=img, bounding_boxes=bb)\n",
    "            bbox = aug_bbox[0][0], aug_bbox[0][1], aug_bbox[1][0], aug_bbox[1][1]\n",
    "            \n",
    "            \n",
    "        # Normalize the image according to the values computed in Preprocessing\n",
    "        img = (img - 0.494) / 0.252\n",
    "\n",
    "        img = torch.tensor(img).unsqueeze(0)\n",
    "        bbox = torch.tensor(bbox)\n",
    "            \n",
    "        return img, bbox\n"
   ]
  },
  {
   "cell_type": "markdown",
   "id": "regional-incident",
   "metadata": {},
   "source": [
    "## Validate functionality"
   ]
  },
  {
   "cell_type": "code",
   "execution_count": null,
   "id": "strong-assistant",
   "metadata": {},
   "outputs": [],
   "source": [
    "import imgaug.augmenters as iaa\n",
    "import matplotlib.pyplot as plt\n",
    "import matplotlib.patches as patches\n"
   ]
  },
  {
   "cell_type": "code",
   "execution_count": null,
   "id": "naval-exclusive",
   "metadata": {},
   "outputs": [],
   "source": [
    "# First create the augmentation object\n",
    "\n",
    "seq = iaa.Sequential([\n",
    "            iaa.GammaContrast(),\n",
    "            iaa.Affine(\n",
    "                scale=(0.8, 1.2),\n",
    "                rotate=(-10, 10),\n",
    "                translate_px=(-10, 10)\n",
    "            )\n",
    "        ])\n"
   ]
  },
  {
   "cell_type": "code",
   "execution_count": null,
   "id": "returning-conversion",
   "metadata": {},
   "outputs": [],
   "source": [
    "labels_path = \"./rsna_heart_detection.csv\"\n",
    "patients_path = \"train_subjects.npy\"\n",
    "train_root = \"Processed-Heart-Detection/train/\"\n",
    "dataset = CardiacDataset(labels_path, patients_path, train_root, seq)"
   ]
  },
  {
   "cell_type": "code",
   "execution_count": null,
   "id": "maritime-contemporary",
   "metadata": {},
   "outputs": [],
   "source": [
    "img, bbox = dataset[0]\n",
    "\n",
    "fig, axis = plt.subplots(1, 1)\n",
    "axis.imshow(img[0], cmap=\"bone\")\n",
    "rect = patches.Rectangle((bbox[0], bbox[1]), bbox[2]-bbox[0], bbox[3]-bbox[1], edgecolor=\"r\", facecolor=\"none\")\n",
    "axis.add_patch(rect)"
   ]
  },
  {
   "cell_type": "code",
   "execution_count": null,
   "id": "automatic-review",
   "metadata": {
    "scrolled": false
   },
   "outputs": [],
   "source": [
    "img, label = dataset[17]\n",
    "\n",
    "fig, axis = plt.subplots(1, 1)\n",
    "axis.imshow(img[0], cmap=\"bone\")\n",
    "spot1 = patches.Rectangle((label[0], label[1]), label[2]-label[0], label[3]-label[1], edgecolor='r', facecolor='none')\n",
    "axis.add_patch(spot1)\n",
    "\n",
    "axis.set_title(\"X-RAY with BBOX around heart\")\n",
    "print(label)"
   ]
  },
  {
   "cell_type": "markdown",
   "id": "compressed-crime",
   "metadata": {},
   "source": [
    "Awesome! Now we can move to training the heart detection network"
   ]
  },
  {
   "cell_type": "code",
   "execution_count": null,
   "id": "nuclear-scheduling",
   "metadata": {},
   "outputs": [],
   "source": []
  }
 ],
 "metadata": {
  "kernelspec": {
   "display_name": "Python 3 (ipykernel)",
   "language": "python",
   "name": "python3"
  },
  "language_info": {
   "codemirror_mode": {
    "name": "ipython",
    "version": 3
   },
   "file_extension": ".py",
   "mimetype": "text/x-python",
   "name": "python",
   "nbconvert_exporter": "python",
   "pygments_lexer": "ipython3",
   "version": "3.8.0"
  }
 },
 "nbformat": 4,
 "nbformat_minor": 5
}
