{
 "cells": [
  {
   "cell_type": "markdown",
   "id": "horizontal-player",
   "metadata": {},
   "source": [
    "## Introduction\n",
    "In this notebook we will create the model for the atrium segmentation! <br />\n",
    "We will use the most famous architecture for this task, the U-NET (https://arxiv.org/abs/1505.04597)."
   ]
  },
  {
   "cell_type": "markdown",
   "id": "virtual-belly",
   "metadata": {},
   "source": [
    "## Imports:\n",
    "1. torch for model creation"
   ]
  },
  {
   "cell_type": "code",
   "execution_count": null,
   "id": "noticed-richardson",
   "metadata": {},
   "outputs": [],
   "source": [
    "import torch"
   ]
  },
  {
   "cell_type": "markdown",
   "id": "innocent-rainbow",
   "metadata": {},
   "source": [
    "## UNET\n",
    "The idea behind a UNET is the Encoder-Decoder architecture with additional skip-connctions on different levels:<br />\n",
    "The encoder reduces the size of the feature maps by using downconvolutional layers.\n",
    "The decoder reconstructs a mask of the input shape over several layers by upsampling.\n",
    "Additionally skip-connections allow a direct information flow from the encoder to the decoder on all intermediate levels of the UNET.\n",
    "This allows for a high quality of the produced mask and simplifies the training process.\n",
    "\n",
    "![title](unet.png)\n"
   ]
  },
  {
   "cell_type": "markdown",
   "id": "alternative-grove",
   "metadata": {},
   "source": [
    "## Convolutions\n",
    "At first, we define a single Convolution block.\n",
    "Two convolutions are used between each down- or upconvolution step"
   ]
  },
  {
   "cell_type": "code",
   "execution_count": null,
   "id": "going-nicholas",
   "metadata": {},
   "outputs": [],
   "source": [
    "class DoubleConv(torch.nn.Module):\n",
    "    \"\"\"\n",
    "    Helper Class which implements the intermediate Convolutions\n",
    "    \"\"\"\n",
    "    def __init__(self, in_channels, out_channels):\n",
    "        \n",
    "        super().__init__()\n",
    "        self.step = torch.nn.Sequential(torch.nn.Conv2d(in_channels, out_channels, 3, padding=1),\n",
    "                                        torch.nn.ReLU(),\n",
    "                                        torch.nn.Conv2d(out_channels, out_channels, 3, padding=1),\n",
    "                                        torch.nn.ReLU())\n",
    "        \n",
    "    def forward(self, X):\n",
    "        return self.step(X)\n",
    "    "
   ]
  },
  {
   "cell_type": "markdown",
   "id": "turned-campus",
   "metadata": {},
   "source": [
    "## UNET\n",
    "Using the previously defined DoubleConv modules we can now easily implement the UNET by combining **DoubleConv** with **maxpooling** for  encoder layers and **DoubleConv** paired with **Upsample** for the decoder layers, respectively.\n",
    "\n",
    "Feel free to replace Upsample with ConvTranspose2d"
   ]
  },
  {
   "cell_type": "code",
   "execution_count": null,
   "id": "blocked-killer",
   "metadata": {},
   "outputs": [],
   "source": [
    "class UNet(torch.nn.Module):\n",
    "    def __init__(self):\n",
    "        super().__init__()\n",
    "        \n",
    "        self.layer1 = DoubleConv(1, 64)\n",
    "        self.layer2 = DoubleConv(64, 128)\n",
    "        self.layer3 = DoubleConv(128, 256)\n",
    "        self.layer4 = DoubleConv(256, 512)\n",
    "        \n",
    "        self.layer5 = DoubleConv(512+256, 256)\n",
    "        self.layer6 = DoubleConv(256+128, 128)\n",
    "        self.layer7 = DoubleConv(128+64, 64)\n",
    "        self.layer8 = torch.nn.Conv2d(64, 1, 1)\n",
    "        \n",
    "        self.maxpool = torch.nn.MaxPool2d(2)\n",
    "        \n",
    "    def forward(self, x):\n",
    "        \n",
    "        x1 = self.layer1(x)\n",
    "        x1m = self.maxpool(x1)\n",
    "        \n",
    "        x2 = self.layer2(x1m)\n",
    "        x2m = self.maxpool(x2)\n",
    "        \n",
    "        x3 = self.layer3(x2m)\n",
    "        x3m = self.maxpool(x3)\n",
    "        \n",
    "        x4 = self.layer4(x3m)\n",
    "        \n",
    "        x5 = torch.nn.Upsample(scale_factor=2, mode=\"bilinear\")(x4)\n",
    "        x5 = torch.cat([x5, x3], dim=1)\n",
    "        x5 = self.layer5(x5)\n",
    "        \n",
    "        x6 = torch.nn.Upsample(scale_factor=2, mode=\"bilinear\")(x5)\n",
    "        x6 = torch.cat([x6, x2], dim=1)\n",
    "        x6 = self.layer6(x6)\n",
    "        \n",
    "        x7 = torch.nn.Upsample(scale_factor=2, mode=\"bilinear\")(x6)\n",
    "        x7 = torch.cat([x7, x1], dim=1)\n",
    "        x7 = self.layer7(x7)\n",
    "        \n",
    "        ret = self.layer8(x7)\n",
    "        return ret"
   ]
  },
  {
   "cell_type": "markdown",
   "id": "removable-plumbing",
   "metadata": {},
   "source": [
    "## Testing"
   ]
  },
  {
   "cell_type": "code",
   "execution_count": null,
   "id": "ongoing-cattle",
   "metadata": {},
   "outputs": [],
   "source": [
    "model = UNet()"
   ]
  },
  {
   "cell_type": "code",
   "execution_count": null,
   "id": "grand-samuel",
   "metadata": {},
   "outputs": [],
   "source": [
    "random_input = torch.randn(1, 1, 256, 256)\n",
    "output = model(random_input)\n",
    "assert output.shape == torch.Size([1, 1, 256, 256])"
   ]
  },
  {
   "cell_type": "code",
   "execution_count": null,
   "id": "current-share",
   "metadata": {},
   "outputs": [],
   "source": []
  }
 ],
 "metadata": {
  "kernelspec": {
   "display_name": "Python 3 (ipykernel)",
   "language": "python",
   "name": "python3"
  },
  "language_info": {
   "codemirror_mode": {
    "name": "ipython",
    "version": 3
   },
   "file_extension": ".py",
   "mimetype": "text/x-python",
   "name": "python",
   "nbconvert_exporter": "python",
   "pygments_lexer": "ipython3",
   "version": "3.8.0"
  }
 },
 "nbformat": 4,
 "nbformat_minor": 5
}
