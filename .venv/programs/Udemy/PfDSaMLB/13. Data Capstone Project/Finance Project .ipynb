{
 "cells": [
  {
   "cell_type": "markdown",
   "metadata": {},
   "source": [
    "___\n",
    "\n",
    "<a href='http://www.pieriandata.com'> <img src='../Pierian_Data_Logo.png' /></a>\n",
    "___"
   ]
  },
  {
   "cell_type": "markdown",
   "metadata": {},
   "source": [
    "# Finance Data Project \n",
    "\n",
    "In this data project we will focus on exploratory data analysis of stock prices. Keep in mind, this project is just meant to practice your visualization and pandas skills, it is not meant to be a robust financial analysis or be taken as financial advice.\n",
    "____\n",
    "** NOTE: This project is extremely challenging because it will introduce a lot of new concepts and have you looking things up on your own (we'll point you in the right direction) to try to solve the tasks issued. Feel free to just go through the solutions lecture notebook and video as a \"walkthrough\" project if you don't want to have to look things up yourself. You'll still learn a lot that way! **\n",
    "____\n",
    "We'll focus on bank stocks and see how they progressed throughout the [financial crisis](https://en.wikipedia.org/wiki/Financial_crisis_of_2007%E2%80%9308) all the way to early 2016."
   ]
  },
  {
   "cell_type": "markdown",
   "metadata": {},
   "source": [
    "## Get the Data\n",
    "\n",
    "In this section we will learn how to use pandas to directly read data from Google finance using pandas!\n",
    "\n",
    "First we need to start with the proper imports, which we've already laid out for you here.\n",
    "\n",
    "*Note: [You'll need to install pandas-datareader for this to work!](https://github.com/pydata/pandas-datareader) Pandas datareader allows you to [read stock information directly from the internet](http://pandas.pydata.org/pandas-docs/stable/remote_data.html) Use these links for install guidance (**pip install pandas-datareader**), or just follow along with the video lecture.*\n",
    "\n",
    "### The Imports\n",
    "\n",
    "Already filled out for you."
   ]
  },
  {
   "cell_type": "code",
   "execution_count": 2,
   "metadata": {},
   "outputs": [
    {
     "name": "stdout",
     "output_type": "stream",
     "text": [
      "/home/onofre/anaconda3/bin/python\n"
     ]
    }
   ],
   "source": [
    "# Check which env is jupyter running on\n",
    "import sys\n",
    "print(sys.executable)"
   ]
  },
  {
   "cell_type": "code",
   "execution_count": 1,
   "metadata": {},
   "outputs": [],
   "source": [
    "# Manually add our created environment\n",
    "# https://stackoverflow.com/questions/39604271/conda-environments-not-showing-up-in-jupyter-notebook (must install first ipykernel)"
   ]
  },
  {
   "cell_type": "code",
   "execution_count": 3,
   "metadata": {},
   "outputs": [],
   "source": [
    "from pandas_datareader import data, wb\n",
    "import pandas as pd\n",
    "import numpy as np\n",
    "import datetime\n",
    "import matplotlib.pyplot as plt\n",
    "%matplotlib inline"
   ]
  },
  {
   "cell_type": "markdown",
   "metadata": {},
   "source": [
    "## Data\n",
    "\n",
    "We need to get data using pandas datareader. We will get stock information for the following banks:\n",
    "*  Bank of America\n",
    "* CitiGroup\n",
    "* Goldman Sachs\n",
    "* JPMorgan Chase\n",
    "* Morgan Stanley\n",
    "* Wells Fargo\n",
    "\n",
    "** Figure out how to get the stock data from Jan 1st 2006 to Jan 1st 2016 for each of these banks. Set each bank to be a separate dataframe, with the variable name for that bank being its ticker symbol. This will involve a few steps:**\n",
    "1. Use datetime to set start and end datetime objects.\n",
    "2. Figure out the ticker symbol for each bank.\n",
    "2. Figure out how to use datareader to grab info on the stock.\n",
    "\n",
    "** Use [this documentation page](http://pandas.pydata.org/pandas-docs/stable/remote_data.html) for hints and instructions (it should just be a matter of replacing certain values. Use google finance as a source, for example:**\n",
    "    \n",
    "    # Bank of America\n",
    "    BAC = data.DataReader(\"BAC\", 'google', start, end)\n"
   ]
  },
  {
   "cell_type": "code",
   "execution_count": 4,
   "metadata": {},
   "outputs": [],
   "source": [
    "# set start and end datetime objects\n",
    "start = datetime.datetime(2013,1,1)\n",
    "end = datetime.datetime(2017,1,1)"
   ]
  },
  {
   "cell_type": "code",
   "execution_count": 5,
   "metadata": {},
   "outputs": [
    {
     "data": {
      "text/plain": [
       "datetime.date(2013, 1, 1)"
      ]
     },
     "execution_count": 5,
     "metadata": {},
     "output_type": "execute_result"
    }
   ],
   "source": [
    "start.date()"
   ]
  },
  {
   "cell_type": "code",
   "execution_count": 6,
   "metadata": {},
   "outputs": [],
   "source": [
    "# Thicker symbols for banks as they appear above: BAC, C, GS, JPM, MS, WFC "
   ]
  },
  {
   "cell_type": "code",
   "execution_count": 7,
   "metadata": {
    "scrolled": true
   },
   "outputs": [],
   "source": [
    "# Bank of America\n",
    "BAC = data.DataReader(\"BAC\", 'iex', start, end)\n",
    "\n",
    "# CitiGroup\n",
    "C = data.DataReader(\"C\", 'iex', start, end)\n",
    "\n",
    "# Goldman Sachs\n",
    "GS = data.DataReader(\"GS\", 'iex', start, end)\n",
    "\n",
    "# JP Morgan\n",
    "JPM = data.DataReader(\"JPM\", 'iex', start, end)\n",
    "\n",
    "# Morgan Stanley\n",
    "MS = data.DataReader(\"MS\", 'iex', start, end)\n",
    "\n",
    "# Wells Fargo\n",
    "WFC = data.DataReader(\"WFC\", 'iex', start, end)"
   ]
  },
  {
   "cell_type": "code",
   "execution_count": 8,
   "metadata": {},
   "outputs": [
    {
     "data": {
      "text/html": [
       "<div>\n",
       "<style scoped>\n",
       "    .dataframe tbody tr th:only-of-type {\n",
       "        vertical-align: middle;\n",
       "    }\n",
       "\n",
       "    .dataframe tbody tr th {\n",
       "        vertical-align: top;\n",
       "    }\n",
       "\n",
       "    .dataframe thead th {\n",
       "        text-align: right;\n",
       "    }\n",
       "</style>\n",
       "<table border=\"1\" class=\"dataframe\">\n",
       "  <thead>\n",
       "    <tr style=\"text-align: right;\">\n",
       "      <th></th>\n",
       "      <th>open</th>\n",
       "      <th>high</th>\n",
       "      <th>low</th>\n",
       "      <th>close</th>\n",
       "      <th>volume</th>\n",
       "    </tr>\n",
       "    <tr>\n",
       "      <th>date</th>\n",
       "      <th></th>\n",
       "      <th></th>\n",
       "      <th></th>\n",
       "      <th></th>\n",
       "      <th></th>\n",
       "    </tr>\n",
       "  </thead>\n",
       "  <tbody>\n",
       "    <tr>\n",
       "      <th>2013-11-20</th>\n",
       "      <td>37.9217</td>\n",
       "      <td>38.2165</td>\n",
       "      <td>37.7049</td>\n",
       "      <td>37.8263</td>\n",
       "      <td>15790577</td>\n",
       "    </tr>\n",
       "    <tr>\n",
       "      <th>2013-11-21</th>\n",
       "      <td>37.9911</td>\n",
       "      <td>38.4919</td>\n",
       "      <td>37.9694</td>\n",
       "      <td>38.2253</td>\n",
       "      <td>16450016</td>\n",
       "    </tr>\n",
       "    <tr>\n",
       "      <th>2013-11-22</th>\n",
       "      <td>38.1559</td>\n",
       "      <td>38.4854</td>\n",
       "      <td>38.0947</td>\n",
       "      <td>38.4681</td>\n",
       "      <td>11035085</td>\n",
       "    </tr>\n",
       "    <tr>\n",
       "      <th>2013-11-25</th>\n",
       "      <td>38.5721</td>\n",
       "      <td>38.7802</td>\n",
       "      <td>38.5027</td>\n",
       "      <td>38.5721</td>\n",
       "      <td>12363867</td>\n",
       "    </tr>\n",
       "    <tr>\n",
       "      <th>2013-11-26</th>\n",
       "      <td>38.6155</td>\n",
       "      <td>38.8019</td>\n",
       "      <td>38.4074</td>\n",
       "      <td>38.4247</td>\n",
       "      <td>13429858</td>\n",
       "    </tr>\n",
       "  </tbody>\n",
       "</table>\n",
       "</div>"
      ],
      "text/plain": [
       "               open     high      low    close    volume\n",
       "date                                                    \n",
       "2013-11-20  37.9217  38.2165  37.7049  37.8263  15790577\n",
       "2013-11-21  37.9911  38.4919  37.9694  38.2253  16450016\n",
       "2013-11-22  38.1559  38.4854  38.0947  38.4681  11035085\n",
       "2013-11-25  38.5721  38.7802  38.5027  38.5721  12363867\n",
       "2013-11-26  38.6155  38.8019  38.4074  38.4247  13429858"
      ]
     },
     "execution_count": 8,
     "metadata": {},
     "output_type": "execute_result"
    }
   ],
   "source": [
    "WFC.head()"
   ]
  },
  {
   "cell_type": "code",
   "execution_count": null,
   "metadata": {},
   "outputs": [],
   "source": []
  },
  {
   "cell_type": "markdown",
   "metadata": {},
   "source": [
    "** Create a list of the ticker symbols (as strings) in alphabetical order. Call this list: tickers**"
   ]
  },
  {
   "cell_type": "code",
   "execution_count": 9,
   "metadata": {},
   "outputs": [],
   "source": [
    "tickers = [\"BAC \", \"C \", \"GS \", \"JPM \", \"MS \", \"WFC \"]"
   ]
  },
  {
   "cell_type": "code",
   "execution_count": null,
   "metadata": {},
   "outputs": [],
   "source": []
  },
  {
   "cell_type": "markdown",
   "metadata": {},
   "source": [
    "** Use pd.concat to concatenate the bank dataframes together to a single data frame called bank_stocks. Set the keys argument equal to the tickers list. Also pay attention to what axis you concatenate on.**"
   ]
  },
  {
   "cell_type": "code",
   "execution_count": 10,
   "metadata": {},
   "outputs": [],
   "source": [
    "# using pd.concat method\n",
    "bank_stocks = pd.concat([BAC,C,GS,JPM,MS,WFC],axis=1,keys=tickers)"
   ]
  },
  {
   "cell_type": "code",
   "execution_count": 11,
   "metadata": {},
   "outputs": [
    {
     "data": {
      "text/html": [
       "<div>\n",
       "<style scoped>\n",
       "    .dataframe tbody tr th:only-of-type {\n",
       "        vertical-align: middle;\n",
       "    }\n",
       "\n",
       "    .dataframe tbody tr th {\n",
       "        vertical-align: top;\n",
       "    }\n",
       "\n",
       "    .dataframe thead tr th {\n",
       "        text-align: left;\n",
       "    }\n",
       "\n",
       "    .dataframe thead tr:last-of-type th {\n",
       "        text-align: right;\n",
       "    }\n",
       "</style>\n",
       "<table border=\"1\" class=\"dataframe\">\n",
       "  <thead>\n",
       "    <tr>\n",
       "      <th></th>\n",
       "      <th colspan=\"5\" halign=\"left\">BAC</th>\n",
       "      <th colspan=\"5\" halign=\"left\">C</th>\n",
       "      <th>...</th>\n",
       "      <th colspan=\"5\" halign=\"left\">MS</th>\n",
       "      <th colspan=\"5\" halign=\"left\">WFC</th>\n",
       "    </tr>\n",
       "    <tr>\n",
       "      <th></th>\n",
       "      <th>open</th>\n",
       "      <th>high</th>\n",
       "      <th>low</th>\n",
       "      <th>close</th>\n",
       "      <th>volume</th>\n",
       "      <th>open</th>\n",
       "      <th>high</th>\n",
       "      <th>low</th>\n",
       "      <th>close</th>\n",
       "      <th>volume</th>\n",
       "      <th>...</th>\n",
       "      <th>open</th>\n",
       "      <th>high</th>\n",
       "      <th>low</th>\n",
       "      <th>close</th>\n",
       "      <th>volume</th>\n",
       "      <th>open</th>\n",
       "      <th>high</th>\n",
       "      <th>low</th>\n",
       "      <th>close</th>\n",
       "      <th>volume</th>\n",
       "    </tr>\n",
       "    <tr>\n",
       "      <th>date</th>\n",
       "      <th></th>\n",
       "      <th></th>\n",
       "      <th></th>\n",
       "      <th></th>\n",
       "      <th></th>\n",
       "      <th></th>\n",
       "      <th></th>\n",
       "      <th></th>\n",
       "      <th></th>\n",
       "      <th></th>\n",
       "      <th></th>\n",
       "      <th></th>\n",
       "      <th></th>\n",
       "      <th></th>\n",
       "      <th></th>\n",
       "      <th></th>\n",
       "      <th></th>\n",
       "      <th></th>\n",
       "      <th></th>\n",
       "      <th></th>\n",
       "      <th></th>\n",
       "    </tr>\n",
       "  </thead>\n",
       "  <tbody>\n",
       "    <tr>\n",
       "      <th>2013-11-20</th>\n",
       "      <td>14.3059</td>\n",
       "      <td>14.3246</td>\n",
       "      <td>14.1464</td>\n",
       "      <td>14.2027</td>\n",
       "      <td>107174852</td>\n",
       "      <td>48.5947</td>\n",
       "      <td>48.8232</td>\n",
       "      <td>48.1854</td>\n",
       "      <td>48.3282</td>\n",
       "      <td>18351229</td>\n",
       "      <td>...</td>\n",
       "      <td>27.8079</td>\n",
       "      <td>28.0268</td>\n",
       "      <td>27.5615</td>\n",
       "      <td>27.6163</td>\n",
       "      <td>11530062</td>\n",
       "      <td>37.9217</td>\n",
       "      <td>38.2165</td>\n",
       "      <td>37.7049</td>\n",
       "      <td>37.8263</td>\n",
       "      <td>15790577</td>\n",
       "    </tr>\n",
       "    <tr>\n",
       "      <th>2013-11-21</th>\n",
       "      <td>14.2777</td>\n",
       "      <td>14.6342</td>\n",
       "      <td>14.2590</td>\n",
       "      <td>14.6248</td>\n",
       "      <td>142053629</td>\n",
       "      <td>48.4139</td>\n",
       "      <td>49.4705</td>\n",
       "      <td>48.3377</td>\n",
       "      <td>49.2420</td>\n",
       "      <td>22868922</td>\n",
       "      <td>...</td>\n",
       "      <td>27.8261</td>\n",
       "      <td>28.3097</td>\n",
       "      <td>27.7623</td>\n",
       "      <td>28.1819</td>\n",
       "      <td>10494871</td>\n",
       "      <td>37.9911</td>\n",
       "      <td>38.4919</td>\n",
       "      <td>37.9694</td>\n",
       "      <td>38.2253</td>\n",
       "      <td>16450016</td>\n",
       "    </tr>\n",
       "    <tr>\n",
       "      <th>2013-11-22</th>\n",
       "      <td>14.7233</td>\n",
       "      <td>14.8099</td>\n",
       "      <td>14.6342</td>\n",
       "      <td>14.6717</td>\n",
       "      <td>110331145</td>\n",
       "      <td>49.4419</td>\n",
       "      <td>50.0131</td>\n",
       "      <td>49.3467</td>\n",
       "      <td>49.8893</td>\n",
       "      <td>26055018</td>\n",
       "      <td>...</td>\n",
       "      <td>28.2093</td>\n",
       "      <td>28.6016</td>\n",
       "      <td>28.0725</td>\n",
       "      <td>28.5925</td>\n",
       "      <td>10566472</td>\n",
       "      <td>38.1559</td>\n",
       "      <td>38.4854</td>\n",
       "      <td>38.0947</td>\n",
       "      <td>38.4681</td>\n",
       "      <td>11035085</td>\n",
       "    </tr>\n",
       "    <tr>\n",
       "      <th>2013-11-25</th>\n",
       "      <td>14.6999</td>\n",
       "      <td>14.9907</td>\n",
       "      <td>14.6905</td>\n",
       "      <td>14.8312</td>\n",
       "      <td>153765538</td>\n",
       "      <td>49.9655</td>\n",
       "      <td>51.0982</td>\n",
       "      <td>49.9559</td>\n",
       "      <td>50.7270</td>\n",
       "      <td>32610039</td>\n",
       "      <td>...</td>\n",
       "      <td>28.6290</td>\n",
       "      <td>29.0122</td>\n",
       "      <td>28.5925</td>\n",
       "      <td>28.7750</td>\n",
       "      <td>13063078</td>\n",
       "      <td>38.5721</td>\n",
       "      <td>38.7802</td>\n",
       "      <td>38.5027</td>\n",
       "      <td>38.5721</td>\n",
       "      <td>12363867</td>\n",
       "    </tr>\n",
       "    <tr>\n",
       "      <th>2013-11-26</th>\n",
       "      <td>14.8547</td>\n",
       "      <td>14.9813</td>\n",
       "      <td>14.8312</td>\n",
       "      <td>14.8969</td>\n",
       "      <td>114833655</td>\n",
       "      <td>50.5461</td>\n",
       "      <td>50.8888</td>\n",
       "      <td>50.4129</td>\n",
       "      <td>50.4605</td>\n",
       "      <td>17667414</td>\n",
       "      <td>...</td>\n",
       "      <td>28.7750</td>\n",
       "      <td>28.9848</td>\n",
       "      <td>28.6381</td>\n",
       "      <td>28.6381</td>\n",
       "      <td>9196029</td>\n",
       "      <td>38.6155</td>\n",
       "      <td>38.8019</td>\n",
       "      <td>38.4074</td>\n",
       "      <td>38.4247</td>\n",
       "      <td>13429858</td>\n",
       "    </tr>\n",
       "  </tbody>\n",
       "</table>\n",
       "<p>5 rows × 30 columns</p>\n",
       "</div>"
      ],
      "text/plain": [
       "               BAC                                              C            \\\n",
       "               open     high      low    close     volume     open     high   \n",
       "date                                                                          \n",
       "2013-11-20  14.3059  14.3246  14.1464  14.2027  107174852  48.5947  48.8232   \n",
       "2013-11-21  14.2777  14.6342  14.2590  14.6248  142053629  48.4139  49.4705   \n",
       "2013-11-22  14.7233  14.8099  14.6342  14.6717  110331145  49.4419  50.0131   \n",
       "2013-11-25  14.6999  14.9907  14.6905  14.8312  153765538  49.9655  51.0982   \n",
       "2013-11-26  14.8547  14.9813  14.8312  14.8969  114833655  50.5461  50.8888   \n",
       "\n",
       "                                          ...         MS                     \\\n",
       "                low    close    volume    ...        open     high      low   \n",
       "date                                      ...                                 \n",
       "2013-11-20  48.1854  48.3282  18351229    ...     27.8079  28.0268  27.5615   \n",
       "2013-11-21  48.3377  49.2420  22868922    ...     27.8261  28.3097  27.7623   \n",
       "2013-11-22  49.3467  49.8893  26055018    ...     28.2093  28.6016  28.0725   \n",
       "2013-11-25  49.9559  50.7270  32610039    ...     28.6290  29.0122  28.5925   \n",
       "2013-11-26  50.4129  50.4605  17667414    ...     28.7750  28.9848  28.6381   \n",
       "\n",
       "                                  WFC                                        \n",
       "              close    volume     open     high      low    close    volume  \n",
       "date                                                                         \n",
       "2013-11-20  27.6163  11530062  37.9217  38.2165  37.7049  37.8263  15790577  \n",
       "2013-11-21  28.1819  10494871  37.9911  38.4919  37.9694  38.2253  16450016  \n",
       "2013-11-22  28.5925  10566472  38.1559  38.4854  38.0947  38.4681  11035085  \n",
       "2013-11-25  28.7750  13063078  38.5721  38.7802  38.5027  38.5721  12363867  \n",
       "2013-11-26  28.6381   9196029  38.6155  38.8019  38.4074  38.4247  13429858  \n",
       "\n",
       "[5 rows x 30 columns]"
      ]
     },
     "execution_count": 11,
     "metadata": {},
     "output_type": "execute_result"
    }
   ],
   "source": [
    "bank_stocks.head()"
   ]
  },
  {
   "cell_type": "code",
   "execution_count": null,
   "metadata": {},
   "outputs": [],
   "source": []
  },
  {
   "cell_type": "markdown",
   "metadata": {},
   "source": [
    "** Set the column name levels (this is filled out for you):**"
   ]
  },
  {
   "cell_type": "code",
   "execution_count": 12,
   "metadata": {},
   "outputs": [],
   "source": [
    "bank_stocks.columns.names = ['Bank Ticker','Stock Info']"
   ]
  },
  {
   "cell_type": "markdown",
   "metadata": {},
   "source": [
    "** Check the head of the bank_stocks dataframe.**"
   ]
  },
  {
   "cell_type": "code",
   "execution_count": 13,
   "metadata": {},
   "outputs": [
    {
     "data": {
      "text/html": [
       "<div>\n",
       "<style scoped>\n",
       "    .dataframe tbody tr th:only-of-type {\n",
       "        vertical-align: middle;\n",
       "    }\n",
       "\n",
       "    .dataframe tbody tr th {\n",
       "        vertical-align: top;\n",
       "    }\n",
       "\n",
       "    .dataframe thead tr th {\n",
       "        text-align: left;\n",
       "    }\n",
       "\n",
       "    .dataframe thead tr:last-of-type th {\n",
       "        text-align: right;\n",
       "    }\n",
       "</style>\n",
       "<table border=\"1\" class=\"dataframe\">\n",
       "  <thead>\n",
       "    <tr>\n",
       "      <th>Bank Ticker</th>\n",
       "      <th colspan=\"5\" halign=\"left\">BAC</th>\n",
       "      <th colspan=\"5\" halign=\"left\">C</th>\n",
       "      <th>...</th>\n",
       "      <th colspan=\"5\" halign=\"left\">MS</th>\n",
       "      <th colspan=\"5\" halign=\"left\">WFC</th>\n",
       "    </tr>\n",
       "    <tr>\n",
       "      <th>Stock Info</th>\n",
       "      <th>open</th>\n",
       "      <th>high</th>\n",
       "      <th>low</th>\n",
       "      <th>close</th>\n",
       "      <th>volume</th>\n",
       "      <th>open</th>\n",
       "      <th>high</th>\n",
       "      <th>low</th>\n",
       "      <th>close</th>\n",
       "      <th>volume</th>\n",
       "      <th>...</th>\n",
       "      <th>open</th>\n",
       "      <th>high</th>\n",
       "      <th>low</th>\n",
       "      <th>close</th>\n",
       "      <th>volume</th>\n",
       "      <th>open</th>\n",
       "      <th>high</th>\n",
       "      <th>low</th>\n",
       "      <th>close</th>\n",
       "      <th>volume</th>\n",
       "    </tr>\n",
       "    <tr>\n",
       "      <th>date</th>\n",
       "      <th></th>\n",
       "      <th></th>\n",
       "      <th></th>\n",
       "      <th></th>\n",
       "      <th></th>\n",
       "      <th></th>\n",
       "      <th></th>\n",
       "      <th></th>\n",
       "      <th></th>\n",
       "      <th></th>\n",
       "      <th></th>\n",
       "      <th></th>\n",
       "      <th></th>\n",
       "      <th></th>\n",
       "      <th></th>\n",
       "      <th></th>\n",
       "      <th></th>\n",
       "      <th></th>\n",
       "      <th></th>\n",
       "      <th></th>\n",
       "      <th></th>\n",
       "    </tr>\n",
       "  </thead>\n",
       "  <tbody>\n",
       "    <tr>\n",
       "      <th>2013-11-20</th>\n",
       "      <td>14.3059</td>\n",
       "      <td>14.3246</td>\n",
       "      <td>14.1464</td>\n",
       "      <td>14.2027</td>\n",
       "      <td>107174852</td>\n",
       "      <td>48.5947</td>\n",
       "      <td>48.8232</td>\n",
       "      <td>48.1854</td>\n",
       "      <td>48.3282</td>\n",
       "      <td>18351229</td>\n",
       "      <td>...</td>\n",
       "      <td>27.8079</td>\n",
       "      <td>28.0268</td>\n",
       "      <td>27.5615</td>\n",
       "      <td>27.6163</td>\n",
       "      <td>11530062</td>\n",
       "      <td>37.9217</td>\n",
       "      <td>38.2165</td>\n",
       "      <td>37.7049</td>\n",
       "      <td>37.8263</td>\n",
       "      <td>15790577</td>\n",
       "    </tr>\n",
       "    <tr>\n",
       "      <th>2013-11-21</th>\n",
       "      <td>14.2777</td>\n",
       "      <td>14.6342</td>\n",
       "      <td>14.2590</td>\n",
       "      <td>14.6248</td>\n",
       "      <td>142053629</td>\n",
       "      <td>48.4139</td>\n",
       "      <td>49.4705</td>\n",
       "      <td>48.3377</td>\n",
       "      <td>49.2420</td>\n",
       "      <td>22868922</td>\n",
       "      <td>...</td>\n",
       "      <td>27.8261</td>\n",
       "      <td>28.3097</td>\n",
       "      <td>27.7623</td>\n",
       "      <td>28.1819</td>\n",
       "      <td>10494871</td>\n",
       "      <td>37.9911</td>\n",
       "      <td>38.4919</td>\n",
       "      <td>37.9694</td>\n",
       "      <td>38.2253</td>\n",
       "      <td>16450016</td>\n",
       "    </tr>\n",
       "    <tr>\n",
       "      <th>2013-11-22</th>\n",
       "      <td>14.7233</td>\n",
       "      <td>14.8099</td>\n",
       "      <td>14.6342</td>\n",
       "      <td>14.6717</td>\n",
       "      <td>110331145</td>\n",
       "      <td>49.4419</td>\n",
       "      <td>50.0131</td>\n",
       "      <td>49.3467</td>\n",
       "      <td>49.8893</td>\n",
       "      <td>26055018</td>\n",
       "      <td>...</td>\n",
       "      <td>28.2093</td>\n",
       "      <td>28.6016</td>\n",
       "      <td>28.0725</td>\n",
       "      <td>28.5925</td>\n",
       "      <td>10566472</td>\n",
       "      <td>38.1559</td>\n",
       "      <td>38.4854</td>\n",
       "      <td>38.0947</td>\n",
       "      <td>38.4681</td>\n",
       "      <td>11035085</td>\n",
       "    </tr>\n",
       "    <tr>\n",
       "      <th>2013-11-25</th>\n",
       "      <td>14.6999</td>\n",
       "      <td>14.9907</td>\n",
       "      <td>14.6905</td>\n",
       "      <td>14.8312</td>\n",
       "      <td>153765538</td>\n",
       "      <td>49.9655</td>\n",
       "      <td>51.0982</td>\n",
       "      <td>49.9559</td>\n",
       "      <td>50.7270</td>\n",
       "      <td>32610039</td>\n",
       "      <td>...</td>\n",
       "      <td>28.6290</td>\n",
       "      <td>29.0122</td>\n",
       "      <td>28.5925</td>\n",
       "      <td>28.7750</td>\n",
       "      <td>13063078</td>\n",
       "      <td>38.5721</td>\n",
       "      <td>38.7802</td>\n",
       "      <td>38.5027</td>\n",
       "      <td>38.5721</td>\n",
       "      <td>12363867</td>\n",
       "    </tr>\n",
       "    <tr>\n",
       "      <th>2013-11-26</th>\n",
       "      <td>14.8547</td>\n",
       "      <td>14.9813</td>\n",
       "      <td>14.8312</td>\n",
       "      <td>14.8969</td>\n",
       "      <td>114833655</td>\n",
       "      <td>50.5461</td>\n",
       "      <td>50.8888</td>\n",
       "      <td>50.4129</td>\n",
       "      <td>50.4605</td>\n",
       "      <td>17667414</td>\n",
       "      <td>...</td>\n",
       "      <td>28.7750</td>\n",
       "      <td>28.9848</td>\n",
       "      <td>28.6381</td>\n",
       "      <td>28.6381</td>\n",
       "      <td>9196029</td>\n",
       "      <td>38.6155</td>\n",
       "      <td>38.8019</td>\n",
       "      <td>38.4074</td>\n",
       "      <td>38.4247</td>\n",
       "      <td>13429858</td>\n",
       "    </tr>\n",
       "  </tbody>\n",
       "</table>\n",
       "<p>5 rows × 30 columns</p>\n",
       "</div>"
      ],
      "text/plain": [
       "Bank Ticker     BAC                                              C            \\\n",
       "Stock Info      open     high      low    close     volume     open     high   \n",
       "date                                                                           \n",
       "2013-11-20   14.3059  14.3246  14.1464  14.2027  107174852  48.5947  48.8232   \n",
       "2013-11-21   14.2777  14.6342  14.2590  14.6248  142053629  48.4139  49.4705   \n",
       "2013-11-22   14.7233  14.8099  14.6342  14.6717  110331145  49.4419  50.0131   \n",
       "2013-11-25   14.6999  14.9907  14.6905  14.8312  153765538  49.9655  51.0982   \n",
       "2013-11-26   14.8547  14.9813  14.8312  14.8969  114833655  50.5461  50.8888   \n",
       "\n",
       "Bank Ticker                                ...         MS                     \\\n",
       "Stock Info       low    close    volume    ...        open     high      low   \n",
       "date                                       ...                                 \n",
       "2013-11-20   48.1854  48.3282  18351229    ...     27.8079  28.0268  27.5615   \n",
       "2013-11-21   48.3377  49.2420  22868922    ...     27.8261  28.3097  27.7623   \n",
       "2013-11-22   49.3467  49.8893  26055018    ...     28.2093  28.6016  28.0725   \n",
       "2013-11-25   49.9559  50.7270  32610039    ...     28.6290  29.0122  28.5925   \n",
       "2013-11-26   50.4129  50.4605  17667414    ...     28.7750  28.9848  28.6381   \n",
       "\n",
       "Bank Ticker                        WFC                                        \n",
       "Stock Info     close    volume     open     high      low    close    volume  \n",
       "date                                                                          \n",
       "2013-11-20   27.6163  11530062  37.9217  38.2165  37.7049  37.8263  15790577  \n",
       "2013-11-21   28.1819  10494871  37.9911  38.4919  37.9694  38.2253  16450016  \n",
       "2013-11-22   28.5925  10566472  38.1559  38.4854  38.0947  38.4681  11035085  \n",
       "2013-11-25   28.7750  13063078  38.5721  38.7802  38.5027  38.5721  12363867  \n",
       "2013-11-26   28.6381   9196029  38.6155  38.8019  38.4074  38.4247  13429858  \n",
       "\n",
       "[5 rows x 30 columns]"
      ]
     },
     "execution_count": 13,
     "metadata": {},
     "output_type": "execute_result"
    }
   ],
   "source": [
    "bank_stocks.head()"
   ]
  },
  {
   "cell_type": "code",
   "execution_count": null,
   "metadata": {},
   "outputs": [],
   "source": []
  },
  {
   "cell_type": "markdown",
   "metadata": {},
   "source": [
    "# EDA\n",
    "\n",
    "Let's explore the data a bit! Before continuing, I encourage you to check out the documentation on [Multi-Level Indexing](http://pandas.pydata.org/pandas-docs/stable/advanced.html) and [Using .xs](http://pandas.pydata.org/pandas-docs/stable/generated/pandas.DataFrame.xs.html).\n",
    "Reference the solutions if you can not figure out how to use .xs(), since that will be a major part of this project.\n",
    "\n",
    "** What is the max Close price for each bank's stock throughout the time period?**"
   ]
  },
  {
   "cell_type": "code",
   "execution_count": 14,
   "metadata": {
    "scrolled": true
   },
   "outputs": [
    {
     "data": {
      "text/plain": [
       "Bank Ticker\n",
       "BAC      22.5133\n",
       "C        58.9093\n",
       "GS      237.7628\n",
       "JPM      83.2783\n",
       "MS       41.9656\n",
       "WFC      54.1289\n",
       "dtype: float64"
      ]
     },
     "execution_count": 14,
     "metadata": {},
     "output_type": "execute_result"
    }
   ],
   "source": [
    "# Note: my values will probably differ because my time period goes from 2013 to 2017 (iex source)\n",
    "# pandas .xs Returns a cross-section (row(s) or column(s)) from the Series/DataFrame.\n",
    "bank_stocks.xs(key='close', axis=1, level='Stock Info').max()\n",
    "#df.xs('one', level=1)"
   ]
  },
  {
   "cell_type": "code",
   "execution_count": null,
   "metadata": {},
   "outputs": [],
   "source": []
  },
  {
   "cell_type": "markdown",
   "metadata": {},
   "source": [
    "** Create a new empty DataFrame called returns. This dataframe will contain the returns for each bank's stock. returns are typically defined by:**\n",
    "\n",
    "$$r_t = \\frac{p_t - p_{t-1}}{p_{t-1}} = \\frac{p_t}{p_{t-1}} - 1$$"
   ]
  },
  {
   "cell_type": "code",
   "execution_count": 15,
   "metadata": {},
   "outputs": [],
   "source": [
    "returns = pd.DataFrame()"
   ]
  },
  {
   "cell_type": "code",
   "execution_count": 16,
   "metadata": {},
   "outputs": [
    {
     "data": {
      "text/html": [
       "<div>\n",
       "<style scoped>\n",
       "    .dataframe tbody tr th:only-of-type {\n",
       "        vertical-align: middle;\n",
       "    }\n",
       "\n",
       "    .dataframe tbody tr th {\n",
       "        vertical-align: top;\n",
       "    }\n",
       "\n",
       "    .dataframe thead tr th {\n",
       "        text-align: left;\n",
       "    }\n",
       "\n",
       "    .dataframe thead tr:last-of-type th {\n",
       "        text-align: right;\n",
       "    }\n",
       "</style>\n",
       "<table border=\"1\" class=\"dataframe\">\n",
       "  <thead>\n",
       "    <tr>\n",
       "      <th>Bank Ticker</th>\n",
       "      <th colspan=\"5\" halign=\"left\">BAC</th>\n",
       "      <th colspan=\"5\" halign=\"left\">C</th>\n",
       "      <th>...</th>\n",
       "      <th colspan=\"5\" halign=\"left\">MS</th>\n",
       "      <th colspan=\"5\" halign=\"left\">WFC</th>\n",
       "    </tr>\n",
       "    <tr>\n",
       "      <th>Stock Info</th>\n",
       "      <th>open</th>\n",
       "      <th>high</th>\n",
       "      <th>low</th>\n",
       "      <th>close</th>\n",
       "      <th>volume</th>\n",
       "      <th>open</th>\n",
       "      <th>high</th>\n",
       "      <th>low</th>\n",
       "      <th>close</th>\n",
       "      <th>volume</th>\n",
       "      <th>...</th>\n",
       "      <th>open</th>\n",
       "      <th>high</th>\n",
       "      <th>low</th>\n",
       "      <th>close</th>\n",
       "      <th>volume</th>\n",
       "      <th>open</th>\n",
       "      <th>high</th>\n",
       "      <th>low</th>\n",
       "      <th>close</th>\n",
       "      <th>volume</th>\n",
       "    </tr>\n",
       "    <tr>\n",
       "      <th>date</th>\n",
       "      <th></th>\n",
       "      <th></th>\n",
       "      <th></th>\n",
       "      <th></th>\n",
       "      <th></th>\n",
       "      <th></th>\n",
       "      <th></th>\n",
       "      <th></th>\n",
       "      <th></th>\n",
       "      <th></th>\n",
       "      <th></th>\n",
       "      <th></th>\n",
       "      <th></th>\n",
       "      <th></th>\n",
       "      <th></th>\n",
       "      <th></th>\n",
       "      <th></th>\n",
       "      <th></th>\n",
       "      <th></th>\n",
       "      <th></th>\n",
       "      <th></th>\n",
       "    </tr>\n",
       "  </thead>\n",
       "  <tbody>\n",
       "    <tr>\n",
       "      <th>2013-11-20</th>\n",
       "      <td>14.3059</td>\n",
       "      <td>14.3246</td>\n",
       "      <td>14.1464</td>\n",
       "      <td>14.2027</td>\n",
       "      <td>107174852</td>\n",
       "      <td>48.5947</td>\n",
       "      <td>48.8232</td>\n",
       "      <td>48.1854</td>\n",
       "      <td>48.3282</td>\n",
       "      <td>18351229</td>\n",
       "      <td>...</td>\n",
       "      <td>27.8079</td>\n",
       "      <td>28.0268</td>\n",
       "      <td>27.5615</td>\n",
       "      <td>27.6163</td>\n",
       "      <td>11530062</td>\n",
       "      <td>37.9217</td>\n",
       "      <td>38.2165</td>\n",
       "      <td>37.7049</td>\n",
       "      <td>37.8263</td>\n",
       "      <td>15790577</td>\n",
       "    </tr>\n",
       "    <tr>\n",
       "      <th>2013-11-21</th>\n",
       "      <td>14.2777</td>\n",
       "      <td>14.6342</td>\n",
       "      <td>14.2590</td>\n",
       "      <td>14.6248</td>\n",
       "      <td>142053629</td>\n",
       "      <td>48.4139</td>\n",
       "      <td>49.4705</td>\n",
       "      <td>48.3377</td>\n",
       "      <td>49.2420</td>\n",
       "      <td>22868922</td>\n",
       "      <td>...</td>\n",
       "      <td>27.8261</td>\n",
       "      <td>28.3097</td>\n",
       "      <td>27.7623</td>\n",
       "      <td>28.1819</td>\n",
       "      <td>10494871</td>\n",
       "      <td>37.9911</td>\n",
       "      <td>38.4919</td>\n",
       "      <td>37.9694</td>\n",
       "      <td>38.2253</td>\n",
       "      <td>16450016</td>\n",
       "    </tr>\n",
       "    <tr>\n",
       "      <th>2013-11-22</th>\n",
       "      <td>14.7233</td>\n",
       "      <td>14.8099</td>\n",
       "      <td>14.6342</td>\n",
       "      <td>14.6717</td>\n",
       "      <td>110331145</td>\n",
       "      <td>49.4419</td>\n",
       "      <td>50.0131</td>\n",
       "      <td>49.3467</td>\n",
       "      <td>49.8893</td>\n",
       "      <td>26055018</td>\n",
       "      <td>...</td>\n",
       "      <td>28.2093</td>\n",
       "      <td>28.6016</td>\n",
       "      <td>28.0725</td>\n",
       "      <td>28.5925</td>\n",
       "      <td>10566472</td>\n",
       "      <td>38.1559</td>\n",
       "      <td>38.4854</td>\n",
       "      <td>38.0947</td>\n",
       "      <td>38.4681</td>\n",
       "      <td>11035085</td>\n",
       "    </tr>\n",
       "    <tr>\n",
       "      <th>2013-11-25</th>\n",
       "      <td>14.6999</td>\n",
       "      <td>14.9907</td>\n",
       "      <td>14.6905</td>\n",
       "      <td>14.8312</td>\n",
       "      <td>153765538</td>\n",
       "      <td>49.9655</td>\n",
       "      <td>51.0982</td>\n",
       "      <td>49.9559</td>\n",
       "      <td>50.7270</td>\n",
       "      <td>32610039</td>\n",
       "      <td>...</td>\n",
       "      <td>28.6290</td>\n",
       "      <td>29.0122</td>\n",
       "      <td>28.5925</td>\n",
       "      <td>28.7750</td>\n",
       "      <td>13063078</td>\n",
       "      <td>38.5721</td>\n",
       "      <td>38.7802</td>\n",
       "      <td>38.5027</td>\n",
       "      <td>38.5721</td>\n",
       "      <td>12363867</td>\n",
       "    </tr>\n",
       "    <tr>\n",
       "      <th>2013-11-26</th>\n",
       "      <td>14.8547</td>\n",
       "      <td>14.9813</td>\n",
       "      <td>14.8312</td>\n",
       "      <td>14.8969</td>\n",
       "      <td>114833655</td>\n",
       "      <td>50.5461</td>\n",
       "      <td>50.8888</td>\n",
       "      <td>50.4129</td>\n",
       "      <td>50.4605</td>\n",
       "      <td>17667414</td>\n",
       "      <td>...</td>\n",
       "      <td>28.7750</td>\n",
       "      <td>28.9848</td>\n",
       "      <td>28.6381</td>\n",
       "      <td>28.6381</td>\n",
       "      <td>9196029</td>\n",
       "      <td>38.6155</td>\n",
       "      <td>38.8019</td>\n",
       "      <td>38.4074</td>\n",
       "      <td>38.4247</td>\n",
       "      <td>13429858</td>\n",
       "    </tr>\n",
       "  </tbody>\n",
       "</table>\n",
       "<p>5 rows × 30 columns</p>\n",
       "</div>"
      ],
      "text/plain": [
       "Bank Ticker     BAC                                              C            \\\n",
       "Stock Info      open     high      low    close     volume     open     high   \n",
       "date                                                                           \n",
       "2013-11-20   14.3059  14.3246  14.1464  14.2027  107174852  48.5947  48.8232   \n",
       "2013-11-21   14.2777  14.6342  14.2590  14.6248  142053629  48.4139  49.4705   \n",
       "2013-11-22   14.7233  14.8099  14.6342  14.6717  110331145  49.4419  50.0131   \n",
       "2013-11-25   14.6999  14.9907  14.6905  14.8312  153765538  49.9655  51.0982   \n",
       "2013-11-26   14.8547  14.9813  14.8312  14.8969  114833655  50.5461  50.8888   \n",
       "\n",
       "Bank Ticker                                ...         MS                     \\\n",
       "Stock Info       low    close    volume    ...        open     high      low   \n",
       "date                                       ...                                 \n",
       "2013-11-20   48.1854  48.3282  18351229    ...     27.8079  28.0268  27.5615   \n",
       "2013-11-21   48.3377  49.2420  22868922    ...     27.8261  28.3097  27.7623   \n",
       "2013-11-22   49.3467  49.8893  26055018    ...     28.2093  28.6016  28.0725   \n",
       "2013-11-25   49.9559  50.7270  32610039    ...     28.6290  29.0122  28.5925   \n",
       "2013-11-26   50.4129  50.4605  17667414    ...     28.7750  28.9848  28.6381   \n",
       "\n",
       "Bank Ticker                        WFC                                        \n",
       "Stock Info     close    volume     open     high      low    close    volume  \n",
       "date                                                                          \n",
       "2013-11-20   27.6163  11530062  37.9217  38.2165  37.7049  37.8263  15790577  \n",
       "2013-11-21   28.1819  10494871  37.9911  38.4919  37.9694  38.2253  16450016  \n",
       "2013-11-22   28.5925  10566472  38.1559  38.4854  38.0947  38.4681  11035085  \n",
       "2013-11-25   28.7750  13063078  38.5721  38.7802  38.5027  38.5721  12363867  \n",
       "2013-11-26   28.6381   9196029  38.6155  38.8019  38.4074  38.4247  13429858  \n",
       "\n",
       "[5 rows x 30 columns]"
      ]
     },
     "execution_count": 16,
     "metadata": {},
     "output_type": "execute_result"
    }
   ],
   "source": [
    "bank_stocks.head()"
   ]
  },
  {
   "cell_type": "markdown",
   "metadata": {},
   "source": [
    "** We can use pandas pct_change() method on the Close column to create a column representing this return value. Create a for loop that goes and for each Bank Stock Ticker creates this returns column and set's it as a column in the returns DataFrame.**"
   ]
  },
  {
   "cell_type": "code",
   "execution_count": 17,
   "metadata": {},
   "outputs": [
    {
     "data": {
      "text/plain": [
       "['BAC ', 'C ', 'GS ', 'JPM ', 'MS ', 'WFC ']"
      ]
     },
     "execution_count": 17,
     "metadata": {},
     "output_type": "execute_result"
    }
   ],
   "source": [
    "tickers"
   ]
  },
  {
   "cell_type": "code",
   "execution_count": 18,
   "metadata": {},
   "outputs": [
    {
     "data": {
      "text/html": [
       "<div>\n",
       "<style scoped>\n",
       "    .dataframe tbody tr th:only-of-type {\n",
       "        vertical-align: middle;\n",
       "    }\n",
       "\n",
       "    .dataframe tbody tr th {\n",
       "        vertical-align: top;\n",
       "    }\n",
       "\n",
       "    .dataframe thead th {\n",
       "        text-align: right;\n",
       "    }\n",
       "</style>\n",
       "<table border=\"1\" class=\"dataframe\">\n",
       "  <thead>\n",
       "    <tr style=\"text-align: right;\">\n",
       "      <th></th>\n",
       "      <th>BAC  Return</th>\n",
       "      <th>C  Return</th>\n",
       "      <th>GS  Return</th>\n",
       "      <th>JPM  Return</th>\n",
       "      <th>MS  Return</th>\n",
       "      <th>WFC  Return</th>\n",
       "    </tr>\n",
       "    <tr>\n",
       "      <th>date</th>\n",
       "      <th></th>\n",
       "      <th></th>\n",
       "      <th></th>\n",
       "      <th></th>\n",
       "      <th></th>\n",
       "      <th></th>\n",
       "    </tr>\n",
       "  </thead>\n",
       "  <tbody>\n",
       "    <tr>\n",
       "      <th>2013-11-20</th>\n",
       "      <td>NaN</td>\n",
       "      <td>NaN</td>\n",
       "      <td>NaN</td>\n",
       "      <td>NaN</td>\n",
       "      <td>NaN</td>\n",
       "      <td>NaN</td>\n",
       "    </tr>\n",
       "    <tr>\n",
       "      <th>2013-11-21</th>\n",
       "      <td>0.029720</td>\n",
       "      <td>0.018908</td>\n",
       "      <td>0.012545</td>\n",
       "      <td>0.019963</td>\n",
       "      <td>0.020481</td>\n",
       "      <td>0.010548</td>\n",
       "    </tr>\n",
       "    <tr>\n",
       "      <th>2013-11-22</th>\n",
       "      <td>0.003207</td>\n",
       "      <td>0.013145</td>\n",
       "      <td>0.006165</td>\n",
       "      <td>0.004195</td>\n",
       "      <td>0.014570</td>\n",
       "      <td>0.006352</td>\n",
       "    </tr>\n",
       "    <tr>\n",
       "      <th>2013-11-25</th>\n",
       "      <td>0.010871</td>\n",
       "      <td>0.016791</td>\n",
       "      <td>0.008209</td>\n",
       "      <td>0.003306</td>\n",
       "      <td>0.006383</td>\n",
       "      <td>0.002704</td>\n",
       "    </tr>\n",
       "    <tr>\n",
       "      <th>2013-11-26</th>\n",
       "      <td>0.004430</td>\n",
       "      <td>-0.005254</td>\n",
       "      <td>-0.008496</td>\n",
       "      <td>-0.008326</td>\n",
       "      <td>-0.004758</td>\n",
       "      <td>-0.003821</td>\n",
       "    </tr>\n",
       "  </tbody>\n",
       "</table>\n",
       "</div>"
      ],
      "text/plain": [
       "            BAC  Return  C  Return  GS  Return  JPM  Return  MS  Return  \\\n",
       "date                                                                      \n",
       "2013-11-20          NaN        NaN         NaN          NaN         NaN   \n",
       "2013-11-21     0.029720   0.018908    0.012545     0.019963    0.020481   \n",
       "2013-11-22     0.003207   0.013145    0.006165     0.004195    0.014570   \n",
       "2013-11-25     0.010871   0.016791    0.008209     0.003306    0.006383   \n",
       "2013-11-26     0.004430  -0.005254   -0.008496    -0.008326   -0.004758   \n",
       "\n",
       "            WFC  Return  \n",
       "date                     \n",
       "2013-11-20          NaN  \n",
       "2013-11-21     0.010548  \n",
       "2013-11-22     0.006352  \n",
       "2013-11-25     0.002704  \n",
       "2013-11-26    -0.003821  "
      ]
     },
     "execution_count": 18,
     "metadata": {},
     "output_type": "execute_result"
    }
   ],
   "source": [
    "for tick in tickers:\n",
    "    returns[tick + ' Return'] = bank_stocks[tick]['close'].pct_change()\n",
    "\n",
    "returns.head()"
   ]
  },
  {
   "cell_type": "code",
   "execution_count": null,
   "metadata": {},
   "outputs": [],
   "source": []
  },
  {
   "cell_type": "code",
   "execution_count": null,
   "metadata": {},
   "outputs": [],
   "source": []
  },
  {
   "cell_type": "markdown",
   "metadata": {},
   "source": [
    "** Create a pairplot using seaborn of the returns dataframe. What stock stands out to you? Can you figure out why?**"
   ]
  },
  {
   "cell_type": "code",
   "execution_count": 20,
   "metadata": {},
   "outputs": [
    {
     "data": {
      "text/plain": [
       "<seaborn.axisgrid.PairGrid at 0x7f1b7d9354a8>"
      ]
     },
     "execution_count": 20,
     "metadata": {},
     "output_type": "execute_result"
    },
    {
     "data": {
      "image/png": "[encoded data removed]",
      "text/plain": [
       "<Figure size 1080x1080 with 42 Axes>"
      ]
     },
     "metadata": {
      "needs_background": "light"
     },
     "output_type": "display_data"
    }
   ],
   "source": [
    "import seaborn as sns\n",
    "sns.pairplot(data=returns[1:]) # first row are NaN elements "
   ]
  },
  {
   "cell_type": "code",
   "execution_count": null,
   "metadata": {},
   "outputs": [],
   "source": []
  },
  {
   "cell_type": "markdown",
   "metadata": {},
   "source": [
    "* See solution for details about Citigroup behavior...."
   ]
  },
  {
   "cell_type": "markdown",
   "metadata": {},
   "source": [
    "** Using this returns DataFrame, figure out on what dates each bank stock had the best and worst single day returns. You should notice that 4 of the banks share the same day for the worst drop, did anything significant happen that day?**"
   ]
  },
  {
   "cell_type": "code",
   "execution_count": 21,
   "metadata": {},
   "outputs": [
    {
     "data": {
      "text/plain": [
       "BAC  Return    2016-06-24\n",
       "C  Return      2016-06-24\n",
       "GS  Return     2016-06-24\n",
       "JPM  Return    2016-06-24\n",
       "MS  Return     2016-06-24\n",
       "WFC  Return    2015-08-24\n",
       "dtype: object"
      ]
     },
     "execution_count": 21,
     "metadata": {},
     "output_type": "execute_result"
    }
   ],
   "source": [
    "returns.idxmin()"
   ]
  },
  {
   "cell_type": "code",
   "execution_count": null,
   "metadata": {},
   "outputs": [],
   "source": []
  },
  {
   "cell_type": "markdown",
   "metadata": {},
   "source": [
    "** You should have noticed that Citigroup's largest drop and biggest gain were very close to one another, did anythign significant happen in that time frame? **"
   ]
  },
  {
   "cell_type": "markdown",
   "metadata": {},
   "source": [
    "* See Solution for details"
   ]
  },
  {
   "cell_type": "code",
   "execution_count": 22,
   "metadata": {},
   "outputs": [
    {
     "data": {
      "text/plain": [
       "BAC  Return    2016-02-12\n",
       "C  Return      2016-02-12\n",
       "GS  Return     2016-11-09\n",
       "JPM  Return    2016-02-12\n",
       "MS  Return     2016-11-09\n",
       "WFC  Return    2016-11-10\n",
       "dtype: object"
      ]
     },
     "execution_count": 22,
     "metadata": {},
     "output_type": "execute_result"
    }
   ],
   "source": [
    "returns.idxmax()"
   ]
  },
  {
   "cell_type": "code",
   "execution_count": null,
   "metadata": {},
   "outputs": [],
   "source": []
  },
  {
   "cell_type": "markdown",
   "metadata": {},
   "source": [
    "** Take a look at the standard deviation of the returns, which stock would you classify as the riskiest over the entire time period? Which would you classify as the riskiest for the year 2015?**"
   ]
  },
  {
   "cell_type": "code",
   "execution_count": 23,
   "metadata": {},
   "outputs": [
    {
     "data": {
      "text/plain": [
       "BAC  Return    0.016735\n",
       "C  Return      0.016142\n",
       "GS  Return     0.014072\n",
       "JPM  Return    0.013579\n",
       "MS  Return     0.016959\n",
       "WFC  Return    0.012332\n",
       "dtype: float64"
      ]
     },
     "execution_count": 23,
     "metadata": {},
     "output_type": "execute_result"
    }
   ],
   "source": [
    "# std over the entire time period\n",
    "returns.std() # Higher std translates to riskier (for this time span, they are all about the same)"
   ]
  },
  {
   "cell_type": "code",
   "execution_count": null,
   "metadata": {},
   "outputs": [],
   "source": []
  },
  {
   "cell_type": "code",
   "execution_count": null,
   "metadata": {},
   "outputs": [],
   "source": []
  },
  {
   "cell_type": "code",
   "execution_count": 24,
   "metadata": {},
   "outputs": [
    {
     "data": {
      "text/plain": [
       "BAC  Return    0.016174\n",
       "C  Return      0.015288\n",
       "GS  Return     0.014043\n",
       "JPM  Return    0.014006\n",
       "MS  Return     0.016287\n",
       "WFC  Return    0.012552\n",
       "dtype: float64"
      ]
     },
     "execution_count": 24,
     "metadata": {},
     "output_type": "execute_result"
    }
   ],
   "source": [
    "# std for 2015\n",
    "returns.loc['2015-01-01':'2015-12-31'].std() #higher ones are Bank of America and Morgan Stanley"
   ]
  },
  {
   "cell_type": "code",
   "execution_count": null,
   "metadata": {},
   "outputs": [],
   "source": []
  },
  {
   "cell_type": "markdown",
   "metadata": {},
   "source": [
    "** Create a distplot using seaborn of the 2015 returns for Morgan Stanley **"
   ]
  },
  {
   "cell_type": "code",
   "execution_count": 25,
   "metadata": {},
   "outputs": [
    {
     "name": "stderr",
     "output_type": "stream",
     "text": [
      "/home/onofre/anaconda3/envs/UABC_ML_Workshop/lib/python3.7/site-packages/ipykernel_launcher.py:2: DeprecationWarning: \n",
      ".ix is deprecated. Please use\n",
      ".loc for label based indexing or\n",
      ".iloc for positional indexing\n",
      "\n",
      "See the documentation here:\n",
      "http://pandas.pydata.org/pandas-docs/stable/indexing.html#ix-indexer-is-deprecated\n",
      "  \n",
      "/home/onofre/anaconda3/envs/UABC_ML_Workshop/lib/python3.7/site-packages/scipy/stats/stats.py:1713: FutureWarning: Using a non-tuple sequence for multidimensional indexing is deprecated; use `arr[tuple(seq)]` instead of `arr[seq]`. In the future this will be interpreted as an array index, `arr[np.array(seq)]`, which will result either in an error or a different result.\n",
      "  return np.add.reduce(sorted[indexer] * weights, axis=axis) / sumval\n"
     ]
    },
    {
     "data": {
      "image/png": "[encoded data removed]",
      "text/plain": [
       "<Figure size 432x288 with 1 Axes>"
      ]
     },
     "metadata": {},
     "output_type": "display_data"
    }
   ],
   "source": [
    "sns.set_style(\"whitegrid\")\n",
    "sns.distplot(returns.ix['2015-01-01':'2015-12-31']['MS  Return'], bins=100, color='green')\n",
    "plt.tight_layout()"
   ]
  },
  {
   "cell_type": "code",
   "execution_count": 26,
   "metadata": {
    "scrolled": false
   },
   "outputs": [],
   "source": [
    "#returns.ix['2015-01-01':'2015-12-31']['MS  Return'].head()"
   ]
  },
  {
   "cell_type": "code",
   "execution_count": null,
   "metadata": {},
   "outputs": [],
   "source": []
  },
  {
   "cell_type": "code",
   "execution_count": null,
   "metadata": {},
   "outputs": [],
   "source": []
  },
  {
   "cell_type": "markdown",
   "metadata": {},
   "source": [
    "** Create a distplot using seaborn of the 2008 returns for CitiGroup **"
   ]
  },
  {
   "cell_type": "code",
   "execution_count": 27,
   "metadata": {},
   "outputs": [
    {
     "name": "stderr",
     "output_type": "stream",
     "text": [
      "/home/onofre/anaconda3/envs/UABC_ML_Workshop/lib/python3.7/site-packages/ipykernel_launcher.py:3: DeprecationWarning: \n",
      ".ix is deprecated. Please use\n",
      ".loc for label based indexing or\n",
      ".iloc for positional indexing\n",
      "\n",
      "See the documentation here:\n",
      "http://pandas.pydata.org/pandas-docs/stable/indexing.html#ix-indexer-is-deprecated\n",
      "  This is separate from the ipykernel package so we can avoid doing imports until\n",
      "/home/onofre/anaconda3/envs/UABC_ML_Workshop/lib/python3.7/site-packages/numpy/lib/histograms.py:754: RuntimeWarning: invalid value encountered in greater_equal\n",
      "  keep = (tmp_a >= first_edge)\n",
      "/home/onofre/anaconda3/envs/UABC_ML_Workshop/lib/python3.7/site-packages/numpy/lib/histograms.py:755: RuntimeWarning: invalid value encountered in less_equal\n",
      "  keep &= (tmp_a <= last_edge)\n",
      "/home/onofre/anaconda3/envs/UABC_ML_Workshop/lib/python3.7/site-packages/statsmodels/nonparametric/kde.py:448: RuntimeWarning: invalid value encountered in greater\n",
      "  X = X[np.logical_and(X > clip[0], X < clip[1])] # won't work for two columns.\n",
      "/home/onofre/anaconda3/envs/UABC_ML_Workshop/lib/python3.7/site-packages/statsmodels/nonparametric/kde.py:448: RuntimeWarning: invalid value encountered in less\n",
      "  X = X[np.logical_and(X > clip[0], X < clip[1])] # won't work for two columns.\n"
     ]
    },
    {
     "data": {
      "image/png": "[encoded data removed]",
      "text/plain": [
       "<Figure size 432x288 with 1 Axes>"
      ]
     },
     "metadata": {},
     "output_type": "display_data"
    }
   ],
   "source": [
    "# using the 2013 data\n",
    "sns.set_style(\"whitegrid\")\n",
    "sns.distplot(returns.ix['2013-09-24':'2013-12-31']['C  Return'], bins=50, color='red')\n",
    "plt.tight_layout()"
   ]
  },
  {
   "cell_type": "code",
   "execution_count": null,
   "metadata": {},
   "outputs": [],
   "source": []
  },
  {
   "cell_type": "markdown",
   "metadata": {},
   "source": [
    "____\n",
    "# More Visualization\n",
    "\n",
    "A lot of this project will focus on visualizations. Feel free to use any of your preferred visualization libraries to try to recreate the described plots below, seaborn, matplotlib, plotly and cufflinks, or just pandas.\n",
    "\n",
    "### Imports"
   ]
  },
  {
   "cell_type": "code",
   "execution_count": 29,
   "metadata": {},
   "outputs": [
    {
     "ename": "ModuleNotFoundError",
     "evalue": "No module named 'cufflinks'",
     "output_type": "error",
     "traceback": [
      "\u001b[0;31m---------------------------------------------------------------------------\u001b[0m",
      "\u001b[0;31mModuleNotFoundError\u001b[0m                       Traceback (most recent call last)",
      "\u001b[0;32m<ipython-input-29-15137553aeca>\u001b[0m in \u001b[0;36m<module>\u001b[0;34m\u001b[0m\n\u001b[1;32m      6\u001b[0m \u001b[0;31m# Optional Plotly Method Imports\u001b[0m\u001b[0;34m\u001b[0m\u001b[0;34m\u001b[0m\u001b[0;34m\u001b[0m\u001b[0m\n\u001b[1;32m      7\u001b[0m \u001b[0;32mimport\u001b[0m \u001b[0mplotly\u001b[0m\u001b[0;34m\u001b[0m\u001b[0;34m\u001b[0m\u001b[0m\n\u001b[0;32m----> 8\u001b[0;31m \u001b[0;32mimport\u001b[0m \u001b[0mcufflinks\u001b[0m \u001b[0;32mas\u001b[0m \u001b[0mcf\u001b[0m\u001b[0;34m\u001b[0m\u001b[0;34m\u001b[0m\u001b[0m\n\u001b[0m\u001b[1;32m      9\u001b[0m \u001b[0mcf\u001b[0m\u001b[0;34m.\u001b[0m\u001b[0mgo_offline\u001b[0m\u001b[0;34m(\u001b[0m\u001b[0;34m)\u001b[0m\u001b[0;34m\u001b[0m\u001b[0;34m\u001b[0m\u001b[0m\n",
      "\u001b[0;31mModuleNotFoundError\u001b[0m: No module named 'cufflinks'"
     ]
    }
   ],
   "source": [
    "import matplotlib.pyplot as plt\n",
    "import seaborn as sns\n",
    "sns.set_style('whitegrid')\n",
    "%matplotlib inline\n",
    "\n",
    "# Optional Plotly Method Imports\n",
    "import plotly\n",
    "import cufflinks as cf\n",
    "cf.go_offline()"
   ]
  },
  {
   "cell_type": "markdown",
   "metadata": {},
   "source": [
    "** Create a line plot showing Close price for each bank for the entire index of time. (Hint: Try using a for loop, or use [.xs](http://pandas.pydata.org/pandas-docs/stable/generated/pandas.DataFrame.xs.html) to get a cross section of the data.)**"
   ]
  },
  {
   "cell_type": "code",
   "execution_count": null,
   "metadata": {},
   "outputs": [],
   "source": [
    "bank_stocks.head()"
   ]
  },
  {
   "cell_type": "code",
   "execution_count": null,
   "metadata": {},
   "outputs": [],
   "source": [
    "# using pandas line plot\n",
    "for tick in tickers:\n",
    "    bank_stocks[tick]['close'].plot(figsize=(12,6), label=tick)\n",
    "plt.legend()"
   ]
  },
  {
   "cell_type": "code",
   "execution_count": null,
   "metadata": {},
   "outputs": [],
   "source": []
  },
  {
   "cell_type": "code",
   "execution_count": null,
   "metadata": {},
   "outputs": [],
   "source": []
  },
  {
   "cell_type": "code",
   "execution_count": null,
   "metadata": {},
   "outputs": [],
   "source": [
    "# using pandas xs\n",
    "bank_stocks.xs(key='close', axis=1, level='Stock Info').plot()\n",
    "\n",
    "# missing here the line of code that moves the legend to the outer plot"
   ]
  },
  {
   "cell_type": "code",
   "execution_count": null,
   "metadata": {},
   "outputs": [],
   "source": []
  },
  {
   "cell_type": "code",
   "execution_count": null,
   "metadata": {},
   "outputs": [],
   "source": [
    "# Using live plots with plotly (just have to add iplot)\n",
    "bank_stocks.xs(key='close', axis=1, level='Stock Info').iplot() #this one sets legend and dates by itself!"
   ]
  },
  {
   "cell_type": "code",
   "execution_count": null,
   "metadata": {
    "scrolled": true
   },
   "outputs": [],
   "source": []
  },
  {
   "cell_type": "markdown",
   "metadata": {},
   "source": [
    "## Moving Averages\n",
    "\n",
    "Let's analyze the moving averages for these stocks in the year 2008. \n",
    "\n",
    "** Plot the rolling 30 day average against the Close Price for Bank Of America's stock for the year 2008**"
   ]
  },
  {
   "cell_type": "code",
   "execution_count": null,
   "metadata": {},
   "outputs": [],
   "source": [
    "BAC['close'].head() #they are separate dataframes!"
   ]
  },
  {
   "cell_type": "code",
   "execution_count": null,
   "metadata": {
    "scrolled": false
   },
   "outputs": [],
   "source": [
    "# two plots: rolling average and BAC close price\n",
    "#bank_stocks[bank_stocks['BAC '].xs(key='close', axis=1, level='Stock Info').iplot()\n",
    "#bank_stocks['BAC ']['close'].plot(figsize=(12,6), label='BACK CLOSE', color='green')\n",
    "\n",
    "plt.figure(figsize=(12,6))\n",
    "BAC['close'].ix['2013-09-24':'2013-12-31'].plot(figsize=(12,6), color='green', label='BAC CLOSE')\n",
    "BAC['close'].ix['2013-09-24':'2013-12-31'].rolling(window=30).mean().plot(label='30 day average') #syntax for moving average\n",
    "plt.legend()"
   ]
  },
  {
   "cell_type": "code",
   "execution_count": null,
   "metadata": {},
   "outputs": [],
   "source": []
  },
  {
   "cell_type": "markdown",
   "metadata": {},
   "source": [
    "** Create a heatmap of the correlation between the stocks Close Price.**"
   ]
  },
  {
   "cell_type": "code",
   "execution_count": null,
   "metadata": {},
   "outputs": [],
   "source": [
    "# create first appropriate matrix\n",
    "sns.heatmap(bank_stocks.xs(key='close',axis=1,level='Stock Info').corr(), annot=True, cmap='viridis')"
   ]
  },
  {
   "cell_type": "markdown",
   "metadata": {},
   "source": [
    "** Optional: Use seaborn's clustermap to cluster the correlations together:**"
   ]
  },
  {
   "cell_type": "code",
   "execution_count": null,
   "metadata": {},
   "outputs": [],
   "source": [
    "sns.clustermap(bank_stocks.xs(key='close',axis=1,level='Stock Info').corr(), annot=True)"
   ]
  },
  {
   "cell_type": "code",
   "execution_count": null,
   "metadata": {},
   "outputs": [],
   "source": []
  },
  {
   "cell_type": "code",
   "execution_count": null,
   "metadata": {},
   "outputs": [],
   "source": []
  },
  {
   "cell_type": "markdown",
   "metadata": {},
   "source": [
    "# Part 2 (Optional)\n",
    "\n",
    "In this second part of the project we will rely on the cufflinks library to create some Technical Analysis plots. This part of the project is experimental due to its heavy reliance on the cuffinks project, so feel free to skip it if any functionality is broken in the future."
   ]
  },
  {
   "cell_type": "markdown",
   "metadata": {
    "collapsed": true
   },
   "source": [
    "** Use .iplot(kind='candle) to create a candle plot of Bank of America's stock from Jan 1st 2015 to Jan 1st 2016.**"
   ]
  },
  {
   "cell_type": "code",
   "execution_count": null,
   "metadata": {},
   "outputs": [],
   "source": [
    "BAC.head()"
   ]
  },
  {
   "cell_type": "code",
   "execution_count": null,
   "metadata": {},
   "outputs": [],
   "source": [
    "BAC[['open','high','low','close']].ix['2015-01-01':'2016-01-01'].iplot(kind='candle')\n",
    "#BAC[['Open', 'High', 'Low', 'Close']].ix['2015-01-01':'2016-01-01'].iplot(kind='candle')"
   ]
  },
  {
   "cell_type": "code",
   "execution_count": null,
   "metadata": {},
   "outputs": [],
   "source": []
  },
  {
   "cell_type": "markdown",
   "metadata": {},
   "source": [
    "** Use .ta_plot(study='sma') to create a Simple Moving Averages plot of Morgan Stanley for the year 2015.**"
   ]
  },
  {
   "cell_type": "code",
   "execution_count": null,
   "metadata": {},
   "outputs": [],
   "source": [
    "MS['close'].loc['2015-01-01':'2016-01-01'].ta_plot(study='sma', title='Simple Moving Averages')"
   ]
  },
  {
   "cell_type": "markdown",
   "metadata": {},
   "source": [
    "**Use .ta_plot(study='boll') to create a Bollinger Band Plot for Bank of America for the year 2015.**"
   ]
  },
  {
   "cell_type": "code",
   "execution_count": null,
   "metadata": {},
   "outputs": [],
   "source": [
    "BAC['close'].loc['2015-01-01':'2016-01-01'].ta_plot(study='boll', title='Bollinger Band Plot')"
   ]
  },
  {
   "cell_type": "markdown",
   "metadata": {},
   "source": [
    "# Great Job!\n",
    "\n",
    "Definitely a lot of more specific finance topics here, so don't worry if you didn't understand them all! The only thing you should be concerned with understanding are the basic pandas and visualization oeprations."
   ]
  }
 ],
 "metadata": {
  "kernelspec": {
   "display_name": "UABC ML Workshop",
   "language": "python",
   "name": "uabc_ml_workshop"
  },
  "language_info": {
   "codemirror_mode": {
    "name": "ipython",
    "version": 3
   },
   "file_extension": ".py",
   "mimetype": "text/x-python",
   "name": "python",
   "nbconvert_exporter": "python",
   "pygments_lexer": "ipython3",
   "version": "3.7.1"
  }
 },
 "nbformat": 4,
 "nbformat_minor": 1
}
