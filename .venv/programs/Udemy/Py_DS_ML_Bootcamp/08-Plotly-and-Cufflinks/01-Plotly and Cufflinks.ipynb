{
 "cells": [
  {
   "cell_type": "markdown",
   "metadata": {},
   "source": [
    "___\n",
    "\n",
    "<a href='http://www.pieriandata.com'> <img src='../Pierian_Data_Logo.png' /></a>\n",
    "___\n",
    "# Plotly and Cufflinks"
   ]
  },
  {
   "cell_type": "markdown",
   "metadata": {},
   "source": [
    "Plotly is a library that allows you to create interactive plots that you can use in dashboards or websites (you can save them as html files or static images).\n",
    "\n",
    "## Installation\n",
    "\n",
    "In order for this all to work, you'll need to install plotly and cufflinks to call plots directly off of a pandas dataframe. These libraries are not currently available through **conda** but are available through **pip**. Install the libraries at your command line/terminal using:\n",
    "\n",
    "    pip install plotly\n",
    "    pip install cufflinks\n",
    "\n",
    "** NOTE: Make sure you only have one installation of Python on your computer when you do this, otherwise the installation may not work. **\n",
    "\n",
    "## Imports and Set-up"
   ]
  },
  {
   "cell_type": "code",
   "execution_count": 1,
   "metadata": {
    "collapsed": true
   },
   "outputs": [],
   "source": [
    "import pandas as pd\n",
    "import numpy as np\n",
    "%matplotlib inline"
   ]
  },
  {
   "cell_type": "code",
   "execution_count": 3,
   "metadata": {
    "collapsed": false
   },
   "outputs": [
    {
     "name": "stdout",
     "output_type": "stream",
     "text": [
      "5.5.0\n"
     ]
    }
   ],
   "source": [
    "from plotly import __version__\n",
    "from plotly.offline import download_plotlyjs, init_notebook_mode, plot, iplot\n",
    "\n",
    "print(__version__) # requires version >= 1.9.0"
   ]
  },
  {
   "cell_type": "code",
   "execution_count": 4,
   "metadata": {
    "collapsed": true
   },
   "outputs": [],
   "source": [
    "import cufflinks as cf"
   ]
  },
  {
   "cell_type": "code",
   "execution_count": 5,
   "metadata": {
    "collapsed": false
   },
   "outputs": [
    {
     "data": {
      "text/html": [
       "        <script type=\"text/javascript\">\n",
       "        window.PlotlyConfig = {MathJaxConfig: 'local'};\n",
       "        if (window.MathJax) {MathJax.Hub.Config({SVG: {font: \"STIX-Web\"}});}\n",
       "        if (typeof require !== 'undefined') {\n",
       "        require.undef(\"plotly\");\n",
       "        requirejs.config({\n",
       "            paths: {\n",
       "                'plotly': ['https://cdn.plot.ly/plotly-2.8.3.min']\n",
       "            }\n",
       "        });\n",
       "        require(['plotly'], function(Plotly) {\n",
       "            window._Plotly = Plotly;\n",
       "        });\n",
       "        }\n",
       "        </script>\n",
       "        "
      ]
     },
     "metadata": {},
     "output_type": "display_data"
    }
   ],
   "source": [
    "# For Notebooks\n",
    "init_notebook_mode(connected=True)"
   ]
  },
  {
   "cell_type": "code",
   "execution_count": 7,
   "metadata": {
    "collapsed": false
   },
   "outputs": [
    {
     "data": {
      "text/html": [
       "        <script type=\"text/javascript\">\n",
       "        window.PlotlyConfig = {MathJaxConfig: 'local'};\n",
       "        if (window.MathJax) {MathJax.Hub.Config({SVG: {font: \"STIX-Web\"}});}\n",
       "        if (typeof require !== 'undefined') {\n",
       "        require.undef(\"plotly\");\n",
       "        requirejs.config({\n",
       "            paths: {\n",
       "                'plotly': ['https://cdn.plot.ly/plotly-2.8.3.min']\n",
       "            }\n",
       "        });\n",
       "        require(['plotly'], function(Plotly) {\n",
       "            window._Plotly = Plotly;\n",
       "        });\n",
       "        }\n",
       "        </script>\n",
       "        "
      ]
     },
     "metadata": {},
     "output_type": "display_data"
    }
   ],
   "source": [
    "# For offline use\n",
    "cf.go_offline()"
   ]
  },
  {
   "cell_type": "markdown",
   "metadata": {},
   "source": [
    "### Fake Data"
   ]
  },
  {
   "cell_type": "code",
   "execution_count": 8,
   "metadata": {
    "collapsed": false
   },
   "outputs": [],
   "source": [
    "df = pd.DataFrame(np.random.randn(100,4),columns='A B C D'.split())"
   ]
  },
  {
   "cell_type": "code",
   "execution_count": 9,
   "metadata": {
    "collapsed": false
   },
   "outputs": [
    {
     "data": {
      "text/html": [
       "<div>\n",
       "<style scoped>\n",
       "    .dataframe tbody tr th:only-of-type {\n",
       "        vertical-align: middle;\n",
       "    }\n",
       "\n",
       "    .dataframe tbody tr th {\n",
       "        vertical-align: top;\n",
       "    }\n",
       "\n",
       "    .dataframe thead th {\n",
       "        text-align: right;\n",
       "    }\n",
       "</style>\n",
       "<table border=\"1\" class=\"dataframe\">\n",
       "  <thead>\n",
       "    <tr style=\"text-align: right;\">\n",
       "      <th></th>\n",
       "      <th>A</th>\n",
       "      <th>B</th>\n",
       "      <th>C</th>\n",
       "      <th>D</th>\n",
       "    </tr>\n",
       "  </thead>\n",
       "  <tbody>\n",
       "    <tr>\n",
       "      <th>0</th>\n",
       "      <td>0.120633</td>\n",
       "      <td>-0.522080</td>\n",
       "      <td>-0.088524</td>\n",
       "      <td>-2.882929</td>\n",
       "    </tr>\n",
       "    <tr>\n",
       "      <th>1</th>\n",
       "      <td>-0.975353</td>\n",
       "      <td>-0.311440</td>\n",
       "      <td>1.072484</td>\n",
       "      <td>0.348448</td>\n",
       "    </tr>\n",
       "    <tr>\n",
       "      <th>2</th>\n",
       "      <td>-2.676358</td>\n",
       "      <td>-0.724147</td>\n",
       "      <td>-0.283065</td>\n",
       "      <td>1.268026</td>\n",
       "    </tr>\n",
       "    <tr>\n",
       "      <th>3</th>\n",
       "      <td>0.492548</td>\n",
       "      <td>-1.230042</td>\n",
       "      <td>1.114379</td>\n",
       "      <td>2.615895</td>\n",
       "    </tr>\n",
       "    <tr>\n",
       "      <th>4</th>\n",
       "      <td>-1.315576</td>\n",
       "      <td>-1.825951</td>\n",
       "      <td>-0.153242</td>\n",
       "      <td>-0.086666</td>\n",
       "    </tr>\n",
       "  </tbody>\n",
       "</table>\n",
       "</div>"
      ],
      "text/plain": [
       "          A         B         C         D\n",
       "0  0.120633 -0.522080 -0.088524 -2.882929\n",
       "1 -0.975353 -0.311440  1.072484  0.348448\n",
       "2 -2.676358 -0.724147 -0.283065  1.268026\n",
       "3  0.492548 -1.230042  1.114379  2.615895\n",
       "4 -1.315576 -1.825951 -0.153242 -0.086666"
      ]
     },
     "execution_count": 9,
     "metadata": {},
     "output_type": "execute_result"
    }
   ],
   "source": [
    "df.head()"
   ]
  },
  {
   "cell_type": "code",
   "execution_count": 10,
   "metadata": {
    "collapsed": true
   },
   "outputs": [],
   "source": [
    "df2 = pd.DataFrame({'Category':['A','B','C'],'Values':[32,43,50]})"
   ]
  },
  {
   "cell_type": "code",
   "execution_count": 11,
   "metadata": {
    "collapsed": false
   },
   "outputs": [
    {
     "data": {
      "text/html": [
       "<div>\n",
       "<style scoped>\n",
       "    .dataframe tbody tr th:only-of-type {\n",
       "        vertical-align: middle;\n",
       "    }\n",
       "\n",
       "    .dataframe tbody tr th {\n",
       "        vertical-align: top;\n",
       "    }\n",
       "\n",
       "    .dataframe thead th {\n",
       "        text-align: right;\n",
       "    }\n",
       "</style>\n",
       "<table border=\"1\" class=\"dataframe\">\n",
       "  <thead>\n",
       "    <tr style=\"text-align: right;\">\n",
       "      <th></th>\n",
       "      <th>Category</th>\n",
       "      <th>Values</th>\n",
       "    </tr>\n",
       "  </thead>\n",
       "  <tbody>\n",
       "    <tr>\n",
       "      <th>0</th>\n",
       "      <td>A</td>\n",
       "      <td>32</td>\n",
       "    </tr>\n",
       "    <tr>\n",
       "      <th>1</th>\n",
       "      <td>B</td>\n",
       "      <td>43</td>\n",
       "    </tr>\n",
       "    <tr>\n",
       "      <th>2</th>\n",
       "      <td>C</td>\n",
       "      <td>50</td>\n",
       "    </tr>\n",
       "  </tbody>\n",
       "</table>\n",
       "</div>"
      ],
      "text/plain": [
       "  Category  Values\n",
       "0        A      32\n",
       "1        B      43\n",
       "2        C      50"
      ]
     },
     "execution_count": 11,
     "metadata": {},
     "output_type": "execute_result"
    }
   ],
   "source": [
    "df2.head()"
   ]
  },
  {
   "cell_type": "markdown",
   "metadata": {},
   "source": [
    "## Using Cufflinks and iplot()\n",
    "\n",
    "* scatter\n",
    "* bar\n",
    "* box\n",
    "* spread\n",
    "* ratio\n",
    "* heatmap\n",
    "* surface\n",
    "* histogram\n",
    "* bubble"
   ]
  },
  {
   "cell_type": "markdown",
   "metadata": {},
   "source": [
    "## Scatter"
   ]
  },
  {
   "cell_type": "code",
   "execution_count": 12,
   "metadata": {
    "collapsed": false
   },
   "outputs": [
    {
     "data": {
      "application/vnd.plotly.v1+json": {
       "config": {
        "linkText": "Export to plot.ly",
        "plotlyServerURL": "https://plot.ly",
        "showLink": true
       },
       "data": [
        {
         "line": {
          "color": "rgba(255, 153, 51, 1.0)",
          "dash": "solid",
          "shape": "linear",
          "width": 1.3
         },
         "marker": {
          "size": 10,
          "symbol": "circle"
         },
         "mode": "markers",
         "name": "B",
         "text": "",
         "type": "scatter",
         "x": [
          0.12063307993793361,
          -0.9753533300826948,
          -2.6763579724952478,
          0.4925482616402867,
          -1.3155762174963437,
          -0.9217912477793413,
          -0.4281288511836951,
          -0.0741095333382842,
          -0.3692088265632047,
          0.35277535814250177,
          -1.2316540713957096,
          -0.9813720181548536,
          -0.47010006603407345,
          -0.9756382227178094,
          -0.8715649349132115,
          -0.8173420824910456,
          -0.29952269396360204,
          1.6181557308102659,
          0.23461995230221297,
          -0.7300727916207131,
          -0.3244203020415168,
          1.3694792193594787,
          -1.1830985969539412,
          -0.6695712322864437,
          0.050300812786321834,
          1.036031284483547,
          0.1247331884526296,
          0.8612593921604814,
          -0.45189648057547976,
          -0.898337364398072,
          -0.6308497962480135,
          0.2495090999989929,
          0.611785806237333,
          -0.6494156327534888,
          1.0626583005146162,
          -0.6765149979610443,
          -0.8629222849427012,
          -0.4276817021646282,
          0.6989004308480385,
          0.6181170042687887,
          1.0505932458214589,
          -1.5983442369800216,
          0.9999863331004377,
          -0.6102895780299539,
          0.09795246638112484,
          -0.4385288540045722,
          -1.2123774307299526,
          -0.10202832053379358,
          1.0446774055922547,
          -1.5020525330486525,
          -0.337479573581759,
          0.19549105352603027,
          -0.07001083383244362,
          -0.44993406654047785,
          0.19182058873532176,
          -0.6732686807599063,
          0.6998273146365749,
          0.43016092779073634,
          1.600242286482051,
          0.6205651472739886,
          -1.2413108957504477,
          0.4319110171963078,
          2.079307316368707,
          0.15878224002809227,
          -0.4607271915720504,
          -1.795639248025241,
          -0.6253697528709673,
          1.465503456008871,
          -0.6621669846039352,
          -0.41103293808023034,
          1.5749238411721267,
          -2.1864561795949813,
          -0.4977776664624909,
          1.3853988617617512,
          -0.5129876095526238,
          -0.897283087487321,
          2.0986612052958025,
          -0.05035355878762703,
          0.03859935212065949,
          -2.181021788479176,
          1.1405184610429981,
          -0.658601302599404,
          0.5437139638452326,
          0.5223135093950999,
          2.3705411280177904,
          0.28454474083707143,
          1.4193227372132629,
          0.6507308823181396,
          0.1352940000072053,
          0.6523221390470338,
          -0.1031777953536062,
          -0.40840207673124784,
          0.7014536039135242,
          1.4910125606499636,
          -0.5187542098528161,
          -0.623292885529943,
          -0.02245147999377042,
          -0.44467364964177175,
          1.1375268851232159,
          0.0007559084429775664
         ],
         "y": [
          -0.522079700885799,
          -0.31144048082534775,
          -0.7241472605505641,
          -1.2300416300420594,
          -1.8259514993191461,
          0.08643067332288887,
          -0.6283151419454001,
          -1.2443686093861843,
          -1.505359284046377,
          -0.2909906645035104,
          2.4105090318814004,
          0.006445369976370312,
          -2.1350903995775115,
          -0.35677970863274977,
          2.665735533857099,
          0.21075148803133292,
          -1.477096928969249,
          -1.782247021906371,
          -0.1045020049367965,
          -0.8791025450878165,
          -0.8209774277057524,
          0.8175418726709417,
          -0.01252462004288382,
          0.9471130845989326,
          -0.7811646023115473,
          -0.4508891064134381,
          0.402968701853287,
          0.26988323235132583,
          0.29760155486874007,
          -0.5855154986981775,
          1.5665290787977386,
          -0.10604187433546194,
          1.7542538227020912,
          -0.4194429282036894,
          -0.6986056790450845,
          1.1653041671491604,
          0.7805924904980847,
          0.7078288402890757,
          0.7628913203145052,
          1.0038172992288839,
          -0.5993951364247309,
          -0.835625897075209,
          1.0250317477702606,
          -0.16680206921106913,
          0.5193460355361813,
          -0.3760153715147701,
          -0.09048636808925331,
          0.26840034393654744,
          -0.8752140619894638,
          1.2434346657594744,
          -1.040862850259558,
          -0.08318030099812591,
          1.1262077248215225,
          0.19091323327763102,
          -1.5581479965062561,
          1.5971093964125844,
          -1.4402128536648402,
          -1.3956727151928396,
          1.1499635991459776,
          -0.09614943989750462,
          0.7487131649604577,
          -1.859833599541245,
          -0.9682080674311809,
          -0.8083895310134205,
          0.07201517625696108,
          0.7003724874308773,
          0.3603434078366872,
          0.2927914903976886,
          -0.7190722328005713,
          -1.7126127758544523,
          -1.0089623624439557,
          -0.6332747090638846,
          -0.8859839233149006,
          0.3559550339077135,
          -3.060786815176108,
          0.0255005372731153,
          -1.16745831455643,
          -0.8771907956407784,
          1.2523862232883565,
          0.889884163871847,
          0.26199921668687814,
          -2.320689529863178,
          -1.0508154456053262,
          -0.36819100118589093,
          -2.52189205985639,
          -0.4081792384634467,
          -0.5715287779757289,
          -1.154308594072173,
          -0.1014768864365199,
          0.9034333621414394,
          0.18704522998111542,
          -0.770687484163319,
          1.5800506524826317,
          -2.0021988373340114,
          0.04406612466476638,
          0.3821163996133508,
          0.5646937296566823,
          -0.22207501230812823,
          -0.21342804668328857,
          -0.23999683873682087
         ]
        }
       ],
       "layout": {
        "legend": {
         "bgcolor": "#F5F6F9",
         "font": {
          "color": "#4D5663"
         }
        },
        "paper_bgcolor": "#F5F6F9",
        "plot_bgcolor": "#F5F6F9",
        "template": {
         "data": {
          "bar": [
           {
            "error_x": {
             "color": "#2a3f5f"
            },
            "error_y": {
             "color": "#2a3f5f"
            },
            "marker": {
             "line": {
              "color": "#E5ECF6",
              "width": 0.5
             },
             "pattern": {
              "fillmode": "overlay",
              "size": 10,
              "solidity": 0.2
             }
            },
            "type": "bar"
           }
          ],
          "barpolar": [
           {
            "marker": {
             "line": {
              "color": "#E5ECF6",
              "width": 0.5
             },
             "pattern": {
              "fillmode": "overlay",
              "size": 10,
              "solidity": 0.2
             }
            },
            "type": "barpolar"
           }
          ],
          "carpet": [
           {
            "aaxis": {
             "endlinecolor": "#2a3f5f",
             "gridcolor": "white",
             "linecolor": "white",
             "minorgridcolor": "white",
             "startlinecolor": "#2a3f5f"
            },
            "baxis": {
             "endlinecolor": "#2a3f5f",
             "gridcolor": "white",
             "linecolor": "white",
             "minorgridcolor": "white",
             "startlinecolor": "#2a3f5f"
            },
            "type": "carpet"
           }
          ],
          "choropleth": [
           {
            "colorbar": {
             "outlinewidth": 0,
             "ticks": ""
            },
            "type": "choropleth"
           }
          ],
          "contour": [
           {
            "colorbar": {
             "outlinewidth": 0,
             "ticks": ""
            },
            "colorscale": [
             [
              0,
              "#0d0887"
             ],
             [
              0.1111111111111111,
              "#46039f"
             ],
             [
              0.2222222222222222,
              "#7201a8"
             ],
             [
              0.3333333333333333,
              "#9c179e"
             ],
             [
              0.4444444444444444,
              "#bd3786"
             ],
             [
              0.5555555555555556,
              "#d8576b"
             ],
             [
              0.6666666666666666,
              "#ed7953"
             ],
             [
              0.7777777777777778,
              "#fb9f3a"
             ],
             [
              0.8888888888888888,
              "#fdca26"
             ],
             [
              1,
              "#f0f921"
             ]
            ],
            "type": "contour"
           }
          ],
          "contourcarpet": [
           {
            "colorbar": {
             "outlinewidth": 0,
             "ticks": ""
            },
            "type": "contourcarpet"
           }
          ],
          "heatmap": [
           {
            "colorbar": {
             "outlinewidth": 0,
             "ticks": ""
            },
            "colorscale": [
             [
              0,
              "#0d0887"
             ],
             [
              0.1111111111111111,
              "#46039f"
             ],
             [
              0.2222222222222222,
              "#7201a8"
             ],
             [
              0.3333333333333333,
              "#9c179e"
             ],
             [
              0.4444444444444444,
              "#bd3786"
             ],
             [
              0.5555555555555556,
              "#d8576b"
             ],
             [
              0.6666666666666666,
              "#ed7953"
             ],
             [
              0.7777777777777778,
              "#fb9f3a"
             ],
             [
              0.8888888888888888,
              "#fdca26"
             ],
             [
              1,
              "#f0f921"
             ]
            ],
            "type": "heatmap"
           }
          ],
          "heatmapgl": [
           {
            "colorbar": {
             "outlinewidth": 0,
             "ticks": ""
            },
            "colorscale": [
             [
              0,
              "#0d0887"
             ],
             [
              0.1111111111111111,
              "#46039f"
             ],
             [
              0.2222222222222222,
              "#7201a8"
             ],
             [
              0.3333333333333333,
              "#9c179e"
             ],
             [
              0.4444444444444444,
              "#bd3786"
             ],
             [
              0.5555555555555556,
              "#d8576b"
             ],
             [
              0.6666666666666666,
              "#ed7953"
             ],
             [
              0.7777777777777778,
              "#fb9f3a"
             ],
             [
              0.8888888888888888,
              "#fdca26"
             ],
             [
              1,
              "#f0f921"
             ]
            ],
            "type": "heatmapgl"
           }
          ],
          "histogram": [
           {
            "marker": {
             "pattern": {
              "fillmode": "overlay",
              "size": 10,
              "solidity": 0.2
             }
            },
            "type": "histogram"
           }
          ],
          "histogram2d": [
           {
            "colorbar": {
             "outlinewidth": 0,
             "ticks": ""
            },
            "colorscale": [
             [
              0,
              "#0d0887"
             ],
             [
              0.1111111111111111,
              "#46039f"
             ],
             [
              0.2222222222222222,
              "#7201a8"
             ],
             [
              0.3333333333333333,
              "#9c179e"
             ],
             [
              0.4444444444444444,
              "#bd3786"
             ],
             [
              0.5555555555555556,
              "#d8576b"
             ],
             [
              0.6666666666666666,
              "#ed7953"
             ],
             [
              0.7777777777777778,
              "#fb9f3a"
             ],
             [
              0.8888888888888888,
              "#fdca26"
             ],
             [
              1,
              "#f0f921"
             ]
            ],
            "type": "histogram2d"
           }
          ],
          "histogram2dcontour": [
           {
            "colorbar": {
             "outlinewidth": 0,
             "ticks": ""
            },
            "colorscale": [
             [
              0,
              "#0d0887"
             ],
             [
              0.1111111111111111,
              "#46039f"
             ],
             [
              0.2222222222222222,
              "#7201a8"
             ],
             [
              0.3333333333333333,
              "#9c179e"
             ],
             [
              0.4444444444444444,
              "#bd3786"
             ],
             [
              0.5555555555555556,
              "#d8576b"
             ],
             [
              0.6666666666666666,
              "#ed7953"
             ],
             [
              0.7777777777777778,
              "#fb9f3a"
             ],
             [
              0.8888888888888888,
              "#fdca26"
             ],
             [
              1,
              "#f0f921"
             ]
            ],
            "type": "histogram2dcontour"
           }
          ],
          "mesh3d": [
           {
            "colorbar": {
             "outlinewidth": 0,
             "ticks": ""
            },
            "type": "mesh3d"
           }
          ],
          "parcoords": [
           {
            "line": {
             "colorbar": {
              "outlinewidth": 0,
              "ticks": ""
             }
            },
            "type": "parcoords"
           }
          ],
          "pie": [
           {
            "automargin": true,
            "type": "pie"
           }
          ],
          "scatter": [
           {
            "marker": {
             "colorbar": {
              "outlinewidth": 0,
              "ticks": ""
             }
            },
            "type": "scatter"
           }
          ],
          "scatter3d": [
           {
            "line": {
             "colorbar": {
              "outlinewidth": 0,
              "ticks": ""
             }
            },
            "marker": {
             "colorbar": {
              "outlinewidth": 0,
              "ticks": ""
             }
            },
            "type": "scatter3d"
           }
          ],
          "scattercarpet": [
           {
            "marker": {
             "colorbar": {
              "outlinewidth": 0,
              "ticks": ""
             }
            },
            "type": "scattercarpet"
           }
          ],
          "scattergeo": [
           {
            "marker": {
             "colorbar": {
              "outlinewidth": 0,
              "ticks": ""
             }
            },
            "type": "scattergeo"
           }
          ],
          "scattergl": [
           {
            "marker": {
             "colorbar": {
              "outlinewidth": 0,
              "ticks": ""
             }
            },
            "type": "scattergl"
           }
          ],
          "scattermapbox": [
           {
            "marker": {
             "colorbar": {
              "outlinewidth": 0,
              "ticks": ""
             }
            },
            "type": "scattermapbox"
           }
          ],
          "scatterpolar": [
           {
            "marker": {
             "colorbar": {
              "outlinewidth": 0,
              "ticks": ""
             }
            },
            "type": "scatterpolar"
           }
          ],
          "scatterpolargl": [
           {
            "marker": {
             "colorbar": {
              "outlinewidth": 0,
              "ticks": ""
             }
            },
            "type": "scatterpolargl"
           }
          ],
          "scatterternary": [
           {
            "marker": {
             "colorbar": {
              "outlinewidth": 0,
              "ticks": ""
             }
            },
            "type": "scatterternary"
           }
          ],
          "surface": [
           {
            "colorbar": {
             "outlinewidth": 0,
             "ticks": ""
            },
            "colorscale": [
             [
              0,
              "#0d0887"
             ],
             [
              0.1111111111111111,
              "#46039f"
             ],
             [
              0.2222222222222222,
              "#7201a8"
             ],
             [
              0.3333333333333333,
              "#9c179e"
             ],
             [
              0.4444444444444444,
              "#bd3786"
             ],
             [
              0.5555555555555556,
              "#d8576b"
             ],
             [
              0.6666666666666666,
              "#ed7953"
             ],
             [
              0.7777777777777778,
              "#fb9f3a"
             ],
             [
              0.8888888888888888,
              "#fdca26"
             ],
             [
              1,
              "#f0f921"
             ]
            ],
            "type": "surface"
           }
          ],
          "table": [
           {
            "cells": {
             "fill": {
              "color": "#EBF0F8"
             },
             "line": {
              "color": "white"
             }
            },
            "header": {
             "fill": {
              "color": "#C8D4E3"
             },
             "line": {
              "color": "white"
             }
            },
            "type": "table"
           }
          ]
         },
         "layout": {
          "annotationdefaults": {
           "arrowcolor": "#2a3f5f",
           "arrowhead": 0,
           "arrowwidth": 1
          },
          "autotypenumbers": "strict",
          "coloraxis": {
           "colorbar": {
            "outlinewidth": 0,
            "ticks": ""
           }
          },
          "colorscale": {
           "diverging": [
            [
             0,
             "#8e0152"
            ],
            [
             0.1,
             "#c51b7d"
            ],
            [
             0.2,
             "#de77ae"
            ],
            [
             0.3,
             "#f1b6da"
            ],
            [
             0.4,
             "#fde0ef"
            ],
            [
             0.5,
             "#f7f7f7"
            ],
            [
             0.6,
             "#e6f5d0"
            ],
            [
             0.7,
             "#b8e186"
            ],
            [
             0.8,
             "#7fbc41"
            ],
            [
             0.9,
             "#4d9221"
            ],
            [
             1,
             "#276419"
            ]
           ],
           "sequential": [
            [
             0,
             "#0d0887"
            ],
            [
             0.1111111111111111,
             "#46039f"
            ],
            [
             0.2222222222222222,
             "#7201a8"
            ],
            [
             0.3333333333333333,
             "#9c179e"
            ],
            [
             0.4444444444444444,
             "#bd3786"
            ],
            [
             0.5555555555555556,
             "#d8576b"
            ],
            [
             0.6666666666666666,
             "#ed7953"
            ],
            [
             0.7777777777777778,
             "#fb9f3a"
            ],
            [
             0.8888888888888888,
             "#fdca26"
            ],
            [
             1,
             "#f0f921"
            ]
           ],
           "sequentialminus": [
            [
             0,
             "#0d0887"
            ],
            [
             0.1111111111111111,
             "#46039f"
            ],
            [
             0.2222222222222222,
             "#7201a8"
            ],
            [
             0.3333333333333333,
             "#9c179e"
            ],
            [
             0.4444444444444444,
             "#bd3786"
            ],
            [
             0.5555555555555556,
             "#d8576b"
            ],
            [
             0.6666666666666666,
             "#ed7953"
            ],
            [
             0.7777777777777778,
             "#fb9f3a"
            ],
            [
             0.8888888888888888,
             "#fdca26"
            ],
            [
             1,
             "#f0f921"
            ]
           ]
          },
          "colorway": [
           "#636efa",
           "#EF553B",
           "#00cc96",
           "#ab63fa",
           "#FFA15A",
           "#19d3f3",
           "#FF6692",
           "#B6E880",
           "#FF97FF",
           "#FECB52"
          ],
          "font": {
           "color": "#2a3f5f"
          },
          "geo": {
           "bgcolor": "white",
           "lakecolor": "white",
           "landcolor": "#E5ECF6",
           "showlakes": true,
           "showland": true,
           "subunitcolor": "white"
          },
          "hoverlabel": {
           "align": "left"
          },
          "hovermode": "closest",
          "mapbox": {
           "style": "light"
          },
          "paper_bgcolor": "white",
          "plot_bgcolor": "#E5ECF6",
          "polar": {
           "angularaxis": {
            "gridcolor": "white",
            "linecolor": "white",
            "ticks": ""
           },
           "bgcolor": "#E5ECF6",
           "radialaxis": {
            "gridcolor": "white",
            "linecolor": "white",
            "ticks": ""
           }
          },
          "scene": {
           "xaxis": {
            "backgroundcolor": "#E5ECF6",
            "gridcolor": "white",
            "gridwidth": 2,
            "linecolor": "white",
            "showbackground": true,
            "ticks": "",
            "zerolinecolor": "white"
           },
           "yaxis": {
            "backgroundcolor": "#E5ECF6",
            "gridcolor": "white",
            "gridwidth": 2,
            "linecolor": "white",
            "showbackground": true,
            "ticks": "",
            "zerolinecolor": "white"
           },
           "zaxis": {
            "backgroundcolor": "#E5ECF6",
            "gridcolor": "white",
            "gridwidth": 2,
            "linecolor": "white",
            "showbackground": true,
            "ticks": "",
            "zerolinecolor": "white"
           }
          },
          "shapedefaults": {
           "line": {
            "color": "#2a3f5f"
           }
          },
          "ternary": {
           "aaxis": {
            "gridcolor": "white",
            "linecolor": "white",
            "ticks": ""
           },
           "baxis": {
            "gridcolor": "white",
            "linecolor": "white",
            "ticks": ""
           },
           "bgcolor": "#E5ECF6",
           "caxis": {
            "gridcolor": "white",
            "linecolor": "white",
            "ticks": ""
           }
          },
          "title": {
           "x": 0.05
          },
          "xaxis": {
           "automargin": true,
           "gridcolor": "white",
           "linecolor": "white",
           "ticks": "",
           "title": {
            "standoff": 15
           },
           "zerolinecolor": "white",
           "zerolinewidth": 2
          },
          "yaxis": {
           "automargin": true,
           "gridcolor": "white",
           "linecolor": "white",
           "ticks": "",
           "title": {
            "standoff": 15
           },
           "zerolinecolor": "white",
           "zerolinewidth": 2
          }
         }
        },
        "title": {
         "font": {
          "color": "#4D5663"
         }
        },
        "xaxis": {
         "gridcolor": "#E1E5ED",
         "showgrid": true,
         "tickfont": {
          "color": "#4D5663"
         },
         "title": {
          "font": {
           "color": "#4D5663"
          },
          "text": ""
         },
         "zerolinecolor": "#E1E5ED"
        },
        "yaxis": {
         "gridcolor": "#E1E5ED",
         "showgrid": true,
         "tickfont": {
          "color": "#4D5663"
         },
         "title": {
          "font": {
           "color": "#4D5663"
          },
          "text": ""
         },
         "zerolinecolor": "#E1E5ED"
        }
       }
      },
      "text/html": [
       "<div>                            <div id=\"3664abd8-3f39-41cb-9905-2d2498771b3e\" class=\"plotly-graph-div\" style=\"height:525px; width:100%;\"></div>            <script type=\"text/javascript\">                require([\"plotly\"], function(Plotly) {                    window.PLOTLYENV=window.PLOTLYENV || {};\n",
       "                    window.PLOTLYENV.BASE_URL='https://plot.ly';                                    if (document.getElementById(\"3664abd8-3f39-41cb-9905-2d2498771b3e\")) {                    Plotly.newPlot(                        \"3664abd8-3f39-41cb-9905-2d2498771b3e\",                        [{\"line\":{\"color\":\"rgba(255, 153, 51, 1.0)\",\"dash\":\"solid\",\"shape\":\"linear\",\"width\":1.3},\"marker\":{\"size\":10,\"symbol\":\"circle\"},\"mode\":\"markers\",\"name\":\"B\",\"text\":\"\",\"x\":[0.12063307993793361,-0.9753533300826948,-2.6763579724952478,0.4925482616402867,-1.3155762174963437,-0.9217912477793413,-0.4281288511836951,-0.0741095333382842,-0.3692088265632047,0.35277535814250177,-1.2316540713957096,-0.9813720181548536,-0.47010006603407345,-0.9756382227178094,-0.8715649349132115,-0.8173420824910456,-0.29952269396360204,1.6181557308102659,0.23461995230221297,-0.7300727916207131,-0.3244203020415168,1.3694792193594787,-1.1830985969539412,-0.6695712322864437,0.050300812786321834,1.036031284483547,0.1247331884526296,0.8612593921604814,-0.45189648057547976,-0.898337364398072,-0.6308497962480135,0.2495090999989929,0.611785806237333,-0.6494156327534888,1.0626583005146162,-0.6765149979610443,-0.8629222849427012,-0.4276817021646282,0.6989004308480385,0.6181170042687887,1.0505932458214589,-1.5983442369800216,0.9999863331004377,-0.6102895780299539,0.09795246638112484,-0.4385288540045722,-1.2123774307299526,-0.10202832053379358,1.0446774055922547,-1.5020525330486525,-0.337479573581759,0.19549105352603027,-0.07001083383244362,-0.44993406654047785,0.19182058873532176,-0.6732686807599063,0.6998273146365749,0.43016092779073634,1.600242286482051,0.6205651472739886,-1.2413108957504477,0.4319110171963078,2.079307316368707,0.15878224002809227,-0.4607271915720504,-1.795639248025241,-0.6253697528709673,1.465503456008871,-0.6621669846039352,-0.41103293808023034,1.5749238411721267,-2.1864561795949813,-0.4977776664624909,1.3853988617617512,-0.5129876095526238,-0.897283087487321,2.0986612052958025,-0.05035355878762703,0.03859935212065949,-2.181021788479176,1.1405184610429981,-0.658601302599404,0.5437139638452326,0.5223135093950999,2.3705411280177904,0.28454474083707143,1.4193227372132629,0.6507308823181396,0.1352940000072053,0.6523221390470338,-0.1031777953536062,-0.40840207673124784,0.7014536039135242,1.4910125606499636,-0.5187542098528161,-0.623292885529943,-0.02245147999377042,-0.44467364964177175,1.1375268851232159,0.0007559084429775664],\"y\":[-0.522079700885799,-0.31144048082534775,-0.7241472605505641,-1.2300416300420594,-1.8259514993191461,0.08643067332288887,-0.6283151419454001,-1.2443686093861843,-1.505359284046377,-0.2909906645035104,2.4105090318814004,0.006445369976370312,-2.1350903995775115,-0.35677970863274977,2.665735533857099,0.21075148803133292,-1.477096928969249,-1.782247021906371,-0.1045020049367965,-0.8791025450878165,-0.8209774277057524,0.8175418726709417,-0.01252462004288382,0.9471130845989326,-0.7811646023115473,-0.4508891064134381,0.402968701853287,0.26988323235132583,0.29760155486874007,-0.5855154986981775,1.5665290787977386,-0.10604187433546194,1.7542538227020912,-0.4194429282036894,-0.6986056790450845,1.1653041671491604,0.7805924904980847,0.7078288402890757,0.7628913203145052,1.0038172992288839,-0.5993951364247309,-0.835625897075209,1.0250317477702606,-0.16680206921106913,0.5193460355361813,-0.3760153715147701,-0.09048636808925331,0.26840034393654744,-0.8752140619894638,1.2434346657594744,-1.040862850259558,-0.08318030099812591,1.1262077248215225,0.19091323327763102,-1.5581479965062561,1.5971093964125844,-1.4402128536648402,-1.3956727151928396,1.1499635991459776,-0.09614943989750462,0.7487131649604577,-1.859833599541245,-0.9682080674311809,-0.8083895310134205,0.07201517625696108,0.7003724874308773,0.3603434078366872,0.2927914903976886,-0.7190722328005713,-1.7126127758544523,-1.0089623624439557,-0.6332747090638846,-0.8859839233149006,0.3559550339077135,-3.060786815176108,0.0255005372731153,-1.16745831455643,-0.8771907956407784,1.2523862232883565,0.889884163871847,0.26199921668687814,-2.320689529863178,-1.0508154456053262,-0.36819100118589093,-2.52189205985639,-0.4081792384634467,-0.5715287779757289,-1.154308594072173,-0.1014768864365199,0.9034333621414394,0.18704522998111542,-0.770687484163319,1.5800506524826317,-2.0021988373340114,0.04406612466476638,0.3821163996133508,0.5646937296566823,-0.22207501230812823,-0.21342804668328857,-0.23999683873682087],\"type\":\"scatter\"}],                        {\"legend\":{\"bgcolor\":\"#F5F6F9\",\"font\":{\"color\":\"#4D5663\"}},\"paper_bgcolor\":\"#F5F6F9\",\"plot_bgcolor\":\"#F5F6F9\",\"template\":{\"data\":{\"barpolar\":[{\"marker\":{\"line\":{\"color\":\"#E5ECF6\",\"width\":0.5},\"pattern\":{\"fillmode\":\"overlay\",\"size\":10,\"solidity\":0.2}},\"type\":\"barpolar\"}],\"bar\":[{\"error_x\":{\"color\":\"#2a3f5f\"},\"error_y\":{\"color\":\"#2a3f5f\"},\"marker\":{\"line\":{\"color\":\"#E5ECF6\",\"width\":0.5},\"pattern\":{\"fillmode\":\"overlay\",\"size\":10,\"solidity\":0.2}},\"type\":\"bar\"}],\"carpet\":[{\"aaxis\":{\"endlinecolor\":\"#2a3f5f\",\"gridcolor\":\"white\",\"linecolor\":\"white\",\"minorgridcolor\":\"white\",\"startlinecolor\":\"#2a3f5f\"},\"baxis\":{\"endlinecolor\":\"#2a3f5f\",\"gridcolor\":\"white\",\"linecolor\":\"white\",\"minorgridcolor\":\"white\",\"startlinecolor\":\"#2a3f5f\"},\"type\":\"carpet\"}],\"choropleth\":[{\"colorbar\":{\"outlinewidth\":0,\"ticks\":\"\"},\"type\":\"choropleth\"}],\"contourcarpet\":[{\"colorbar\":{\"outlinewidth\":0,\"ticks\":\"\"},\"type\":\"contourcarpet\"}],\"contour\":[{\"colorbar\":{\"outlinewidth\":0,\"ticks\":\"\"},\"colorscale\":[[0.0,\"#0d0887\"],[0.1111111111111111,\"#46039f\"],[0.2222222222222222,\"#7201a8\"],[0.3333333333333333,\"#9c179e\"],[0.4444444444444444,\"#bd3786\"],[0.5555555555555556,\"#d8576b\"],[0.6666666666666666,\"#ed7953\"],[0.7777777777777778,\"#fb9f3a\"],[0.8888888888888888,\"#fdca26\"],[1.0,\"#f0f921\"]],\"type\":\"contour\"}],\"heatmapgl\":[{\"colorbar\":{\"outlinewidth\":0,\"ticks\":\"\"},\"colorscale\":[[0.0,\"#0d0887\"],[0.1111111111111111,\"#46039f\"],[0.2222222222222222,\"#7201a8\"],[0.3333333333333333,\"#9c179e\"],[0.4444444444444444,\"#bd3786\"],[0.5555555555555556,\"#d8576b\"],[0.6666666666666666,\"#ed7953\"],[0.7777777777777778,\"#fb9f3a\"],[0.8888888888888888,\"#fdca26\"],[1.0,\"#f0f921\"]],\"type\":\"heatmapgl\"}],\"heatmap\":[{\"colorbar\":{\"outlinewidth\":0,\"ticks\":\"\"},\"colorscale\":[[0.0,\"#0d0887\"],[0.1111111111111111,\"#46039f\"],[0.2222222222222222,\"#7201a8\"],[0.3333333333333333,\"#9c179e\"],[0.4444444444444444,\"#bd3786\"],[0.5555555555555556,\"#d8576b\"],[0.6666666666666666,\"#ed7953\"],[0.7777777777777778,\"#fb9f3a\"],[0.8888888888888888,\"#fdca26\"],[1.0,\"#f0f921\"]],\"type\":\"heatmap\"}],\"histogram2dcontour\":[{\"colorbar\":{\"outlinewidth\":0,\"ticks\":\"\"},\"colorscale\":[[0.0,\"#0d0887\"],[0.1111111111111111,\"#46039f\"],[0.2222222222222222,\"#7201a8\"],[0.3333333333333333,\"#9c179e\"],[0.4444444444444444,\"#bd3786\"],[0.5555555555555556,\"#d8576b\"],[0.6666666666666666,\"#ed7953\"],[0.7777777777777778,\"#fb9f3a\"],[0.8888888888888888,\"#fdca26\"],[1.0,\"#f0f921\"]],\"type\":\"histogram2dcontour\"}],\"histogram2d\":[{\"colorbar\":{\"outlinewidth\":0,\"ticks\":\"\"},\"colorscale\":[[0.0,\"#0d0887\"],[0.1111111111111111,\"#46039f\"],[0.2222222222222222,\"#7201a8\"],[0.3333333333333333,\"#9c179e\"],[0.4444444444444444,\"#bd3786\"],[0.5555555555555556,\"#d8576b\"],[0.6666666666666666,\"#ed7953\"],[0.7777777777777778,\"#fb9f3a\"],[0.8888888888888888,\"#fdca26\"],[1.0,\"#f0f921\"]],\"type\":\"histogram2d\"}],\"histogram\":[{\"marker\":{\"pattern\":{\"fillmode\":\"overlay\",\"size\":10,\"solidity\":0.2}},\"type\":\"histogram\"}],\"mesh3d\":[{\"colorbar\":{\"outlinewidth\":0,\"ticks\":\"\"},\"type\":\"mesh3d\"}],\"parcoords\":[{\"line\":{\"colorbar\":{\"outlinewidth\":0,\"ticks\":\"\"}},\"type\":\"parcoords\"}],\"pie\":[{\"automargin\":true,\"type\":\"pie\"}],\"scatter3d\":[{\"line\":{\"colorbar\":{\"outlinewidth\":0,\"ticks\":\"\"}},\"marker\":{\"colorbar\":{\"outlinewidth\":0,\"ticks\":\"\"}},\"type\":\"scatter3d\"}],\"scattercarpet\":[{\"marker\":{\"colorbar\":{\"outlinewidth\":0,\"ticks\":\"\"}},\"type\":\"scattercarpet\"}],\"scattergeo\":[{\"marker\":{\"colorbar\":{\"outlinewidth\":0,\"ticks\":\"\"}},\"type\":\"scattergeo\"}],\"scattergl\":[{\"marker\":{\"colorbar\":{\"outlinewidth\":0,\"ticks\":\"\"}},\"type\":\"scattergl\"}],\"scattermapbox\":[{\"marker\":{\"colorbar\":{\"outlinewidth\":0,\"ticks\":\"\"}},\"type\":\"scattermapbox\"}],\"scatterpolargl\":[{\"marker\":{\"colorbar\":{\"outlinewidth\":0,\"ticks\":\"\"}},\"type\":\"scatterpolargl\"}],\"scatterpolar\":[{\"marker\":{\"colorbar\":{\"outlinewidth\":0,\"ticks\":\"\"}},\"type\":\"scatterpolar\"}],\"scatter\":[{\"marker\":{\"colorbar\":{\"outlinewidth\":0,\"ticks\":\"\"}},\"type\":\"scatter\"}],\"scatterternary\":[{\"marker\":{\"colorbar\":{\"outlinewidth\":0,\"ticks\":\"\"}},\"type\":\"scatterternary\"}],\"surface\":[{\"colorbar\":{\"outlinewidth\":0,\"ticks\":\"\"},\"colorscale\":[[0.0,\"#0d0887\"],[0.1111111111111111,\"#46039f\"],[0.2222222222222222,\"#7201a8\"],[0.3333333333333333,\"#9c179e\"],[0.4444444444444444,\"#bd3786\"],[0.5555555555555556,\"#d8576b\"],[0.6666666666666666,\"#ed7953\"],[0.7777777777777778,\"#fb9f3a\"],[0.8888888888888888,\"#fdca26\"],[1.0,\"#f0f921\"]],\"type\":\"surface\"}],\"table\":[{\"cells\":{\"fill\":{\"color\":\"#EBF0F8\"},\"line\":{\"color\":\"white\"}},\"header\":{\"fill\":{\"color\":\"#C8D4E3\"},\"line\":{\"color\":\"white\"}},\"type\":\"table\"}]},\"layout\":{\"annotationdefaults\":{\"arrowcolor\":\"#2a3f5f\",\"arrowhead\":0,\"arrowwidth\":1},\"autotypenumbers\":\"strict\",\"coloraxis\":{\"colorbar\":{\"outlinewidth\":0,\"ticks\":\"\"}},\"colorscale\":{\"diverging\":[[0,\"#8e0152\"],[0.1,\"#c51b7d\"],[0.2,\"#de77ae\"],[0.3,\"#f1b6da\"],[0.4,\"#fde0ef\"],[0.5,\"#f7f7f7\"],[0.6,\"#e6f5d0\"],[0.7,\"#b8e186\"],[0.8,\"#7fbc41\"],[0.9,\"#4d9221\"],[1,\"#276419\"]],\"sequential\":[[0.0,\"#0d0887\"],[0.1111111111111111,\"#46039f\"],[0.2222222222222222,\"#7201a8\"],[0.3333333333333333,\"#9c179e\"],[0.4444444444444444,\"#bd3786\"],[0.5555555555555556,\"#d8576b\"],[0.6666666666666666,\"#ed7953\"],[0.7777777777777778,\"#fb9f3a\"],[0.8888888888888888,\"#fdca26\"],[1.0,\"#f0f921\"]],\"sequentialminus\":[[0.0,\"#0d0887\"],[0.1111111111111111,\"#46039f\"],[0.2222222222222222,\"#7201a8\"],[0.3333333333333333,\"#9c179e\"],[0.4444444444444444,\"#bd3786\"],[0.5555555555555556,\"#d8576b\"],[0.6666666666666666,\"#ed7953\"],[0.7777777777777778,\"#fb9f3a\"],[0.8888888888888888,\"#fdca26\"],[1.0,\"#f0f921\"]]},\"colorway\":[\"#636efa\",\"#EF553B\",\"#00cc96\",\"#ab63fa\",\"#FFA15A\",\"#19d3f3\",\"#FF6692\",\"#B6E880\",\"#FF97FF\",\"#FECB52\"],\"font\":{\"color\":\"#2a3f5f\"},\"geo\":{\"bgcolor\":\"white\",\"lakecolor\":\"white\",\"landcolor\":\"#E5ECF6\",\"showlakes\":true,\"showland\":true,\"subunitcolor\":\"white\"},\"hoverlabel\":{\"align\":\"left\"},\"hovermode\":\"closest\",\"mapbox\":{\"style\":\"light\"},\"paper_bgcolor\":\"white\",\"plot_bgcolor\":\"#E5ECF6\",\"polar\":{\"angularaxis\":{\"gridcolor\":\"white\",\"linecolor\":\"white\",\"ticks\":\"\"},\"bgcolor\":\"#E5ECF6\",\"radialaxis\":{\"gridcolor\":\"white\",\"linecolor\":\"white\",\"ticks\":\"\"}},\"scene\":{\"xaxis\":{\"backgroundcolor\":\"#E5ECF6\",\"gridcolor\":\"white\",\"gridwidth\":2,\"linecolor\":\"white\",\"showbackground\":true,\"ticks\":\"\",\"zerolinecolor\":\"white\"},\"yaxis\":{\"backgroundcolor\":\"#E5ECF6\",\"gridcolor\":\"white\",\"gridwidth\":2,\"linecolor\":\"white\",\"showbackground\":true,\"ticks\":\"\",\"zerolinecolor\":\"white\"},\"zaxis\":{\"backgroundcolor\":\"#E5ECF6\",\"gridcolor\":\"white\",\"gridwidth\":2,\"linecolor\":\"white\",\"showbackground\":true,\"ticks\":\"\",\"zerolinecolor\":\"white\"}},\"shapedefaults\":{\"line\":{\"color\":\"#2a3f5f\"}},\"ternary\":{\"aaxis\":{\"gridcolor\":\"white\",\"linecolor\":\"white\",\"ticks\":\"\"},\"baxis\":{\"gridcolor\":\"white\",\"linecolor\":\"white\",\"ticks\":\"\"},\"bgcolor\":\"#E5ECF6\",\"caxis\":{\"gridcolor\":\"white\",\"linecolor\":\"white\",\"ticks\":\"\"}},\"title\":{\"x\":0.05},\"xaxis\":{\"automargin\":true,\"gridcolor\":\"white\",\"linecolor\":\"white\",\"ticks\":\"\",\"title\":{\"standoff\":15},\"zerolinecolor\":\"white\",\"zerolinewidth\":2},\"yaxis\":{\"automargin\":true,\"gridcolor\":\"white\",\"linecolor\":\"white\",\"ticks\":\"\",\"title\":{\"standoff\":15},\"zerolinecolor\":\"white\",\"zerolinewidth\":2}}},\"title\":{\"font\":{\"color\":\"#4D5663\"}},\"xaxis\":{\"gridcolor\":\"#E1E5ED\",\"showgrid\":true,\"tickfont\":{\"color\":\"#4D5663\"},\"title\":{\"font\":{\"color\":\"#4D5663\"},\"text\":\"\"},\"zerolinecolor\":\"#E1E5ED\"},\"yaxis\":{\"gridcolor\":\"#E1E5ED\",\"showgrid\":true,\"tickfont\":{\"color\":\"#4D5663\"},\"title\":{\"font\":{\"color\":\"#4D5663\"},\"text\":\"\"},\"zerolinecolor\":\"#E1E5ED\"}},                        {\"showLink\": true, \"linkText\": \"Export to plot.ly\", \"plotlyServerURL\": \"https://plot.ly\", \"responsive\": true}                    ).then(function(){\n",
       "                            \n",
       "var gd = document.getElementById('3664abd8-3f39-41cb-9905-2d2498771b3e');\n",
       "var x = new MutationObserver(function (mutations, observer) {{\n",
       "        var display = window.getComputedStyle(gd).display;\n",
       "        if (!display || display === 'none') {{\n",
       "            console.log([gd, 'removed!']);\n",
       "            Plotly.purge(gd);\n",
       "            observer.disconnect();\n",
       "        }}\n",
       "}});\n",
       "\n",
       "// Listen for the removal of the full notebook cells\n",
       "var notebookContainer = gd.closest('#notebook-container');\n",
       "if (notebookContainer) {{\n",
       "    x.observe(notebookContainer, {childList: true});\n",
       "}}\n",
       "\n",
       "// Listen for the clearing of the current output cell\n",
       "var outputEl = gd.closest('.output');\n",
       "if (outputEl) {{\n",
       "    x.observe(outputEl, {childList: true});\n",
       "}}\n",
       "\n",
       "                        })                };                });            </script>        </div>"
      ]
     },
     "metadata": {},
     "output_type": "display_data"
    }
   ],
   "source": [
    "df.iplot(kind='scatter',x='A',y='B',mode='markers',size=10)"
   ]
  },
  {
   "cell_type": "markdown",
   "metadata": {},
   "source": [
    "## Bar Plots"
   ]
  },
  {
   "cell_type": "code",
   "execution_count": 13,
   "metadata": {
    "collapsed": false
   },
   "outputs": [
    {
     "data": {
      "application/vnd.plotly.v1+json": {
       "config": {
        "linkText": "Export to plot.ly",
        "plotlyServerURL": "https://plot.ly",
        "showLink": true
       },
       "data": [
        {
         "marker": {
          "color": "rgba(255, 153, 51, 0.6)",
          "line": {
           "color": "rgba(255, 153, 51, 1.0)",
           "width": 1
          }
         },
         "name": "Values",
         "orientation": "v",
         "text": "",
         "type": "bar",
         "x": [
          "A",
          "B",
          "C"
         ],
         "y": [
          32,
          43,
          50
         ]
        }
       ],
       "layout": {
        "legend": {
         "bgcolor": "#F5F6F9",
         "font": {
          "color": "#4D5663"
         }
        },
        "paper_bgcolor": "#F5F6F9",
        "plot_bgcolor": "#F5F6F9",
        "template": {
         "data": {
          "bar": [
           {
            "error_x": {
             "color": "#2a3f5f"
            },
            "error_y": {
             "color": "#2a3f5f"
            },
            "marker": {
             "line": {
              "color": "#E5ECF6",
              "width": 0.5
             },
             "pattern": {
              "fillmode": "overlay",
              "size": 10,
              "solidity": 0.2
             }
            },
            "type": "bar"
           }
          ],
          "barpolar": [
           {
            "marker": {
             "line": {
              "color": "#E5ECF6",
              "width": 0.5
             },
             "pattern": {
              "fillmode": "overlay",
              "size": 10,
              "solidity": 0.2
             }
            },
            "type": "barpolar"
           }
          ],
          "carpet": [
           {
            "aaxis": {
             "endlinecolor": "#2a3f5f",
             "gridcolor": "white",
             "linecolor": "white",
             "minorgridcolor": "white",
             "startlinecolor": "#2a3f5f"
            },
            "baxis": {
             "endlinecolor": "#2a3f5f",
             "gridcolor": "white",
             "linecolor": "white",
             "minorgridcolor": "white",
             "startlinecolor": "#2a3f5f"
            },
            "type": "carpet"
           }
          ],
          "choropleth": [
           {
            "colorbar": {
             "outlinewidth": 0,
             "ticks": ""
            },
            "type": "choropleth"
           }
          ],
          "contour": [
           {
            "colorbar": {
             "outlinewidth": 0,
             "ticks": ""
            },
            "colorscale": [
             [
              0,
              "#0d0887"
             ],
             [
              0.1111111111111111,
              "#46039f"
             ],
             [
              0.2222222222222222,
              "#7201a8"
             ],
             [
              0.3333333333333333,
              "#9c179e"
             ],
             [
              0.4444444444444444,
              "#bd3786"
             ],
             [
              0.5555555555555556,
              "#d8576b"
             ],
             [
              0.6666666666666666,
              "#ed7953"
             ],
             [
              0.7777777777777778,
              "#fb9f3a"
             ],
             [
              0.8888888888888888,
              "#fdca26"
             ],
             [
              1,
              "#f0f921"
             ]
            ],
            "type": "contour"
           }
          ],
          "contourcarpet": [
           {
            "colorbar": {
             "outlinewidth": 0,
             "ticks": ""
            },
            "type": "contourcarpet"
           }
          ],
          "heatmap": [
           {
            "colorbar": {
             "outlinewidth": 0,
             "ticks": ""
            },
            "colorscale": [
             [
              0,
              "#0d0887"
             ],
             [
              0.1111111111111111,
              "#46039f"
             ],
             [
              0.2222222222222222,
              "#7201a8"
             ],
             [
              0.3333333333333333,
              "#9c179e"
             ],
             [
              0.4444444444444444,
              "#bd3786"
             ],
             [
              0.5555555555555556,
              "#d8576b"
             ],
             [
              0.6666666666666666,
              "#ed7953"
             ],
             [
              0.7777777777777778,
              "#fb9f3a"
             ],
             [
              0.8888888888888888,
              "#fdca26"
             ],
             [
              1,
              "#f0f921"
             ]
            ],
            "type": "heatmap"
           }
          ],
          "heatmapgl": [
           {
            "colorbar": {
             "outlinewidth": 0,
             "ticks": ""
            },
            "colorscale": [
             [
              0,
              "#0d0887"
             ],
             [
              0.1111111111111111,
              "#46039f"
             ],
             [
              0.2222222222222222,
              "#7201a8"
             ],
             [
              0.3333333333333333,
              "#9c179e"
             ],
             [
              0.4444444444444444,
              "#bd3786"
             ],
             [
              0.5555555555555556,
              "#d8576b"
             ],
             [
              0.6666666666666666,
              "#ed7953"
             ],
             [
              0.7777777777777778,
              "#fb9f3a"
             ],
             [
              0.8888888888888888,
              "#fdca26"
             ],
             [
              1,
              "#f0f921"
             ]
            ],
            "type": "heatmapgl"
           }
          ],
          "histogram": [
           {
            "marker": {
             "pattern": {
              "fillmode": "overlay",
              "size": 10,
              "solidity": 0.2
             }
            },
            "type": "histogram"
           }
          ],
          "histogram2d": [
           {
            "colorbar": {
             "outlinewidth": 0,
             "ticks": ""
            },
            "colorscale": [
             [
              0,
              "#0d0887"
             ],
             [
              0.1111111111111111,
              "#46039f"
             ],
             [
              0.2222222222222222,
              "#7201a8"
             ],
             [
              0.3333333333333333,
              "#9c179e"
             ],
             [
              0.4444444444444444,
              "#bd3786"
             ],
             [
              0.5555555555555556,
              "#d8576b"
             ],
             [
              0.6666666666666666,
              "#ed7953"
             ],
             [
              0.7777777777777778,
              "#fb9f3a"
             ],
             [
              0.8888888888888888,
              "#fdca26"
             ],
             [
              1,
              "#f0f921"
             ]
            ],
            "type": "histogram2d"
           }
          ],
          "histogram2dcontour": [
           {
            "colorbar": {
             "outlinewidth": 0,
             "ticks": ""
            },
            "colorscale": [
             [
              0,
              "#0d0887"
             ],
             [
              0.1111111111111111,
              "#46039f"
             ],
             [
              0.2222222222222222,
              "#7201a8"
             ],
             [
              0.3333333333333333,
              "#9c179e"
             ],
             [
              0.4444444444444444,
              "#bd3786"
             ],
             [
              0.5555555555555556,
              "#d8576b"
             ],
             [
              0.6666666666666666,
              "#ed7953"
             ],
             [
              0.7777777777777778,
              "#fb9f3a"
             ],
             [
              0.8888888888888888,
              "#fdca26"
             ],
             [
              1,
              "#f0f921"
             ]
            ],
            "type": "histogram2dcontour"
           }
          ],
          "mesh3d": [
           {
            "colorbar": {
             "outlinewidth": 0,
             "ticks": ""
            },
            "type": "mesh3d"
           }
          ],
          "parcoords": [
           {
            "line": {
             "colorbar": {
              "outlinewidth": 0,
              "ticks": ""
             }
            },
            "type": "parcoords"
           }
          ],
          "pie": [
           {
            "automargin": true,
            "type": "pie"
           }
          ],
          "scatter": [
           {
            "marker": {
             "colorbar": {
              "outlinewidth": 0,
              "ticks": ""
             }
            },
            "type": "scatter"
           }
          ],
          "scatter3d": [
           {
            "line": {
             "colorbar": {
              "outlinewidth": 0,
              "ticks": ""
             }
            },
            "marker": {
             "colorbar": {
              "outlinewidth": 0,
              "ticks": ""
             }
            },
            "type": "scatter3d"
           }
          ],
          "scattercarpet": [
           {
            "marker": {
             "colorbar": {
              "outlinewidth": 0,
              "ticks": ""
             }
            },
            "type": "scattercarpet"
           }
          ],
          "scattergeo": [
           {
            "marker": {
             "colorbar": {
              "outlinewidth": 0,
              "ticks": ""
             }
            },
            "type": "scattergeo"
           }
          ],
          "scattergl": [
           {
            "marker": {
             "colorbar": {
              "outlinewidth": 0,
              "ticks": ""
             }
            },
            "type": "scattergl"
           }
          ],
          "scattermapbox": [
           {
            "marker": {
             "colorbar": {
              "outlinewidth": 0,
              "ticks": ""
             }
            },
            "type": "scattermapbox"
           }
          ],
          "scatterpolar": [
           {
            "marker": {
             "colorbar": {
              "outlinewidth": 0,
              "ticks": ""
             }
            },
            "type": "scatterpolar"
           }
          ],
          "scatterpolargl": [
           {
            "marker": {
             "colorbar": {
              "outlinewidth": 0,
              "ticks": ""
             }
            },
            "type": "scatterpolargl"
           }
          ],
          "scatterternary": [
           {
            "marker": {
             "colorbar": {
              "outlinewidth": 0,
              "ticks": ""
             }
            },
            "type": "scatterternary"
           }
          ],
          "surface": [
           {
            "colorbar": {
             "outlinewidth": 0,
             "ticks": ""
            },
            "colorscale": [
             [
              0,
              "#0d0887"
             ],
             [
              0.1111111111111111,
              "#46039f"
             ],
             [
              0.2222222222222222,
              "#7201a8"
             ],
             [
              0.3333333333333333,
              "#9c179e"
             ],
             [
              0.4444444444444444,
              "#bd3786"
             ],
             [
              0.5555555555555556,
              "#d8576b"
             ],
             [
              0.6666666666666666,
              "#ed7953"
             ],
             [
              0.7777777777777778,
              "#fb9f3a"
             ],
             [
              0.8888888888888888,
              "#fdca26"
             ],
             [
              1,
              "#f0f921"
             ]
            ],
            "type": "surface"
           }
          ],
          "table": [
           {
            "cells": {
             "fill": {
              "color": "#EBF0F8"
             },
             "line": {
              "color": "white"
             }
            },
            "header": {
             "fill": {
              "color": "#C8D4E3"
             },
             "line": {
              "color": "white"
             }
            },
            "type": "table"
           }
          ]
         },
         "layout": {
          "annotationdefaults": {
           "arrowcolor": "#2a3f5f",
           "arrowhead": 0,
           "arrowwidth": 1
          },
          "autotypenumbers": "strict",
          "coloraxis": {
           "colorbar": {
            "outlinewidth": 0,
            "ticks": ""
           }
          },
          "colorscale": {
           "diverging": [
            [
             0,
             "#8e0152"
            ],
            [
             0.1,
             "#c51b7d"
            ],
            [
             0.2,
             "#de77ae"
            ],
            [
             0.3,
             "#f1b6da"
            ],
            [
             0.4,
             "#fde0ef"
            ],
            [
             0.5,
             "#f7f7f7"
            ],
            [
             0.6,
             "#e6f5d0"
            ],
            [
             0.7,
             "#b8e186"
            ],
            [
             0.8,
             "#7fbc41"
            ],
            [
             0.9,
             "#4d9221"
            ],
            [
             1,
             "#276419"
            ]
           ],
           "sequential": [
            [
             0,
             "#0d0887"
            ],
            [
             0.1111111111111111,
             "#46039f"
            ],
            [
             0.2222222222222222,
             "#7201a8"
            ],
            [
             0.3333333333333333,
             "#9c179e"
            ],
            [
             0.4444444444444444,
             "#bd3786"
            ],
            [
             0.5555555555555556,
             "#d8576b"
            ],
            [
             0.6666666666666666,
             "#ed7953"
            ],
            [
             0.7777777777777778,
             "#fb9f3a"
            ],
            [
             0.8888888888888888,
             "#fdca26"
            ],
            [
             1,
             "#f0f921"
            ]
           ],
           "sequentialminus": [
            [
             0,
             "#0d0887"
            ],
            [
             0.1111111111111111,
             "#46039f"
            ],
            [
             0.2222222222222222,
             "#7201a8"
            ],
            [
             0.3333333333333333,
             "#9c179e"
            ],
            [
             0.4444444444444444,
             "#bd3786"
            ],
            [
             0.5555555555555556,
             "#d8576b"
            ],
            [
             0.6666666666666666,
             "#ed7953"
            ],
            [
             0.7777777777777778,
             "#fb9f3a"
            ],
            [
             0.8888888888888888,
             "#fdca26"
            ],
            [
             1,
             "#f0f921"
            ]
           ]
          },
          "colorway": [
           "#636efa",
           "#EF553B",
           "#00cc96",
           "#ab63fa",
           "#FFA15A",
           "#19d3f3",
           "#FF6692",
           "#B6E880",
           "#FF97FF",
           "#FECB52"
          ],
          "font": {
           "color": "#2a3f5f"
          },
          "geo": {
           "bgcolor": "white",
           "lakecolor": "white",
           "landcolor": "#E5ECF6",
           "showlakes": true,
           "showland": true,
           "subunitcolor": "white"
          },
          "hoverlabel": {
           "align": "left"
          },
          "hovermode": "closest",
          "mapbox": {
           "style": "light"
          },
          "paper_bgcolor": "white",
          "plot_bgcolor": "#E5ECF6",
          "polar": {
           "angularaxis": {
            "gridcolor": "white",
            "linecolor": "white",
            "ticks": ""
           },
           "bgcolor": "#E5ECF6",
           "radialaxis": {
            "gridcolor": "white",
            "linecolor": "white",
            "ticks": ""
           }
          },
          "scene": {
           "xaxis": {
            "backgroundcolor": "#E5ECF6",
            "gridcolor": "white",
            "gridwidth": 2,
            "linecolor": "white",
            "showbackground": true,
            "ticks": "",
            "zerolinecolor": "white"
           },
           "yaxis": {
            "backgroundcolor": "#E5ECF6",
            "gridcolor": "white",
            "gridwidth": 2,
            "linecolor": "white",
            "showbackground": true,
            "ticks": "",
            "zerolinecolor": "white"
           },
           "zaxis": {
            "backgroundcolor": "#E5ECF6",
            "gridcolor": "white",
            "gridwidth": 2,
            "linecolor": "white",
            "showbackground": true,
            "ticks": "",
            "zerolinecolor": "white"
           }
          },
          "shapedefaults": {
           "line": {
            "color": "#2a3f5f"
           }
          },
          "ternary": {
           "aaxis": {
            "gridcolor": "white",
            "linecolor": "white",
            "ticks": ""
           },
           "baxis": {
            "gridcolor": "white",
            "linecolor": "white",
            "ticks": ""
           },
           "bgcolor": "#E5ECF6",
           "caxis": {
            "gridcolor": "white",
            "linecolor": "white",
            "ticks": ""
           }
          },
          "title": {
           "x": 0.05
          },
          "xaxis": {
           "automargin": true,
           "gridcolor": "white",
           "linecolor": "white",
           "ticks": "",
           "title": {
            "standoff": 15
           },
           "zerolinecolor": "white",
           "zerolinewidth": 2
          },
          "yaxis": {
           "automargin": true,
           "gridcolor": "white",
           "linecolor": "white",
           "ticks": "",
           "title": {
            "standoff": 15
           },
           "zerolinecolor": "white",
           "zerolinewidth": 2
          }
         }
        },
        "title": {
         "font": {
          "color": "#4D5663"
         }
        },
        "xaxis": {
         "gridcolor": "#E1E5ED",
         "showgrid": true,
         "tickfont": {
          "color": "#4D5663"
         },
         "title": {
          "font": {
           "color": "#4D5663"
          },
          "text": ""
         },
         "zerolinecolor": "#E1E5ED"
        },
        "yaxis": {
         "gridcolor": "#E1E5ED",
         "showgrid": true,
         "tickfont": {
          "color": "#4D5663"
         },
         "title": {
          "font": {
           "color": "#4D5663"
          },
          "text": ""
         },
         "zerolinecolor": "#E1E5ED"
        }
       }
      },
      "text/html": [
       "<div>                            <div id=\"ad3e1abb-bb94-4c83-a6f5-c91fab7c87ee\" class=\"plotly-graph-div\" style=\"height:525px; width:100%;\"></div>            <script type=\"text/javascript\">                require([\"plotly\"], function(Plotly) {                    window.PLOTLYENV=window.PLOTLYENV || {};\n",
       "                    window.PLOTLYENV.BASE_URL='https://plot.ly';                                    if (document.getElementById(\"ad3e1abb-bb94-4c83-a6f5-c91fab7c87ee\")) {                    Plotly.newPlot(                        \"ad3e1abb-bb94-4c83-a6f5-c91fab7c87ee\",                        [{\"marker\":{\"color\":\"rgba(255, 153, 51, 0.6)\",\"line\":{\"color\":\"rgba(255, 153, 51, 1.0)\",\"width\":1}},\"name\":\"Values\",\"orientation\":\"v\",\"text\":\"\",\"x\":[\"A\",\"B\",\"C\"],\"y\":[32,43,50],\"type\":\"bar\"}],                        {\"legend\":{\"bgcolor\":\"#F5F6F9\",\"font\":{\"color\":\"#4D5663\"}},\"paper_bgcolor\":\"#F5F6F9\",\"plot_bgcolor\":\"#F5F6F9\",\"template\":{\"data\":{\"barpolar\":[{\"marker\":{\"line\":{\"color\":\"#E5ECF6\",\"width\":0.5},\"pattern\":{\"fillmode\":\"overlay\",\"size\":10,\"solidity\":0.2}},\"type\":\"barpolar\"}],\"bar\":[{\"error_x\":{\"color\":\"#2a3f5f\"},\"error_y\":{\"color\":\"#2a3f5f\"},\"marker\":{\"line\":{\"color\":\"#E5ECF6\",\"width\":0.5},\"pattern\":{\"fillmode\":\"overlay\",\"size\":10,\"solidity\":0.2}},\"type\":\"bar\"}],\"carpet\":[{\"aaxis\":{\"endlinecolor\":\"#2a3f5f\",\"gridcolor\":\"white\",\"linecolor\":\"white\",\"minorgridcolor\":\"white\",\"startlinecolor\":\"#2a3f5f\"},\"baxis\":{\"endlinecolor\":\"#2a3f5f\",\"gridcolor\":\"white\",\"linecolor\":\"white\",\"minorgridcolor\":\"white\",\"startlinecolor\":\"#2a3f5f\"},\"type\":\"carpet\"}],\"choropleth\":[{\"colorbar\":{\"outlinewidth\":0,\"ticks\":\"\"},\"type\":\"choropleth\"}],\"contourcarpet\":[{\"colorbar\":{\"outlinewidth\":0,\"ticks\":\"\"},\"type\":\"contourcarpet\"}],\"contour\":[{\"colorbar\":{\"outlinewidth\":0,\"ticks\":\"\"},\"colorscale\":[[0.0,\"#0d0887\"],[0.1111111111111111,\"#46039f\"],[0.2222222222222222,\"#7201a8\"],[0.3333333333333333,\"#9c179e\"],[0.4444444444444444,\"#bd3786\"],[0.5555555555555556,\"#d8576b\"],[0.6666666666666666,\"#ed7953\"],[0.7777777777777778,\"#fb9f3a\"],[0.8888888888888888,\"#fdca26\"],[1.0,\"#f0f921\"]],\"type\":\"contour\"}],\"heatmapgl\":[{\"colorbar\":{\"outlinewidth\":0,\"ticks\":\"\"},\"colorscale\":[[0.0,\"#0d0887\"],[0.1111111111111111,\"#46039f\"],[0.2222222222222222,\"#7201a8\"],[0.3333333333333333,\"#9c179e\"],[0.4444444444444444,\"#bd3786\"],[0.5555555555555556,\"#d8576b\"],[0.6666666666666666,\"#ed7953\"],[0.7777777777777778,\"#fb9f3a\"],[0.8888888888888888,\"#fdca26\"],[1.0,\"#f0f921\"]],\"type\":\"heatmapgl\"}],\"heatmap\":[{\"colorbar\":{\"outlinewidth\":0,\"ticks\":\"\"},\"colorscale\":[[0.0,\"#0d0887\"],[0.1111111111111111,\"#46039f\"],[0.2222222222222222,\"#7201a8\"],[0.3333333333333333,\"#9c179e\"],[0.4444444444444444,\"#bd3786\"],[0.5555555555555556,\"#d8576b\"],[0.6666666666666666,\"#ed7953\"],[0.7777777777777778,\"#fb9f3a\"],[0.8888888888888888,\"#fdca26\"],[1.0,\"#f0f921\"]],\"type\":\"heatmap\"}],\"histogram2dcontour\":[{\"colorbar\":{\"outlinewidth\":0,\"ticks\":\"\"},\"colorscale\":[[0.0,\"#0d0887\"],[0.1111111111111111,\"#46039f\"],[0.2222222222222222,\"#7201a8\"],[0.3333333333333333,\"#9c179e\"],[0.4444444444444444,\"#bd3786\"],[0.5555555555555556,\"#d8576b\"],[0.6666666666666666,\"#ed7953\"],[0.7777777777777778,\"#fb9f3a\"],[0.8888888888888888,\"#fdca26\"],[1.0,\"#f0f921\"]],\"type\":\"histogram2dcontour\"}],\"histogram2d\":[{\"colorbar\":{\"outlinewidth\":0,\"ticks\":\"\"},\"colorscale\":[[0.0,\"#0d0887\"],[0.1111111111111111,\"#46039f\"],[0.2222222222222222,\"#7201a8\"],[0.3333333333333333,\"#9c179e\"],[0.4444444444444444,\"#bd3786\"],[0.5555555555555556,\"#d8576b\"],[0.6666666666666666,\"#ed7953\"],[0.7777777777777778,\"#fb9f3a\"],[0.8888888888888888,\"#fdca26\"],[1.0,\"#f0f921\"]],\"type\":\"histogram2d\"}],\"histogram\":[{\"marker\":{\"pattern\":{\"fillmode\":\"overlay\",\"size\":10,\"solidity\":0.2}},\"type\":\"histogram\"}],\"mesh3d\":[{\"colorbar\":{\"outlinewidth\":0,\"ticks\":\"\"},\"type\":\"mesh3d\"}],\"parcoords\":[{\"line\":{\"colorbar\":{\"outlinewidth\":0,\"ticks\":\"\"}},\"type\":\"parcoords\"}],\"pie\":[{\"automargin\":true,\"type\":\"pie\"}],\"scatter3d\":[{\"line\":{\"colorbar\":{\"outlinewidth\":0,\"ticks\":\"\"}},\"marker\":{\"colorbar\":{\"outlinewidth\":0,\"ticks\":\"\"}},\"type\":\"scatter3d\"}],\"scattercarpet\":[{\"marker\":{\"colorbar\":{\"outlinewidth\":0,\"ticks\":\"\"}},\"type\":\"scattercarpet\"}],\"scattergeo\":[{\"marker\":{\"colorbar\":{\"outlinewidth\":0,\"ticks\":\"\"}},\"type\":\"scattergeo\"}],\"scattergl\":[{\"marker\":{\"colorbar\":{\"outlinewidth\":0,\"ticks\":\"\"}},\"type\":\"scattergl\"}],\"scattermapbox\":[{\"marker\":{\"colorbar\":{\"outlinewidth\":0,\"ticks\":\"\"}},\"type\":\"scattermapbox\"}],\"scatterpolargl\":[{\"marker\":{\"colorbar\":{\"outlinewidth\":0,\"ticks\":\"\"}},\"type\":\"scatterpolargl\"}],\"scatterpolar\":[{\"marker\":{\"colorbar\":{\"outlinewidth\":0,\"ticks\":\"\"}},\"type\":\"scatterpolar\"}],\"scatter\":[{\"marker\":{\"colorbar\":{\"outlinewidth\":0,\"ticks\":\"\"}},\"type\":\"scatter\"}],\"scatterternary\":[{\"marker\":{\"colorbar\":{\"outlinewidth\":0,\"ticks\":\"\"}},\"type\":\"scatterternary\"}],\"surface\":[{\"colorbar\":{\"outlinewidth\":0,\"ticks\":\"\"},\"colorscale\":[[0.0,\"#0d0887\"],[0.1111111111111111,\"#46039f\"],[0.2222222222222222,\"#7201a8\"],[0.3333333333333333,\"#9c179e\"],[0.4444444444444444,\"#bd3786\"],[0.5555555555555556,\"#d8576b\"],[0.6666666666666666,\"#ed7953\"],[0.7777777777777778,\"#fb9f3a\"],[0.8888888888888888,\"#fdca26\"],[1.0,\"#f0f921\"]],\"type\":\"surface\"}],\"table\":[{\"cells\":{\"fill\":{\"color\":\"#EBF0F8\"},\"line\":{\"color\":\"white\"}},\"header\":{\"fill\":{\"color\":\"#C8D4E3\"},\"line\":{\"color\":\"white\"}},\"type\":\"table\"}]},\"layout\":{\"annotationdefaults\":{\"arrowcolor\":\"#2a3f5f\",\"arrowhead\":0,\"arrowwidth\":1},\"autotypenumbers\":\"strict\",\"coloraxis\":{\"colorbar\":{\"outlinewidth\":0,\"ticks\":\"\"}},\"colorscale\":{\"diverging\":[[0,\"#8e0152\"],[0.1,\"#c51b7d\"],[0.2,\"#de77ae\"],[0.3,\"#f1b6da\"],[0.4,\"#fde0ef\"],[0.5,\"#f7f7f7\"],[0.6,\"#e6f5d0\"],[0.7,\"#b8e186\"],[0.8,\"#7fbc41\"],[0.9,\"#4d9221\"],[1,\"#276419\"]],\"sequential\":[[0.0,\"#0d0887\"],[0.1111111111111111,\"#46039f\"],[0.2222222222222222,\"#7201a8\"],[0.3333333333333333,\"#9c179e\"],[0.4444444444444444,\"#bd3786\"],[0.5555555555555556,\"#d8576b\"],[0.6666666666666666,\"#ed7953\"],[0.7777777777777778,\"#fb9f3a\"],[0.8888888888888888,\"#fdca26\"],[1.0,\"#f0f921\"]],\"sequentialminus\":[[0.0,\"#0d0887\"],[0.1111111111111111,\"#46039f\"],[0.2222222222222222,\"#7201a8\"],[0.3333333333333333,\"#9c179e\"],[0.4444444444444444,\"#bd3786\"],[0.5555555555555556,\"#d8576b\"],[0.6666666666666666,\"#ed7953\"],[0.7777777777777778,\"#fb9f3a\"],[0.8888888888888888,\"#fdca26\"],[1.0,\"#f0f921\"]]},\"colorway\":[\"#636efa\",\"#EF553B\",\"#00cc96\",\"#ab63fa\",\"#FFA15A\",\"#19d3f3\",\"#FF6692\",\"#B6E880\",\"#FF97FF\",\"#FECB52\"],\"font\":{\"color\":\"#2a3f5f\"},\"geo\":{\"bgcolor\":\"white\",\"lakecolor\":\"white\",\"landcolor\":\"#E5ECF6\",\"showlakes\":true,\"showland\":true,\"subunitcolor\":\"white\"},\"hoverlabel\":{\"align\":\"left\"},\"hovermode\":\"closest\",\"mapbox\":{\"style\":\"light\"},\"paper_bgcolor\":\"white\",\"plot_bgcolor\":\"#E5ECF6\",\"polar\":{\"angularaxis\":{\"gridcolor\":\"white\",\"linecolor\":\"white\",\"ticks\":\"\"},\"bgcolor\":\"#E5ECF6\",\"radialaxis\":{\"gridcolor\":\"white\",\"linecolor\":\"white\",\"ticks\":\"\"}},\"scene\":{\"xaxis\":{\"backgroundcolor\":\"#E5ECF6\",\"gridcolor\":\"white\",\"gridwidth\":2,\"linecolor\":\"white\",\"showbackground\":true,\"ticks\":\"\",\"zerolinecolor\":\"white\"},\"yaxis\":{\"backgroundcolor\":\"#E5ECF6\",\"gridcolor\":\"white\",\"gridwidth\":2,\"linecolor\":\"white\",\"showbackground\":true,\"ticks\":\"\",\"zerolinecolor\":\"white\"},\"zaxis\":{\"backgroundcolor\":\"#E5ECF6\",\"gridcolor\":\"white\",\"gridwidth\":2,\"linecolor\":\"white\",\"showbackground\":true,\"ticks\":\"\",\"zerolinecolor\":\"white\"}},\"shapedefaults\":{\"line\":{\"color\":\"#2a3f5f\"}},\"ternary\":{\"aaxis\":{\"gridcolor\":\"white\",\"linecolor\":\"white\",\"ticks\":\"\"},\"baxis\":{\"gridcolor\":\"white\",\"linecolor\":\"white\",\"ticks\":\"\"},\"bgcolor\":\"#E5ECF6\",\"caxis\":{\"gridcolor\":\"white\",\"linecolor\":\"white\",\"ticks\":\"\"}},\"title\":{\"x\":0.05},\"xaxis\":{\"automargin\":true,\"gridcolor\":\"white\",\"linecolor\":\"white\",\"ticks\":\"\",\"title\":{\"standoff\":15},\"zerolinecolor\":\"white\",\"zerolinewidth\":2},\"yaxis\":{\"automargin\":true,\"gridcolor\":\"white\",\"linecolor\":\"white\",\"ticks\":\"\",\"title\":{\"standoff\":15},\"zerolinecolor\":\"white\",\"zerolinewidth\":2}}},\"title\":{\"font\":{\"color\":\"#4D5663\"}},\"xaxis\":{\"gridcolor\":\"#E1E5ED\",\"showgrid\":true,\"tickfont\":{\"color\":\"#4D5663\"},\"title\":{\"font\":{\"color\":\"#4D5663\"},\"text\":\"\"},\"zerolinecolor\":\"#E1E5ED\"},\"yaxis\":{\"gridcolor\":\"#E1E5ED\",\"showgrid\":true,\"tickfont\":{\"color\":\"#4D5663\"},\"title\":{\"font\":{\"color\":\"#4D5663\"},\"text\":\"\"},\"zerolinecolor\":\"#E1E5ED\"}},                        {\"showLink\": true, \"linkText\": \"Export to plot.ly\", \"plotlyServerURL\": \"https://plot.ly\", \"responsive\": true}                    ).then(function(){\n",
       "                            \n",
       "var gd = document.getElementById('ad3e1abb-bb94-4c83-a6f5-c91fab7c87ee');\n",
       "var x = new MutationObserver(function (mutations, observer) {{\n",
       "        var display = window.getComputedStyle(gd).display;\n",
       "        if (!display || display === 'none') {{\n",
       "            console.log([gd, 'removed!']);\n",
       "            Plotly.purge(gd);\n",
       "            observer.disconnect();\n",
       "        }}\n",
       "}});\n",
       "\n",
       "// Listen for the removal of the full notebook cells\n",
       "var notebookContainer = gd.closest('#notebook-container');\n",
       "if (notebookContainer) {{\n",
       "    x.observe(notebookContainer, {childList: true});\n",
       "}}\n",
       "\n",
       "// Listen for the clearing of the current output cell\n",
       "var outputEl = gd.closest('.output');\n",
       "if (outputEl) {{\n",
       "    x.observe(outputEl, {childList: true});\n",
       "}}\n",
       "\n",
       "                        })                };                });            </script>        </div>"
      ]
     },
     "metadata": {},
     "output_type": "display_data"
    }
   ],
   "source": [
    "df2.iplot(kind='bar',x='Category',y='Values')"
   ]
  },
  {
   "cell_type": "code",
   "execution_count": 15,
   "metadata": {
    "collapsed": false
   },
   "outputs": [
    {
     "data": {
      "application/vnd.plotly.v1+json": {
       "config": {
        "linkText": "Export to plot.ly",
        "plotlyServerURL": "https://plot.ly",
        "showLink": true
       },
       "data": [
        {
         "marker": {
          "color": "rgba(255, 153, 51, 0.6)",
          "line": {
           "color": "rgba(255, 153, 51, 1.0)",
           "width": 1
          }
         },
         "name": "None",
         "orientation": "v",
         "text": "",
         "type": "bar",
         "x": [
          "A",
          "B",
          "C",
          "D"
         ],
         "y": [
          -4.492334158477099,
          -21.49970984821308,
          -2.3148186565883924,
          0.74897535093355
         ]
        }
       ],
       "layout": {
        "legend": {
         "bgcolor": "#F5F6F9",
         "font": {
          "color": "#4D5663"
         }
        },
        "paper_bgcolor": "#F5F6F9",
        "plot_bgcolor": "#F5F6F9",
        "template": {
         "data": {
          "bar": [
           {
            "error_x": {
             "color": "#2a3f5f"
            },
            "error_y": {
             "color": "#2a3f5f"
            },
            "marker": {
             "line": {
              "color": "#E5ECF6",
              "width": 0.5
             },
             "pattern": {
              "fillmode": "overlay",
              "size": 10,
              "solidity": 0.2
             }
            },
            "type": "bar"
           }
          ],
          "barpolar": [
           {
            "marker": {
             "line": {
              "color": "#E5ECF6",
              "width": 0.5
             },
             "pattern": {
              "fillmode": "overlay",
              "size": 10,
              "solidity": 0.2
             }
            },
            "type": "barpolar"
           }
          ],
          "carpet": [
           {
            "aaxis": {
             "endlinecolor": "#2a3f5f",
             "gridcolor": "white",
             "linecolor": "white",
             "minorgridcolor": "white",
             "startlinecolor": "#2a3f5f"
            },
            "baxis": {
             "endlinecolor": "#2a3f5f",
             "gridcolor": "white",
             "linecolor": "white",
             "minorgridcolor": "white",
             "startlinecolor": "#2a3f5f"
            },
            "type": "carpet"
           }
          ],
          "choropleth": [
           {
            "colorbar": {
             "outlinewidth": 0,
             "ticks": ""
            },
            "type": "choropleth"
           }
          ],
          "contour": [
           {
            "colorbar": {
             "outlinewidth": 0,
             "ticks": ""
            },
            "colorscale": [
             [
              0,
              "#0d0887"
             ],
             [
              0.1111111111111111,
              "#46039f"
             ],
             [
              0.2222222222222222,
              "#7201a8"
             ],
             [
              0.3333333333333333,
              "#9c179e"
             ],
             [
              0.4444444444444444,
              "#bd3786"
             ],
             [
              0.5555555555555556,
              "#d8576b"
             ],
             [
              0.6666666666666666,
              "#ed7953"
             ],
             [
              0.7777777777777778,
              "#fb9f3a"
             ],
             [
              0.8888888888888888,
              "#fdca26"
             ],
             [
              1,
              "#f0f921"
             ]
            ],
            "type": "contour"
           }
          ],
          "contourcarpet": [
           {
            "colorbar": {
             "outlinewidth": 0,
             "ticks": ""
            },
            "type": "contourcarpet"
           }
          ],
          "heatmap": [
           {
            "colorbar": {
             "outlinewidth": 0,
             "ticks": ""
            },
            "colorscale": [
             [
              0,
              "#0d0887"
             ],
             [
              0.1111111111111111,
              "#46039f"
             ],
             [
              0.2222222222222222,
              "#7201a8"
             ],
             [
              0.3333333333333333,
              "#9c179e"
             ],
             [
              0.4444444444444444,
              "#bd3786"
             ],
             [
              0.5555555555555556,
              "#d8576b"
             ],
             [
              0.6666666666666666,
              "#ed7953"
             ],
             [
              0.7777777777777778,
              "#fb9f3a"
             ],
             [
              0.8888888888888888,
              "#fdca26"
             ],
             [
              1,
              "#f0f921"
             ]
            ],
            "type": "heatmap"
           }
          ],
          "heatmapgl": [
           {
            "colorbar": {
             "outlinewidth": 0,
             "ticks": ""
            },
            "colorscale": [
             [
              0,
              "#0d0887"
             ],
             [
              0.1111111111111111,
              "#46039f"
             ],
             [
              0.2222222222222222,
              "#7201a8"
             ],
             [
              0.3333333333333333,
              "#9c179e"
             ],
             [
              0.4444444444444444,
              "#bd3786"
             ],
             [
              0.5555555555555556,
              "#d8576b"
             ],
             [
              0.6666666666666666,
              "#ed7953"
             ],
             [
              0.7777777777777778,
              "#fb9f3a"
             ],
             [
              0.8888888888888888,
              "#fdca26"
             ],
             [
              1,
              "#f0f921"
             ]
            ],
            "type": "heatmapgl"
           }
          ],
          "histogram": [
           {
            "marker": {
             "pattern": {
              "fillmode": "overlay",
              "size": 10,
              "solidity": 0.2
             }
            },
            "type": "histogram"
           }
          ],
          "histogram2d": [
           {
            "colorbar": {
             "outlinewidth": 0,
             "ticks": ""
            },
            "colorscale": [
             [
              0,
              "#0d0887"
             ],
             [
              0.1111111111111111,
              "#46039f"
             ],
             [
              0.2222222222222222,
              "#7201a8"
             ],
             [
              0.3333333333333333,
              "#9c179e"
             ],
             [
              0.4444444444444444,
              "#bd3786"
             ],
             [
              0.5555555555555556,
              "#d8576b"
             ],
             [
              0.6666666666666666,
              "#ed7953"
             ],
             [
              0.7777777777777778,
              "#fb9f3a"
             ],
             [
              0.8888888888888888,
              "#fdca26"
             ],
             [
              1,
              "#f0f921"
             ]
            ],
            "type": "histogram2d"
           }
          ],
          "histogram2dcontour": [
           {
            "colorbar": {
             "outlinewidth": 0,
             "ticks": ""
            },
            "colorscale": [
             [
              0,
              "#0d0887"
             ],
             [
              0.1111111111111111,
              "#46039f"
             ],
             [
              0.2222222222222222,
              "#7201a8"
             ],
             [
              0.3333333333333333,
              "#9c179e"
             ],
             [
              0.4444444444444444,
              "#bd3786"
             ],
             [
              0.5555555555555556,
              "#d8576b"
             ],
             [
              0.6666666666666666,
              "#ed7953"
             ],
             [
              0.7777777777777778,
              "#fb9f3a"
             ],
             [
              0.8888888888888888,
              "#fdca26"
             ],
             [
              1,
              "#f0f921"
             ]
            ],
            "type": "histogram2dcontour"
           }
          ],
          "mesh3d": [
           {
            "colorbar": {
             "outlinewidth": 0,
             "ticks": ""
            },
            "type": "mesh3d"
           }
          ],
          "parcoords": [
           {
            "line": {
             "colorbar": {
              "outlinewidth": 0,
              "ticks": ""
             }
            },
            "type": "parcoords"
           }
          ],
          "pie": [
           {
            "automargin": true,
            "type": "pie"
           }
          ],
          "scatter": [
           {
            "marker": {
             "colorbar": {
              "outlinewidth": 0,
              "ticks": ""
             }
            },
            "type": "scatter"
           }
          ],
          "scatter3d": [
           {
            "line": {
             "colorbar": {
              "outlinewidth": 0,
              "ticks": ""
             }
            },
            "marker": {
             "colorbar": {
              "outlinewidth": 0,
              "ticks": ""
             }
            },
            "type": "scatter3d"
           }
          ],
          "scattercarpet": [
           {
            "marker": {
             "colorbar": {
              "outlinewidth": 0,
              "ticks": ""
             }
            },
            "type": "scattercarpet"
           }
          ],
          "scattergeo": [
           {
            "marker": {
             "colorbar": {
              "outlinewidth": 0,
              "ticks": ""
             }
            },
            "type": "scattergeo"
           }
          ],
          "scattergl": [
           {
            "marker": {
             "colorbar": {
              "outlinewidth": 0,
              "ticks": ""
             }
            },
            "type": "scattergl"
           }
          ],
          "scattermapbox": [
           {
            "marker": {
             "colorbar": {
              "outlinewidth": 0,
              "ticks": ""
             }
            },
            "type": "scattermapbox"
           }
          ],
          "scatterpolar": [
           {
            "marker": {
             "colorbar": {
              "outlinewidth": 0,
              "ticks": ""
             }
            },
            "type": "scatterpolar"
           }
          ],
          "scatterpolargl": [
           {
            "marker": {
             "colorbar": {
              "outlinewidth": 0,
              "ticks": ""
             }
            },
            "type": "scatterpolargl"
           }
          ],
          "scatterternary": [
           {
            "marker": {
             "colorbar": {
              "outlinewidth": 0,
              "ticks": ""
             }
            },
            "type": "scatterternary"
           }
          ],
          "surface": [
           {
            "colorbar": {
             "outlinewidth": 0,
             "ticks": ""
            },
            "colorscale": [
             [
              0,
              "#0d0887"
             ],
             [
              0.1111111111111111,
              "#46039f"
             ],
             [
              0.2222222222222222,
              "#7201a8"
             ],
             [
              0.3333333333333333,
              "#9c179e"
             ],
             [
              0.4444444444444444,
              "#bd3786"
             ],
             [
              0.5555555555555556,
              "#d8576b"
             ],
             [
              0.6666666666666666,
              "#ed7953"
             ],
             [
              0.7777777777777778,
              "#fb9f3a"
             ],
             [
              0.8888888888888888,
              "#fdca26"
             ],
             [
              1,
              "#f0f921"
             ]
            ],
            "type": "surface"
           }
          ],
          "table": [
           {
            "cells": {
             "fill": {
              "color": "#EBF0F8"
             },
             "line": {
              "color": "white"
             }
            },
            "header": {
             "fill": {
              "color": "#C8D4E3"
             },
             "line": {
              "color": "white"
             }
            },
            "type": "table"
           }
          ]
         },
         "layout": {
          "annotationdefaults": {
           "arrowcolor": "#2a3f5f",
           "arrowhead": 0,
           "arrowwidth": 1
          },
          "autotypenumbers": "strict",
          "coloraxis": {
           "colorbar": {
            "outlinewidth": 0,
            "ticks": ""
           }
          },
          "colorscale": {
           "diverging": [
            [
             0,
             "#8e0152"
            ],
            [
             0.1,
             "#c51b7d"
            ],
            [
             0.2,
             "#de77ae"
            ],
            [
             0.3,
             "#f1b6da"
            ],
            [
             0.4,
             "#fde0ef"
            ],
            [
             0.5,
             "#f7f7f7"
            ],
            [
             0.6,
             "#e6f5d0"
            ],
            [
             0.7,
             "#b8e186"
            ],
            [
             0.8,
             "#7fbc41"
            ],
            [
             0.9,
             "#4d9221"
            ],
            [
             1,
             "#276419"
            ]
           ],
           "sequential": [
            [
             0,
             "#0d0887"
            ],
            [
             0.1111111111111111,
             "#46039f"
            ],
            [
             0.2222222222222222,
             "#7201a8"
            ],
            [
             0.3333333333333333,
             "#9c179e"
            ],
            [
             0.4444444444444444,
             "#bd3786"
            ],
            [
             0.5555555555555556,
             "#d8576b"
            ],
            [
             0.6666666666666666,
             "#ed7953"
            ],
            [
             0.7777777777777778,
             "#fb9f3a"
            ],
            [
             0.8888888888888888,
             "#fdca26"
            ],
            [
             1,
             "#f0f921"
            ]
           ],
           "sequentialminus": [
            [
             0,
             "#0d0887"
            ],
            [
             0.1111111111111111,
             "#46039f"
            ],
            [
             0.2222222222222222,
             "#7201a8"
            ],
            [
             0.3333333333333333,
             "#9c179e"
            ],
            [
             0.4444444444444444,
             "#bd3786"
            ],
            [
             0.5555555555555556,
             "#d8576b"
            ],
            [
             0.6666666666666666,
             "#ed7953"
            ],
            [
             0.7777777777777778,
             "#fb9f3a"
            ],
            [
             0.8888888888888888,
             "#fdca26"
            ],
            [
             1,
             "#f0f921"
            ]
           ]
          },
          "colorway": [
           "#636efa",
           "#EF553B",
           "#00cc96",
           "#ab63fa",
           "#FFA15A",
           "#19d3f3",
           "#FF6692",
           "#B6E880",
           "#FF97FF",
           "#FECB52"
          ],
          "font": {
           "color": "#2a3f5f"
          },
          "geo": {
           "bgcolor": "white",
           "lakecolor": "white",
           "landcolor": "#E5ECF6",
           "showlakes": true,
           "showland": true,
           "subunitcolor": "white"
          },
          "hoverlabel": {
           "align": "left"
          },
          "hovermode": "closest",
          "mapbox": {
           "style": "light"
          },
          "paper_bgcolor": "white",
          "plot_bgcolor": "#E5ECF6",
          "polar": {
           "angularaxis": {
            "gridcolor": "white",
            "linecolor": "white",
            "ticks": ""
           },
           "bgcolor": "#E5ECF6",
           "radialaxis": {
            "gridcolor": "white",
            "linecolor": "white",
            "ticks": ""
           }
          },
          "scene": {
           "xaxis": {
            "backgroundcolor": "#E5ECF6",
            "gridcolor": "white",
            "gridwidth": 2,
            "linecolor": "white",
            "showbackground": true,
            "ticks": "",
            "zerolinecolor": "white"
           },
           "yaxis": {
            "backgroundcolor": "#E5ECF6",
            "gridcolor": "white",
            "gridwidth": 2,
            "linecolor": "white",
            "showbackground": true,
            "ticks": "",
            "zerolinecolor": "white"
           },
           "zaxis": {
            "backgroundcolor": "#E5ECF6",
            "gridcolor": "white",
            "gridwidth": 2,
            "linecolor": "white",
            "showbackground": true,
            "ticks": "",
            "zerolinecolor": "white"
           }
          },
          "shapedefaults": {
           "line": {
            "color": "#2a3f5f"
           }
          },
          "ternary": {
           "aaxis": {
            "gridcolor": "white",
            "linecolor": "white",
            "ticks": ""
           },
           "baxis": {
            "gridcolor": "white",
            "linecolor": "white",
            "ticks": ""
           },
           "bgcolor": "#E5ECF6",
           "caxis": {
            "gridcolor": "white",
            "linecolor": "white",
            "ticks": ""
           }
          },
          "title": {
           "x": 0.05
          },
          "xaxis": {
           "automargin": true,
           "gridcolor": "white",
           "linecolor": "white",
           "ticks": "",
           "title": {
            "standoff": 15
           },
           "zerolinecolor": "white",
           "zerolinewidth": 2
          },
          "yaxis": {
           "automargin": true,
           "gridcolor": "white",
           "linecolor": "white",
           "ticks": "",
           "title": {
            "standoff": 15
           },
           "zerolinecolor": "white",
           "zerolinewidth": 2
          }
         }
        },
        "title": {
         "font": {
          "color": "#4D5663"
         }
        },
        "xaxis": {
         "gridcolor": "#E1E5ED",
         "showgrid": true,
         "tickfont": {
          "color": "#4D5663"
         },
         "title": {
          "font": {
           "color": "#4D5663"
          },
          "text": ""
         },
         "zerolinecolor": "#E1E5ED"
        },
        "yaxis": {
         "gridcolor": "#E1E5ED",
         "showgrid": true,
         "tickfont": {
          "color": "#4D5663"
         },
         "title": {
          "font": {
           "color": "#4D5663"
          },
          "text": ""
         },
         "zerolinecolor": "#E1E5ED"
        }
       }
      },
      "text/html": [
       "<div>                            <div id=\"ac190d32-619f-4f94-abe6-f2b28c7338e8\" class=\"plotly-graph-div\" style=\"height:525px; width:100%;\"></div>            <script type=\"text/javascript\">                require([\"plotly\"], function(Plotly) {                    window.PLOTLYENV=window.PLOTLYENV || {};\n",
       "                    window.PLOTLYENV.BASE_URL='https://plot.ly';                                    if (document.getElementById(\"ac190d32-619f-4f94-abe6-f2b28c7338e8\")) {                    Plotly.newPlot(                        \"ac190d32-619f-4f94-abe6-f2b28c7338e8\",                        [{\"marker\":{\"color\":\"rgba(255, 153, 51, 0.6)\",\"line\":{\"color\":\"rgba(255, 153, 51, 1.0)\",\"width\":1}},\"name\":\"None\",\"orientation\":\"v\",\"text\":\"\",\"x\":[\"A\",\"B\",\"C\",\"D\"],\"y\":[-4.492334158477099,-21.49970984821308,-2.3148186565883924,0.74897535093355],\"type\":\"bar\"}],                        {\"legend\":{\"bgcolor\":\"#F5F6F9\",\"font\":{\"color\":\"#4D5663\"}},\"paper_bgcolor\":\"#F5F6F9\",\"plot_bgcolor\":\"#F5F6F9\",\"template\":{\"data\":{\"barpolar\":[{\"marker\":{\"line\":{\"color\":\"#E5ECF6\",\"width\":0.5},\"pattern\":{\"fillmode\":\"overlay\",\"size\":10,\"solidity\":0.2}},\"type\":\"barpolar\"}],\"bar\":[{\"error_x\":{\"color\":\"#2a3f5f\"},\"error_y\":{\"color\":\"#2a3f5f\"},\"marker\":{\"line\":{\"color\":\"#E5ECF6\",\"width\":0.5},\"pattern\":{\"fillmode\":\"overlay\",\"size\":10,\"solidity\":0.2}},\"type\":\"bar\"}],\"carpet\":[{\"aaxis\":{\"endlinecolor\":\"#2a3f5f\",\"gridcolor\":\"white\",\"linecolor\":\"white\",\"minorgridcolor\":\"white\",\"startlinecolor\":\"#2a3f5f\"},\"baxis\":{\"endlinecolor\":\"#2a3f5f\",\"gridcolor\":\"white\",\"linecolor\":\"white\",\"minorgridcolor\":\"white\",\"startlinecolor\":\"#2a3f5f\"},\"type\":\"carpet\"}],\"choropleth\":[{\"colorbar\":{\"outlinewidth\":0,\"ticks\":\"\"},\"type\":\"choropleth\"}],\"contourcarpet\":[{\"colorbar\":{\"outlinewidth\":0,\"ticks\":\"\"},\"type\":\"contourcarpet\"}],\"contour\":[{\"colorbar\":{\"outlinewidth\":0,\"ticks\":\"\"},\"colorscale\":[[0.0,\"#0d0887\"],[0.1111111111111111,\"#46039f\"],[0.2222222222222222,\"#7201a8\"],[0.3333333333333333,\"#9c179e\"],[0.4444444444444444,\"#bd3786\"],[0.5555555555555556,\"#d8576b\"],[0.6666666666666666,\"#ed7953\"],[0.7777777777777778,\"#fb9f3a\"],[0.8888888888888888,\"#fdca26\"],[1.0,\"#f0f921\"]],\"type\":\"contour\"}],\"heatmapgl\":[{\"colorbar\":{\"outlinewidth\":0,\"ticks\":\"\"},\"colorscale\":[[0.0,\"#0d0887\"],[0.1111111111111111,\"#46039f\"],[0.2222222222222222,\"#7201a8\"],[0.3333333333333333,\"#9c179e\"],[0.4444444444444444,\"#bd3786\"],[0.5555555555555556,\"#d8576b\"],[0.6666666666666666,\"#ed7953\"],[0.7777777777777778,\"#fb9f3a\"],[0.8888888888888888,\"#fdca26\"],[1.0,\"#f0f921\"]],\"type\":\"heatmapgl\"}],\"heatmap\":[{\"colorbar\":{\"outlinewidth\":0,\"ticks\":\"\"},\"colorscale\":[[0.0,\"#0d0887\"],[0.1111111111111111,\"#46039f\"],[0.2222222222222222,\"#7201a8\"],[0.3333333333333333,\"#9c179e\"],[0.4444444444444444,\"#bd3786\"],[0.5555555555555556,\"#d8576b\"],[0.6666666666666666,\"#ed7953\"],[0.7777777777777778,\"#fb9f3a\"],[0.8888888888888888,\"#fdca26\"],[1.0,\"#f0f921\"]],\"type\":\"heatmap\"}],\"histogram2dcontour\":[{\"colorbar\":{\"outlinewidth\":0,\"ticks\":\"\"},\"colorscale\":[[0.0,\"#0d0887\"],[0.1111111111111111,\"#46039f\"],[0.2222222222222222,\"#7201a8\"],[0.3333333333333333,\"#9c179e\"],[0.4444444444444444,\"#bd3786\"],[0.5555555555555556,\"#d8576b\"],[0.6666666666666666,\"#ed7953\"],[0.7777777777777778,\"#fb9f3a\"],[0.8888888888888888,\"#fdca26\"],[1.0,\"#f0f921\"]],\"type\":\"histogram2dcontour\"}],\"histogram2d\":[{\"colorbar\":{\"outlinewidth\":0,\"ticks\":\"\"},\"colorscale\":[[0.0,\"#0d0887\"],[0.1111111111111111,\"#46039f\"],[0.2222222222222222,\"#7201a8\"],[0.3333333333333333,\"#9c179e\"],[0.4444444444444444,\"#bd3786\"],[0.5555555555555556,\"#d8576b\"],[0.6666666666666666,\"#ed7953\"],[0.7777777777777778,\"#fb9f3a\"],[0.8888888888888888,\"#fdca26\"],[1.0,\"#f0f921\"]],\"type\":\"histogram2d\"}],\"histogram\":[{\"marker\":{\"pattern\":{\"fillmode\":\"overlay\",\"size\":10,\"solidity\":0.2}},\"type\":\"histogram\"}],\"mesh3d\":[{\"colorbar\":{\"outlinewidth\":0,\"ticks\":\"\"},\"type\":\"mesh3d\"}],\"parcoords\":[{\"line\":{\"colorbar\":{\"outlinewidth\":0,\"ticks\":\"\"}},\"type\":\"parcoords\"}],\"pie\":[{\"automargin\":true,\"type\":\"pie\"}],\"scatter3d\":[{\"line\":{\"colorbar\":{\"outlinewidth\":0,\"ticks\":\"\"}},\"marker\":{\"colorbar\":{\"outlinewidth\":0,\"ticks\":\"\"}},\"type\":\"scatter3d\"}],\"scattercarpet\":[{\"marker\":{\"colorbar\":{\"outlinewidth\":0,\"ticks\":\"\"}},\"type\":\"scattercarpet\"}],\"scattergeo\":[{\"marker\":{\"colorbar\":{\"outlinewidth\":0,\"ticks\":\"\"}},\"type\":\"scattergeo\"}],\"scattergl\":[{\"marker\":{\"colorbar\":{\"outlinewidth\":0,\"ticks\":\"\"}},\"type\":\"scattergl\"}],\"scattermapbox\":[{\"marker\":{\"colorbar\":{\"outlinewidth\":0,\"ticks\":\"\"}},\"type\":\"scattermapbox\"}],\"scatterpolargl\":[{\"marker\":{\"colorbar\":{\"outlinewidth\":0,\"ticks\":\"\"}},\"type\":\"scatterpolargl\"}],\"scatterpolar\":[{\"marker\":{\"colorbar\":{\"outlinewidth\":0,\"ticks\":\"\"}},\"type\":\"scatterpolar\"}],\"scatter\":[{\"marker\":{\"colorbar\":{\"outlinewidth\":0,\"ticks\":\"\"}},\"type\":\"scatter\"}],\"scatterternary\":[{\"marker\":{\"colorbar\":{\"outlinewidth\":0,\"ticks\":\"\"}},\"type\":\"scatterternary\"}],\"surface\":[{\"colorbar\":{\"outlinewidth\":0,\"ticks\":\"\"},\"colorscale\":[[0.0,\"#0d0887\"],[0.1111111111111111,\"#46039f\"],[0.2222222222222222,\"#7201a8\"],[0.3333333333333333,\"#9c179e\"],[0.4444444444444444,\"#bd3786\"],[0.5555555555555556,\"#d8576b\"],[0.6666666666666666,\"#ed7953\"],[0.7777777777777778,\"#fb9f3a\"],[0.8888888888888888,\"#fdca26\"],[1.0,\"#f0f921\"]],\"type\":\"surface\"}],\"table\":[{\"cells\":{\"fill\":{\"color\":\"#EBF0F8\"},\"line\":{\"color\":\"white\"}},\"header\":{\"fill\":{\"color\":\"#C8D4E3\"},\"line\":{\"color\":\"white\"}},\"type\":\"table\"}]},\"layout\":{\"annotationdefaults\":{\"arrowcolor\":\"#2a3f5f\",\"arrowhead\":0,\"arrowwidth\":1},\"autotypenumbers\":\"strict\",\"coloraxis\":{\"colorbar\":{\"outlinewidth\":0,\"ticks\":\"\"}},\"colorscale\":{\"diverging\":[[0,\"#8e0152\"],[0.1,\"#c51b7d\"],[0.2,\"#de77ae\"],[0.3,\"#f1b6da\"],[0.4,\"#fde0ef\"],[0.5,\"#f7f7f7\"],[0.6,\"#e6f5d0\"],[0.7,\"#b8e186\"],[0.8,\"#7fbc41\"],[0.9,\"#4d9221\"],[1,\"#276419\"]],\"sequential\":[[0.0,\"#0d0887\"],[0.1111111111111111,\"#46039f\"],[0.2222222222222222,\"#7201a8\"],[0.3333333333333333,\"#9c179e\"],[0.4444444444444444,\"#bd3786\"],[0.5555555555555556,\"#d8576b\"],[0.6666666666666666,\"#ed7953\"],[0.7777777777777778,\"#fb9f3a\"],[0.8888888888888888,\"#fdca26\"],[1.0,\"#f0f921\"]],\"sequentialminus\":[[0.0,\"#0d0887\"],[0.1111111111111111,\"#46039f\"],[0.2222222222222222,\"#7201a8\"],[0.3333333333333333,\"#9c179e\"],[0.4444444444444444,\"#bd3786\"],[0.5555555555555556,\"#d8576b\"],[0.6666666666666666,\"#ed7953\"],[0.7777777777777778,\"#fb9f3a\"],[0.8888888888888888,\"#fdca26\"],[1.0,\"#f0f921\"]]},\"colorway\":[\"#636efa\",\"#EF553B\",\"#00cc96\",\"#ab63fa\",\"#FFA15A\",\"#19d3f3\",\"#FF6692\",\"#B6E880\",\"#FF97FF\",\"#FECB52\"],\"font\":{\"color\":\"#2a3f5f\"},\"geo\":{\"bgcolor\":\"white\",\"lakecolor\":\"white\",\"landcolor\":\"#E5ECF6\",\"showlakes\":true,\"showland\":true,\"subunitcolor\":\"white\"},\"hoverlabel\":{\"align\":\"left\"},\"hovermode\":\"closest\",\"mapbox\":{\"style\":\"light\"},\"paper_bgcolor\":\"white\",\"plot_bgcolor\":\"#E5ECF6\",\"polar\":{\"angularaxis\":{\"gridcolor\":\"white\",\"linecolor\":\"white\",\"ticks\":\"\"},\"bgcolor\":\"#E5ECF6\",\"radialaxis\":{\"gridcolor\":\"white\",\"linecolor\":\"white\",\"ticks\":\"\"}},\"scene\":{\"xaxis\":{\"backgroundcolor\":\"#E5ECF6\",\"gridcolor\":\"white\",\"gridwidth\":2,\"linecolor\":\"white\",\"showbackground\":true,\"ticks\":\"\",\"zerolinecolor\":\"white\"},\"yaxis\":{\"backgroundcolor\":\"#E5ECF6\",\"gridcolor\":\"white\",\"gridwidth\":2,\"linecolor\":\"white\",\"showbackground\":true,\"ticks\":\"\",\"zerolinecolor\":\"white\"},\"zaxis\":{\"backgroundcolor\":\"#E5ECF6\",\"gridcolor\":\"white\",\"gridwidth\":2,\"linecolor\":\"white\",\"showbackground\":true,\"ticks\":\"\",\"zerolinecolor\":\"white\"}},\"shapedefaults\":{\"line\":{\"color\":\"#2a3f5f\"}},\"ternary\":{\"aaxis\":{\"gridcolor\":\"white\",\"linecolor\":\"white\",\"ticks\":\"\"},\"baxis\":{\"gridcolor\":\"white\",\"linecolor\":\"white\",\"ticks\":\"\"},\"bgcolor\":\"#E5ECF6\",\"caxis\":{\"gridcolor\":\"white\",\"linecolor\":\"white\",\"ticks\":\"\"}},\"title\":{\"x\":0.05},\"xaxis\":{\"automargin\":true,\"gridcolor\":\"white\",\"linecolor\":\"white\",\"ticks\":\"\",\"title\":{\"standoff\":15},\"zerolinecolor\":\"white\",\"zerolinewidth\":2},\"yaxis\":{\"automargin\":true,\"gridcolor\":\"white\",\"linecolor\":\"white\",\"ticks\":\"\",\"title\":{\"standoff\":15},\"zerolinecolor\":\"white\",\"zerolinewidth\":2}}},\"title\":{\"font\":{\"color\":\"#4D5663\"}},\"xaxis\":{\"gridcolor\":\"#E1E5ED\",\"showgrid\":true,\"tickfont\":{\"color\":\"#4D5663\"},\"title\":{\"font\":{\"color\":\"#4D5663\"},\"text\":\"\"},\"zerolinecolor\":\"#E1E5ED\"},\"yaxis\":{\"gridcolor\":\"#E1E5ED\",\"showgrid\":true,\"tickfont\":{\"color\":\"#4D5663\"},\"title\":{\"font\":{\"color\":\"#4D5663\"},\"text\":\"\"},\"zerolinecolor\":\"#E1E5ED\"}},                        {\"showLink\": true, \"linkText\": \"Export to plot.ly\", \"plotlyServerURL\": \"https://plot.ly\", \"responsive\": true}                    ).then(function(){\n",
       "                            \n",
       "var gd = document.getElementById('ac190d32-619f-4f94-abe6-f2b28c7338e8');\n",
       "var x = new MutationObserver(function (mutations, observer) {{\n",
       "        var display = window.getComputedStyle(gd).display;\n",
       "        if (!display || display === 'none') {{\n",
       "            console.log([gd, 'removed!']);\n",
       "            Plotly.purge(gd);\n",
       "            observer.disconnect();\n",
       "        }}\n",
       "}});\n",
       "\n",
       "// Listen for the removal of the full notebook cells\n",
       "var notebookContainer = gd.closest('#notebook-container');\n",
       "if (notebookContainer) {{\n",
       "    x.observe(notebookContainer, {childList: true});\n",
       "}}\n",
       "\n",
       "// Listen for the clearing of the current output cell\n",
       "var outputEl = gd.closest('.output');\n",
       "if (outputEl) {{\n",
       "    x.observe(outputEl, {childList: true});\n",
       "}}\n",
       "\n",
       "                        })                };                });            </script>        </div>"
      ]
     },
     "metadata": {},
     "output_type": "display_data"
    }
   ],
   "source": [
    "df.sum().iplot(kind='bar')"
   ]
  },
  {
   "cell_type": "markdown",
   "metadata": {},
   "source": [
    "## Boxplots"
   ]
  },
  {
   "cell_type": "code",
   "execution_count": 16,
   "metadata": {
    "collapsed": false
   },
   "outputs": [
    {
     "data": {
      "application/vnd.plotly.v1+json": {
       "config": {
        "linkText": "Export to plot.ly",
        "plotlyServerURL": "https://plot.ly",
        "showLink": true
       },
       "data": [
        {
         "boxpoints": false,
         "line": {
          "width": 1.3
         },
         "marker": {
          "color": "rgba(255, 153, 51, 1.0)"
         },
         "name": "A",
         "orientation": "v",
         "type": "box",
         "y": [
          0.12063307993793361,
          -0.9753533300826948,
          -2.6763579724952478,
          0.4925482616402867,
          -1.3155762174963437,
          -0.9217912477793413,
          -0.4281288511836951,
          -0.0741095333382842,
          -0.3692088265632047,
          0.35277535814250177,
          -1.2316540713957096,
          -0.9813720181548536,
          -0.47010006603407345,
          -0.9756382227178094,
          -0.8715649349132115,
          -0.8173420824910456,
          -0.29952269396360204,
          1.6181557308102659,
          0.23461995230221297,
          -0.7300727916207131,
          -0.3244203020415168,
          1.3694792193594787,
          -1.1830985969539412,
          -0.6695712322864437,
          0.050300812786321834,
          1.036031284483547,
          0.1247331884526296,
          0.8612593921604814,
          -0.45189648057547976,
          -0.898337364398072,
          -0.6308497962480135,
          0.2495090999989929,
          0.611785806237333,
          -0.6494156327534888,
          1.0626583005146162,
          -0.6765149979610443,
          -0.8629222849427012,
          -0.4276817021646282,
          0.6989004308480385,
          0.6181170042687887,
          1.0505932458214589,
          -1.5983442369800216,
          0.9999863331004377,
          -0.6102895780299539,
          0.09795246638112484,
          -0.4385288540045722,
          -1.2123774307299526,
          -0.10202832053379358,
          1.0446774055922547,
          -1.5020525330486525,
          -0.337479573581759,
          0.19549105352603027,
          -0.07001083383244362,
          -0.44993406654047785,
          0.19182058873532176,
          -0.6732686807599063,
          0.6998273146365749,
          0.43016092779073634,
          1.600242286482051,
          0.6205651472739886,
          -1.2413108957504477,
          0.4319110171963078,
          2.079307316368707,
          0.15878224002809227,
          -0.4607271915720504,
          -1.795639248025241,
          -0.6253697528709673,
          1.465503456008871,
          -0.6621669846039352,
          -0.41103293808023034,
          1.5749238411721267,
          -2.1864561795949813,
          -0.4977776664624909,
          1.3853988617617512,
          -0.5129876095526238,
          -0.897283087487321,
          2.0986612052958025,
          -0.05035355878762703,
          0.03859935212065949,
          -2.181021788479176,
          1.1405184610429981,
          -0.658601302599404,
          0.5437139638452326,
          0.5223135093950999,
          2.3705411280177904,
          0.28454474083707143,
          1.4193227372132629,
          0.6507308823181396,
          0.1352940000072053,
          0.6523221390470338,
          -0.1031777953536062,
          -0.40840207673124784,
          0.7014536039135242,
          1.4910125606499636,
          -0.5187542098528161,
          -0.623292885529943,
          -0.02245147999377042,
          -0.44467364964177175,
          1.1375268851232159,
          0.0007559084429775664
         ]
        },
        {
         "boxpoints": false,
         "line": {
          "width": 1.3
         },
         "marker": {
          "color": "rgba(55, 128, 191, 1.0)"
         },
         "name": "B",
         "orientation": "v",
         "type": "box",
         "y": [
          -0.522079700885799,
          -0.31144048082534775,
          -0.7241472605505641,
          -1.2300416300420594,
          -1.8259514993191461,
          0.08643067332288887,
          -0.6283151419454001,
          -1.2443686093861843,
          -1.505359284046377,
          -0.2909906645035104,
          2.4105090318814004,
          0.006445369976370312,
          -2.1350903995775115,
          -0.35677970863274977,
          2.665735533857099,
          0.21075148803133292,
          -1.477096928969249,
          -1.782247021906371,
          -0.1045020049367965,
          -0.8791025450878165,
          -0.8209774277057524,
          0.8175418726709417,
          -0.01252462004288382,
          0.9471130845989326,
          -0.7811646023115473,
          -0.4508891064134381,
          0.402968701853287,
          0.26988323235132583,
          0.29760155486874007,
          -0.5855154986981775,
          1.5665290787977386,
          -0.10604187433546194,
          1.7542538227020912,
          -0.4194429282036894,
          -0.6986056790450845,
          1.1653041671491604,
          0.7805924904980847,
          0.7078288402890757,
          0.7628913203145052,
          1.0038172992288839,
          -0.5993951364247309,
          -0.835625897075209,
          1.0250317477702606,
          -0.16680206921106913,
          0.5193460355361813,
          -0.3760153715147701,
          -0.09048636808925331,
          0.26840034393654744,
          -0.8752140619894638,
          1.2434346657594744,
          -1.040862850259558,
          -0.08318030099812591,
          1.1262077248215225,
          0.19091323327763102,
          -1.5581479965062561,
          1.5971093964125844,
          -1.4402128536648402,
          -1.3956727151928396,
          1.1499635991459776,
          -0.09614943989750462,
          0.7487131649604577,
          -1.859833599541245,
          -0.9682080674311809,
          -0.8083895310134205,
          0.07201517625696108,
          0.7003724874308773,
          0.3603434078366872,
          0.2927914903976886,
          -0.7190722328005713,
          -1.7126127758544523,
          -1.0089623624439557,
          -0.6332747090638846,
          -0.8859839233149006,
          0.3559550339077135,
          -3.060786815176108,
          0.0255005372731153,
          -1.16745831455643,
          -0.8771907956407784,
          1.2523862232883565,
          0.889884163871847,
          0.26199921668687814,
          -2.320689529863178,
          -1.0508154456053262,
          -0.36819100118589093,
          -2.52189205985639,
          -0.4081792384634467,
          -0.5715287779757289,
          -1.154308594072173,
          -0.1014768864365199,
          0.9034333621414394,
          0.18704522998111542,
          -0.770687484163319,
          1.5800506524826317,
          -2.0021988373340114,
          0.04406612466476638,
          0.3821163996133508,
          0.5646937296566823,
          -0.22207501230812823,
          -0.21342804668328857,
          -0.23999683873682087
         ]
        },
        {
         "boxpoints": false,
         "line": {
          "width": 1.3
         },
         "marker": {
          "color": "rgba(50, 171, 96, 1.0)"
         },
         "name": "C",
         "orientation": "v",
         "type": "box",
         "y": [
          -0.08852422168968099,
          1.072484492537743,
          -0.28306527036306206,
          1.1143792172744111,
          -0.15324228434410764,
          -0.6884612580246313,
          -0.17421320917193495,
          -0.206459969894162,
          -0.1551998524418452,
          -1.594549359201786,
          0.12962482481356008,
          1.4125497278289871,
          2.0280801805745674,
          -0.4867125065674324,
          0.8687333918268887,
          1.0738998682842913,
          0.014796025537450566,
          -0.260435340815994,
          0.9164520451900645,
          -0.1807166453737971,
          -0.21603513631778892,
          -0.005133521724726195,
          -0.26807554679017515,
          -1.6226518840890563,
          1.23843653101688,
          -1.7358737070798764,
          -0.9650342459233452,
          1.07954874339853,
          -1.1740575297045988,
          1.240629856557279,
          -1.5227213081489694,
          -1.2981210653778195,
          0.38811634858265204,
          -1.5572179151187917,
          -0.4808710510184642,
          1.4254411136895513,
          -0.20626030476631396,
          -0.29572646205138625,
          -0.5287062751802881,
          1.668518809610592,
          -0.42847759957627374,
          -0.4436926481063419,
          1.1876194866796395,
          0.7927461345390285,
          2.42697799320039,
          1.8174587405742009,
          -0.8487636678579801,
          -0.21676116335648146,
          -0.8102531223843233,
          -0.6964877204988207,
          0.9714541173134353,
          -2.1313853402612164,
          -0.12886133592566965,
          1.1812208450998414,
          0.9608577388996173,
          -0.3746944397459756,
          0.33832625566752994,
          -0.9143658978339623,
          0.2391931007286504,
          -0.08818106379294745,
          2.443628091937669,
          -0.432638888593655,
          1.7518255385227397,
          -1.324697644112153,
          -2.37499689910705,
          -0.8241478699748068,
          -2.1046384315654043,
          -1.7714014936538525,
          -0.6628237039477233,
          0.545682701302367,
          -0.4937891517904503,
          -0.5876593317921288,
          1.147240939829258,
          -0.9065394655681176,
          -0.05186145685783981,
          0.013860428477771624,
          0.3036257283642649,
          0.33972234371061893,
          -0.002180358941292891,
          1.527465343299987,
          1.4653414245067913,
          -0.1354298427521185,
          -0.8627680102831661,
          0.4601472626886944,
          0.6751503853002964,
          0.16243678416398835,
          1.3300400022112162,
          0.06016429893458129,
          -1.502290213322178,
          -0.39660899097354996,
          0.6096994741412444,
          -0.6706998825275535,
          -1.2764029435901119,
          0.7343156439531086,
          -0.09146463762034475,
          -1.48059886806984,
          -0.7698558339018088,
          1.156836520036784,
          -0.4500676557898651,
          -0.2259957121405176
         ]
        },
        {
         "boxpoints": false,
         "line": {
          "width": 1.3
         },
         "marker": {
          "color": "rgba(128, 0, 128, 1.0)"
         },
         "name": "D",
         "orientation": "v",
         "type": "box",
         "y": [
          -2.882928743561441,
          0.34844846725286066,
          1.2680257646880417,
          2.6158951835942448,
          -0.08666633264915499,
          0.6855126890217901,
          0.9673967695631298,
          -0.6661245750975666,
          -1.5926703284052073,
          -0.8379040920672681,
          -0.37570499245518674,
          -0.8371811965354067,
          -0.5098065928461315,
          0.1372469396536534,
          -0.6471083702863741,
          0.8046279866565285,
          -0.24130185170022783,
          -0.32632814181417097,
          -0.15354271935767372,
          -1.4439112915696954,
          0.6246962871267743,
          0.12432204950512159,
          1.6752929976667723,
          -0.2844432337393085,
          -1.343752758520758,
          0.1301416109711241,
          -0.6331050257489115,
          0.9518781871258761,
          0.7249514840301362,
          0.9101900639114405,
          1.2780574533758824,
          1.802348479945691,
          -0.31614820190356674,
          0.36773415100197077,
          -0.3908212366744393,
          -1.2935782038191448,
          0.05885575458926745,
          0.6950254647416754,
          0.3389537521370748,
          0.9123551822614718,
          0.6892369236633751,
          -0.49268785751272814,
          -1.3087763952309324,
          0.08758532549130894,
          0.4963918755186365,
          0.5872903488418483,
          0.13358063913681995,
          -0.6795571557063222,
          0.33591033706240725,
          -0.8744115193624418,
          0.1929363874465534,
          -0.8895244302940438,
          0.11690218778925603,
          -0.9637877846107626,
          0.2667924221703283,
          1.0541280312229273,
          0.5383199828563591,
          -0.5637487029043333,
          0.12495848178419726,
          -2.436259573590457,
          0.24140795366764298,
          -0.3360656488349088,
          -1.1201761256188392,
          0.2605197525489586,
          1.345908878127147,
          0.7445965881250635,
          -1.33426054511959,
          1.1476625537676224,
          0.01088312706030191,
          0.04395772829126626,
          -1.7562065311579718,
          1.4191323089484646,
          0.8010647667932251,
          0.6521378374268157,
          0.8045698013063193,
          -0.46743041772942134,
          -2.264670130265404,
          0.31279554598588744,
          0.4663204805144947,
          -1.1473863662551063,
          -0.447218095571166,
          -0.5262649784955559,
          0.22835004708314383,
          1.3515406939461974,
          -1.2568821953431548,
          -0.2791161614202711,
          -0.3013722862007754,
          -1.2591808777692868,
          -0.9608444919160927,
          0.11161661644196776,
          -0.24030404938264227,
          0.1291426942326392,
          0.14407473798474776,
          0.35458665833707625,
          -0.17211213011128082,
          0.37039146193315603,
          2.003557075920957,
          0.51786487390019,
          1.8897531118991615,
          0.2924227340416826
         ]
        }
       ],
       "layout": {
        "legend": {
         "bgcolor": "#F5F6F9",
         "font": {
          "color": "#4D5663"
         }
        },
        "paper_bgcolor": "#F5F6F9",
        "plot_bgcolor": "#F5F6F9",
        "template": {
         "data": {
          "bar": [
           {
            "error_x": {
             "color": "#2a3f5f"
            },
            "error_y": {
             "color": "#2a3f5f"
            },
            "marker": {
             "line": {
              "color": "#E5ECF6",
              "width": 0.5
             },
             "pattern": {
              "fillmode": "overlay",
              "size": 10,
              "solidity": 0.2
             }
            },
            "type": "bar"
           }
          ],
          "barpolar": [
           {
            "marker": {
             "line": {
              "color": "#E5ECF6",
              "width": 0.5
             },
             "pattern": {
              "fillmode": "overlay",
              "size": 10,
              "solidity": 0.2
             }
            },
            "type": "barpolar"
           }
          ],
          "carpet": [
           {
            "aaxis": {
             "endlinecolor": "#2a3f5f",
             "gridcolor": "white",
             "linecolor": "white",
             "minorgridcolor": "white",
             "startlinecolor": "#2a3f5f"
            },
            "baxis": {
             "endlinecolor": "#2a3f5f",
             "gridcolor": "white",
             "linecolor": "white",
             "minorgridcolor": "white",
             "startlinecolor": "#2a3f5f"
            },
            "type": "carpet"
           }
          ],
          "choropleth": [
           {
            "colorbar": {
             "outlinewidth": 0,
             "ticks": ""
            },
            "type": "choropleth"
           }
          ],
          "contour": [
           {
            "colorbar": {
             "outlinewidth": 0,
             "ticks": ""
            },
            "colorscale": [
             [
              0,
              "#0d0887"
             ],
             [
              0.1111111111111111,
              "#46039f"
             ],
             [
              0.2222222222222222,
              "#7201a8"
             ],
             [
              0.3333333333333333,
              "#9c179e"
             ],
             [
              0.4444444444444444,
              "#bd3786"
             ],
             [
              0.5555555555555556,
              "#d8576b"
             ],
             [
              0.6666666666666666,
              "#ed7953"
             ],
             [
              0.7777777777777778,
              "#fb9f3a"
             ],
             [
              0.8888888888888888,
              "#fdca26"
             ],
             [
              1,
              "#f0f921"
             ]
            ],
            "type": "contour"
           }
          ],
          "contourcarpet": [
           {
            "colorbar": {
             "outlinewidth": 0,
             "ticks": ""
            },
            "type": "contourcarpet"
           }
          ],
          "heatmap": [
           {
            "colorbar": {
             "outlinewidth": 0,
             "ticks": ""
            },
            "colorscale": [
             [
              0,
              "#0d0887"
             ],
             [
              0.1111111111111111,
              "#46039f"
             ],
             [
              0.2222222222222222,
              "#7201a8"
             ],
             [
              0.3333333333333333,
              "#9c179e"
             ],
             [
              0.4444444444444444,
              "#bd3786"
             ],
             [
              0.5555555555555556,
              "#d8576b"
             ],
             [
              0.6666666666666666,
              "#ed7953"
             ],
             [
              0.7777777777777778,
              "#fb9f3a"
             ],
             [
              0.8888888888888888,
              "#fdca26"
             ],
             [
              1,
              "#f0f921"
             ]
            ],
            "type": "heatmap"
           }
          ],
          "heatmapgl": [
           {
            "colorbar": {
             "outlinewidth": 0,
             "ticks": ""
            },
            "colorscale": [
             [
              0,
              "#0d0887"
             ],
             [
              0.1111111111111111,
              "#46039f"
             ],
             [
              0.2222222222222222,
              "#7201a8"
             ],
             [
              0.3333333333333333,
              "#9c179e"
             ],
             [
              0.4444444444444444,
              "#bd3786"
             ],
             [
              0.5555555555555556,
              "#d8576b"
             ],
             [
              0.6666666666666666,
              "#ed7953"
             ],
             [
              0.7777777777777778,
              "#fb9f3a"
             ],
             [
              0.8888888888888888,
              "#fdca26"
             ],
             [
              1,
              "#f0f921"
             ]
            ],
            "type": "heatmapgl"
           }
          ],
          "histogram": [
           {
            "marker": {
             "pattern": {
              "fillmode": "overlay",
              "size": 10,
              "solidity": 0.2
             }
            },
            "type": "histogram"
           }
          ],
          "histogram2d": [
           {
            "colorbar": {
             "outlinewidth": 0,
             "ticks": ""
            },
            "colorscale": [
             [
              0,
              "#0d0887"
             ],
             [
              0.1111111111111111,
              "#46039f"
             ],
             [
              0.2222222222222222,
              "#7201a8"
             ],
             [
              0.3333333333333333,
              "#9c179e"
             ],
             [
              0.4444444444444444,
              "#bd3786"
             ],
             [
              0.5555555555555556,
              "#d8576b"
             ],
             [
              0.6666666666666666,
              "#ed7953"
             ],
             [
              0.7777777777777778,
              "#fb9f3a"
             ],
             [
              0.8888888888888888,
              "#fdca26"
             ],
             [
              1,
              "#f0f921"
             ]
            ],
            "type": "histogram2d"
           }
          ],
          "histogram2dcontour": [
           {
            "colorbar": {
             "outlinewidth": 0,
             "ticks": ""
            },
            "colorscale": [
             [
              0,
              "#0d0887"
             ],
             [
              0.1111111111111111,
              "#46039f"
             ],
             [
              0.2222222222222222,
              "#7201a8"
             ],
             [
              0.3333333333333333,
              "#9c179e"
             ],
             [
              0.4444444444444444,
              "#bd3786"
             ],
             [
              0.5555555555555556,
              "#d8576b"
             ],
             [
              0.6666666666666666,
              "#ed7953"
             ],
             [
              0.7777777777777778,
              "#fb9f3a"
             ],
             [
              0.8888888888888888,
              "#fdca26"
             ],
             [
              1,
              "#f0f921"
             ]
            ],
            "type": "histogram2dcontour"
           }
          ],
          "mesh3d": [
           {
            "colorbar": {
             "outlinewidth": 0,
             "ticks": ""
            },
            "type": "mesh3d"
           }
          ],
          "parcoords": [
           {
            "line": {
             "colorbar": {
              "outlinewidth": 0,
              "ticks": ""
             }
            },
            "type": "parcoords"
           }
          ],
          "pie": [
           {
            "automargin": true,
            "type": "pie"
           }
          ],
          "scatter": [
           {
            "marker": {
             "colorbar": {
              "outlinewidth": 0,
              "ticks": ""
             }
            },
            "type": "scatter"
           }
          ],
          "scatter3d": [
           {
            "line": {
             "colorbar": {
              "outlinewidth": 0,
              "ticks": ""
             }
            },
            "marker": {
             "colorbar": {
              "outlinewidth": 0,
              "ticks": ""
             }
            },
            "type": "scatter3d"
           }
          ],
          "scattercarpet": [
           {
            "marker": {
             "colorbar": {
              "outlinewidth": 0,
              "ticks": ""
             }
            },
            "type": "scattercarpet"
           }
          ],
          "scattergeo": [
           {
            "marker": {
             "colorbar": {
              "outlinewidth": 0,
              "ticks": ""
             }
            },
            "type": "scattergeo"
           }
          ],
          "scattergl": [
           {
            "marker": {
             "colorbar": {
              "outlinewidth": 0,
              "ticks": ""
             }
            },
            "type": "scattergl"
           }
          ],
          "scattermapbox": [
           {
            "marker": {
             "colorbar": {
              "outlinewidth": 0,
              "ticks": ""
             }
            },
            "type": "scattermapbox"
           }
          ],
          "scatterpolar": [
           {
            "marker": {
             "colorbar": {
              "outlinewidth": 0,
              "ticks": ""
             }
            },
            "type": "scatterpolar"
           }
          ],
          "scatterpolargl": [
           {
            "marker": {
             "colorbar": {
              "outlinewidth": 0,
              "ticks": ""
             }
            },
            "type": "scatterpolargl"
           }
          ],
          "scatterternary": [
           {
            "marker": {
             "colorbar": {
              "outlinewidth": 0,
              "ticks": ""
             }
            },
            "type": "scatterternary"
           }
          ],
          "surface": [
           {
            "colorbar": {
             "outlinewidth": 0,
             "ticks": ""
            },
            "colorscale": [
             [
              0,
              "#0d0887"
             ],
             [
              0.1111111111111111,
              "#46039f"
             ],
             [
              0.2222222222222222,
              "#7201a8"
             ],
             [
              0.3333333333333333,
              "#9c179e"
             ],
             [
              0.4444444444444444,
              "#bd3786"
             ],
             [
              0.5555555555555556,
              "#d8576b"
             ],
             [
              0.6666666666666666,
              "#ed7953"
             ],
             [
              0.7777777777777778,
              "#fb9f3a"
             ],
             [
              0.8888888888888888,
              "#fdca26"
             ],
             [
              1,
              "#f0f921"
             ]
            ],
            "type": "surface"
           }
          ],
          "table": [
           {
            "cells": {
             "fill": {
              "color": "#EBF0F8"
             },
             "line": {
              "color": "white"
             }
            },
            "header": {
             "fill": {
              "color": "#C8D4E3"
             },
             "line": {
              "color": "white"
             }
            },
            "type": "table"
           }
          ]
         },
         "layout": {
          "annotationdefaults": {
           "arrowcolor": "#2a3f5f",
           "arrowhead": 0,
           "arrowwidth": 1
          },
          "autotypenumbers": "strict",
          "coloraxis": {
           "colorbar": {
            "outlinewidth": 0,
            "ticks": ""
           }
          },
          "colorscale": {
           "diverging": [
            [
             0,
             "#8e0152"
            ],
            [
             0.1,
             "#c51b7d"
            ],
            [
             0.2,
             "#de77ae"
            ],
            [
             0.3,
             "#f1b6da"
            ],
            [
             0.4,
             "#fde0ef"
            ],
            [
             0.5,
             "#f7f7f7"
            ],
            [
             0.6,
             "#e6f5d0"
            ],
            [
             0.7,
             "#b8e186"
            ],
            [
             0.8,
             "#7fbc41"
            ],
            [
             0.9,
             "#4d9221"
            ],
            [
             1,
             "#276419"
            ]
           ],
           "sequential": [
            [
             0,
             "#0d0887"
            ],
            [
             0.1111111111111111,
             "#46039f"
            ],
            [
             0.2222222222222222,
             "#7201a8"
            ],
            [
             0.3333333333333333,
             "#9c179e"
            ],
            [
             0.4444444444444444,
             "#bd3786"
            ],
            [
             0.5555555555555556,
             "#d8576b"
            ],
            [
             0.6666666666666666,
             "#ed7953"
            ],
            [
             0.7777777777777778,
             "#fb9f3a"
            ],
            [
             0.8888888888888888,
             "#fdca26"
            ],
            [
             1,
             "#f0f921"
            ]
           ],
           "sequentialminus": [
            [
             0,
             "#0d0887"
            ],
            [
             0.1111111111111111,
             "#46039f"
            ],
            [
             0.2222222222222222,
             "#7201a8"
            ],
            [
             0.3333333333333333,
             "#9c179e"
            ],
            [
             0.4444444444444444,
             "#bd3786"
            ],
            [
             0.5555555555555556,
             "#d8576b"
            ],
            [
             0.6666666666666666,
             "#ed7953"
            ],
            [
             0.7777777777777778,
             "#fb9f3a"
            ],
            [
             0.8888888888888888,
             "#fdca26"
            ],
            [
             1,
             "#f0f921"
            ]
           ]
          },
          "colorway": [
           "#636efa",
           "#EF553B",
           "#00cc96",
           "#ab63fa",
           "#FFA15A",
           "#19d3f3",
           "#FF6692",
           "#B6E880",
           "#FF97FF",
           "#FECB52"
          ],
          "font": {
           "color": "#2a3f5f"
          },
          "geo": {
           "bgcolor": "white",
           "lakecolor": "white",
           "landcolor": "#E5ECF6",
           "showlakes": true,
           "showland": true,
           "subunitcolor": "white"
          },
          "hoverlabel": {
           "align": "left"
          },
          "hovermode": "closest",
          "mapbox": {
           "style": "light"
          },
          "paper_bgcolor": "white",
          "plot_bgcolor": "#E5ECF6",
          "polar": {
           "angularaxis": {
            "gridcolor": "white",
            "linecolor": "white",
            "ticks": ""
           },
           "bgcolor": "#E5ECF6",
           "radialaxis": {
            "gridcolor": "white",
            "linecolor": "white",
            "ticks": ""
           }
          },
          "scene": {
           "xaxis": {
            "backgroundcolor": "#E5ECF6",
            "gridcolor": "white",
            "gridwidth": 2,
            "linecolor": "white",
            "showbackground": true,
            "ticks": "",
            "zerolinecolor": "white"
           },
           "yaxis": {
            "backgroundcolor": "#E5ECF6",
            "gridcolor": "white",
            "gridwidth": 2,
            "linecolor": "white",
            "showbackground": true,
            "ticks": "",
            "zerolinecolor": "white"
           },
           "zaxis": {
            "backgroundcolor": "#E5ECF6",
            "gridcolor": "white",
            "gridwidth": 2,
            "linecolor": "white",
            "showbackground": true,
            "ticks": "",
            "zerolinecolor": "white"
           }
          },
          "shapedefaults": {
           "line": {
            "color": "#2a3f5f"
           }
          },
          "ternary": {
           "aaxis": {
            "gridcolor": "white",
            "linecolor": "white",
            "ticks": ""
           },
           "baxis": {
            "gridcolor": "white",
            "linecolor": "white",
            "ticks": ""
           },
           "bgcolor": "#E5ECF6",
           "caxis": {
            "gridcolor": "white",
            "linecolor": "white",
            "ticks": ""
           }
          },
          "title": {
           "x": 0.05
          },
          "xaxis": {
           "automargin": true,
           "gridcolor": "white",
           "linecolor": "white",
           "ticks": "",
           "title": {
            "standoff": 15
           },
           "zerolinecolor": "white",
           "zerolinewidth": 2
          },
          "yaxis": {
           "automargin": true,
           "gridcolor": "white",
           "linecolor": "white",
           "ticks": "",
           "title": {
            "standoff": 15
           },
           "zerolinecolor": "white",
           "zerolinewidth": 2
          }
         }
        },
        "title": {
         "font": {
          "color": "#4D5663"
         }
        },
        "xaxis": {
         "gridcolor": "#E1E5ED",
         "showgrid": true,
         "tickfont": {
          "color": "#4D5663"
         },
         "title": {
          "font": {
           "color": "#4D5663"
          },
          "text": ""
         },
         "zerolinecolor": "#E1E5ED"
        },
        "yaxis": {
         "gridcolor": "#E1E5ED",
         "showgrid": true,
         "tickfont": {
          "color": "#4D5663"
         },
         "title": {
          "font": {
           "color": "#4D5663"
          },
          "text": ""
         },
         "zerolinecolor": "#E1E5ED"
        }
       }
      },
      "text/html": [
       "<div>                            <div id=\"d0ce809a-fd1c-4001-bebe-b8027179afd6\" class=\"plotly-graph-div\" style=\"height:525px; width:100%;\"></div>            <script type=\"text/javascript\">                require([\"plotly\"], function(Plotly) {                    window.PLOTLYENV=window.PLOTLYENV || {};\n",
       "                    window.PLOTLYENV.BASE_URL='https://plot.ly';                                    if (document.getElementById(\"d0ce809a-fd1c-4001-bebe-b8027179afd6\")) {                    Plotly.newPlot(                        \"d0ce809a-fd1c-4001-bebe-b8027179afd6\",                        [{\"boxpoints\":false,\"line\":{\"width\":1.3},\"marker\":{\"color\":\"rgba(255, 153, 51, 1.0)\"},\"name\":\"A\",\"orientation\":\"v\",\"y\":[0.12063307993793361,-0.9753533300826948,-2.6763579724952478,0.4925482616402867,-1.3155762174963437,-0.9217912477793413,-0.4281288511836951,-0.0741095333382842,-0.3692088265632047,0.35277535814250177,-1.2316540713957096,-0.9813720181548536,-0.47010006603407345,-0.9756382227178094,-0.8715649349132115,-0.8173420824910456,-0.29952269396360204,1.6181557308102659,0.23461995230221297,-0.7300727916207131,-0.3244203020415168,1.3694792193594787,-1.1830985969539412,-0.6695712322864437,0.050300812786321834,1.036031284483547,0.1247331884526296,0.8612593921604814,-0.45189648057547976,-0.898337364398072,-0.6308497962480135,0.2495090999989929,0.611785806237333,-0.6494156327534888,1.0626583005146162,-0.6765149979610443,-0.8629222849427012,-0.4276817021646282,0.6989004308480385,0.6181170042687887,1.0505932458214589,-1.5983442369800216,0.9999863331004377,-0.6102895780299539,0.09795246638112484,-0.4385288540045722,-1.2123774307299526,-0.10202832053379358,1.0446774055922547,-1.5020525330486525,-0.337479573581759,0.19549105352603027,-0.07001083383244362,-0.44993406654047785,0.19182058873532176,-0.6732686807599063,0.6998273146365749,0.43016092779073634,1.600242286482051,0.6205651472739886,-1.2413108957504477,0.4319110171963078,2.079307316368707,0.15878224002809227,-0.4607271915720504,-1.795639248025241,-0.6253697528709673,1.465503456008871,-0.6621669846039352,-0.41103293808023034,1.5749238411721267,-2.1864561795949813,-0.4977776664624909,1.3853988617617512,-0.5129876095526238,-0.897283087487321,2.0986612052958025,-0.05035355878762703,0.03859935212065949,-2.181021788479176,1.1405184610429981,-0.658601302599404,0.5437139638452326,0.5223135093950999,2.3705411280177904,0.28454474083707143,1.4193227372132629,0.6507308823181396,0.1352940000072053,0.6523221390470338,-0.1031777953536062,-0.40840207673124784,0.7014536039135242,1.4910125606499636,-0.5187542098528161,-0.623292885529943,-0.02245147999377042,-0.44467364964177175,1.1375268851232159,0.0007559084429775664],\"type\":\"box\"},{\"boxpoints\":false,\"line\":{\"width\":1.3},\"marker\":{\"color\":\"rgba(55, 128, 191, 1.0)\"},\"name\":\"B\",\"orientation\":\"v\",\"y\":[-0.522079700885799,-0.31144048082534775,-0.7241472605505641,-1.2300416300420594,-1.8259514993191461,0.08643067332288887,-0.6283151419454001,-1.2443686093861843,-1.505359284046377,-0.2909906645035104,2.4105090318814004,0.006445369976370312,-2.1350903995775115,-0.35677970863274977,2.665735533857099,0.21075148803133292,-1.477096928969249,-1.782247021906371,-0.1045020049367965,-0.8791025450878165,-0.8209774277057524,0.8175418726709417,-0.01252462004288382,0.9471130845989326,-0.7811646023115473,-0.4508891064134381,0.402968701853287,0.26988323235132583,0.29760155486874007,-0.5855154986981775,1.5665290787977386,-0.10604187433546194,1.7542538227020912,-0.4194429282036894,-0.6986056790450845,1.1653041671491604,0.7805924904980847,0.7078288402890757,0.7628913203145052,1.0038172992288839,-0.5993951364247309,-0.835625897075209,1.0250317477702606,-0.16680206921106913,0.5193460355361813,-0.3760153715147701,-0.09048636808925331,0.26840034393654744,-0.8752140619894638,1.2434346657594744,-1.040862850259558,-0.08318030099812591,1.1262077248215225,0.19091323327763102,-1.5581479965062561,1.5971093964125844,-1.4402128536648402,-1.3956727151928396,1.1499635991459776,-0.09614943989750462,0.7487131649604577,-1.859833599541245,-0.9682080674311809,-0.8083895310134205,0.07201517625696108,0.7003724874308773,0.3603434078366872,0.2927914903976886,-0.7190722328005713,-1.7126127758544523,-1.0089623624439557,-0.6332747090638846,-0.8859839233149006,0.3559550339077135,-3.060786815176108,0.0255005372731153,-1.16745831455643,-0.8771907956407784,1.2523862232883565,0.889884163871847,0.26199921668687814,-2.320689529863178,-1.0508154456053262,-0.36819100118589093,-2.52189205985639,-0.4081792384634467,-0.5715287779757289,-1.154308594072173,-0.1014768864365199,0.9034333621414394,0.18704522998111542,-0.770687484163319,1.5800506524826317,-2.0021988373340114,0.04406612466476638,0.3821163996133508,0.5646937296566823,-0.22207501230812823,-0.21342804668328857,-0.23999683873682087],\"type\":\"box\"},{\"boxpoints\":false,\"line\":{\"width\":1.3},\"marker\":{\"color\":\"rgba(50, 171, 96, 1.0)\"},\"name\":\"C\",\"orientation\":\"v\",\"y\":[-0.08852422168968099,1.072484492537743,-0.28306527036306206,1.1143792172744111,-0.15324228434410764,-0.6884612580246313,-0.17421320917193495,-0.206459969894162,-0.1551998524418452,-1.594549359201786,0.12962482481356008,1.4125497278289871,2.0280801805745674,-0.4867125065674324,0.8687333918268887,1.0738998682842913,0.014796025537450566,-0.260435340815994,0.9164520451900645,-0.1807166453737971,-0.21603513631778892,-0.005133521724726195,-0.26807554679017515,-1.6226518840890563,1.23843653101688,-1.7358737070798764,-0.9650342459233452,1.07954874339853,-1.1740575297045988,1.240629856557279,-1.5227213081489694,-1.2981210653778195,0.38811634858265204,-1.5572179151187917,-0.4808710510184642,1.4254411136895513,-0.20626030476631396,-0.29572646205138625,-0.5287062751802881,1.668518809610592,-0.42847759957627374,-0.4436926481063419,1.1876194866796395,0.7927461345390285,2.42697799320039,1.8174587405742009,-0.8487636678579801,-0.21676116335648146,-0.8102531223843233,-0.6964877204988207,0.9714541173134353,-2.1313853402612164,-0.12886133592566965,1.1812208450998414,0.9608577388996173,-0.3746944397459756,0.33832625566752994,-0.9143658978339623,0.2391931007286504,-0.08818106379294745,2.443628091937669,-0.432638888593655,1.7518255385227397,-1.324697644112153,-2.37499689910705,-0.8241478699748068,-2.1046384315654043,-1.7714014936538525,-0.6628237039477233,0.545682701302367,-0.4937891517904503,-0.5876593317921288,1.147240939829258,-0.9065394655681176,-0.05186145685783981,0.013860428477771624,0.3036257283642649,0.33972234371061893,-0.002180358941292891,1.527465343299987,1.4653414245067913,-0.1354298427521185,-0.8627680102831661,0.4601472626886944,0.6751503853002964,0.16243678416398835,1.3300400022112162,0.06016429893458129,-1.502290213322178,-0.39660899097354996,0.6096994741412444,-0.6706998825275535,-1.2764029435901119,0.7343156439531086,-0.09146463762034475,-1.48059886806984,-0.7698558339018088,1.156836520036784,-0.4500676557898651,-0.2259957121405176],\"type\":\"box\"},{\"boxpoints\":false,\"line\":{\"width\":1.3},\"marker\":{\"color\":\"rgba(128, 0, 128, 1.0)\"},\"name\":\"D\",\"orientation\":\"v\",\"y\":[-2.882928743561441,0.34844846725286066,1.2680257646880417,2.6158951835942448,-0.08666633264915499,0.6855126890217901,0.9673967695631298,-0.6661245750975666,-1.5926703284052073,-0.8379040920672681,-0.37570499245518674,-0.8371811965354067,-0.5098065928461315,0.1372469396536534,-0.6471083702863741,0.8046279866565285,-0.24130185170022783,-0.32632814181417097,-0.15354271935767372,-1.4439112915696954,0.6246962871267743,0.12432204950512159,1.6752929976667723,-0.2844432337393085,-1.343752758520758,0.1301416109711241,-0.6331050257489115,0.9518781871258761,0.7249514840301362,0.9101900639114405,1.2780574533758824,1.802348479945691,-0.31614820190356674,0.36773415100197077,-0.3908212366744393,-1.2935782038191448,0.05885575458926745,0.6950254647416754,0.3389537521370748,0.9123551822614718,0.6892369236633751,-0.49268785751272814,-1.3087763952309324,0.08758532549130894,0.4963918755186365,0.5872903488418483,0.13358063913681995,-0.6795571557063222,0.33591033706240725,-0.8744115193624418,0.1929363874465534,-0.8895244302940438,0.11690218778925603,-0.9637877846107626,0.2667924221703283,1.0541280312229273,0.5383199828563591,-0.5637487029043333,0.12495848178419726,-2.436259573590457,0.24140795366764298,-0.3360656488349088,-1.1201761256188392,0.2605197525489586,1.345908878127147,0.7445965881250635,-1.33426054511959,1.1476625537676224,0.01088312706030191,0.04395772829126626,-1.7562065311579718,1.4191323089484646,0.8010647667932251,0.6521378374268157,0.8045698013063193,-0.46743041772942134,-2.264670130265404,0.31279554598588744,0.4663204805144947,-1.1473863662551063,-0.447218095571166,-0.5262649784955559,0.22835004708314383,1.3515406939461974,-1.2568821953431548,-0.2791161614202711,-0.3013722862007754,-1.2591808777692868,-0.9608444919160927,0.11161661644196776,-0.24030404938264227,0.1291426942326392,0.14407473798474776,0.35458665833707625,-0.17211213011128082,0.37039146193315603,2.003557075920957,0.51786487390019,1.8897531118991615,0.2924227340416826],\"type\":\"box\"}],                        {\"legend\":{\"bgcolor\":\"#F5F6F9\",\"font\":{\"color\":\"#4D5663\"}},\"paper_bgcolor\":\"#F5F6F9\",\"plot_bgcolor\":\"#F5F6F9\",\"template\":{\"data\":{\"barpolar\":[{\"marker\":{\"line\":{\"color\":\"#E5ECF6\",\"width\":0.5},\"pattern\":{\"fillmode\":\"overlay\",\"size\":10,\"solidity\":0.2}},\"type\":\"barpolar\"}],\"bar\":[{\"error_x\":{\"color\":\"#2a3f5f\"},\"error_y\":{\"color\":\"#2a3f5f\"},\"marker\":{\"line\":{\"color\":\"#E5ECF6\",\"width\":0.5},\"pattern\":{\"fillmode\":\"overlay\",\"size\":10,\"solidity\":0.2}},\"type\":\"bar\"}],\"carpet\":[{\"aaxis\":{\"endlinecolor\":\"#2a3f5f\",\"gridcolor\":\"white\",\"linecolor\":\"white\",\"minorgridcolor\":\"white\",\"startlinecolor\":\"#2a3f5f\"},\"baxis\":{\"endlinecolor\":\"#2a3f5f\",\"gridcolor\":\"white\",\"linecolor\":\"white\",\"minorgridcolor\":\"white\",\"startlinecolor\":\"#2a3f5f\"},\"type\":\"carpet\"}],\"choropleth\":[{\"colorbar\":{\"outlinewidth\":0,\"ticks\":\"\"},\"type\":\"choropleth\"}],\"contourcarpet\":[{\"colorbar\":{\"outlinewidth\":0,\"ticks\":\"\"},\"type\":\"contourcarpet\"}],\"contour\":[{\"colorbar\":{\"outlinewidth\":0,\"ticks\":\"\"},\"colorscale\":[[0.0,\"#0d0887\"],[0.1111111111111111,\"#46039f\"],[0.2222222222222222,\"#7201a8\"],[0.3333333333333333,\"#9c179e\"],[0.4444444444444444,\"#bd3786\"],[0.5555555555555556,\"#d8576b\"],[0.6666666666666666,\"#ed7953\"],[0.7777777777777778,\"#fb9f3a\"],[0.8888888888888888,\"#fdca26\"],[1.0,\"#f0f921\"]],\"type\":\"contour\"}],\"heatmapgl\":[{\"colorbar\":{\"outlinewidth\":0,\"ticks\":\"\"},\"colorscale\":[[0.0,\"#0d0887\"],[0.1111111111111111,\"#46039f\"],[0.2222222222222222,\"#7201a8\"],[0.3333333333333333,\"#9c179e\"],[0.4444444444444444,\"#bd3786\"],[0.5555555555555556,\"#d8576b\"],[0.6666666666666666,\"#ed7953\"],[0.7777777777777778,\"#fb9f3a\"],[0.8888888888888888,\"#fdca26\"],[1.0,\"#f0f921\"]],\"type\":\"heatmapgl\"}],\"heatmap\":[{\"colorbar\":{\"outlinewidth\":0,\"ticks\":\"\"},\"colorscale\":[[0.0,\"#0d0887\"],[0.1111111111111111,\"#46039f\"],[0.2222222222222222,\"#7201a8\"],[0.3333333333333333,\"#9c179e\"],[0.4444444444444444,\"#bd3786\"],[0.5555555555555556,\"#d8576b\"],[0.6666666666666666,\"#ed7953\"],[0.7777777777777778,\"#fb9f3a\"],[0.8888888888888888,\"#fdca26\"],[1.0,\"#f0f921\"]],\"type\":\"heatmap\"}],\"histogram2dcontour\":[{\"colorbar\":{\"outlinewidth\":0,\"ticks\":\"\"},\"colorscale\":[[0.0,\"#0d0887\"],[0.1111111111111111,\"#46039f\"],[0.2222222222222222,\"#7201a8\"],[0.3333333333333333,\"#9c179e\"],[0.4444444444444444,\"#bd3786\"],[0.5555555555555556,\"#d8576b\"],[0.6666666666666666,\"#ed7953\"],[0.7777777777777778,\"#fb9f3a\"],[0.8888888888888888,\"#fdca26\"],[1.0,\"#f0f921\"]],\"type\":\"histogram2dcontour\"}],\"histogram2d\":[{\"colorbar\":{\"outlinewidth\":0,\"ticks\":\"\"},\"colorscale\":[[0.0,\"#0d0887\"],[0.1111111111111111,\"#46039f\"],[0.2222222222222222,\"#7201a8\"],[0.3333333333333333,\"#9c179e\"],[0.4444444444444444,\"#bd3786\"],[0.5555555555555556,\"#d8576b\"],[0.6666666666666666,\"#ed7953\"],[0.7777777777777778,\"#fb9f3a\"],[0.8888888888888888,\"#fdca26\"],[1.0,\"#f0f921\"]],\"type\":\"histogram2d\"}],\"histogram\":[{\"marker\":{\"pattern\":{\"fillmode\":\"overlay\",\"size\":10,\"solidity\":0.2}},\"type\":\"histogram\"}],\"mesh3d\":[{\"colorbar\":{\"outlinewidth\":0,\"ticks\":\"\"},\"type\":\"mesh3d\"}],\"parcoords\":[{\"line\":{\"colorbar\":{\"outlinewidth\":0,\"ticks\":\"\"}},\"type\":\"parcoords\"}],\"pie\":[{\"automargin\":true,\"type\":\"pie\"}],\"scatter3d\":[{\"line\":{\"colorbar\":{\"outlinewidth\":0,\"ticks\":\"\"}},\"marker\":{\"colorbar\":{\"outlinewidth\":0,\"ticks\":\"\"}},\"type\":\"scatter3d\"}],\"scattercarpet\":[{\"marker\":{\"colorbar\":{\"outlinewidth\":0,\"ticks\":\"\"}},\"type\":\"scattercarpet\"}],\"scattergeo\":[{\"marker\":{\"colorbar\":{\"outlinewidth\":0,\"ticks\":\"\"}},\"type\":\"scattergeo\"}],\"scattergl\":[{\"marker\":{\"colorbar\":{\"outlinewidth\":0,\"ticks\":\"\"}},\"type\":\"scattergl\"}],\"scattermapbox\":[{\"marker\":{\"colorbar\":{\"outlinewidth\":0,\"ticks\":\"\"}},\"type\":\"scattermapbox\"}],\"scatterpolargl\":[{\"marker\":{\"colorbar\":{\"outlinewidth\":0,\"ticks\":\"\"}},\"type\":\"scatterpolargl\"}],\"scatterpolar\":[{\"marker\":{\"colorbar\":{\"outlinewidth\":0,\"ticks\":\"\"}},\"type\":\"scatterpolar\"}],\"scatter\":[{\"marker\":{\"colorbar\":{\"outlinewidth\":0,\"ticks\":\"\"}},\"type\":\"scatter\"}],\"scatterternary\":[{\"marker\":{\"colorbar\":{\"outlinewidth\":0,\"ticks\":\"\"}},\"type\":\"scatterternary\"}],\"surface\":[{\"colorbar\":{\"outlinewidth\":0,\"ticks\":\"\"},\"colorscale\":[[0.0,\"#0d0887\"],[0.1111111111111111,\"#46039f\"],[0.2222222222222222,\"#7201a8\"],[0.3333333333333333,\"#9c179e\"],[0.4444444444444444,\"#bd3786\"],[0.5555555555555556,\"#d8576b\"],[0.6666666666666666,\"#ed7953\"],[0.7777777777777778,\"#fb9f3a\"],[0.8888888888888888,\"#fdca26\"],[1.0,\"#f0f921\"]],\"type\":\"surface\"}],\"table\":[{\"cells\":{\"fill\":{\"color\":\"#EBF0F8\"},\"line\":{\"color\":\"white\"}},\"header\":{\"fill\":{\"color\":\"#C8D4E3\"},\"line\":{\"color\":\"white\"}},\"type\":\"table\"}]},\"layout\":{\"annotationdefaults\":{\"arrowcolor\":\"#2a3f5f\",\"arrowhead\":0,\"arrowwidth\":1},\"autotypenumbers\":\"strict\",\"coloraxis\":{\"colorbar\":{\"outlinewidth\":0,\"ticks\":\"\"}},\"colorscale\":{\"diverging\":[[0,\"#8e0152\"],[0.1,\"#c51b7d\"],[0.2,\"#de77ae\"],[0.3,\"#f1b6da\"],[0.4,\"#fde0ef\"],[0.5,\"#f7f7f7\"],[0.6,\"#e6f5d0\"],[0.7,\"#b8e186\"],[0.8,\"#7fbc41\"],[0.9,\"#4d9221\"],[1,\"#276419\"]],\"sequential\":[[0.0,\"#0d0887\"],[0.1111111111111111,\"#46039f\"],[0.2222222222222222,\"#7201a8\"],[0.3333333333333333,\"#9c179e\"],[0.4444444444444444,\"#bd3786\"],[0.5555555555555556,\"#d8576b\"],[0.6666666666666666,\"#ed7953\"],[0.7777777777777778,\"#fb9f3a\"],[0.8888888888888888,\"#fdca26\"],[1.0,\"#f0f921\"]],\"sequentialminus\":[[0.0,\"#0d0887\"],[0.1111111111111111,\"#46039f\"],[0.2222222222222222,\"#7201a8\"],[0.3333333333333333,\"#9c179e\"],[0.4444444444444444,\"#bd3786\"],[0.5555555555555556,\"#d8576b\"],[0.6666666666666666,\"#ed7953\"],[0.7777777777777778,\"#fb9f3a\"],[0.8888888888888888,\"#fdca26\"],[1.0,\"#f0f921\"]]},\"colorway\":[\"#636efa\",\"#EF553B\",\"#00cc96\",\"#ab63fa\",\"#FFA15A\",\"#19d3f3\",\"#FF6692\",\"#B6E880\",\"#FF97FF\",\"#FECB52\"],\"font\":{\"color\":\"#2a3f5f\"},\"geo\":{\"bgcolor\":\"white\",\"lakecolor\":\"white\",\"landcolor\":\"#E5ECF6\",\"showlakes\":true,\"showland\":true,\"subunitcolor\":\"white\"},\"hoverlabel\":{\"align\":\"left\"},\"hovermode\":\"closest\",\"mapbox\":{\"style\":\"light\"},\"paper_bgcolor\":\"white\",\"plot_bgcolor\":\"#E5ECF6\",\"polar\":{\"angularaxis\":{\"gridcolor\":\"white\",\"linecolor\":\"white\",\"ticks\":\"\"},\"bgcolor\":\"#E5ECF6\",\"radialaxis\":{\"gridcolor\":\"white\",\"linecolor\":\"white\",\"ticks\":\"\"}},\"scene\":{\"xaxis\":{\"backgroundcolor\":\"#E5ECF6\",\"gridcolor\":\"white\",\"gridwidth\":2,\"linecolor\":\"white\",\"showbackground\":true,\"ticks\":\"\",\"zerolinecolor\":\"white\"},\"yaxis\":{\"backgroundcolor\":\"#E5ECF6\",\"gridcolor\":\"white\",\"gridwidth\":2,\"linecolor\":\"white\",\"showbackground\":true,\"ticks\":\"\",\"zerolinecolor\":\"white\"},\"zaxis\":{\"backgroundcolor\":\"#E5ECF6\",\"gridcolor\":\"white\",\"gridwidth\":2,\"linecolor\":\"white\",\"showbackground\":true,\"ticks\":\"\",\"zerolinecolor\":\"white\"}},\"shapedefaults\":{\"line\":{\"color\":\"#2a3f5f\"}},\"ternary\":{\"aaxis\":{\"gridcolor\":\"white\",\"linecolor\":\"white\",\"ticks\":\"\"},\"baxis\":{\"gridcolor\":\"white\",\"linecolor\":\"white\",\"ticks\":\"\"},\"bgcolor\":\"#E5ECF6\",\"caxis\":{\"gridcolor\":\"white\",\"linecolor\":\"white\",\"ticks\":\"\"}},\"title\":{\"x\":0.05},\"xaxis\":{\"automargin\":true,\"gridcolor\":\"white\",\"linecolor\":\"white\",\"ticks\":\"\",\"title\":{\"standoff\":15},\"zerolinecolor\":\"white\",\"zerolinewidth\":2},\"yaxis\":{\"automargin\":true,\"gridcolor\":\"white\",\"linecolor\":\"white\",\"ticks\":\"\",\"title\":{\"standoff\":15},\"zerolinecolor\":\"white\",\"zerolinewidth\":2}}},\"title\":{\"font\":{\"color\":\"#4D5663\"}},\"xaxis\":{\"gridcolor\":\"#E1E5ED\",\"showgrid\":true,\"tickfont\":{\"color\":\"#4D5663\"},\"title\":{\"font\":{\"color\":\"#4D5663\"},\"text\":\"\"},\"zerolinecolor\":\"#E1E5ED\"},\"yaxis\":{\"gridcolor\":\"#E1E5ED\",\"showgrid\":true,\"tickfont\":{\"color\":\"#4D5663\"},\"title\":{\"font\":{\"color\":\"#4D5663\"},\"text\":\"\"},\"zerolinecolor\":\"#E1E5ED\"}},                        {\"showLink\": true, \"linkText\": \"Export to plot.ly\", \"plotlyServerURL\": \"https://plot.ly\", \"responsive\": true}                    ).then(function(){\n",
       "                            \n",
       "var gd = document.getElementById('d0ce809a-fd1c-4001-bebe-b8027179afd6');\n",
       "var x = new MutationObserver(function (mutations, observer) {{\n",
       "        var display = window.getComputedStyle(gd).display;\n",
       "        if (!display || display === 'none') {{\n",
       "            console.log([gd, 'removed!']);\n",
       "            Plotly.purge(gd);\n",
       "            observer.disconnect();\n",
       "        }}\n",
       "}});\n",
       "\n",
       "// Listen for the removal of the full notebook cells\n",
       "var notebookContainer = gd.closest('#notebook-container');\n",
       "if (notebookContainer) {{\n",
       "    x.observe(notebookContainer, {childList: true});\n",
       "}}\n",
       "\n",
       "// Listen for the clearing of the current output cell\n",
       "var outputEl = gd.closest('.output');\n",
       "if (outputEl) {{\n",
       "    x.observe(outputEl, {childList: true});\n",
       "}}\n",
       "\n",
       "                        })                };                });            </script>        </div>"
      ]
     },
     "metadata": {},
     "output_type": "display_data"
    }
   ],
   "source": [
    "df.iplot(kind='box')"
   ]
  },
  {
   "cell_type": "markdown",
   "metadata": {},
   "source": [
    "## 3d Surface"
   ]
  },
  {
   "cell_type": "code",
   "execution_count": 17,
   "metadata": {
    "collapsed": false
   },
   "outputs": [
    {
     "data": {
      "application/vnd.plotly.v1+json": {
       "config": {
        "linkText": "Export to plot.ly",
        "plotlyServerURL": "https://plot.ly",
        "showLink": true
       },
       "data": [
        {
         "colorscale": [
          [
           0,
           "rgb(165,0,38)"
          ],
          [
           0.1,
           "rgb(215,48,39)"
          ],
          [
           0.2,
           "rgb(244,109,67)"
          ],
          [
           0.3,
           "rgb(253,174,97)"
          ],
          [
           0.4,
           "rgb(254,224,144)"
          ],
          [
           0.5,
           "rgb(255,255,191)"
          ],
          [
           0.6,
           "rgb(224,243,248)"
          ],
          [
           0.7,
           "rgb(171,217,233)"
          ],
          [
           0.8,
           "rgb(116,173,209)"
          ],
          [
           0.9,
           "rgb(69,117,180)"
          ],
          [
           1,
           "rgb(49,54,149)"
          ]
         ],
         "type": "surface",
         "x": [
          0,
          1,
          2,
          3,
          4
         ],
         "y": [
          "x",
          "y",
          "z"
         ],
         "z": [
          [
           1,
           2,
           3,
           4,
           5
          ],
          [
           10,
           20,
           30,
           20,
           10
          ],
          [
           5,
           4,
           3,
           2,
           1
          ]
         ]
        }
       ],
       "layout": {
        "legend": {
         "bgcolor": "#F5F6F9",
         "font": {
          "color": "#4D5663"
         }
        },
        "paper_bgcolor": "#F5F6F9",
        "plot_bgcolor": "#F5F6F9",
        "template": {
         "data": {
          "bar": [
           {
            "error_x": {
             "color": "#2a3f5f"
            },
            "error_y": {
             "color": "#2a3f5f"
            },
            "marker": {
             "line": {
              "color": "#E5ECF6",
              "width": 0.5
             },
             "pattern": {
              "fillmode": "overlay",
              "size": 10,
              "solidity": 0.2
             }
            },
            "type": "bar"
           }
          ],
          "barpolar": [
           {
            "marker": {
             "line": {
              "color": "#E5ECF6",
              "width": 0.5
             },
             "pattern": {
              "fillmode": "overlay",
              "size": 10,
              "solidity": 0.2
             }
            },
            "type": "barpolar"
           }
          ],
          "carpet": [
           {
            "aaxis": {
             "endlinecolor": "#2a3f5f",
             "gridcolor": "white",
             "linecolor": "white",
             "minorgridcolor": "white",
             "startlinecolor": "#2a3f5f"
            },
            "baxis": {
             "endlinecolor": "#2a3f5f",
             "gridcolor": "white",
             "linecolor": "white",
             "minorgridcolor": "white",
             "startlinecolor": "#2a3f5f"
            },
            "type": "carpet"
           }
          ],
          "choropleth": [
           {
            "colorbar": {
             "outlinewidth": 0,
             "ticks": ""
            },
            "type": "choropleth"
           }
          ],
          "contour": [
           {
            "colorbar": {
             "outlinewidth": 0,
             "ticks": ""
            },
            "colorscale": [
             [
              0,
              "#0d0887"
             ],
             [
              0.1111111111111111,
              "#46039f"
             ],
             [
              0.2222222222222222,
              "#7201a8"
             ],
             [
              0.3333333333333333,
              "#9c179e"
             ],
             [
              0.4444444444444444,
              "#bd3786"
             ],
             [
              0.5555555555555556,
              "#d8576b"
             ],
             [
              0.6666666666666666,
              "#ed7953"
             ],
             [
              0.7777777777777778,
              "#fb9f3a"
             ],
             [
              0.8888888888888888,
              "#fdca26"
             ],
             [
              1,
              "#f0f921"
             ]
            ],
            "type": "contour"
           }
          ],
          "contourcarpet": [
           {
            "colorbar": {
             "outlinewidth": 0,
             "ticks": ""
            },
            "type": "contourcarpet"
           }
          ],
          "heatmap": [
           {
            "colorbar": {
             "outlinewidth": 0,
             "ticks": ""
            },
            "colorscale": [
             [
              0,
              "#0d0887"
             ],
             [
              0.1111111111111111,
              "#46039f"
             ],
             [
              0.2222222222222222,
              "#7201a8"
             ],
             [
              0.3333333333333333,
              "#9c179e"
             ],
             [
              0.4444444444444444,
              "#bd3786"
             ],
             [
              0.5555555555555556,
              "#d8576b"
             ],
             [
              0.6666666666666666,
              "#ed7953"
             ],
             [
              0.7777777777777778,
              "#fb9f3a"
             ],
             [
              0.8888888888888888,
              "#fdca26"
             ],
             [
              1,
              "#f0f921"
             ]
            ],
            "type": "heatmap"
           }
          ],
          "heatmapgl": [
           {
            "colorbar": {
             "outlinewidth": 0,
             "ticks": ""
            },
            "colorscale": [
             [
              0,
              "#0d0887"
             ],
             [
              0.1111111111111111,
              "#46039f"
             ],
             [
              0.2222222222222222,
              "#7201a8"
             ],
             [
              0.3333333333333333,
              "#9c179e"
             ],
             [
              0.4444444444444444,
              "#bd3786"
             ],
             [
              0.5555555555555556,
              "#d8576b"
             ],
             [
              0.6666666666666666,
              "#ed7953"
             ],
             [
              0.7777777777777778,
              "#fb9f3a"
             ],
             [
              0.8888888888888888,
              "#fdca26"
             ],
             [
              1,
              "#f0f921"
             ]
            ],
            "type": "heatmapgl"
           }
          ],
          "histogram": [
           {
            "marker": {
             "pattern": {
              "fillmode": "overlay",
              "size": 10,
              "solidity": 0.2
             }
            },
            "type": "histogram"
           }
          ],
          "histogram2d": [
           {
            "colorbar": {
             "outlinewidth": 0,
             "ticks": ""
            },
            "colorscale": [
             [
              0,
              "#0d0887"
             ],
             [
              0.1111111111111111,
              "#46039f"
             ],
             [
              0.2222222222222222,
              "#7201a8"
             ],
             [
              0.3333333333333333,
              "#9c179e"
             ],
             [
              0.4444444444444444,
              "#bd3786"
             ],
             [
              0.5555555555555556,
              "#d8576b"
             ],
             [
              0.6666666666666666,
              "#ed7953"
             ],
             [
              0.7777777777777778,
              "#fb9f3a"
             ],
             [
              0.8888888888888888,
              "#fdca26"
             ],
             [
              1,
              "#f0f921"
             ]
            ],
            "type": "histogram2d"
           }
          ],
          "histogram2dcontour": [
           {
            "colorbar": {
             "outlinewidth": 0,
             "ticks": ""
            },
            "colorscale": [
             [
              0,
              "#0d0887"
             ],
             [
              0.1111111111111111,
              "#46039f"
             ],
             [
              0.2222222222222222,
              "#7201a8"
             ],
             [
              0.3333333333333333,
              "#9c179e"
             ],
             [
              0.4444444444444444,
              "#bd3786"
             ],
             [
              0.5555555555555556,
              "#d8576b"
             ],
             [
              0.6666666666666666,
              "#ed7953"
             ],
             [
              0.7777777777777778,
              "#fb9f3a"
             ],
             [
              0.8888888888888888,
              "#fdca26"
             ],
             [
              1,
              "#f0f921"
             ]
            ],
            "type": "histogram2dcontour"
           }
          ],
          "mesh3d": [
           {
            "colorbar": {
             "outlinewidth": 0,
             "ticks": ""
            },
            "type": "mesh3d"
           }
          ],
          "parcoords": [
           {
            "line": {
             "colorbar": {
              "outlinewidth": 0,
              "ticks": ""
             }
            },
            "type": "parcoords"
           }
          ],
          "pie": [
           {
            "automargin": true,
            "type": "pie"
           }
          ],
          "scatter": [
           {
            "marker": {
             "colorbar": {
              "outlinewidth": 0,
              "ticks": ""
             }
            },
            "type": "scatter"
           }
          ],
          "scatter3d": [
           {
            "line": {
             "colorbar": {
              "outlinewidth": 0,
              "ticks": ""
             }
            },
            "marker": {
             "colorbar": {
              "outlinewidth": 0,
              "ticks": ""
             }
            },
            "type": "scatter3d"
           }
          ],
          "scattercarpet": [
           {
            "marker": {
             "colorbar": {
              "outlinewidth": 0,
              "ticks": ""
             }
            },
            "type": "scattercarpet"
           }
          ],
          "scattergeo": [
           {
            "marker": {
             "colorbar": {
              "outlinewidth": 0,
              "ticks": ""
             }
            },
            "type": "scattergeo"
           }
          ],
          "scattergl": [
           {
            "marker": {
             "colorbar": {
              "outlinewidth": 0,
              "ticks": ""
             }
            },
            "type": "scattergl"
           }
          ],
          "scattermapbox": [
           {
            "marker": {
             "colorbar": {
              "outlinewidth": 0,
              "ticks": ""
             }
            },
            "type": "scattermapbox"
           }
          ],
          "scatterpolar": [
           {
            "marker": {
             "colorbar": {
              "outlinewidth": 0,
              "ticks": ""
             }
            },
            "type": "scatterpolar"
           }
          ],
          "scatterpolargl": [
           {
            "marker": {
             "colorbar": {
              "outlinewidth": 0,
              "ticks": ""
             }
            },
            "type": "scatterpolargl"
           }
          ],
          "scatterternary": [
           {
            "marker": {
             "colorbar": {
              "outlinewidth": 0,
              "ticks": ""
             }
            },
            "type": "scatterternary"
           }
          ],
          "surface": [
           {
            "colorbar": {
             "outlinewidth": 0,
             "ticks": ""
            },
            "colorscale": [
             [
              0,
              "#0d0887"
             ],
             [
              0.1111111111111111,
              "#46039f"
             ],
             [
              0.2222222222222222,
              "#7201a8"
             ],
             [
              0.3333333333333333,
              "#9c179e"
             ],
             [
              0.4444444444444444,
              "#bd3786"
             ],
             [
              0.5555555555555556,
              "#d8576b"
             ],
             [
              0.6666666666666666,
              "#ed7953"
             ],
             [
              0.7777777777777778,
              "#fb9f3a"
             ],
             [
              0.8888888888888888,
              "#fdca26"
             ],
             [
              1,
              "#f0f921"
             ]
            ],
            "type": "surface"
           }
          ],
          "table": [
           {
            "cells": {
             "fill": {
              "color": "#EBF0F8"
             },
             "line": {
              "color": "white"
             }
            },
            "header": {
             "fill": {
              "color": "#C8D4E3"
             },
             "line": {
              "color": "white"
             }
            },
            "type": "table"
           }
          ]
         },
         "layout": {
          "annotationdefaults": {
           "arrowcolor": "#2a3f5f",
           "arrowhead": 0,
           "arrowwidth": 1
          },
          "autotypenumbers": "strict",
          "coloraxis": {
           "colorbar": {
            "outlinewidth": 0,
            "ticks": ""
           }
          },
          "colorscale": {
           "diverging": [
            [
             0,
             "#8e0152"
            ],
            [
             0.1,
             "#c51b7d"
            ],
            [
             0.2,
             "#de77ae"
            ],
            [
             0.3,
             "#f1b6da"
            ],
            [
             0.4,
             "#fde0ef"
            ],
            [
             0.5,
             "#f7f7f7"
            ],
            [
             0.6,
             "#e6f5d0"
            ],
            [
             0.7,
             "#b8e186"
            ],
            [
             0.8,
             "#7fbc41"
            ],
            [
             0.9,
             "#4d9221"
            ],
            [
             1,
             "#276419"
            ]
           ],
           "sequential": [
            [
             0,
             "#0d0887"
            ],
            [
             0.1111111111111111,
             "#46039f"
            ],
            [
             0.2222222222222222,
             "#7201a8"
            ],
            [
             0.3333333333333333,
             "#9c179e"
            ],
            [
             0.4444444444444444,
             "#bd3786"
            ],
            [
             0.5555555555555556,
             "#d8576b"
            ],
            [
             0.6666666666666666,
             "#ed7953"
            ],
            [
             0.7777777777777778,
             "#fb9f3a"
            ],
            [
             0.8888888888888888,
             "#fdca26"
            ],
            [
             1,
             "#f0f921"
            ]
           ],
           "sequentialminus": [
            [
             0,
             "#0d0887"
            ],
            [
             0.1111111111111111,
             "#46039f"
            ],
            [
             0.2222222222222222,
             "#7201a8"
            ],
            [
             0.3333333333333333,
             "#9c179e"
            ],
            [
             0.4444444444444444,
             "#bd3786"
            ],
            [
             0.5555555555555556,
             "#d8576b"
            ],
            [
             0.6666666666666666,
             "#ed7953"
            ],
            [
             0.7777777777777778,
             "#fb9f3a"
            ],
            [
             0.8888888888888888,
             "#fdca26"
            ],
            [
             1,
             "#f0f921"
            ]
           ]
          },
          "colorway": [
           "#636efa",
           "#EF553B",
           "#00cc96",
           "#ab63fa",
           "#FFA15A",
           "#19d3f3",
           "#FF6692",
           "#B6E880",
           "#FF97FF",
           "#FECB52"
          ],
          "font": {
           "color": "#2a3f5f"
          },
          "geo": {
           "bgcolor": "white",
           "lakecolor": "white",
           "landcolor": "#E5ECF6",
           "showlakes": true,
           "showland": true,
           "subunitcolor": "white"
          },
          "hoverlabel": {
           "align": "left"
          },
          "hovermode": "closest",
          "mapbox": {
           "style": "light"
          },
          "paper_bgcolor": "white",
          "plot_bgcolor": "#E5ECF6",
          "polar": {
           "angularaxis": {
            "gridcolor": "white",
            "linecolor": "white",
            "ticks": ""
           },
           "bgcolor": "#E5ECF6",
           "radialaxis": {
            "gridcolor": "white",
            "linecolor": "white",
            "ticks": ""
           }
          },
          "scene": {
           "xaxis": {
            "backgroundcolor": "#E5ECF6",
            "gridcolor": "white",
            "gridwidth": 2,
            "linecolor": "white",
            "showbackground": true,
            "ticks": "",
            "zerolinecolor": "white"
           },
           "yaxis": {
            "backgroundcolor": "#E5ECF6",
            "gridcolor": "white",
            "gridwidth": 2,
            "linecolor": "white",
            "showbackground": true,
            "ticks": "",
            "zerolinecolor": "white"
           },
           "zaxis": {
            "backgroundcolor": "#E5ECF6",
            "gridcolor": "white",
            "gridwidth": 2,
            "linecolor": "white",
            "showbackground": true,
            "ticks": "",
            "zerolinecolor": "white"
           }
          },
          "shapedefaults": {
           "line": {
            "color": "#2a3f5f"
           }
          },
          "ternary": {
           "aaxis": {
            "gridcolor": "white",
            "linecolor": "white",
            "ticks": ""
           },
           "baxis": {
            "gridcolor": "white",
            "linecolor": "white",
            "ticks": ""
           },
           "bgcolor": "#E5ECF6",
           "caxis": {
            "gridcolor": "white",
            "linecolor": "white",
            "ticks": ""
           }
          },
          "title": {
           "x": 0.05
          },
          "xaxis": {
           "automargin": true,
           "gridcolor": "white",
           "linecolor": "white",
           "ticks": "",
           "title": {
            "standoff": 15
           },
           "zerolinecolor": "white",
           "zerolinewidth": 2
          },
          "yaxis": {
           "automargin": true,
           "gridcolor": "white",
           "linecolor": "white",
           "ticks": "",
           "title": {
            "standoff": 15
           },
           "zerolinecolor": "white",
           "zerolinewidth": 2
          }
         }
        },
        "title": {
         "font": {
          "color": "#4D5663"
         }
        },
        "xaxis": {
         "gridcolor": "#E1E5ED",
         "showgrid": true,
         "tickfont": {
          "color": "#4D5663"
         },
         "title": {
          "font": {
           "color": "#4D5663"
          },
          "text": ""
         },
         "zerolinecolor": "#E1E5ED"
        },
        "yaxis": {
         "gridcolor": "#E1E5ED",
         "showgrid": true,
         "tickfont": {
          "color": "#4D5663"
         },
         "title": {
          "font": {
           "color": "#4D5663"
          },
          "text": ""
         },
         "zerolinecolor": "#E1E5ED"
        }
       }
      },
      "text/html": [
       "<div>                            <div id=\"cf1af324-838d-4ae4-823b-3b83bb5d0d18\" class=\"plotly-graph-div\" style=\"height:525px; width:100%;\"></div>            <script type=\"text/javascript\">                require([\"plotly\"], function(Plotly) {                    window.PLOTLYENV=window.PLOTLYENV || {};\n",
       "                    window.PLOTLYENV.BASE_URL='https://plot.ly';                                    if (document.getElementById(\"cf1af324-838d-4ae4-823b-3b83bb5d0d18\")) {                    Plotly.newPlot(                        \"cf1af324-838d-4ae4-823b-3b83bb5d0d18\",                        [{\"colorscale\":[[0.0,\"rgb(165,0,38)\"],[0.1,\"rgb(215,48,39)\"],[0.2,\"rgb(244,109,67)\"],[0.3,\"rgb(253,174,97)\"],[0.4,\"rgb(254,224,144)\"],[0.5,\"rgb(255,255,191)\"],[0.6,\"rgb(224,243,248)\"],[0.7,\"rgb(171,217,233)\"],[0.8,\"rgb(116,173,209)\"],[0.9,\"rgb(69,117,180)\"],[1.0,\"rgb(49,54,149)\"]],\"x\":[0,1,2,3,4],\"y\":[\"x\",\"y\",\"z\"],\"z\":[[1,2,3,4,5],[10,20,30,20,10],[5,4,3,2,1]],\"type\":\"surface\"}],                        {\"legend\":{\"bgcolor\":\"#F5F6F9\",\"font\":{\"color\":\"#4D5663\"}},\"paper_bgcolor\":\"#F5F6F9\",\"plot_bgcolor\":\"#F5F6F9\",\"template\":{\"data\":{\"barpolar\":[{\"marker\":{\"line\":{\"color\":\"#E5ECF6\",\"width\":0.5},\"pattern\":{\"fillmode\":\"overlay\",\"size\":10,\"solidity\":0.2}},\"type\":\"barpolar\"}],\"bar\":[{\"error_x\":{\"color\":\"#2a3f5f\"},\"error_y\":{\"color\":\"#2a3f5f\"},\"marker\":{\"line\":{\"color\":\"#E5ECF6\",\"width\":0.5},\"pattern\":{\"fillmode\":\"overlay\",\"size\":10,\"solidity\":0.2}},\"type\":\"bar\"}],\"carpet\":[{\"aaxis\":{\"endlinecolor\":\"#2a3f5f\",\"gridcolor\":\"white\",\"linecolor\":\"white\",\"minorgridcolor\":\"white\",\"startlinecolor\":\"#2a3f5f\"},\"baxis\":{\"endlinecolor\":\"#2a3f5f\",\"gridcolor\":\"white\",\"linecolor\":\"white\",\"minorgridcolor\":\"white\",\"startlinecolor\":\"#2a3f5f\"},\"type\":\"carpet\"}],\"choropleth\":[{\"colorbar\":{\"outlinewidth\":0,\"ticks\":\"\"},\"type\":\"choropleth\"}],\"contourcarpet\":[{\"colorbar\":{\"outlinewidth\":0,\"ticks\":\"\"},\"type\":\"contourcarpet\"}],\"contour\":[{\"colorbar\":{\"outlinewidth\":0,\"ticks\":\"\"},\"colorscale\":[[0.0,\"#0d0887\"],[0.1111111111111111,\"#46039f\"],[0.2222222222222222,\"#7201a8\"],[0.3333333333333333,\"#9c179e\"],[0.4444444444444444,\"#bd3786\"],[0.5555555555555556,\"#d8576b\"],[0.6666666666666666,\"#ed7953\"],[0.7777777777777778,\"#fb9f3a\"],[0.8888888888888888,\"#fdca26\"],[1.0,\"#f0f921\"]],\"type\":\"contour\"}],\"heatmapgl\":[{\"colorbar\":{\"outlinewidth\":0,\"ticks\":\"\"},\"colorscale\":[[0.0,\"#0d0887\"],[0.1111111111111111,\"#46039f\"],[0.2222222222222222,\"#7201a8\"],[0.3333333333333333,\"#9c179e\"],[0.4444444444444444,\"#bd3786\"],[0.5555555555555556,\"#d8576b\"],[0.6666666666666666,\"#ed7953\"],[0.7777777777777778,\"#fb9f3a\"],[0.8888888888888888,\"#fdca26\"],[1.0,\"#f0f921\"]],\"type\":\"heatmapgl\"}],\"heatmap\":[{\"colorbar\":{\"outlinewidth\":0,\"ticks\":\"\"},\"colorscale\":[[0.0,\"#0d0887\"],[0.1111111111111111,\"#46039f\"],[0.2222222222222222,\"#7201a8\"],[0.3333333333333333,\"#9c179e\"],[0.4444444444444444,\"#bd3786\"],[0.5555555555555556,\"#d8576b\"],[0.6666666666666666,\"#ed7953\"],[0.7777777777777778,\"#fb9f3a\"],[0.8888888888888888,\"#fdca26\"],[1.0,\"#f0f921\"]],\"type\":\"heatmap\"}],\"histogram2dcontour\":[{\"colorbar\":{\"outlinewidth\":0,\"ticks\":\"\"},\"colorscale\":[[0.0,\"#0d0887\"],[0.1111111111111111,\"#46039f\"],[0.2222222222222222,\"#7201a8\"],[0.3333333333333333,\"#9c179e\"],[0.4444444444444444,\"#bd3786\"],[0.5555555555555556,\"#d8576b\"],[0.6666666666666666,\"#ed7953\"],[0.7777777777777778,\"#fb9f3a\"],[0.8888888888888888,\"#fdca26\"],[1.0,\"#f0f921\"]],\"type\":\"histogram2dcontour\"}],\"histogram2d\":[{\"colorbar\":{\"outlinewidth\":0,\"ticks\":\"\"},\"colorscale\":[[0.0,\"#0d0887\"],[0.1111111111111111,\"#46039f\"],[0.2222222222222222,\"#7201a8\"],[0.3333333333333333,\"#9c179e\"],[0.4444444444444444,\"#bd3786\"],[0.5555555555555556,\"#d8576b\"],[0.6666666666666666,\"#ed7953\"],[0.7777777777777778,\"#fb9f3a\"],[0.8888888888888888,\"#fdca26\"],[1.0,\"#f0f921\"]],\"type\":\"histogram2d\"}],\"histogram\":[{\"marker\":{\"pattern\":{\"fillmode\":\"overlay\",\"size\":10,\"solidity\":0.2}},\"type\":\"histogram\"}],\"mesh3d\":[{\"colorbar\":{\"outlinewidth\":0,\"ticks\":\"\"},\"type\":\"mesh3d\"}],\"parcoords\":[{\"line\":{\"colorbar\":{\"outlinewidth\":0,\"ticks\":\"\"}},\"type\":\"parcoords\"}],\"pie\":[{\"automargin\":true,\"type\":\"pie\"}],\"scatter3d\":[{\"line\":{\"colorbar\":{\"outlinewidth\":0,\"ticks\":\"\"}},\"marker\":{\"colorbar\":{\"outlinewidth\":0,\"ticks\":\"\"}},\"type\":\"scatter3d\"}],\"scattercarpet\":[{\"marker\":{\"colorbar\":{\"outlinewidth\":0,\"ticks\":\"\"}},\"type\":\"scattercarpet\"}],\"scattergeo\":[{\"marker\":{\"colorbar\":{\"outlinewidth\":0,\"ticks\":\"\"}},\"type\":\"scattergeo\"}],\"scattergl\":[{\"marker\":{\"colorbar\":{\"outlinewidth\":0,\"ticks\":\"\"}},\"type\":\"scattergl\"}],\"scattermapbox\":[{\"marker\":{\"colorbar\":{\"outlinewidth\":0,\"ticks\":\"\"}},\"type\":\"scattermapbox\"}],\"scatterpolargl\":[{\"marker\":{\"colorbar\":{\"outlinewidth\":0,\"ticks\":\"\"}},\"type\":\"scatterpolargl\"}],\"scatterpolar\":[{\"marker\":{\"colorbar\":{\"outlinewidth\":0,\"ticks\":\"\"}},\"type\":\"scatterpolar\"}],\"scatter\":[{\"marker\":{\"colorbar\":{\"outlinewidth\":0,\"ticks\":\"\"}},\"type\":\"scatter\"}],\"scatterternary\":[{\"marker\":{\"colorbar\":{\"outlinewidth\":0,\"ticks\":\"\"}},\"type\":\"scatterternary\"}],\"surface\":[{\"colorbar\":{\"outlinewidth\":0,\"ticks\":\"\"},\"colorscale\":[[0.0,\"#0d0887\"],[0.1111111111111111,\"#46039f\"],[0.2222222222222222,\"#7201a8\"],[0.3333333333333333,\"#9c179e\"],[0.4444444444444444,\"#bd3786\"],[0.5555555555555556,\"#d8576b\"],[0.6666666666666666,\"#ed7953\"],[0.7777777777777778,\"#fb9f3a\"],[0.8888888888888888,\"#fdca26\"],[1.0,\"#f0f921\"]],\"type\":\"surface\"}],\"table\":[{\"cells\":{\"fill\":{\"color\":\"#EBF0F8\"},\"line\":{\"color\":\"white\"}},\"header\":{\"fill\":{\"color\":\"#C8D4E3\"},\"line\":{\"color\":\"white\"}},\"type\":\"table\"}]},\"layout\":{\"annotationdefaults\":{\"arrowcolor\":\"#2a3f5f\",\"arrowhead\":0,\"arrowwidth\":1},\"autotypenumbers\":\"strict\",\"coloraxis\":{\"colorbar\":{\"outlinewidth\":0,\"ticks\":\"\"}},\"colorscale\":{\"diverging\":[[0,\"#8e0152\"],[0.1,\"#c51b7d\"],[0.2,\"#de77ae\"],[0.3,\"#f1b6da\"],[0.4,\"#fde0ef\"],[0.5,\"#f7f7f7\"],[0.6,\"#e6f5d0\"],[0.7,\"#b8e186\"],[0.8,\"#7fbc41\"],[0.9,\"#4d9221\"],[1,\"#276419\"]],\"sequential\":[[0.0,\"#0d0887\"],[0.1111111111111111,\"#46039f\"],[0.2222222222222222,\"#7201a8\"],[0.3333333333333333,\"#9c179e\"],[0.4444444444444444,\"#bd3786\"],[0.5555555555555556,\"#d8576b\"],[0.6666666666666666,\"#ed7953\"],[0.7777777777777778,\"#fb9f3a\"],[0.8888888888888888,\"#fdca26\"],[1.0,\"#f0f921\"]],\"sequentialminus\":[[0.0,\"#0d0887\"],[0.1111111111111111,\"#46039f\"],[0.2222222222222222,\"#7201a8\"],[0.3333333333333333,\"#9c179e\"],[0.4444444444444444,\"#bd3786\"],[0.5555555555555556,\"#d8576b\"],[0.6666666666666666,\"#ed7953\"],[0.7777777777777778,\"#fb9f3a\"],[0.8888888888888888,\"#fdca26\"],[1.0,\"#f0f921\"]]},\"colorway\":[\"#636efa\",\"#EF553B\",\"#00cc96\",\"#ab63fa\",\"#FFA15A\",\"#19d3f3\",\"#FF6692\",\"#B6E880\",\"#FF97FF\",\"#FECB52\"],\"font\":{\"color\":\"#2a3f5f\"},\"geo\":{\"bgcolor\":\"white\",\"lakecolor\":\"white\",\"landcolor\":\"#E5ECF6\",\"showlakes\":true,\"showland\":true,\"subunitcolor\":\"white\"},\"hoverlabel\":{\"align\":\"left\"},\"hovermode\":\"closest\",\"mapbox\":{\"style\":\"light\"},\"paper_bgcolor\":\"white\",\"plot_bgcolor\":\"#E5ECF6\",\"polar\":{\"angularaxis\":{\"gridcolor\":\"white\",\"linecolor\":\"white\",\"ticks\":\"\"},\"bgcolor\":\"#E5ECF6\",\"radialaxis\":{\"gridcolor\":\"white\",\"linecolor\":\"white\",\"ticks\":\"\"}},\"scene\":{\"xaxis\":{\"backgroundcolor\":\"#E5ECF6\",\"gridcolor\":\"white\",\"gridwidth\":2,\"linecolor\":\"white\",\"showbackground\":true,\"ticks\":\"\",\"zerolinecolor\":\"white\"},\"yaxis\":{\"backgroundcolor\":\"#E5ECF6\",\"gridcolor\":\"white\",\"gridwidth\":2,\"linecolor\":\"white\",\"showbackground\":true,\"ticks\":\"\",\"zerolinecolor\":\"white\"},\"zaxis\":{\"backgroundcolor\":\"#E5ECF6\",\"gridcolor\":\"white\",\"gridwidth\":2,\"linecolor\":\"white\",\"showbackground\":true,\"ticks\":\"\",\"zerolinecolor\":\"white\"}},\"shapedefaults\":{\"line\":{\"color\":\"#2a3f5f\"}},\"ternary\":{\"aaxis\":{\"gridcolor\":\"white\",\"linecolor\":\"white\",\"ticks\":\"\"},\"baxis\":{\"gridcolor\":\"white\",\"linecolor\":\"white\",\"ticks\":\"\"},\"bgcolor\":\"#E5ECF6\",\"caxis\":{\"gridcolor\":\"white\",\"linecolor\":\"white\",\"ticks\":\"\"}},\"title\":{\"x\":0.05},\"xaxis\":{\"automargin\":true,\"gridcolor\":\"white\",\"linecolor\":\"white\",\"ticks\":\"\",\"title\":{\"standoff\":15},\"zerolinecolor\":\"white\",\"zerolinewidth\":2},\"yaxis\":{\"automargin\":true,\"gridcolor\":\"white\",\"linecolor\":\"white\",\"ticks\":\"\",\"title\":{\"standoff\":15},\"zerolinecolor\":\"white\",\"zerolinewidth\":2}}},\"title\":{\"font\":{\"color\":\"#4D5663\"}},\"xaxis\":{\"gridcolor\":\"#E1E5ED\",\"showgrid\":true,\"tickfont\":{\"color\":\"#4D5663\"},\"title\":{\"font\":{\"color\":\"#4D5663\"},\"text\":\"\"},\"zerolinecolor\":\"#E1E5ED\"},\"yaxis\":{\"gridcolor\":\"#E1E5ED\",\"showgrid\":true,\"tickfont\":{\"color\":\"#4D5663\"},\"title\":{\"font\":{\"color\":\"#4D5663\"},\"text\":\"\"},\"zerolinecolor\":\"#E1E5ED\"}},                        {\"showLink\": true, \"linkText\": \"Export to plot.ly\", \"plotlyServerURL\": \"https://plot.ly\", \"responsive\": true}                    ).then(function(){\n",
       "                            \n",
       "var gd = document.getElementById('cf1af324-838d-4ae4-823b-3b83bb5d0d18');\n",
       "var x = new MutationObserver(function (mutations, observer) {{\n",
       "        var display = window.getComputedStyle(gd).display;\n",
       "        if (!display || display === 'none') {{\n",
       "            console.log([gd, 'removed!']);\n",
       "            Plotly.purge(gd);\n",
       "            observer.disconnect();\n",
       "        }}\n",
       "}});\n",
       "\n",
       "// Listen for the removal of the full notebook cells\n",
       "var notebookContainer = gd.closest('#notebook-container');\n",
       "if (notebookContainer) {{\n",
       "    x.observe(notebookContainer, {childList: true});\n",
       "}}\n",
       "\n",
       "// Listen for the clearing of the current output cell\n",
       "var outputEl = gd.closest('.output');\n",
       "if (outputEl) {{\n",
       "    x.observe(outputEl, {childList: true});\n",
       "}}\n",
       "\n",
       "                        })                };                });            </script>        </div>"
      ]
     },
     "metadata": {},
     "output_type": "display_data"
    }
   ],
   "source": [
    "df3 = pd.DataFrame({'x':[1,2,3,4,5],'y':[10,20,30,20,10],'z':[5,4,3,2,1]})\n",
    "df3.iplot(kind='surface',colorscale='rdylbu')"
   ]
  },
  {
   "cell_type": "markdown",
   "metadata": {},
   "source": [
    "## Spread"
   ]
  },
  {
   "cell_type": "code",
   "execution_count": 18,
   "metadata": {
    "collapsed": false
   },
   "outputs": [
    {
     "name": "stderr",
     "output_type": "stream",
     "text": [
      "C:\\Users\\unit0\\AppData\\Local\\Programs\\Python\\Python310\\lib\\site-packages\\cufflinks\\plotlytools.py:849: FutureWarning:\n",
      "\n",
      "The pandas.np module is deprecated and will be removed from pandas in a future version. Import numpy directly instead\n",
      "\n",
      "C:\\Users\\unit0\\AppData\\Local\\Programs\\Python\\Python310\\lib\\site-packages\\cufflinks\\plotlytools.py:850: FutureWarning:\n",
      "\n",
      "The pandas.np module is deprecated and will be removed from pandas in a future version. Import numpy directly instead\n",
      "\n"
     ]
    },
    {
     "data": {
      "application/vnd.plotly.v1+json": {
       "config": {
        "linkText": "Export to plot.ly",
        "plotlyServerURL": "https://plot.ly",
        "showLink": true
       },
       "data": [
        {
         "line": {
          "color": "rgba(255, 153, 51, 1.0)",
          "dash": "solid",
          "shape": "linear",
          "width": 1.3
         },
         "mode": "lines",
         "name": "A",
         "text": "",
         "type": "scatter",
         "x": [
          0,
          1,
          2,
          3,
          4,
          5,
          6,
          7,
          8,
          9,
          10,
          11,
          12,
          13,
          14,
          15,
          16,
          17,
          18,
          19,
          20,
          21,
          22,
          23,
          24,
          25,
          26,
          27,
          28,
          29,
          30,
          31,
          32,
          33,
          34,
          35,
          36,
          37,
          38,
          39,
          40,
          41,
          42,
          43,
          44,
          45,
          46,
          47,
          48,
          49,
          50,
          51,
          52,
          53,
          54,
          55,
          56,
          57,
          58,
          59,
          60,
          61,
          62,
          63,
          64,
          65,
          66,
          67,
          68,
          69,
          70,
          71,
          72,
          73,
          74,
          75,
          76,
          77,
          78,
          79,
          80,
          81,
          82,
          83,
          84,
          85,
          86,
          87,
          88,
          89,
          90,
          91,
          92,
          93,
          94,
          95,
          96,
          97,
          98,
          99
         ],
         "y": [
          0.12063307993793361,
          -0.9753533300826948,
          -2.6763579724952478,
          0.4925482616402867,
          -1.3155762174963437,
          -0.9217912477793413,
          -0.4281288511836951,
          -0.0741095333382842,
          -0.3692088265632047,
          0.35277535814250177,
          -1.2316540713957096,
          -0.9813720181548536,
          -0.47010006603407345,
          -0.9756382227178094,
          -0.8715649349132115,
          -0.8173420824910456,
          -0.29952269396360204,
          1.6181557308102659,
          0.23461995230221297,
          -0.7300727916207131,
          -0.3244203020415168,
          1.3694792193594787,
          -1.1830985969539412,
          -0.6695712322864437,
          0.050300812786321834,
          1.036031284483547,
          0.1247331884526296,
          0.8612593921604814,
          -0.45189648057547976,
          -0.898337364398072,
          -0.6308497962480135,
          0.2495090999989929,
          0.611785806237333,
          -0.6494156327534888,
          1.0626583005146162,
          -0.6765149979610443,
          -0.8629222849427012,
          -0.4276817021646282,
          0.6989004308480385,
          0.6181170042687887,
          1.0505932458214589,
          -1.5983442369800216,
          0.9999863331004377,
          -0.6102895780299539,
          0.09795246638112484,
          -0.4385288540045722,
          -1.2123774307299526,
          -0.10202832053379358,
          1.0446774055922547,
          -1.5020525330486525,
          -0.337479573581759,
          0.19549105352603027,
          -0.07001083383244362,
          -0.44993406654047785,
          0.19182058873532176,
          -0.6732686807599063,
          0.6998273146365749,
          0.43016092779073634,
          1.600242286482051,
          0.6205651472739886,
          -1.2413108957504477,
          0.4319110171963078,
          2.079307316368707,
          0.15878224002809227,
          -0.4607271915720504,
          -1.795639248025241,
          -0.6253697528709673,
          1.465503456008871,
          -0.6621669846039352,
          -0.41103293808023034,
          1.5749238411721267,
          -2.1864561795949813,
          -0.4977776664624909,
          1.3853988617617512,
          -0.5129876095526238,
          -0.897283087487321,
          2.0986612052958025,
          -0.05035355878762703,
          0.03859935212065949,
          -2.181021788479176,
          1.1405184610429981,
          -0.658601302599404,
          0.5437139638452326,
          0.5223135093950999,
          2.3705411280177904,
          0.28454474083707143,
          1.4193227372132629,
          0.6507308823181396,
          0.1352940000072053,
          0.6523221390470338,
          -0.1031777953536062,
          -0.40840207673124784,
          0.7014536039135242,
          1.4910125606499636,
          -0.5187542098528161,
          -0.623292885529943,
          -0.02245147999377042,
          -0.44467364964177175,
          1.1375268851232159,
          0.0007559084429775664
         ]
        },
        {
         "line": {
          "color": "rgba(55, 128, 191, 1.0)",
          "dash": "solid",
          "shape": "linear",
          "width": 1.3
         },
         "mode": "lines",
         "name": "B",
         "text": "",
         "type": "scatter",
         "x": [
          0,
          1,
          2,
          3,
          4,
          5,
          6,
          7,
          8,
          9,
          10,
          11,
          12,
          13,
          14,
          15,
          16,
          17,
          18,
          19,
          20,
          21,
          22,
          23,
          24,
          25,
          26,
          27,
          28,
          29,
          30,
          31,
          32,
          33,
          34,
          35,
          36,
          37,
          38,
          39,
          40,
          41,
          42,
          43,
          44,
          45,
          46,
          47,
          48,
          49,
          50,
          51,
          52,
          53,
          54,
          55,
          56,
          57,
          58,
          59,
          60,
          61,
          62,
          63,
          64,
          65,
          66,
          67,
          68,
          69,
          70,
          71,
          72,
          73,
          74,
          75,
          76,
          77,
          78,
          79,
          80,
          81,
          82,
          83,
          84,
          85,
          86,
          87,
          88,
          89,
          90,
          91,
          92,
          93,
          94,
          95,
          96,
          97,
          98,
          99
         ],
         "y": [
          -0.522079700885799,
          -0.31144048082534775,
          -0.7241472605505641,
          -1.2300416300420594,
          -1.8259514993191461,
          0.08643067332288887,
          -0.6283151419454001,
          -1.2443686093861843,
          -1.505359284046377,
          -0.2909906645035104,
          2.4105090318814004,
          0.006445369976370312,
          -2.1350903995775115,
          -0.35677970863274977,
          2.665735533857099,
          0.21075148803133292,
          -1.477096928969249,
          -1.782247021906371,
          -0.1045020049367965,
          -0.8791025450878165,
          -0.8209774277057524,
          0.8175418726709417,
          -0.01252462004288382,
          0.9471130845989326,
          -0.7811646023115473,
          -0.4508891064134381,
          0.402968701853287,
          0.26988323235132583,
          0.29760155486874007,
          -0.5855154986981775,
          1.5665290787977386,
          -0.10604187433546194,
          1.7542538227020912,
          -0.4194429282036894,
          -0.6986056790450845,
          1.1653041671491604,
          0.7805924904980847,
          0.7078288402890757,
          0.7628913203145052,
          1.0038172992288839,
          -0.5993951364247309,
          -0.835625897075209,
          1.0250317477702606,
          -0.16680206921106913,
          0.5193460355361813,
          -0.3760153715147701,
          -0.09048636808925331,
          0.26840034393654744,
          -0.8752140619894638,
          1.2434346657594744,
          -1.040862850259558,
          -0.08318030099812591,
          1.1262077248215225,
          0.19091323327763102,
          -1.5581479965062561,
          1.5971093964125844,
          -1.4402128536648402,
          -1.3956727151928396,
          1.1499635991459776,
          -0.09614943989750462,
          0.7487131649604577,
          -1.859833599541245,
          -0.9682080674311809,
          -0.8083895310134205,
          0.07201517625696108,
          0.7003724874308773,
          0.3603434078366872,
          0.2927914903976886,
          -0.7190722328005713,
          -1.7126127758544523,
          -1.0089623624439557,
          -0.6332747090638846,
          -0.8859839233149006,
          0.3559550339077135,
          -3.060786815176108,
          0.0255005372731153,
          -1.16745831455643,
          -0.8771907956407784,
          1.2523862232883565,
          0.889884163871847,
          0.26199921668687814,
          -2.320689529863178,
          -1.0508154456053262,
          -0.36819100118589093,
          -2.52189205985639,
          -0.4081792384634467,
          -0.5715287779757289,
          -1.154308594072173,
          -0.1014768864365199,
          0.9034333621414394,
          0.18704522998111542,
          -0.770687484163319,
          1.5800506524826317,
          -2.0021988373340114,
          0.04406612466476638,
          0.3821163996133508,
          0.5646937296566823,
          -0.22207501230812823,
          -0.21342804668328857,
          -0.23999683873682087
         ]
        },
        {
         "connectgaps": false,
         "fill": "tozeroy",
         "line": {
          "color": "green",
          "dash": "solid",
          "shape": "linear",
          "width": 0.5
         },
         "mode": "lines",
         "name": "Spread",
         "showlegend": false,
         "type": "scatter",
         "x": [
          0,
          1,
          2,
          3,
          4,
          5,
          6,
          7,
          8,
          9,
          10,
          11,
          12,
          13,
          14,
          15,
          16,
          17,
          18,
          19,
          20,
          21,
          22,
          23,
          24,
          25,
          26,
          27,
          28,
          29,
          30,
          31,
          32,
          33,
          34,
          35,
          36,
          37,
          38,
          39,
          40,
          41,
          42,
          43,
          44,
          45,
          46,
          47,
          48,
          49,
          50,
          51,
          52,
          53,
          54,
          55,
          56,
          57,
          58,
          59,
          60,
          61,
          62,
          63,
          64,
          65,
          66,
          67,
          68,
          69,
          70,
          71,
          72,
          73,
          74,
          75,
          76,
          77,
          78,
          79,
          80,
          81,
          82,
          83,
          84,
          85,
          86,
          87,
          88,
          89,
          90,
          91,
          92,
          93,
          94,
          95,
          96,
          97,
          98,
          99
         ],
         "xaxis": "x2",
         "y": [
          0.6427127808237326,
          "",
          "",
          1.722589891682346,
          0.5103752818228025,
          "",
          0.20018629076170497,
          1.1702590760479001,
          1.1361504574831722,
          0.6437660226460122,
          "",
          "",
          1.664990333543438,
          "",
          "",
          "",
          1.177574235005647,
          3.400402752716637,
          0.33912195723900945,
          0.14902975346710334,
          0.49655712566423565,
          0.551937346688537,
          "",
          "",
          0.8314654150978691,
          1.4869203908969852,
          "",
          0.5913761598091556,
          "",
          "",
          "",
          0.3555509743344548,
          "",
          "",
          1.7612639795597007,
          "",
          "",
          "",
          "",
          "",
          1.6499883822461898,
          "",
          "",
          "",
          "",
          "",
          "",
          "",
          1.9198914675817185,
          "",
          0.703383276677799,
          0.2786713545241562,
          "",
          "",
          1.7499685852415778,
          "",
          2.140040168301415,
          1.825833642983576,
          0.45027868733607335,
          0.7167145871714932,
          "",
          2.2917446167375526,
          3.0475153837998876,
          0.9671717710415128,
          "",
          "",
          "",
          1.1727119656111826,
          0.056905248196636116,
          1.3015798377742218,
          2.5838862036160823,
          "",
          0.3882062568524097,
          1.0294438278540377,
          2.5477992056234844,
          "",
          3.266119519852232,
          0.8268372368531514,
          "",
          "",
          0.87851924435612,
          1.662088227263774,
          1.5945294094505589,
          0.8905045105809908,
          4.892433187874181,
          0.6927239793005182,
          1.9908515151889916,
          1.8050394763903124,
          0.23677088644372518,
          "",
          "",
          0.36228540743207116,
          "",
          3.493211397983975,
          "",
          "",
          "",
          "",
          1.3509549318065044,
          0.24075274717979844
         ],
         "yaxis": "y2"
        },
        {
         "connectgaps": false,
         "fill": "tozeroy",
         "line": {
          "color": "red",
          "dash": "solid",
          "shape": "linear",
          "width": 0.5
         },
         "mode": "lines",
         "name": "Spread",
         "showlegend": false,
         "type": "scatter",
         "x": [
          0,
          1,
          2,
          3,
          4,
          5,
          6,
          7,
          8,
          9,
          10,
          11,
          12,
          13,
          14,
          15,
          16,
          17,
          18,
          19,
          20,
          21,
          22,
          23,
          24,
          25,
          26,
          27,
          28,
          29,
          30,
          31,
          32,
          33,
          34,
          35,
          36,
          37,
          38,
          39,
          40,
          41,
          42,
          43,
          44,
          45,
          46,
          47,
          48,
          49,
          50,
          51,
          52,
          53,
          54,
          55,
          56,
          57,
          58,
          59,
          60,
          61,
          62,
          63,
          64,
          65,
          66,
          67,
          68,
          69,
          70,
          71,
          72,
          73,
          74,
          75,
          76,
          77,
          78,
          79,
          80,
          81,
          82,
          83,
          84,
          85,
          86,
          87,
          88,
          89,
          90,
          91,
          92,
          93,
          94,
          95,
          96,
          97,
          98,
          99
         ],
         "xaxis": "x2",
         "y": [
          "",
          -0.663912849257347,
          -1.9522107119446837,
          "",
          "",
          -1.00822192110223,
          "",
          "",
          "",
          "",
          -3.64216310327711,
          -0.987817388131224,
          "",
          -0.6188585140850597,
          -3.5373004687703107,
          -1.0280935705223784,
          "",
          "",
          "",
          "",
          "",
          "",
          -1.1705739769110572,
          -1.6166843168853764,
          "",
          "",
          -0.2782355134006574,
          "",
          -0.7494980354442198,
          -0.31282186569989445,
          -2.197378875045752,
          "",
          -1.142468016464758,
          -0.2299727045497994,
          "",
          -1.8418191651102047,
          -1.643514775440786,
          -1.1355105424537038,
          -0.0639908894664667,
          -0.38570029496009517,
          "",
          -0.7627183399048126,
          -0.025045414669822907,
          -0.44348750881888477,
          -0.42139356915505644,
          -0.0625134824898021,
          -1.1218910626406993,
          -0.370428664470341,
          "",
          -2.745487198808127,
          "",
          "",
          -1.1962185586539662,
          -0.6408472998181088,
          "",
          -2.2703780771724906,
          "",
          "",
          "",
          "",
          -1.9900240607109054,
          "",
          "",
          "",
          -0.5327423678290115,
          -2.4960117354561184,
          -0.9857131607076546,
          "",
          "",
          "",
          "",
          -1.5531814705310967,
          "",
          "",
          "",
          -0.9227836247604363,
          "",
          "",
          -1.213786871167697,
          -3.070905952351023,
          "",
          "",
          "",
          "",
          "",
          "",
          "",
          "",
          "",
          -0.2511112230944056,
          -0.2902230253347216,
          "",
          -0.8785970485691075,
          "",
          -0.5628203345175824,
          -1.0054092851432939,
          -0.5871452096504527,
          -0.22259863733364352,
          "",
          ""
         ],
         "yaxis": "y2"
        }
       ],
       "layout": {
        "hovermode": "x",
        "legend": {
         "bgcolor": "#F5F6F9",
         "font": {
          "color": "#4D5663"
         }
        },
        "paper_bgcolor": "#F5F6F9",
        "plot_bgcolor": "#F5F6F9",
        "template": {
         "data": {
          "bar": [
           {
            "error_x": {
             "color": "#2a3f5f"
            },
            "error_y": {
             "color": "#2a3f5f"
            },
            "marker": {
             "line": {
              "color": "#E5ECF6",
              "width": 0.5
             },
             "pattern": {
              "fillmode": "overlay",
              "size": 10,
              "solidity": 0.2
             }
            },
            "type": "bar"
           }
          ],
          "barpolar": [
           {
            "marker": {
             "line": {
              "color": "#E5ECF6",
              "width": 0.5
             },
             "pattern": {
              "fillmode": "overlay",
              "size": 10,
              "solidity": 0.2
             }
            },
            "type": "barpolar"
           }
          ],
          "carpet": [
           {
            "aaxis": {
             "endlinecolor": "#2a3f5f",
             "gridcolor": "white",
             "linecolor": "white",
             "minorgridcolor": "white",
             "startlinecolor": "#2a3f5f"
            },
            "baxis": {
             "endlinecolor": "#2a3f5f",
             "gridcolor": "white",
             "linecolor": "white",
             "minorgridcolor": "white",
             "startlinecolor": "#2a3f5f"
            },
            "type": "carpet"
           }
          ],
          "choropleth": [
           {
            "colorbar": {
             "outlinewidth": 0,
             "ticks": ""
            },
            "type": "choropleth"
           }
          ],
          "contour": [
           {
            "colorbar": {
             "outlinewidth": 0,
             "ticks": ""
            },
            "colorscale": [
             [
              0,
              "#0d0887"
             ],
             [
              0.1111111111111111,
              "#46039f"
             ],
             [
              0.2222222222222222,
              "#7201a8"
             ],
             [
              0.3333333333333333,
              "#9c179e"
             ],
             [
              0.4444444444444444,
              "#bd3786"
             ],
             [
              0.5555555555555556,
              "#d8576b"
             ],
             [
              0.6666666666666666,
              "#ed7953"
             ],
             [
              0.7777777777777778,
              "#fb9f3a"
             ],
             [
              0.8888888888888888,
              "#fdca26"
             ],
             [
              1,
              "#f0f921"
             ]
            ],
            "type": "contour"
           }
          ],
          "contourcarpet": [
           {
            "colorbar": {
             "outlinewidth": 0,
             "ticks": ""
            },
            "type": "contourcarpet"
           }
          ],
          "heatmap": [
           {
            "colorbar": {
             "outlinewidth": 0,
             "ticks": ""
            },
            "colorscale": [
             [
              0,
              "#0d0887"
             ],
             [
              0.1111111111111111,
              "#46039f"
             ],
             [
              0.2222222222222222,
              "#7201a8"
             ],
             [
              0.3333333333333333,
              "#9c179e"
             ],
             [
              0.4444444444444444,
              "#bd3786"
             ],
             [
              0.5555555555555556,
              "#d8576b"
             ],
             [
              0.6666666666666666,
              "#ed7953"
             ],
             [
              0.7777777777777778,
              "#fb9f3a"
             ],
             [
              0.8888888888888888,
              "#fdca26"
             ],
             [
              1,
              "#f0f921"
             ]
            ],
            "type": "heatmap"
           }
          ],
          "heatmapgl": [
           {
            "colorbar": {
             "outlinewidth": 0,
             "ticks": ""
            },
            "colorscale": [
             [
              0,
              "#0d0887"
             ],
             [
              0.1111111111111111,
              "#46039f"
             ],
             [
              0.2222222222222222,
              "#7201a8"
             ],
             [
              0.3333333333333333,
              "#9c179e"
             ],
             [
              0.4444444444444444,
              "#bd3786"
             ],
             [
              0.5555555555555556,
              "#d8576b"
             ],
             [
              0.6666666666666666,
              "#ed7953"
             ],
             [
              0.7777777777777778,
              "#fb9f3a"
             ],
             [
              0.8888888888888888,
              "#fdca26"
             ],
             [
              1,
              "#f0f921"
             ]
            ],
            "type": "heatmapgl"
           }
          ],
          "histogram": [
           {
            "marker": {
             "pattern": {
              "fillmode": "overlay",
              "size": 10,
              "solidity": 0.2
             }
            },
            "type": "histogram"
           }
          ],
          "histogram2d": [
           {
            "colorbar": {
             "outlinewidth": 0,
             "ticks": ""
            },
            "colorscale": [
             [
              0,
              "#0d0887"
             ],
             [
              0.1111111111111111,
              "#46039f"
             ],
             [
              0.2222222222222222,
              "#7201a8"
             ],
             [
              0.3333333333333333,
              "#9c179e"
             ],
             [
              0.4444444444444444,
              "#bd3786"
             ],
             [
              0.5555555555555556,
              "#d8576b"
             ],
             [
              0.6666666666666666,
              "#ed7953"
             ],
             [
              0.7777777777777778,
              "#fb9f3a"
             ],
             [
              0.8888888888888888,
              "#fdca26"
             ],
             [
              1,
              "#f0f921"
             ]
            ],
            "type": "histogram2d"
           }
          ],
          "histogram2dcontour": [
           {
            "colorbar": {
             "outlinewidth": 0,
             "ticks": ""
            },
            "colorscale": [
             [
              0,
              "#0d0887"
             ],
             [
              0.1111111111111111,
              "#46039f"
             ],
             [
              0.2222222222222222,
              "#7201a8"
             ],
             [
              0.3333333333333333,
              "#9c179e"
             ],
             [
              0.4444444444444444,
              "#bd3786"
             ],
             [
              0.5555555555555556,
              "#d8576b"
             ],
             [
              0.6666666666666666,
              "#ed7953"
             ],
             [
              0.7777777777777778,
              "#fb9f3a"
             ],
             [
              0.8888888888888888,
              "#fdca26"
             ],
             [
              1,
              "#f0f921"
             ]
            ],
            "type": "histogram2dcontour"
           }
          ],
          "mesh3d": [
           {
            "colorbar": {
             "outlinewidth": 0,
             "ticks": ""
            },
            "type": "mesh3d"
           }
          ],
          "parcoords": [
           {
            "line": {
             "colorbar": {
              "outlinewidth": 0,
              "ticks": ""
             }
            },
            "type": "parcoords"
           }
          ],
          "pie": [
           {
            "automargin": true,
            "type": "pie"
           }
          ],
          "scatter": [
           {
            "marker": {
             "colorbar": {
              "outlinewidth": 0,
              "ticks": ""
             }
            },
            "type": "scatter"
           }
          ],
          "scatter3d": [
           {
            "line": {
             "colorbar": {
              "outlinewidth": 0,
              "ticks": ""
             }
            },
            "marker": {
             "colorbar": {
              "outlinewidth": 0,
              "ticks": ""
             }
            },
            "type": "scatter3d"
           }
          ],
          "scattercarpet": [
           {
            "marker": {
             "colorbar": {
              "outlinewidth": 0,
              "ticks": ""
             }
            },
            "type": "scattercarpet"
           }
          ],
          "scattergeo": [
           {
            "marker": {
             "colorbar": {
              "outlinewidth": 0,
              "ticks": ""
             }
            },
            "type": "scattergeo"
           }
          ],
          "scattergl": [
           {
            "marker": {
             "colorbar": {
              "outlinewidth": 0,
              "ticks": ""
             }
            },
            "type": "scattergl"
           }
          ],
          "scattermapbox": [
           {
            "marker": {
             "colorbar": {
              "outlinewidth": 0,
              "ticks": ""
             }
            },
            "type": "scattermapbox"
           }
          ],
          "scatterpolar": [
           {
            "marker": {
             "colorbar": {
              "outlinewidth": 0,
              "ticks": ""
             }
            },
            "type": "scatterpolar"
           }
          ],
          "scatterpolargl": [
           {
            "marker": {
             "colorbar": {
              "outlinewidth": 0,
              "ticks": ""
             }
            },
            "type": "scatterpolargl"
           }
          ],
          "scatterternary": [
           {
            "marker": {
             "colorbar": {
              "outlinewidth": 0,
              "ticks": ""
             }
            },
            "type": "scatterternary"
           }
          ],
          "surface": [
           {
            "colorbar": {
             "outlinewidth": 0,
             "ticks": ""
            },
            "colorscale": [
             [
              0,
              "#0d0887"
             ],
             [
              0.1111111111111111,
              "#46039f"
             ],
             [
              0.2222222222222222,
              "#7201a8"
             ],
             [
              0.3333333333333333,
              "#9c179e"
             ],
             [
              0.4444444444444444,
              "#bd3786"
             ],
             [
              0.5555555555555556,
              "#d8576b"
             ],
             [
              0.6666666666666666,
              "#ed7953"
             ],
             [
              0.7777777777777778,
              "#fb9f3a"
             ],
             [
              0.8888888888888888,
              "#fdca26"
             ],
             [
              1,
              "#f0f921"
             ]
            ],
            "type": "surface"
           }
          ],
          "table": [
           {
            "cells": {
             "fill": {
              "color": "#EBF0F8"
             },
             "line": {
              "color": "white"
             }
            },
            "header": {
             "fill": {
              "color": "#C8D4E3"
             },
             "line": {
              "color": "white"
             }
            },
            "type": "table"
           }
          ]
         },
         "layout": {
          "annotationdefaults": {
           "arrowcolor": "#2a3f5f",
           "arrowhead": 0,
           "arrowwidth": 1
          },
          "autotypenumbers": "strict",
          "coloraxis": {
           "colorbar": {
            "outlinewidth": 0,
            "ticks": ""
           }
          },
          "colorscale": {
           "diverging": [
            [
             0,
             "#8e0152"
            ],
            [
             0.1,
             "#c51b7d"
            ],
            [
             0.2,
             "#de77ae"
            ],
            [
             0.3,
             "#f1b6da"
            ],
            [
             0.4,
             "#fde0ef"
            ],
            [
             0.5,
             "#f7f7f7"
            ],
            [
             0.6,
             "#e6f5d0"
            ],
            [
             0.7,
             "#b8e186"
            ],
            [
             0.8,
             "#7fbc41"
            ],
            [
             0.9,
             "#4d9221"
            ],
            [
             1,
             "#276419"
            ]
           ],
           "sequential": [
            [
             0,
             "#0d0887"
            ],
            [
             0.1111111111111111,
             "#46039f"
            ],
            [
             0.2222222222222222,
             "#7201a8"
            ],
            [
             0.3333333333333333,
             "#9c179e"
            ],
            [
             0.4444444444444444,
             "#bd3786"
            ],
            [
             0.5555555555555556,
             "#d8576b"
            ],
            [
             0.6666666666666666,
             "#ed7953"
            ],
            [
             0.7777777777777778,
             "#fb9f3a"
            ],
            [
             0.8888888888888888,
             "#fdca26"
            ],
            [
             1,
             "#f0f921"
            ]
           ],
           "sequentialminus": [
            [
             0,
             "#0d0887"
            ],
            [
             0.1111111111111111,
             "#46039f"
            ],
            [
             0.2222222222222222,
             "#7201a8"
            ],
            [
             0.3333333333333333,
             "#9c179e"
            ],
            [
             0.4444444444444444,
             "#bd3786"
            ],
            [
             0.5555555555555556,
             "#d8576b"
            ],
            [
             0.6666666666666666,
             "#ed7953"
            ],
            [
             0.7777777777777778,
             "#fb9f3a"
            ],
            [
             0.8888888888888888,
             "#fdca26"
            ],
            [
             1,
             "#f0f921"
            ]
           ]
          },
          "colorway": [
           "#636efa",
           "#EF553B",
           "#00cc96",
           "#ab63fa",
           "#FFA15A",
           "#19d3f3",
           "#FF6692",
           "#B6E880",
           "#FF97FF",
           "#FECB52"
          ],
          "font": {
           "color": "#2a3f5f"
          },
          "geo": {
           "bgcolor": "white",
           "lakecolor": "white",
           "landcolor": "#E5ECF6",
           "showlakes": true,
           "showland": true,
           "subunitcolor": "white"
          },
          "hoverlabel": {
           "align": "left"
          },
          "hovermode": "closest",
          "mapbox": {
           "style": "light"
          },
          "paper_bgcolor": "white",
          "plot_bgcolor": "#E5ECF6",
          "polar": {
           "angularaxis": {
            "gridcolor": "white",
            "linecolor": "white",
            "ticks": ""
           },
           "bgcolor": "#E5ECF6",
           "radialaxis": {
            "gridcolor": "white",
            "linecolor": "white",
            "ticks": ""
           }
          },
          "scene": {
           "xaxis": {
            "backgroundcolor": "#E5ECF6",
            "gridcolor": "white",
            "gridwidth": 2,
            "linecolor": "white",
            "showbackground": true,
            "ticks": "",
            "zerolinecolor": "white"
           },
           "yaxis": {
            "backgroundcolor": "#E5ECF6",
            "gridcolor": "white",
            "gridwidth": 2,
            "linecolor": "white",
            "showbackground": true,
            "ticks": "",
            "zerolinecolor": "white"
           },
           "zaxis": {
            "backgroundcolor": "#E5ECF6",
            "gridcolor": "white",
            "gridwidth": 2,
            "linecolor": "white",
            "showbackground": true,
            "ticks": "",
            "zerolinecolor": "white"
           }
          },
          "shapedefaults": {
           "line": {
            "color": "#2a3f5f"
           }
          },
          "ternary": {
           "aaxis": {
            "gridcolor": "white",
            "linecolor": "white",
            "ticks": ""
           },
           "baxis": {
            "gridcolor": "white",
            "linecolor": "white",
            "ticks": ""
           },
           "bgcolor": "#E5ECF6",
           "caxis": {
            "gridcolor": "white",
            "linecolor": "white",
            "ticks": ""
           }
          },
          "title": {
           "x": 0.05
          },
          "xaxis": {
           "automargin": true,
           "gridcolor": "white",
           "linecolor": "white",
           "ticks": "",
           "title": {
            "standoff": 15
           },
           "zerolinecolor": "white",
           "zerolinewidth": 2
          },
          "yaxis": {
           "automargin": true,
           "gridcolor": "white",
           "linecolor": "white",
           "ticks": "",
           "title": {
            "standoff": 15
           },
           "zerolinecolor": "white",
           "zerolinewidth": 2
          }
         }
        },
        "title": {
         "font": {
          "color": "#4D5663"
         }
        },
        "xaxis": {
         "gridcolor": "#E1E5ED",
         "showgrid": true,
         "tickfont": {
          "color": "#4D5663"
         },
         "title": {
          "font": {
           "color": "#4D5663"
          },
          "text": ""
         },
         "zerolinecolor": "#E1E5ED"
        },
        "xaxis2": {
         "anchor": "y2",
         "gridcolor": "#E1E5ED",
         "showgrid": true,
         "showticklabels": false,
         "tickfont": {
          "color": "#4D5663"
         },
         "title": {
          "font": {
           "color": "#4D5663"
          },
          "text": ""
         },
         "zerolinecolor": "#E1E5ED"
        },
        "yaxis": {
         "domain": [
          0.3,
          1
         ],
         "gridcolor": "#E1E5ED",
         "showgrid": true,
         "tickfont": {
          "color": "#4D5663"
         },
         "title": {
          "font": {
           "color": "#4D5663"
          },
          "text": ""
         },
         "zerolinecolor": "#E1E5ED"
        },
        "yaxis2": {
         "domain": [
          0,
          0.25
         ],
         "gridcolor": "#E1E5ED",
         "showgrid": true,
         "tickfont": {
          "color": "#4D5663"
         },
         "title": {
          "font": {
           "color": "#4D5663"
          },
          "text": "Spread"
         },
         "zerolinecolor": "#E1E5ED"
        }
       }
      },
      "text/html": [
       "<div>                            <div id=\"1bb27539-9168-44a3-8da8-41b865797a79\" class=\"plotly-graph-div\" style=\"height:525px; width:100%;\"></div>            <script type=\"text/javascript\">                require([\"plotly\"], function(Plotly) {                    window.PLOTLYENV=window.PLOTLYENV || {};\n",
       "                    window.PLOTLYENV.BASE_URL='https://plot.ly';                                    if (document.getElementById(\"1bb27539-9168-44a3-8da8-41b865797a79\")) {                    Plotly.newPlot(                        \"1bb27539-9168-44a3-8da8-41b865797a79\",                        [{\"line\":{\"color\":\"rgba(255, 153, 51, 1.0)\",\"dash\":\"solid\",\"shape\":\"linear\",\"width\":1.3},\"mode\":\"lines\",\"name\":\"A\",\"text\":\"\",\"x\":[0,1,2,3,4,5,6,7,8,9,10,11,12,13,14,15,16,17,18,19,20,21,22,23,24,25,26,27,28,29,30,31,32,33,34,35,36,37,38,39,40,41,42,43,44,45,46,47,48,49,50,51,52,53,54,55,56,57,58,59,60,61,62,63,64,65,66,67,68,69,70,71,72,73,74,75,76,77,78,79,80,81,82,83,84,85,86,87,88,89,90,91,92,93,94,95,96,97,98,99],\"y\":[0.12063307993793361,-0.9753533300826948,-2.6763579724952478,0.4925482616402867,-1.3155762174963437,-0.9217912477793413,-0.4281288511836951,-0.0741095333382842,-0.3692088265632047,0.35277535814250177,-1.2316540713957096,-0.9813720181548536,-0.47010006603407345,-0.9756382227178094,-0.8715649349132115,-0.8173420824910456,-0.29952269396360204,1.6181557308102659,0.23461995230221297,-0.7300727916207131,-0.3244203020415168,1.3694792193594787,-1.1830985969539412,-0.6695712322864437,0.050300812786321834,1.036031284483547,0.1247331884526296,0.8612593921604814,-0.45189648057547976,-0.898337364398072,-0.6308497962480135,0.2495090999989929,0.611785806237333,-0.6494156327534888,1.0626583005146162,-0.6765149979610443,-0.8629222849427012,-0.4276817021646282,0.6989004308480385,0.6181170042687887,1.0505932458214589,-1.5983442369800216,0.9999863331004377,-0.6102895780299539,0.09795246638112484,-0.4385288540045722,-1.2123774307299526,-0.10202832053379358,1.0446774055922547,-1.5020525330486525,-0.337479573581759,0.19549105352603027,-0.07001083383244362,-0.44993406654047785,0.19182058873532176,-0.6732686807599063,0.6998273146365749,0.43016092779073634,1.600242286482051,0.6205651472739886,-1.2413108957504477,0.4319110171963078,2.079307316368707,0.15878224002809227,-0.4607271915720504,-1.795639248025241,-0.6253697528709673,1.465503456008871,-0.6621669846039352,-0.41103293808023034,1.5749238411721267,-2.1864561795949813,-0.4977776664624909,1.3853988617617512,-0.5129876095526238,-0.897283087487321,2.0986612052958025,-0.05035355878762703,0.03859935212065949,-2.181021788479176,1.1405184610429981,-0.658601302599404,0.5437139638452326,0.5223135093950999,2.3705411280177904,0.28454474083707143,1.4193227372132629,0.6507308823181396,0.1352940000072053,0.6523221390470338,-0.1031777953536062,-0.40840207673124784,0.7014536039135242,1.4910125606499636,-0.5187542098528161,-0.623292885529943,-0.02245147999377042,-0.44467364964177175,1.1375268851232159,0.0007559084429775664],\"type\":\"scatter\"},{\"line\":{\"color\":\"rgba(55, 128, 191, 1.0)\",\"dash\":\"solid\",\"shape\":\"linear\",\"width\":1.3},\"mode\":\"lines\",\"name\":\"B\",\"text\":\"\",\"x\":[0,1,2,3,4,5,6,7,8,9,10,11,12,13,14,15,16,17,18,19,20,21,22,23,24,25,26,27,28,29,30,31,32,33,34,35,36,37,38,39,40,41,42,43,44,45,46,47,48,49,50,51,52,53,54,55,56,57,58,59,60,61,62,63,64,65,66,67,68,69,70,71,72,73,74,75,76,77,78,79,80,81,82,83,84,85,86,87,88,89,90,91,92,93,94,95,96,97,98,99],\"y\":[-0.522079700885799,-0.31144048082534775,-0.7241472605505641,-1.2300416300420594,-1.8259514993191461,0.08643067332288887,-0.6283151419454001,-1.2443686093861843,-1.505359284046377,-0.2909906645035104,2.4105090318814004,0.006445369976370312,-2.1350903995775115,-0.35677970863274977,2.665735533857099,0.21075148803133292,-1.477096928969249,-1.782247021906371,-0.1045020049367965,-0.8791025450878165,-0.8209774277057524,0.8175418726709417,-0.01252462004288382,0.9471130845989326,-0.7811646023115473,-0.4508891064134381,0.402968701853287,0.26988323235132583,0.29760155486874007,-0.5855154986981775,1.5665290787977386,-0.10604187433546194,1.7542538227020912,-0.4194429282036894,-0.6986056790450845,1.1653041671491604,0.7805924904980847,0.7078288402890757,0.7628913203145052,1.0038172992288839,-0.5993951364247309,-0.835625897075209,1.0250317477702606,-0.16680206921106913,0.5193460355361813,-0.3760153715147701,-0.09048636808925331,0.26840034393654744,-0.8752140619894638,1.2434346657594744,-1.040862850259558,-0.08318030099812591,1.1262077248215225,0.19091323327763102,-1.5581479965062561,1.5971093964125844,-1.4402128536648402,-1.3956727151928396,1.1499635991459776,-0.09614943989750462,0.7487131649604577,-1.859833599541245,-0.9682080674311809,-0.8083895310134205,0.07201517625696108,0.7003724874308773,0.3603434078366872,0.2927914903976886,-0.7190722328005713,-1.7126127758544523,-1.0089623624439557,-0.6332747090638846,-0.8859839233149006,0.3559550339077135,-3.060786815176108,0.0255005372731153,-1.16745831455643,-0.8771907956407784,1.2523862232883565,0.889884163871847,0.26199921668687814,-2.320689529863178,-1.0508154456053262,-0.36819100118589093,-2.52189205985639,-0.4081792384634467,-0.5715287779757289,-1.154308594072173,-0.1014768864365199,0.9034333621414394,0.18704522998111542,-0.770687484163319,1.5800506524826317,-2.0021988373340114,0.04406612466476638,0.3821163996133508,0.5646937296566823,-0.22207501230812823,-0.21342804668328857,-0.23999683873682087],\"type\":\"scatter\"},{\"connectgaps\":false,\"fill\":\"tozeroy\",\"line\":{\"color\":\"green\",\"dash\":\"solid\",\"shape\":\"linear\",\"width\":0.5},\"mode\":\"lines\",\"name\":\"Spread\",\"showlegend\":false,\"x\":[0,1,2,3,4,5,6,7,8,9,10,11,12,13,14,15,16,17,18,19,20,21,22,23,24,25,26,27,28,29,30,31,32,33,34,35,36,37,38,39,40,41,42,43,44,45,46,47,48,49,50,51,52,53,54,55,56,57,58,59,60,61,62,63,64,65,66,67,68,69,70,71,72,73,74,75,76,77,78,79,80,81,82,83,84,85,86,87,88,89,90,91,92,93,94,95,96,97,98,99],\"xaxis\":\"x2\",\"y\":[0.6427127808237326,\"\",\"\",1.722589891682346,0.5103752818228025,\"\",0.20018629076170497,1.1702590760479001,1.1361504574831722,0.6437660226460122,\"\",\"\",1.664990333543438,\"\",\"\",\"\",1.177574235005647,3.400402752716637,0.33912195723900945,0.14902975346710334,0.49655712566423565,0.551937346688537,\"\",\"\",0.8314654150978691,1.4869203908969852,\"\",0.5913761598091556,\"\",\"\",\"\",0.3555509743344548,\"\",\"\",1.7612639795597007,\"\",\"\",\"\",\"\",\"\",1.6499883822461898,\"\",\"\",\"\",\"\",\"\",\"\",\"\",1.9198914675817185,\"\",0.703383276677799,0.2786713545241562,\"\",\"\",1.7499685852415778,\"\",2.140040168301415,1.825833642983576,0.45027868733607335,0.7167145871714932,\"\",2.2917446167375526,3.0475153837998876,0.9671717710415128,\"\",\"\",\"\",1.1727119656111826,0.056905248196636116,1.3015798377742218,2.5838862036160823,\"\",0.3882062568524097,1.0294438278540377,2.5477992056234844,\"\",3.266119519852232,0.8268372368531514,\"\",\"\",0.87851924435612,1.662088227263774,1.5945294094505589,0.8905045105809908,4.892433187874181,0.6927239793005182,1.9908515151889916,1.8050394763903124,0.23677088644372518,\"\",\"\",0.36228540743207116,\"\",3.493211397983975,\"\",\"\",\"\",\"\",1.3509549318065044,0.24075274717979844],\"yaxis\":\"y2\",\"type\":\"scatter\"},{\"connectgaps\":false,\"fill\":\"tozeroy\",\"line\":{\"color\":\"red\",\"dash\":\"solid\",\"shape\":\"linear\",\"width\":0.5},\"mode\":\"lines\",\"name\":\"Spread\",\"showlegend\":false,\"x\":[0,1,2,3,4,5,6,7,8,9,10,11,12,13,14,15,16,17,18,19,20,21,22,23,24,25,26,27,28,29,30,31,32,33,34,35,36,37,38,39,40,41,42,43,44,45,46,47,48,49,50,51,52,53,54,55,56,57,58,59,60,61,62,63,64,65,66,67,68,69,70,71,72,73,74,75,76,77,78,79,80,81,82,83,84,85,86,87,88,89,90,91,92,93,94,95,96,97,98,99],\"xaxis\":\"x2\",\"y\":[\"\",-0.663912849257347,-1.9522107119446837,\"\",\"\",-1.00822192110223,\"\",\"\",\"\",\"\",-3.64216310327711,-0.987817388131224,\"\",-0.6188585140850597,-3.5373004687703107,-1.0280935705223784,\"\",\"\",\"\",\"\",\"\",\"\",-1.1705739769110572,-1.6166843168853764,\"\",\"\",-0.2782355134006574,\"\",-0.7494980354442198,-0.31282186569989445,-2.197378875045752,\"\",-1.142468016464758,-0.2299727045497994,\"\",-1.8418191651102047,-1.643514775440786,-1.1355105424537038,-0.0639908894664667,-0.38570029496009517,\"\",-0.7627183399048126,-0.025045414669822907,-0.44348750881888477,-0.42139356915505644,-0.0625134824898021,-1.1218910626406993,-0.370428664470341,\"\",-2.745487198808127,\"\",\"\",-1.1962185586539662,-0.6408472998181088,\"\",-2.2703780771724906,\"\",\"\",\"\",\"\",-1.9900240607109054,\"\",\"\",\"\",-0.5327423678290115,-2.4960117354561184,-0.9857131607076546,\"\",\"\",\"\",\"\",-1.5531814705310967,\"\",\"\",\"\",-0.9227836247604363,\"\",\"\",-1.213786871167697,-3.070905952351023,\"\",\"\",\"\",\"\",\"\",\"\",\"\",\"\",\"\",-0.2511112230944056,-0.2902230253347216,\"\",-0.8785970485691075,\"\",-0.5628203345175824,-1.0054092851432939,-0.5871452096504527,-0.22259863733364352,\"\",\"\"],\"yaxis\":\"y2\",\"type\":\"scatter\"}],                        {\"hovermode\":\"x\",\"legend\":{\"bgcolor\":\"#F5F6F9\",\"font\":{\"color\":\"#4D5663\"}},\"paper_bgcolor\":\"#F5F6F9\",\"plot_bgcolor\":\"#F5F6F9\",\"template\":{\"data\":{\"barpolar\":[{\"marker\":{\"line\":{\"color\":\"#E5ECF6\",\"width\":0.5},\"pattern\":{\"fillmode\":\"overlay\",\"size\":10,\"solidity\":0.2}},\"type\":\"barpolar\"}],\"bar\":[{\"error_x\":{\"color\":\"#2a3f5f\"},\"error_y\":{\"color\":\"#2a3f5f\"},\"marker\":{\"line\":{\"color\":\"#E5ECF6\",\"width\":0.5},\"pattern\":{\"fillmode\":\"overlay\",\"size\":10,\"solidity\":0.2}},\"type\":\"bar\"}],\"carpet\":[{\"aaxis\":{\"endlinecolor\":\"#2a3f5f\",\"gridcolor\":\"white\",\"linecolor\":\"white\",\"minorgridcolor\":\"white\",\"startlinecolor\":\"#2a3f5f\"},\"baxis\":{\"endlinecolor\":\"#2a3f5f\",\"gridcolor\":\"white\",\"linecolor\":\"white\",\"minorgridcolor\":\"white\",\"startlinecolor\":\"#2a3f5f\"},\"type\":\"carpet\"}],\"choropleth\":[{\"colorbar\":{\"outlinewidth\":0,\"ticks\":\"\"},\"type\":\"choropleth\"}],\"contourcarpet\":[{\"colorbar\":{\"outlinewidth\":0,\"ticks\":\"\"},\"type\":\"contourcarpet\"}],\"contour\":[{\"colorbar\":{\"outlinewidth\":0,\"ticks\":\"\"},\"colorscale\":[[0.0,\"#0d0887\"],[0.1111111111111111,\"#46039f\"],[0.2222222222222222,\"#7201a8\"],[0.3333333333333333,\"#9c179e\"],[0.4444444444444444,\"#bd3786\"],[0.5555555555555556,\"#d8576b\"],[0.6666666666666666,\"#ed7953\"],[0.7777777777777778,\"#fb9f3a\"],[0.8888888888888888,\"#fdca26\"],[1.0,\"#f0f921\"]],\"type\":\"contour\"}],\"heatmapgl\":[{\"colorbar\":{\"outlinewidth\":0,\"ticks\":\"\"},\"colorscale\":[[0.0,\"#0d0887\"],[0.1111111111111111,\"#46039f\"],[0.2222222222222222,\"#7201a8\"],[0.3333333333333333,\"#9c179e\"],[0.4444444444444444,\"#bd3786\"],[0.5555555555555556,\"#d8576b\"],[0.6666666666666666,\"#ed7953\"],[0.7777777777777778,\"#fb9f3a\"],[0.8888888888888888,\"#fdca26\"],[1.0,\"#f0f921\"]],\"type\":\"heatmapgl\"}],\"heatmap\":[{\"colorbar\":{\"outlinewidth\":0,\"ticks\":\"\"},\"colorscale\":[[0.0,\"#0d0887\"],[0.1111111111111111,\"#46039f\"],[0.2222222222222222,\"#7201a8\"],[0.3333333333333333,\"#9c179e\"],[0.4444444444444444,\"#bd3786\"],[0.5555555555555556,\"#d8576b\"],[0.6666666666666666,\"#ed7953\"],[0.7777777777777778,\"#fb9f3a\"],[0.8888888888888888,\"#fdca26\"],[1.0,\"#f0f921\"]],\"type\":\"heatmap\"}],\"histogram2dcontour\":[{\"colorbar\":{\"outlinewidth\":0,\"ticks\":\"\"},\"colorscale\":[[0.0,\"#0d0887\"],[0.1111111111111111,\"#46039f\"],[0.2222222222222222,\"#7201a8\"],[0.3333333333333333,\"#9c179e\"],[0.4444444444444444,\"#bd3786\"],[0.5555555555555556,\"#d8576b\"],[0.6666666666666666,\"#ed7953\"],[0.7777777777777778,\"#fb9f3a\"],[0.8888888888888888,\"#fdca26\"],[1.0,\"#f0f921\"]],\"type\":\"histogram2dcontour\"}],\"histogram2d\":[{\"colorbar\":{\"outlinewidth\":0,\"ticks\":\"\"},\"colorscale\":[[0.0,\"#0d0887\"],[0.1111111111111111,\"#46039f\"],[0.2222222222222222,\"#7201a8\"],[0.3333333333333333,\"#9c179e\"],[0.4444444444444444,\"#bd3786\"],[0.5555555555555556,\"#d8576b\"],[0.6666666666666666,\"#ed7953\"],[0.7777777777777778,\"#fb9f3a\"],[0.8888888888888888,\"#fdca26\"],[1.0,\"#f0f921\"]],\"type\":\"histogram2d\"}],\"histogram\":[{\"marker\":{\"pattern\":{\"fillmode\":\"overlay\",\"size\":10,\"solidity\":0.2}},\"type\":\"histogram\"}],\"mesh3d\":[{\"colorbar\":{\"outlinewidth\":0,\"ticks\":\"\"},\"type\":\"mesh3d\"}],\"parcoords\":[{\"line\":{\"colorbar\":{\"outlinewidth\":0,\"ticks\":\"\"}},\"type\":\"parcoords\"}],\"pie\":[{\"automargin\":true,\"type\":\"pie\"}],\"scatter3d\":[{\"line\":{\"colorbar\":{\"outlinewidth\":0,\"ticks\":\"\"}},\"marker\":{\"colorbar\":{\"outlinewidth\":0,\"ticks\":\"\"}},\"type\":\"scatter3d\"}],\"scattercarpet\":[{\"marker\":{\"colorbar\":{\"outlinewidth\":0,\"ticks\":\"\"}},\"type\":\"scattercarpet\"}],\"scattergeo\":[{\"marker\":{\"colorbar\":{\"outlinewidth\":0,\"ticks\":\"\"}},\"type\":\"scattergeo\"}],\"scattergl\":[{\"marker\":{\"colorbar\":{\"outlinewidth\":0,\"ticks\":\"\"}},\"type\":\"scattergl\"}],\"scattermapbox\":[{\"marker\":{\"colorbar\":{\"outlinewidth\":0,\"ticks\":\"\"}},\"type\":\"scattermapbox\"}],\"scatterpolargl\":[{\"marker\":{\"colorbar\":{\"outlinewidth\":0,\"ticks\":\"\"}},\"type\":\"scatterpolargl\"}],\"scatterpolar\":[{\"marker\":{\"colorbar\":{\"outlinewidth\":0,\"ticks\":\"\"}},\"type\":\"scatterpolar\"}],\"scatter\":[{\"marker\":{\"colorbar\":{\"outlinewidth\":0,\"ticks\":\"\"}},\"type\":\"scatter\"}],\"scatterternary\":[{\"marker\":{\"colorbar\":{\"outlinewidth\":0,\"ticks\":\"\"}},\"type\":\"scatterternary\"}],\"surface\":[{\"colorbar\":{\"outlinewidth\":0,\"ticks\":\"\"},\"colorscale\":[[0.0,\"#0d0887\"],[0.1111111111111111,\"#46039f\"],[0.2222222222222222,\"#7201a8\"],[0.3333333333333333,\"#9c179e\"],[0.4444444444444444,\"#bd3786\"],[0.5555555555555556,\"#d8576b\"],[0.6666666666666666,\"#ed7953\"],[0.7777777777777778,\"#fb9f3a\"],[0.8888888888888888,\"#fdca26\"],[1.0,\"#f0f921\"]],\"type\":\"surface\"}],\"table\":[{\"cells\":{\"fill\":{\"color\":\"#EBF0F8\"},\"line\":{\"color\":\"white\"}},\"header\":{\"fill\":{\"color\":\"#C8D4E3\"},\"line\":{\"color\":\"white\"}},\"type\":\"table\"}]},\"layout\":{\"annotationdefaults\":{\"arrowcolor\":\"#2a3f5f\",\"arrowhead\":0,\"arrowwidth\":1},\"autotypenumbers\":\"strict\",\"coloraxis\":{\"colorbar\":{\"outlinewidth\":0,\"ticks\":\"\"}},\"colorscale\":{\"diverging\":[[0,\"#8e0152\"],[0.1,\"#c51b7d\"],[0.2,\"#de77ae\"],[0.3,\"#f1b6da\"],[0.4,\"#fde0ef\"],[0.5,\"#f7f7f7\"],[0.6,\"#e6f5d0\"],[0.7,\"#b8e186\"],[0.8,\"#7fbc41\"],[0.9,\"#4d9221\"],[1,\"#276419\"]],\"sequential\":[[0.0,\"#0d0887\"],[0.1111111111111111,\"#46039f\"],[0.2222222222222222,\"#7201a8\"],[0.3333333333333333,\"#9c179e\"],[0.4444444444444444,\"#bd3786\"],[0.5555555555555556,\"#d8576b\"],[0.6666666666666666,\"#ed7953\"],[0.7777777777777778,\"#fb9f3a\"],[0.8888888888888888,\"#fdca26\"],[1.0,\"#f0f921\"]],\"sequentialminus\":[[0.0,\"#0d0887\"],[0.1111111111111111,\"#46039f\"],[0.2222222222222222,\"#7201a8\"],[0.3333333333333333,\"#9c179e\"],[0.4444444444444444,\"#bd3786\"],[0.5555555555555556,\"#d8576b\"],[0.6666666666666666,\"#ed7953\"],[0.7777777777777778,\"#fb9f3a\"],[0.8888888888888888,\"#fdca26\"],[1.0,\"#f0f921\"]]},\"colorway\":[\"#636efa\",\"#EF553B\",\"#00cc96\",\"#ab63fa\",\"#FFA15A\",\"#19d3f3\",\"#FF6692\",\"#B6E880\",\"#FF97FF\",\"#FECB52\"],\"font\":{\"color\":\"#2a3f5f\"},\"geo\":{\"bgcolor\":\"white\",\"lakecolor\":\"white\",\"landcolor\":\"#E5ECF6\",\"showlakes\":true,\"showland\":true,\"subunitcolor\":\"white\"},\"hoverlabel\":{\"align\":\"left\"},\"hovermode\":\"closest\",\"mapbox\":{\"style\":\"light\"},\"paper_bgcolor\":\"white\",\"plot_bgcolor\":\"#E5ECF6\",\"polar\":{\"angularaxis\":{\"gridcolor\":\"white\",\"linecolor\":\"white\",\"ticks\":\"\"},\"bgcolor\":\"#E5ECF6\",\"radialaxis\":{\"gridcolor\":\"white\",\"linecolor\":\"white\",\"ticks\":\"\"}},\"scene\":{\"xaxis\":{\"backgroundcolor\":\"#E5ECF6\",\"gridcolor\":\"white\",\"gridwidth\":2,\"linecolor\":\"white\",\"showbackground\":true,\"ticks\":\"\",\"zerolinecolor\":\"white\"},\"yaxis\":{\"backgroundcolor\":\"#E5ECF6\",\"gridcolor\":\"white\",\"gridwidth\":2,\"linecolor\":\"white\",\"showbackground\":true,\"ticks\":\"\",\"zerolinecolor\":\"white\"},\"zaxis\":{\"backgroundcolor\":\"#E5ECF6\",\"gridcolor\":\"white\",\"gridwidth\":2,\"linecolor\":\"white\",\"showbackground\":true,\"ticks\":\"\",\"zerolinecolor\":\"white\"}},\"shapedefaults\":{\"line\":{\"color\":\"#2a3f5f\"}},\"ternary\":{\"aaxis\":{\"gridcolor\":\"white\",\"linecolor\":\"white\",\"ticks\":\"\"},\"baxis\":{\"gridcolor\":\"white\",\"linecolor\":\"white\",\"ticks\":\"\"},\"bgcolor\":\"#E5ECF6\",\"caxis\":{\"gridcolor\":\"white\",\"linecolor\":\"white\",\"ticks\":\"\"}},\"title\":{\"x\":0.05},\"xaxis\":{\"automargin\":true,\"gridcolor\":\"white\",\"linecolor\":\"white\",\"ticks\":\"\",\"title\":{\"standoff\":15},\"zerolinecolor\":\"white\",\"zerolinewidth\":2},\"yaxis\":{\"automargin\":true,\"gridcolor\":\"white\",\"linecolor\":\"white\",\"ticks\":\"\",\"title\":{\"standoff\":15},\"zerolinecolor\":\"white\",\"zerolinewidth\":2}}},\"title\":{\"font\":{\"color\":\"#4D5663\"}},\"xaxis\":{\"gridcolor\":\"#E1E5ED\",\"showgrid\":true,\"tickfont\":{\"color\":\"#4D5663\"},\"title\":{\"font\":{\"color\":\"#4D5663\"},\"text\":\"\"},\"zerolinecolor\":\"#E1E5ED\"},\"yaxis\":{\"domain\":[0.3,1],\"gridcolor\":\"#E1E5ED\",\"showgrid\":true,\"tickfont\":{\"color\":\"#4D5663\"},\"title\":{\"font\":{\"color\":\"#4D5663\"},\"text\":\"\"},\"zerolinecolor\":\"#E1E5ED\"},\"yaxis2\":{\"domain\":[0,0.25],\"gridcolor\":\"#E1E5ED\",\"showgrid\":true,\"tickfont\":{\"color\":\"#4D5663\"},\"title\":{\"font\":{\"color\":\"#4D5663\"},\"text\":\"Spread\"},\"zerolinecolor\":\"#E1E5ED\"},\"xaxis2\":{\"anchor\":\"y2\",\"gridcolor\":\"#E1E5ED\",\"showgrid\":true,\"showticklabels\":false,\"tickfont\":{\"color\":\"#4D5663\"},\"title\":{\"font\":{\"color\":\"#4D5663\"},\"text\":\"\"},\"zerolinecolor\":\"#E1E5ED\"}},                        {\"showLink\": true, \"linkText\": \"Export to plot.ly\", \"plotlyServerURL\": \"https://plot.ly\", \"responsive\": true}                    ).then(function(){\n",
       "                            \n",
       "var gd = document.getElementById('1bb27539-9168-44a3-8da8-41b865797a79');\n",
       "var x = new MutationObserver(function (mutations, observer) {{\n",
       "        var display = window.getComputedStyle(gd).display;\n",
       "        if (!display || display === 'none') {{\n",
       "            console.log([gd, 'removed!']);\n",
       "            Plotly.purge(gd);\n",
       "            observer.disconnect();\n",
       "        }}\n",
       "}});\n",
       "\n",
       "// Listen for the removal of the full notebook cells\n",
       "var notebookContainer = gd.closest('#notebook-container');\n",
       "if (notebookContainer) {{\n",
       "    x.observe(notebookContainer, {childList: true});\n",
       "}}\n",
       "\n",
       "// Listen for the clearing of the current output cell\n",
       "var outputEl = gd.closest('.output');\n",
       "if (outputEl) {{\n",
       "    x.observe(outputEl, {childList: true});\n",
       "}}\n",
       "\n",
       "                        })                };                });            </script>        </div>"
      ]
     },
     "metadata": {},
     "output_type": "display_data"
    }
   ],
   "source": [
    "df[['A','B']].iplot(kind='spread')"
   ]
  },
  {
   "cell_type": "markdown",
   "metadata": {},
   "source": [
    "## histogram"
   ]
  },
  {
   "cell_type": "code",
   "execution_count": 20,
   "metadata": {
    "collapsed": false
   },
   "outputs": [
    {
     "data": {
      "application/vnd.plotly.v1+json": {
       "config": {
        "linkText": "Export to plot.ly",
        "plotlyServerURL": "https://plot.ly",
        "showLink": true
       },
       "data": [
        {
         "histfunc": "count",
         "histnorm": "",
         "marker": {
          "color": "rgba(255, 153, 51, 1.0)",
          "line": {
           "color": "#4D5663",
           "width": 1.3
          }
         },
         "name": "A",
         "nbinsx": 50,
         "opacity": 0.8,
         "orientation": "v",
         "type": "histogram",
         "x": [
          0.12063307993793361,
          -0.9753533300826948,
          -2.6763579724952478,
          0.4925482616402867,
          -1.3155762174963437,
          -0.9217912477793413,
          -0.4281288511836951,
          -0.0741095333382842,
          -0.3692088265632047,
          0.35277535814250177,
          -1.2316540713957096,
          -0.9813720181548536,
          -0.47010006603407345,
          -0.9756382227178094,
          -0.8715649349132115,
          -0.8173420824910456,
          -0.29952269396360204,
          1.6181557308102659,
          0.23461995230221297,
          -0.7300727916207131,
          -0.3244203020415168,
          1.3694792193594787,
          -1.1830985969539412,
          -0.6695712322864437,
          0.050300812786321834,
          1.036031284483547,
          0.1247331884526296,
          0.8612593921604814,
          -0.45189648057547976,
          -0.898337364398072,
          -0.6308497962480135,
          0.2495090999989929,
          0.611785806237333,
          -0.6494156327534888,
          1.0626583005146162,
          -0.6765149979610443,
          -0.8629222849427012,
          -0.4276817021646282,
          0.6989004308480385,
          0.6181170042687887,
          1.0505932458214589,
          -1.5983442369800216,
          0.9999863331004377,
          -0.6102895780299539,
          0.09795246638112484,
          -0.4385288540045722,
          -1.2123774307299526,
          -0.10202832053379358,
          1.0446774055922547,
          -1.5020525330486525,
          -0.337479573581759,
          0.19549105352603027,
          -0.07001083383244362,
          -0.44993406654047785,
          0.19182058873532176,
          -0.6732686807599063,
          0.6998273146365749,
          0.43016092779073634,
          1.600242286482051,
          0.6205651472739886,
          -1.2413108957504477,
          0.4319110171963078,
          2.079307316368707,
          0.15878224002809227,
          -0.4607271915720504,
          -1.795639248025241,
          -0.6253697528709673,
          1.465503456008871,
          -0.6621669846039352,
          -0.41103293808023034,
          1.5749238411721267,
          -2.1864561795949813,
          -0.4977776664624909,
          1.3853988617617512,
          -0.5129876095526238,
          -0.897283087487321,
          2.0986612052958025,
          -0.05035355878762703,
          0.03859935212065949,
          -2.181021788479176,
          1.1405184610429981,
          -0.658601302599404,
          0.5437139638452326,
          0.5223135093950999,
          2.3705411280177904,
          0.28454474083707143,
          1.4193227372132629,
          0.6507308823181396,
          0.1352940000072053,
          0.6523221390470338,
          -0.1031777953536062,
          -0.40840207673124784,
          0.7014536039135242,
          1.4910125606499636,
          -0.5187542098528161,
          -0.623292885529943,
          -0.02245147999377042,
          -0.44467364964177175,
          1.1375268851232159,
          0.0007559084429775664
         ]
        }
       ],
       "layout": {
        "barmode": "overlay",
        "legend": {
         "bgcolor": "#F5F6F9",
         "font": {
          "color": "#4D5663"
         }
        },
        "paper_bgcolor": "#F5F6F9",
        "plot_bgcolor": "#F5F6F9",
        "template": {
         "data": {
          "bar": [
           {
            "error_x": {
             "color": "#2a3f5f"
            },
            "error_y": {
             "color": "#2a3f5f"
            },
            "marker": {
             "line": {
              "color": "#E5ECF6",
              "width": 0.5
             },
             "pattern": {
              "fillmode": "overlay",
              "size": 10,
              "solidity": 0.2
             }
            },
            "type": "bar"
           }
          ],
          "barpolar": [
           {
            "marker": {
             "line": {
              "color": "#E5ECF6",
              "width": 0.5
             },
             "pattern": {
              "fillmode": "overlay",
              "size": 10,
              "solidity": 0.2
             }
            },
            "type": "barpolar"
           }
          ],
          "carpet": [
           {
            "aaxis": {
             "endlinecolor": "#2a3f5f",
             "gridcolor": "white",
             "linecolor": "white",
             "minorgridcolor": "white",
             "startlinecolor": "#2a3f5f"
            },
            "baxis": {
             "endlinecolor": "#2a3f5f",
             "gridcolor": "white",
             "linecolor": "white",
             "minorgridcolor": "white",
             "startlinecolor": "#2a3f5f"
            },
            "type": "carpet"
           }
          ],
          "choropleth": [
           {
            "colorbar": {
             "outlinewidth": 0,
             "ticks": ""
            },
            "type": "choropleth"
           }
          ],
          "contour": [
           {
            "colorbar": {
             "outlinewidth": 0,
             "ticks": ""
            },
            "colorscale": [
             [
              0,
              "#0d0887"
             ],
             [
              0.1111111111111111,
              "#46039f"
             ],
             [
              0.2222222222222222,
              "#7201a8"
             ],
             [
              0.3333333333333333,
              "#9c179e"
             ],
             [
              0.4444444444444444,
              "#bd3786"
             ],
             [
              0.5555555555555556,
              "#d8576b"
             ],
             [
              0.6666666666666666,
              "#ed7953"
             ],
             [
              0.7777777777777778,
              "#fb9f3a"
             ],
             [
              0.8888888888888888,
              "#fdca26"
             ],
             [
              1,
              "#f0f921"
             ]
            ],
            "type": "contour"
           }
          ],
          "contourcarpet": [
           {
            "colorbar": {
             "outlinewidth": 0,
             "ticks": ""
            },
            "type": "contourcarpet"
           }
          ],
          "heatmap": [
           {
            "colorbar": {
             "outlinewidth": 0,
             "ticks": ""
            },
            "colorscale": [
             [
              0,
              "#0d0887"
             ],
             [
              0.1111111111111111,
              "#46039f"
             ],
             [
              0.2222222222222222,
              "#7201a8"
             ],
             [
              0.3333333333333333,
              "#9c179e"
             ],
             [
              0.4444444444444444,
              "#bd3786"
             ],
             [
              0.5555555555555556,
              "#d8576b"
             ],
             [
              0.6666666666666666,
              "#ed7953"
             ],
             [
              0.7777777777777778,
              "#fb9f3a"
             ],
             [
              0.8888888888888888,
              "#fdca26"
             ],
             [
              1,
              "#f0f921"
             ]
            ],
            "type": "heatmap"
           }
          ],
          "heatmapgl": [
           {
            "colorbar": {
             "outlinewidth": 0,
             "ticks": ""
            },
            "colorscale": [
             [
              0,
              "#0d0887"
             ],
             [
              0.1111111111111111,
              "#46039f"
             ],
             [
              0.2222222222222222,
              "#7201a8"
             ],
             [
              0.3333333333333333,
              "#9c179e"
             ],
             [
              0.4444444444444444,
              "#bd3786"
             ],
             [
              0.5555555555555556,
              "#d8576b"
             ],
             [
              0.6666666666666666,
              "#ed7953"
             ],
             [
              0.7777777777777778,
              "#fb9f3a"
             ],
             [
              0.8888888888888888,
              "#fdca26"
             ],
             [
              1,
              "#f0f921"
             ]
            ],
            "type": "heatmapgl"
           }
          ],
          "histogram": [
           {
            "marker": {
             "pattern": {
              "fillmode": "overlay",
              "size": 10,
              "solidity": 0.2
             }
            },
            "type": "histogram"
           }
          ],
          "histogram2d": [
           {
            "colorbar": {
             "outlinewidth": 0,
             "ticks": ""
            },
            "colorscale": [
             [
              0,
              "#0d0887"
             ],
             [
              0.1111111111111111,
              "#46039f"
             ],
             [
              0.2222222222222222,
              "#7201a8"
             ],
             [
              0.3333333333333333,
              "#9c179e"
             ],
             [
              0.4444444444444444,
              "#bd3786"
             ],
             [
              0.5555555555555556,
              "#d8576b"
             ],
             [
              0.6666666666666666,
              "#ed7953"
             ],
             [
              0.7777777777777778,
              "#fb9f3a"
             ],
             [
              0.8888888888888888,
              "#fdca26"
             ],
             [
              1,
              "#f0f921"
             ]
            ],
            "type": "histogram2d"
           }
          ],
          "histogram2dcontour": [
           {
            "colorbar": {
             "outlinewidth": 0,
             "ticks": ""
            },
            "colorscale": [
             [
              0,
              "#0d0887"
             ],
             [
              0.1111111111111111,
              "#46039f"
             ],
             [
              0.2222222222222222,
              "#7201a8"
             ],
             [
              0.3333333333333333,
              "#9c179e"
             ],
             [
              0.4444444444444444,
              "#bd3786"
             ],
             [
              0.5555555555555556,
              "#d8576b"
             ],
             [
              0.6666666666666666,
              "#ed7953"
             ],
             [
              0.7777777777777778,
              "#fb9f3a"
             ],
             [
              0.8888888888888888,
              "#fdca26"
             ],
             [
              1,
              "#f0f921"
             ]
            ],
            "type": "histogram2dcontour"
           }
          ],
          "mesh3d": [
           {
            "colorbar": {
             "outlinewidth": 0,
             "ticks": ""
            },
            "type": "mesh3d"
           }
          ],
          "parcoords": [
           {
            "line": {
             "colorbar": {
              "outlinewidth": 0,
              "ticks": ""
             }
            },
            "type": "parcoords"
           }
          ],
          "pie": [
           {
            "automargin": true,
            "type": "pie"
           }
          ],
          "scatter": [
           {
            "marker": {
             "colorbar": {
              "outlinewidth": 0,
              "ticks": ""
             }
            },
            "type": "scatter"
           }
          ],
          "scatter3d": [
           {
            "line": {
             "colorbar": {
              "outlinewidth": 0,
              "ticks": ""
             }
            },
            "marker": {
             "colorbar": {
              "outlinewidth": 0,
              "ticks": ""
             }
            },
            "type": "scatter3d"
           }
          ],
          "scattercarpet": [
           {
            "marker": {
             "colorbar": {
              "outlinewidth": 0,
              "ticks": ""
             }
            },
            "type": "scattercarpet"
           }
          ],
          "scattergeo": [
           {
            "marker": {
             "colorbar": {
              "outlinewidth": 0,
              "ticks": ""
             }
            },
            "type": "scattergeo"
           }
          ],
          "scattergl": [
           {
            "marker": {
             "colorbar": {
              "outlinewidth": 0,
              "ticks": ""
             }
            },
            "type": "scattergl"
           }
          ],
          "scattermapbox": [
           {
            "marker": {
             "colorbar": {
              "outlinewidth": 0,
              "ticks": ""
             }
            },
            "type": "scattermapbox"
           }
          ],
          "scatterpolar": [
           {
            "marker": {
             "colorbar": {
              "outlinewidth": 0,
              "ticks": ""
             }
            },
            "type": "scatterpolar"
           }
          ],
          "scatterpolargl": [
           {
            "marker": {
             "colorbar": {
              "outlinewidth": 0,
              "ticks": ""
             }
            },
            "type": "scatterpolargl"
           }
          ],
          "scatterternary": [
           {
            "marker": {
             "colorbar": {
              "outlinewidth": 0,
              "ticks": ""
             }
            },
            "type": "scatterternary"
           }
          ],
          "surface": [
           {
            "colorbar": {
             "outlinewidth": 0,
             "ticks": ""
            },
            "colorscale": [
             [
              0,
              "#0d0887"
             ],
             [
              0.1111111111111111,
              "#46039f"
             ],
             [
              0.2222222222222222,
              "#7201a8"
             ],
             [
              0.3333333333333333,
              "#9c179e"
             ],
             [
              0.4444444444444444,
              "#bd3786"
             ],
             [
              0.5555555555555556,
              "#d8576b"
             ],
             [
              0.6666666666666666,
              "#ed7953"
             ],
             [
              0.7777777777777778,
              "#fb9f3a"
             ],
             [
              0.8888888888888888,
              "#fdca26"
             ],
             [
              1,
              "#f0f921"
             ]
            ],
            "type": "surface"
           }
          ],
          "table": [
           {
            "cells": {
             "fill": {
              "color": "#EBF0F8"
             },
             "line": {
              "color": "white"
             }
            },
            "header": {
             "fill": {
              "color": "#C8D4E3"
             },
             "line": {
              "color": "white"
             }
            },
            "type": "table"
           }
          ]
         },
         "layout": {
          "annotationdefaults": {
           "arrowcolor": "#2a3f5f",
           "arrowhead": 0,
           "arrowwidth": 1
          },
          "autotypenumbers": "strict",
          "coloraxis": {
           "colorbar": {
            "outlinewidth": 0,
            "ticks": ""
           }
          },
          "colorscale": {
           "diverging": [
            [
             0,
             "#8e0152"
            ],
            [
             0.1,
             "#c51b7d"
            ],
            [
             0.2,
             "#de77ae"
            ],
            [
             0.3,
             "#f1b6da"
            ],
            [
             0.4,
             "#fde0ef"
            ],
            [
             0.5,
             "#f7f7f7"
            ],
            [
             0.6,
             "#e6f5d0"
            ],
            [
             0.7,
             "#b8e186"
            ],
            [
             0.8,
             "#7fbc41"
            ],
            [
             0.9,
             "#4d9221"
            ],
            [
             1,
             "#276419"
            ]
           ],
           "sequential": [
            [
             0,
             "#0d0887"
            ],
            [
             0.1111111111111111,
             "#46039f"
            ],
            [
             0.2222222222222222,
             "#7201a8"
            ],
            [
             0.3333333333333333,
             "#9c179e"
            ],
            [
             0.4444444444444444,
             "#bd3786"
            ],
            [
             0.5555555555555556,
             "#d8576b"
            ],
            [
             0.6666666666666666,
             "#ed7953"
            ],
            [
             0.7777777777777778,
             "#fb9f3a"
            ],
            [
             0.8888888888888888,
             "#fdca26"
            ],
            [
             1,
             "#f0f921"
            ]
           ],
           "sequentialminus": [
            [
             0,
             "#0d0887"
            ],
            [
             0.1111111111111111,
             "#46039f"
            ],
            [
             0.2222222222222222,
             "#7201a8"
            ],
            [
             0.3333333333333333,
             "#9c179e"
            ],
            [
             0.4444444444444444,
             "#bd3786"
            ],
            [
             0.5555555555555556,
             "#d8576b"
            ],
            [
             0.6666666666666666,
             "#ed7953"
            ],
            [
             0.7777777777777778,
             "#fb9f3a"
            ],
            [
             0.8888888888888888,
             "#fdca26"
            ],
            [
             1,
             "#f0f921"
            ]
           ]
          },
          "colorway": [
           "#636efa",
           "#EF553B",
           "#00cc96",
           "#ab63fa",
           "#FFA15A",
           "#19d3f3",
           "#FF6692",
           "#B6E880",
           "#FF97FF",
           "#FECB52"
          ],
          "font": {
           "color": "#2a3f5f"
          },
          "geo": {
           "bgcolor": "white",
           "lakecolor": "white",
           "landcolor": "#E5ECF6",
           "showlakes": true,
           "showland": true,
           "subunitcolor": "white"
          },
          "hoverlabel": {
           "align": "left"
          },
          "hovermode": "closest",
          "mapbox": {
           "style": "light"
          },
          "paper_bgcolor": "white",
          "plot_bgcolor": "#E5ECF6",
          "polar": {
           "angularaxis": {
            "gridcolor": "white",
            "linecolor": "white",
            "ticks": ""
           },
           "bgcolor": "#E5ECF6",
           "radialaxis": {
            "gridcolor": "white",
            "linecolor": "white",
            "ticks": ""
           }
          },
          "scene": {
           "xaxis": {
            "backgroundcolor": "#E5ECF6",
            "gridcolor": "white",
            "gridwidth": 2,
            "linecolor": "white",
            "showbackground": true,
            "ticks": "",
            "zerolinecolor": "white"
           },
           "yaxis": {
            "backgroundcolor": "#E5ECF6",
            "gridcolor": "white",
            "gridwidth": 2,
            "linecolor": "white",
            "showbackground": true,
            "ticks": "",
            "zerolinecolor": "white"
           },
           "zaxis": {
            "backgroundcolor": "#E5ECF6",
            "gridcolor": "white",
            "gridwidth": 2,
            "linecolor": "white",
            "showbackground": true,
            "ticks": "",
            "zerolinecolor": "white"
           }
          },
          "shapedefaults": {
           "line": {
            "color": "#2a3f5f"
           }
          },
          "ternary": {
           "aaxis": {
            "gridcolor": "white",
            "linecolor": "white",
            "ticks": ""
           },
           "baxis": {
            "gridcolor": "white",
            "linecolor": "white",
            "ticks": ""
           },
           "bgcolor": "#E5ECF6",
           "caxis": {
            "gridcolor": "white",
            "linecolor": "white",
            "ticks": ""
           }
          },
          "title": {
           "x": 0.05
          },
          "xaxis": {
           "automargin": true,
           "gridcolor": "white",
           "linecolor": "white",
           "ticks": "",
           "title": {
            "standoff": 15
           },
           "zerolinecolor": "white",
           "zerolinewidth": 2
          },
          "yaxis": {
           "automargin": true,
           "gridcolor": "white",
           "linecolor": "white",
           "ticks": "",
           "title": {
            "standoff": 15
           },
           "zerolinecolor": "white",
           "zerolinewidth": 2
          }
         }
        },
        "title": {
         "font": {
          "color": "#4D5663"
         }
        },
        "xaxis": {
         "gridcolor": "#E1E5ED",
         "showgrid": true,
         "tickfont": {
          "color": "#4D5663"
         },
         "title": {
          "font": {
           "color": "#4D5663"
          },
          "text": ""
         },
         "zerolinecolor": "#E1E5ED"
        },
        "yaxis": {
         "gridcolor": "#E1E5ED",
         "showgrid": true,
         "tickfont": {
          "color": "#4D5663"
         },
         "title": {
          "font": {
           "color": "#4D5663"
          },
          "text": ""
         },
         "zerolinecolor": "#E1E5ED"
        }
       }
      },
      "text/html": [
       "<div>                            <div id=\"18d187c8-4db7-46ca-8400-8588f5c8504d\" class=\"plotly-graph-div\" style=\"height:525px; width:100%;\"></div>            <script type=\"text/javascript\">                require([\"plotly\"], function(Plotly) {                    window.PLOTLYENV=window.PLOTLYENV || {};\n",
       "                    window.PLOTLYENV.BASE_URL='https://plot.ly';                                    if (document.getElementById(\"18d187c8-4db7-46ca-8400-8588f5c8504d\")) {                    Plotly.newPlot(                        \"18d187c8-4db7-46ca-8400-8588f5c8504d\",                        [{\"histfunc\":\"count\",\"histnorm\":\"\",\"marker\":{\"color\":\"rgba(255, 153, 51, 1.0)\",\"line\":{\"color\":\"#4D5663\",\"width\":1.3}},\"name\":\"A\",\"nbinsx\":50,\"opacity\":0.8,\"orientation\":\"v\",\"x\":[0.12063307993793361,-0.9753533300826948,-2.6763579724952478,0.4925482616402867,-1.3155762174963437,-0.9217912477793413,-0.4281288511836951,-0.0741095333382842,-0.3692088265632047,0.35277535814250177,-1.2316540713957096,-0.9813720181548536,-0.47010006603407345,-0.9756382227178094,-0.8715649349132115,-0.8173420824910456,-0.29952269396360204,1.6181557308102659,0.23461995230221297,-0.7300727916207131,-0.3244203020415168,1.3694792193594787,-1.1830985969539412,-0.6695712322864437,0.050300812786321834,1.036031284483547,0.1247331884526296,0.8612593921604814,-0.45189648057547976,-0.898337364398072,-0.6308497962480135,0.2495090999989929,0.611785806237333,-0.6494156327534888,1.0626583005146162,-0.6765149979610443,-0.8629222849427012,-0.4276817021646282,0.6989004308480385,0.6181170042687887,1.0505932458214589,-1.5983442369800216,0.9999863331004377,-0.6102895780299539,0.09795246638112484,-0.4385288540045722,-1.2123774307299526,-0.10202832053379358,1.0446774055922547,-1.5020525330486525,-0.337479573581759,0.19549105352603027,-0.07001083383244362,-0.44993406654047785,0.19182058873532176,-0.6732686807599063,0.6998273146365749,0.43016092779073634,1.600242286482051,0.6205651472739886,-1.2413108957504477,0.4319110171963078,2.079307316368707,0.15878224002809227,-0.4607271915720504,-1.795639248025241,-0.6253697528709673,1.465503456008871,-0.6621669846039352,-0.41103293808023034,1.5749238411721267,-2.1864561795949813,-0.4977776664624909,1.3853988617617512,-0.5129876095526238,-0.897283087487321,2.0986612052958025,-0.05035355878762703,0.03859935212065949,-2.181021788479176,1.1405184610429981,-0.658601302599404,0.5437139638452326,0.5223135093950999,2.3705411280177904,0.28454474083707143,1.4193227372132629,0.6507308823181396,0.1352940000072053,0.6523221390470338,-0.1031777953536062,-0.40840207673124784,0.7014536039135242,1.4910125606499636,-0.5187542098528161,-0.623292885529943,-0.02245147999377042,-0.44467364964177175,1.1375268851232159,0.0007559084429775664],\"type\":\"histogram\"}],                        {\"barmode\":\"overlay\",\"legend\":{\"bgcolor\":\"#F5F6F9\",\"font\":{\"color\":\"#4D5663\"}},\"paper_bgcolor\":\"#F5F6F9\",\"plot_bgcolor\":\"#F5F6F9\",\"template\":{\"data\":{\"barpolar\":[{\"marker\":{\"line\":{\"color\":\"#E5ECF6\",\"width\":0.5},\"pattern\":{\"fillmode\":\"overlay\",\"size\":10,\"solidity\":0.2}},\"type\":\"barpolar\"}],\"bar\":[{\"error_x\":{\"color\":\"#2a3f5f\"},\"error_y\":{\"color\":\"#2a3f5f\"},\"marker\":{\"line\":{\"color\":\"#E5ECF6\",\"width\":0.5},\"pattern\":{\"fillmode\":\"overlay\",\"size\":10,\"solidity\":0.2}},\"type\":\"bar\"}],\"carpet\":[{\"aaxis\":{\"endlinecolor\":\"#2a3f5f\",\"gridcolor\":\"white\",\"linecolor\":\"white\",\"minorgridcolor\":\"white\",\"startlinecolor\":\"#2a3f5f\"},\"baxis\":{\"endlinecolor\":\"#2a3f5f\",\"gridcolor\":\"white\",\"linecolor\":\"white\",\"minorgridcolor\":\"white\",\"startlinecolor\":\"#2a3f5f\"},\"type\":\"carpet\"}],\"choropleth\":[{\"colorbar\":{\"outlinewidth\":0,\"ticks\":\"\"},\"type\":\"choropleth\"}],\"contourcarpet\":[{\"colorbar\":{\"outlinewidth\":0,\"ticks\":\"\"},\"type\":\"contourcarpet\"}],\"contour\":[{\"colorbar\":{\"outlinewidth\":0,\"ticks\":\"\"},\"colorscale\":[[0.0,\"#0d0887\"],[0.1111111111111111,\"#46039f\"],[0.2222222222222222,\"#7201a8\"],[0.3333333333333333,\"#9c179e\"],[0.4444444444444444,\"#bd3786\"],[0.5555555555555556,\"#d8576b\"],[0.6666666666666666,\"#ed7953\"],[0.7777777777777778,\"#fb9f3a\"],[0.8888888888888888,\"#fdca26\"],[1.0,\"#f0f921\"]],\"type\":\"contour\"}],\"heatmapgl\":[{\"colorbar\":{\"outlinewidth\":0,\"ticks\":\"\"},\"colorscale\":[[0.0,\"#0d0887\"],[0.1111111111111111,\"#46039f\"],[0.2222222222222222,\"#7201a8\"],[0.3333333333333333,\"#9c179e\"],[0.4444444444444444,\"#bd3786\"],[0.5555555555555556,\"#d8576b\"],[0.6666666666666666,\"#ed7953\"],[0.7777777777777778,\"#fb9f3a\"],[0.8888888888888888,\"#fdca26\"],[1.0,\"#f0f921\"]],\"type\":\"heatmapgl\"}],\"heatmap\":[{\"colorbar\":{\"outlinewidth\":0,\"ticks\":\"\"},\"colorscale\":[[0.0,\"#0d0887\"],[0.1111111111111111,\"#46039f\"],[0.2222222222222222,\"#7201a8\"],[0.3333333333333333,\"#9c179e\"],[0.4444444444444444,\"#bd3786\"],[0.5555555555555556,\"#d8576b\"],[0.6666666666666666,\"#ed7953\"],[0.7777777777777778,\"#fb9f3a\"],[0.8888888888888888,\"#fdca26\"],[1.0,\"#f0f921\"]],\"type\":\"heatmap\"}],\"histogram2dcontour\":[{\"colorbar\":{\"outlinewidth\":0,\"ticks\":\"\"},\"colorscale\":[[0.0,\"#0d0887\"],[0.1111111111111111,\"#46039f\"],[0.2222222222222222,\"#7201a8\"],[0.3333333333333333,\"#9c179e\"],[0.4444444444444444,\"#bd3786\"],[0.5555555555555556,\"#d8576b\"],[0.6666666666666666,\"#ed7953\"],[0.7777777777777778,\"#fb9f3a\"],[0.8888888888888888,\"#fdca26\"],[1.0,\"#f0f921\"]],\"type\":\"histogram2dcontour\"}],\"histogram2d\":[{\"colorbar\":{\"outlinewidth\":0,\"ticks\":\"\"},\"colorscale\":[[0.0,\"#0d0887\"],[0.1111111111111111,\"#46039f\"],[0.2222222222222222,\"#7201a8\"],[0.3333333333333333,\"#9c179e\"],[0.4444444444444444,\"#bd3786\"],[0.5555555555555556,\"#d8576b\"],[0.6666666666666666,\"#ed7953\"],[0.7777777777777778,\"#fb9f3a\"],[0.8888888888888888,\"#fdca26\"],[1.0,\"#f0f921\"]],\"type\":\"histogram2d\"}],\"histogram\":[{\"marker\":{\"pattern\":{\"fillmode\":\"overlay\",\"size\":10,\"solidity\":0.2}},\"type\":\"histogram\"}],\"mesh3d\":[{\"colorbar\":{\"outlinewidth\":0,\"ticks\":\"\"},\"type\":\"mesh3d\"}],\"parcoords\":[{\"line\":{\"colorbar\":{\"outlinewidth\":0,\"ticks\":\"\"}},\"type\":\"parcoords\"}],\"pie\":[{\"automargin\":true,\"type\":\"pie\"}],\"scatter3d\":[{\"line\":{\"colorbar\":{\"outlinewidth\":0,\"ticks\":\"\"}},\"marker\":{\"colorbar\":{\"outlinewidth\":0,\"ticks\":\"\"}},\"type\":\"scatter3d\"}],\"scattercarpet\":[{\"marker\":{\"colorbar\":{\"outlinewidth\":0,\"ticks\":\"\"}},\"type\":\"scattercarpet\"}],\"scattergeo\":[{\"marker\":{\"colorbar\":{\"outlinewidth\":0,\"ticks\":\"\"}},\"type\":\"scattergeo\"}],\"scattergl\":[{\"marker\":{\"colorbar\":{\"outlinewidth\":0,\"ticks\":\"\"}},\"type\":\"scattergl\"}],\"scattermapbox\":[{\"marker\":{\"colorbar\":{\"outlinewidth\":0,\"ticks\":\"\"}},\"type\":\"scattermapbox\"}],\"scatterpolargl\":[{\"marker\":{\"colorbar\":{\"outlinewidth\":0,\"ticks\":\"\"}},\"type\":\"scatterpolargl\"}],\"scatterpolar\":[{\"marker\":{\"colorbar\":{\"outlinewidth\":0,\"ticks\":\"\"}},\"type\":\"scatterpolar\"}],\"scatter\":[{\"marker\":{\"colorbar\":{\"outlinewidth\":0,\"ticks\":\"\"}},\"type\":\"scatter\"}],\"scatterternary\":[{\"marker\":{\"colorbar\":{\"outlinewidth\":0,\"ticks\":\"\"}},\"type\":\"scatterternary\"}],\"surface\":[{\"colorbar\":{\"outlinewidth\":0,\"ticks\":\"\"},\"colorscale\":[[0.0,\"#0d0887\"],[0.1111111111111111,\"#46039f\"],[0.2222222222222222,\"#7201a8\"],[0.3333333333333333,\"#9c179e\"],[0.4444444444444444,\"#bd3786\"],[0.5555555555555556,\"#d8576b\"],[0.6666666666666666,\"#ed7953\"],[0.7777777777777778,\"#fb9f3a\"],[0.8888888888888888,\"#fdca26\"],[1.0,\"#f0f921\"]],\"type\":\"surface\"}],\"table\":[{\"cells\":{\"fill\":{\"color\":\"#EBF0F8\"},\"line\":{\"color\":\"white\"}},\"header\":{\"fill\":{\"color\":\"#C8D4E3\"},\"line\":{\"color\":\"white\"}},\"type\":\"table\"}]},\"layout\":{\"annotationdefaults\":{\"arrowcolor\":\"#2a3f5f\",\"arrowhead\":0,\"arrowwidth\":1},\"autotypenumbers\":\"strict\",\"coloraxis\":{\"colorbar\":{\"outlinewidth\":0,\"ticks\":\"\"}},\"colorscale\":{\"diverging\":[[0,\"#8e0152\"],[0.1,\"#c51b7d\"],[0.2,\"#de77ae\"],[0.3,\"#f1b6da\"],[0.4,\"#fde0ef\"],[0.5,\"#f7f7f7\"],[0.6,\"#e6f5d0\"],[0.7,\"#b8e186\"],[0.8,\"#7fbc41\"],[0.9,\"#4d9221\"],[1,\"#276419\"]],\"sequential\":[[0.0,\"#0d0887\"],[0.1111111111111111,\"#46039f\"],[0.2222222222222222,\"#7201a8\"],[0.3333333333333333,\"#9c179e\"],[0.4444444444444444,\"#bd3786\"],[0.5555555555555556,\"#d8576b\"],[0.6666666666666666,\"#ed7953\"],[0.7777777777777778,\"#fb9f3a\"],[0.8888888888888888,\"#fdca26\"],[1.0,\"#f0f921\"]],\"sequentialminus\":[[0.0,\"#0d0887\"],[0.1111111111111111,\"#46039f\"],[0.2222222222222222,\"#7201a8\"],[0.3333333333333333,\"#9c179e\"],[0.4444444444444444,\"#bd3786\"],[0.5555555555555556,\"#d8576b\"],[0.6666666666666666,\"#ed7953\"],[0.7777777777777778,\"#fb9f3a\"],[0.8888888888888888,\"#fdca26\"],[1.0,\"#f0f921\"]]},\"colorway\":[\"#636efa\",\"#EF553B\",\"#00cc96\",\"#ab63fa\",\"#FFA15A\",\"#19d3f3\",\"#FF6692\",\"#B6E880\",\"#FF97FF\",\"#FECB52\"],\"font\":{\"color\":\"#2a3f5f\"},\"geo\":{\"bgcolor\":\"white\",\"lakecolor\":\"white\",\"landcolor\":\"#E5ECF6\",\"showlakes\":true,\"showland\":true,\"subunitcolor\":\"white\"},\"hoverlabel\":{\"align\":\"left\"},\"hovermode\":\"closest\",\"mapbox\":{\"style\":\"light\"},\"paper_bgcolor\":\"white\",\"plot_bgcolor\":\"#E5ECF6\",\"polar\":{\"angularaxis\":{\"gridcolor\":\"white\",\"linecolor\":\"white\",\"ticks\":\"\"},\"bgcolor\":\"#E5ECF6\",\"radialaxis\":{\"gridcolor\":\"white\",\"linecolor\":\"white\",\"ticks\":\"\"}},\"scene\":{\"xaxis\":{\"backgroundcolor\":\"#E5ECF6\",\"gridcolor\":\"white\",\"gridwidth\":2,\"linecolor\":\"white\",\"showbackground\":true,\"ticks\":\"\",\"zerolinecolor\":\"white\"},\"yaxis\":{\"backgroundcolor\":\"#E5ECF6\",\"gridcolor\":\"white\",\"gridwidth\":2,\"linecolor\":\"white\",\"showbackground\":true,\"ticks\":\"\",\"zerolinecolor\":\"white\"},\"zaxis\":{\"backgroundcolor\":\"#E5ECF6\",\"gridcolor\":\"white\",\"gridwidth\":2,\"linecolor\":\"white\",\"showbackground\":true,\"ticks\":\"\",\"zerolinecolor\":\"white\"}},\"shapedefaults\":{\"line\":{\"color\":\"#2a3f5f\"}},\"ternary\":{\"aaxis\":{\"gridcolor\":\"white\",\"linecolor\":\"white\",\"ticks\":\"\"},\"baxis\":{\"gridcolor\":\"white\",\"linecolor\":\"white\",\"ticks\":\"\"},\"bgcolor\":\"#E5ECF6\",\"caxis\":{\"gridcolor\":\"white\",\"linecolor\":\"white\",\"ticks\":\"\"}},\"title\":{\"x\":0.05},\"xaxis\":{\"automargin\":true,\"gridcolor\":\"white\",\"linecolor\":\"white\",\"ticks\":\"\",\"title\":{\"standoff\":15},\"zerolinecolor\":\"white\",\"zerolinewidth\":2},\"yaxis\":{\"automargin\":true,\"gridcolor\":\"white\",\"linecolor\":\"white\",\"ticks\":\"\",\"title\":{\"standoff\":15},\"zerolinecolor\":\"white\",\"zerolinewidth\":2}}},\"title\":{\"font\":{\"color\":\"#4D5663\"}},\"xaxis\":{\"gridcolor\":\"#E1E5ED\",\"showgrid\":true,\"tickfont\":{\"color\":\"#4D5663\"},\"title\":{\"font\":{\"color\":\"#4D5663\"},\"text\":\"\"},\"zerolinecolor\":\"#E1E5ED\"},\"yaxis\":{\"gridcolor\":\"#E1E5ED\",\"showgrid\":true,\"tickfont\":{\"color\":\"#4D5663\"},\"title\":{\"font\":{\"color\":\"#4D5663\"},\"text\":\"\"},\"zerolinecolor\":\"#E1E5ED\"}},                        {\"showLink\": true, \"linkText\": \"Export to plot.ly\", \"plotlyServerURL\": \"https://plot.ly\", \"responsive\": true}                    ).then(function(){\n",
       "                            \n",
       "var gd = document.getElementById('18d187c8-4db7-46ca-8400-8588f5c8504d');\n",
       "var x = new MutationObserver(function (mutations, observer) {{\n",
       "        var display = window.getComputedStyle(gd).display;\n",
       "        if (!display || display === 'none') {{\n",
       "            console.log([gd, 'removed!']);\n",
       "            Plotly.purge(gd);\n",
       "            observer.disconnect();\n",
       "        }}\n",
       "}});\n",
       "\n",
       "// Listen for the removal of the full notebook cells\n",
       "var notebookContainer = gd.closest('#notebook-container');\n",
       "if (notebookContainer) {{\n",
       "    x.observe(notebookContainer, {childList: true});\n",
       "}}\n",
       "\n",
       "// Listen for the clearing of the current output cell\n",
       "var outputEl = gd.closest('.output');\n",
       "if (outputEl) {{\n",
       "    x.observe(outputEl, {childList: true});\n",
       "}}\n",
       "\n",
       "                        })                };                });            </script>        </div>"
      ]
     },
     "metadata": {},
     "output_type": "display_data"
    }
   ],
   "source": [
    "df['A'].iplot(kind='hist',bins=50)"
   ]
  },
  {
   "cell_type": "code",
   "execution_count": 60,
   "metadata": {
    "collapsed": false
   },
   "outputs": [
    {
     "data": {
      "text/html": [
       "<div id=\"e508143e-bcba-4c40-9488-bfdc4040e078\" style=\"height: 525px; width: 100%;\" class=\"plotly-graph-div\"></div><script type=\"text/javascript\">require([\"plotly\"], function(Plotly) { window.PLOTLYENV=window.PLOTLYENV || {};window.PLOTLYENV.BASE_URL=\"https://plot.ly\";Plotly.newPlot(\"e508143e-bcba-4c40-9488-bfdc4040e078\", [{\"mode\": \"markers\", \"text\": \"\", \"y\": [0.6887194376286498, 0.1040535242504629, 0.38792642015276635, 1.3934230260395444, -0.5375976688704683, -1.1493608786796612, 0.01342890849383506, -0.47231861415738574, 0.24793169472844812, -0.6232083144122951, -1.2121596694710122, -2.4542371001007464, 0.29855785553142483, 1.2997620162676498, 0.9168047366909585, -0.41040614900130634, 1.3147531456519106, -0.12455263569370086, 0.9366143523054554, 0.23573463729990726, -0.8244746170540388, -0.32685668230128845, 1.501781503113865, 0.9830012153240587, 0.6020112305361386, 0.3688304138086671, 1.0090827131320237, -0.5811720111587422, 0.0512884505619472, -1.6917643070157176, -0.25322144257612356, -0.2937357494665306, 0.7368726362448421, 0.5763424997076779, 0.16472110066593693, -0.374254076023172, 1.1280304809680426, 0.6455371548668151, -0.18000225503004413, -0.9128911232313937, -0.5670695205365133, 0.16138491502455474, 1.2118733837294762, 0.4444506280024997, 0.6834767601409083, 1.8020727241195935, 2.4230878273709062, 0.27701889696287213, 1.4067122280705426, -0.33728919328412016, 0.5154870435338148, 0.7751019637809062, 1.400130435077449, 0.8276591566099151, 1.1268119555303864, 0.7016118169589718, 0.476169530704683, -0.5261125753709399, -1.2129692872143456, 0.6126338497954396, 1.5825905557818922, -0.8173630045970658, 0.1075602248072928, 1.2716988894407462, -0.15615948990467535, -0.2968566839654392, 1.7204934641303604, -0.869876624137026, 0.28935077735906545, -1.2052876742800458, -0.263979336251353, -0.02815365780209253, -0.04062347728476395, 0.943760296027789, -1.7797735906553165, 0.4485755919087686, 0.14778332986993048, 0.5305019463041807, 1.6359913516932165, -0.3437427119285297, 1.9109783094330681, 0.6818924480193401, -0.42214824562337705, 0.8935317581184008, 1.2587495288352297, -0.5992845246668753, 2.7851237345776405, -1.5158096238899554, 0.04177421570103183, 0.48980398157362903, 1.063643861677667, -0.8486329162129157, -1.86936339853131, 0.24761777046722996, 1.290606988097702, 0.17046338292604407, 0.14181179559597848, 0.6505415244850333, -2.5850581533594545, -0.30813091794721653], \"x\": [1.8787246669561561, 0.028733616663923985, -0.1587931161277573, -1.2219723462024636, 1.2531523973363488, 0.8312132082951045, 1.1740170898586173, -0.24393002059589958, -0.296966543277261, 0.7621695759158762, 0.04210347865555278, -0.7791970481917073, 0.3943032396655093, -1.0146190736152443, -0.4841710096782867, 0.5522466668361006, -2.77187556758784, -0.5181226698708166, -0.49722040792422156, -1.6534757596659548, -0.06027439377033132, 1.4769243769038323, 1.1796346669498379, -0.7816898015019265, 0.8630132212967984, 0.6590246731638996, -1.1013906677685679, -0.9446804895542242, -1.788022470413331, 0.8775002821729455, 0.3546715768521251, -0.16532125735222183, 1.8914747239632839, -1.1251772915449791, 0.8888981026894395, -0.6066117727706714, 0.8314777742724779, 0.3830457069359529, -0.937459527593053, -0.844561047334305, 1.1280232245052606, -1.640427972598561, 0.8971269652786067, 0.4848047458342485, 0.19373507090654035, -0.7387091317560727, -0.3566733282792827, -0.43158335134818315, -0.4899640124314907, 0.5488715658495908, 0.2821768987731658, -0.8832439438038343, 1.271863067044618, 0.10680856505919414, 0.8269478103679717, -0.03266751467505833, -0.34021520002722894, -0.6769186069469743, 0.7126188256918854, 1.8871150025438166, -0.06742662656190869, -1.4789736197389265, 0.346978601690099, -0.3757389938313092, 0.715285859520045, 1.5994858611908638, -0.3692558358591885, 0.13827360227735647, -0.40690530542342296, 0.636973800943974, 0.14658752987818605, -0.3949906255692418, 1.5076392623927681, -0.15486042602397807, 0.22159940179664614, -1.0878244818277978, -0.03354417910293162, 1.2258839316932069, -0.048951028800266715, -1.1089870994157809, 0.021452684803338333, 1.2548854256528554, -1.0913797662237141, -0.539059741192553, 0.6901269187662552, -1.4810451728120602, -0.8468654201203714, 0.3763927872506507, 0.8120568488462931, 0.0031767062628090745, 0.697742291538818, -0.7429703118062226, -0.842231117346612, -0.0666718362166121, 1.8829720647783421, 1.320112956074407, 0.42394324402947475, 0.466299928509142, 0.9415282138953815, -0.7707938096473991], \"type\": \"scatter\", \"marker\": {\"size\": [90, 70, 57, 64, 75, 45, 79, 60, 101, 50, 41, 59, 68, 84, 87, 12, 62, 71, 75, 47, 64, 96, 63, 84, 80, 61, 54, 67, 83, 52, 81, 66, 72, 68, 86, 86, 74, 46, 88, 88, 74, 51, 66, 62, 79, 60, 27, 109, 80, 90, 64, 72, 50, 112, 67, 77, 84, 56, 54, 74, 94, 88, 64, 61, 44, 87, 109, 74, 86, 77, 75, 88, 77, 90, 96, 66, 52, 75, 77, 52, 37, 69, 49, 60, 77, 71, 55, 66, 78, 32, 40, 85, 69, 80, 61, 67, 67, 67, 56, 64], \"line\": {\"width\": 1.3}, \"color\": [\"rgb(226, 74, 51)\", \"rgb(226, 74, 51)\", \"rgb(226, 74, 51)\", \"rgb(226, 74, 51)\", \"rgb(226, 74, 51)\", \"rgb(226, 74, 51)\", \"rgb(226, 74, 51)\", \"rgb(226, 74, 51)\", \"rgb(226, 74, 51)\", \"rgb(226, 74, 51)\", \"rgb(226, 74, 51)\", \"rgb(226, 74, 51)\", \"rgb(226, 74, 51)\", \"rgb(226, 74, 51)\", \"rgb(226, 74, 51)\", \"rgb(226, 74, 51)\", \"rgb(226, 74, 51)\", \"rgb(226, 74, 51)\", \"rgb(226, 74, 51)\", \"rgb(226, 74, 51)\", \"rgb(226, 74, 51)\", \"rgb(226, 74, 51)\", \"rgb(226, 74, 51)\", \"rgb(226, 74, 51)\", \"rgb(226, 74, 51)\", \"rgb(226, 74, 51)\", \"rgb(226, 74, 51)\", \"rgb(226, 74, 51)\", \"rgb(226, 74, 51)\", \"rgb(226, 74, 51)\", \"rgb(226, 74, 51)\", \"rgb(226, 74, 51)\", \"rgb(226, 74, 51)\", \"rgb(226, 74, 51)\", \"rgb(226, 74, 51)\", \"rgb(226, 74, 51)\", \"rgb(226, 74, 51)\", \"rgb(226, 74, 51)\", \"rgb(226, 74, 51)\", \"rgb(226, 74, 51)\", \"rgb(226, 74, 51)\", \"rgb(226, 74, 51)\", \"rgb(226, 74, 51)\", \"rgb(226, 74, 51)\", \"rgb(226, 74, 51)\", \"rgb(226, 74, 51)\", \"rgb(226, 74, 51)\", \"rgb(226, 74, 51)\", \"rgb(226, 74, 51)\", \"rgb(226, 74, 51)\", \"rgb(226, 74, 51)\", \"rgb(226, 74, 51)\", \"rgb(226, 74, 51)\", \"rgb(226, 74, 51)\", \"rgb(226, 74, 51)\", \"rgb(226, 74, 51)\", \"rgb(226, 74, 51)\", \"rgb(226, 74, 51)\", \"rgb(226, 74, 51)\", \"rgb(226, 74, 51)\", \"rgb(226, 74, 51)\", \"rgb(226, 74, 51)\", \"rgb(226, 74, 51)\", \"rgb(226, 74, 51)\", \"rgb(226, 74, 51)\", \"rgb(226, 74, 51)\", \"rgb(226, 74, 51)\", \"rgb(226, 74, 51)\", \"rgb(226, 74, 51)\", \"rgb(226, 74, 51)\", \"rgb(226, 74, 51)\", \"rgb(226, 74, 51)\", \"rgb(226, 74, 51)\", \"rgb(226, 74, 51)\", \"rgb(226, 74, 51)\", \"rgb(226, 74, 51)\", \"rgb(226, 74, 51)\", \"rgb(226, 74, 51)\", \"rgb(226, 74, 51)\", \"rgb(226, 74, 51)\", \"rgb(226, 74, 51)\", \"rgb(226, 74, 51)\", \"rgb(226, 74, 51)\", \"rgb(226, 74, 51)\", \"rgb(226, 74, 51)\", \"rgb(226, 74, 51)\", \"rgb(226, 74, 51)\", \"rgb(226, 74, 51)\", \"rgb(226, 74, 51)\", \"rgb(226, 74, 51)\", \"rgb(226, 74, 51)\", \"rgb(226, 74, 51)\", \"rgb(226, 74, 51)\", \"rgb(226, 74, 51)\", \"rgb(226, 74, 51)\", \"rgb(226, 74, 51)\", \"rgb(226, 74, 51)\", \"rgb(226, 74, 51)\", \"rgb(226, 74, 51)\", \"rgb(226, 74, 51)\"], \"symbol\": \"dot\"}}], {\"legend\": {\"font\": {\"color\": \"#666666\"}, \"bgcolor\": \"#FFFFFF\"}, \"titlefont\": {\"color\": \"#151516\"}, \"xaxis1\": {\"titlefont\": {\"color\": \"#666666\"}, \"zerolinecolor\": \"#F6F6F6\", \"title\": \"\", \"tickfont\": {\"color\": \"#666666\"}, \"showgrid\": true, \"gridcolor\": \"#F6F6F6\"}, \"paper_bgcolor\": \"#FFFFFF\", \"plot_bgcolor\": \"#E5E5E5\", \"yaxis1\": {\"titlefont\": {\"color\": \"#666666\"}, \"zerolinecolor\": \"#F6F6F6\", \"title\": \"\", \"tickfont\": {\"color\": \"#666666\"}, \"showgrid\": true, \"gridcolor\": \"#F6F6F6\"}}, {\"showLink\": true, \"linkText\": \"Export to plot.ly\"})});</script>"
      ],
      "text/plain": [
       "<IPython.core.display.HTML object>"
      ]
     },
     "metadata": {},
     "output_type": "display_data"
    }
   ],
   "source": [
    "df.iplot(kind='bubble',x='A',y='B',size='C')"
   ]
  },
  {
   "cell_type": "markdown",
   "metadata": {},
   "source": [
    "## scatter_matrix()\n",
    "\n",
    "Similar to sns.pairplot()"
   ]
  },
  {
   "cell_type": "code",
   "execution_count": 21,
   "metadata": {
    "collapsed": false
   },
   "outputs": [
    {
     "data": {
      "application/vnd.plotly.v1+json": {
       "config": {
        "linkText": "Export to plot.ly",
        "plotlyServerURL": "https://plot.ly",
        "showLink": true
       },
       "data": [
        {
         "histfunc": "count",
         "histnorm": "",
         "marker": {
          "color": "rgba(255, 153, 51, 1.0)",
          "line": {
           "color": "#4D5663",
           "width": 1.3
          }
         },
         "name": "A",
         "nbinsx": 10,
         "opacity": 0.8,
         "orientation": "v",
         "type": "histogram",
         "x": [
          0.12063307993793361,
          -0.9753533300826948,
          -2.6763579724952478,
          0.4925482616402867,
          -1.3155762174963437,
          -0.9217912477793413,
          -0.4281288511836951,
          -0.0741095333382842,
          -0.3692088265632047,
          0.35277535814250177,
          -1.2316540713957096,
          -0.9813720181548536,
          -0.47010006603407345,
          -0.9756382227178094,
          -0.8715649349132115,
          -0.8173420824910456,
          -0.29952269396360204,
          1.6181557308102659,
          0.23461995230221297,
          -0.7300727916207131,
          -0.3244203020415168,
          1.3694792193594787,
          -1.1830985969539412,
          -0.6695712322864437,
          0.050300812786321834,
          1.036031284483547,
          0.1247331884526296,
          0.8612593921604814,
          -0.45189648057547976,
          -0.898337364398072,
          -0.6308497962480135,
          0.2495090999989929,
          0.611785806237333,
          -0.6494156327534888,
          1.0626583005146162,
          -0.6765149979610443,
          -0.8629222849427012,
          -0.4276817021646282,
          0.6989004308480385,
          0.6181170042687887,
          1.0505932458214589,
          -1.5983442369800216,
          0.9999863331004377,
          -0.6102895780299539,
          0.09795246638112484,
          -0.4385288540045722,
          -1.2123774307299526,
          -0.10202832053379358,
          1.0446774055922547,
          -1.5020525330486525,
          -0.337479573581759,
          0.19549105352603027,
          -0.07001083383244362,
          -0.44993406654047785,
          0.19182058873532176,
          -0.6732686807599063,
          0.6998273146365749,
          0.43016092779073634,
          1.600242286482051,
          0.6205651472739886,
          -1.2413108957504477,
          0.4319110171963078,
          2.079307316368707,
          0.15878224002809227,
          -0.4607271915720504,
          -1.795639248025241,
          -0.6253697528709673,
          1.465503456008871,
          -0.6621669846039352,
          -0.41103293808023034,
          1.5749238411721267,
          -2.1864561795949813,
          -0.4977776664624909,
          1.3853988617617512,
          -0.5129876095526238,
          -0.897283087487321,
          2.0986612052958025,
          -0.05035355878762703,
          0.03859935212065949,
          -2.181021788479176,
          1.1405184610429981,
          -0.658601302599404,
          0.5437139638452326,
          0.5223135093950999,
          2.3705411280177904,
          0.28454474083707143,
          1.4193227372132629,
          0.6507308823181396,
          0.1352940000072053,
          0.6523221390470338,
          -0.1031777953536062,
          -0.40840207673124784,
          0.7014536039135242,
          1.4910125606499636,
          -0.5187542098528161,
          -0.623292885529943,
          -0.02245147999377042,
          -0.44467364964177175,
          1.1375268851232159,
          0.0007559084429775664
         ],
         "xaxis": "x",
         "yaxis": "y"
        },
        {
         "line": {
          "color": "rgba(128, 128, 128, 1.0)",
          "dash": "solid",
          "shape": "linear",
          "width": 1.3
         },
         "marker": {
          "size": 2,
          "symbol": "circle"
         },
         "mode": "markers",
         "name": "A",
         "text": "",
         "type": "scatter",
         "x": [
          -0.522079700885799,
          -0.31144048082534775,
          -0.7241472605505641,
          -1.2300416300420594,
          -1.8259514993191461,
          0.08643067332288887,
          -0.6283151419454001,
          -1.2443686093861843,
          -1.505359284046377,
          -0.2909906645035104,
          2.4105090318814004,
          0.006445369976370312,
          -2.1350903995775115,
          -0.35677970863274977,
          2.665735533857099,
          0.21075148803133292,
          -1.477096928969249,
          -1.782247021906371,
          -0.1045020049367965,
          -0.8791025450878165,
          -0.8209774277057524,
          0.8175418726709417,
          -0.01252462004288382,
          0.9471130845989326,
          -0.7811646023115473,
          -0.4508891064134381,
          0.402968701853287,
          0.26988323235132583,
          0.29760155486874007,
          -0.5855154986981775,
          1.5665290787977386,
          -0.10604187433546194,
          1.7542538227020912,
          -0.4194429282036894,
          -0.6986056790450845,
          1.1653041671491604,
          0.7805924904980847,
          0.7078288402890757,
          0.7628913203145052,
          1.0038172992288839,
          -0.5993951364247309,
          -0.835625897075209,
          1.0250317477702606,
          -0.16680206921106913,
          0.5193460355361813,
          -0.3760153715147701,
          -0.09048636808925331,
          0.26840034393654744,
          -0.8752140619894638,
          1.2434346657594744,
          -1.040862850259558,
          -0.08318030099812591,
          1.1262077248215225,
          0.19091323327763102,
          -1.5581479965062561,
          1.5971093964125844,
          -1.4402128536648402,
          -1.3956727151928396,
          1.1499635991459776,
          -0.09614943989750462,
          0.7487131649604577,
          -1.859833599541245,
          -0.9682080674311809,
          -0.8083895310134205,
          0.07201517625696108,
          0.7003724874308773,
          0.3603434078366872,
          0.2927914903976886,
          -0.7190722328005713,
          -1.7126127758544523,
          -1.0089623624439557,
          -0.6332747090638846,
          -0.8859839233149006,
          0.3559550339077135,
          -3.060786815176108,
          0.0255005372731153,
          -1.16745831455643,
          -0.8771907956407784,
          1.2523862232883565,
          0.889884163871847,
          0.26199921668687814,
          -2.320689529863178,
          -1.0508154456053262,
          -0.36819100118589093,
          -2.52189205985639,
          -0.4081792384634467,
          -0.5715287779757289,
          -1.154308594072173,
          -0.1014768864365199,
          0.9034333621414394,
          0.18704522998111542,
          -0.770687484163319,
          1.5800506524826317,
          -2.0021988373340114,
          0.04406612466476638,
          0.3821163996133508,
          0.5646937296566823,
          -0.22207501230812823,
          -0.21342804668328857,
          -0.23999683873682087
         ],
         "xaxis": "x2",
         "y": [
          0.12063307993793361,
          -0.9753533300826948,
          -2.6763579724952478,
          0.4925482616402867,
          -1.3155762174963437,
          -0.9217912477793413,
          -0.4281288511836951,
          -0.0741095333382842,
          -0.3692088265632047,
          0.35277535814250177,
          -1.2316540713957096,
          -0.9813720181548536,
          -0.47010006603407345,
          -0.9756382227178094,
          -0.8715649349132115,
          -0.8173420824910456,
          -0.29952269396360204,
          1.6181557308102659,
          0.23461995230221297,
          -0.7300727916207131,
          -0.3244203020415168,
          1.3694792193594787,
          -1.1830985969539412,
          -0.6695712322864437,
          0.050300812786321834,
          1.036031284483547,
          0.1247331884526296,
          0.8612593921604814,
          -0.45189648057547976,
          -0.898337364398072,
          -0.6308497962480135,
          0.2495090999989929,
          0.611785806237333,
          -0.6494156327534888,
          1.0626583005146162,
          -0.6765149979610443,
          -0.8629222849427012,
          -0.4276817021646282,
          0.6989004308480385,
          0.6181170042687887,
          1.0505932458214589,
          -1.5983442369800216,
          0.9999863331004377,
          -0.6102895780299539,
          0.09795246638112484,
          -0.4385288540045722,
          -1.2123774307299526,
          -0.10202832053379358,
          1.0446774055922547,
          -1.5020525330486525,
          -0.337479573581759,
          0.19549105352603027,
          -0.07001083383244362,
          -0.44993406654047785,
          0.19182058873532176,
          -0.6732686807599063,
          0.6998273146365749,
          0.43016092779073634,
          1.600242286482051,
          0.6205651472739886,
          -1.2413108957504477,
          0.4319110171963078,
          2.079307316368707,
          0.15878224002809227,
          -0.4607271915720504,
          -1.795639248025241,
          -0.6253697528709673,
          1.465503456008871,
          -0.6621669846039352,
          -0.41103293808023034,
          1.5749238411721267,
          -2.1864561795949813,
          -0.4977776664624909,
          1.3853988617617512,
          -0.5129876095526238,
          -0.897283087487321,
          2.0986612052958025,
          -0.05035355878762703,
          0.03859935212065949,
          -2.181021788479176,
          1.1405184610429981,
          -0.658601302599404,
          0.5437139638452326,
          0.5223135093950999,
          2.3705411280177904,
          0.28454474083707143,
          1.4193227372132629,
          0.6507308823181396,
          0.1352940000072053,
          0.6523221390470338,
          -0.1031777953536062,
          -0.40840207673124784,
          0.7014536039135242,
          1.4910125606499636,
          -0.5187542098528161,
          -0.623292885529943,
          -0.02245147999377042,
          -0.44467364964177175,
          1.1375268851232159,
          0.0007559084429775664
         ],
         "yaxis": "y2"
        },
        {
         "line": {
          "color": "rgba(128, 128, 128, 1.0)",
          "dash": "solid",
          "shape": "linear",
          "width": 1.3
         },
         "marker": {
          "size": 2,
          "symbol": "circle"
         },
         "mode": "markers",
         "name": "A",
         "text": "",
         "type": "scatter",
         "x": [
          -0.08852422168968099,
          1.072484492537743,
          -0.28306527036306206,
          1.1143792172744111,
          -0.15324228434410764,
          -0.6884612580246313,
          -0.17421320917193495,
          -0.206459969894162,
          -0.1551998524418452,
          -1.594549359201786,
          0.12962482481356008,
          1.4125497278289871,
          2.0280801805745674,
          -0.4867125065674324,
          0.8687333918268887,
          1.0738998682842913,
          0.014796025537450566,
          -0.260435340815994,
          0.9164520451900645,
          -0.1807166453737971,
          -0.21603513631778892,
          -0.005133521724726195,
          -0.26807554679017515,
          -1.6226518840890563,
          1.23843653101688,
          -1.7358737070798764,
          -0.9650342459233452,
          1.07954874339853,
          -1.1740575297045988,
          1.240629856557279,
          -1.5227213081489694,
          -1.2981210653778195,
          0.38811634858265204,
          -1.5572179151187917,
          -0.4808710510184642,
          1.4254411136895513,
          -0.20626030476631396,
          -0.29572646205138625,
          -0.5287062751802881,
          1.668518809610592,
          -0.42847759957627374,
          -0.4436926481063419,
          1.1876194866796395,
          0.7927461345390285,
          2.42697799320039,
          1.8174587405742009,
          -0.8487636678579801,
          -0.21676116335648146,
          -0.8102531223843233,
          -0.6964877204988207,
          0.9714541173134353,
          -2.1313853402612164,
          -0.12886133592566965,
          1.1812208450998414,
          0.9608577388996173,
          -0.3746944397459756,
          0.33832625566752994,
          -0.9143658978339623,
          0.2391931007286504,
          -0.08818106379294745,
          2.443628091937669,
          -0.432638888593655,
          1.7518255385227397,
          -1.324697644112153,
          -2.37499689910705,
          -0.8241478699748068,
          -2.1046384315654043,
          -1.7714014936538525,
          -0.6628237039477233,
          0.545682701302367,
          -0.4937891517904503,
          -0.5876593317921288,
          1.147240939829258,
          -0.9065394655681176,
          -0.05186145685783981,
          0.013860428477771624,
          0.3036257283642649,
          0.33972234371061893,
          -0.002180358941292891,
          1.527465343299987,
          1.4653414245067913,
          -0.1354298427521185,
          -0.8627680102831661,
          0.4601472626886944,
          0.6751503853002964,
          0.16243678416398835,
          1.3300400022112162,
          0.06016429893458129,
          -1.502290213322178,
          -0.39660899097354996,
          0.6096994741412444,
          -0.6706998825275535,
          -1.2764029435901119,
          0.7343156439531086,
          -0.09146463762034475,
          -1.48059886806984,
          -0.7698558339018088,
          1.156836520036784,
          -0.4500676557898651,
          -0.2259957121405176
         ],
         "xaxis": "x3",
         "y": [
          0.12063307993793361,
          -0.9753533300826948,
          -2.6763579724952478,
          0.4925482616402867,
          -1.3155762174963437,
          -0.9217912477793413,
          -0.4281288511836951,
          -0.0741095333382842,
          -0.3692088265632047,
          0.35277535814250177,
          -1.2316540713957096,
          -0.9813720181548536,
          -0.47010006603407345,
          -0.9756382227178094,
          -0.8715649349132115,
          -0.8173420824910456,
          -0.29952269396360204,
          1.6181557308102659,
          0.23461995230221297,
          -0.7300727916207131,
          -0.3244203020415168,
          1.3694792193594787,
          -1.1830985969539412,
          -0.6695712322864437,
          0.050300812786321834,
          1.036031284483547,
          0.1247331884526296,
          0.8612593921604814,
          -0.45189648057547976,
          -0.898337364398072,
          -0.6308497962480135,
          0.2495090999989929,
          0.611785806237333,
          -0.6494156327534888,
          1.0626583005146162,
          -0.6765149979610443,
          -0.8629222849427012,
          -0.4276817021646282,
          0.6989004308480385,
          0.6181170042687887,
          1.0505932458214589,
          -1.5983442369800216,
          0.9999863331004377,
          -0.6102895780299539,
          0.09795246638112484,
          -0.4385288540045722,
          -1.2123774307299526,
          -0.10202832053379358,
          1.0446774055922547,
          -1.5020525330486525,
          -0.337479573581759,
          0.19549105352603027,
          -0.07001083383244362,
          -0.44993406654047785,
          0.19182058873532176,
          -0.6732686807599063,
          0.6998273146365749,
          0.43016092779073634,
          1.600242286482051,
          0.6205651472739886,
          -1.2413108957504477,
          0.4319110171963078,
          2.079307316368707,
          0.15878224002809227,
          -0.4607271915720504,
          -1.795639248025241,
          -0.6253697528709673,
          1.465503456008871,
          -0.6621669846039352,
          -0.41103293808023034,
          1.5749238411721267,
          -2.1864561795949813,
          -0.4977776664624909,
          1.3853988617617512,
          -0.5129876095526238,
          -0.897283087487321,
          2.0986612052958025,
          -0.05035355878762703,
          0.03859935212065949,
          -2.181021788479176,
          1.1405184610429981,
          -0.658601302599404,
          0.5437139638452326,
          0.5223135093950999,
          2.3705411280177904,
          0.28454474083707143,
          1.4193227372132629,
          0.6507308823181396,
          0.1352940000072053,
          0.6523221390470338,
          -0.1031777953536062,
          -0.40840207673124784,
          0.7014536039135242,
          1.4910125606499636,
          -0.5187542098528161,
          -0.623292885529943,
          -0.02245147999377042,
          -0.44467364964177175,
          1.1375268851232159,
          0.0007559084429775664
         ],
         "yaxis": "y3"
        },
        {
         "line": {
          "color": "rgba(128, 128, 128, 1.0)",
          "dash": "solid",
          "shape": "linear",
          "width": 1.3
         },
         "marker": {
          "size": 2,
          "symbol": "circle"
         },
         "mode": "markers",
         "name": "A",
         "text": "",
         "type": "scatter",
         "x": [
          -2.882928743561441,
          0.34844846725286066,
          1.2680257646880417,
          2.6158951835942448,
          -0.08666633264915499,
          0.6855126890217901,
          0.9673967695631298,
          -0.6661245750975666,
          -1.5926703284052073,
          -0.8379040920672681,
          -0.37570499245518674,
          -0.8371811965354067,
          -0.5098065928461315,
          0.1372469396536534,
          -0.6471083702863741,
          0.8046279866565285,
          -0.24130185170022783,
          -0.32632814181417097,
          -0.15354271935767372,
          -1.4439112915696954,
          0.6246962871267743,
          0.12432204950512159,
          1.6752929976667723,
          -0.2844432337393085,
          -1.343752758520758,
          0.1301416109711241,
          -0.6331050257489115,
          0.9518781871258761,
          0.7249514840301362,
          0.9101900639114405,
          1.2780574533758824,
          1.802348479945691,
          -0.31614820190356674,
          0.36773415100197077,
          -0.3908212366744393,
          -1.2935782038191448,
          0.05885575458926745,
          0.6950254647416754,
          0.3389537521370748,
          0.9123551822614718,
          0.6892369236633751,
          -0.49268785751272814,
          -1.3087763952309324,
          0.08758532549130894,
          0.4963918755186365,
          0.5872903488418483,
          0.13358063913681995,
          -0.6795571557063222,
          0.33591033706240725,
          -0.8744115193624418,
          0.1929363874465534,
          -0.8895244302940438,
          0.11690218778925603,
          -0.9637877846107626,
          0.2667924221703283,
          1.0541280312229273,
          0.5383199828563591,
          -0.5637487029043333,
          0.12495848178419726,
          -2.436259573590457,
          0.24140795366764298,
          -0.3360656488349088,
          -1.1201761256188392,
          0.2605197525489586,
          1.345908878127147,
          0.7445965881250635,
          -1.33426054511959,
          1.1476625537676224,
          0.01088312706030191,
          0.04395772829126626,
          -1.7562065311579718,
          1.4191323089484646,
          0.8010647667932251,
          0.6521378374268157,
          0.8045698013063193,
          -0.46743041772942134,
          -2.264670130265404,
          0.31279554598588744,
          0.4663204805144947,
          -1.1473863662551063,
          -0.447218095571166,
          -0.5262649784955559,
          0.22835004708314383,
          1.3515406939461974,
          -1.2568821953431548,
          -0.2791161614202711,
          -0.3013722862007754,
          -1.2591808777692868,
          -0.9608444919160927,
          0.11161661644196776,
          -0.24030404938264227,
          0.1291426942326392,
          0.14407473798474776,
          0.35458665833707625,
          -0.17211213011128082,
          0.37039146193315603,
          2.003557075920957,
          0.51786487390019,
          1.8897531118991615,
          0.2924227340416826
         ],
         "xaxis": "x4",
         "y": [
          0.12063307993793361,
          -0.9753533300826948,
          -2.6763579724952478,
          0.4925482616402867,
          -1.3155762174963437,
          -0.9217912477793413,
          -0.4281288511836951,
          -0.0741095333382842,
          -0.3692088265632047,
          0.35277535814250177,
          -1.2316540713957096,
          -0.9813720181548536,
          -0.47010006603407345,
          -0.9756382227178094,
          -0.8715649349132115,
          -0.8173420824910456,
          -0.29952269396360204,
          1.6181557308102659,
          0.23461995230221297,
          -0.7300727916207131,
          -0.3244203020415168,
          1.3694792193594787,
          -1.1830985969539412,
          -0.6695712322864437,
          0.050300812786321834,
          1.036031284483547,
          0.1247331884526296,
          0.8612593921604814,
          -0.45189648057547976,
          -0.898337364398072,
          -0.6308497962480135,
          0.2495090999989929,
          0.611785806237333,
          -0.6494156327534888,
          1.0626583005146162,
          -0.6765149979610443,
          -0.8629222849427012,
          -0.4276817021646282,
          0.6989004308480385,
          0.6181170042687887,
          1.0505932458214589,
          -1.5983442369800216,
          0.9999863331004377,
          -0.6102895780299539,
          0.09795246638112484,
          -0.4385288540045722,
          -1.2123774307299526,
          -0.10202832053379358,
          1.0446774055922547,
          -1.5020525330486525,
          -0.337479573581759,
          0.19549105352603027,
          -0.07001083383244362,
          -0.44993406654047785,
          0.19182058873532176,
          -0.6732686807599063,
          0.6998273146365749,
          0.43016092779073634,
          1.600242286482051,
          0.6205651472739886,
          -1.2413108957504477,
          0.4319110171963078,
          2.079307316368707,
          0.15878224002809227,
          -0.4607271915720504,
          -1.795639248025241,
          -0.6253697528709673,
          1.465503456008871,
          -0.6621669846039352,
          -0.41103293808023034,
          1.5749238411721267,
          -2.1864561795949813,
          -0.4977776664624909,
          1.3853988617617512,
          -0.5129876095526238,
          -0.897283087487321,
          2.0986612052958025,
          -0.05035355878762703,
          0.03859935212065949,
          -2.181021788479176,
          1.1405184610429981,
          -0.658601302599404,
          0.5437139638452326,
          0.5223135093950999,
          2.3705411280177904,
          0.28454474083707143,
          1.4193227372132629,
          0.6507308823181396,
          0.1352940000072053,
          0.6523221390470338,
          -0.1031777953536062,
          -0.40840207673124784,
          0.7014536039135242,
          1.4910125606499636,
          -0.5187542098528161,
          -0.623292885529943,
          -0.02245147999377042,
          -0.44467364964177175,
          1.1375268851232159,
          0.0007559084429775664
         ],
         "yaxis": "y4"
        },
        {
         "line": {
          "color": "rgba(128, 128, 128, 1.0)",
          "dash": "solid",
          "shape": "linear",
          "width": 1.3
         },
         "marker": {
          "size": 2,
          "symbol": "circle"
         },
         "mode": "markers",
         "name": "B",
         "text": "",
         "type": "scatter",
         "x": [
          0.12063307993793361,
          -0.9753533300826948,
          -2.6763579724952478,
          0.4925482616402867,
          -1.3155762174963437,
          -0.9217912477793413,
          -0.4281288511836951,
          -0.0741095333382842,
          -0.3692088265632047,
          0.35277535814250177,
          -1.2316540713957096,
          -0.9813720181548536,
          -0.47010006603407345,
          -0.9756382227178094,
          -0.8715649349132115,
          -0.8173420824910456,
          -0.29952269396360204,
          1.6181557308102659,
          0.23461995230221297,
          -0.7300727916207131,
          -0.3244203020415168,
          1.3694792193594787,
          -1.1830985969539412,
          -0.6695712322864437,
          0.050300812786321834,
          1.036031284483547,
          0.1247331884526296,
          0.8612593921604814,
          -0.45189648057547976,
          -0.898337364398072,
          -0.6308497962480135,
          0.2495090999989929,
          0.611785806237333,
          -0.6494156327534888,
          1.0626583005146162,
          -0.6765149979610443,
          -0.8629222849427012,
          -0.4276817021646282,
          0.6989004308480385,
          0.6181170042687887,
          1.0505932458214589,
          -1.5983442369800216,
          0.9999863331004377,
          -0.6102895780299539,
          0.09795246638112484,
          -0.4385288540045722,
          -1.2123774307299526,
          -0.10202832053379358,
          1.0446774055922547,
          -1.5020525330486525,
          -0.337479573581759,
          0.19549105352603027,
          -0.07001083383244362,
          -0.44993406654047785,
          0.19182058873532176,
          -0.6732686807599063,
          0.6998273146365749,
          0.43016092779073634,
          1.600242286482051,
          0.6205651472739886,
          -1.2413108957504477,
          0.4319110171963078,
          2.079307316368707,
          0.15878224002809227,
          -0.4607271915720504,
          -1.795639248025241,
          -0.6253697528709673,
          1.465503456008871,
          -0.6621669846039352,
          -0.41103293808023034,
          1.5749238411721267,
          -2.1864561795949813,
          -0.4977776664624909,
          1.3853988617617512,
          -0.5129876095526238,
          -0.897283087487321,
          2.0986612052958025,
          -0.05035355878762703,
          0.03859935212065949,
          -2.181021788479176,
          1.1405184610429981,
          -0.658601302599404,
          0.5437139638452326,
          0.5223135093950999,
          2.3705411280177904,
          0.28454474083707143,
          1.4193227372132629,
          0.6507308823181396,
          0.1352940000072053,
          0.6523221390470338,
          -0.1031777953536062,
          -0.40840207673124784,
          0.7014536039135242,
          1.4910125606499636,
          -0.5187542098528161,
          -0.623292885529943,
          -0.02245147999377042,
          -0.44467364964177175,
          1.1375268851232159,
          0.0007559084429775664
         ],
         "xaxis": "x5",
         "y": [
          -0.522079700885799,
          -0.31144048082534775,
          -0.7241472605505641,
          -1.2300416300420594,
          -1.8259514993191461,
          0.08643067332288887,
          -0.6283151419454001,
          -1.2443686093861843,
          -1.505359284046377,
          -0.2909906645035104,
          2.4105090318814004,
          0.006445369976370312,
          -2.1350903995775115,
          -0.35677970863274977,
          2.665735533857099,
          0.21075148803133292,
          -1.477096928969249,
          -1.782247021906371,
          -0.1045020049367965,
          -0.8791025450878165,
          -0.8209774277057524,
          0.8175418726709417,
          -0.01252462004288382,
          0.9471130845989326,
          -0.7811646023115473,
          -0.4508891064134381,
          0.402968701853287,
          0.26988323235132583,
          0.29760155486874007,
          -0.5855154986981775,
          1.5665290787977386,
          -0.10604187433546194,
          1.7542538227020912,
          -0.4194429282036894,
          -0.6986056790450845,
          1.1653041671491604,
          0.7805924904980847,
          0.7078288402890757,
          0.7628913203145052,
          1.0038172992288839,
          -0.5993951364247309,
          -0.835625897075209,
          1.0250317477702606,
          -0.16680206921106913,
          0.5193460355361813,
          -0.3760153715147701,
          -0.09048636808925331,
          0.26840034393654744,
          -0.8752140619894638,
          1.2434346657594744,
          -1.040862850259558,
          -0.08318030099812591,
          1.1262077248215225,
          0.19091323327763102,
          -1.5581479965062561,
          1.5971093964125844,
          -1.4402128536648402,
          -1.3956727151928396,
          1.1499635991459776,
          -0.09614943989750462,
          0.7487131649604577,
          -1.859833599541245,
          -0.9682080674311809,
          -0.8083895310134205,
          0.07201517625696108,
          0.7003724874308773,
          0.3603434078366872,
          0.2927914903976886,
          -0.7190722328005713,
          -1.7126127758544523,
          -1.0089623624439557,
          -0.6332747090638846,
          -0.8859839233149006,
          0.3559550339077135,
          -3.060786815176108,
          0.0255005372731153,
          -1.16745831455643,
          -0.8771907956407784,
          1.2523862232883565,
          0.889884163871847,
          0.26199921668687814,
          -2.320689529863178,
          -1.0508154456053262,
          -0.36819100118589093,
          -2.52189205985639,
          -0.4081792384634467,
          -0.5715287779757289,
          -1.154308594072173,
          -0.1014768864365199,
          0.9034333621414394,
          0.18704522998111542,
          -0.770687484163319,
          1.5800506524826317,
          -2.0021988373340114,
          0.04406612466476638,
          0.3821163996133508,
          0.5646937296566823,
          -0.22207501230812823,
          -0.21342804668328857,
          -0.23999683873682087
         ],
         "yaxis": "y5"
        },
        {
         "histfunc": "count",
         "histnorm": "",
         "marker": {
          "color": "rgba(55, 128, 191, 1.0)",
          "line": {
           "color": "#4D5663",
           "width": 1.3
          }
         },
         "name": "B",
         "nbinsx": 10,
         "opacity": 0.8,
         "orientation": "v",
         "type": "histogram",
         "x": [
          -0.522079700885799,
          -0.31144048082534775,
          -0.7241472605505641,
          -1.2300416300420594,
          -1.8259514993191461,
          0.08643067332288887,
          -0.6283151419454001,
          -1.2443686093861843,
          -1.505359284046377,
          -0.2909906645035104,
          2.4105090318814004,
          0.006445369976370312,
          -2.1350903995775115,
          -0.35677970863274977,
          2.665735533857099,
          0.21075148803133292,
          -1.477096928969249,
          -1.782247021906371,
          -0.1045020049367965,
          -0.8791025450878165,
          -0.8209774277057524,
          0.8175418726709417,
          -0.01252462004288382,
          0.9471130845989326,
          -0.7811646023115473,
          -0.4508891064134381,
          0.402968701853287,
          0.26988323235132583,
          0.29760155486874007,
          -0.5855154986981775,
          1.5665290787977386,
          -0.10604187433546194,
          1.7542538227020912,
          -0.4194429282036894,
          -0.6986056790450845,
          1.1653041671491604,
          0.7805924904980847,
          0.7078288402890757,
          0.7628913203145052,
          1.0038172992288839,
          -0.5993951364247309,
          -0.835625897075209,
          1.0250317477702606,
          -0.16680206921106913,
          0.5193460355361813,
          -0.3760153715147701,
          -0.09048636808925331,
          0.26840034393654744,
          -0.8752140619894638,
          1.2434346657594744,
          -1.040862850259558,
          -0.08318030099812591,
          1.1262077248215225,
          0.19091323327763102,
          -1.5581479965062561,
          1.5971093964125844,
          -1.4402128536648402,
          -1.3956727151928396,
          1.1499635991459776,
          -0.09614943989750462,
          0.7487131649604577,
          -1.859833599541245,
          -0.9682080674311809,
          -0.8083895310134205,
          0.07201517625696108,
          0.7003724874308773,
          0.3603434078366872,
          0.2927914903976886,
          -0.7190722328005713,
          -1.7126127758544523,
          -1.0089623624439557,
          -0.6332747090638846,
          -0.8859839233149006,
          0.3559550339077135,
          -3.060786815176108,
          0.0255005372731153,
          -1.16745831455643,
          -0.8771907956407784,
          1.2523862232883565,
          0.889884163871847,
          0.26199921668687814,
          -2.320689529863178,
          -1.0508154456053262,
          -0.36819100118589093,
          -2.52189205985639,
          -0.4081792384634467,
          -0.5715287779757289,
          -1.154308594072173,
          -0.1014768864365199,
          0.9034333621414394,
          0.18704522998111542,
          -0.770687484163319,
          1.5800506524826317,
          -2.0021988373340114,
          0.04406612466476638,
          0.3821163996133508,
          0.5646937296566823,
          -0.22207501230812823,
          -0.21342804668328857,
          -0.23999683873682087
         ],
         "xaxis": "x6",
         "yaxis": "y6"
        },
        {
         "line": {
          "color": "rgba(128, 128, 128, 1.0)",
          "dash": "solid",
          "shape": "linear",
          "width": 1.3
         },
         "marker": {
          "size": 2,
          "symbol": "circle"
         },
         "mode": "markers",
         "name": "B",
         "text": "",
         "type": "scatter",
         "x": [
          -0.08852422168968099,
          1.072484492537743,
          -0.28306527036306206,
          1.1143792172744111,
          -0.15324228434410764,
          -0.6884612580246313,
          -0.17421320917193495,
          -0.206459969894162,
          -0.1551998524418452,
          -1.594549359201786,
          0.12962482481356008,
          1.4125497278289871,
          2.0280801805745674,
          -0.4867125065674324,
          0.8687333918268887,
          1.0738998682842913,
          0.014796025537450566,
          -0.260435340815994,
          0.9164520451900645,
          -0.1807166453737971,
          -0.21603513631778892,
          -0.005133521724726195,
          -0.26807554679017515,
          -1.6226518840890563,
          1.23843653101688,
          -1.7358737070798764,
          -0.9650342459233452,
          1.07954874339853,
          -1.1740575297045988,
          1.240629856557279,
          -1.5227213081489694,
          -1.2981210653778195,
          0.38811634858265204,
          -1.5572179151187917,
          -0.4808710510184642,
          1.4254411136895513,
          -0.20626030476631396,
          -0.29572646205138625,
          -0.5287062751802881,
          1.668518809610592,
          -0.42847759957627374,
          -0.4436926481063419,
          1.1876194866796395,
          0.7927461345390285,
          2.42697799320039,
          1.8174587405742009,
          -0.8487636678579801,
          -0.21676116335648146,
          -0.8102531223843233,
          -0.6964877204988207,
          0.9714541173134353,
          -2.1313853402612164,
          -0.12886133592566965,
          1.1812208450998414,
          0.9608577388996173,
          -0.3746944397459756,
          0.33832625566752994,
          -0.9143658978339623,
          0.2391931007286504,
          -0.08818106379294745,
          2.443628091937669,
          -0.432638888593655,
          1.7518255385227397,
          -1.324697644112153,
          -2.37499689910705,
          -0.8241478699748068,
          -2.1046384315654043,
          -1.7714014936538525,
          -0.6628237039477233,
          0.545682701302367,
          -0.4937891517904503,
          -0.5876593317921288,
          1.147240939829258,
          -0.9065394655681176,
          -0.05186145685783981,
          0.013860428477771624,
          0.3036257283642649,
          0.33972234371061893,
          -0.002180358941292891,
          1.527465343299987,
          1.4653414245067913,
          -0.1354298427521185,
          -0.8627680102831661,
          0.4601472626886944,
          0.6751503853002964,
          0.16243678416398835,
          1.3300400022112162,
          0.06016429893458129,
          -1.502290213322178,
          -0.39660899097354996,
          0.6096994741412444,
          -0.6706998825275535,
          -1.2764029435901119,
          0.7343156439531086,
          -0.09146463762034475,
          -1.48059886806984,
          -0.7698558339018088,
          1.156836520036784,
          -0.4500676557898651,
          -0.2259957121405176
         ],
         "xaxis": "x7",
         "y": [
          -0.522079700885799,
          -0.31144048082534775,
          -0.7241472605505641,
          -1.2300416300420594,
          -1.8259514993191461,
          0.08643067332288887,
          -0.6283151419454001,
          -1.2443686093861843,
          -1.505359284046377,
          -0.2909906645035104,
          2.4105090318814004,
          0.006445369976370312,
          -2.1350903995775115,
          -0.35677970863274977,
          2.665735533857099,
          0.21075148803133292,
          -1.477096928969249,
          -1.782247021906371,
          -0.1045020049367965,
          -0.8791025450878165,
          -0.8209774277057524,
          0.8175418726709417,
          -0.01252462004288382,
          0.9471130845989326,
          -0.7811646023115473,
          -0.4508891064134381,
          0.402968701853287,
          0.26988323235132583,
          0.29760155486874007,
          -0.5855154986981775,
          1.5665290787977386,
          -0.10604187433546194,
          1.7542538227020912,
          -0.4194429282036894,
          -0.6986056790450845,
          1.1653041671491604,
          0.7805924904980847,
          0.7078288402890757,
          0.7628913203145052,
          1.0038172992288839,
          -0.5993951364247309,
          -0.835625897075209,
          1.0250317477702606,
          -0.16680206921106913,
          0.5193460355361813,
          -0.3760153715147701,
          -0.09048636808925331,
          0.26840034393654744,
          -0.8752140619894638,
          1.2434346657594744,
          -1.040862850259558,
          -0.08318030099812591,
          1.1262077248215225,
          0.19091323327763102,
          -1.5581479965062561,
          1.5971093964125844,
          -1.4402128536648402,
          -1.3956727151928396,
          1.1499635991459776,
          -0.09614943989750462,
          0.7487131649604577,
          -1.859833599541245,
          -0.9682080674311809,
          -0.8083895310134205,
          0.07201517625696108,
          0.7003724874308773,
          0.3603434078366872,
          0.2927914903976886,
          -0.7190722328005713,
          -1.7126127758544523,
          -1.0089623624439557,
          -0.6332747090638846,
          -0.8859839233149006,
          0.3559550339077135,
          -3.060786815176108,
          0.0255005372731153,
          -1.16745831455643,
          -0.8771907956407784,
          1.2523862232883565,
          0.889884163871847,
          0.26199921668687814,
          -2.320689529863178,
          -1.0508154456053262,
          -0.36819100118589093,
          -2.52189205985639,
          -0.4081792384634467,
          -0.5715287779757289,
          -1.154308594072173,
          -0.1014768864365199,
          0.9034333621414394,
          0.18704522998111542,
          -0.770687484163319,
          1.5800506524826317,
          -2.0021988373340114,
          0.04406612466476638,
          0.3821163996133508,
          0.5646937296566823,
          -0.22207501230812823,
          -0.21342804668328857,
          -0.23999683873682087
         ],
         "yaxis": "y7"
        },
        {
         "line": {
          "color": "rgba(128, 128, 128, 1.0)",
          "dash": "solid",
          "shape": "linear",
          "width": 1.3
         },
         "marker": {
          "size": 2,
          "symbol": "circle"
         },
         "mode": "markers",
         "name": "B",
         "text": "",
         "type": "scatter",
         "x": [
          -2.882928743561441,
          0.34844846725286066,
          1.2680257646880417,
          2.6158951835942448,
          -0.08666633264915499,
          0.6855126890217901,
          0.9673967695631298,
          -0.6661245750975666,
          -1.5926703284052073,
          -0.8379040920672681,
          -0.37570499245518674,
          -0.8371811965354067,
          -0.5098065928461315,
          0.1372469396536534,
          -0.6471083702863741,
          0.8046279866565285,
          -0.24130185170022783,
          -0.32632814181417097,
          -0.15354271935767372,
          -1.4439112915696954,
          0.6246962871267743,
          0.12432204950512159,
          1.6752929976667723,
          -0.2844432337393085,
          -1.343752758520758,
          0.1301416109711241,
          -0.6331050257489115,
          0.9518781871258761,
          0.7249514840301362,
          0.9101900639114405,
          1.2780574533758824,
          1.802348479945691,
          -0.31614820190356674,
          0.36773415100197077,
          -0.3908212366744393,
          -1.2935782038191448,
          0.05885575458926745,
          0.6950254647416754,
          0.3389537521370748,
          0.9123551822614718,
          0.6892369236633751,
          -0.49268785751272814,
          -1.3087763952309324,
          0.08758532549130894,
          0.4963918755186365,
          0.5872903488418483,
          0.13358063913681995,
          -0.6795571557063222,
          0.33591033706240725,
          -0.8744115193624418,
          0.1929363874465534,
          -0.8895244302940438,
          0.11690218778925603,
          -0.9637877846107626,
          0.2667924221703283,
          1.0541280312229273,
          0.5383199828563591,
          -0.5637487029043333,
          0.12495848178419726,
          -2.436259573590457,
          0.24140795366764298,
          -0.3360656488349088,
          -1.1201761256188392,
          0.2605197525489586,
          1.345908878127147,
          0.7445965881250635,
          -1.33426054511959,
          1.1476625537676224,
          0.01088312706030191,
          0.04395772829126626,
          -1.7562065311579718,
          1.4191323089484646,
          0.8010647667932251,
          0.6521378374268157,
          0.8045698013063193,
          -0.46743041772942134,
          -2.264670130265404,
          0.31279554598588744,
          0.4663204805144947,
          -1.1473863662551063,
          -0.447218095571166,
          -0.5262649784955559,
          0.22835004708314383,
          1.3515406939461974,
          -1.2568821953431548,
          -0.2791161614202711,
          -0.3013722862007754,
          -1.2591808777692868,
          -0.9608444919160927,
          0.11161661644196776,
          -0.24030404938264227,
          0.1291426942326392,
          0.14407473798474776,
          0.35458665833707625,
          -0.17211213011128082,
          0.37039146193315603,
          2.003557075920957,
          0.51786487390019,
          1.8897531118991615,
          0.2924227340416826
         ],
         "xaxis": "x8",
         "y": [
          -0.522079700885799,
          -0.31144048082534775,
          -0.7241472605505641,
          -1.2300416300420594,
          -1.8259514993191461,
          0.08643067332288887,
          -0.6283151419454001,
          -1.2443686093861843,
          -1.505359284046377,
          -0.2909906645035104,
          2.4105090318814004,
          0.006445369976370312,
          -2.1350903995775115,
          -0.35677970863274977,
          2.665735533857099,
          0.21075148803133292,
          -1.477096928969249,
          -1.782247021906371,
          -0.1045020049367965,
          -0.8791025450878165,
          -0.8209774277057524,
          0.8175418726709417,
          -0.01252462004288382,
          0.9471130845989326,
          -0.7811646023115473,
          -0.4508891064134381,
          0.402968701853287,
          0.26988323235132583,
          0.29760155486874007,
          -0.5855154986981775,
          1.5665290787977386,
          -0.10604187433546194,
          1.7542538227020912,
          -0.4194429282036894,
          -0.6986056790450845,
          1.1653041671491604,
          0.7805924904980847,
          0.7078288402890757,
          0.7628913203145052,
          1.0038172992288839,
          -0.5993951364247309,
          -0.835625897075209,
          1.0250317477702606,
          -0.16680206921106913,
          0.5193460355361813,
          -0.3760153715147701,
          -0.09048636808925331,
          0.26840034393654744,
          -0.8752140619894638,
          1.2434346657594744,
          -1.040862850259558,
          -0.08318030099812591,
          1.1262077248215225,
          0.19091323327763102,
          -1.5581479965062561,
          1.5971093964125844,
          -1.4402128536648402,
          -1.3956727151928396,
          1.1499635991459776,
          -0.09614943989750462,
          0.7487131649604577,
          -1.859833599541245,
          -0.9682080674311809,
          -0.8083895310134205,
          0.07201517625696108,
          0.7003724874308773,
          0.3603434078366872,
          0.2927914903976886,
          -0.7190722328005713,
          -1.7126127758544523,
          -1.0089623624439557,
          -0.6332747090638846,
          -0.8859839233149006,
          0.3559550339077135,
          -3.060786815176108,
          0.0255005372731153,
          -1.16745831455643,
          -0.8771907956407784,
          1.2523862232883565,
          0.889884163871847,
          0.26199921668687814,
          -2.320689529863178,
          -1.0508154456053262,
          -0.36819100118589093,
          -2.52189205985639,
          -0.4081792384634467,
          -0.5715287779757289,
          -1.154308594072173,
          -0.1014768864365199,
          0.9034333621414394,
          0.18704522998111542,
          -0.770687484163319,
          1.5800506524826317,
          -2.0021988373340114,
          0.04406612466476638,
          0.3821163996133508,
          0.5646937296566823,
          -0.22207501230812823,
          -0.21342804668328857,
          -0.23999683873682087
         ],
         "yaxis": "y8"
        },
        {
         "line": {
          "color": "rgba(128, 128, 128, 1.0)",
          "dash": "solid",
          "shape": "linear",
          "width": 1.3
         },
         "marker": {
          "size": 2,
          "symbol": "circle"
         },
         "mode": "markers",
         "name": "C",
         "text": "",
         "type": "scatter",
         "x": [
          0.12063307993793361,
          -0.9753533300826948,
          -2.6763579724952478,
          0.4925482616402867,
          -1.3155762174963437,
          -0.9217912477793413,
          -0.4281288511836951,
          -0.0741095333382842,
          -0.3692088265632047,
          0.35277535814250177,
          -1.2316540713957096,
          -0.9813720181548536,
          -0.47010006603407345,
          -0.9756382227178094,
          -0.8715649349132115,
          -0.8173420824910456,
          -0.29952269396360204,
          1.6181557308102659,
          0.23461995230221297,
          -0.7300727916207131,
          -0.3244203020415168,
          1.3694792193594787,
          -1.1830985969539412,
          -0.6695712322864437,
          0.050300812786321834,
          1.036031284483547,
          0.1247331884526296,
          0.8612593921604814,
          -0.45189648057547976,
          -0.898337364398072,
          -0.6308497962480135,
          0.2495090999989929,
          0.611785806237333,
          -0.6494156327534888,
          1.0626583005146162,
          -0.6765149979610443,
          -0.8629222849427012,
          -0.4276817021646282,
          0.6989004308480385,
          0.6181170042687887,
          1.0505932458214589,
          -1.5983442369800216,
          0.9999863331004377,
          -0.6102895780299539,
          0.09795246638112484,
          -0.4385288540045722,
          -1.2123774307299526,
          -0.10202832053379358,
          1.0446774055922547,
          -1.5020525330486525,
          -0.337479573581759,
          0.19549105352603027,
          -0.07001083383244362,
          -0.44993406654047785,
          0.19182058873532176,
          -0.6732686807599063,
          0.6998273146365749,
          0.43016092779073634,
          1.600242286482051,
          0.6205651472739886,
          -1.2413108957504477,
          0.4319110171963078,
          2.079307316368707,
          0.15878224002809227,
          -0.4607271915720504,
          -1.795639248025241,
          -0.6253697528709673,
          1.465503456008871,
          -0.6621669846039352,
          -0.41103293808023034,
          1.5749238411721267,
          -2.1864561795949813,
          -0.4977776664624909,
          1.3853988617617512,
          -0.5129876095526238,
          -0.897283087487321,
          2.0986612052958025,
          -0.05035355878762703,
          0.03859935212065949,
          -2.181021788479176,
          1.1405184610429981,
          -0.658601302599404,
          0.5437139638452326,
          0.5223135093950999,
          2.3705411280177904,
          0.28454474083707143,
          1.4193227372132629,
          0.6507308823181396,
          0.1352940000072053,
          0.6523221390470338,
          -0.1031777953536062,
          -0.40840207673124784,
          0.7014536039135242,
          1.4910125606499636,
          -0.5187542098528161,
          -0.623292885529943,
          -0.02245147999377042,
          -0.44467364964177175,
          1.1375268851232159,
          0.0007559084429775664
         ],
         "xaxis": "x9",
         "y": [
          -0.08852422168968099,
          1.072484492537743,
          -0.28306527036306206,
          1.1143792172744111,
          -0.15324228434410764,
          -0.6884612580246313,
          -0.17421320917193495,
          -0.206459969894162,
          -0.1551998524418452,
          -1.594549359201786,
          0.12962482481356008,
          1.4125497278289871,
          2.0280801805745674,
          -0.4867125065674324,
          0.8687333918268887,
          1.0738998682842913,
          0.014796025537450566,
          -0.260435340815994,
          0.9164520451900645,
          -0.1807166453737971,
          -0.21603513631778892,
          -0.005133521724726195,
          -0.26807554679017515,
          -1.6226518840890563,
          1.23843653101688,
          -1.7358737070798764,
          -0.9650342459233452,
          1.07954874339853,
          -1.1740575297045988,
          1.240629856557279,
          -1.5227213081489694,
          -1.2981210653778195,
          0.38811634858265204,
          -1.5572179151187917,
          -0.4808710510184642,
          1.4254411136895513,
          -0.20626030476631396,
          -0.29572646205138625,
          -0.5287062751802881,
          1.668518809610592,
          -0.42847759957627374,
          -0.4436926481063419,
          1.1876194866796395,
          0.7927461345390285,
          2.42697799320039,
          1.8174587405742009,
          -0.8487636678579801,
          -0.21676116335648146,
          -0.8102531223843233,
          -0.6964877204988207,
          0.9714541173134353,
          -2.1313853402612164,
          -0.12886133592566965,
          1.1812208450998414,
          0.9608577388996173,
          -0.3746944397459756,
          0.33832625566752994,
          -0.9143658978339623,
          0.2391931007286504,
          -0.08818106379294745,
          2.443628091937669,
          -0.432638888593655,
          1.7518255385227397,
          -1.324697644112153,
          -2.37499689910705,
          -0.8241478699748068,
          -2.1046384315654043,
          -1.7714014936538525,
          -0.6628237039477233,
          0.545682701302367,
          -0.4937891517904503,
          -0.5876593317921288,
          1.147240939829258,
          -0.9065394655681176,
          -0.05186145685783981,
          0.013860428477771624,
          0.3036257283642649,
          0.33972234371061893,
          -0.002180358941292891,
          1.527465343299987,
          1.4653414245067913,
          -0.1354298427521185,
          -0.8627680102831661,
          0.4601472626886944,
          0.6751503853002964,
          0.16243678416398835,
          1.3300400022112162,
          0.06016429893458129,
          -1.502290213322178,
          -0.39660899097354996,
          0.6096994741412444,
          -0.6706998825275535,
          -1.2764029435901119,
          0.7343156439531086,
          -0.09146463762034475,
          -1.48059886806984,
          -0.7698558339018088,
          1.156836520036784,
          -0.4500676557898651,
          -0.2259957121405176
         ],
         "yaxis": "y9"
        },
        {
         "line": {
          "color": "rgba(128, 128, 128, 1.0)",
          "dash": "solid",
          "shape": "linear",
          "width": 1.3
         },
         "marker": {
          "size": 2,
          "symbol": "circle"
         },
         "mode": "markers",
         "name": "C",
         "text": "",
         "type": "scatter",
         "x": [
          -0.522079700885799,
          -0.31144048082534775,
          -0.7241472605505641,
          -1.2300416300420594,
          -1.8259514993191461,
          0.08643067332288887,
          -0.6283151419454001,
          -1.2443686093861843,
          -1.505359284046377,
          -0.2909906645035104,
          2.4105090318814004,
          0.006445369976370312,
          -2.1350903995775115,
          -0.35677970863274977,
          2.665735533857099,
          0.21075148803133292,
          -1.477096928969249,
          -1.782247021906371,
          -0.1045020049367965,
          -0.8791025450878165,
          -0.8209774277057524,
          0.8175418726709417,
          -0.01252462004288382,
          0.9471130845989326,
          -0.7811646023115473,
          -0.4508891064134381,
          0.402968701853287,
          0.26988323235132583,
          0.29760155486874007,
          -0.5855154986981775,
          1.5665290787977386,
          -0.10604187433546194,
          1.7542538227020912,
          -0.4194429282036894,
          -0.6986056790450845,
          1.1653041671491604,
          0.7805924904980847,
          0.7078288402890757,
          0.7628913203145052,
          1.0038172992288839,
          -0.5993951364247309,
          -0.835625897075209,
          1.0250317477702606,
          -0.16680206921106913,
          0.5193460355361813,
          -0.3760153715147701,
          -0.09048636808925331,
          0.26840034393654744,
          -0.8752140619894638,
          1.2434346657594744,
          -1.040862850259558,
          -0.08318030099812591,
          1.1262077248215225,
          0.19091323327763102,
          -1.5581479965062561,
          1.5971093964125844,
          -1.4402128536648402,
          -1.3956727151928396,
          1.1499635991459776,
          -0.09614943989750462,
          0.7487131649604577,
          -1.859833599541245,
          -0.9682080674311809,
          -0.8083895310134205,
          0.07201517625696108,
          0.7003724874308773,
          0.3603434078366872,
          0.2927914903976886,
          -0.7190722328005713,
          -1.7126127758544523,
          -1.0089623624439557,
          -0.6332747090638846,
          -0.8859839233149006,
          0.3559550339077135,
          -3.060786815176108,
          0.0255005372731153,
          -1.16745831455643,
          -0.8771907956407784,
          1.2523862232883565,
          0.889884163871847,
          0.26199921668687814,
          -2.320689529863178,
          -1.0508154456053262,
          -0.36819100118589093,
          -2.52189205985639,
          -0.4081792384634467,
          -0.5715287779757289,
          -1.154308594072173,
          -0.1014768864365199,
          0.9034333621414394,
          0.18704522998111542,
          -0.770687484163319,
          1.5800506524826317,
          -2.0021988373340114,
          0.04406612466476638,
          0.3821163996133508,
          0.5646937296566823,
          -0.22207501230812823,
          -0.21342804668328857,
          -0.23999683873682087
         ],
         "xaxis": "x10",
         "y": [
          -0.08852422168968099,
          1.072484492537743,
          -0.28306527036306206,
          1.1143792172744111,
          -0.15324228434410764,
          -0.6884612580246313,
          -0.17421320917193495,
          -0.206459969894162,
          -0.1551998524418452,
          -1.594549359201786,
          0.12962482481356008,
          1.4125497278289871,
          2.0280801805745674,
          -0.4867125065674324,
          0.8687333918268887,
          1.0738998682842913,
          0.014796025537450566,
          -0.260435340815994,
          0.9164520451900645,
          -0.1807166453737971,
          -0.21603513631778892,
          -0.005133521724726195,
          -0.26807554679017515,
          -1.6226518840890563,
          1.23843653101688,
          -1.7358737070798764,
          -0.9650342459233452,
          1.07954874339853,
          -1.1740575297045988,
          1.240629856557279,
          -1.5227213081489694,
          -1.2981210653778195,
          0.38811634858265204,
          -1.5572179151187917,
          -0.4808710510184642,
          1.4254411136895513,
          -0.20626030476631396,
          -0.29572646205138625,
          -0.5287062751802881,
          1.668518809610592,
          -0.42847759957627374,
          -0.4436926481063419,
          1.1876194866796395,
          0.7927461345390285,
          2.42697799320039,
          1.8174587405742009,
          -0.8487636678579801,
          -0.21676116335648146,
          -0.8102531223843233,
          -0.6964877204988207,
          0.9714541173134353,
          -2.1313853402612164,
          -0.12886133592566965,
          1.1812208450998414,
          0.9608577388996173,
          -0.3746944397459756,
          0.33832625566752994,
          -0.9143658978339623,
          0.2391931007286504,
          -0.08818106379294745,
          2.443628091937669,
          -0.432638888593655,
          1.7518255385227397,
          -1.324697644112153,
          -2.37499689910705,
          -0.8241478699748068,
          -2.1046384315654043,
          -1.7714014936538525,
          -0.6628237039477233,
          0.545682701302367,
          -0.4937891517904503,
          -0.5876593317921288,
          1.147240939829258,
          -0.9065394655681176,
          -0.05186145685783981,
          0.013860428477771624,
          0.3036257283642649,
          0.33972234371061893,
          -0.002180358941292891,
          1.527465343299987,
          1.4653414245067913,
          -0.1354298427521185,
          -0.8627680102831661,
          0.4601472626886944,
          0.6751503853002964,
          0.16243678416398835,
          1.3300400022112162,
          0.06016429893458129,
          -1.502290213322178,
          -0.39660899097354996,
          0.6096994741412444,
          -0.6706998825275535,
          -1.2764029435901119,
          0.7343156439531086,
          -0.09146463762034475,
          -1.48059886806984,
          -0.7698558339018088,
          1.156836520036784,
          -0.4500676557898651,
          -0.2259957121405176
         ],
         "yaxis": "y10"
        },
        {
         "histfunc": "count",
         "histnorm": "",
         "marker": {
          "color": "rgba(50, 171, 96, 1.0)",
          "line": {
           "color": "#4D5663",
           "width": 1.3
          }
         },
         "name": "C",
         "nbinsx": 10,
         "opacity": 0.8,
         "orientation": "v",
         "type": "histogram",
         "x": [
          -0.08852422168968099,
          1.072484492537743,
          -0.28306527036306206,
          1.1143792172744111,
          -0.15324228434410764,
          -0.6884612580246313,
          -0.17421320917193495,
          -0.206459969894162,
          -0.1551998524418452,
          -1.594549359201786,
          0.12962482481356008,
          1.4125497278289871,
          2.0280801805745674,
          -0.4867125065674324,
          0.8687333918268887,
          1.0738998682842913,
          0.014796025537450566,
          -0.260435340815994,
          0.9164520451900645,
          -0.1807166453737971,
          -0.21603513631778892,
          -0.005133521724726195,
          -0.26807554679017515,
          -1.6226518840890563,
          1.23843653101688,
          -1.7358737070798764,
          -0.9650342459233452,
          1.07954874339853,
          -1.1740575297045988,
          1.240629856557279,
          -1.5227213081489694,
          -1.2981210653778195,
          0.38811634858265204,
          -1.5572179151187917,
          -0.4808710510184642,
          1.4254411136895513,
          -0.20626030476631396,
          -0.29572646205138625,
          -0.5287062751802881,
          1.668518809610592,
          -0.42847759957627374,
          -0.4436926481063419,
          1.1876194866796395,
          0.7927461345390285,
          2.42697799320039,
          1.8174587405742009,
          -0.8487636678579801,
          -0.21676116335648146,
          -0.8102531223843233,
          -0.6964877204988207,
          0.9714541173134353,
          -2.1313853402612164,
          -0.12886133592566965,
          1.1812208450998414,
          0.9608577388996173,
          -0.3746944397459756,
          0.33832625566752994,
          -0.9143658978339623,
          0.2391931007286504,
          -0.08818106379294745,
          2.443628091937669,
          -0.432638888593655,
          1.7518255385227397,
          -1.324697644112153,
          -2.37499689910705,
          -0.8241478699748068,
          -2.1046384315654043,
          -1.7714014936538525,
          -0.6628237039477233,
          0.545682701302367,
          -0.4937891517904503,
          -0.5876593317921288,
          1.147240939829258,
          -0.9065394655681176,
          -0.05186145685783981,
          0.013860428477771624,
          0.3036257283642649,
          0.33972234371061893,
          -0.002180358941292891,
          1.527465343299987,
          1.4653414245067913,
          -0.1354298427521185,
          -0.8627680102831661,
          0.4601472626886944,
          0.6751503853002964,
          0.16243678416398835,
          1.3300400022112162,
          0.06016429893458129,
          -1.502290213322178,
          -0.39660899097354996,
          0.6096994741412444,
          -0.6706998825275535,
          -1.2764029435901119,
          0.7343156439531086,
          -0.09146463762034475,
          -1.48059886806984,
          -0.7698558339018088,
          1.156836520036784,
          -0.4500676557898651,
          -0.2259957121405176
         ],
         "xaxis": "x11",
         "yaxis": "y11"
        },
        {
         "line": {
          "color": "rgba(128, 128, 128, 1.0)",
          "dash": "solid",
          "shape": "linear",
          "width": 1.3
         },
         "marker": {
          "size": 2,
          "symbol": "circle"
         },
         "mode": "markers",
         "name": "C",
         "text": "",
         "type": "scatter",
         "x": [
          -2.882928743561441,
          0.34844846725286066,
          1.2680257646880417,
          2.6158951835942448,
          -0.08666633264915499,
          0.6855126890217901,
          0.9673967695631298,
          -0.6661245750975666,
          -1.5926703284052073,
          -0.8379040920672681,
          -0.37570499245518674,
          -0.8371811965354067,
          -0.5098065928461315,
          0.1372469396536534,
          -0.6471083702863741,
          0.8046279866565285,
          -0.24130185170022783,
          -0.32632814181417097,
          -0.15354271935767372,
          -1.4439112915696954,
          0.6246962871267743,
          0.12432204950512159,
          1.6752929976667723,
          -0.2844432337393085,
          -1.343752758520758,
          0.1301416109711241,
          -0.6331050257489115,
          0.9518781871258761,
          0.7249514840301362,
          0.9101900639114405,
          1.2780574533758824,
          1.802348479945691,
          -0.31614820190356674,
          0.36773415100197077,
          -0.3908212366744393,
          -1.2935782038191448,
          0.05885575458926745,
          0.6950254647416754,
          0.3389537521370748,
          0.9123551822614718,
          0.6892369236633751,
          -0.49268785751272814,
          -1.3087763952309324,
          0.08758532549130894,
          0.4963918755186365,
          0.5872903488418483,
          0.13358063913681995,
          -0.6795571557063222,
          0.33591033706240725,
          -0.8744115193624418,
          0.1929363874465534,
          -0.8895244302940438,
          0.11690218778925603,
          -0.9637877846107626,
          0.2667924221703283,
          1.0541280312229273,
          0.5383199828563591,
          -0.5637487029043333,
          0.12495848178419726,
          -2.436259573590457,
          0.24140795366764298,
          -0.3360656488349088,
          -1.1201761256188392,
          0.2605197525489586,
          1.345908878127147,
          0.7445965881250635,
          -1.33426054511959,
          1.1476625537676224,
          0.01088312706030191,
          0.04395772829126626,
          -1.7562065311579718,
          1.4191323089484646,
          0.8010647667932251,
          0.6521378374268157,
          0.8045698013063193,
          -0.46743041772942134,
          -2.264670130265404,
          0.31279554598588744,
          0.4663204805144947,
          -1.1473863662551063,
          -0.447218095571166,
          -0.5262649784955559,
          0.22835004708314383,
          1.3515406939461974,
          -1.2568821953431548,
          -0.2791161614202711,
          -0.3013722862007754,
          -1.2591808777692868,
          -0.9608444919160927,
          0.11161661644196776,
          -0.24030404938264227,
          0.1291426942326392,
          0.14407473798474776,
          0.35458665833707625,
          -0.17211213011128082,
          0.37039146193315603,
          2.003557075920957,
          0.51786487390019,
          1.8897531118991615,
          0.2924227340416826
         ],
         "xaxis": "x12",
         "y": [
          -0.08852422168968099,
          1.072484492537743,
          -0.28306527036306206,
          1.1143792172744111,
          -0.15324228434410764,
          -0.6884612580246313,
          -0.17421320917193495,
          -0.206459969894162,
          -0.1551998524418452,
          -1.594549359201786,
          0.12962482481356008,
          1.4125497278289871,
          2.0280801805745674,
          -0.4867125065674324,
          0.8687333918268887,
          1.0738998682842913,
          0.014796025537450566,
          -0.260435340815994,
          0.9164520451900645,
          -0.1807166453737971,
          -0.21603513631778892,
          -0.005133521724726195,
          -0.26807554679017515,
          -1.6226518840890563,
          1.23843653101688,
          -1.7358737070798764,
          -0.9650342459233452,
          1.07954874339853,
          -1.1740575297045988,
          1.240629856557279,
          -1.5227213081489694,
          -1.2981210653778195,
          0.38811634858265204,
          -1.5572179151187917,
          -0.4808710510184642,
          1.4254411136895513,
          -0.20626030476631396,
          -0.29572646205138625,
          -0.5287062751802881,
          1.668518809610592,
          -0.42847759957627374,
          -0.4436926481063419,
          1.1876194866796395,
          0.7927461345390285,
          2.42697799320039,
          1.8174587405742009,
          -0.8487636678579801,
          -0.21676116335648146,
          -0.8102531223843233,
          -0.6964877204988207,
          0.9714541173134353,
          -2.1313853402612164,
          -0.12886133592566965,
          1.1812208450998414,
          0.9608577388996173,
          -0.3746944397459756,
          0.33832625566752994,
          -0.9143658978339623,
          0.2391931007286504,
          -0.08818106379294745,
          2.443628091937669,
          -0.432638888593655,
          1.7518255385227397,
          -1.324697644112153,
          -2.37499689910705,
          -0.8241478699748068,
          -2.1046384315654043,
          -1.7714014936538525,
          -0.6628237039477233,
          0.545682701302367,
          -0.4937891517904503,
          -0.5876593317921288,
          1.147240939829258,
          -0.9065394655681176,
          -0.05186145685783981,
          0.013860428477771624,
          0.3036257283642649,
          0.33972234371061893,
          -0.002180358941292891,
          1.527465343299987,
          1.4653414245067913,
          -0.1354298427521185,
          -0.8627680102831661,
          0.4601472626886944,
          0.6751503853002964,
          0.16243678416398835,
          1.3300400022112162,
          0.06016429893458129,
          -1.502290213322178,
          -0.39660899097354996,
          0.6096994741412444,
          -0.6706998825275535,
          -1.2764029435901119,
          0.7343156439531086,
          -0.09146463762034475,
          -1.48059886806984,
          -0.7698558339018088,
          1.156836520036784,
          -0.4500676557898651,
          -0.2259957121405176
         ],
         "yaxis": "y12"
        },
        {
         "line": {
          "color": "rgba(128, 128, 128, 1.0)",
          "dash": "solid",
          "shape": "linear",
          "width": 1.3
         },
         "marker": {
          "size": 2,
          "symbol": "circle"
         },
         "mode": "markers",
         "name": "D",
         "text": "",
         "type": "scatter",
         "x": [
          0.12063307993793361,
          -0.9753533300826948,
          -2.6763579724952478,
          0.4925482616402867,
          -1.3155762174963437,
          -0.9217912477793413,
          -0.4281288511836951,
          -0.0741095333382842,
          -0.3692088265632047,
          0.35277535814250177,
          -1.2316540713957096,
          -0.9813720181548536,
          -0.47010006603407345,
          -0.9756382227178094,
          -0.8715649349132115,
          -0.8173420824910456,
          -0.29952269396360204,
          1.6181557308102659,
          0.23461995230221297,
          -0.7300727916207131,
          -0.3244203020415168,
          1.3694792193594787,
          -1.1830985969539412,
          -0.6695712322864437,
          0.050300812786321834,
          1.036031284483547,
          0.1247331884526296,
          0.8612593921604814,
          -0.45189648057547976,
          -0.898337364398072,
          -0.6308497962480135,
          0.2495090999989929,
          0.611785806237333,
          -0.6494156327534888,
          1.0626583005146162,
          -0.6765149979610443,
          -0.8629222849427012,
          -0.4276817021646282,
          0.6989004308480385,
          0.6181170042687887,
          1.0505932458214589,
          -1.5983442369800216,
          0.9999863331004377,
          -0.6102895780299539,
          0.09795246638112484,
          -0.4385288540045722,
          -1.2123774307299526,
          -0.10202832053379358,
          1.0446774055922547,
          -1.5020525330486525,
          -0.337479573581759,
          0.19549105352603027,
          -0.07001083383244362,
          -0.44993406654047785,
          0.19182058873532176,
          -0.6732686807599063,
          0.6998273146365749,
          0.43016092779073634,
          1.600242286482051,
          0.6205651472739886,
          -1.2413108957504477,
          0.4319110171963078,
          2.079307316368707,
          0.15878224002809227,
          -0.4607271915720504,
          -1.795639248025241,
          -0.6253697528709673,
          1.465503456008871,
          -0.6621669846039352,
          -0.41103293808023034,
          1.5749238411721267,
          -2.1864561795949813,
          -0.4977776664624909,
          1.3853988617617512,
          -0.5129876095526238,
          -0.897283087487321,
          2.0986612052958025,
          -0.05035355878762703,
          0.03859935212065949,
          -2.181021788479176,
          1.1405184610429981,
          -0.658601302599404,
          0.5437139638452326,
          0.5223135093950999,
          2.3705411280177904,
          0.28454474083707143,
          1.4193227372132629,
          0.6507308823181396,
          0.1352940000072053,
          0.6523221390470338,
          -0.1031777953536062,
          -0.40840207673124784,
          0.7014536039135242,
          1.4910125606499636,
          -0.5187542098528161,
          -0.623292885529943,
          -0.02245147999377042,
          -0.44467364964177175,
          1.1375268851232159,
          0.0007559084429775664
         ],
         "xaxis": "x13",
         "y": [
          -2.882928743561441,
          0.34844846725286066,
          1.2680257646880417,
          2.6158951835942448,
          -0.08666633264915499,
          0.6855126890217901,
          0.9673967695631298,
          -0.6661245750975666,
          -1.5926703284052073,
          -0.8379040920672681,
          -0.37570499245518674,
          -0.8371811965354067,
          -0.5098065928461315,
          0.1372469396536534,
          -0.6471083702863741,
          0.8046279866565285,
          -0.24130185170022783,
          -0.32632814181417097,
          -0.15354271935767372,
          -1.4439112915696954,
          0.6246962871267743,
          0.12432204950512159,
          1.6752929976667723,
          -0.2844432337393085,
          -1.343752758520758,
          0.1301416109711241,
          -0.6331050257489115,
          0.9518781871258761,
          0.7249514840301362,
          0.9101900639114405,
          1.2780574533758824,
          1.802348479945691,
          -0.31614820190356674,
          0.36773415100197077,
          -0.3908212366744393,
          -1.2935782038191448,
          0.05885575458926745,
          0.6950254647416754,
          0.3389537521370748,
          0.9123551822614718,
          0.6892369236633751,
          -0.49268785751272814,
          -1.3087763952309324,
          0.08758532549130894,
          0.4963918755186365,
          0.5872903488418483,
          0.13358063913681995,
          -0.6795571557063222,
          0.33591033706240725,
          -0.8744115193624418,
          0.1929363874465534,
          -0.8895244302940438,
          0.11690218778925603,
          -0.9637877846107626,
          0.2667924221703283,
          1.0541280312229273,
          0.5383199828563591,
          -0.5637487029043333,
          0.12495848178419726,
          -2.436259573590457,
          0.24140795366764298,
          -0.3360656488349088,
          -1.1201761256188392,
          0.2605197525489586,
          1.345908878127147,
          0.7445965881250635,
          -1.33426054511959,
          1.1476625537676224,
          0.01088312706030191,
          0.04395772829126626,
          -1.7562065311579718,
          1.4191323089484646,
          0.8010647667932251,
          0.6521378374268157,
          0.8045698013063193,
          -0.46743041772942134,
          -2.264670130265404,
          0.31279554598588744,
          0.4663204805144947,
          -1.1473863662551063,
          -0.447218095571166,
          -0.5262649784955559,
          0.22835004708314383,
          1.3515406939461974,
          -1.2568821953431548,
          -0.2791161614202711,
          -0.3013722862007754,
          -1.2591808777692868,
          -0.9608444919160927,
          0.11161661644196776,
          -0.24030404938264227,
          0.1291426942326392,
          0.14407473798474776,
          0.35458665833707625,
          -0.17211213011128082,
          0.37039146193315603,
          2.003557075920957,
          0.51786487390019,
          1.8897531118991615,
          0.2924227340416826
         ],
         "yaxis": "y13"
        },
        {
         "line": {
          "color": "rgba(128, 128, 128, 1.0)",
          "dash": "solid",
          "shape": "linear",
          "width": 1.3
         },
         "marker": {
          "size": 2,
          "symbol": "circle"
         },
         "mode": "markers",
         "name": "D",
         "text": "",
         "type": "scatter",
         "x": [
          -0.522079700885799,
          -0.31144048082534775,
          -0.7241472605505641,
          -1.2300416300420594,
          -1.8259514993191461,
          0.08643067332288887,
          -0.6283151419454001,
          -1.2443686093861843,
          -1.505359284046377,
          -0.2909906645035104,
          2.4105090318814004,
          0.006445369976370312,
          -2.1350903995775115,
          -0.35677970863274977,
          2.665735533857099,
          0.21075148803133292,
          -1.477096928969249,
          -1.782247021906371,
          -0.1045020049367965,
          -0.8791025450878165,
          -0.8209774277057524,
          0.8175418726709417,
          -0.01252462004288382,
          0.9471130845989326,
          -0.7811646023115473,
          -0.4508891064134381,
          0.402968701853287,
          0.26988323235132583,
          0.29760155486874007,
          -0.5855154986981775,
          1.5665290787977386,
          -0.10604187433546194,
          1.7542538227020912,
          -0.4194429282036894,
          -0.6986056790450845,
          1.1653041671491604,
          0.7805924904980847,
          0.7078288402890757,
          0.7628913203145052,
          1.0038172992288839,
          -0.5993951364247309,
          -0.835625897075209,
          1.0250317477702606,
          -0.16680206921106913,
          0.5193460355361813,
          -0.3760153715147701,
          -0.09048636808925331,
          0.26840034393654744,
          -0.8752140619894638,
          1.2434346657594744,
          -1.040862850259558,
          -0.08318030099812591,
          1.1262077248215225,
          0.19091323327763102,
          -1.5581479965062561,
          1.5971093964125844,
          -1.4402128536648402,
          -1.3956727151928396,
          1.1499635991459776,
          -0.09614943989750462,
          0.7487131649604577,
          -1.859833599541245,
          -0.9682080674311809,
          -0.8083895310134205,
          0.07201517625696108,
          0.7003724874308773,
          0.3603434078366872,
          0.2927914903976886,
          -0.7190722328005713,
          -1.7126127758544523,
          -1.0089623624439557,
          -0.6332747090638846,
          -0.8859839233149006,
          0.3559550339077135,
          -3.060786815176108,
          0.0255005372731153,
          -1.16745831455643,
          -0.8771907956407784,
          1.2523862232883565,
          0.889884163871847,
          0.26199921668687814,
          -2.320689529863178,
          -1.0508154456053262,
          -0.36819100118589093,
          -2.52189205985639,
          -0.4081792384634467,
          -0.5715287779757289,
          -1.154308594072173,
          -0.1014768864365199,
          0.9034333621414394,
          0.18704522998111542,
          -0.770687484163319,
          1.5800506524826317,
          -2.0021988373340114,
          0.04406612466476638,
          0.3821163996133508,
          0.5646937296566823,
          -0.22207501230812823,
          -0.21342804668328857,
          -0.23999683873682087
         ],
         "xaxis": "x14",
         "y": [
          -2.882928743561441,
          0.34844846725286066,
          1.2680257646880417,
          2.6158951835942448,
          -0.08666633264915499,
          0.6855126890217901,
          0.9673967695631298,
          -0.6661245750975666,
          -1.5926703284052073,
          -0.8379040920672681,
          -0.37570499245518674,
          -0.8371811965354067,
          -0.5098065928461315,
          0.1372469396536534,
          -0.6471083702863741,
          0.8046279866565285,
          -0.24130185170022783,
          -0.32632814181417097,
          -0.15354271935767372,
          -1.4439112915696954,
          0.6246962871267743,
          0.12432204950512159,
          1.6752929976667723,
          -0.2844432337393085,
          -1.343752758520758,
          0.1301416109711241,
          -0.6331050257489115,
          0.9518781871258761,
          0.7249514840301362,
          0.9101900639114405,
          1.2780574533758824,
          1.802348479945691,
          -0.31614820190356674,
          0.36773415100197077,
          -0.3908212366744393,
          -1.2935782038191448,
          0.05885575458926745,
          0.6950254647416754,
          0.3389537521370748,
          0.9123551822614718,
          0.6892369236633751,
          -0.49268785751272814,
          -1.3087763952309324,
          0.08758532549130894,
          0.4963918755186365,
          0.5872903488418483,
          0.13358063913681995,
          -0.6795571557063222,
          0.33591033706240725,
          -0.8744115193624418,
          0.1929363874465534,
          -0.8895244302940438,
          0.11690218778925603,
          -0.9637877846107626,
          0.2667924221703283,
          1.0541280312229273,
          0.5383199828563591,
          -0.5637487029043333,
          0.12495848178419726,
          -2.436259573590457,
          0.24140795366764298,
          -0.3360656488349088,
          -1.1201761256188392,
          0.2605197525489586,
          1.345908878127147,
          0.7445965881250635,
          -1.33426054511959,
          1.1476625537676224,
          0.01088312706030191,
          0.04395772829126626,
          -1.7562065311579718,
          1.4191323089484646,
          0.8010647667932251,
          0.6521378374268157,
          0.8045698013063193,
          -0.46743041772942134,
          -2.264670130265404,
          0.31279554598588744,
          0.4663204805144947,
          -1.1473863662551063,
          -0.447218095571166,
          -0.5262649784955559,
          0.22835004708314383,
          1.3515406939461974,
          -1.2568821953431548,
          -0.2791161614202711,
          -0.3013722862007754,
          -1.2591808777692868,
          -0.9608444919160927,
          0.11161661644196776,
          -0.24030404938264227,
          0.1291426942326392,
          0.14407473798474776,
          0.35458665833707625,
          -0.17211213011128082,
          0.37039146193315603,
          2.003557075920957,
          0.51786487390019,
          1.8897531118991615,
          0.2924227340416826
         ],
         "yaxis": "y14"
        },
        {
         "line": {
          "color": "rgba(128, 128, 128, 1.0)",
          "dash": "solid",
          "shape": "linear",
          "width": 1.3
         },
         "marker": {
          "size": 2,
          "symbol": "circle"
         },
         "mode": "markers",
         "name": "D",
         "text": "",
         "type": "scatter",
         "x": [
          -0.08852422168968099,
          1.072484492537743,
          -0.28306527036306206,
          1.1143792172744111,
          -0.15324228434410764,
          -0.6884612580246313,
          -0.17421320917193495,
          -0.206459969894162,
          -0.1551998524418452,
          -1.594549359201786,
          0.12962482481356008,
          1.4125497278289871,
          2.0280801805745674,
          -0.4867125065674324,
          0.8687333918268887,
          1.0738998682842913,
          0.014796025537450566,
          -0.260435340815994,
          0.9164520451900645,
          -0.1807166453737971,
          -0.21603513631778892,
          -0.005133521724726195,
          -0.26807554679017515,
          -1.6226518840890563,
          1.23843653101688,
          -1.7358737070798764,
          -0.9650342459233452,
          1.07954874339853,
          -1.1740575297045988,
          1.240629856557279,
          -1.5227213081489694,
          -1.2981210653778195,
          0.38811634858265204,
          -1.5572179151187917,
          -0.4808710510184642,
          1.4254411136895513,
          -0.20626030476631396,
          -0.29572646205138625,
          -0.5287062751802881,
          1.668518809610592,
          -0.42847759957627374,
          -0.4436926481063419,
          1.1876194866796395,
          0.7927461345390285,
          2.42697799320039,
          1.8174587405742009,
          -0.8487636678579801,
          -0.21676116335648146,
          -0.8102531223843233,
          -0.6964877204988207,
          0.9714541173134353,
          -2.1313853402612164,
          -0.12886133592566965,
          1.1812208450998414,
          0.9608577388996173,
          -0.3746944397459756,
          0.33832625566752994,
          -0.9143658978339623,
          0.2391931007286504,
          -0.08818106379294745,
          2.443628091937669,
          -0.432638888593655,
          1.7518255385227397,
          -1.324697644112153,
          -2.37499689910705,
          -0.8241478699748068,
          -2.1046384315654043,
          -1.7714014936538525,
          -0.6628237039477233,
          0.545682701302367,
          -0.4937891517904503,
          -0.5876593317921288,
          1.147240939829258,
          -0.9065394655681176,
          -0.05186145685783981,
          0.013860428477771624,
          0.3036257283642649,
          0.33972234371061893,
          -0.002180358941292891,
          1.527465343299987,
          1.4653414245067913,
          -0.1354298427521185,
          -0.8627680102831661,
          0.4601472626886944,
          0.6751503853002964,
          0.16243678416398835,
          1.3300400022112162,
          0.06016429893458129,
          -1.502290213322178,
          -0.39660899097354996,
          0.6096994741412444,
          -0.6706998825275535,
          -1.2764029435901119,
          0.7343156439531086,
          -0.09146463762034475,
          -1.48059886806984,
          -0.7698558339018088,
          1.156836520036784,
          -0.4500676557898651,
          -0.2259957121405176
         ],
         "xaxis": "x15",
         "y": [
          -2.882928743561441,
          0.34844846725286066,
          1.2680257646880417,
          2.6158951835942448,
          -0.08666633264915499,
          0.6855126890217901,
          0.9673967695631298,
          -0.6661245750975666,
          -1.5926703284052073,
          -0.8379040920672681,
          -0.37570499245518674,
          -0.8371811965354067,
          -0.5098065928461315,
          0.1372469396536534,
          -0.6471083702863741,
          0.8046279866565285,
          -0.24130185170022783,
          -0.32632814181417097,
          -0.15354271935767372,
          -1.4439112915696954,
          0.6246962871267743,
          0.12432204950512159,
          1.6752929976667723,
          -0.2844432337393085,
          -1.343752758520758,
          0.1301416109711241,
          -0.6331050257489115,
          0.9518781871258761,
          0.7249514840301362,
          0.9101900639114405,
          1.2780574533758824,
          1.802348479945691,
          -0.31614820190356674,
          0.36773415100197077,
          -0.3908212366744393,
          -1.2935782038191448,
          0.05885575458926745,
          0.6950254647416754,
          0.3389537521370748,
          0.9123551822614718,
          0.6892369236633751,
          -0.49268785751272814,
          -1.3087763952309324,
          0.08758532549130894,
          0.4963918755186365,
          0.5872903488418483,
          0.13358063913681995,
          -0.6795571557063222,
          0.33591033706240725,
          -0.8744115193624418,
          0.1929363874465534,
          -0.8895244302940438,
          0.11690218778925603,
          -0.9637877846107626,
          0.2667924221703283,
          1.0541280312229273,
          0.5383199828563591,
          -0.5637487029043333,
          0.12495848178419726,
          -2.436259573590457,
          0.24140795366764298,
          -0.3360656488349088,
          -1.1201761256188392,
          0.2605197525489586,
          1.345908878127147,
          0.7445965881250635,
          -1.33426054511959,
          1.1476625537676224,
          0.01088312706030191,
          0.04395772829126626,
          -1.7562065311579718,
          1.4191323089484646,
          0.8010647667932251,
          0.6521378374268157,
          0.8045698013063193,
          -0.46743041772942134,
          -2.264670130265404,
          0.31279554598588744,
          0.4663204805144947,
          -1.1473863662551063,
          -0.447218095571166,
          -0.5262649784955559,
          0.22835004708314383,
          1.3515406939461974,
          -1.2568821953431548,
          -0.2791161614202711,
          -0.3013722862007754,
          -1.2591808777692868,
          -0.9608444919160927,
          0.11161661644196776,
          -0.24030404938264227,
          0.1291426942326392,
          0.14407473798474776,
          0.35458665833707625,
          -0.17211213011128082,
          0.37039146193315603,
          2.003557075920957,
          0.51786487390019,
          1.8897531118991615,
          0.2924227340416826
         ],
         "yaxis": "y15"
        },
        {
         "histfunc": "count",
         "histnorm": "",
         "marker": {
          "color": "rgba(128, 0, 128, 1.0)",
          "line": {
           "color": "#4D5663",
           "width": 1.3
          }
         },
         "name": "D",
         "nbinsx": 10,
         "opacity": 0.8,
         "orientation": "v",
         "type": "histogram",
         "x": [
          -2.882928743561441,
          0.34844846725286066,
          1.2680257646880417,
          2.6158951835942448,
          -0.08666633264915499,
          0.6855126890217901,
          0.9673967695631298,
          -0.6661245750975666,
          -1.5926703284052073,
          -0.8379040920672681,
          -0.37570499245518674,
          -0.8371811965354067,
          -0.5098065928461315,
          0.1372469396536534,
          -0.6471083702863741,
          0.8046279866565285,
          -0.24130185170022783,
          -0.32632814181417097,
          -0.15354271935767372,
          -1.4439112915696954,
          0.6246962871267743,
          0.12432204950512159,
          1.6752929976667723,
          -0.2844432337393085,
          -1.343752758520758,
          0.1301416109711241,
          -0.6331050257489115,
          0.9518781871258761,
          0.7249514840301362,
          0.9101900639114405,
          1.2780574533758824,
          1.802348479945691,
          -0.31614820190356674,
          0.36773415100197077,
          -0.3908212366744393,
          -1.2935782038191448,
          0.05885575458926745,
          0.6950254647416754,
          0.3389537521370748,
          0.9123551822614718,
          0.6892369236633751,
          -0.49268785751272814,
          -1.3087763952309324,
          0.08758532549130894,
          0.4963918755186365,
          0.5872903488418483,
          0.13358063913681995,
          -0.6795571557063222,
          0.33591033706240725,
          -0.8744115193624418,
          0.1929363874465534,
          -0.8895244302940438,
          0.11690218778925603,
          -0.9637877846107626,
          0.2667924221703283,
          1.0541280312229273,
          0.5383199828563591,
          -0.5637487029043333,
          0.12495848178419726,
          -2.436259573590457,
          0.24140795366764298,
          -0.3360656488349088,
          -1.1201761256188392,
          0.2605197525489586,
          1.345908878127147,
          0.7445965881250635,
          -1.33426054511959,
          1.1476625537676224,
          0.01088312706030191,
          0.04395772829126626,
          -1.7562065311579718,
          1.4191323089484646,
          0.8010647667932251,
          0.6521378374268157,
          0.8045698013063193,
          -0.46743041772942134,
          -2.264670130265404,
          0.31279554598588744,
          0.4663204805144947,
          -1.1473863662551063,
          -0.447218095571166,
          -0.5262649784955559,
          0.22835004708314383,
          1.3515406939461974,
          -1.2568821953431548,
          -0.2791161614202711,
          -0.3013722862007754,
          -1.2591808777692868,
          -0.9608444919160927,
          0.11161661644196776,
          -0.24030404938264227,
          0.1291426942326392,
          0.14407473798474776,
          0.35458665833707625,
          -0.17211213011128082,
          0.37039146193315603,
          2.003557075920957,
          0.51786487390019,
          1.8897531118991615,
          0.2924227340416826
         ],
         "xaxis": "x16",
         "yaxis": "y16"
        }
       ],
       "layout": {
        "bargap": 0.02,
        "legend": {
         "bgcolor": "#F5F6F9",
         "font": {
          "color": "#4D5663"
         }
        },
        "paper_bgcolor": "#F5F6F9",
        "plot_bgcolor": "#F5F6F9",
        "showlegend": false,
        "template": {
         "data": {
          "bar": [
           {
            "error_x": {
             "color": "#2a3f5f"
            },
            "error_y": {
             "color": "#2a3f5f"
            },
            "marker": {
             "line": {
              "color": "#E5ECF6",
              "width": 0.5
             },
             "pattern": {
              "fillmode": "overlay",
              "size": 10,
              "solidity": 0.2
             }
            },
            "type": "bar"
           }
          ],
          "barpolar": [
           {
            "marker": {
             "line": {
              "color": "#E5ECF6",
              "width": 0.5
             },
             "pattern": {
              "fillmode": "overlay",
              "size": 10,
              "solidity": 0.2
             }
            },
            "type": "barpolar"
           }
          ],
          "carpet": [
           {
            "aaxis": {
             "endlinecolor": "#2a3f5f",
             "gridcolor": "white",
             "linecolor": "white",
             "minorgridcolor": "white",
             "startlinecolor": "#2a3f5f"
            },
            "baxis": {
             "endlinecolor": "#2a3f5f",
             "gridcolor": "white",
             "linecolor": "white",
             "minorgridcolor": "white",
             "startlinecolor": "#2a3f5f"
            },
            "type": "carpet"
           }
          ],
          "choropleth": [
           {
            "colorbar": {
             "outlinewidth": 0,
             "ticks": ""
            },
            "type": "choropleth"
           }
          ],
          "contour": [
           {
            "colorbar": {
             "outlinewidth": 0,
             "ticks": ""
            },
            "colorscale": [
             [
              0,
              "#0d0887"
             ],
             [
              0.1111111111111111,
              "#46039f"
             ],
             [
              0.2222222222222222,
              "#7201a8"
             ],
             [
              0.3333333333333333,
              "#9c179e"
             ],
             [
              0.4444444444444444,
              "#bd3786"
             ],
             [
              0.5555555555555556,
              "#d8576b"
             ],
             [
              0.6666666666666666,
              "#ed7953"
             ],
             [
              0.7777777777777778,
              "#fb9f3a"
             ],
             [
              0.8888888888888888,
              "#fdca26"
             ],
             [
              1,
              "#f0f921"
             ]
            ],
            "type": "contour"
           }
          ],
          "contourcarpet": [
           {
            "colorbar": {
             "outlinewidth": 0,
             "ticks": ""
            },
            "type": "contourcarpet"
           }
          ],
          "heatmap": [
           {
            "colorbar": {
             "outlinewidth": 0,
             "ticks": ""
            },
            "colorscale": [
             [
              0,
              "#0d0887"
             ],
             [
              0.1111111111111111,
              "#46039f"
             ],
             [
              0.2222222222222222,
              "#7201a8"
             ],
             [
              0.3333333333333333,
              "#9c179e"
             ],
             [
              0.4444444444444444,
              "#bd3786"
             ],
             [
              0.5555555555555556,
              "#d8576b"
             ],
             [
              0.6666666666666666,
              "#ed7953"
             ],
             [
              0.7777777777777778,
              "#fb9f3a"
             ],
             [
              0.8888888888888888,
              "#fdca26"
             ],
             [
              1,
              "#f0f921"
             ]
            ],
            "type": "heatmap"
           }
          ],
          "heatmapgl": [
           {
            "colorbar": {
             "outlinewidth": 0,
             "ticks": ""
            },
            "colorscale": [
             [
              0,
              "#0d0887"
             ],
             [
              0.1111111111111111,
              "#46039f"
             ],
             [
              0.2222222222222222,
              "#7201a8"
             ],
             [
              0.3333333333333333,
              "#9c179e"
             ],
             [
              0.4444444444444444,
              "#bd3786"
             ],
             [
              0.5555555555555556,
              "#d8576b"
             ],
             [
              0.6666666666666666,
              "#ed7953"
             ],
             [
              0.7777777777777778,
              "#fb9f3a"
             ],
             [
              0.8888888888888888,
              "#fdca26"
             ],
             [
              1,
              "#f0f921"
             ]
            ],
            "type": "heatmapgl"
           }
          ],
          "histogram": [
           {
            "marker": {
             "pattern": {
              "fillmode": "overlay",
              "size": 10,
              "solidity": 0.2
             }
            },
            "type": "histogram"
           }
          ],
          "histogram2d": [
           {
            "colorbar": {
             "outlinewidth": 0,
             "ticks": ""
            },
            "colorscale": [
             [
              0,
              "#0d0887"
             ],
             [
              0.1111111111111111,
              "#46039f"
             ],
             [
              0.2222222222222222,
              "#7201a8"
             ],
             [
              0.3333333333333333,
              "#9c179e"
             ],
             [
              0.4444444444444444,
              "#bd3786"
             ],
             [
              0.5555555555555556,
              "#d8576b"
             ],
             [
              0.6666666666666666,
              "#ed7953"
             ],
             [
              0.7777777777777778,
              "#fb9f3a"
             ],
             [
              0.8888888888888888,
              "#fdca26"
             ],
             [
              1,
              "#f0f921"
             ]
            ],
            "type": "histogram2d"
           }
          ],
          "histogram2dcontour": [
           {
            "colorbar": {
             "outlinewidth": 0,
             "ticks": ""
            },
            "colorscale": [
             [
              0,
              "#0d0887"
             ],
             [
              0.1111111111111111,
              "#46039f"
             ],
             [
              0.2222222222222222,
              "#7201a8"
             ],
             [
              0.3333333333333333,
              "#9c179e"
             ],
             [
              0.4444444444444444,
              "#bd3786"
             ],
             [
              0.5555555555555556,
              "#d8576b"
             ],
             [
              0.6666666666666666,
              "#ed7953"
             ],
             [
              0.7777777777777778,
              "#fb9f3a"
             ],
             [
              0.8888888888888888,
              "#fdca26"
             ],
             [
              1,
              "#f0f921"
             ]
            ],
            "type": "histogram2dcontour"
           }
          ],
          "mesh3d": [
           {
            "colorbar": {
             "outlinewidth": 0,
             "ticks": ""
            },
            "type": "mesh3d"
           }
          ],
          "parcoords": [
           {
            "line": {
             "colorbar": {
              "outlinewidth": 0,
              "ticks": ""
             }
            },
            "type": "parcoords"
           }
          ],
          "pie": [
           {
            "automargin": true,
            "type": "pie"
           }
          ],
          "scatter": [
           {
            "marker": {
             "colorbar": {
              "outlinewidth": 0,
              "ticks": ""
             }
            },
            "type": "scatter"
           }
          ],
          "scatter3d": [
           {
            "line": {
             "colorbar": {
              "outlinewidth": 0,
              "ticks": ""
             }
            },
            "marker": {
             "colorbar": {
              "outlinewidth": 0,
              "ticks": ""
             }
            },
            "type": "scatter3d"
           }
          ],
          "scattercarpet": [
           {
            "marker": {
             "colorbar": {
              "outlinewidth": 0,
              "ticks": ""
             }
            },
            "type": "scattercarpet"
           }
          ],
          "scattergeo": [
           {
            "marker": {
             "colorbar": {
              "outlinewidth": 0,
              "ticks": ""
             }
            },
            "type": "scattergeo"
           }
          ],
          "scattergl": [
           {
            "marker": {
             "colorbar": {
              "outlinewidth": 0,
              "ticks": ""
             }
            },
            "type": "scattergl"
           }
          ],
          "scattermapbox": [
           {
            "marker": {
             "colorbar": {
              "outlinewidth": 0,
              "ticks": ""
             }
            },
            "type": "scattermapbox"
           }
          ],
          "scatterpolar": [
           {
            "marker": {
             "colorbar": {
              "outlinewidth": 0,
              "ticks": ""
             }
            },
            "type": "scatterpolar"
           }
          ],
          "scatterpolargl": [
           {
            "marker": {
             "colorbar": {
              "outlinewidth": 0,
              "ticks": ""
             }
            },
            "type": "scatterpolargl"
           }
          ],
          "scatterternary": [
           {
            "marker": {
             "colorbar": {
              "outlinewidth": 0,
              "ticks": ""
             }
            },
            "type": "scatterternary"
           }
          ],
          "surface": [
           {
            "colorbar": {
             "outlinewidth": 0,
             "ticks": ""
            },
            "colorscale": [
             [
              0,
              "#0d0887"
             ],
             [
              0.1111111111111111,
              "#46039f"
             ],
             [
              0.2222222222222222,
              "#7201a8"
             ],
             [
              0.3333333333333333,
              "#9c179e"
             ],
             [
              0.4444444444444444,
              "#bd3786"
             ],
             [
              0.5555555555555556,
              "#d8576b"
             ],
             [
              0.6666666666666666,
              "#ed7953"
             ],
             [
              0.7777777777777778,
              "#fb9f3a"
             ],
             [
              0.8888888888888888,
              "#fdca26"
             ],
             [
              1,
              "#f0f921"
             ]
            ],
            "type": "surface"
           }
          ],
          "table": [
           {
            "cells": {
             "fill": {
              "color": "#EBF0F8"
             },
             "line": {
              "color": "white"
             }
            },
            "header": {
             "fill": {
              "color": "#C8D4E3"
             },
             "line": {
              "color": "white"
             }
            },
            "type": "table"
           }
          ]
         },
         "layout": {
          "annotationdefaults": {
           "arrowcolor": "#2a3f5f",
           "arrowhead": 0,
           "arrowwidth": 1
          },
          "autotypenumbers": "strict",
          "coloraxis": {
           "colorbar": {
            "outlinewidth": 0,
            "ticks": ""
           }
          },
          "colorscale": {
           "diverging": [
            [
             0,
             "#8e0152"
            ],
            [
             0.1,
             "#c51b7d"
            ],
            [
             0.2,
             "#de77ae"
            ],
            [
             0.3,
             "#f1b6da"
            ],
            [
             0.4,
             "#fde0ef"
            ],
            [
             0.5,
             "#f7f7f7"
            ],
            [
             0.6,
             "#e6f5d0"
            ],
            [
             0.7,
             "#b8e186"
            ],
            [
             0.8,
             "#7fbc41"
            ],
            [
             0.9,
             "#4d9221"
            ],
            [
             1,
             "#276419"
            ]
           ],
           "sequential": [
            [
             0,
             "#0d0887"
            ],
            [
             0.1111111111111111,
             "#46039f"
            ],
            [
             0.2222222222222222,
             "#7201a8"
            ],
            [
             0.3333333333333333,
             "#9c179e"
            ],
            [
             0.4444444444444444,
             "#bd3786"
            ],
            [
             0.5555555555555556,
             "#d8576b"
            ],
            [
             0.6666666666666666,
             "#ed7953"
            ],
            [
             0.7777777777777778,
             "#fb9f3a"
            ],
            [
             0.8888888888888888,
             "#fdca26"
            ],
            [
             1,
             "#f0f921"
            ]
           ],
           "sequentialminus": [
            [
             0,
             "#0d0887"
            ],
            [
             0.1111111111111111,
             "#46039f"
            ],
            [
             0.2222222222222222,
             "#7201a8"
            ],
            [
             0.3333333333333333,
             "#9c179e"
            ],
            [
             0.4444444444444444,
             "#bd3786"
            ],
            [
             0.5555555555555556,
             "#d8576b"
            ],
            [
             0.6666666666666666,
             "#ed7953"
            ],
            [
             0.7777777777777778,
             "#fb9f3a"
            ],
            [
             0.8888888888888888,
             "#fdca26"
            ],
            [
             1,
             "#f0f921"
            ]
           ]
          },
          "colorway": [
           "#636efa",
           "#EF553B",
           "#00cc96",
           "#ab63fa",
           "#FFA15A",
           "#19d3f3",
           "#FF6692",
           "#B6E880",
           "#FF97FF",
           "#FECB52"
          ],
          "font": {
           "color": "#2a3f5f"
          },
          "geo": {
           "bgcolor": "white",
           "lakecolor": "white",
           "landcolor": "#E5ECF6",
           "showlakes": true,
           "showland": true,
           "subunitcolor": "white"
          },
          "hoverlabel": {
           "align": "left"
          },
          "hovermode": "closest",
          "mapbox": {
           "style": "light"
          },
          "paper_bgcolor": "white",
          "plot_bgcolor": "#E5ECF6",
          "polar": {
           "angularaxis": {
            "gridcolor": "white",
            "linecolor": "white",
            "ticks": ""
           },
           "bgcolor": "#E5ECF6",
           "radialaxis": {
            "gridcolor": "white",
            "linecolor": "white",
            "ticks": ""
           }
          },
          "scene": {
           "xaxis": {
            "backgroundcolor": "#E5ECF6",
            "gridcolor": "white",
            "gridwidth": 2,
            "linecolor": "white",
            "showbackground": true,
            "ticks": "",
            "zerolinecolor": "white"
           },
           "yaxis": {
            "backgroundcolor": "#E5ECF6",
            "gridcolor": "white",
            "gridwidth": 2,
            "linecolor": "white",
            "showbackground": true,
            "ticks": "",
            "zerolinecolor": "white"
           },
           "zaxis": {
            "backgroundcolor": "#E5ECF6",
            "gridcolor": "white",
            "gridwidth": 2,
            "linecolor": "white",
            "showbackground": true,
            "ticks": "",
            "zerolinecolor": "white"
           }
          },
          "shapedefaults": {
           "line": {
            "color": "#2a3f5f"
           }
          },
          "ternary": {
           "aaxis": {
            "gridcolor": "white",
            "linecolor": "white",
            "ticks": ""
           },
           "baxis": {
            "gridcolor": "white",
            "linecolor": "white",
            "ticks": ""
           },
           "bgcolor": "#E5ECF6",
           "caxis": {
            "gridcolor": "white",
            "linecolor": "white",
            "ticks": ""
           }
          },
          "title": {
           "x": 0.05
          },
          "xaxis": {
           "automargin": true,
           "gridcolor": "white",
           "linecolor": "white",
           "ticks": "",
           "title": {
            "standoff": 15
           },
           "zerolinecolor": "white",
           "zerolinewidth": 2
          },
          "yaxis": {
           "automargin": true,
           "gridcolor": "white",
           "linecolor": "white",
           "ticks": "",
           "title": {
            "standoff": 15
           },
           "zerolinecolor": "white",
           "zerolinewidth": 2
          }
         }
        },
        "title": {
         "font": {
          "color": "#4D5663"
         }
        },
        "xaxis": {
         "anchor": "y",
         "domain": [
          0,
          0.2125
         ],
         "gridcolor": "#E1E5ED",
         "showgrid": false,
         "tickfont": {
          "color": "#4D5663"
         },
         "title": {
          "font": {
           "color": "#4D5663"
          },
          "text": ""
         },
         "zerolinecolor": "#E1E5ED"
        },
        "xaxis10": {
         "anchor": "y10",
         "domain": [
          0.2625,
          0.475
         ],
         "gridcolor": "#E1E5ED",
         "showgrid": false,
         "tickfont": {
          "color": "#4D5663"
         },
         "title": {
          "font": {
           "color": "#4D5663"
          },
          "text": ""
         },
         "zerolinecolor": "#E1E5ED"
        },
        "xaxis11": {
         "anchor": "y11",
         "domain": [
          0.525,
          0.7375
         ],
         "gridcolor": "#E1E5ED",
         "showgrid": false,
         "tickfont": {
          "color": "#4D5663"
         },
         "title": {
          "font": {
           "color": "#4D5663"
          },
          "text": ""
         },
         "zerolinecolor": "#E1E5ED"
        },
        "xaxis12": {
         "anchor": "y12",
         "domain": [
          0.7875,
          1
         ],
         "gridcolor": "#E1E5ED",
         "showgrid": false,
         "tickfont": {
          "color": "#4D5663"
         },
         "title": {
          "font": {
           "color": "#4D5663"
          },
          "text": ""
         },
         "zerolinecolor": "#E1E5ED"
        },
        "xaxis13": {
         "anchor": "y13",
         "domain": [
          0,
          0.2125
         ],
         "gridcolor": "#E1E5ED",
         "showgrid": false,
         "tickfont": {
          "color": "#4D5663"
         },
         "title": {
          "font": {
           "color": "#4D5663"
          },
          "text": ""
         },
         "zerolinecolor": "#E1E5ED"
        },
        "xaxis14": {
         "anchor": "y14",
         "domain": [
          0.2625,
          0.475
         ],
         "gridcolor": "#E1E5ED",
         "showgrid": false,
         "tickfont": {
          "color": "#4D5663"
         },
         "title": {
          "font": {
           "color": "#4D5663"
          },
          "text": ""
         },
         "zerolinecolor": "#E1E5ED"
        },
        "xaxis15": {
         "anchor": "y15",
         "domain": [
          0.525,
          0.7375
         ],
         "gridcolor": "#E1E5ED",
         "showgrid": false,
         "tickfont": {
          "color": "#4D5663"
         },
         "title": {
          "font": {
           "color": "#4D5663"
          },
          "text": ""
         },
         "zerolinecolor": "#E1E5ED"
        },
        "xaxis16": {
         "anchor": "y16",
         "domain": [
          0.7875,
          1
         ],
         "gridcolor": "#E1E5ED",
         "showgrid": false,
         "tickfont": {
          "color": "#4D5663"
         },
         "title": {
          "font": {
           "color": "#4D5663"
          },
          "text": ""
         },
         "zerolinecolor": "#E1E5ED"
        },
        "xaxis2": {
         "anchor": "y2",
         "domain": [
          0.2625,
          0.475
         ],
         "gridcolor": "#E1E5ED",
         "showgrid": false,
         "tickfont": {
          "color": "#4D5663"
         },
         "title": {
          "font": {
           "color": "#4D5663"
          },
          "text": ""
         },
         "zerolinecolor": "#E1E5ED"
        },
        "xaxis3": {
         "anchor": "y3",
         "domain": [
          0.525,
          0.7375
         ],
         "gridcolor": "#E1E5ED",
         "showgrid": false,
         "tickfont": {
          "color": "#4D5663"
         },
         "title": {
          "font": {
           "color": "#4D5663"
          },
          "text": ""
         },
         "zerolinecolor": "#E1E5ED"
        },
        "xaxis4": {
         "anchor": "y4",
         "domain": [
          0.7875,
          1
         ],
         "gridcolor": "#E1E5ED",
         "showgrid": false,
         "tickfont": {
          "color": "#4D5663"
         },
         "title": {
          "font": {
           "color": "#4D5663"
          },
          "text": ""
         },
         "zerolinecolor": "#E1E5ED"
        },
        "xaxis5": {
         "anchor": "y5",
         "domain": [
          0,
          0.2125
         ],
         "gridcolor": "#E1E5ED",
         "showgrid": false,
         "tickfont": {
          "color": "#4D5663"
         },
         "title": {
          "font": {
           "color": "#4D5663"
          },
          "text": ""
         },
         "zerolinecolor": "#E1E5ED"
        },
        "xaxis6": {
         "anchor": "y6",
         "domain": [
          0.2625,
          0.475
         ],
         "gridcolor": "#E1E5ED",
         "showgrid": false,
         "tickfont": {
          "color": "#4D5663"
         },
         "title": {
          "font": {
           "color": "#4D5663"
          },
          "text": ""
         },
         "zerolinecolor": "#E1E5ED"
        },
        "xaxis7": {
         "anchor": "y7",
         "domain": [
          0.525,
          0.7375
         ],
         "gridcolor": "#E1E5ED",
         "showgrid": false,
         "tickfont": {
          "color": "#4D5663"
         },
         "title": {
          "font": {
           "color": "#4D5663"
          },
          "text": ""
         },
         "zerolinecolor": "#E1E5ED"
        },
        "xaxis8": {
         "anchor": "y8",
         "domain": [
          0.7875,
          1
         ],
         "gridcolor": "#E1E5ED",
         "showgrid": false,
         "tickfont": {
          "color": "#4D5663"
         },
         "title": {
          "font": {
           "color": "#4D5663"
          },
          "text": ""
         },
         "zerolinecolor": "#E1E5ED"
        },
        "xaxis9": {
         "anchor": "y9",
         "domain": [
          0,
          0.2125
         ],
         "gridcolor": "#E1E5ED",
         "showgrid": false,
         "tickfont": {
          "color": "#4D5663"
         },
         "title": {
          "font": {
           "color": "#4D5663"
          },
          "text": ""
         },
         "zerolinecolor": "#E1E5ED"
        },
        "yaxis": {
         "anchor": "x",
         "domain": [
          0.8025,
          1
         ],
         "gridcolor": "#E1E5ED",
         "showgrid": false,
         "tickfont": {
          "color": "#4D5663"
         },
         "title": {
          "font": {
           "color": "#4D5663"
          },
          "text": ""
         },
         "zerolinecolor": "#E1E5ED"
        },
        "yaxis10": {
         "anchor": "x10",
         "domain": [
          0.2675,
          0.465
         ],
         "gridcolor": "#E1E5ED",
         "showgrid": false,
         "tickfont": {
          "color": "#4D5663"
         },
         "title": {
          "font": {
           "color": "#4D5663"
          },
          "text": ""
         },
         "zerolinecolor": "#E1E5ED"
        },
        "yaxis11": {
         "anchor": "x11",
         "domain": [
          0.2675,
          0.465
         ],
         "gridcolor": "#E1E5ED",
         "showgrid": false,
         "tickfont": {
          "color": "#4D5663"
         },
         "title": {
          "font": {
           "color": "#4D5663"
          },
          "text": ""
         },
         "zerolinecolor": "#E1E5ED"
        },
        "yaxis12": {
         "anchor": "x12",
         "domain": [
          0.2675,
          0.465
         ],
         "gridcolor": "#E1E5ED",
         "showgrid": false,
         "tickfont": {
          "color": "#4D5663"
         },
         "title": {
          "font": {
           "color": "#4D5663"
          },
          "text": ""
         },
         "zerolinecolor": "#E1E5ED"
        },
        "yaxis13": {
         "anchor": "x13",
         "domain": [
          0,
          0.1975
         ],
         "gridcolor": "#E1E5ED",
         "showgrid": false,
         "tickfont": {
          "color": "#4D5663"
         },
         "title": {
          "font": {
           "color": "#4D5663"
          },
          "text": ""
         },
         "zerolinecolor": "#E1E5ED"
        },
        "yaxis14": {
         "anchor": "x14",
         "domain": [
          0,
          0.1975
         ],
         "gridcolor": "#E1E5ED",
         "showgrid": false,
         "tickfont": {
          "color": "#4D5663"
         },
         "title": {
          "font": {
           "color": "#4D5663"
          },
          "text": ""
         },
         "zerolinecolor": "#E1E5ED"
        },
        "yaxis15": {
         "anchor": "x15",
         "domain": [
          0,
          0.1975
         ],
         "gridcolor": "#E1E5ED",
         "showgrid": false,
         "tickfont": {
          "color": "#4D5663"
         },
         "title": {
          "font": {
           "color": "#4D5663"
          },
          "text": ""
         },
         "zerolinecolor": "#E1E5ED"
        },
        "yaxis16": {
         "anchor": "x16",
         "domain": [
          0,
          0.1975
         ],
         "gridcolor": "#E1E5ED",
         "showgrid": false,
         "tickfont": {
          "color": "#4D5663"
         },
         "title": {
          "font": {
           "color": "#4D5663"
          },
          "text": ""
         },
         "zerolinecolor": "#E1E5ED"
        },
        "yaxis2": {
         "anchor": "x2",
         "domain": [
          0.8025,
          1
         ],
         "gridcolor": "#E1E5ED",
         "showgrid": false,
         "tickfont": {
          "color": "#4D5663"
         },
         "title": {
          "font": {
           "color": "#4D5663"
          },
          "text": ""
         },
         "zerolinecolor": "#E1E5ED"
        },
        "yaxis3": {
         "anchor": "x3",
         "domain": [
          0.8025,
          1
         ],
         "gridcolor": "#E1E5ED",
         "showgrid": false,
         "tickfont": {
          "color": "#4D5663"
         },
         "title": {
          "font": {
           "color": "#4D5663"
          },
          "text": ""
         },
         "zerolinecolor": "#E1E5ED"
        },
        "yaxis4": {
         "anchor": "x4",
         "domain": [
          0.8025,
          1
         ],
         "gridcolor": "#E1E5ED",
         "showgrid": false,
         "tickfont": {
          "color": "#4D5663"
         },
         "title": {
          "font": {
           "color": "#4D5663"
          },
          "text": ""
         },
         "zerolinecolor": "#E1E5ED"
        },
        "yaxis5": {
         "anchor": "x5",
         "domain": [
          0.535,
          0.7325
         ],
         "gridcolor": "#E1E5ED",
         "showgrid": false,
         "tickfont": {
          "color": "#4D5663"
         },
         "title": {
          "font": {
           "color": "#4D5663"
          },
          "text": ""
         },
         "zerolinecolor": "#E1E5ED"
        },
        "yaxis6": {
         "anchor": "x6",
         "domain": [
          0.535,
          0.7325
         ],
         "gridcolor": "#E1E5ED",
         "showgrid": false,
         "tickfont": {
          "color": "#4D5663"
         },
         "title": {
          "font": {
           "color": "#4D5663"
          },
          "text": ""
         },
         "zerolinecolor": "#E1E5ED"
        },
        "yaxis7": {
         "anchor": "x7",
         "domain": [
          0.535,
          0.7325
         ],
         "gridcolor": "#E1E5ED",
         "showgrid": false,
         "tickfont": {
          "color": "#4D5663"
         },
         "title": {
          "font": {
           "color": "#4D5663"
          },
          "text": ""
         },
         "zerolinecolor": "#E1E5ED"
        },
        "yaxis8": {
         "anchor": "x8",
         "domain": [
          0.535,
          0.7325
         ],
         "gridcolor": "#E1E5ED",
         "showgrid": false,
         "tickfont": {
          "color": "#4D5663"
         },
         "title": {
          "font": {
           "color": "#4D5663"
          },
          "text": ""
         },
         "zerolinecolor": "#E1E5ED"
        },
        "yaxis9": {
         "anchor": "x9",
         "domain": [
          0.2675,
          0.465
         ],
         "gridcolor": "#E1E5ED",
         "showgrid": false,
         "tickfont": {
          "color": "#4D5663"
         },
         "title": {
          "font": {
           "color": "#4D5663"
          },
          "text": ""
         },
         "zerolinecolor": "#E1E5ED"
        }
       }
      },
      "text/html": [
       "<div>                            <div id=\"dc178229-f37c-4f76-a69b-e5813ef3029b\" class=\"plotly-graph-div\" style=\"height:525px; width:100%;\"></div>            <script type=\"text/javascript\">                require([\"plotly\"], function(Plotly) {                    window.PLOTLYENV=window.PLOTLYENV || {};\n",
       "                    window.PLOTLYENV.BASE_URL='https://plot.ly';                                    if (document.getElementById(\"dc178229-f37c-4f76-a69b-e5813ef3029b\")) {                    Plotly.newPlot(                        \"dc178229-f37c-4f76-a69b-e5813ef3029b\",                        [{\"histfunc\":\"count\",\"histnorm\":\"\",\"marker\":{\"color\":\"rgba(255, 153, 51, 1.0)\",\"line\":{\"color\":\"#4D5663\",\"width\":1.3}},\"name\":\"A\",\"nbinsx\":10,\"opacity\":0.8,\"orientation\":\"v\",\"x\":[0.12063307993793361,-0.9753533300826948,-2.6763579724952478,0.4925482616402867,-1.3155762174963437,-0.9217912477793413,-0.4281288511836951,-0.0741095333382842,-0.3692088265632047,0.35277535814250177,-1.2316540713957096,-0.9813720181548536,-0.47010006603407345,-0.9756382227178094,-0.8715649349132115,-0.8173420824910456,-0.29952269396360204,1.6181557308102659,0.23461995230221297,-0.7300727916207131,-0.3244203020415168,1.3694792193594787,-1.1830985969539412,-0.6695712322864437,0.050300812786321834,1.036031284483547,0.1247331884526296,0.8612593921604814,-0.45189648057547976,-0.898337364398072,-0.6308497962480135,0.2495090999989929,0.611785806237333,-0.6494156327534888,1.0626583005146162,-0.6765149979610443,-0.8629222849427012,-0.4276817021646282,0.6989004308480385,0.6181170042687887,1.0505932458214589,-1.5983442369800216,0.9999863331004377,-0.6102895780299539,0.09795246638112484,-0.4385288540045722,-1.2123774307299526,-0.10202832053379358,1.0446774055922547,-1.5020525330486525,-0.337479573581759,0.19549105352603027,-0.07001083383244362,-0.44993406654047785,0.19182058873532176,-0.6732686807599063,0.6998273146365749,0.43016092779073634,1.600242286482051,0.6205651472739886,-1.2413108957504477,0.4319110171963078,2.079307316368707,0.15878224002809227,-0.4607271915720504,-1.795639248025241,-0.6253697528709673,1.465503456008871,-0.6621669846039352,-0.41103293808023034,1.5749238411721267,-2.1864561795949813,-0.4977776664624909,1.3853988617617512,-0.5129876095526238,-0.897283087487321,2.0986612052958025,-0.05035355878762703,0.03859935212065949,-2.181021788479176,1.1405184610429981,-0.658601302599404,0.5437139638452326,0.5223135093950999,2.3705411280177904,0.28454474083707143,1.4193227372132629,0.6507308823181396,0.1352940000072053,0.6523221390470338,-0.1031777953536062,-0.40840207673124784,0.7014536039135242,1.4910125606499636,-0.5187542098528161,-0.623292885529943,-0.02245147999377042,-0.44467364964177175,1.1375268851232159,0.0007559084429775664],\"xaxis\":\"x\",\"yaxis\":\"y\",\"type\":\"histogram\"},{\"line\":{\"color\":\"rgba(128, 128, 128, 1.0)\",\"dash\":\"solid\",\"shape\":\"linear\",\"width\":1.3},\"marker\":{\"size\":2,\"symbol\":\"circle\"},\"mode\":\"markers\",\"name\":\"A\",\"text\":\"\",\"x\":[-0.522079700885799,-0.31144048082534775,-0.7241472605505641,-1.2300416300420594,-1.8259514993191461,0.08643067332288887,-0.6283151419454001,-1.2443686093861843,-1.505359284046377,-0.2909906645035104,2.4105090318814004,0.006445369976370312,-2.1350903995775115,-0.35677970863274977,2.665735533857099,0.21075148803133292,-1.477096928969249,-1.782247021906371,-0.1045020049367965,-0.8791025450878165,-0.8209774277057524,0.8175418726709417,-0.01252462004288382,0.9471130845989326,-0.7811646023115473,-0.4508891064134381,0.402968701853287,0.26988323235132583,0.29760155486874007,-0.5855154986981775,1.5665290787977386,-0.10604187433546194,1.7542538227020912,-0.4194429282036894,-0.6986056790450845,1.1653041671491604,0.7805924904980847,0.7078288402890757,0.7628913203145052,1.0038172992288839,-0.5993951364247309,-0.835625897075209,1.0250317477702606,-0.16680206921106913,0.5193460355361813,-0.3760153715147701,-0.09048636808925331,0.26840034393654744,-0.8752140619894638,1.2434346657594744,-1.040862850259558,-0.08318030099812591,1.1262077248215225,0.19091323327763102,-1.5581479965062561,1.5971093964125844,-1.4402128536648402,-1.3956727151928396,1.1499635991459776,-0.09614943989750462,0.7487131649604577,-1.859833599541245,-0.9682080674311809,-0.8083895310134205,0.07201517625696108,0.7003724874308773,0.3603434078366872,0.2927914903976886,-0.7190722328005713,-1.7126127758544523,-1.0089623624439557,-0.6332747090638846,-0.8859839233149006,0.3559550339077135,-3.060786815176108,0.0255005372731153,-1.16745831455643,-0.8771907956407784,1.2523862232883565,0.889884163871847,0.26199921668687814,-2.320689529863178,-1.0508154456053262,-0.36819100118589093,-2.52189205985639,-0.4081792384634467,-0.5715287779757289,-1.154308594072173,-0.1014768864365199,0.9034333621414394,0.18704522998111542,-0.770687484163319,1.5800506524826317,-2.0021988373340114,0.04406612466476638,0.3821163996133508,0.5646937296566823,-0.22207501230812823,-0.21342804668328857,-0.23999683873682087],\"xaxis\":\"x2\",\"y\":[0.12063307993793361,-0.9753533300826948,-2.6763579724952478,0.4925482616402867,-1.3155762174963437,-0.9217912477793413,-0.4281288511836951,-0.0741095333382842,-0.3692088265632047,0.35277535814250177,-1.2316540713957096,-0.9813720181548536,-0.47010006603407345,-0.9756382227178094,-0.8715649349132115,-0.8173420824910456,-0.29952269396360204,1.6181557308102659,0.23461995230221297,-0.7300727916207131,-0.3244203020415168,1.3694792193594787,-1.1830985969539412,-0.6695712322864437,0.050300812786321834,1.036031284483547,0.1247331884526296,0.8612593921604814,-0.45189648057547976,-0.898337364398072,-0.6308497962480135,0.2495090999989929,0.611785806237333,-0.6494156327534888,1.0626583005146162,-0.6765149979610443,-0.8629222849427012,-0.4276817021646282,0.6989004308480385,0.6181170042687887,1.0505932458214589,-1.5983442369800216,0.9999863331004377,-0.6102895780299539,0.09795246638112484,-0.4385288540045722,-1.2123774307299526,-0.10202832053379358,1.0446774055922547,-1.5020525330486525,-0.337479573581759,0.19549105352603027,-0.07001083383244362,-0.44993406654047785,0.19182058873532176,-0.6732686807599063,0.6998273146365749,0.43016092779073634,1.600242286482051,0.6205651472739886,-1.2413108957504477,0.4319110171963078,2.079307316368707,0.15878224002809227,-0.4607271915720504,-1.795639248025241,-0.6253697528709673,1.465503456008871,-0.6621669846039352,-0.41103293808023034,1.5749238411721267,-2.1864561795949813,-0.4977776664624909,1.3853988617617512,-0.5129876095526238,-0.897283087487321,2.0986612052958025,-0.05035355878762703,0.03859935212065949,-2.181021788479176,1.1405184610429981,-0.658601302599404,0.5437139638452326,0.5223135093950999,2.3705411280177904,0.28454474083707143,1.4193227372132629,0.6507308823181396,0.1352940000072053,0.6523221390470338,-0.1031777953536062,-0.40840207673124784,0.7014536039135242,1.4910125606499636,-0.5187542098528161,-0.623292885529943,-0.02245147999377042,-0.44467364964177175,1.1375268851232159,0.0007559084429775664],\"yaxis\":\"y2\",\"type\":\"scatter\"},{\"line\":{\"color\":\"rgba(128, 128, 128, 1.0)\",\"dash\":\"solid\",\"shape\":\"linear\",\"width\":1.3},\"marker\":{\"size\":2,\"symbol\":\"circle\"},\"mode\":\"markers\",\"name\":\"A\",\"text\":\"\",\"x\":[-0.08852422168968099,1.072484492537743,-0.28306527036306206,1.1143792172744111,-0.15324228434410764,-0.6884612580246313,-0.17421320917193495,-0.206459969894162,-0.1551998524418452,-1.594549359201786,0.12962482481356008,1.4125497278289871,2.0280801805745674,-0.4867125065674324,0.8687333918268887,1.0738998682842913,0.014796025537450566,-0.260435340815994,0.9164520451900645,-0.1807166453737971,-0.21603513631778892,-0.005133521724726195,-0.26807554679017515,-1.6226518840890563,1.23843653101688,-1.7358737070798764,-0.9650342459233452,1.07954874339853,-1.1740575297045988,1.240629856557279,-1.5227213081489694,-1.2981210653778195,0.38811634858265204,-1.5572179151187917,-0.4808710510184642,1.4254411136895513,-0.20626030476631396,-0.29572646205138625,-0.5287062751802881,1.668518809610592,-0.42847759957627374,-0.4436926481063419,1.1876194866796395,0.7927461345390285,2.42697799320039,1.8174587405742009,-0.8487636678579801,-0.21676116335648146,-0.8102531223843233,-0.6964877204988207,0.9714541173134353,-2.1313853402612164,-0.12886133592566965,1.1812208450998414,0.9608577388996173,-0.3746944397459756,0.33832625566752994,-0.9143658978339623,0.2391931007286504,-0.08818106379294745,2.443628091937669,-0.432638888593655,1.7518255385227397,-1.324697644112153,-2.37499689910705,-0.8241478699748068,-2.1046384315654043,-1.7714014936538525,-0.6628237039477233,0.545682701302367,-0.4937891517904503,-0.5876593317921288,1.147240939829258,-0.9065394655681176,-0.05186145685783981,0.013860428477771624,0.3036257283642649,0.33972234371061893,-0.002180358941292891,1.527465343299987,1.4653414245067913,-0.1354298427521185,-0.8627680102831661,0.4601472626886944,0.6751503853002964,0.16243678416398835,1.3300400022112162,0.06016429893458129,-1.502290213322178,-0.39660899097354996,0.6096994741412444,-0.6706998825275535,-1.2764029435901119,0.7343156439531086,-0.09146463762034475,-1.48059886806984,-0.7698558339018088,1.156836520036784,-0.4500676557898651,-0.2259957121405176],\"xaxis\":\"x3\",\"y\":[0.12063307993793361,-0.9753533300826948,-2.6763579724952478,0.4925482616402867,-1.3155762174963437,-0.9217912477793413,-0.4281288511836951,-0.0741095333382842,-0.3692088265632047,0.35277535814250177,-1.2316540713957096,-0.9813720181548536,-0.47010006603407345,-0.9756382227178094,-0.8715649349132115,-0.8173420824910456,-0.29952269396360204,1.6181557308102659,0.23461995230221297,-0.7300727916207131,-0.3244203020415168,1.3694792193594787,-1.1830985969539412,-0.6695712322864437,0.050300812786321834,1.036031284483547,0.1247331884526296,0.8612593921604814,-0.45189648057547976,-0.898337364398072,-0.6308497962480135,0.2495090999989929,0.611785806237333,-0.6494156327534888,1.0626583005146162,-0.6765149979610443,-0.8629222849427012,-0.4276817021646282,0.6989004308480385,0.6181170042687887,1.0505932458214589,-1.5983442369800216,0.9999863331004377,-0.6102895780299539,0.09795246638112484,-0.4385288540045722,-1.2123774307299526,-0.10202832053379358,1.0446774055922547,-1.5020525330486525,-0.337479573581759,0.19549105352603027,-0.07001083383244362,-0.44993406654047785,0.19182058873532176,-0.6732686807599063,0.6998273146365749,0.43016092779073634,1.600242286482051,0.6205651472739886,-1.2413108957504477,0.4319110171963078,2.079307316368707,0.15878224002809227,-0.4607271915720504,-1.795639248025241,-0.6253697528709673,1.465503456008871,-0.6621669846039352,-0.41103293808023034,1.5749238411721267,-2.1864561795949813,-0.4977776664624909,1.3853988617617512,-0.5129876095526238,-0.897283087487321,2.0986612052958025,-0.05035355878762703,0.03859935212065949,-2.181021788479176,1.1405184610429981,-0.658601302599404,0.5437139638452326,0.5223135093950999,2.3705411280177904,0.28454474083707143,1.4193227372132629,0.6507308823181396,0.1352940000072053,0.6523221390470338,-0.1031777953536062,-0.40840207673124784,0.7014536039135242,1.4910125606499636,-0.5187542098528161,-0.623292885529943,-0.02245147999377042,-0.44467364964177175,1.1375268851232159,0.0007559084429775664],\"yaxis\":\"y3\",\"type\":\"scatter\"},{\"line\":{\"color\":\"rgba(128, 128, 128, 1.0)\",\"dash\":\"solid\",\"shape\":\"linear\",\"width\":1.3},\"marker\":{\"size\":2,\"symbol\":\"circle\"},\"mode\":\"markers\",\"name\":\"A\",\"text\":\"\",\"x\":[-2.882928743561441,0.34844846725286066,1.2680257646880417,2.6158951835942448,-0.08666633264915499,0.6855126890217901,0.9673967695631298,-0.6661245750975666,-1.5926703284052073,-0.8379040920672681,-0.37570499245518674,-0.8371811965354067,-0.5098065928461315,0.1372469396536534,-0.6471083702863741,0.8046279866565285,-0.24130185170022783,-0.32632814181417097,-0.15354271935767372,-1.4439112915696954,0.6246962871267743,0.12432204950512159,1.6752929976667723,-0.2844432337393085,-1.343752758520758,0.1301416109711241,-0.6331050257489115,0.9518781871258761,0.7249514840301362,0.9101900639114405,1.2780574533758824,1.802348479945691,-0.31614820190356674,0.36773415100197077,-0.3908212366744393,-1.2935782038191448,0.05885575458926745,0.6950254647416754,0.3389537521370748,0.9123551822614718,0.6892369236633751,-0.49268785751272814,-1.3087763952309324,0.08758532549130894,0.4963918755186365,0.5872903488418483,0.13358063913681995,-0.6795571557063222,0.33591033706240725,-0.8744115193624418,0.1929363874465534,-0.8895244302940438,0.11690218778925603,-0.9637877846107626,0.2667924221703283,1.0541280312229273,0.5383199828563591,-0.5637487029043333,0.12495848178419726,-2.436259573590457,0.24140795366764298,-0.3360656488349088,-1.1201761256188392,0.2605197525489586,1.345908878127147,0.7445965881250635,-1.33426054511959,1.1476625537676224,0.01088312706030191,0.04395772829126626,-1.7562065311579718,1.4191323089484646,0.8010647667932251,0.6521378374268157,0.8045698013063193,-0.46743041772942134,-2.264670130265404,0.31279554598588744,0.4663204805144947,-1.1473863662551063,-0.447218095571166,-0.5262649784955559,0.22835004708314383,1.3515406939461974,-1.2568821953431548,-0.2791161614202711,-0.3013722862007754,-1.2591808777692868,-0.9608444919160927,0.11161661644196776,-0.24030404938264227,0.1291426942326392,0.14407473798474776,0.35458665833707625,-0.17211213011128082,0.37039146193315603,2.003557075920957,0.51786487390019,1.8897531118991615,0.2924227340416826],\"xaxis\":\"x4\",\"y\":[0.12063307993793361,-0.9753533300826948,-2.6763579724952478,0.4925482616402867,-1.3155762174963437,-0.9217912477793413,-0.4281288511836951,-0.0741095333382842,-0.3692088265632047,0.35277535814250177,-1.2316540713957096,-0.9813720181548536,-0.47010006603407345,-0.9756382227178094,-0.8715649349132115,-0.8173420824910456,-0.29952269396360204,1.6181557308102659,0.23461995230221297,-0.7300727916207131,-0.3244203020415168,1.3694792193594787,-1.1830985969539412,-0.6695712322864437,0.050300812786321834,1.036031284483547,0.1247331884526296,0.8612593921604814,-0.45189648057547976,-0.898337364398072,-0.6308497962480135,0.2495090999989929,0.611785806237333,-0.6494156327534888,1.0626583005146162,-0.6765149979610443,-0.8629222849427012,-0.4276817021646282,0.6989004308480385,0.6181170042687887,1.0505932458214589,-1.5983442369800216,0.9999863331004377,-0.6102895780299539,0.09795246638112484,-0.4385288540045722,-1.2123774307299526,-0.10202832053379358,1.0446774055922547,-1.5020525330486525,-0.337479573581759,0.19549105352603027,-0.07001083383244362,-0.44993406654047785,0.19182058873532176,-0.6732686807599063,0.6998273146365749,0.43016092779073634,1.600242286482051,0.6205651472739886,-1.2413108957504477,0.4319110171963078,2.079307316368707,0.15878224002809227,-0.4607271915720504,-1.795639248025241,-0.6253697528709673,1.465503456008871,-0.6621669846039352,-0.41103293808023034,1.5749238411721267,-2.1864561795949813,-0.4977776664624909,1.3853988617617512,-0.5129876095526238,-0.897283087487321,2.0986612052958025,-0.05035355878762703,0.03859935212065949,-2.181021788479176,1.1405184610429981,-0.658601302599404,0.5437139638452326,0.5223135093950999,2.3705411280177904,0.28454474083707143,1.4193227372132629,0.6507308823181396,0.1352940000072053,0.6523221390470338,-0.1031777953536062,-0.40840207673124784,0.7014536039135242,1.4910125606499636,-0.5187542098528161,-0.623292885529943,-0.02245147999377042,-0.44467364964177175,1.1375268851232159,0.0007559084429775664],\"yaxis\":\"y4\",\"type\":\"scatter\"},{\"line\":{\"color\":\"rgba(128, 128, 128, 1.0)\",\"dash\":\"solid\",\"shape\":\"linear\",\"width\":1.3},\"marker\":{\"size\":2,\"symbol\":\"circle\"},\"mode\":\"markers\",\"name\":\"B\",\"text\":\"\",\"x\":[0.12063307993793361,-0.9753533300826948,-2.6763579724952478,0.4925482616402867,-1.3155762174963437,-0.9217912477793413,-0.4281288511836951,-0.0741095333382842,-0.3692088265632047,0.35277535814250177,-1.2316540713957096,-0.9813720181548536,-0.47010006603407345,-0.9756382227178094,-0.8715649349132115,-0.8173420824910456,-0.29952269396360204,1.6181557308102659,0.23461995230221297,-0.7300727916207131,-0.3244203020415168,1.3694792193594787,-1.1830985969539412,-0.6695712322864437,0.050300812786321834,1.036031284483547,0.1247331884526296,0.8612593921604814,-0.45189648057547976,-0.898337364398072,-0.6308497962480135,0.2495090999989929,0.611785806237333,-0.6494156327534888,1.0626583005146162,-0.6765149979610443,-0.8629222849427012,-0.4276817021646282,0.6989004308480385,0.6181170042687887,1.0505932458214589,-1.5983442369800216,0.9999863331004377,-0.6102895780299539,0.09795246638112484,-0.4385288540045722,-1.2123774307299526,-0.10202832053379358,1.0446774055922547,-1.5020525330486525,-0.337479573581759,0.19549105352603027,-0.07001083383244362,-0.44993406654047785,0.19182058873532176,-0.6732686807599063,0.6998273146365749,0.43016092779073634,1.600242286482051,0.6205651472739886,-1.2413108957504477,0.4319110171963078,2.079307316368707,0.15878224002809227,-0.4607271915720504,-1.795639248025241,-0.6253697528709673,1.465503456008871,-0.6621669846039352,-0.41103293808023034,1.5749238411721267,-2.1864561795949813,-0.4977776664624909,1.3853988617617512,-0.5129876095526238,-0.897283087487321,2.0986612052958025,-0.05035355878762703,0.03859935212065949,-2.181021788479176,1.1405184610429981,-0.658601302599404,0.5437139638452326,0.5223135093950999,2.3705411280177904,0.28454474083707143,1.4193227372132629,0.6507308823181396,0.1352940000072053,0.6523221390470338,-0.1031777953536062,-0.40840207673124784,0.7014536039135242,1.4910125606499636,-0.5187542098528161,-0.623292885529943,-0.02245147999377042,-0.44467364964177175,1.1375268851232159,0.0007559084429775664],\"xaxis\":\"x5\",\"y\":[-0.522079700885799,-0.31144048082534775,-0.7241472605505641,-1.2300416300420594,-1.8259514993191461,0.08643067332288887,-0.6283151419454001,-1.2443686093861843,-1.505359284046377,-0.2909906645035104,2.4105090318814004,0.006445369976370312,-2.1350903995775115,-0.35677970863274977,2.665735533857099,0.21075148803133292,-1.477096928969249,-1.782247021906371,-0.1045020049367965,-0.8791025450878165,-0.8209774277057524,0.8175418726709417,-0.01252462004288382,0.9471130845989326,-0.7811646023115473,-0.4508891064134381,0.402968701853287,0.26988323235132583,0.29760155486874007,-0.5855154986981775,1.5665290787977386,-0.10604187433546194,1.7542538227020912,-0.4194429282036894,-0.6986056790450845,1.1653041671491604,0.7805924904980847,0.7078288402890757,0.7628913203145052,1.0038172992288839,-0.5993951364247309,-0.835625897075209,1.0250317477702606,-0.16680206921106913,0.5193460355361813,-0.3760153715147701,-0.09048636808925331,0.26840034393654744,-0.8752140619894638,1.2434346657594744,-1.040862850259558,-0.08318030099812591,1.1262077248215225,0.19091323327763102,-1.5581479965062561,1.5971093964125844,-1.4402128536648402,-1.3956727151928396,1.1499635991459776,-0.09614943989750462,0.7487131649604577,-1.859833599541245,-0.9682080674311809,-0.8083895310134205,0.07201517625696108,0.7003724874308773,0.3603434078366872,0.2927914903976886,-0.7190722328005713,-1.7126127758544523,-1.0089623624439557,-0.6332747090638846,-0.8859839233149006,0.3559550339077135,-3.060786815176108,0.0255005372731153,-1.16745831455643,-0.8771907956407784,1.2523862232883565,0.889884163871847,0.26199921668687814,-2.320689529863178,-1.0508154456053262,-0.36819100118589093,-2.52189205985639,-0.4081792384634467,-0.5715287779757289,-1.154308594072173,-0.1014768864365199,0.9034333621414394,0.18704522998111542,-0.770687484163319,1.5800506524826317,-2.0021988373340114,0.04406612466476638,0.3821163996133508,0.5646937296566823,-0.22207501230812823,-0.21342804668328857,-0.23999683873682087],\"yaxis\":\"y5\",\"type\":\"scatter\"},{\"histfunc\":\"count\",\"histnorm\":\"\",\"marker\":{\"color\":\"rgba(55, 128, 191, 1.0)\",\"line\":{\"color\":\"#4D5663\",\"width\":1.3}},\"name\":\"B\",\"nbinsx\":10,\"opacity\":0.8,\"orientation\":\"v\",\"x\":[-0.522079700885799,-0.31144048082534775,-0.7241472605505641,-1.2300416300420594,-1.8259514993191461,0.08643067332288887,-0.6283151419454001,-1.2443686093861843,-1.505359284046377,-0.2909906645035104,2.4105090318814004,0.006445369976370312,-2.1350903995775115,-0.35677970863274977,2.665735533857099,0.21075148803133292,-1.477096928969249,-1.782247021906371,-0.1045020049367965,-0.8791025450878165,-0.8209774277057524,0.8175418726709417,-0.01252462004288382,0.9471130845989326,-0.7811646023115473,-0.4508891064134381,0.402968701853287,0.26988323235132583,0.29760155486874007,-0.5855154986981775,1.5665290787977386,-0.10604187433546194,1.7542538227020912,-0.4194429282036894,-0.6986056790450845,1.1653041671491604,0.7805924904980847,0.7078288402890757,0.7628913203145052,1.0038172992288839,-0.5993951364247309,-0.835625897075209,1.0250317477702606,-0.16680206921106913,0.5193460355361813,-0.3760153715147701,-0.09048636808925331,0.26840034393654744,-0.8752140619894638,1.2434346657594744,-1.040862850259558,-0.08318030099812591,1.1262077248215225,0.19091323327763102,-1.5581479965062561,1.5971093964125844,-1.4402128536648402,-1.3956727151928396,1.1499635991459776,-0.09614943989750462,0.7487131649604577,-1.859833599541245,-0.9682080674311809,-0.8083895310134205,0.07201517625696108,0.7003724874308773,0.3603434078366872,0.2927914903976886,-0.7190722328005713,-1.7126127758544523,-1.0089623624439557,-0.6332747090638846,-0.8859839233149006,0.3559550339077135,-3.060786815176108,0.0255005372731153,-1.16745831455643,-0.8771907956407784,1.2523862232883565,0.889884163871847,0.26199921668687814,-2.320689529863178,-1.0508154456053262,-0.36819100118589093,-2.52189205985639,-0.4081792384634467,-0.5715287779757289,-1.154308594072173,-0.1014768864365199,0.9034333621414394,0.18704522998111542,-0.770687484163319,1.5800506524826317,-2.0021988373340114,0.04406612466476638,0.3821163996133508,0.5646937296566823,-0.22207501230812823,-0.21342804668328857,-0.23999683873682087],\"xaxis\":\"x6\",\"yaxis\":\"y6\",\"type\":\"histogram\"},{\"line\":{\"color\":\"rgba(128, 128, 128, 1.0)\",\"dash\":\"solid\",\"shape\":\"linear\",\"width\":1.3},\"marker\":{\"size\":2,\"symbol\":\"circle\"},\"mode\":\"markers\",\"name\":\"B\",\"text\":\"\",\"x\":[-0.08852422168968099,1.072484492537743,-0.28306527036306206,1.1143792172744111,-0.15324228434410764,-0.6884612580246313,-0.17421320917193495,-0.206459969894162,-0.1551998524418452,-1.594549359201786,0.12962482481356008,1.4125497278289871,2.0280801805745674,-0.4867125065674324,0.8687333918268887,1.0738998682842913,0.014796025537450566,-0.260435340815994,0.9164520451900645,-0.1807166453737971,-0.21603513631778892,-0.005133521724726195,-0.26807554679017515,-1.6226518840890563,1.23843653101688,-1.7358737070798764,-0.9650342459233452,1.07954874339853,-1.1740575297045988,1.240629856557279,-1.5227213081489694,-1.2981210653778195,0.38811634858265204,-1.5572179151187917,-0.4808710510184642,1.4254411136895513,-0.20626030476631396,-0.29572646205138625,-0.5287062751802881,1.668518809610592,-0.42847759957627374,-0.4436926481063419,1.1876194866796395,0.7927461345390285,2.42697799320039,1.8174587405742009,-0.8487636678579801,-0.21676116335648146,-0.8102531223843233,-0.6964877204988207,0.9714541173134353,-2.1313853402612164,-0.12886133592566965,1.1812208450998414,0.9608577388996173,-0.3746944397459756,0.33832625566752994,-0.9143658978339623,0.2391931007286504,-0.08818106379294745,2.443628091937669,-0.432638888593655,1.7518255385227397,-1.324697644112153,-2.37499689910705,-0.8241478699748068,-2.1046384315654043,-1.7714014936538525,-0.6628237039477233,0.545682701302367,-0.4937891517904503,-0.5876593317921288,1.147240939829258,-0.9065394655681176,-0.05186145685783981,0.013860428477771624,0.3036257283642649,0.33972234371061893,-0.002180358941292891,1.527465343299987,1.4653414245067913,-0.1354298427521185,-0.8627680102831661,0.4601472626886944,0.6751503853002964,0.16243678416398835,1.3300400022112162,0.06016429893458129,-1.502290213322178,-0.39660899097354996,0.6096994741412444,-0.6706998825275535,-1.2764029435901119,0.7343156439531086,-0.09146463762034475,-1.48059886806984,-0.7698558339018088,1.156836520036784,-0.4500676557898651,-0.2259957121405176],\"xaxis\":\"x7\",\"y\":[-0.522079700885799,-0.31144048082534775,-0.7241472605505641,-1.2300416300420594,-1.8259514993191461,0.08643067332288887,-0.6283151419454001,-1.2443686093861843,-1.505359284046377,-0.2909906645035104,2.4105090318814004,0.006445369976370312,-2.1350903995775115,-0.35677970863274977,2.665735533857099,0.21075148803133292,-1.477096928969249,-1.782247021906371,-0.1045020049367965,-0.8791025450878165,-0.8209774277057524,0.8175418726709417,-0.01252462004288382,0.9471130845989326,-0.7811646023115473,-0.4508891064134381,0.402968701853287,0.26988323235132583,0.29760155486874007,-0.5855154986981775,1.5665290787977386,-0.10604187433546194,1.7542538227020912,-0.4194429282036894,-0.6986056790450845,1.1653041671491604,0.7805924904980847,0.7078288402890757,0.7628913203145052,1.0038172992288839,-0.5993951364247309,-0.835625897075209,1.0250317477702606,-0.16680206921106913,0.5193460355361813,-0.3760153715147701,-0.09048636808925331,0.26840034393654744,-0.8752140619894638,1.2434346657594744,-1.040862850259558,-0.08318030099812591,1.1262077248215225,0.19091323327763102,-1.5581479965062561,1.5971093964125844,-1.4402128536648402,-1.3956727151928396,1.1499635991459776,-0.09614943989750462,0.7487131649604577,-1.859833599541245,-0.9682080674311809,-0.8083895310134205,0.07201517625696108,0.7003724874308773,0.3603434078366872,0.2927914903976886,-0.7190722328005713,-1.7126127758544523,-1.0089623624439557,-0.6332747090638846,-0.8859839233149006,0.3559550339077135,-3.060786815176108,0.0255005372731153,-1.16745831455643,-0.8771907956407784,1.2523862232883565,0.889884163871847,0.26199921668687814,-2.320689529863178,-1.0508154456053262,-0.36819100118589093,-2.52189205985639,-0.4081792384634467,-0.5715287779757289,-1.154308594072173,-0.1014768864365199,0.9034333621414394,0.18704522998111542,-0.770687484163319,1.5800506524826317,-2.0021988373340114,0.04406612466476638,0.3821163996133508,0.5646937296566823,-0.22207501230812823,-0.21342804668328857,-0.23999683873682087],\"yaxis\":\"y7\",\"type\":\"scatter\"},{\"line\":{\"color\":\"rgba(128, 128, 128, 1.0)\",\"dash\":\"solid\",\"shape\":\"linear\",\"width\":1.3},\"marker\":{\"size\":2,\"symbol\":\"circle\"},\"mode\":\"markers\",\"name\":\"B\",\"text\":\"\",\"x\":[-2.882928743561441,0.34844846725286066,1.2680257646880417,2.6158951835942448,-0.08666633264915499,0.6855126890217901,0.9673967695631298,-0.6661245750975666,-1.5926703284052073,-0.8379040920672681,-0.37570499245518674,-0.8371811965354067,-0.5098065928461315,0.1372469396536534,-0.6471083702863741,0.8046279866565285,-0.24130185170022783,-0.32632814181417097,-0.15354271935767372,-1.4439112915696954,0.6246962871267743,0.12432204950512159,1.6752929976667723,-0.2844432337393085,-1.343752758520758,0.1301416109711241,-0.6331050257489115,0.9518781871258761,0.7249514840301362,0.9101900639114405,1.2780574533758824,1.802348479945691,-0.31614820190356674,0.36773415100197077,-0.3908212366744393,-1.2935782038191448,0.05885575458926745,0.6950254647416754,0.3389537521370748,0.9123551822614718,0.6892369236633751,-0.49268785751272814,-1.3087763952309324,0.08758532549130894,0.4963918755186365,0.5872903488418483,0.13358063913681995,-0.6795571557063222,0.33591033706240725,-0.8744115193624418,0.1929363874465534,-0.8895244302940438,0.11690218778925603,-0.9637877846107626,0.2667924221703283,1.0541280312229273,0.5383199828563591,-0.5637487029043333,0.12495848178419726,-2.436259573590457,0.24140795366764298,-0.3360656488349088,-1.1201761256188392,0.2605197525489586,1.345908878127147,0.7445965881250635,-1.33426054511959,1.1476625537676224,0.01088312706030191,0.04395772829126626,-1.7562065311579718,1.4191323089484646,0.8010647667932251,0.6521378374268157,0.8045698013063193,-0.46743041772942134,-2.264670130265404,0.31279554598588744,0.4663204805144947,-1.1473863662551063,-0.447218095571166,-0.5262649784955559,0.22835004708314383,1.3515406939461974,-1.2568821953431548,-0.2791161614202711,-0.3013722862007754,-1.2591808777692868,-0.9608444919160927,0.11161661644196776,-0.24030404938264227,0.1291426942326392,0.14407473798474776,0.35458665833707625,-0.17211213011128082,0.37039146193315603,2.003557075920957,0.51786487390019,1.8897531118991615,0.2924227340416826],\"xaxis\":\"x8\",\"y\":[-0.522079700885799,-0.31144048082534775,-0.7241472605505641,-1.2300416300420594,-1.8259514993191461,0.08643067332288887,-0.6283151419454001,-1.2443686093861843,-1.505359284046377,-0.2909906645035104,2.4105090318814004,0.006445369976370312,-2.1350903995775115,-0.35677970863274977,2.665735533857099,0.21075148803133292,-1.477096928969249,-1.782247021906371,-0.1045020049367965,-0.8791025450878165,-0.8209774277057524,0.8175418726709417,-0.01252462004288382,0.9471130845989326,-0.7811646023115473,-0.4508891064134381,0.402968701853287,0.26988323235132583,0.29760155486874007,-0.5855154986981775,1.5665290787977386,-0.10604187433546194,1.7542538227020912,-0.4194429282036894,-0.6986056790450845,1.1653041671491604,0.7805924904980847,0.7078288402890757,0.7628913203145052,1.0038172992288839,-0.5993951364247309,-0.835625897075209,1.0250317477702606,-0.16680206921106913,0.5193460355361813,-0.3760153715147701,-0.09048636808925331,0.26840034393654744,-0.8752140619894638,1.2434346657594744,-1.040862850259558,-0.08318030099812591,1.1262077248215225,0.19091323327763102,-1.5581479965062561,1.5971093964125844,-1.4402128536648402,-1.3956727151928396,1.1499635991459776,-0.09614943989750462,0.7487131649604577,-1.859833599541245,-0.9682080674311809,-0.8083895310134205,0.07201517625696108,0.7003724874308773,0.3603434078366872,0.2927914903976886,-0.7190722328005713,-1.7126127758544523,-1.0089623624439557,-0.6332747090638846,-0.8859839233149006,0.3559550339077135,-3.060786815176108,0.0255005372731153,-1.16745831455643,-0.8771907956407784,1.2523862232883565,0.889884163871847,0.26199921668687814,-2.320689529863178,-1.0508154456053262,-0.36819100118589093,-2.52189205985639,-0.4081792384634467,-0.5715287779757289,-1.154308594072173,-0.1014768864365199,0.9034333621414394,0.18704522998111542,-0.770687484163319,1.5800506524826317,-2.0021988373340114,0.04406612466476638,0.3821163996133508,0.5646937296566823,-0.22207501230812823,-0.21342804668328857,-0.23999683873682087],\"yaxis\":\"y8\",\"type\":\"scatter\"},{\"line\":{\"color\":\"rgba(128, 128, 128, 1.0)\",\"dash\":\"solid\",\"shape\":\"linear\",\"width\":1.3},\"marker\":{\"size\":2,\"symbol\":\"circle\"},\"mode\":\"markers\",\"name\":\"C\",\"text\":\"\",\"x\":[0.12063307993793361,-0.9753533300826948,-2.6763579724952478,0.4925482616402867,-1.3155762174963437,-0.9217912477793413,-0.4281288511836951,-0.0741095333382842,-0.3692088265632047,0.35277535814250177,-1.2316540713957096,-0.9813720181548536,-0.47010006603407345,-0.9756382227178094,-0.8715649349132115,-0.8173420824910456,-0.29952269396360204,1.6181557308102659,0.23461995230221297,-0.7300727916207131,-0.3244203020415168,1.3694792193594787,-1.1830985969539412,-0.6695712322864437,0.050300812786321834,1.036031284483547,0.1247331884526296,0.8612593921604814,-0.45189648057547976,-0.898337364398072,-0.6308497962480135,0.2495090999989929,0.611785806237333,-0.6494156327534888,1.0626583005146162,-0.6765149979610443,-0.8629222849427012,-0.4276817021646282,0.6989004308480385,0.6181170042687887,1.0505932458214589,-1.5983442369800216,0.9999863331004377,-0.6102895780299539,0.09795246638112484,-0.4385288540045722,-1.2123774307299526,-0.10202832053379358,1.0446774055922547,-1.5020525330486525,-0.337479573581759,0.19549105352603027,-0.07001083383244362,-0.44993406654047785,0.19182058873532176,-0.6732686807599063,0.6998273146365749,0.43016092779073634,1.600242286482051,0.6205651472739886,-1.2413108957504477,0.4319110171963078,2.079307316368707,0.15878224002809227,-0.4607271915720504,-1.795639248025241,-0.6253697528709673,1.465503456008871,-0.6621669846039352,-0.41103293808023034,1.5749238411721267,-2.1864561795949813,-0.4977776664624909,1.3853988617617512,-0.5129876095526238,-0.897283087487321,2.0986612052958025,-0.05035355878762703,0.03859935212065949,-2.181021788479176,1.1405184610429981,-0.658601302599404,0.5437139638452326,0.5223135093950999,2.3705411280177904,0.28454474083707143,1.4193227372132629,0.6507308823181396,0.1352940000072053,0.6523221390470338,-0.1031777953536062,-0.40840207673124784,0.7014536039135242,1.4910125606499636,-0.5187542098528161,-0.623292885529943,-0.02245147999377042,-0.44467364964177175,1.1375268851232159,0.0007559084429775664],\"xaxis\":\"x9\",\"y\":[-0.08852422168968099,1.072484492537743,-0.28306527036306206,1.1143792172744111,-0.15324228434410764,-0.6884612580246313,-0.17421320917193495,-0.206459969894162,-0.1551998524418452,-1.594549359201786,0.12962482481356008,1.4125497278289871,2.0280801805745674,-0.4867125065674324,0.8687333918268887,1.0738998682842913,0.014796025537450566,-0.260435340815994,0.9164520451900645,-0.1807166453737971,-0.21603513631778892,-0.005133521724726195,-0.26807554679017515,-1.6226518840890563,1.23843653101688,-1.7358737070798764,-0.9650342459233452,1.07954874339853,-1.1740575297045988,1.240629856557279,-1.5227213081489694,-1.2981210653778195,0.38811634858265204,-1.5572179151187917,-0.4808710510184642,1.4254411136895513,-0.20626030476631396,-0.29572646205138625,-0.5287062751802881,1.668518809610592,-0.42847759957627374,-0.4436926481063419,1.1876194866796395,0.7927461345390285,2.42697799320039,1.8174587405742009,-0.8487636678579801,-0.21676116335648146,-0.8102531223843233,-0.6964877204988207,0.9714541173134353,-2.1313853402612164,-0.12886133592566965,1.1812208450998414,0.9608577388996173,-0.3746944397459756,0.33832625566752994,-0.9143658978339623,0.2391931007286504,-0.08818106379294745,2.443628091937669,-0.432638888593655,1.7518255385227397,-1.324697644112153,-2.37499689910705,-0.8241478699748068,-2.1046384315654043,-1.7714014936538525,-0.6628237039477233,0.545682701302367,-0.4937891517904503,-0.5876593317921288,1.147240939829258,-0.9065394655681176,-0.05186145685783981,0.013860428477771624,0.3036257283642649,0.33972234371061893,-0.002180358941292891,1.527465343299987,1.4653414245067913,-0.1354298427521185,-0.8627680102831661,0.4601472626886944,0.6751503853002964,0.16243678416398835,1.3300400022112162,0.06016429893458129,-1.502290213322178,-0.39660899097354996,0.6096994741412444,-0.6706998825275535,-1.2764029435901119,0.7343156439531086,-0.09146463762034475,-1.48059886806984,-0.7698558339018088,1.156836520036784,-0.4500676557898651,-0.2259957121405176],\"yaxis\":\"y9\",\"type\":\"scatter\"},{\"line\":{\"color\":\"rgba(128, 128, 128, 1.0)\",\"dash\":\"solid\",\"shape\":\"linear\",\"width\":1.3},\"marker\":{\"size\":2,\"symbol\":\"circle\"},\"mode\":\"markers\",\"name\":\"C\",\"text\":\"\",\"x\":[-0.522079700885799,-0.31144048082534775,-0.7241472605505641,-1.2300416300420594,-1.8259514993191461,0.08643067332288887,-0.6283151419454001,-1.2443686093861843,-1.505359284046377,-0.2909906645035104,2.4105090318814004,0.006445369976370312,-2.1350903995775115,-0.35677970863274977,2.665735533857099,0.21075148803133292,-1.477096928969249,-1.782247021906371,-0.1045020049367965,-0.8791025450878165,-0.8209774277057524,0.8175418726709417,-0.01252462004288382,0.9471130845989326,-0.7811646023115473,-0.4508891064134381,0.402968701853287,0.26988323235132583,0.29760155486874007,-0.5855154986981775,1.5665290787977386,-0.10604187433546194,1.7542538227020912,-0.4194429282036894,-0.6986056790450845,1.1653041671491604,0.7805924904980847,0.7078288402890757,0.7628913203145052,1.0038172992288839,-0.5993951364247309,-0.835625897075209,1.0250317477702606,-0.16680206921106913,0.5193460355361813,-0.3760153715147701,-0.09048636808925331,0.26840034393654744,-0.8752140619894638,1.2434346657594744,-1.040862850259558,-0.08318030099812591,1.1262077248215225,0.19091323327763102,-1.5581479965062561,1.5971093964125844,-1.4402128536648402,-1.3956727151928396,1.1499635991459776,-0.09614943989750462,0.7487131649604577,-1.859833599541245,-0.9682080674311809,-0.8083895310134205,0.07201517625696108,0.7003724874308773,0.3603434078366872,0.2927914903976886,-0.7190722328005713,-1.7126127758544523,-1.0089623624439557,-0.6332747090638846,-0.8859839233149006,0.3559550339077135,-3.060786815176108,0.0255005372731153,-1.16745831455643,-0.8771907956407784,1.2523862232883565,0.889884163871847,0.26199921668687814,-2.320689529863178,-1.0508154456053262,-0.36819100118589093,-2.52189205985639,-0.4081792384634467,-0.5715287779757289,-1.154308594072173,-0.1014768864365199,0.9034333621414394,0.18704522998111542,-0.770687484163319,1.5800506524826317,-2.0021988373340114,0.04406612466476638,0.3821163996133508,0.5646937296566823,-0.22207501230812823,-0.21342804668328857,-0.23999683873682087],\"xaxis\":\"x10\",\"y\":[-0.08852422168968099,1.072484492537743,-0.28306527036306206,1.1143792172744111,-0.15324228434410764,-0.6884612580246313,-0.17421320917193495,-0.206459969894162,-0.1551998524418452,-1.594549359201786,0.12962482481356008,1.4125497278289871,2.0280801805745674,-0.4867125065674324,0.8687333918268887,1.0738998682842913,0.014796025537450566,-0.260435340815994,0.9164520451900645,-0.1807166453737971,-0.21603513631778892,-0.005133521724726195,-0.26807554679017515,-1.6226518840890563,1.23843653101688,-1.7358737070798764,-0.9650342459233452,1.07954874339853,-1.1740575297045988,1.240629856557279,-1.5227213081489694,-1.2981210653778195,0.38811634858265204,-1.5572179151187917,-0.4808710510184642,1.4254411136895513,-0.20626030476631396,-0.29572646205138625,-0.5287062751802881,1.668518809610592,-0.42847759957627374,-0.4436926481063419,1.1876194866796395,0.7927461345390285,2.42697799320039,1.8174587405742009,-0.8487636678579801,-0.21676116335648146,-0.8102531223843233,-0.6964877204988207,0.9714541173134353,-2.1313853402612164,-0.12886133592566965,1.1812208450998414,0.9608577388996173,-0.3746944397459756,0.33832625566752994,-0.9143658978339623,0.2391931007286504,-0.08818106379294745,2.443628091937669,-0.432638888593655,1.7518255385227397,-1.324697644112153,-2.37499689910705,-0.8241478699748068,-2.1046384315654043,-1.7714014936538525,-0.6628237039477233,0.545682701302367,-0.4937891517904503,-0.5876593317921288,1.147240939829258,-0.9065394655681176,-0.05186145685783981,0.013860428477771624,0.3036257283642649,0.33972234371061893,-0.002180358941292891,1.527465343299987,1.4653414245067913,-0.1354298427521185,-0.8627680102831661,0.4601472626886944,0.6751503853002964,0.16243678416398835,1.3300400022112162,0.06016429893458129,-1.502290213322178,-0.39660899097354996,0.6096994741412444,-0.6706998825275535,-1.2764029435901119,0.7343156439531086,-0.09146463762034475,-1.48059886806984,-0.7698558339018088,1.156836520036784,-0.4500676557898651,-0.2259957121405176],\"yaxis\":\"y10\",\"type\":\"scatter\"},{\"histfunc\":\"count\",\"histnorm\":\"\",\"marker\":{\"color\":\"rgba(50, 171, 96, 1.0)\",\"line\":{\"color\":\"#4D5663\",\"width\":1.3}},\"name\":\"C\",\"nbinsx\":10,\"opacity\":0.8,\"orientation\":\"v\",\"x\":[-0.08852422168968099,1.072484492537743,-0.28306527036306206,1.1143792172744111,-0.15324228434410764,-0.6884612580246313,-0.17421320917193495,-0.206459969894162,-0.1551998524418452,-1.594549359201786,0.12962482481356008,1.4125497278289871,2.0280801805745674,-0.4867125065674324,0.8687333918268887,1.0738998682842913,0.014796025537450566,-0.260435340815994,0.9164520451900645,-0.1807166453737971,-0.21603513631778892,-0.005133521724726195,-0.26807554679017515,-1.6226518840890563,1.23843653101688,-1.7358737070798764,-0.9650342459233452,1.07954874339853,-1.1740575297045988,1.240629856557279,-1.5227213081489694,-1.2981210653778195,0.38811634858265204,-1.5572179151187917,-0.4808710510184642,1.4254411136895513,-0.20626030476631396,-0.29572646205138625,-0.5287062751802881,1.668518809610592,-0.42847759957627374,-0.4436926481063419,1.1876194866796395,0.7927461345390285,2.42697799320039,1.8174587405742009,-0.8487636678579801,-0.21676116335648146,-0.8102531223843233,-0.6964877204988207,0.9714541173134353,-2.1313853402612164,-0.12886133592566965,1.1812208450998414,0.9608577388996173,-0.3746944397459756,0.33832625566752994,-0.9143658978339623,0.2391931007286504,-0.08818106379294745,2.443628091937669,-0.432638888593655,1.7518255385227397,-1.324697644112153,-2.37499689910705,-0.8241478699748068,-2.1046384315654043,-1.7714014936538525,-0.6628237039477233,0.545682701302367,-0.4937891517904503,-0.5876593317921288,1.147240939829258,-0.9065394655681176,-0.05186145685783981,0.013860428477771624,0.3036257283642649,0.33972234371061893,-0.002180358941292891,1.527465343299987,1.4653414245067913,-0.1354298427521185,-0.8627680102831661,0.4601472626886944,0.6751503853002964,0.16243678416398835,1.3300400022112162,0.06016429893458129,-1.502290213322178,-0.39660899097354996,0.6096994741412444,-0.6706998825275535,-1.2764029435901119,0.7343156439531086,-0.09146463762034475,-1.48059886806984,-0.7698558339018088,1.156836520036784,-0.4500676557898651,-0.2259957121405176],\"xaxis\":\"x11\",\"yaxis\":\"y11\",\"type\":\"histogram\"},{\"line\":{\"color\":\"rgba(128, 128, 128, 1.0)\",\"dash\":\"solid\",\"shape\":\"linear\",\"width\":1.3},\"marker\":{\"size\":2,\"symbol\":\"circle\"},\"mode\":\"markers\",\"name\":\"C\",\"text\":\"\",\"x\":[-2.882928743561441,0.34844846725286066,1.2680257646880417,2.6158951835942448,-0.08666633264915499,0.6855126890217901,0.9673967695631298,-0.6661245750975666,-1.5926703284052073,-0.8379040920672681,-0.37570499245518674,-0.8371811965354067,-0.5098065928461315,0.1372469396536534,-0.6471083702863741,0.8046279866565285,-0.24130185170022783,-0.32632814181417097,-0.15354271935767372,-1.4439112915696954,0.6246962871267743,0.12432204950512159,1.6752929976667723,-0.2844432337393085,-1.343752758520758,0.1301416109711241,-0.6331050257489115,0.9518781871258761,0.7249514840301362,0.9101900639114405,1.2780574533758824,1.802348479945691,-0.31614820190356674,0.36773415100197077,-0.3908212366744393,-1.2935782038191448,0.05885575458926745,0.6950254647416754,0.3389537521370748,0.9123551822614718,0.6892369236633751,-0.49268785751272814,-1.3087763952309324,0.08758532549130894,0.4963918755186365,0.5872903488418483,0.13358063913681995,-0.6795571557063222,0.33591033706240725,-0.8744115193624418,0.1929363874465534,-0.8895244302940438,0.11690218778925603,-0.9637877846107626,0.2667924221703283,1.0541280312229273,0.5383199828563591,-0.5637487029043333,0.12495848178419726,-2.436259573590457,0.24140795366764298,-0.3360656488349088,-1.1201761256188392,0.2605197525489586,1.345908878127147,0.7445965881250635,-1.33426054511959,1.1476625537676224,0.01088312706030191,0.04395772829126626,-1.7562065311579718,1.4191323089484646,0.8010647667932251,0.6521378374268157,0.8045698013063193,-0.46743041772942134,-2.264670130265404,0.31279554598588744,0.4663204805144947,-1.1473863662551063,-0.447218095571166,-0.5262649784955559,0.22835004708314383,1.3515406939461974,-1.2568821953431548,-0.2791161614202711,-0.3013722862007754,-1.2591808777692868,-0.9608444919160927,0.11161661644196776,-0.24030404938264227,0.1291426942326392,0.14407473798474776,0.35458665833707625,-0.17211213011128082,0.37039146193315603,2.003557075920957,0.51786487390019,1.8897531118991615,0.2924227340416826],\"xaxis\":\"x12\",\"y\":[-0.08852422168968099,1.072484492537743,-0.28306527036306206,1.1143792172744111,-0.15324228434410764,-0.6884612580246313,-0.17421320917193495,-0.206459969894162,-0.1551998524418452,-1.594549359201786,0.12962482481356008,1.4125497278289871,2.0280801805745674,-0.4867125065674324,0.8687333918268887,1.0738998682842913,0.014796025537450566,-0.260435340815994,0.9164520451900645,-0.1807166453737971,-0.21603513631778892,-0.005133521724726195,-0.26807554679017515,-1.6226518840890563,1.23843653101688,-1.7358737070798764,-0.9650342459233452,1.07954874339853,-1.1740575297045988,1.240629856557279,-1.5227213081489694,-1.2981210653778195,0.38811634858265204,-1.5572179151187917,-0.4808710510184642,1.4254411136895513,-0.20626030476631396,-0.29572646205138625,-0.5287062751802881,1.668518809610592,-0.42847759957627374,-0.4436926481063419,1.1876194866796395,0.7927461345390285,2.42697799320039,1.8174587405742009,-0.8487636678579801,-0.21676116335648146,-0.8102531223843233,-0.6964877204988207,0.9714541173134353,-2.1313853402612164,-0.12886133592566965,1.1812208450998414,0.9608577388996173,-0.3746944397459756,0.33832625566752994,-0.9143658978339623,0.2391931007286504,-0.08818106379294745,2.443628091937669,-0.432638888593655,1.7518255385227397,-1.324697644112153,-2.37499689910705,-0.8241478699748068,-2.1046384315654043,-1.7714014936538525,-0.6628237039477233,0.545682701302367,-0.4937891517904503,-0.5876593317921288,1.147240939829258,-0.9065394655681176,-0.05186145685783981,0.013860428477771624,0.3036257283642649,0.33972234371061893,-0.002180358941292891,1.527465343299987,1.4653414245067913,-0.1354298427521185,-0.8627680102831661,0.4601472626886944,0.6751503853002964,0.16243678416398835,1.3300400022112162,0.06016429893458129,-1.502290213322178,-0.39660899097354996,0.6096994741412444,-0.6706998825275535,-1.2764029435901119,0.7343156439531086,-0.09146463762034475,-1.48059886806984,-0.7698558339018088,1.156836520036784,-0.4500676557898651,-0.2259957121405176],\"yaxis\":\"y12\",\"type\":\"scatter\"},{\"line\":{\"color\":\"rgba(128, 128, 128, 1.0)\",\"dash\":\"solid\",\"shape\":\"linear\",\"width\":1.3},\"marker\":{\"size\":2,\"symbol\":\"circle\"},\"mode\":\"markers\",\"name\":\"D\",\"text\":\"\",\"x\":[0.12063307993793361,-0.9753533300826948,-2.6763579724952478,0.4925482616402867,-1.3155762174963437,-0.9217912477793413,-0.4281288511836951,-0.0741095333382842,-0.3692088265632047,0.35277535814250177,-1.2316540713957096,-0.9813720181548536,-0.47010006603407345,-0.9756382227178094,-0.8715649349132115,-0.8173420824910456,-0.29952269396360204,1.6181557308102659,0.23461995230221297,-0.7300727916207131,-0.3244203020415168,1.3694792193594787,-1.1830985969539412,-0.6695712322864437,0.050300812786321834,1.036031284483547,0.1247331884526296,0.8612593921604814,-0.45189648057547976,-0.898337364398072,-0.6308497962480135,0.2495090999989929,0.611785806237333,-0.6494156327534888,1.0626583005146162,-0.6765149979610443,-0.8629222849427012,-0.4276817021646282,0.6989004308480385,0.6181170042687887,1.0505932458214589,-1.5983442369800216,0.9999863331004377,-0.6102895780299539,0.09795246638112484,-0.4385288540045722,-1.2123774307299526,-0.10202832053379358,1.0446774055922547,-1.5020525330486525,-0.337479573581759,0.19549105352603027,-0.07001083383244362,-0.44993406654047785,0.19182058873532176,-0.6732686807599063,0.6998273146365749,0.43016092779073634,1.600242286482051,0.6205651472739886,-1.2413108957504477,0.4319110171963078,2.079307316368707,0.15878224002809227,-0.4607271915720504,-1.795639248025241,-0.6253697528709673,1.465503456008871,-0.6621669846039352,-0.41103293808023034,1.5749238411721267,-2.1864561795949813,-0.4977776664624909,1.3853988617617512,-0.5129876095526238,-0.897283087487321,2.0986612052958025,-0.05035355878762703,0.03859935212065949,-2.181021788479176,1.1405184610429981,-0.658601302599404,0.5437139638452326,0.5223135093950999,2.3705411280177904,0.28454474083707143,1.4193227372132629,0.6507308823181396,0.1352940000072053,0.6523221390470338,-0.1031777953536062,-0.40840207673124784,0.7014536039135242,1.4910125606499636,-0.5187542098528161,-0.623292885529943,-0.02245147999377042,-0.44467364964177175,1.1375268851232159,0.0007559084429775664],\"xaxis\":\"x13\",\"y\":[-2.882928743561441,0.34844846725286066,1.2680257646880417,2.6158951835942448,-0.08666633264915499,0.6855126890217901,0.9673967695631298,-0.6661245750975666,-1.5926703284052073,-0.8379040920672681,-0.37570499245518674,-0.8371811965354067,-0.5098065928461315,0.1372469396536534,-0.6471083702863741,0.8046279866565285,-0.24130185170022783,-0.32632814181417097,-0.15354271935767372,-1.4439112915696954,0.6246962871267743,0.12432204950512159,1.6752929976667723,-0.2844432337393085,-1.343752758520758,0.1301416109711241,-0.6331050257489115,0.9518781871258761,0.7249514840301362,0.9101900639114405,1.2780574533758824,1.802348479945691,-0.31614820190356674,0.36773415100197077,-0.3908212366744393,-1.2935782038191448,0.05885575458926745,0.6950254647416754,0.3389537521370748,0.9123551822614718,0.6892369236633751,-0.49268785751272814,-1.3087763952309324,0.08758532549130894,0.4963918755186365,0.5872903488418483,0.13358063913681995,-0.6795571557063222,0.33591033706240725,-0.8744115193624418,0.1929363874465534,-0.8895244302940438,0.11690218778925603,-0.9637877846107626,0.2667924221703283,1.0541280312229273,0.5383199828563591,-0.5637487029043333,0.12495848178419726,-2.436259573590457,0.24140795366764298,-0.3360656488349088,-1.1201761256188392,0.2605197525489586,1.345908878127147,0.7445965881250635,-1.33426054511959,1.1476625537676224,0.01088312706030191,0.04395772829126626,-1.7562065311579718,1.4191323089484646,0.8010647667932251,0.6521378374268157,0.8045698013063193,-0.46743041772942134,-2.264670130265404,0.31279554598588744,0.4663204805144947,-1.1473863662551063,-0.447218095571166,-0.5262649784955559,0.22835004708314383,1.3515406939461974,-1.2568821953431548,-0.2791161614202711,-0.3013722862007754,-1.2591808777692868,-0.9608444919160927,0.11161661644196776,-0.24030404938264227,0.1291426942326392,0.14407473798474776,0.35458665833707625,-0.17211213011128082,0.37039146193315603,2.003557075920957,0.51786487390019,1.8897531118991615,0.2924227340416826],\"yaxis\":\"y13\",\"type\":\"scatter\"},{\"line\":{\"color\":\"rgba(128, 128, 128, 1.0)\",\"dash\":\"solid\",\"shape\":\"linear\",\"width\":1.3},\"marker\":{\"size\":2,\"symbol\":\"circle\"},\"mode\":\"markers\",\"name\":\"D\",\"text\":\"\",\"x\":[-0.522079700885799,-0.31144048082534775,-0.7241472605505641,-1.2300416300420594,-1.8259514993191461,0.08643067332288887,-0.6283151419454001,-1.2443686093861843,-1.505359284046377,-0.2909906645035104,2.4105090318814004,0.006445369976370312,-2.1350903995775115,-0.35677970863274977,2.665735533857099,0.21075148803133292,-1.477096928969249,-1.782247021906371,-0.1045020049367965,-0.8791025450878165,-0.8209774277057524,0.8175418726709417,-0.01252462004288382,0.9471130845989326,-0.7811646023115473,-0.4508891064134381,0.402968701853287,0.26988323235132583,0.29760155486874007,-0.5855154986981775,1.5665290787977386,-0.10604187433546194,1.7542538227020912,-0.4194429282036894,-0.6986056790450845,1.1653041671491604,0.7805924904980847,0.7078288402890757,0.7628913203145052,1.0038172992288839,-0.5993951364247309,-0.835625897075209,1.0250317477702606,-0.16680206921106913,0.5193460355361813,-0.3760153715147701,-0.09048636808925331,0.26840034393654744,-0.8752140619894638,1.2434346657594744,-1.040862850259558,-0.08318030099812591,1.1262077248215225,0.19091323327763102,-1.5581479965062561,1.5971093964125844,-1.4402128536648402,-1.3956727151928396,1.1499635991459776,-0.09614943989750462,0.7487131649604577,-1.859833599541245,-0.9682080674311809,-0.8083895310134205,0.07201517625696108,0.7003724874308773,0.3603434078366872,0.2927914903976886,-0.7190722328005713,-1.7126127758544523,-1.0089623624439557,-0.6332747090638846,-0.8859839233149006,0.3559550339077135,-3.060786815176108,0.0255005372731153,-1.16745831455643,-0.8771907956407784,1.2523862232883565,0.889884163871847,0.26199921668687814,-2.320689529863178,-1.0508154456053262,-0.36819100118589093,-2.52189205985639,-0.4081792384634467,-0.5715287779757289,-1.154308594072173,-0.1014768864365199,0.9034333621414394,0.18704522998111542,-0.770687484163319,1.5800506524826317,-2.0021988373340114,0.04406612466476638,0.3821163996133508,0.5646937296566823,-0.22207501230812823,-0.21342804668328857,-0.23999683873682087],\"xaxis\":\"x14\",\"y\":[-2.882928743561441,0.34844846725286066,1.2680257646880417,2.6158951835942448,-0.08666633264915499,0.6855126890217901,0.9673967695631298,-0.6661245750975666,-1.5926703284052073,-0.8379040920672681,-0.37570499245518674,-0.8371811965354067,-0.5098065928461315,0.1372469396536534,-0.6471083702863741,0.8046279866565285,-0.24130185170022783,-0.32632814181417097,-0.15354271935767372,-1.4439112915696954,0.6246962871267743,0.12432204950512159,1.6752929976667723,-0.2844432337393085,-1.343752758520758,0.1301416109711241,-0.6331050257489115,0.9518781871258761,0.7249514840301362,0.9101900639114405,1.2780574533758824,1.802348479945691,-0.31614820190356674,0.36773415100197077,-0.3908212366744393,-1.2935782038191448,0.05885575458926745,0.6950254647416754,0.3389537521370748,0.9123551822614718,0.6892369236633751,-0.49268785751272814,-1.3087763952309324,0.08758532549130894,0.4963918755186365,0.5872903488418483,0.13358063913681995,-0.6795571557063222,0.33591033706240725,-0.8744115193624418,0.1929363874465534,-0.8895244302940438,0.11690218778925603,-0.9637877846107626,0.2667924221703283,1.0541280312229273,0.5383199828563591,-0.5637487029043333,0.12495848178419726,-2.436259573590457,0.24140795366764298,-0.3360656488349088,-1.1201761256188392,0.2605197525489586,1.345908878127147,0.7445965881250635,-1.33426054511959,1.1476625537676224,0.01088312706030191,0.04395772829126626,-1.7562065311579718,1.4191323089484646,0.8010647667932251,0.6521378374268157,0.8045698013063193,-0.46743041772942134,-2.264670130265404,0.31279554598588744,0.4663204805144947,-1.1473863662551063,-0.447218095571166,-0.5262649784955559,0.22835004708314383,1.3515406939461974,-1.2568821953431548,-0.2791161614202711,-0.3013722862007754,-1.2591808777692868,-0.9608444919160927,0.11161661644196776,-0.24030404938264227,0.1291426942326392,0.14407473798474776,0.35458665833707625,-0.17211213011128082,0.37039146193315603,2.003557075920957,0.51786487390019,1.8897531118991615,0.2924227340416826],\"yaxis\":\"y14\",\"type\":\"scatter\"},{\"line\":{\"color\":\"rgba(128, 128, 128, 1.0)\",\"dash\":\"solid\",\"shape\":\"linear\",\"width\":1.3},\"marker\":{\"size\":2,\"symbol\":\"circle\"},\"mode\":\"markers\",\"name\":\"D\",\"text\":\"\",\"x\":[-0.08852422168968099,1.072484492537743,-0.28306527036306206,1.1143792172744111,-0.15324228434410764,-0.6884612580246313,-0.17421320917193495,-0.206459969894162,-0.1551998524418452,-1.594549359201786,0.12962482481356008,1.4125497278289871,2.0280801805745674,-0.4867125065674324,0.8687333918268887,1.0738998682842913,0.014796025537450566,-0.260435340815994,0.9164520451900645,-0.1807166453737971,-0.21603513631778892,-0.005133521724726195,-0.26807554679017515,-1.6226518840890563,1.23843653101688,-1.7358737070798764,-0.9650342459233452,1.07954874339853,-1.1740575297045988,1.240629856557279,-1.5227213081489694,-1.2981210653778195,0.38811634858265204,-1.5572179151187917,-0.4808710510184642,1.4254411136895513,-0.20626030476631396,-0.29572646205138625,-0.5287062751802881,1.668518809610592,-0.42847759957627374,-0.4436926481063419,1.1876194866796395,0.7927461345390285,2.42697799320039,1.8174587405742009,-0.8487636678579801,-0.21676116335648146,-0.8102531223843233,-0.6964877204988207,0.9714541173134353,-2.1313853402612164,-0.12886133592566965,1.1812208450998414,0.9608577388996173,-0.3746944397459756,0.33832625566752994,-0.9143658978339623,0.2391931007286504,-0.08818106379294745,2.443628091937669,-0.432638888593655,1.7518255385227397,-1.324697644112153,-2.37499689910705,-0.8241478699748068,-2.1046384315654043,-1.7714014936538525,-0.6628237039477233,0.545682701302367,-0.4937891517904503,-0.5876593317921288,1.147240939829258,-0.9065394655681176,-0.05186145685783981,0.013860428477771624,0.3036257283642649,0.33972234371061893,-0.002180358941292891,1.527465343299987,1.4653414245067913,-0.1354298427521185,-0.8627680102831661,0.4601472626886944,0.6751503853002964,0.16243678416398835,1.3300400022112162,0.06016429893458129,-1.502290213322178,-0.39660899097354996,0.6096994741412444,-0.6706998825275535,-1.2764029435901119,0.7343156439531086,-0.09146463762034475,-1.48059886806984,-0.7698558339018088,1.156836520036784,-0.4500676557898651,-0.2259957121405176],\"xaxis\":\"x15\",\"y\":[-2.882928743561441,0.34844846725286066,1.2680257646880417,2.6158951835942448,-0.08666633264915499,0.6855126890217901,0.9673967695631298,-0.6661245750975666,-1.5926703284052073,-0.8379040920672681,-0.37570499245518674,-0.8371811965354067,-0.5098065928461315,0.1372469396536534,-0.6471083702863741,0.8046279866565285,-0.24130185170022783,-0.32632814181417097,-0.15354271935767372,-1.4439112915696954,0.6246962871267743,0.12432204950512159,1.6752929976667723,-0.2844432337393085,-1.343752758520758,0.1301416109711241,-0.6331050257489115,0.9518781871258761,0.7249514840301362,0.9101900639114405,1.2780574533758824,1.802348479945691,-0.31614820190356674,0.36773415100197077,-0.3908212366744393,-1.2935782038191448,0.05885575458926745,0.6950254647416754,0.3389537521370748,0.9123551822614718,0.6892369236633751,-0.49268785751272814,-1.3087763952309324,0.08758532549130894,0.4963918755186365,0.5872903488418483,0.13358063913681995,-0.6795571557063222,0.33591033706240725,-0.8744115193624418,0.1929363874465534,-0.8895244302940438,0.11690218778925603,-0.9637877846107626,0.2667924221703283,1.0541280312229273,0.5383199828563591,-0.5637487029043333,0.12495848178419726,-2.436259573590457,0.24140795366764298,-0.3360656488349088,-1.1201761256188392,0.2605197525489586,1.345908878127147,0.7445965881250635,-1.33426054511959,1.1476625537676224,0.01088312706030191,0.04395772829126626,-1.7562065311579718,1.4191323089484646,0.8010647667932251,0.6521378374268157,0.8045698013063193,-0.46743041772942134,-2.264670130265404,0.31279554598588744,0.4663204805144947,-1.1473863662551063,-0.447218095571166,-0.5262649784955559,0.22835004708314383,1.3515406939461974,-1.2568821953431548,-0.2791161614202711,-0.3013722862007754,-1.2591808777692868,-0.9608444919160927,0.11161661644196776,-0.24030404938264227,0.1291426942326392,0.14407473798474776,0.35458665833707625,-0.17211213011128082,0.37039146193315603,2.003557075920957,0.51786487390019,1.8897531118991615,0.2924227340416826],\"yaxis\":\"y15\",\"type\":\"scatter\"},{\"histfunc\":\"count\",\"histnorm\":\"\",\"marker\":{\"color\":\"rgba(128, 0, 128, 1.0)\",\"line\":{\"color\":\"#4D5663\",\"width\":1.3}},\"name\":\"D\",\"nbinsx\":10,\"opacity\":0.8,\"orientation\":\"v\",\"x\":[-2.882928743561441,0.34844846725286066,1.2680257646880417,2.6158951835942448,-0.08666633264915499,0.6855126890217901,0.9673967695631298,-0.6661245750975666,-1.5926703284052073,-0.8379040920672681,-0.37570499245518674,-0.8371811965354067,-0.5098065928461315,0.1372469396536534,-0.6471083702863741,0.8046279866565285,-0.24130185170022783,-0.32632814181417097,-0.15354271935767372,-1.4439112915696954,0.6246962871267743,0.12432204950512159,1.6752929976667723,-0.2844432337393085,-1.343752758520758,0.1301416109711241,-0.6331050257489115,0.9518781871258761,0.7249514840301362,0.9101900639114405,1.2780574533758824,1.802348479945691,-0.31614820190356674,0.36773415100197077,-0.3908212366744393,-1.2935782038191448,0.05885575458926745,0.6950254647416754,0.3389537521370748,0.9123551822614718,0.6892369236633751,-0.49268785751272814,-1.3087763952309324,0.08758532549130894,0.4963918755186365,0.5872903488418483,0.13358063913681995,-0.6795571557063222,0.33591033706240725,-0.8744115193624418,0.1929363874465534,-0.8895244302940438,0.11690218778925603,-0.9637877846107626,0.2667924221703283,1.0541280312229273,0.5383199828563591,-0.5637487029043333,0.12495848178419726,-2.436259573590457,0.24140795366764298,-0.3360656488349088,-1.1201761256188392,0.2605197525489586,1.345908878127147,0.7445965881250635,-1.33426054511959,1.1476625537676224,0.01088312706030191,0.04395772829126626,-1.7562065311579718,1.4191323089484646,0.8010647667932251,0.6521378374268157,0.8045698013063193,-0.46743041772942134,-2.264670130265404,0.31279554598588744,0.4663204805144947,-1.1473863662551063,-0.447218095571166,-0.5262649784955559,0.22835004708314383,1.3515406939461974,-1.2568821953431548,-0.2791161614202711,-0.3013722862007754,-1.2591808777692868,-0.9608444919160927,0.11161661644196776,-0.24030404938264227,0.1291426942326392,0.14407473798474776,0.35458665833707625,-0.17211213011128082,0.37039146193315603,2.003557075920957,0.51786487390019,1.8897531118991615,0.2924227340416826],\"xaxis\":\"x16\",\"yaxis\":\"y16\",\"type\":\"histogram\"}],                        {\"bargap\":0.02,\"legend\":{\"bgcolor\":\"#F5F6F9\",\"font\":{\"color\":\"#4D5663\"}},\"paper_bgcolor\":\"#F5F6F9\",\"plot_bgcolor\":\"#F5F6F9\",\"showlegend\":false,\"template\":{\"data\":{\"barpolar\":[{\"marker\":{\"line\":{\"color\":\"#E5ECF6\",\"width\":0.5},\"pattern\":{\"fillmode\":\"overlay\",\"size\":10,\"solidity\":0.2}},\"type\":\"barpolar\"}],\"bar\":[{\"error_x\":{\"color\":\"#2a3f5f\"},\"error_y\":{\"color\":\"#2a3f5f\"},\"marker\":{\"line\":{\"color\":\"#E5ECF6\",\"width\":0.5},\"pattern\":{\"fillmode\":\"overlay\",\"size\":10,\"solidity\":0.2}},\"type\":\"bar\"}],\"carpet\":[{\"aaxis\":{\"endlinecolor\":\"#2a3f5f\",\"gridcolor\":\"white\",\"linecolor\":\"white\",\"minorgridcolor\":\"white\",\"startlinecolor\":\"#2a3f5f\"},\"baxis\":{\"endlinecolor\":\"#2a3f5f\",\"gridcolor\":\"white\",\"linecolor\":\"white\",\"minorgridcolor\":\"white\",\"startlinecolor\":\"#2a3f5f\"},\"type\":\"carpet\"}],\"choropleth\":[{\"colorbar\":{\"outlinewidth\":0,\"ticks\":\"\"},\"type\":\"choropleth\"}],\"contourcarpet\":[{\"colorbar\":{\"outlinewidth\":0,\"ticks\":\"\"},\"type\":\"contourcarpet\"}],\"contour\":[{\"colorbar\":{\"outlinewidth\":0,\"ticks\":\"\"},\"colorscale\":[[0.0,\"#0d0887\"],[0.1111111111111111,\"#46039f\"],[0.2222222222222222,\"#7201a8\"],[0.3333333333333333,\"#9c179e\"],[0.4444444444444444,\"#bd3786\"],[0.5555555555555556,\"#d8576b\"],[0.6666666666666666,\"#ed7953\"],[0.7777777777777778,\"#fb9f3a\"],[0.8888888888888888,\"#fdca26\"],[1.0,\"#f0f921\"]],\"type\":\"contour\"}],\"heatmapgl\":[{\"colorbar\":{\"outlinewidth\":0,\"ticks\":\"\"},\"colorscale\":[[0.0,\"#0d0887\"],[0.1111111111111111,\"#46039f\"],[0.2222222222222222,\"#7201a8\"],[0.3333333333333333,\"#9c179e\"],[0.4444444444444444,\"#bd3786\"],[0.5555555555555556,\"#d8576b\"],[0.6666666666666666,\"#ed7953\"],[0.7777777777777778,\"#fb9f3a\"],[0.8888888888888888,\"#fdca26\"],[1.0,\"#f0f921\"]],\"type\":\"heatmapgl\"}],\"heatmap\":[{\"colorbar\":{\"outlinewidth\":0,\"ticks\":\"\"},\"colorscale\":[[0.0,\"#0d0887\"],[0.1111111111111111,\"#46039f\"],[0.2222222222222222,\"#7201a8\"],[0.3333333333333333,\"#9c179e\"],[0.4444444444444444,\"#bd3786\"],[0.5555555555555556,\"#d8576b\"],[0.6666666666666666,\"#ed7953\"],[0.7777777777777778,\"#fb9f3a\"],[0.8888888888888888,\"#fdca26\"],[1.0,\"#f0f921\"]],\"type\":\"heatmap\"}],\"histogram2dcontour\":[{\"colorbar\":{\"outlinewidth\":0,\"ticks\":\"\"},\"colorscale\":[[0.0,\"#0d0887\"],[0.1111111111111111,\"#46039f\"],[0.2222222222222222,\"#7201a8\"],[0.3333333333333333,\"#9c179e\"],[0.4444444444444444,\"#bd3786\"],[0.5555555555555556,\"#d8576b\"],[0.6666666666666666,\"#ed7953\"],[0.7777777777777778,\"#fb9f3a\"],[0.8888888888888888,\"#fdca26\"],[1.0,\"#f0f921\"]],\"type\":\"histogram2dcontour\"}],\"histogram2d\":[{\"colorbar\":{\"outlinewidth\":0,\"ticks\":\"\"},\"colorscale\":[[0.0,\"#0d0887\"],[0.1111111111111111,\"#46039f\"],[0.2222222222222222,\"#7201a8\"],[0.3333333333333333,\"#9c179e\"],[0.4444444444444444,\"#bd3786\"],[0.5555555555555556,\"#d8576b\"],[0.6666666666666666,\"#ed7953\"],[0.7777777777777778,\"#fb9f3a\"],[0.8888888888888888,\"#fdca26\"],[1.0,\"#f0f921\"]],\"type\":\"histogram2d\"}],\"histogram\":[{\"marker\":{\"pattern\":{\"fillmode\":\"overlay\",\"size\":10,\"solidity\":0.2}},\"type\":\"histogram\"}],\"mesh3d\":[{\"colorbar\":{\"outlinewidth\":0,\"ticks\":\"\"},\"type\":\"mesh3d\"}],\"parcoords\":[{\"line\":{\"colorbar\":{\"outlinewidth\":0,\"ticks\":\"\"}},\"type\":\"parcoords\"}],\"pie\":[{\"automargin\":true,\"type\":\"pie\"}],\"scatter3d\":[{\"line\":{\"colorbar\":{\"outlinewidth\":0,\"ticks\":\"\"}},\"marker\":{\"colorbar\":{\"outlinewidth\":0,\"ticks\":\"\"}},\"type\":\"scatter3d\"}],\"scattercarpet\":[{\"marker\":{\"colorbar\":{\"outlinewidth\":0,\"ticks\":\"\"}},\"type\":\"scattercarpet\"}],\"scattergeo\":[{\"marker\":{\"colorbar\":{\"outlinewidth\":0,\"ticks\":\"\"}},\"type\":\"scattergeo\"}],\"scattergl\":[{\"marker\":{\"colorbar\":{\"outlinewidth\":0,\"ticks\":\"\"}},\"type\":\"scattergl\"}],\"scattermapbox\":[{\"marker\":{\"colorbar\":{\"outlinewidth\":0,\"ticks\":\"\"}},\"type\":\"scattermapbox\"}],\"scatterpolargl\":[{\"marker\":{\"colorbar\":{\"outlinewidth\":0,\"ticks\":\"\"}},\"type\":\"scatterpolargl\"}],\"scatterpolar\":[{\"marker\":{\"colorbar\":{\"outlinewidth\":0,\"ticks\":\"\"}},\"type\":\"scatterpolar\"}],\"scatter\":[{\"marker\":{\"colorbar\":{\"outlinewidth\":0,\"ticks\":\"\"}},\"type\":\"scatter\"}],\"scatterternary\":[{\"marker\":{\"colorbar\":{\"outlinewidth\":0,\"ticks\":\"\"}},\"type\":\"scatterternary\"}],\"surface\":[{\"colorbar\":{\"outlinewidth\":0,\"ticks\":\"\"},\"colorscale\":[[0.0,\"#0d0887\"],[0.1111111111111111,\"#46039f\"],[0.2222222222222222,\"#7201a8\"],[0.3333333333333333,\"#9c179e\"],[0.4444444444444444,\"#bd3786\"],[0.5555555555555556,\"#d8576b\"],[0.6666666666666666,\"#ed7953\"],[0.7777777777777778,\"#fb9f3a\"],[0.8888888888888888,\"#fdca26\"],[1.0,\"#f0f921\"]],\"type\":\"surface\"}],\"table\":[{\"cells\":{\"fill\":{\"color\":\"#EBF0F8\"},\"line\":{\"color\":\"white\"}},\"header\":{\"fill\":{\"color\":\"#C8D4E3\"},\"line\":{\"color\":\"white\"}},\"type\":\"table\"}]},\"layout\":{\"annotationdefaults\":{\"arrowcolor\":\"#2a3f5f\",\"arrowhead\":0,\"arrowwidth\":1},\"autotypenumbers\":\"strict\",\"coloraxis\":{\"colorbar\":{\"outlinewidth\":0,\"ticks\":\"\"}},\"colorscale\":{\"diverging\":[[0,\"#8e0152\"],[0.1,\"#c51b7d\"],[0.2,\"#de77ae\"],[0.3,\"#f1b6da\"],[0.4,\"#fde0ef\"],[0.5,\"#f7f7f7\"],[0.6,\"#e6f5d0\"],[0.7,\"#b8e186\"],[0.8,\"#7fbc41\"],[0.9,\"#4d9221\"],[1,\"#276419\"]],\"sequential\":[[0.0,\"#0d0887\"],[0.1111111111111111,\"#46039f\"],[0.2222222222222222,\"#7201a8\"],[0.3333333333333333,\"#9c179e\"],[0.4444444444444444,\"#bd3786\"],[0.5555555555555556,\"#d8576b\"],[0.6666666666666666,\"#ed7953\"],[0.7777777777777778,\"#fb9f3a\"],[0.8888888888888888,\"#fdca26\"],[1.0,\"#f0f921\"]],\"sequentialminus\":[[0.0,\"#0d0887\"],[0.1111111111111111,\"#46039f\"],[0.2222222222222222,\"#7201a8\"],[0.3333333333333333,\"#9c179e\"],[0.4444444444444444,\"#bd3786\"],[0.5555555555555556,\"#d8576b\"],[0.6666666666666666,\"#ed7953\"],[0.7777777777777778,\"#fb9f3a\"],[0.8888888888888888,\"#fdca26\"],[1.0,\"#f0f921\"]]},\"colorway\":[\"#636efa\",\"#EF553B\",\"#00cc96\",\"#ab63fa\",\"#FFA15A\",\"#19d3f3\",\"#FF6692\",\"#B6E880\",\"#FF97FF\",\"#FECB52\"],\"font\":{\"color\":\"#2a3f5f\"},\"geo\":{\"bgcolor\":\"white\",\"lakecolor\":\"white\",\"landcolor\":\"#E5ECF6\",\"showlakes\":true,\"showland\":true,\"subunitcolor\":\"white\"},\"hoverlabel\":{\"align\":\"left\"},\"hovermode\":\"closest\",\"mapbox\":{\"style\":\"light\"},\"paper_bgcolor\":\"white\",\"plot_bgcolor\":\"#E5ECF6\",\"polar\":{\"angularaxis\":{\"gridcolor\":\"white\",\"linecolor\":\"white\",\"ticks\":\"\"},\"bgcolor\":\"#E5ECF6\",\"radialaxis\":{\"gridcolor\":\"white\",\"linecolor\":\"white\",\"ticks\":\"\"}},\"scene\":{\"xaxis\":{\"backgroundcolor\":\"#E5ECF6\",\"gridcolor\":\"white\",\"gridwidth\":2,\"linecolor\":\"white\",\"showbackground\":true,\"ticks\":\"\",\"zerolinecolor\":\"white\"},\"yaxis\":{\"backgroundcolor\":\"#E5ECF6\",\"gridcolor\":\"white\",\"gridwidth\":2,\"linecolor\":\"white\",\"showbackground\":true,\"ticks\":\"\",\"zerolinecolor\":\"white\"},\"zaxis\":{\"backgroundcolor\":\"#E5ECF6\",\"gridcolor\":\"white\",\"gridwidth\":2,\"linecolor\":\"white\",\"showbackground\":true,\"ticks\":\"\",\"zerolinecolor\":\"white\"}},\"shapedefaults\":{\"line\":{\"color\":\"#2a3f5f\"}},\"ternary\":{\"aaxis\":{\"gridcolor\":\"white\",\"linecolor\":\"white\",\"ticks\":\"\"},\"baxis\":{\"gridcolor\":\"white\",\"linecolor\":\"white\",\"ticks\":\"\"},\"bgcolor\":\"#E5ECF6\",\"caxis\":{\"gridcolor\":\"white\",\"linecolor\":\"white\",\"ticks\":\"\"}},\"title\":{\"x\":0.05},\"xaxis\":{\"automargin\":true,\"gridcolor\":\"white\",\"linecolor\":\"white\",\"ticks\":\"\",\"title\":{\"standoff\":15},\"zerolinecolor\":\"white\",\"zerolinewidth\":2},\"yaxis\":{\"automargin\":true,\"gridcolor\":\"white\",\"linecolor\":\"white\",\"ticks\":\"\",\"title\":{\"standoff\":15},\"zerolinecolor\":\"white\",\"zerolinewidth\":2}}},\"title\":{\"font\":{\"color\":\"#4D5663\"}},\"xaxis\":{\"anchor\":\"y\",\"domain\":[0.0,0.2125],\"gridcolor\":\"#E1E5ED\",\"showgrid\":false,\"tickfont\":{\"color\":\"#4D5663\"},\"title\":{\"font\":{\"color\":\"#4D5663\"},\"text\":\"\"},\"zerolinecolor\":\"#E1E5ED\"},\"yaxis\":{\"anchor\":\"x\",\"domain\":[0.8025,1.0],\"gridcolor\":\"#E1E5ED\",\"showgrid\":false,\"tickfont\":{\"color\":\"#4D5663\"},\"title\":{\"font\":{\"color\":\"#4D5663\"},\"text\":\"\"},\"zerolinecolor\":\"#E1E5ED\"},\"xaxis2\":{\"anchor\":\"y2\",\"domain\":[0.2625,0.475],\"gridcolor\":\"#E1E5ED\",\"showgrid\":false,\"tickfont\":{\"color\":\"#4D5663\"},\"title\":{\"font\":{\"color\":\"#4D5663\"},\"text\":\"\"},\"zerolinecolor\":\"#E1E5ED\"},\"yaxis2\":{\"anchor\":\"x2\",\"domain\":[0.8025,1.0],\"gridcolor\":\"#E1E5ED\",\"showgrid\":false,\"tickfont\":{\"color\":\"#4D5663\"},\"title\":{\"font\":{\"color\":\"#4D5663\"},\"text\":\"\"},\"zerolinecolor\":\"#E1E5ED\"},\"xaxis3\":{\"anchor\":\"y3\",\"domain\":[0.525,0.7375],\"gridcolor\":\"#E1E5ED\",\"showgrid\":false,\"tickfont\":{\"color\":\"#4D5663\"},\"title\":{\"font\":{\"color\":\"#4D5663\"},\"text\":\"\"},\"zerolinecolor\":\"#E1E5ED\"},\"yaxis3\":{\"anchor\":\"x3\",\"domain\":[0.8025,1.0],\"gridcolor\":\"#E1E5ED\",\"showgrid\":false,\"tickfont\":{\"color\":\"#4D5663\"},\"title\":{\"font\":{\"color\":\"#4D5663\"},\"text\":\"\"},\"zerolinecolor\":\"#E1E5ED\"},\"xaxis4\":{\"anchor\":\"y4\",\"domain\":[0.7875,1.0],\"gridcolor\":\"#E1E5ED\",\"showgrid\":false,\"tickfont\":{\"color\":\"#4D5663\"},\"title\":{\"font\":{\"color\":\"#4D5663\"},\"text\":\"\"},\"zerolinecolor\":\"#E1E5ED\"},\"yaxis4\":{\"anchor\":\"x4\",\"domain\":[0.8025,1.0],\"gridcolor\":\"#E1E5ED\",\"showgrid\":false,\"tickfont\":{\"color\":\"#4D5663\"},\"title\":{\"font\":{\"color\":\"#4D5663\"},\"text\":\"\"},\"zerolinecolor\":\"#E1E5ED\"},\"xaxis5\":{\"anchor\":\"y5\",\"domain\":[0.0,0.2125],\"gridcolor\":\"#E1E5ED\",\"showgrid\":false,\"tickfont\":{\"color\":\"#4D5663\"},\"title\":{\"font\":{\"color\":\"#4D5663\"},\"text\":\"\"},\"zerolinecolor\":\"#E1E5ED\"},\"yaxis5\":{\"anchor\":\"x5\",\"domain\":[0.535,0.7325],\"gridcolor\":\"#E1E5ED\",\"showgrid\":false,\"tickfont\":{\"color\":\"#4D5663\"},\"title\":{\"font\":{\"color\":\"#4D5663\"},\"text\":\"\"},\"zerolinecolor\":\"#E1E5ED\"},\"xaxis6\":{\"anchor\":\"y6\",\"domain\":[0.2625,0.475],\"gridcolor\":\"#E1E5ED\",\"showgrid\":false,\"tickfont\":{\"color\":\"#4D5663\"},\"title\":{\"font\":{\"color\":\"#4D5663\"},\"text\":\"\"},\"zerolinecolor\":\"#E1E5ED\"},\"yaxis6\":{\"anchor\":\"x6\",\"domain\":[0.535,0.7325],\"gridcolor\":\"#E1E5ED\",\"showgrid\":false,\"tickfont\":{\"color\":\"#4D5663\"},\"title\":{\"font\":{\"color\":\"#4D5663\"},\"text\":\"\"},\"zerolinecolor\":\"#E1E5ED\"},\"xaxis7\":{\"anchor\":\"y7\",\"domain\":[0.525,0.7375],\"gridcolor\":\"#E1E5ED\",\"showgrid\":false,\"tickfont\":{\"color\":\"#4D5663\"},\"title\":{\"font\":{\"color\":\"#4D5663\"},\"text\":\"\"},\"zerolinecolor\":\"#E1E5ED\"},\"yaxis7\":{\"anchor\":\"x7\",\"domain\":[0.535,0.7325],\"gridcolor\":\"#E1E5ED\",\"showgrid\":false,\"tickfont\":{\"color\":\"#4D5663\"},\"title\":{\"font\":{\"color\":\"#4D5663\"},\"text\":\"\"},\"zerolinecolor\":\"#E1E5ED\"},\"xaxis8\":{\"anchor\":\"y8\",\"domain\":[0.7875,1.0],\"gridcolor\":\"#E1E5ED\",\"showgrid\":false,\"tickfont\":{\"color\":\"#4D5663\"},\"title\":{\"font\":{\"color\":\"#4D5663\"},\"text\":\"\"},\"zerolinecolor\":\"#E1E5ED\"},\"yaxis8\":{\"anchor\":\"x8\",\"domain\":[0.535,0.7325],\"gridcolor\":\"#E1E5ED\",\"showgrid\":false,\"tickfont\":{\"color\":\"#4D5663\"},\"title\":{\"font\":{\"color\":\"#4D5663\"},\"text\":\"\"},\"zerolinecolor\":\"#E1E5ED\"},\"xaxis9\":{\"anchor\":\"y9\",\"domain\":[0.0,0.2125],\"gridcolor\":\"#E1E5ED\",\"showgrid\":false,\"tickfont\":{\"color\":\"#4D5663\"},\"title\":{\"font\":{\"color\":\"#4D5663\"},\"text\":\"\"},\"zerolinecolor\":\"#E1E5ED\"},\"yaxis9\":{\"anchor\":\"x9\",\"domain\":[0.2675,0.465],\"gridcolor\":\"#E1E5ED\",\"showgrid\":false,\"tickfont\":{\"color\":\"#4D5663\"},\"title\":{\"font\":{\"color\":\"#4D5663\"},\"text\":\"\"},\"zerolinecolor\":\"#E1E5ED\"},\"xaxis10\":{\"anchor\":\"y10\",\"domain\":[0.2625,0.475],\"gridcolor\":\"#E1E5ED\",\"showgrid\":false,\"tickfont\":{\"color\":\"#4D5663\"},\"title\":{\"font\":{\"color\":\"#4D5663\"},\"text\":\"\"},\"zerolinecolor\":\"#E1E5ED\"},\"yaxis10\":{\"anchor\":\"x10\",\"domain\":[0.2675,0.465],\"gridcolor\":\"#E1E5ED\",\"showgrid\":false,\"tickfont\":{\"color\":\"#4D5663\"},\"title\":{\"font\":{\"color\":\"#4D5663\"},\"text\":\"\"},\"zerolinecolor\":\"#E1E5ED\"},\"xaxis11\":{\"anchor\":\"y11\",\"domain\":[0.525,0.7375],\"gridcolor\":\"#E1E5ED\",\"showgrid\":false,\"tickfont\":{\"color\":\"#4D5663\"},\"title\":{\"font\":{\"color\":\"#4D5663\"},\"text\":\"\"},\"zerolinecolor\":\"#E1E5ED\"},\"yaxis11\":{\"anchor\":\"x11\",\"domain\":[0.2675,0.465],\"gridcolor\":\"#E1E5ED\",\"showgrid\":false,\"tickfont\":{\"color\":\"#4D5663\"},\"title\":{\"font\":{\"color\":\"#4D5663\"},\"text\":\"\"},\"zerolinecolor\":\"#E1E5ED\"},\"xaxis12\":{\"anchor\":\"y12\",\"domain\":[0.7875,1.0],\"gridcolor\":\"#E1E5ED\",\"showgrid\":false,\"tickfont\":{\"color\":\"#4D5663\"},\"title\":{\"font\":{\"color\":\"#4D5663\"},\"text\":\"\"},\"zerolinecolor\":\"#E1E5ED\"},\"yaxis12\":{\"anchor\":\"x12\",\"domain\":[0.2675,0.465],\"gridcolor\":\"#E1E5ED\",\"showgrid\":false,\"tickfont\":{\"color\":\"#4D5663\"},\"title\":{\"font\":{\"color\":\"#4D5663\"},\"text\":\"\"},\"zerolinecolor\":\"#E1E5ED\"},\"xaxis13\":{\"anchor\":\"y13\",\"domain\":[0.0,0.2125],\"gridcolor\":\"#E1E5ED\",\"showgrid\":false,\"tickfont\":{\"color\":\"#4D5663\"},\"title\":{\"font\":{\"color\":\"#4D5663\"},\"text\":\"\"},\"zerolinecolor\":\"#E1E5ED\"},\"yaxis13\":{\"anchor\":\"x13\",\"domain\":[0.0,0.1975],\"gridcolor\":\"#E1E5ED\",\"showgrid\":false,\"tickfont\":{\"color\":\"#4D5663\"},\"title\":{\"font\":{\"color\":\"#4D5663\"},\"text\":\"\"},\"zerolinecolor\":\"#E1E5ED\"},\"xaxis14\":{\"anchor\":\"y14\",\"domain\":[0.2625,0.475],\"gridcolor\":\"#E1E5ED\",\"showgrid\":false,\"tickfont\":{\"color\":\"#4D5663\"},\"title\":{\"font\":{\"color\":\"#4D5663\"},\"text\":\"\"},\"zerolinecolor\":\"#E1E5ED\"},\"yaxis14\":{\"anchor\":\"x14\",\"domain\":[0.0,0.1975],\"gridcolor\":\"#E1E5ED\",\"showgrid\":false,\"tickfont\":{\"color\":\"#4D5663\"},\"title\":{\"font\":{\"color\":\"#4D5663\"},\"text\":\"\"},\"zerolinecolor\":\"#E1E5ED\"},\"xaxis15\":{\"anchor\":\"y15\",\"domain\":[0.525,0.7375],\"gridcolor\":\"#E1E5ED\",\"showgrid\":false,\"tickfont\":{\"color\":\"#4D5663\"},\"title\":{\"font\":{\"color\":\"#4D5663\"},\"text\":\"\"},\"zerolinecolor\":\"#E1E5ED\"},\"yaxis15\":{\"anchor\":\"x15\",\"domain\":[0.0,0.1975],\"gridcolor\":\"#E1E5ED\",\"showgrid\":false,\"tickfont\":{\"color\":\"#4D5663\"},\"title\":{\"font\":{\"color\":\"#4D5663\"},\"text\":\"\"},\"zerolinecolor\":\"#E1E5ED\"},\"xaxis16\":{\"anchor\":\"y16\",\"domain\":[0.7875,1.0],\"gridcolor\":\"#E1E5ED\",\"showgrid\":false,\"tickfont\":{\"color\":\"#4D5663\"},\"title\":{\"font\":{\"color\":\"#4D5663\"},\"text\":\"\"},\"zerolinecolor\":\"#E1E5ED\"},\"yaxis16\":{\"anchor\":\"x16\",\"domain\":[0.0,0.1975],\"gridcolor\":\"#E1E5ED\",\"showgrid\":false,\"tickfont\":{\"color\":\"#4D5663\"},\"title\":{\"font\":{\"color\":\"#4D5663\"},\"text\":\"\"},\"zerolinecolor\":\"#E1E5ED\"}},                        {\"showLink\": true, \"linkText\": \"Export to plot.ly\", \"plotlyServerURL\": \"https://plot.ly\", \"responsive\": true}                    ).then(function(){\n",
       "                            \n",
       "var gd = document.getElementById('dc178229-f37c-4f76-a69b-e5813ef3029b');\n",
       "var x = new MutationObserver(function (mutations, observer) {{\n",
       "        var display = window.getComputedStyle(gd).display;\n",
       "        if (!display || display === 'none') {{\n",
       "            console.log([gd, 'removed!']);\n",
       "            Plotly.purge(gd);\n",
       "            observer.disconnect();\n",
       "        }}\n",
       "}});\n",
       "\n",
       "// Listen for the removal of the full notebook cells\n",
       "var notebookContainer = gd.closest('#notebook-container');\n",
       "if (notebookContainer) {{\n",
       "    x.observe(notebookContainer, {childList: true});\n",
       "}}\n",
       "\n",
       "// Listen for the clearing of the current output cell\n",
       "var outputEl = gd.closest('.output');\n",
       "if (outputEl) {{\n",
       "    x.observe(outputEl, {childList: true});\n",
       "}}\n",
       "\n",
       "                        })                };                });            </script>        </div>"
      ]
     },
     "metadata": {},
     "output_type": "display_data"
    }
   ],
   "source": [
    "df.scatter_matrix()"
   ]
  },
  {
   "cell_type": "markdown",
   "metadata": {
    "collapsed": true
   },
   "source": [
    "# Great Job!"
   ]
  }
 ],
 "metadata": {
  "kernelspec": {
   "display_name": "Python 3",
   "language": "python",
   "name": "python3"
  },
  "language_info": {
   "codemirror_mode": {
    "name": "ipython",
    "version": 3
   },
   "file_extension": ".py",
   "mimetype": "text/x-python",
   "name": "python",
   "nbconvert_exporter": "python",
   "pygments_lexer": "ipython3",
   "version": "3.10.0"
  }
 },
 "nbformat": 4,
 "nbformat_minor": 0
}
