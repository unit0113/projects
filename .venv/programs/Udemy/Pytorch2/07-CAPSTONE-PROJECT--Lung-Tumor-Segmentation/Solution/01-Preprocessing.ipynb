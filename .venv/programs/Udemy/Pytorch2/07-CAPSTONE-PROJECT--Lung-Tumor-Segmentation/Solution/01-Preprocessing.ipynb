{
 "cells": [
  {
   "cell_type": "markdown",
   "id": "ordered-scotland",
   "metadata": {},
   "source": [
    "## Introduction\n",
    "\n",
    "First, you need to obtain and preprocess the data for the segmentation task\n",
    "The data is provided by the medical segmentation decathlon challenge(http://medicaldecathlon.com/) <br />\n",
    "You can directly download the full body cts and segmentation maps from: <br />\n",
    "https://drive.google.com/file/d/1I1LR7XjyEZ-VBQ-Xruh31V7xExMjlVvi/view?usp=sharing\n",
    "\n",
    "(Data License: CC-BY-SA 4.0, https://creativecommons.org/licenses/by-sa/4.0/)"
   ]
  },
  {
   "cell_type": "markdown",
   "id": "reserved-hamburg",
   "metadata": {},
   "source": [
    "## Imports\n",
    "**Task: Import the necessary libraries**\n",
    "\n",
    "* Pathlib for easy path handling\n",
    "* nibabel as the files are provided in the NIfTI format\n",
    "* numpy for data saving and processing\n",
    "* matplotlib for plotting\n",
    "* celluloid for nice volume visualization\n",
    "* tqdm for nice progressing bars\n",
    "* cv2 for resizing"
   ]
  },
  {
   "cell_type": "code",
   "execution_count": 1,
   "id": "color-nashville",
   "metadata": {},
   "outputs": [],
   "source": [
    "%matplotlib notebook\n",
    "from pathlib import Path\n",
    "import nibabel as nib\n",
    "import numpy as np\n",
    "import matplotlib.pyplot as plt\n",
    "from celluloid import Camera\n",
    "from tqdm.notebook import tqdm\n",
    "import cv2\n"
   ]
  },
  {
   "cell_type": "markdown",
   "id": "placed-dating",
   "metadata": {},
   "source": [
    "## Inspection:\n",
    "Let's first inspect some sample data"
   ]
  },
  {
   "cell_type": "markdown",
   "id": "cathedral-deposit",
   "metadata": {},
   "source": [
    "**Task: Define the paths to images and labels**"
   ]
  },
  {
   "cell_type": "code",
   "execution_count": null,
   "id": "liberal-standard",
   "metadata": {},
   "outputs": [],
   "source": [
    "root = Path(\"/path/to/Task06_Lung/imagesTr/\")\n",
    "label = Path(\"/path/to/Task06_Lung/labelsTr/\")"
   ]
  },
  {
   "cell_type": "markdown",
   "id": "helpful-significance",
   "metadata": {},
   "source": [
    "**Task: Load a sample NIfTI and its corresponding label mask**<br />\n",
    "Hint: You might want to define a helper function to make your life easier"
   ]
  },
  {
   "cell_type": "code",
   "execution_count": null,
   "id": "effective-programmer",
   "metadata": {},
   "outputs": [],
   "source": [
    "def change_img_to_label_path(path):\n",
    "    \"\"\"\n",
    "    Replaces imagesTr with labelsTr\n",
    "    \"\"\"\n",
    "    parts = list(path.parts)  # get all directories whithin the path\n",
    "    parts[parts.index(\"imagesTr\")] = \"labelsTr\"  # Replace imagesTr with labelsTr\n",
    "    return Path(*parts)  # Combine list back into a Path object\n"
   ]
  },
  {
   "cell_type": "code",
   "execution_count": null,
   "id": "adaptive-jacket",
   "metadata": {},
   "outputs": [],
   "source": [
    "sample_path = list(root.glob(\"lung*\"))[2]  # Choose a subject\n",
    "sample_path_label = change_img_to_label_path(sample_path)"
   ]
  },
  {
   "cell_type": "code",
   "execution_count": null,
   "id": "fabulous-toolbox",
   "metadata": {},
   "outputs": [],
   "source": [
    "sample_path, sample_path_label"
   ]
  },
  {
   "cell_type": "markdown",
   "id": "suffering-unknown",
   "metadata": {},
   "source": [
    "Load NIfTI and extract image data"
   ]
  },
  {
   "cell_type": "code",
   "execution_count": null,
   "id": "external-narrative",
   "metadata": {},
   "outputs": [],
   "source": [
    "data = nib.load(sample_path)\n",
    "label = nib.load(sample_path_label)\n",
    "\n",
    "ct = data.get_fdata()\n",
    "mask = label.get_fdata()"
   ]
  },
  {
   "cell_type": "markdown",
   "id": "appropriate-bidder",
   "metadata": {},
   "source": [
    "**Task: Find out the orientation**"
   ]
  },
  {
   "cell_type": "code",
   "execution_count": null,
   "id": "floating-malawi",
   "metadata": {},
   "outputs": [],
   "source": [
    "nib.aff2axcodes(data.affine)"
   ]
  },
  {
   "cell_type": "markdown",
   "id": "technical-missouri",
   "metadata": {},
   "source": [
    "**Task: Inspect the loaded data with overlaid Ground Truth tumor segmentation**\n",
    "Hint: Use the axial view (last axis)"
   ]
  },
  {
   "cell_type": "code",
   "execution_count": null,
   "id": "digital-measurement",
   "metadata": {},
   "outputs": [],
   "source": [
    "fig = plt.figure()\n",
    "camera = Camera(fig)  # create the camera object from celluloid\n",
    "\n",
    "for i in range(0, ct.shape[2], 2):  # axial view\n",
    "    plt.imshow(ct[:,:,i], cmap=\"bone\")\n",
    "    mask_ = np.ma.masked_where(mask[:,:,i]==0, mask[:,:,i])\n",
    "    plt.imshow(mask_, alpha=0.5, cmap=\"autumn\")\n",
    "    #plt.axis(\"off\")\n",
    "    camera.snap()  # Store the current slice\n",
    "animation = camera.animate()  # create the animation\n",
    "\n",
    "\n"
   ]
  },
  {
   "cell_type": "code",
   "execution_count": null,
   "id": "contained-camping",
   "metadata": {},
   "outputs": [],
   "source": [
    "from IPython.display import HTML\n",
    "HTML(animation.to_html5_video())  # convert the animation to a video\n"
   ]
  },
  {
   "cell_type": "markdown",
   "id": "representative-phoenix",
   "metadata": {},
   "source": [
    "## Preprocessing\n",
    "**Task: Please perform the following preprocessing steps:**\n",
    "\n",
    "1. CT images have a fixed range from -1000 to 3071. **Thus you could normalize by dividing by 3071** <br /> You don't need to compute mean and standard deviation for this task\n",
    "2. As we want to focus on lung tumors, we can crop away parts of the lower abdomen to reduce the complexity and help the network learn. As an example, **you might skip the first 30 slices (from lower abdomen to the neck)** (last axis)\n",
    "3. As we want to tackle this task on a slice level (2D) and not on a subject level (3D) to reduce the computational cost **you should store the preprocessed data as 2d files**, because reading a single slice is much faster than loading the complete NIfTI file.\n",
    "4. Resize the single slices and masks to (256, 256) (when resizing the mask, pass interpolation=cv2.INTER_NEAREST to the resize function to apply nearest neighbour interpolation)\n",
    "\n",
    "Loop over all_files and apply the preprocessing steps. <br />\n",
    "\n",
    "Additionally, please make sure that all scans have the same orientation\n",
    "\n",
    "In the preprocessing loop, you need to create a directory for each subject containg the ct and label slices with identical names. <br />\n",
    "E.g:\n",
    "* 0/data/0.npy\n",
    "* 0/masks/0.npy\n",
    "\n",
    "Store the last 6 subjects as validation data\n",
    "\n",
    "PS: Feel free to try the lung window!"
   ]
  },
  {
   "cell_type": "code",
   "execution_count": null,
   "id": "declared-dollar",
   "metadata": {},
   "outputs": [],
   "source": [
    "all_files = list(root.glob(\"lung_*\"))  # Get all subjects"
   ]
  },
  {
   "cell_type": "code",
   "execution_count": null,
   "id": "naughty-statistics",
   "metadata": {},
   "outputs": [],
   "source": [
    "len(all_files)"
   ]
  },
  {
   "cell_type": "code",
   "execution_count": null,
   "id": "severe-vintage",
   "metadata": {
    "scrolled": true
   },
   "outputs": [],
   "source": [
    "save_root = Path(\"Task06_Lung/Preprocessed\")\n",
    "\n",
    "for counter, path_to_ct_data in enumerate(tqdm(all_files)):\n",
    "        \n",
    "    path_to_label = change_img_to_label_path(path_to_ct_data)  # Get path to ground truth\n",
    "    \n",
    "    # Load and extract corresponding data\n",
    "    ct_data = nib.load(path_to_ct_data).get_fdata()\n",
    "    label_data = nib.load(path_to_label).get_fdata()\n",
    "    \n",
    "    # Crop volume and label. Remove the first 30 slices  \n",
    "    ct_data = ct_data[:,:,30:] / 3071\n",
    "    label_data = label_data[:,:,30:]\n",
    "        \n",
    "    # Check if train or val data and create corresponding path\n",
    "    if counter < 57:\n",
    "        current_path = save_root/\"train\"/str(counter)\n",
    "    else:\n",
    "        current_path = save_root/\"val\"/str(counter)\n",
    "    \n",
    "    # Loop over the slices in the full volume and store the data and labels in the data/masks directory\n",
    "    for i in range(ct_data.shape[-1]):\n",
    "        slice = ct_data[:,:,i]\n",
    "        mask = label_data[:,:,i]\n",
    "        \n",
    "        # Resize slice and label to common resolution to reduce training time\n",
    "        slice = cv2.resize(slice, (256, 256))\n",
    "        mask = cv2.resize(mask, (256, 256), interpolation=cv2.INTER_NEAREST)\n",
    "        \n",
    "        slice_path = current_path/\"data\"\n",
    "        mask_path = current_path/\"masks\"\n",
    "        slice_path.mkdir(parents=True, exist_ok=True)\n",
    "        mask_path.mkdir(parents=True, exist_ok=True)\n",
    "        \n",
    "        np.save(slice_path/str(i), slice)\n",
    "        np.save(mask_path/str(i), mask)\n",
    "        \n",
    "        \n",
    "    "
   ]
  },
  {
   "cell_type": "markdown",
   "id": "gentle-clinic",
   "metadata": {},
   "source": [
    "## Validate preprocessed data\n",
    "**Task: Take a look at your stored files and inspect if everything worked as expected**"
   ]
  },
  {
   "cell_type": "code",
   "execution_count": null,
   "id": "fifteen-failing",
   "metadata": {},
   "outputs": [],
   "source": [
    "path = Path(\"Task06_Lung/Preprocessed/train/2\")  # Select a subject. Check the folder if it exists\n"
   ]
  },
  {
   "cell_type": "code",
   "execution_count": null,
   "id": "chronic-numbers",
   "metadata": {},
   "outputs": [],
   "source": [
    "list(path.glob(\"*\"))"
   ]
  },
  {
   "cell_type": "code",
   "execution_count": null,
   "id": "applicable-handbook",
   "metadata": {},
   "outputs": [],
   "source": [
    "1# Choose a file and load slice + mask\n",
    "file = \"120.npy\"\n",
    "slice = np.load(path/\"data\"/file)\n",
    "mask = np.load(path/\"masks\"/file)"
   ]
  },
  {
   "cell_type": "code",
   "execution_count": null,
   "id": "pending-acceptance",
   "metadata": {
    "scrolled": false
   },
   "outputs": [],
   "source": [
    "# Plot everything\n",
    "fig, axis = plt.subplots(1, 2, figsize=(8, 8))\n",
    "axis[0].imshow(slice, cmap=\"bone\")\n",
    "mask_ = np.ma.masked_where(mask==0, mask)\n",
    "axis[1].imshow(slice, cmap=\"bone\")\n",
    "axis[1].imshow(mask_, cmap=\"autumn\")"
   ]
  },
  {
   "cell_type": "code",
   "execution_count": null,
   "id": "accomplished-occasion",
   "metadata": {},
   "outputs": [],
   "source": [
    "print(slice.min(), slice.max())"
   ]
  },
  {
   "cell_type": "markdown",
   "id": "sound-vegetarian",
   "metadata": {},
   "source": [
    "Nice! Everything is processed and we can continue to write the Dataset Class!"
   ]
  }
 ],
 "metadata": {
  "kernelspec": {
   "display_name": "Python 3 (ipykernel)",
   "language": "python",
   "name": "python3"
  },
  "language_info": {
   "codemirror_mode": {
    "name": "ipython",
    "version": 3
   },
   "file_extension": ".py",
   "mimetype": "text/x-python",
   "name": "python",
   "nbconvert_exporter": "python",
   "pygments_lexer": "ipython3",
   "version": "3.8.0"
  }
 },
 "nbformat": 4,
 "nbformat_minor": 5
}
