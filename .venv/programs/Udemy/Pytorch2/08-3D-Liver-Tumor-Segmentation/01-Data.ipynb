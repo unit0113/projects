{
 "cells": [
  {
   "cell_type": "markdown",
   "id": "maritime-retail",
   "metadata": {},
   "source": [
    "## Introduction\n",
    "In this notebook you will download and preprocess the data for the liver and liver tumor segmentation:<br />\n",
    "The data is provided by the medical segmentation decathlon (http://medicaldecathlon.com/)<br /> (Data License: https://creativecommons.org/licenses/by-sa/4.0/)<br />\n",
    "\n",
    "You can directly download the original cardiac MRIs and segmentation maps from: <br />\n",
    "https://drive.google.com/file/d/1wEB2I6S6tQBVEPxir8cA5kFB8gTQadYY/view?usp=sharing\n",
    "\n",
    "As this dataset has over 26GB we provide a resampled version of it. The new scans are of shape (256x256xZ), where Z is varying and reduce the size of the dataset to 2.5GB\n",
    "\n",
    "It is directly included in this directory\n"
   ]
  },
  {
   "cell_type": "code",
   "execution_count": null,
   "id": "altered-pennsylvania",
   "metadata": {},
   "outputs": [],
   "source": [
    "%matplotlib notebook\n",
    "from pathlib import Path\n",
    "import nibabel as nib\n",
    "import matplotlib.pyplot as plt\n",
    "import numpy as np\n",
    "from celluloid import Camera\n",
    "from IPython.display import HTML"
   ]
  },
  {
   "cell_type": "markdown",
   "id": "engaged-realtor",
   "metadata": {},
   "source": [
    "## Inspection:\n",
    "Let's inspect some sample data\n",
    "\n",
    "We do not need to preprocess this dataset as the necessary steps are directly performed by torchio during training"
   ]
  },
  {
   "cell_type": "code",
   "execution_count": null,
   "id": "wooden-blond",
   "metadata": {},
   "outputs": [],
   "source": [
    "root = Path(\"Task03_Liver_rs/imagesTr/\")\n",
    "label = Path(\"Task03_Liver_rs/labelsTr/\")"
   ]
  },
  {
   "cell_type": "markdown",
   "id": "stainless-marker",
   "metadata": {},
   "source": [
    "We start with a helper function which automatically replaces \"imagesTr\" with \"labelsTr\" in the filepaths so that we can easily switch between CT images and label masks"
   ]
  },
  {
   "cell_type": "code",
   "execution_count": null,
   "id": "lightweight-fiction",
   "metadata": {},
   "outputs": [],
   "source": [
    "def change_img_to_label_path(path):\n",
    "    \"\"\"\n",
    "    Replaces imagesTr with labelsTr\n",
    "    \"\"\"\n",
    "    parts = list(path.parts)  # get all directories within the path\n",
    "    parts[parts.index(\"imagesTr\")] = \"labelsTr\"  # Replace imagesTr with labelsTr\n",
    "    return Path(*parts)  # Combine list back into a Path object\n"
   ]
  },
  {
   "cell_type": "code",
   "execution_count": null,
   "id": "above-shakespeare",
   "metadata": {},
   "outputs": [],
   "source": [
    "sample_path = list(root.glob(\"liver*\"))[0]  # Choose a subject\n",
    "sample_path_label = change_img_to_label_path(sample_path)"
   ]
  },
  {
   "cell_type": "markdown",
   "id": "enhanced-replacement",
   "metadata": {},
   "source": [
    "Load NIfTI and extract image data"
   ]
  },
  {
   "cell_type": "code",
   "execution_count": null,
   "id": "packed-riverside",
   "metadata": {},
   "outputs": [],
   "source": [
    "data = nib.load(sample_path)\n",
    "label = nib.load(sample_path_label)\n",
    "\n",
    "ct = data.get_fdata()\n",
    "mask = label.get_fdata().astype(int)  # Class labels should not be handled as float64"
   ]
  },
  {
   "cell_type": "code",
   "execution_count": null,
   "id": "opening-heath",
   "metadata": {},
   "outputs": [],
   "source": [
    "nib.aff2axcodes(data.affine)"
   ]
  },
  {
   "cell_type": "code",
   "execution_count": null,
   "id": "immune-franchise",
   "metadata": {},
   "outputs": [],
   "source": [
    "fig = plt.figure()\n",
    "camera = Camera(fig)  # Create the camera object from celluloid\n",
    "\n",
    "for i in range(ct.shape[2]):  # Axial view\n",
    "    plt.imshow(ct[:,:,i], cmap=\"bone\")\n",
    "    mask_ = np.ma.masked_where(mask[:,:,i]==0, mask[:,:,i])\n",
    "    plt.imshow(mask_, alpha=0.5)\n",
    "    # plt.axis(\"off\")\n",
    "    camera.snap()  # Store the current slice\n",
    "plt.tight_layout()\n",
    "animation = camera.animate()  # Create the animation\n",
    "\n",
    "\n"
   ]
  },
  {
   "cell_type": "code",
   "execution_count": null,
   "id": "fresh-probability",
   "metadata": {},
   "outputs": [],
   "source": [
    "HTML(animation.to_html5_video())"
   ]
  }
 ],
 "metadata": {
  "kernelspec": {
   "display_name": "Python 3 (ipykernel)",
   "language": "python",
   "name": "python3"
  },
  "language_info": {
   "codemirror_mode": {
    "name": "ipython",
    "version": 3
   },
   "file_extension": ".py",
   "mimetype": "text/x-python",
   "name": "python",
   "nbconvert_exporter": "python",
   "pygments_lexer": "ipython3",
   "version": "3.8.0"
  }
 },
 "nbformat": 4,
 "nbformat_minor": 5
}
