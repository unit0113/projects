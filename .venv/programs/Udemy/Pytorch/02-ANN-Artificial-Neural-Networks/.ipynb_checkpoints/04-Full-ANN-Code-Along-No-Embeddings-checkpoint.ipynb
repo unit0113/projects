{
 "cells": [
  {
   "cell_type": "markdown",
   "metadata": {
    "collapsed": true
   },
   "source": [
    "<img src=\"../Pierian-Data-Logo.PNG\">\n",
    "<br>\n",
    "<strong><center>Copyright 2019. Created by Jose Marcial Portilla.</center></strong>"
   ]
  },
  {
   "cell_type": "markdown",
   "metadata": {
    "collapsed": true
   },
   "source": [
    "* Goals\n",
    "    * Expand on simple NN to a more realistic classification data set with both continuous and categorical variables\n",
    "    * students will now have to understand how to deal with these categorical variables with pytorch\n",
    "    * look into pytorch based options, instead of just useing pd.get_dummies\n",
    "    * just as basic NN, test and evaluate model\n",
    "    * Also - predict for a new single feature point\n",
    "* Links:\n",
    "    * https://yashuseth.blog/2018/07/22/pytorch-neural-network-for-tabular-data-with-categorical-embeddings/\n",
    "    * http://francescopochetti.com/pytorch-for-tabular-data-predicting-nyc-taxi-fares/\n",
    "    * https://www.fast.ai/2018/04/29/categorical-embeddings/\n",
    "    * https://www.kaggle.com/keremt/pytorch-entity-embeddings"
   ]
  },
  {
   "cell_type": "markdown",
   "metadata": {},
   "source": [
    "# Full Artificial Neural Network Code Along\n",
    "In the last section we took in four continuous variables (lengths) to perform a classification. In this section we'll combine continuous and categorical data to perform a regression. The goal is to estimate the cost of a cab ride from several inputs. The inspiration behind this code along is a recent <a href='https://www.kaggle.com/c/new-york-city-taxi-fare-prediction'>Kaggle competition</a>."
   ]
  },
  {
   "cell_type": "markdown",
   "metadata": {},
   "source": [
    "## Perform standard imports"
   ]
  },
  {
   "cell_type": "code",
   "execution_count": 1,
   "metadata": {},
   "outputs": [],
   "source": [
    "import torch\n",
    "import torch.nn as nn\n",
    "import torch.nn.functional as F\n",
    "from torch.utils.data import Dataset, DataLoader\n",
    "from sklearn.model_selection import train_test_split\n",
    "\n",
    "import numpy as np\n",
    "import pandas as pd\n",
    "import matplotlib.pyplot as plt\n",
    "%matplotlib inline"
   ]
  },
  {
   "cell_type": "markdown",
   "metadata": {},
   "source": [
    "## Load the NYC Taxi Fares dataset"
   ]
  },
  {
   "cell_type": "code",
   "execution_count": 2,
   "metadata": {},
   "outputs": [
    {
     "data": {
      "text/html": [
       "<div>\n",
       "<style scoped>\n",
       "    .dataframe tbody tr th:only-of-type {\n",
       "        vertical-align: middle;\n",
       "    }\n",
       "\n",
       "    .dataframe tbody tr th {\n",
       "        vertical-align: top;\n",
       "    }\n",
       "\n",
       "    .dataframe thead th {\n",
       "        text-align: right;\n",
       "    }\n",
       "</style>\n",
       "<table border=\"1\" class=\"dataframe\">\n",
       "  <thead>\n",
       "    <tr style=\"text-align: right;\">\n",
       "      <th></th>\n",
       "      <th>fare_amount</th>\n",
       "      <th>pickup_datetime</th>\n",
       "      <th>pickup_latitude</th>\n",
       "      <th>pickup_longitude</th>\n",
       "      <th>dropoff_latitude</th>\n",
       "      <th>dropoff_longitude</th>\n",
       "      <th>passenger_count</th>\n",
       "    </tr>\n",
       "  </thead>\n",
       "  <tbody>\n",
       "    <tr>\n",
       "      <th>2010-04-21 00:15:54.001</th>\n",
       "      <td>4.1</td>\n",
       "      <td>2010-04-21 00:15:54 UTC</td>\n",
       "      <td>40.724476</td>\n",
       "      <td>-73.994023</td>\n",
       "      <td>40.724189</td>\n",
       "      <td>-73.984832</td>\n",
       "      <td>1</td>\n",
       "    </tr>\n",
       "    <tr>\n",
       "      <th>2010-04-20 16:06:04.001</th>\n",
       "      <td>4.5</td>\n",
       "      <td>2010-04-20 16:06:04 UTC</td>\n",
       "      <td>40.746612</td>\n",
       "      <td>-73.979809</td>\n",
       "      <td>40.753319</td>\n",
       "      <td>-73.980071</td>\n",
       "      <td>1</td>\n",
       "    </tr>\n",
       "    <tr>\n",
       "      <th>2010-04-23 07:28:00.001</th>\n",
       "      <td>6.1</td>\n",
       "      <td>2010-04-23 07:28:00 UTC</td>\n",
       "      <td>40.769217</td>\n",
       "      <td>-73.954938</td>\n",
       "      <td>40.780015</td>\n",
       "      <td>-73.961540</td>\n",
       "      <td>5</td>\n",
       "    </tr>\n",
       "    <tr>\n",
       "      <th>2010-04-16 01:57:00.001</th>\n",
       "      <td>5.7</td>\n",
       "      <td>2010-04-16 01:57:00 UTC</td>\n",
       "      <td>40.744590</td>\n",
       "      <td>-73.997640</td>\n",
       "      <td>40.744083</td>\n",
       "      <td>-73.977760</td>\n",
       "      <td>3</td>\n",
       "    </tr>\n",
       "    <tr>\n",
       "      <th>2010-04-14 23:30:00.001</th>\n",
       "      <td>5.3</td>\n",
       "      <td>2010-04-14 23:30:00 UTC</td>\n",
       "      <td>40.767697</td>\n",
       "      <td>-73.959738</td>\n",
       "      <td>40.752497</td>\n",
       "      <td>-73.970120</td>\n",
       "      <td>1</td>\n",
       "    </tr>\n",
       "  </tbody>\n",
       "</table>\n",
       "</div>"
      ],
      "text/plain": [
       "                         fare_amount          pickup_datetime  \\\n",
       "2010-04-21 00:15:54.001          4.1  2010-04-21 00:15:54 UTC   \n",
       "2010-04-20 16:06:04.001          4.5  2010-04-20 16:06:04 UTC   \n",
       "2010-04-23 07:28:00.001          6.1  2010-04-23 07:28:00 UTC   \n",
       "2010-04-16 01:57:00.001          5.7  2010-04-16 01:57:00 UTC   \n",
       "2010-04-14 23:30:00.001          5.3  2010-04-14 23:30:00 UTC   \n",
       "\n",
       "                         pickup_latitude  pickup_longitude  dropoff_latitude  \\\n",
       "2010-04-21 00:15:54.001        40.724476        -73.994023         40.724189   \n",
       "2010-04-20 16:06:04.001        40.746612        -73.979809         40.753319   \n",
       "2010-04-23 07:28:00.001        40.769217        -73.954938         40.780015   \n",
       "2010-04-16 01:57:00.001        40.744590        -73.997640         40.744083   \n",
       "2010-04-14 23:30:00.001        40.767697        -73.959738         40.752497   \n",
       "\n",
       "                         dropoff_longitude  passenger_count  \n",
       "2010-04-21 00:15:54.001         -73.984832                1  \n",
       "2010-04-20 16:06:04.001         -73.980071                1  \n",
       "2010-04-23 07:28:00.001         -73.961540                5  \n",
       "2010-04-16 01:57:00.001         -73.977760                3  \n",
       "2010-04-14 23:30:00.001         -73.970120                1  "
      ]
     },
     "execution_count": 2,
     "metadata": {},
     "output_type": "execute_result"
    }
   ],
   "source": [
    "df = pd.read_csv('../Data/NYCTaxiFares2.csv',index_col=0,nrows=9600)\n",
    "df.head()"
   ]
  },
  {
   "cell_type": "markdown",
   "metadata": {},
   "source": [
    "## Define helper functions\n",
    "We can define reusable helper functions to preprocess our data.\n",
    "\n",
    "### Calculate the distance traveled\n",
    "The <a href='https://en.wikipedia.org/wiki/Haversine_formula'>haversine formula</a> calculates the distance on a sphere between two sets of GPS coordinates. Here we assign latitude values with $\\varphi$ (phi) and longitude with $\\lambda$ (lambda).\n",
    "\n",
    "The distance formula works out to\n",
    "\n",
    "${\\displaystyle d=2r\\arcsin \\left({\\sqrt {\\sin ^{2}\\left({\\frac {\\varphi _{2}-\\varphi _{1}}{2}}\\right)+\\cos(\\varphi _{1})\\:\\cos(\\varphi _{2})\\:\\sin ^{2}\\left({\\frac {\\lambda _{2}-\\lambda _{1}}{2}}\\right)}}\\right)}$\n",
    "\n",
    "where\n",
    "\n",
    "$\\begin{split} r&: \\textrm {radius of the sphere (Earth's radius averages 6371 km)}\\\\\n",
    "\\varphi_1, \\varphi_2&: \\textrm {latitudes of point 1 and point 2}\\\\\n",
    "\\lambda_1, \\lambda_2&: \\textrm {longitudes of point 1 and point 2}\\end{split}$"
   ]
  },
  {
   "cell_type": "code",
   "execution_count": 3,
   "metadata": {},
   "outputs": [],
   "source": [
    "def haversine_distance(df, lat1, long1, lat2, long2):\n",
    "    \"\"\"\n",
    "    Calculates the haversine distance between 2 sets of GPS coordinates in df\n",
    "    \"\"\"\n",
    "    r = 6371  # average radius of Earth in kilometers\n",
    "       \n",
    "    phi1 = np.radians(df[lat1])\n",
    "    phi2 = np.radians(df[lat2])\n",
    "    \n",
    "    delta_phi = np.radians(df[lat2]-df[lat1])\n",
    "    delta_lambda = np.radians(df[long2]-df[long1])\n",
    "    \n",
    "        \n",
    "    a = np.sin(delta_phi / 2.0) ** 2 + np.cos(phi1) * np.cos(phi2) * np.sin(delta_lambda / 2.0) ** 2\n",
    "    c = 2 * np.arctan2(np.sqrt(a), np.sqrt(1-a))\n",
    "    d = (r * c) # in kilometers\n",
    "    df['dist_km'] = d"
   ]
  },
  {
   "cell_type": "code",
   "execution_count": 4,
   "metadata": {},
   "outputs": [
    {
     "data": {
      "text/html": [
       "<div>\n",
       "<style scoped>\n",
       "    .dataframe tbody tr th:only-of-type {\n",
       "        vertical-align: middle;\n",
       "    }\n",
       "\n",
       "    .dataframe tbody tr th {\n",
       "        vertical-align: top;\n",
       "    }\n",
       "\n",
       "    .dataframe thead th {\n",
       "        text-align: right;\n",
       "    }\n",
       "</style>\n",
       "<table border=\"1\" class=\"dataframe\">\n",
       "  <thead>\n",
       "    <tr style=\"text-align: right;\">\n",
       "      <th></th>\n",
       "      <th>fare_amount</th>\n",
       "      <th>pickup_datetime</th>\n",
       "      <th>pickup_latitude</th>\n",
       "      <th>pickup_longitude</th>\n",
       "      <th>dropoff_latitude</th>\n",
       "      <th>dropoff_longitude</th>\n",
       "      <th>passenger_count</th>\n",
       "      <th>dist_km</th>\n",
       "    </tr>\n",
       "  </thead>\n",
       "  <tbody>\n",
       "    <tr>\n",
       "      <th>2010-04-21 00:15:54.001</th>\n",
       "      <td>4.1</td>\n",
       "      <td>2010-04-21 00:15:54 UTC</td>\n",
       "      <td>40.724476</td>\n",
       "      <td>-73.994023</td>\n",
       "      <td>40.724189</td>\n",
       "      <td>-73.984832</td>\n",
       "      <td>1</td>\n",
       "      <td>0.775182</td>\n",
       "    </tr>\n",
       "    <tr>\n",
       "      <th>2010-04-20 16:06:04.001</th>\n",
       "      <td>4.5</td>\n",
       "      <td>2010-04-20 16:06:04 UTC</td>\n",
       "      <td>40.746612</td>\n",
       "      <td>-73.979809</td>\n",
       "      <td>40.753319</td>\n",
       "      <td>-73.980071</td>\n",
       "      <td>1</td>\n",
       "      <td>0.746111</td>\n",
       "    </tr>\n",
       "    <tr>\n",
       "      <th>2010-04-23 07:28:00.001</th>\n",
       "      <td>6.1</td>\n",
       "      <td>2010-04-23 07:28:00 UTC</td>\n",
       "      <td>40.769217</td>\n",
       "      <td>-73.954938</td>\n",
       "      <td>40.780015</td>\n",
       "      <td>-73.961540</td>\n",
       "      <td>5</td>\n",
       "      <td>1.323139</td>\n",
       "    </tr>\n",
       "    <tr>\n",
       "      <th>2010-04-16 01:57:00.001</th>\n",
       "      <td>5.7</td>\n",
       "      <td>2010-04-16 01:57:00 UTC</td>\n",
       "      <td>40.744590</td>\n",
       "      <td>-73.997640</td>\n",
       "      <td>40.744083</td>\n",
       "      <td>-73.977760</td>\n",
       "      <td>3</td>\n",
       "      <td>1.675730</td>\n",
       "    </tr>\n",
       "    <tr>\n",
       "      <th>2010-04-14 23:30:00.001</th>\n",
       "      <td>5.3</td>\n",
       "      <td>2010-04-14 23:30:00 UTC</td>\n",
       "      <td>40.767697</td>\n",
       "      <td>-73.959738</td>\n",
       "      <td>40.752497</td>\n",
       "      <td>-73.970120</td>\n",
       "      <td>1</td>\n",
       "      <td>1.902961</td>\n",
       "    </tr>\n",
       "  </tbody>\n",
       "</table>\n",
       "</div>"
      ],
      "text/plain": [
       "                         fare_amount          pickup_datetime  \\\n",
       "2010-04-21 00:15:54.001          4.1  2010-04-21 00:15:54 UTC   \n",
       "2010-04-20 16:06:04.001          4.5  2010-04-20 16:06:04 UTC   \n",
       "2010-04-23 07:28:00.001          6.1  2010-04-23 07:28:00 UTC   \n",
       "2010-04-16 01:57:00.001          5.7  2010-04-16 01:57:00 UTC   \n",
       "2010-04-14 23:30:00.001          5.3  2010-04-14 23:30:00 UTC   \n",
       "\n",
       "                         pickup_latitude  pickup_longitude  dropoff_latitude  \\\n",
       "2010-04-21 00:15:54.001        40.724476        -73.994023         40.724189   \n",
       "2010-04-20 16:06:04.001        40.746612        -73.979809         40.753319   \n",
       "2010-04-23 07:28:00.001        40.769217        -73.954938         40.780015   \n",
       "2010-04-16 01:57:00.001        40.744590        -73.997640         40.744083   \n",
       "2010-04-14 23:30:00.001        40.767697        -73.959738         40.752497   \n",
       "\n",
       "                         dropoff_longitude  passenger_count   dist_km  \n",
       "2010-04-21 00:15:54.001         -73.984832                1  0.775182  \n",
       "2010-04-20 16:06:04.001         -73.980071                1  0.746111  \n",
       "2010-04-23 07:28:00.001         -73.961540                5  1.323139  \n",
       "2010-04-16 01:57:00.001         -73.977760                3  1.675730  \n",
       "2010-04-14 23:30:00.001         -73.970120                1  1.902961  "
      ]
     },
     "execution_count": 4,
     "metadata": {},
     "output_type": "execute_result"
    }
   ],
   "source": [
    "haversine_distance(df,'pickup_latitude', 'pickup_longitude', 'dropoff_latitude', 'dropoff_longitude')\n",
    "df.head()"
   ]
  },
  {
   "cell_type": "markdown",
   "metadata": {},
   "source": [
    "### Add a Datetime column and derive useful statistics\n",
    "By creating a datetime object, we can extract information like \"day of the week\", \"am vs. pm\" etc.\n",
    "Note that the data is currently UTC time. Our data all falls in April, 2010 which occurred during Daylight Savings Time in New York. For that reason, we'll make and adjustment to UTC-4 (subtracting four hours)."
   ]
  },
  {
   "cell_type": "code",
   "execution_count": 5,
   "metadata": {},
   "outputs": [],
   "source": [
    "def add_date_data(df, col='pickup_datetime'):\n",
    "    df['EDTdate'] = pd.to_datetime(df[col].str[:19]) - pd.Timedelta(hours=4)\n",
    "    df['Hour'] = df['EDTdate'].dt.hour\n",
    "    df['AMorPM'] = np.where(df['Hour']<12,-1,1)"
   ]
  },
  {
   "cell_type": "code",
   "execution_count": 6,
   "metadata": {},
   "outputs": [
    {
     "data": {
      "text/html": [
       "<div>\n",
       "<style scoped>\n",
       "    .dataframe tbody tr th:only-of-type {\n",
       "        vertical-align: middle;\n",
       "    }\n",
       "\n",
       "    .dataframe tbody tr th {\n",
       "        vertical-align: top;\n",
       "    }\n",
       "\n",
       "    .dataframe thead th {\n",
       "        text-align: right;\n",
       "    }\n",
       "</style>\n",
       "<table border=\"1\" class=\"dataframe\">\n",
       "  <thead>\n",
       "    <tr style=\"text-align: right;\">\n",
       "      <th></th>\n",
       "      <th>fare_amount</th>\n",
       "      <th>pickup_datetime</th>\n",
       "      <th>pickup_latitude</th>\n",
       "      <th>pickup_longitude</th>\n",
       "      <th>dropoff_latitude</th>\n",
       "      <th>dropoff_longitude</th>\n",
       "      <th>passenger_count</th>\n",
       "      <th>dist_km</th>\n",
       "      <th>EDTdate</th>\n",
       "      <th>Hour</th>\n",
       "      <th>AMorPM</th>\n",
       "    </tr>\n",
       "  </thead>\n",
       "  <tbody>\n",
       "    <tr>\n",
       "      <th>2010-04-21 00:15:54.001</th>\n",
       "      <td>4.1</td>\n",
       "      <td>2010-04-21 00:15:54 UTC</td>\n",
       "      <td>40.724476</td>\n",
       "      <td>-73.994023</td>\n",
       "      <td>40.724189</td>\n",
       "      <td>-73.984832</td>\n",
       "      <td>1</td>\n",
       "      <td>0.775182</td>\n",
       "      <td>2010-04-20 20:15:54</td>\n",
       "      <td>20</td>\n",
       "      <td>1</td>\n",
       "    </tr>\n",
       "    <tr>\n",
       "      <th>2010-04-20 16:06:04.001</th>\n",
       "      <td>4.5</td>\n",
       "      <td>2010-04-20 16:06:04 UTC</td>\n",
       "      <td>40.746612</td>\n",
       "      <td>-73.979809</td>\n",
       "      <td>40.753319</td>\n",
       "      <td>-73.980071</td>\n",
       "      <td>1</td>\n",
       "      <td>0.746111</td>\n",
       "      <td>2010-04-20 12:06:04</td>\n",
       "      <td>12</td>\n",
       "      <td>1</td>\n",
       "    </tr>\n",
       "    <tr>\n",
       "      <th>2010-04-23 07:28:00.001</th>\n",
       "      <td>6.1</td>\n",
       "      <td>2010-04-23 07:28:00 UTC</td>\n",
       "      <td>40.769217</td>\n",
       "      <td>-73.954938</td>\n",
       "      <td>40.780015</td>\n",
       "      <td>-73.961540</td>\n",
       "      <td>5</td>\n",
       "      <td>1.323139</td>\n",
       "      <td>2010-04-23 03:28:00</td>\n",
       "      <td>3</td>\n",
       "      <td>-1</td>\n",
       "    </tr>\n",
       "    <tr>\n",
       "      <th>2010-04-16 01:57:00.001</th>\n",
       "      <td>5.7</td>\n",
       "      <td>2010-04-16 01:57:00 UTC</td>\n",
       "      <td>40.744590</td>\n",
       "      <td>-73.997640</td>\n",
       "      <td>40.744083</td>\n",
       "      <td>-73.977760</td>\n",
       "      <td>3</td>\n",
       "      <td>1.675730</td>\n",
       "      <td>2010-04-15 21:57:00</td>\n",
       "      <td>21</td>\n",
       "      <td>1</td>\n",
       "    </tr>\n",
       "    <tr>\n",
       "      <th>2010-04-14 23:30:00.001</th>\n",
       "      <td>5.3</td>\n",
       "      <td>2010-04-14 23:30:00 UTC</td>\n",
       "      <td>40.767697</td>\n",
       "      <td>-73.959738</td>\n",
       "      <td>40.752497</td>\n",
       "      <td>-73.970120</td>\n",
       "      <td>1</td>\n",
       "      <td>1.902961</td>\n",
       "      <td>2010-04-14 19:30:00</td>\n",
       "      <td>19</td>\n",
       "      <td>1</td>\n",
       "    </tr>\n",
       "  </tbody>\n",
       "</table>\n",
       "</div>"
      ],
      "text/plain": [
       "                         fare_amount          pickup_datetime  \\\n",
       "2010-04-21 00:15:54.001          4.1  2010-04-21 00:15:54 UTC   \n",
       "2010-04-20 16:06:04.001          4.5  2010-04-20 16:06:04 UTC   \n",
       "2010-04-23 07:28:00.001          6.1  2010-04-23 07:28:00 UTC   \n",
       "2010-04-16 01:57:00.001          5.7  2010-04-16 01:57:00 UTC   \n",
       "2010-04-14 23:30:00.001          5.3  2010-04-14 23:30:00 UTC   \n",
       "\n",
       "                         pickup_latitude  pickup_longitude  dropoff_latitude  \\\n",
       "2010-04-21 00:15:54.001        40.724476        -73.994023         40.724189   \n",
       "2010-04-20 16:06:04.001        40.746612        -73.979809         40.753319   \n",
       "2010-04-23 07:28:00.001        40.769217        -73.954938         40.780015   \n",
       "2010-04-16 01:57:00.001        40.744590        -73.997640         40.744083   \n",
       "2010-04-14 23:30:00.001        40.767697        -73.959738         40.752497   \n",
       "\n",
       "                         dropoff_longitude  passenger_count   dist_km  \\\n",
       "2010-04-21 00:15:54.001         -73.984832                1  0.775182   \n",
       "2010-04-20 16:06:04.001         -73.980071                1  0.746111   \n",
       "2010-04-23 07:28:00.001         -73.961540                5  1.323139   \n",
       "2010-04-16 01:57:00.001         -73.977760                3  1.675730   \n",
       "2010-04-14 23:30:00.001         -73.970120                1  1.902961   \n",
       "\n",
       "                                    EDTdate  Hour  AMorPM  \n",
       "2010-04-21 00:15:54.001 2010-04-20 20:15:54    20       1  \n",
       "2010-04-20 16:06:04.001 2010-04-20 12:06:04    12       1  \n",
       "2010-04-23 07:28:00.001 2010-04-23 03:28:00     3      -1  \n",
       "2010-04-16 01:57:00.001 2010-04-15 21:57:00    21       1  \n",
       "2010-04-14 23:30:00.001 2010-04-14 19:30:00    19       1  "
      ]
     },
     "execution_count": 6,
     "metadata": {},
     "output_type": "execute_result"
    }
   ],
   "source": [
    "add_date_data(df)\n",
    "df.head()"
   ]
  },
  {
   "cell_type": "code",
   "execution_count": 13,
   "metadata": {},
   "outputs": [],
   "source": [
    "class Model(nn.Module):\n",
    "    def __init__(self, in_features=8,h1=40,h2=40,out_features=1):\n",
    "        super().__init__()\n",
    "        self.fc1 = nn.Linear(in_features,h1)    # input layer\n",
    "        self.fc2 = nn.Linear(h1, h2)            # hidden layer\n",
    "        self.out = nn.Linear(h2, out_features)  # output layer\n",
    "        \n",
    "    def forward(self, x):\n",
    "        x = self.fc1(x)\n",
    "        x = self.fc2(x)\n",
    "        x = self.out(x)\n",
    "        return x"
   ]
  },
  {
   "cell_type": "code",
   "execution_count": 8,
   "metadata": {},
   "outputs": [],
   "source": [
    "# X = df.drop(['fare_amount', 'pickup_datetime', 'EDTdate'],axis=1).values\n",
    "\n",
    "X = df[['pickup_latitude', 'pickup_longitude', 'dropoff_latitude', 'dropoff_longitude', 'dist_km']].values\n",
    "y = df['fare_amount'].values.reshape(-1,1)\n",
    "\n",
    "X_train, X_test, y_train, y_test = train_test_split(X,y,test_size=0.4,random_state=33)\n",
    "\n",
    "X_train = torch.FloatTensor(X_train)\n",
    "X_test = torch.FloatTensor(X_test)\n",
    "y_train = torch.FloatTensor(y_train)\n",
    "y_test = torch.FloatTensor(y_test)"
   ]
  },
  {
   "cell_type": "code",
   "execution_count": 19,
   "metadata": {},
   "outputs": [],
   "source": [
    "torch.manual_seed(101)\n",
    "model = Model(5,20,20,1)"
   ]
  },
  {
   "cell_type": "code",
   "execution_count": 20,
   "metadata": {},
   "outputs": [],
   "source": [
    "criterion = nn.MSELoss()\n",
    "optimizer = torch.optim.Adam(model.parameters(), lr=0.001)"
   ]
  },
  {
   "cell_type": "code",
   "execution_count": 21,
   "metadata": {},
   "outputs": [
    {
     "name": "stdout",
     "output_type": "stream",
     "text": [
      "epoch:  1  loss: 232.32006836\n",
      "epoch: 26  loss: 48.95733261\n",
      "epoch: 51  loss: 46.88208008\n",
      "epoch: 76  loss: 44.00962448\n",
      "epoch: 101  loss: 41.07673264\n",
      "epoch: 126  loss: 37.81284332\n",
      "epoch: 151  loss: 34.16957092\n",
      "epoch: 176  loss: 30.16994667\n",
      "epoch: 201  loss: 25.92285919\n",
      "epoch: 226  loss: 21.65953255\n",
      "epoch: 251  loss: 17.73870659\n",
      "epoch: 276  loss: 14.56721592\n",
      "epoch: 301  loss: 12.41889191\n",
      "epoch: 326  loss: 11.26122952\n",
      "epoch: 351  loss: 10.78555870\n",
      "epoch: 376  loss: 10.63974190\n",
      "epoch: 401  loss: 10.60633850\n",
      "epoch: 426  loss: 10.60053444\n",
      "epoch: 451  loss: 10.59976006\n",
      "epoch: 476  loss: 10.59967709\n"
     ]
    }
   ],
   "source": [
    "epochs = 500\n",
    "losses = []\n",
    "\n",
    "for i in range(epochs):\n",
    "    i+=1\n",
    "    y_pred = model(X_train)\n",
    "    loss = criterion(y_pred, y_train)\n",
    "    losses.append(loss)\n",
    "    \n",
    "    # a neat trick to save screen space:\n",
    "    if i%25 == 1:\n",
    "        print(f'epoch: {i:2}  loss: {loss.item():10.8f}')\n",
    "\n",
    "    optimizer.zero_grad()\n",
    "    loss.backward()\n",
    "    optimizer.step()"
   ]
  },
  {
   "cell_type": "markdown",
   "metadata": {},
   "source": [
    "## Plot the loss function"
   ]
  },
  {
   "cell_type": "code",
   "execution_count": 22,
   "metadata": {},
   "outputs": [
    {
     "data": {
      "image/png": "[encoded data removed]",
      "text/plain": [
       "<Figure size 432x288 with 1 Axes>"
      ]
     },
     "metadata": {
      "needs_background": "light"
     },
     "output_type": "display_data"
    }
   ],
   "source": [
    "plt.plot(range(epochs), losses)\n",
    "plt.ylabel('Loss')\n",
    "plt.xlabel('epoch');"
   ]
  },
  {
   "cell_type": "markdown",
   "metadata": {},
   "source": [
    "## Validate the model"
   ]
  },
  {
   "cell_type": "code",
   "execution_count": 23,
   "metadata": {},
   "outputs": [
    {
     "name": "stdout",
     "output_type": "stream",
     "text": [
      "11.54243565\n"
     ]
    }
   ],
   "source": [
    "# TO EVALUATE THE ENTIRE TEST SET\n",
    "with torch.no_grad():\n",
    "    y_val = model(X_test)\n",
    "    loss = criterion(y_val, y_test)\n",
    "print(f'{loss:.8f}')"
   ]
  },
  {
   "cell_type": "code",
   "execution_count": 35,
   "metadata": {},
   "outputs": [
    {
     "ename": "TypeError",
     "evalue": "unsupported format string passed to Tensor.__format__",
     "output_type": "error",
     "traceback": [
      "\u001b[1;31m---------------------------------------------------------------------------\u001b[0m",
      "\u001b[1;31mTypeError\u001b[0m                                 Traceback (most recent call last)",
      "\u001b[1;32m<ipython-input-35-b917048704b4>\u001b[0m in \u001b[0;36m<module>\u001b[1;34m\u001b[0m\n\u001b[0;32m      3\u001b[0m         \u001b[0my_val\u001b[0m \u001b[1;33m=\u001b[0m \u001b[0mmodel\u001b[0m\u001b[1;33m(\u001b[0m\u001b[0mdata\u001b[0m\u001b[1;33m)\u001b[0m\u001b[1;33m\u001b[0m\u001b[1;33m\u001b[0m\u001b[0m\n\u001b[0;32m      4\u001b[0m         \u001b[0mdiff\u001b[0m \u001b[1;33m=\u001b[0m \u001b[0mnp\u001b[0m\u001b[1;33m.\u001b[0m\u001b[0mabs\u001b[0m\u001b[1;33m(\u001b[0m\u001b[0my_val\u001b[0m\u001b[1;33m.\u001b[0m\u001b[0mitem\u001b[0m\u001b[1;33m(\u001b[0m\u001b[1;33m)\u001b[0m\u001b[1;33m-\u001b[0m\u001b[0my_test\u001b[0m\u001b[1;33m[\u001b[0m\u001b[0mi\u001b[0m\u001b[1;33m]\u001b[0m\u001b[1;33m.\u001b[0m\u001b[0mitem\u001b[0m\u001b[1;33m(\u001b[0m\u001b[1;33m)\u001b[0m\u001b[1;33m)\u001b[0m\u001b[1;33m\u001b[0m\u001b[1;33m\u001b[0m\u001b[0m\n\u001b[1;32m----> 5\u001b[1;33m         \u001b[0mprint\u001b[0m\u001b[1;33m(\u001b[0m\u001b[1;34mf'{i+1:2}. {y_val:20} {y_test[i]:20} '\u001b[0m\u001b[1;33m)\u001b[0m\u001b[1;33m\u001b[0m\u001b[1;33m\u001b[0m\u001b[0m\n\u001b[0m",
      "\u001b[1;32mC:\\Anaconda3\\envs\\pytorchenv\\lib\\site-packages\\torch\\tensor.py\u001b[0m in \u001b[0;36m__format__\u001b[1;34m(self, format_spec)\u001b[0m\n\u001b[0;32m    385\u001b[0m         \u001b[1;32mif\u001b[0m \u001b[0mself\u001b[0m\u001b[1;33m.\u001b[0m\u001b[0mdim\u001b[0m\u001b[1;33m(\u001b[0m\u001b[1;33m)\u001b[0m \u001b[1;33m==\u001b[0m \u001b[1;36m0\u001b[0m\u001b[1;33m:\u001b[0m\u001b[1;33m\u001b[0m\u001b[1;33m\u001b[0m\u001b[0m\n\u001b[0;32m    386\u001b[0m             \u001b[1;32mreturn\u001b[0m \u001b[0mself\u001b[0m\u001b[1;33m.\u001b[0m\u001b[0mitem\u001b[0m\u001b[1;33m(\u001b[0m\u001b[1;33m)\u001b[0m\u001b[1;33m.\u001b[0m\u001b[0m__format__\u001b[0m\u001b[1;33m(\u001b[0m\u001b[0mformat_spec\u001b[0m\u001b[1;33m)\u001b[0m\u001b[1;33m\u001b[0m\u001b[1;33m\u001b[0m\u001b[0m\n\u001b[1;32m--> 387\u001b[1;33m         \u001b[1;32mreturn\u001b[0m \u001b[0mobject\u001b[0m\u001b[1;33m.\u001b[0m\u001b[0m__format__\u001b[0m\u001b[1;33m(\u001b[0m\u001b[0mself\u001b[0m\u001b[1;33m,\u001b[0m \u001b[0mformat_spec\u001b[0m\u001b[1;33m)\u001b[0m\u001b[1;33m\u001b[0m\u001b[1;33m\u001b[0m\u001b[0m\n\u001b[0m\u001b[0;32m    388\u001b[0m \u001b[1;33m\u001b[0m\u001b[0m\n\u001b[0;32m    389\u001b[0m     \u001b[1;32mdef\u001b[0m \u001b[0m__ipow__\u001b[0m\u001b[1;33m(\u001b[0m\u001b[0mself\u001b[0m\u001b[1;33m,\u001b[0m \u001b[0mother\u001b[0m\u001b[1;33m)\u001b[0m\u001b[1;33m:\u001b[0m\u001b[1;33m\u001b[0m\u001b[1;33m\u001b[0m\u001b[0m\n",
      "\u001b[1;31mTypeError\u001b[0m: unsupported format string passed to Tensor.__format__"
     ]
    }
   ],
   "source": [
    "with torch.no_grad():\n",
    "    for i,data in enumerate(X_test[:50]):\n",
    "        y_val = model(data)\n",
    "        diff = np.abs(y_val.item()-y_test[i].item())\n",
    "        print(f'{i+1:2}. {y_val:20} {y_test[i]:20} ')"
   ]
  },
  {
   "cell_type": "code",
   "execution_count": 30,
   "metadata": {},
   "outputs": [
    {
     "data": {
      "text/plain": [
       "-0.4626951217651367"
      ]
     },
     "execution_count": 30,
     "metadata": {},
     "output_type": "execute_result"
    }
   ],
   "source": [
    "(y_val-y_test[i]).item()"
   ]
  },
  {
   "cell_type": "code",
   "execution_count": 32,
   "metadata": {},
   "outputs": [
    {
     "data": {
      "text/plain": [
       "0.4626951217651367"
      ]
     },
     "execution_count": 32,
     "metadata": {},
     "output_type": "execute_result"
    }
   ],
   "source": [
    "np.abs(y_val.item()-y_test[i].item())"
   ]
  },
  {
   "cell_type": "code",
   "execution_count": 50,
   "metadata": {},
   "outputs": [
    {
     "name": "stdout",
     "output_type": "stream",
     "text": [
      "    PREDICTED          ACTUAL              DIFF\n",
      " 1. tensor([9.2373])   tensor([9.7000])    0.4627\n",
      " 2. tensor([5.9482])   tensor([8.9000])    2.9518\n",
      " 3. tensor([12.5030])  tensor([9.7000])    2.8030\n",
      " 4. tensor([11.7367])  tensor([10.9000])   0.8367\n",
      " 5. tensor([6.1943])   tensor([4.9000])    1.2943\n",
      " 6. tensor([5.4922])   tensor([6.1000])    0.6078\n",
      " 7. tensor([6.2573])   tensor([6.1000])    0.1573\n",
      " 8. tensor([9.0925])   tensor([9.3000])    0.2075\n",
      " 9. tensor([4.9011])   tensor([3.7000])    1.2011\n",
      "10. tensor([8.1037])   tensor([6.5000])    1.6037\n",
      "11. tensor([5.9915])   tensor([4.1000])    1.8915\n",
      "12. tensor([8.0284])   tensor([6.5000])    1.5284\n",
      "13. tensor([7.2950])   tensor([4.9000])    2.3950\n",
      "14. tensor([8.7122])   tensor([6.1000])    2.6122\n",
      "15. tensor([8.4861])   tensor([8.1000])    0.3861\n",
      "16. tensor([10.9799])  tensor([11.7000])   0.7201\n",
      "17. tensor([14.6171])  tensor([13.3000])   1.3171\n",
      "18. tensor([7.2617])   tensor([7.7000])    0.4383\n",
      "19. tensor([8.3363])   tensor([8.9000])    0.5637\n",
      "20. tensor([6.1475])   tensor([6.9000])    0.7525\n",
      "21. tensor([7.7177])   tensor([9.7000])    1.9823\n",
      "22. tensor([8.6882])   tensor([8.1000])    0.5882\n",
      "23. tensor([6.1000])   tensor([7.3000])    1.2000\n",
      "24. tensor([7.0066])   tensor([7.3000])    0.2934\n",
      "25. tensor([10.2981])  tensor([10.1000])   0.1981\n",
      "26. tensor([4.8612])   tensor([4.1000])    0.7612\n",
      "27. tensor([14.6434])  tensor([20.1000])   5.4566\n",
      "28. tensor([7.9157])   tensor([7.3000])    0.6157\n",
      "29. tensor([5.6499])   tensor([5.3000])    0.3499\n",
      "30. tensor([4.3179])   tensor([4.1000])    0.2179\n",
      "31. tensor([6.0172])   tensor([4.9000])    1.1172\n",
      "32. tensor([6.0061])   tensor([5.3000])    0.7061\n",
      "33. tensor([4.6598])   tensor([5.7000])    1.0402\n",
      "34. tensor([7.8998])   tensor([6.1000])    1.7998\n",
      "35. tensor([7.1468])   tensor([8.1000])    0.9532\n",
      "36. tensor([6.2296])   tensor([5.7000])    0.5296\n",
      "37. tensor([7.6435])   tensor([6.9000])    0.7435\n",
      "38. tensor([17.6595])  tensor([15.3000])   2.3595\n",
      "39. tensor([4.7533])   tensor([11.7000])   6.9467\n",
      "40. tensor([9.0470])   tensor([9.3000])    0.2530\n",
      "41. tensor([5.4347])   tensor([4.5000])    0.9347\n",
      "42. tensor([7.4846])   tensor([5.7000])    1.7846\n",
      "43. tensor([10.0128])  tensor([6.5000])    3.5128\n",
      "44. tensor([5.3730])   tensor([4.5000])    0.8730\n",
      "45. tensor([5.7348])   tensor([4.9000])    0.8348\n",
      "46. tensor([24.2039])  tensor([37.0700])   12.8661\n",
      "47. tensor([13.8348])  tensor([10.5000])   3.3348\n",
      "48. tensor([6.0770])   tensor([6.1000])    0.0230\n",
      "49. tensor([7.2852])   tensor([7.3000])    0.0148\n",
      "50. tensor([5.1438])   tensor([3.7000])    1.4438\n",
      "51. tensor([5.9175])   tensor([4.5000])    1.4175\n",
      "52. tensor([6.7941])   tensor([6.1000])    0.6941\n",
      "53. tensor([12.0622])  tensor([11.7000])   0.3622\n",
      "54. tensor([4.9644])   tensor([3.7000])    1.2644\n",
      "55. tensor([4.8223])   tensor([9.3000])    4.4777\n",
      "56. tensor([17.7630])  tensor([14.5000])   3.2630\n",
      "57. tensor([12.0874])  tensor([13.7000])   1.6126\n",
      "58. tensor([4.2783])   tensor([3.7000])    0.5783\n",
      "59. tensor([10.5683])  tensor([10.9000])   0.3317\n",
      "60. tensor([6.5067])   tensor([49.5700])   43.0633\n",
      "61. tensor([5.8954])   tensor([6.9000])    1.0046\n",
      "62. tensor([40.4937])  tensor([43.0700])   2.5763\n",
      "63. tensor([8.5618])   tensor([9.3000])    0.7382\n",
      "64. tensor([8.8458])   tensor([8.1000])    0.7458\n",
      "65. tensor([5.8767])   tensor([6.1000])    0.2233\n",
      "66. tensor([7.6018])   tensor([6.5000])    1.1018\n",
      "67. tensor([7.8795])   tensor([6.1000])    1.7795\n",
      "68. tensor([5.3844])   tensor([3.7000])    1.6844\n",
      "69. tensor([19.4179])  tensor([24.6700])   5.2521\n",
      "70. tensor([4.6004])   tensor([4.9000])    0.2996\n",
      "71. tensor([5.9024])   tensor([3.7000])    2.2024\n",
      "72. tensor([5.5925])   tensor([9.3000])    3.7075\n",
      "73. tensor([24.6465])  tensor([20.9000])   3.7465\n",
      "74. tensor([13.9373])  tensor([11.7000])   2.2373\n",
      "75. tensor([13.2599])  tensor([12.1000])   1.1599\n",
      "76. tensor([13.2856])  tensor([14.1000])   0.8144\n",
      "77. tensor([10.5007])  tensor([7.7000])    2.8007\n",
      "78. tensor([10.6782])  tensor([8.1000])    2.5782\n",
      "79. tensor([5.4727])   tensor([4.9000])    0.5727\n",
      "80. tensor([6.4436])   tensor([4.9000])    1.5436\n"
     ]
    }
   ],
   "source": [
    "with torch.no_grad():\n",
    "    print(f'    {\"PREDICTED\":18} {\"ACTUAL\":19} {\"DIFF\"}')\n",
    "    for i,data in enumerate(X_test[:80]):\n",
    "        y_val = model(data)\n",
    "        diff = np.abs(y_val.item()-y_test[i].item())\n",
    "        print(f'{i+1:2}. {str(y_val):18} {str(y_test[i]):19} {diff:.4f}')"
   ]
  },
  {
   "cell_type": "markdown",
   "metadata": {},
   "source": [
    "Occasionally there are some large differences (see #60), but for the most part our model performed fairly well!"
   ]
  },
  {
   "cell_type": "code",
   "execution_count": null,
   "metadata": {},
   "outputs": [],
   "source": []
  }
 ],
 "metadata": {
  "kernelspec": {
   "display_name": "Python 3",
   "language": "python",
   "name": "python3"
  },
  "language_info": {
   "codemirror_mode": {
    "name": "ipython",
    "version": 3
   },
   "file_extension": ".py",
   "mimetype": "text/x-python",
   "name": "python",
   "nbconvert_exporter": "python",
   "pygments_lexer": "ipython3",
   "version": "3.7.3"
  }
 },
 "nbformat": 4,
 "nbformat_minor": 2
}
