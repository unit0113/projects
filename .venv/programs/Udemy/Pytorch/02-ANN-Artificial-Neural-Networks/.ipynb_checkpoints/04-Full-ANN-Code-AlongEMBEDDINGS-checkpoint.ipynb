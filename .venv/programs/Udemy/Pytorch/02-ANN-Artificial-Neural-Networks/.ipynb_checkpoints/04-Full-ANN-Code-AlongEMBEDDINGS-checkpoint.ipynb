{
 "cells": [
  {
   "cell_type": "markdown",
   "metadata": {
    "collapsed": true
   },
   "source": [
    "<img src=\"../Pierian-Data-Logo.PNG\">\n",
    "<br>\n",
    "<strong><center>Copyright 2019. Created by Jose Marcial Portilla.</center></strong>"
   ]
  },
  {
   "cell_type": "markdown",
   "metadata": {},
   "source": [
    "# Full Artificial Neural Network Code Along\n",
    "In the last section we took in four continuous variables (lengths) to perform a classification. In this section we'll combine continuous and categorical data to perform a regression. The goal is to estimate the cost of a New York City cab ride from several inputs. The inspiration behind this code along is a recent <a href='https://www.kaggle.com/c/new-york-city-taxi-fare-prediction'>Kaggle competition</a>.\n",
    "\n",
    "## Working with tabular data\n",
    "Deep learning with neural networks is often associated with image recognition. In upcoming sections we'll train models based on properties like pixels patterns and colors.\n",
    "\n",
    "Here we're working with columns of data that may or may not be relevant. As it happens, neural networks make connections we probably wouldn't have developed on our own. However, to do this we have to handle categorical values separately from continuous ones. Make sure to review the theory lectures on categorical values, <em>embeddings</em>, and <em>dropout layers</em>."
   ]
  },
  {
   "cell_type": "markdown",
   "metadata": {},
   "source": [
    "## Perform standard imports"
   ]
  },
  {
   "cell_type": "code",
   "execution_count": 1,
   "metadata": {},
   "outputs": [],
   "source": [
    "import torch\n",
    "import torch.nn as nn\n",
    "import torch.nn.functional as F\n",
    "from torch.utils.data import Dataset, DataLoader\n",
    "from sklearn.model_selection import train_test_split\n",
    "\n",
    "import numpy as np\n",
    "import pandas as pd\n",
    "import matplotlib.pyplot as plt\n",
    "%matplotlib inline"
   ]
  },
  {
   "cell_type": "markdown",
   "metadata": {},
   "source": [
    "## Load the NYC Taxi Fares dataset\n",
    "The <a href='https://www.kaggle.com/c/new-york-city-taxi-fare-prediction'>Kaggle competition</a> provides a dataset with about 55 million records. The data contains only the pickup date & time, the latitude & longitude (GPS coordinates) of the pickup and dropoff locations, and the number of passengers. It is up to the contest participant to extract any further information. For instance, does the time of day matter? The day of the week? How do we determine the distance traveled from pairs of GPS coordinates?\n",
    "\n",
    "For this exercise we've whittled the dataset down to just 100,000 records from April 11 to April 24, 2010. The records are randomly sorted. We'll show how to calculate distance from GPS coordinates, and how to create a pandas datatime object from a text column. This will let us quickly get information like day of the week, am vs. pm, etc.\n",
    "\n",
    "Let's get started!"
   ]
  },
  {
   "cell_type": "code",
   "execution_count": 2,
   "metadata": {},
   "outputs": [
    {
     "data": {
      "text/html": [
       "<div>\n",
       "<style scoped>\n",
       "    .dataframe tbody tr th:only-of-type {\n",
       "        vertical-align: middle;\n",
       "    }\n",
       "\n",
       "    .dataframe tbody tr th {\n",
       "        vertical-align: top;\n",
       "    }\n",
       "\n",
       "    .dataframe thead th {\n",
       "        text-align: right;\n",
       "    }\n",
       "</style>\n",
       "<table border=\"1\" class=\"dataframe\">\n",
       "  <thead>\n",
       "    <tr style=\"text-align: right;\">\n",
       "      <th></th>\n",
       "      <th>fare_amount</th>\n",
       "      <th>pickup_datetime</th>\n",
       "      <th>pickup_latitude</th>\n",
       "      <th>pickup_longitude</th>\n",
       "      <th>dropoff_latitude</th>\n",
       "      <th>dropoff_longitude</th>\n",
       "      <th>passenger_count</th>\n",
       "    </tr>\n",
       "  </thead>\n",
       "  <tbody>\n",
       "    <tr>\n",
       "      <th>2010-04-21 00:15:54.001</th>\n",
       "      <td>4.1</td>\n",
       "      <td>2010-04-21 00:15:54 UTC</td>\n",
       "      <td>40.724476</td>\n",
       "      <td>-73.994023</td>\n",
       "      <td>40.724189</td>\n",
       "      <td>-73.984832</td>\n",
       "      <td>1</td>\n",
       "    </tr>\n",
       "    <tr>\n",
       "      <th>2010-04-20 16:06:04.001</th>\n",
       "      <td>4.5</td>\n",
       "      <td>2010-04-20 16:06:04 UTC</td>\n",
       "      <td>40.746612</td>\n",
       "      <td>-73.979809</td>\n",
       "      <td>40.753319</td>\n",
       "      <td>-73.980071</td>\n",
       "      <td>1</td>\n",
       "    </tr>\n",
       "    <tr>\n",
       "      <th>2010-04-23 07:28:00.001</th>\n",
       "      <td>6.1</td>\n",
       "      <td>2010-04-23 07:28:00 UTC</td>\n",
       "      <td>40.769217</td>\n",
       "      <td>-73.954938</td>\n",
       "      <td>40.780015</td>\n",
       "      <td>-73.961540</td>\n",
       "      <td>5</td>\n",
       "    </tr>\n",
       "    <tr>\n",
       "      <th>2010-04-16 01:57:00.001</th>\n",
       "      <td>5.7</td>\n",
       "      <td>2010-04-16 01:57:00 UTC</td>\n",
       "      <td>40.744590</td>\n",
       "      <td>-73.997640</td>\n",
       "      <td>40.744083</td>\n",
       "      <td>-73.977760</td>\n",
       "      <td>3</td>\n",
       "    </tr>\n",
       "    <tr>\n",
       "      <th>2010-04-14 23:30:00.001</th>\n",
       "      <td>5.3</td>\n",
       "      <td>2010-04-14 23:30:00 UTC</td>\n",
       "      <td>40.767697</td>\n",
       "      <td>-73.959738</td>\n",
       "      <td>40.752497</td>\n",
       "      <td>-73.970120</td>\n",
       "      <td>1</td>\n",
       "    </tr>\n",
       "  </tbody>\n",
       "</table>\n",
       "</div>"
      ],
      "text/plain": [
       "                         fare_amount          pickup_datetime  \\\n",
       "2010-04-21 00:15:54.001          4.1  2010-04-21 00:15:54 UTC   \n",
       "2010-04-20 16:06:04.001          4.5  2010-04-20 16:06:04 UTC   \n",
       "2010-04-23 07:28:00.001          6.1  2010-04-23 07:28:00 UTC   \n",
       "2010-04-16 01:57:00.001          5.7  2010-04-16 01:57:00 UTC   \n",
       "2010-04-14 23:30:00.001          5.3  2010-04-14 23:30:00 UTC   \n",
       "\n",
       "                         pickup_latitude  pickup_longitude  dropoff_latitude  \\\n",
       "2010-04-21 00:15:54.001        40.724476        -73.994023         40.724189   \n",
       "2010-04-20 16:06:04.001        40.746612        -73.979809         40.753319   \n",
       "2010-04-23 07:28:00.001        40.769217        -73.954938         40.780015   \n",
       "2010-04-16 01:57:00.001        40.744590        -73.997640         40.744083   \n",
       "2010-04-14 23:30:00.001        40.767697        -73.959738         40.752497   \n",
       "\n",
       "                         dropoff_longitude  passenger_count  \n",
       "2010-04-21 00:15:54.001         -73.984832                1  \n",
       "2010-04-20 16:06:04.001         -73.980071                1  \n",
       "2010-04-23 07:28:00.001         -73.961540                5  \n",
       "2010-04-16 01:57:00.001         -73.977760                3  \n",
       "2010-04-14 23:30:00.001         -73.970120                1  "
      ]
     },
     "execution_count": 2,
     "metadata": {},
     "output_type": "execute_result"
    }
   ],
   "source": [
    "df = pd.read_csv('../Data/NYCTaxiFares2.csv',index_col=0)\n",
    "df.head()"
   ]
  },
  {
   "cell_type": "markdown",
   "metadata": {},
   "source": [
    "## Calculate the distance traveled\n",
    "The <a href='https://en.wikipedia.org/wiki/Haversine_formula'>haversine formula</a> calculates the distance on a sphere between two sets of GPS coordinates.<br>Here we assign latitude values with $\\varphi$ (phi) and longitude with $\\lambda$ (lambda).\n",
    "\n",
    "The distance formula works out to\n",
    "\n",
    "${\\displaystyle d=2r\\arcsin \\left({\\sqrt {\\sin ^{2}\\left({\\frac {\\varphi _{2}-\\varphi _{1}}{2}}\\right)+\\cos(\\varphi _{1})\\:\\cos(\\varphi _{2})\\:\\sin ^{2}\\left({\\frac {\\lambda _{2}-\\lambda _{1}}{2}}\\right)}}\\right)}$\n",
    "\n",
    "where\n",
    "\n",
    "$\\begin{split} r&: \\textrm {radius of the sphere (Earth's radius averages 6371 km)}\\\\\n",
    "\\varphi_1, \\varphi_2&: \\textrm {latitudes of point 1 and point 2}\\\\\n",
    "\\lambda_1, \\lambda_2&: \\textrm {longitudes of point 1 and point 2}\\end{split}$"
   ]
  },
  {
   "cell_type": "code",
   "execution_count": 3,
   "metadata": {},
   "outputs": [],
   "source": [
    "def haversine_distance(df, lat1, long1, lat2, long2):\n",
    "    \"\"\"\n",
    "    Calculates the haversine distance between 2 sets of GPS coordinates in a DataFrame\n",
    "    \"\"\"\n",
    "    r = 6371  # average radius of Earth in kilometers\n",
    "       \n",
    "    phi1 = np.radians(df[lat1])\n",
    "    phi2 = np.radians(df[lat2])\n",
    "    \n",
    "    delta_phi = np.radians(df[lat2]-df[lat1])\n",
    "    delta_lambda = np.radians(df[long2]-df[long1])\n",
    "    \n",
    "        \n",
    "    a = np.sin(delta_phi / 2.0) ** 2 + np.cos(phi1) * np.cos(phi2) * np.sin(delta_lambda / 2.0) ** 2\n",
    "    c = 2 * np.arctan2(np.sqrt(a), np.sqrt(1-a))\n",
    "    d = (r * c) # in kilometers\n",
    "    \n",
    "    return d"
   ]
  },
  {
   "cell_type": "code",
   "execution_count": 4,
   "metadata": {},
   "outputs": [
    {
     "data": {
      "text/html": [
       "<div>\n",
       "<style scoped>\n",
       "    .dataframe tbody tr th:only-of-type {\n",
       "        vertical-align: middle;\n",
       "    }\n",
       "\n",
       "    .dataframe tbody tr th {\n",
       "        vertical-align: top;\n",
       "    }\n",
       "\n",
       "    .dataframe thead th {\n",
       "        text-align: right;\n",
       "    }\n",
       "</style>\n",
       "<table border=\"1\" class=\"dataframe\">\n",
       "  <thead>\n",
       "    <tr style=\"text-align: right;\">\n",
       "      <th></th>\n",
       "      <th>fare_amount</th>\n",
       "      <th>pickup_datetime</th>\n",
       "      <th>pickup_latitude</th>\n",
       "      <th>pickup_longitude</th>\n",
       "      <th>dropoff_latitude</th>\n",
       "      <th>dropoff_longitude</th>\n",
       "      <th>passenger_count</th>\n",
       "      <th>dist_km</th>\n",
       "    </tr>\n",
       "  </thead>\n",
       "  <tbody>\n",
       "    <tr>\n",
       "      <th>2010-04-21 00:15:54.001</th>\n",
       "      <td>4.1</td>\n",
       "      <td>2010-04-21 00:15:54 UTC</td>\n",
       "      <td>40.724476</td>\n",
       "      <td>-73.994023</td>\n",
       "      <td>40.724189</td>\n",
       "      <td>-73.984832</td>\n",
       "      <td>1</td>\n",
       "      <td>0.775182</td>\n",
       "    </tr>\n",
       "    <tr>\n",
       "      <th>2010-04-20 16:06:04.001</th>\n",
       "      <td>4.5</td>\n",
       "      <td>2010-04-20 16:06:04 UTC</td>\n",
       "      <td>40.746612</td>\n",
       "      <td>-73.979809</td>\n",
       "      <td>40.753319</td>\n",
       "      <td>-73.980071</td>\n",
       "      <td>1</td>\n",
       "      <td>0.746111</td>\n",
       "    </tr>\n",
       "    <tr>\n",
       "      <th>2010-04-23 07:28:00.001</th>\n",
       "      <td>6.1</td>\n",
       "      <td>2010-04-23 07:28:00 UTC</td>\n",
       "      <td>40.769217</td>\n",
       "      <td>-73.954938</td>\n",
       "      <td>40.780015</td>\n",
       "      <td>-73.961540</td>\n",
       "      <td>5</td>\n",
       "      <td>1.323139</td>\n",
       "    </tr>\n",
       "    <tr>\n",
       "      <th>2010-04-16 01:57:00.001</th>\n",
       "      <td>5.7</td>\n",
       "      <td>2010-04-16 01:57:00 UTC</td>\n",
       "      <td>40.744590</td>\n",
       "      <td>-73.997640</td>\n",
       "      <td>40.744083</td>\n",
       "      <td>-73.977760</td>\n",
       "      <td>3</td>\n",
       "      <td>1.675730</td>\n",
       "    </tr>\n",
       "    <tr>\n",
       "      <th>2010-04-14 23:30:00.001</th>\n",
       "      <td>5.3</td>\n",
       "      <td>2010-04-14 23:30:00 UTC</td>\n",
       "      <td>40.767697</td>\n",
       "      <td>-73.959738</td>\n",
       "      <td>40.752497</td>\n",
       "      <td>-73.970120</td>\n",
       "      <td>1</td>\n",
       "      <td>1.902961</td>\n",
       "    </tr>\n",
       "  </tbody>\n",
       "</table>\n",
       "</div>"
      ],
      "text/plain": [
       "                         fare_amount          pickup_datetime  \\\n",
       "2010-04-21 00:15:54.001          4.1  2010-04-21 00:15:54 UTC   \n",
       "2010-04-20 16:06:04.001          4.5  2010-04-20 16:06:04 UTC   \n",
       "2010-04-23 07:28:00.001          6.1  2010-04-23 07:28:00 UTC   \n",
       "2010-04-16 01:57:00.001          5.7  2010-04-16 01:57:00 UTC   \n",
       "2010-04-14 23:30:00.001          5.3  2010-04-14 23:30:00 UTC   \n",
       "\n",
       "                         pickup_latitude  pickup_longitude  dropoff_latitude  \\\n",
       "2010-04-21 00:15:54.001        40.724476        -73.994023         40.724189   \n",
       "2010-04-20 16:06:04.001        40.746612        -73.979809         40.753319   \n",
       "2010-04-23 07:28:00.001        40.769217        -73.954938         40.780015   \n",
       "2010-04-16 01:57:00.001        40.744590        -73.997640         40.744083   \n",
       "2010-04-14 23:30:00.001        40.767697        -73.959738         40.752497   \n",
       "\n",
       "                         dropoff_longitude  passenger_count   dist_km  \n",
       "2010-04-21 00:15:54.001         -73.984832                1  0.775182  \n",
       "2010-04-20 16:06:04.001         -73.980071                1  0.746111  \n",
       "2010-04-23 07:28:00.001         -73.961540                5  1.323139  \n",
       "2010-04-16 01:57:00.001         -73.977760                3  1.675730  \n",
       "2010-04-14 23:30:00.001         -73.970120                1  1.902961  "
      ]
     },
     "execution_count": 4,
     "metadata": {},
     "output_type": "execute_result"
    }
   ],
   "source": [
    "df['dist_km'] = haversine_distance(df,'pickup_latitude', 'pickup_longitude', 'dropoff_latitude', 'dropoff_longitude')\n",
    "df.head()"
   ]
  },
  {
   "cell_type": "markdown",
   "metadata": {},
   "source": [
    "## Add a Datetime column and derive useful statistics\n",
    "By creating a datetime object, we can extract information like \"day of the week\", \"am vs. pm\" etc.\n",
    "Note that the data was saved in UTC time. Our data falls in April of 2010 which occurred during Daylight Savings Time in New York. For that reason, we'll make an adjustment to UTC-4 (subtracting four hours)."
   ]
  },
  {
   "cell_type": "code",
   "execution_count": 5,
   "metadata": {},
   "outputs": [
    {
     "data": {
      "text/html": [
       "<div>\n",
       "<style scoped>\n",
       "    .dataframe tbody tr th:only-of-type {\n",
       "        vertical-align: middle;\n",
       "    }\n",
       "\n",
       "    .dataframe tbody tr th {\n",
       "        vertical-align: top;\n",
       "    }\n",
       "\n",
       "    .dataframe thead th {\n",
       "        text-align: right;\n",
       "    }\n",
       "</style>\n",
       "<table border=\"1\" class=\"dataframe\">\n",
       "  <thead>\n",
       "    <tr style=\"text-align: right;\">\n",
       "      <th></th>\n",
       "      <th>fare_amount</th>\n",
       "      <th>pickup_datetime</th>\n",
       "      <th>pickup_latitude</th>\n",
       "      <th>pickup_longitude</th>\n",
       "      <th>dropoff_latitude</th>\n",
       "      <th>dropoff_longitude</th>\n",
       "      <th>passenger_count</th>\n",
       "      <th>dist_km</th>\n",
       "      <th>EDTdate</th>\n",
       "      <th>Hour</th>\n",
       "      <th>AMorPM</th>\n",
       "      <th>Weekday</th>\n",
       "    </tr>\n",
       "  </thead>\n",
       "  <tbody>\n",
       "    <tr>\n",
       "      <th>2010-04-21 00:15:54.001</th>\n",
       "      <td>4.1</td>\n",
       "      <td>2010-04-21 00:15:54 UTC</td>\n",
       "      <td>40.724476</td>\n",
       "      <td>-73.994023</td>\n",
       "      <td>40.724189</td>\n",
       "      <td>-73.984832</td>\n",
       "      <td>1</td>\n",
       "      <td>0.775182</td>\n",
       "      <td>2010-04-20 20:15:54</td>\n",
       "      <td>20</td>\n",
       "      <td>pm</td>\n",
       "      <td>Tue</td>\n",
       "    </tr>\n",
       "    <tr>\n",
       "      <th>2010-04-20 16:06:04.001</th>\n",
       "      <td>4.5</td>\n",
       "      <td>2010-04-20 16:06:04 UTC</td>\n",
       "      <td>40.746612</td>\n",
       "      <td>-73.979809</td>\n",
       "      <td>40.753319</td>\n",
       "      <td>-73.980071</td>\n",
       "      <td>1</td>\n",
       "      <td>0.746111</td>\n",
       "      <td>2010-04-20 12:06:04</td>\n",
       "      <td>12</td>\n",
       "      <td>pm</td>\n",
       "      <td>Tue</td>\n",
       "    </tr>\n",
       "    <tr>\n",
       "      <th>2010-04-23 07:28:00.001</th>\n",
       "      <td>6.1</td>\n",
       "      <td>2010-04-23 07:28:00 UTC</td>\n",
       "      <td>40.769217</td>\n",
       "      <td>-73.954938</td>\n",
       "      <td>40.780015</td>\n",
       "      <td>-73.961540</td>\n",
       "      <td>5</td>\n",
       "      <td>1.323139</td>\n",
       "      <td>2010-04-23 03:28:00</td>\n",
       "      <td>3</td>\n",
       "      <td>am</td>\n",
       "      <td>Fri</td>\n",
       "    </tr>\n",
       "    <tr>\n",
       "      <th>2010-04-16 01:57:00.001</th>\n",
       "      <td>5.7</td>\n",
       "      <td>2010-04-16 01:57:00 UTC</td>\n",
       "      <td>40.744590</td>\n",
       "      <td>-73.997640</td>\n",
       "      <td>40.744083</td>\n",
       "      <td>-73.977760</td>\n",
       "      <td>3</td>\n",
       "      <td>1.675730</td>\n",
       "      <td>2010-04-15 21:57:00</td>\n",
       "      <td>21</td>\n",
       "      <td>pm</td>\n",
       "      <td>Thu</td>\n",
       "    </tr>\n",
       "    <tr>\n",
       "      <th>2010-04-14 23:30:00.001</th>\n",
       "      <td>5.3</td>\n",
       "      <td>2010-04-14 23:30:00 UTC</td>\n",
       "      <td>40.767697</td>\n",
       "      <td>-73.959738</td>\n",
       "      <td>40.752497</td>\n",
       "      <td>-73.970120</td>\n",
       "      <td>1</td>\n",
       "      <td>1.902961</td>\n",
       "      <td>2010-04-14 19:30:00</td>\n",
       "      <td>19</td>\n",
       "      <td>pm</td>\n",
       "      <td>Wed</td>\n",
       "    </tr>\n",
       "  </tbody>\n",
       "</table>\n",
       "</div>"
      ],
      "text/plain": [
       "                         fare_amount          pickup_datetime  \\\n",
       "2010-04-21 00:15:54.001          4.1  2010-04-21 00:15:54 UTC   \n",
       "2010-04-20 16:06:04.001          4.5  2010-04-20 16:06:04 UTC   \n",
       "2010-04-23 07:28:00.001          6.1  2010-04-23 07:28:00 UTC   \n",
       "2010-04-16 01:57:00.001          5.7  2010-04-16 01:57:00 UTC   \n",
       "2010-04-14 23:30:00.001          5.3  2010-04-14 23:30:00 UTC   \n",
       "\n",
       "                         pickup_latitude  pickup_longitude  dropoff_latitude  \\\n",
       "2010-04-21 00:15:54.001        40.724476        -73.994023         40.724189   \n",
       "2010-04-20 16:06:04.001        40.746612        -73.979809         40.753319   \n",
       "2010-04-23 07:28:00.001        40.769217        -73.954938         40.780015   \n",
       "2010-04-16 01:57:00.001        40.744590        -73.997640         40.744083   \n",
       "2010-04-14 23:30:00.001        40.767697        -73.959738         40.752497   \n",
       "\n",
       "                         dropoff_longitude  passenger_count   dist_km  \\\n",
       "2010-04-21 00:15:54.001         -73.984832                1  0.775182   \n",
       "2010-04-20 16:06:04.001         -73.980071                1  0.746111   \n",
       "2010-04-23 07:28:00.001         -73.961540                5  1.323139   \n",
       "2010-04-16 01:57:00.001         -73.977760                3  1.675730   \n",
       "2010-04-14 23:30:00.001         -73.970120                1  1.902961   \n",
       "\n",
       "                                    EDTdate  Hour AMorPM Weekday  \n",
       "2010-04-21 00:15:54.001 2010-04-20 20:15:54    20     pm     Tue  \n",
       "2010-04-20 16:06:04.001 2010-04-20 12:06:04    12     pm     Tue  \n",
       "2010-04-23 07:28:00.001 2010-04-23 03:28:00     3     am     Fri  \n",
       "2010-04-16 01:57:00.001 2010-04-15 21:57:00    21     pm     Thu  \n",
       "2010-04-14 23:30:00.001 2010-04-14 19:30:00    19     pm     Wed  "
      ]
     },
     "execution_count": 5,
     "metadata": {},
     "output_type": "execute_result"
    }
   ],
   "source": [
    "df['EDTdate'] = pd.to_datetime(df['pickup_datetime'].str[:19]) - pd.Timedelta(hours=4)\n",
    "df['Hour'] = df['EDTdate'].dt.hour\n",
    "df['AMorPM'] = np.where(df['Hour']<12,'am','pm')\n",
    "df['Weekday'] = df['EDTdate'].dt.strftime(\"%a\")\n",
    "df.head()"
   ]
  },
  {
   "cell_type": "markdown",
   "metadata": {},
   "source": [
    "## Separate categorical from continuous columns\n",
    "The model we'll define below requires that categorical data come in as one batch, and continuous as another."
   ]
  },
  {
   "cell_type": "code",
   "execution_count": 6,
   "metadata": {},
   "outputs": [
    {
     "data": {
      "text/plain": [
       "Index(['fare_amount', 'pickup_datetime', 'pickup_latitude', 'pickup_longitude',\n",
       "       'dropoff_latitude', 'dropoff_longitude', 'passenger_count', 'dist_km',\n",
       "       'EDTdate', 'Hour', 'AMorPM', 'Weekday'],\n",
       "      dtype='object')"
      ]
     },
     "execution_count": 6,
     "metadata": {},
     "output_type": "execute_result"
    }
   ],
   "source": [
    "df.columns"
   ]
  },
  {
   "cell_type": "code",
   "execution_count": 7,
   "metadata": {},
   "outputs": [],
   "source": [
    "cat_cols = ['Hour', 'AMorPM', 'Weekday']\n",
    "cont_cols = ['pickup_latitude', 'pickup_longitude', 'dropoff_latitude', 'dropoff_longitude', 'passenger_count', 'dist_km']\n",
    "y_col = ['fare_amount']  # this column contains the labels"
   ]
  },
  {
   "cell_type": "markdown",
   "metadata": {},
   "source": [
    "<div class=\"alert alert-info\"><strong>NOTE:</strong> If you plan to use all of the columns in the data table, there's a shortcut to grab the remaining continuous columns:<br>\n",
    "<pre style='background-color:rgb(217,237,247)'>cont_cols = [col for col in df.columns if col not in cat_cols + y_col]</pre>\n",
    "\n",
    "We entered the continuous columns explicitly because there are columns we're not running through the model (pickup_datetime and EDTdate)</div>\n"
   ]
  },
  {
   "cell_type": "markdown",
   "metadata": {},
   "source": [
    "## Categorify\n",
    "Pandas offers a <a href='https://pandas.pydata.org/pandas-docs/stable/user_guide/categorical.html'>category dtype</a> for converting text to numerical values. Eventually we want our "
   ]
  },
  {
   "cell_type": "code",
   "execution_count": 16,
   "metadata": {},
   "outputs": [],
   "source": [
    "for category in cat_cols:\n",
    "    df[category] = df[category].astype('category').cat.as_ordered()"
   ]
  },
  {
   "cell_type": "code",
   "execution_count": 17,
   "metadata": {},
   "outputs": [
    {
     "data": {
      "text/plain": [
       "2010-04-21 00:15:54.001    20\n",
       "2010-04-20 16:06:04.001    12\n",
       "2010-04-23 07:28:00.001     3\n",
       "2010-04-16 01:57:00.001    21\n",
       "2010-04-14 23:30:00.001    19\n",
       "2010-04-11 13:25:15.001     9\n",
       "2010-04-21 18:07:00.001    14\n",
       "2010-04-15 07:25:19.001     3\n",
       "2010-04-15 13:11:00.001     9\n",
       "2010-04-23 14:28:38.001    10\n",
       "Name: Hour, dtype: category\n",
       "Categories (24, int64): [0, 1, 2, 3, ..., 20, 21, 22, 23]"
      ]
     },
     "execution_count": 17,
     "metadata": {},
     "output_type": "execute_result"
    }
   ],
   "source": [
    "df['Hour'].astype('category')[:10]"
   ]
  },
  {
   "cell_type": "code",
   "execution_count": 22,
   "metadata": {},
   "outputs": [
    {
     "data": {
      "text/plain": [
       "2010-04-21 00:15:54.001    20\n",
       "2010-04-20 16:06:04.001    12\n",
       "2010-04-23 07:28:00.001     3\n",
       "2010-04-16 01:57:00.001    21\n",
       "2010-04-14 23:30:00.001    19\n",
       "2010-04-11 13:25:15.001     9\n",
       "2010-04-21 18:07:00.001    14\n",
       "2010-04-15 07:25:19.001     3\n",
       "2010-04-15 13:11:00.001     9\n",
       "2010-04-23 14:28:38.001    10\n",
       "Name: Hour, dtype: category\n",
       "Categories (24, int64): [0 < 1 < 2 < 3 ... 20 < 21 < 22 < 23]"
      ]
     },
     "execution_count": 22,
     "metadata": {},
     "output_type": "execute_result"
    }
   ],
   "source": [
    "df['Hour'].astype('category').cat.as_ordered()[:10]"
   ]
  },
  {
   "cell_type": "code",
   "execution_count": 20,
   "metadata": {},
   "outputs": [
    {
     "ename": "NameError",
     "evalue": "name 'CategoricalDtype' is not defined",
     "output_type": "error",
     "traceback": [
      "\u001b[1;31m---------------------------------------------------------------------------\u001b[0m",
      "\u001b[1;31mNameError\u001b[0m                                 Traceback (most recent call last)",
      "\u001b[1;32m<ipython-input-20-34707365ef54>\u001b[0m in \u001b[0;36m<module>\u001b[1;34m\u001b[0m\n\u001b[1;32m----> 1\u001b[1;33m \u001b[0mdf\u001b[0m\u001b[1;33m[\u001b[0m\u001b[1;34m'Hour'\u001b[0m\u001b[1;33m]\u001b[0m\u001b[1;33m.\u001b[0m\u001b[0mastype\u001b[0m\u001b[1;33m(\u001b[0m\u001b[0mCategoricalDtype\u001b[0m\u001b[1;33m(\u001b[0m\u001b[0mordered\u001b[0m\u001b[1;33m=\u001b[0m\u001b[1;32mTrue\u001b[0m\u001b[1;33m)\u001b[0m\u001b[1;33m)\u001b[0m\u001b[1;33m[\u001b[0m\u001b[1;33m:\u001b[0m\u001b[1;36m10\u001b[0m\u001b[1;33m]\u001b[0m\u001b[1;33m\u001b[0m\u001b[1;33m\u001b[0m\u001b[0m\n\u001b[0m",
      "\u001b[1;31mNameError\u001b[0m: name 'CategoricalDtype' is not defined"
     ]
    }
   ],
   "source": [
    "df['Hour'].astype(CategoricalDtype(ordered=True))[:10]"
   ]
  },
  {
   "cell_type": "code",
   "execution_count": 19,
   "metadata": {},
   "outputs": [
    {
     "data": {
      "text/plain": [
       "[20, 12, 3, 21, 19, 9, 14, 3, 9, 10]\n",
       "Categories (24, int64): [0, 1, 2, 3, ..., 20, 21, 22, 23]"
      ]
     },
     "execution_count": 19,
     "metadata": {},
     "output_type": "execute_result"
    }
   ],
   "source": [
    "pd.Categorical(df['Hour'])[:10]"
   ]
  },
  {
   "cell_type": "code",
   "execution_count": 14,
   "metadata": {},
   "outputs": [
    {
     "data": {
      "text/plain": [
       "Int64Index([ 0,  1,  2,  3,  4,  5,  6,  7,  8,  9, 10, 11, 12, 13, 14, 15, 16,\n",
       "            17, 18, 19, 20, 21, 22, 23],\n",
       "           dtype='int64')"
      ]
     },
     "execution_count": 14,
     "metadata": {},
     "output_type": "execute_result"
    }
   ],
   "source": [
    "df['HourC'].cat.categories"
   ]
  },
  {
   "cell_type": "code",
   "execution_count": 15,
   "metadata": {},
   "outputs": [
    {
     "data": {
      "text/plain": [
       "True"
      ]
     },
     "execution_count": 15,
     "metadata": {},
     "output_type": "execute_result"
    }
   ],
   "source": [
    "df['HourC'].cat.ordered"
   ]
  },
  {
   "cell_type": "code",
   "execution_count": null,
   "metadata": {},
   "outputs": [],
   "source": []
  },
  {
   "cell_type": "code",
   "execution_count": 17,
   "metadata": {},
   "outputs": [
    {
     "data": {
      "text/plain": [
       "fare_amount                 float64\n",
       "pickup_datetime              object\n",
       "pickup_latitude             float64\n",
       "pickup_longitude            float64\n",
       "dropoff_latitude            float64\n",
       "dropoff_longitude           float64\n",
       "passenger_count               int64\n",
       "dist_km                     float64\n",
       "EDTdate              datetime64[ns]\n",
       "Hour                       category\n",
       "AMorPM                     category\n",
       "Weekday                    category\n",
       "dtype: object"
      ]
     },
     "execution_count": 17,
     "metadata": {},
     "output_type": "execute_result"
    }
   ],
   "source": [
    "df.dtypes"
   ]
  },
  {
   "cell_type": "code",
   "execution_count": 18,
   "metadata": {},
   "outputs": [
    {
     "data": {
      "text/plain": [
       "Int64Index([ 0,  1,  2,  3,  4,  5,  6,  7,  8,  9, 10, 11, 12, 13, 14, 15, 16,\n",
       "            17, 18, 19, 20, 21, 22, 23],\n",
       "           dtype='int64')"
      ]
     },
     "execution_count": 18,
     "metadata": {},
     "output_type": "execute_result"
    }
   ],
   "source": [
    "df['Hour'].cat.categories"
   ]
  },
  {
   "cell_type": "code",
   "execution_count": 19,
   "metadata": {},
   "outputs": [
    {
     "data": {
      "text/plain": [
       "Index(['am', 'pm'], dtype='object')"
      ]
     },
     "execution_count": 19,
     "metadata": {},
     "output_type": "execute_result"
    }
   ],
   "source": [
    "df['AMorPM'].cat.categories"
   ]
  },
  {
   "cell_type": "code",
   "execution_count": 20,
   "metadata": {},
   "outputs": [
    {
     "data": {
      "text/plain": [
       "Index(['Fri', 'Mon', 'Sat', 'Sun', 'Thu', 'Tue', 'Wed'], dtype='object')"
      ]
     },
     "execution_count": 20,
     "metadata": {},
     "output_type": "execute_result"
    }
   ],
   "source": [
    "df['Weekday'].cat.categories"
   ]
  },
  {
   "cell_type": "code",
   "execution_count": 21,
   "metadata": {},
   "outputs": [
    {
     "data": {
      "text/plain": [
       "2010-04-21 00:15:54.001    5\n",
       "2010-04-20 16:06:04.001    5\n",
       "2010-04-23 07:28:00.001    0\n",
       "2010-04-16 01:57:00.001    4\n",
       "2010-04-14 23:30:00.001    6\n",
       "dtype: int8"
      ]
     },
     "execution_count": 21,
     "metadata": {},
     "output_type": "execute_result"
    }
   ],
   "source": [
    "df['Weekday'].head().cat.codes"
   ]
  },
  {
   "cell_type": "markdown",
   "metadata": {},
   "source": [
    "<div class=\"alert alert-info\"><strong>NOTE: </strong>NaN values in categorical data are assigned a code of -1. We don't have any in this particular dataset.</div>"
   ]
  },
  {
   "cell_type": "markdown",
   "metadata": {},
   "source": [
    "Now we want to combine the three categorical columns into one input array using <a href='https://docs.scipy.org/doc/numpy/reference/generated/numpy.stack.html'><tt>numpy.stack</tt></a>"
   ]
  },
  {
   "cell_type": "code",
   "execution_count": 22,
   "metadata": {},
   "outputs": [],
   "source": [
    "cats = np.stack([c.cat.codes.values for n,c in df[cat_cols].items()], 1) + 1"
   ]
  },
  {
   "cell_type": "code",
   "execution_count": 23,
   "metadata": {},
   "outputs": [
    {
     "data": {
      "text/plain": [
       "(100000, 3)"
      ]
     },
     "execution_count": 23,
     "metadata": {},
     "output_type": "execute_result"
    }
   ],
   "source": [
    "cats.shape"
   ]
  },
  {
   "cell_type": "code",
   "execution_count": 24,
   "metadata": {},
   "outputs": [
    {
     "data": {
      "text/plain": [
       "array([[21,  2,  6],\n",
       "       [13,  2,  6],\n",
       "       [ 4,  1,  1],\n",
       "       [22,  2,  5],\n",
       "       [20,  2,  7]], dtype=int8)"
      ]
     },
     "execution_count": 24,
     "metadata": {},
     "output_type": "execute_result"
    }
   ],
   "source": [
    "cats[:5]"
   ]
  },
  {
   "cell_type": "code",
   "execution_count": 25,
   "metadata": {},
   "outputs": [],
   "source": [
    "# Convert categorical variables to a tensor\n",
    "cats = torch.LongTensor(cats.astype(np.int64))"
   ]
  },
  {
   "cell_type": "markdown",
   "metadata": {},
   "source": [
    "<font color=red>SKIPPED STEP: normalizing the continuous variables</font>"
   ]
  },
  {
   "cell_type": "code",
   "execution_count": 28,
   "metadata": {},
   "outputs": [],
   "source": [
    "# Convert continuous variables to a tensor\n",
    "conts = np.stack([c.astype('float32').values for n,c in df[cont_cols].items()], 1)\n",
    "conts = torch.tensor(conts)"
   ]
  },
  {
   "cell_type": "code",
   "execution_count": 29,
   "metadata": {},
   "outputs": [],
   "source": [
    "# Convert labels to a tensor\n",
    "y = torch.tensor(df[y_col[0]]).reshape(-1,1)"
   ]
  },
  {
   "cell_type": "code",
   "execution_count": 30,
   "metadata": {},
   "outputs": [
    {
     "data": {
      "text/plain": [
       "torch.Size([100000, 3])"
      ]
     },
     "execution_count": 30,
     "metadata": {},
     "output_type": "execute_result"
    }
   ],
   "source": [
    "cats.shape"
   ]
  },
  {
   "cell_type": "code",
   "execution_count": 31,
   "metadata": {},
   "outputs": [
    {
     "data": {
      "text/plain": [
       "torch.Size([100000, 6])"
      ]
     },
     "execution_count": 31,
     "metadata": {},
     "output_type": "execute_result"
    }
   ],
   "source": [
    "conts.shape"
   ]
  },
  {
   "cell_type": "code",
   "execution_count": 32,
   "metadata": {},
   "outputs": [
    {
     "data": {
      "text/plain": [
       "torch.Size([100000, 1])"
      ]
     },
     "execution_count": 32,
     "metadata": {},
     "output_type": "execute_result"
    }
   ],
   "source": [
    "y.shape"
   ]
  },
  {
   "cell_type": "markdown",
   "metadata": {},
   "source": [
    "## Set an embedding size\n",
    "The rule of thumb for determining the embedding size is the cardinality size divided by 2, but no bigger than 50."
   ]
  },
  {
   "cell_type": "code",
   "execution_count": 33,
   "metadata": {},
   "outputs": [
    {
     "data": {
      "text/plain": [
       "[(25, 13), (3, 2), (8, 4)]"
      ]
     },
     "execution_count": 33,
     "metadata": {},
     "output_type": "execute_result"
    }
   ],
   "source": [
    "cat_szs = [len(df[n].cat.categories)+1 for n in cat_cols]\n",
    "emb_szs = [(c, min(50, (c+1)//2)) for c in cat_szs]\n",
    "emb_szs"
   ]
  },
  {
   "cell_type": "markdown",
   "metadata": {},
   "source": [
    "<font color=red>Why the +1 after <tt>len(df[n].cat.categories)</tt> ??</font>"
   ]
  },
  {
   "cell_type": "code",
   "execution_count": 24,
   "metadata": {},
   "outputs": [
    {
     "data": {
      "text/plain": [
       "[(24, 12), (2, 1), (7, 4)]"
      ]
     },
     "execution_count": 24,
     "metadata": {},
     "output_type": "execute_result"
    }
   ],
   "source": [
    "# Try this later:\n",
    "cat_szs = [len(df[n].cat.categories) for n in cat_cols]\n",
    "emb_szs = [(c, min(50, (c+1)//2)) for c in cat_szs]\n",
    "emb_szs"
   ]
  },
  {
   "cell_type": "markdown",
   "metadata": {},
   "source": [
    "<font color=red>So, doing it this way raises an <tt>Index out of range</tt> error. No clue why.</font>"
   ]
  },
  {
   "cell_type": "markdown",
   "metadata": {},
   "source": [
    "## Define a TabularModel\n",
    "This follows the <a href='https://docs.fast.ai/tabular.models.html#TabularModel'>fast.ai library</a>"
   ]
  },
  {
   "cell_type": "code",
   "execution_count": 34,
   "metadata": {},
   "outputs": [],
   "source": [
    "# the following function simplifies the repeated sequence of layers \"n_in->bn->dropout->linear(n_in,n_out)->actn\"\n",
    "def bn_drop_lin(n_in, n_out, bn, p, actn):\n",
    "    \"`n_in`->bn->dropout->linear(`n_in`,`n_out`)->`actn`\"\n",
    "    layers = [nn.BatchNorm1d(n_in)] if bn else []\n",
    "    if p != 0: layers.append(nn.Dropout(p))\n",
    "    layers.append(nn.Linear(n_in, n_out))\n",
    "    if actn is not None: layers.append(actn)\n",
    "    return layers"
   ]
  },
  {
   "cell_type": "code",
   "execution_count": 35,
   "metadata": {},
   "outputs": [],
   "source": [
    "# Code from https://www.kaggle.com/dienhoa/reverse-tabular-module-of-fast-ai-v1\n",
    "\n",
    "class TabularModel(nn.Module):\n",
    "    \"Basic model for tabular data\"\n",
    "    \n",
    "    def __init__(self, emb_szs, n_cont, out_sz, layers, drops, \n",
    "                 emb_drop, use_bn, is_reg, is_multi):\n",
    "        super().__init__()\n",
    "        \n",
    "        self.embeds = nn.ModuleList([nn.Embedding(ni, nf) for ni,nf in emb_szs])\n",
    "        self.emb_drop = nn.Dropout(emb_drop)\n",
    "        self.bn_cont = nn.BatchNorm1d(n_cont)\n",
    "        n_emb = sum(e.embedding_dim for e in self.embeds)\n",
    "        self.n_emb,self.n_cont = n_emb,n_cont\n",
    "        sizes = [n_emb + n_cont] + layers + [out_sz]\n",
    "        actns = [nn.ReLU(inplace=True)] * (len(sizes)-2) + [None]\n",
    "        layers = []\n",
    "        for i,(n_in,n_out,dp,act) in enumerate(zip(sizes[:-1],sizes[1:],[0.]+drops,actns)):\n",
    "            layers += bn_drop_lin(n_in, n_out, bn=use_bn and i!=0, p=dp, actn=act)\n",
    "        self.layers = nn.Sequential(*layers)\n",
    "    \n",
    "    def forward(self, x_cat, x_cont):\n",
    "        if self.n_emb != 0:\n",
    "            x = [e(x_cat[:,i]) for i,e in enumerate(self.embeds)]\n",
    "            x = torch.cat(x, 1)\n",
    "            x = self.emb_drop(x)\n",
    "        if self.n_cont != 0:\n",
    "            x_cont = self.bn_cont(x_cont) # why batch norm here ??\n",
    "            x = torch.cat([x, x_cont], 1) if self.n_emb != 0 else x_cont\n",
    "        x = self.layers(x)\n",
    "        return x"
   ]
  },
  {
   "cell_type": "code",
   "execution_count": null,
   "metadata": {},
   "outputs": [],
   "source": [
    "# Code from https://github.com/fastai/fastai/blob/master/fastai/tabular/models.py#L6\n",
    "# by way of https://docs.fast.ai/tabular.models.html#TabularModel\n",
    "\n",
    "# class TabularModel(nn.Module):\n",
    "#     \"Basic model for tabular data.\"\n",
    "#     def __init__(self, emb_szs:ListSizes, n_cont:int, out_sz:int, layers:Collection[int], ps:Collection[float]=None,\n",
    "#                  emb_drop:float=0., y_range:OptRange=None, use_bn:bool=True, bn_final:bool=False):\n",
    "#         super().__init__()\n",
    "#         ps = ifnone(ps, [0]*len(layers))\n",
    "#         ps = listify(ps, layers)\n",
    "#         self.embeds = nn.ModuleList([embedding(ni, nf) for ni,nf in emb_szs])\n",
    "#         self.emb_drop = nn.Dropout(emb_drop)\n",
    "#         self.bn_cont = nn.BatchNorm1d(n_cont)\n",
    "#         n_emb = sum(e.embedding_dim for e in self.embeds)\n",
    "#         self.n_emb,self.n_cont,self.y_range = n_emb,n_cont,y_range\n",
    "#         sizes = self.get_sizes(layers, out_sz)\n",
    "#         actns = [nn.ReLU(inplace=True) for _ in range(len(sizes)-2)] + [None]\n",
    "#         layers = []\n",
    "#         for i,(n_in,n_out,dp,act) in enumerate(zip(sizes[:-1],sizes[1:],[0.]+ps,actns)):\n",
    "#             layers += bn_drop_lin(n_in, n_out, bn=use_bn and i!=0, p=dp, actn=act)\n",
    "#         if bn_final: layers.append(nn.BatchNorm1d(sizes[-1]))\n",
    "#         self.layers = nn.Sequential(*layers)\n",
    "\n",
    "#     def get_sizes(self, layers, out_sz):\n",
    "#         return [self.n_emb + self.n_cont] + layers + [out_sz]\n",
    "\n",
    "#     def forward(self, x_cat:Tensor, x_cont:Tensor) -> Tensor:\n",
    "#         if self.n_emb != 0:\n",
    "#             x = [e(x_cat[:,i]) for i,e in enumerate(self.embeds)]\n",
    "#             x = torch.cat(x, 1)\n",
    "#             x = self.emb_drop(x)\n",
    "#         if self.n_cont != 0:\n",
    "#             x_cont = self.bn_cont(x_cont)\n",
    "#             x = torch.cat([x, x_cont], 1) if self.n_emb != 0 else x_cont\n",
    "#         x = self.layers(x)\n",
    "#         if self.y_range is not None:\n",
    "#             x = (self.y_range[1]-self.y_range[0]) * torch.sigmoid(x) + self.y_range[0]\n",
    "#         return x"
   ]
  },
  {
   "cell_type": "code",
   "execution_count": 36,
   "metadata": {},
   "outputs": [],
   "source": [
    "# TAKE FIRST HALF\n",
    "cats = cats[:50000]\n",
    "conts = conts[:50000]\n",
    "y = y[:50000]"
   ]
  },
  {
   "cell_type": "code",
   "execution_count": 37,
   "metadata": {},
   "outputs": [
    {
     "data": {
      "text/plain": [
       "torch.Size([50000, 3])"
      ]
     },
     "execution_count": 37,
     "metadata": {},
     "output_type": "execute_result"
    }
   ],
   "source": [
    "cats.shape"
   ]
  },
  {
   "cell_type": "code",
   "execution_count": 43,
   "metadata": {},
   "outputs": [],
   "source": [
    "torch.manual_seed(101)\n",
    "model = TabularModel(emb_szs, len(cont_cols), 1, [200,100], [0.001,0.01], emb_drop=0.04, is_reg=False,is_multi=True, use_bn=True)"
   ]
  },
  {
   "cell_type": "code",
   "execution_count": 44,
   "metadata": {},
   "outputs": [
    {
     "data": {
      "text/plain": [
       "TabularModel(\n",
       "  (embeds): ModuleList(\n",
       "    (0): Embedding(25, 13)\n",
       "    (1): Embedding(3, 2)\n",
       "    (2): Embedding(8, 4)\n",
       "  )\n",
       "  (emb_drop): Dropout(p=0.04)\n",
       "  (bn_cont): BatchNorm1d(6, eps=1e-05, momentum=0.1, affine=True, track_running_stats=True)\n",
       "  (layers): Sequential(\n",
       "    (0): Linear(in_features=25, out_features=200, bias=True)\n",
       "    (1): ReLU(inplace)\n",
       "    (2): BatchNorm1d(200, eps=1e-05, momentum=0.1, affine=True, track_running_stats=True)\n",
       "    (3): Dropout(p=0.001)\n",
       "    (4): Linear(in_features=200, out_features=100, bias=True)\n",
       "    (5): ReLU(inplace)\n",
       "    (6): BatchNorm1d(100, eps=1e-05, momentum=0.1, affine=True, track_running_stats=True)\n",
       "    (7): Dropout(p=0.01)\n",
       "    (8): Linear(in_features=100, out_features=1, bias=True)\n",
       "  )\n",
       ")"
      ]
     },
     "execution_count": 44,
     "metadata": {},
     "output_type": "execute_result"
    }
   ],
   "source": [
    "model"
   ]
  },
  {
   "cell_type": "markdown",
   "metadata": {},
   "source": [
    "<font color=red>SKIPPED STEP: testing the model on a 64-item batch</font>"
   ]
  },
  {
   "cell_type": "code",
   "execution_count": 45,
   "metadata": {},
   "outputs": [],
   "source": [
    "criterion = nn.MSELoss()\n",
    "optimizer = torch.optim.Adam(model.parameters(), lr=0.001)"
   ]
  },
  {
   "cell_type": "code",
   "execution_count": 46,
   "metadata": {},
   "outputs": [],
   "source": [
    "test_size = 10000\n",
    "\n",
    "cat_train = cats[-test_size:]\n",
    "cat_test = cats[:-test_size]\n",
    "con_train = conts[-test_size:]\n",
    "con_test = conts[:-test_size]\n",
    "y_train = y[-test_size:]\n",
    "y_test = y[:-test_size]"
   ]
  },
  {
   "cell_type": "code",
   "execution_count": 47,
   "metadata": {},
   "outputs": [
    {
     "name": "stdout",
     "output_type": "stream",
     "text": [
      "epoch:   1  loss: 154.14814758\n",
      "epoch:  26  loss: 123.64978790\n",
      "epoch:  51  loss: 101.41051483\n",
      "epoch:  76  loss: 85.44089508\n",
      "epoch: 101  loss: 73.18302917\n",
      "epoch: 126  loss: 60.83264923\n",
      "epoch: 151  loss: 47.68812943\n",
      "epoch: 176  loss: 34.83699036\n",
      "epoch: 201  loss: 23.65146828\n",
      "epoch: 226  loss: 15.31464672\n",
      "epoch: 251  loss: 9.76709175\n",
      "epoch: 276  loss: 6.69284391\n",
      "epoch: 301  loss: 5.21349478\n",
      "epoch: 326  loss: 4.56996775\n",
      "epoch: 351  loss: 4.26808071\n",
      "epoch: 376  loss: 4.00000811\n",
      "epoch: 401  loss: 3.85385728\n",
      "epoch: 426  loss: 3.59841752\n",
      "epoch: 451  loss: 3.47870779\n",
      "epoch: 476  loss: 3.33727908\n"
     ]
    }
   ],
   "source": [
    "epochs = 500\n",
    "losses = []\n",
    "\n",
    "for i in range(epochs):\n",
    "    i+=1\n",
    "    y_pred = model(cat_train, con_train)\n",
    "    loss = criterion(y_pred, y_train)\n",
    "    losses.append(loss)\n",
    "    \n",
    "    # a neat trick to save screen space:\n",
    "    if i%25 == 1:\n",
    "        print(f'epoch: {i:3}  loss: {loss.item():10.8f}')\n",
    "\n",
    "    optimizer.zero_grad()\n",
    "    loss.backward()\n",
    "    optimizer.step()"
   ]
  },
  {
   "cell_type": "markdown",
   "metadata": {},
   "source": [
    "## Plot the loss function"
   ]
  },
  {
   "cell_type": "code",
   "execution_count": 48,
   "metadata": {},
   "outputs": [
    {
     "data": {
      "image/png": "[encoded data removed]",
      "text/plain": [
       "<Figure size 432x288 with 1 Axes>"
      ]
     },
     "metadata": {
      "needs_background": "light"
     },
     "output_type": "display_data"
    }
   ],
   "source": [
    "plt.plot(range(epochs), losses)\n",
    "plt.ylabel('Loss')\n",
    "plt.xlabel('epoch');"
   ]
  },
  {
   "cell_type": "markdown",
   "metadata": {},
   "source": [
    "## Validate the model"
   ]
  },
  {
   "cell_type": "code",
   "execution_count": 49,
   "metadata": {},
   "outputs": [
    {
     "name": "stdout",
     "output_type": "stream",
     "text": [
      "9.99209309\n"
     ]
    }
   ],
   "source": [
    "# TO EVALUATE THE ENTIRE TEST SET\n",
    "with torch.no_grad():\n",
    "    y_val = model(cat_test, con_test)\n",
    "    loss = criterion(y_val, y_test)\n",
    "print(f'{loss:.8f}')"
   ]
  },
  {
   "cell_type": "code",
   "execution_count": 50,
   "metadata": {},
   "outputs": [
    {
     "name": "stdout",
     "output_type": "stream",
     "text": [
      "    PREDICTED          ACTUAL              DIFF\n",
      " 1. tensor([5.3777])   tensor([4.1000])    1.2777\n",
      " 2. tensor([5.5435])   tensor([4.5000])    1.0435\n",
      " 3. tensor([7.2695])   tensor([6.1000])    1.1695\n",
      " 4. tensor([6.4400])   tensor([5.7000])    0.7400\n",
      " 5. tensor([6.5163])   tensor([5.3000])    1.2163\n",
      " 6. tensor([11.6249])  tensor([10.9000])   0.7249\n",
      " 7. tensor([7.5666])   tensor([7.7000])    0.1334\n",
      " 8. tensor([8.8705])   tensor([8.1000])    0.7705\n",
      " 9. tensor([3.8489])   tensor([2.9000])    0.9489\n",
      "10. tensor([5.9662])   tensor([5.7000])    0.2662\n",
      "11. tensor([28.8008])  tensor([37.0700])   8.2692\n",
      "12. tensor([6.4701])   tensor([4.9000])    1.5701\n",
      "13. tensor([6.6385])   tensor([6.5000])    0.1385\n",
      "14. tensor([8.4083])   tensor([7.3000])    1.1083\n",
      "15. tensor([4.1148])   tensor([4.5000])    0.3852\n",
      "16. tensor([11.5616])  tensor([11.3000])   0.2616\n",
      "17. tensor([8.3800])   tensor([7.3000])    1.0800\n",
      "18. tensor([4.5383])   tensor([3.3000])    1.2383\n",
      "19. tensor([5.9944])   tensor([7.3000])    1.3056\n",
      "20. tensor([4.6638])   tensor([3.7000])    0.9638\n",
      "21. tensor([8.1265])   tensor([7.7000])    0.4265\n",
      "22. tensor([6.6756])   tensor([7.7000])    1.0244\n",
      "23. tensor([7.1627])   tensor([5.7000])    1.4627\n",
      "24. tensor([5.0889])   tensor([7.3000])    2.2111\n",
      "25. tensor([3.3750])   tensor([5.7000])    2.3250\n",
      "26. tensor([3.5942])   tensor([3.7000])    0.1058\n",
      "27. tensor([8.4471])   tensor([7.3000])    1.1471\n",
      "28. tensor([5.5921])   tensor([4.5000])    1.0921\n",
      "29. tensor([10.1801])  tensor([12.5000])   2.3199\n",
      "30. tensor([8.1521])   tensor([8.5000])    0.3479\n",
      "31. tensor([4.7697])   tensor([5.3000])    0.5303\n",
      "32. tensor([5.1436])   tensor([6.1000])    0.9564\n",
      "33. tensor([7.0908])   tensor([6.1000])    0.9908\n",
      "34. tensor([9.5432])   tensor([9.3000])    0.2432\n",
      "35. tensor([12.9301])  tensor([12.1000])   0.8301\n",
      "36. tensor([9.7489])   tensor([10.9000])   1.1511\n",
      "37. tensor([5.2431])   tensor([5.7000])    0.4569\n",
      "38. tensor([5.8642])   tensor([5.7000])    0.1642\n",
      "39. tensor([9.6446])   tensor([6.5000])    3.1446\n",
      "40. tensor([6.2034])   tensor([5.7000])    0.5034\n",
      "41. tensor([6.3575])   tensor([6.9000])    0.5425\n",
      "42. tensor([8.4894])   tensor([6.9000])    1.5894\n",
      "43. tensor([9.3759])   tensor([14.1000])   4.7241\n",
      "44. tensor([6.7546])   tensor([6.5000])    0.2546\n",
      "45. tensor([6.3989])   tensor([9.3000])    2.9011\n",
      "46. tensor([5.7198])   tensor([5.3000])    0.4198\n",
      "47. tensor([4.4152])   tensor([2.9000])    1.5152\n",
      "48. tensor([34.2105])  tensor([33.4700])   0.7405\n",
      "49. tensor([9.6688])   tensor([6.5000])    3.1688\n",
      "50. tensor([15.6070])  tensor([20.1000])   4.4930\n"
     ]
    }
   ],
   "source": [
    "with torch.no_grad():\n",
    "#    y_val = model(cat_test, con_test)\n",
    "    print(f'    {\"PREDICTED\":18} {\"ACTUAL\":19} {\"DIFF\"}')\n",
    "    for i in range(50):\n",
    "        diff = np.abs(y_val[i].item()-y_test[i].item())\n",
    "        print(f'{i+1:2}. {str(y_val[i]):18} {str(y_test[i]):19} {diff:.4f}')"
   ]
  },
  {
   "cell_type": "markdown",
   "metadata": {},
   "source": [
    "<font color=red>NOTE: the Drop function prevents me from passing a single row into model(), that is <tt>y_val = model(cat_test[i], con_test[i])</tt> raises an error. Since the model is instantiated, I can't set <tt>use_bn</tt> to False at this point.</font>"
   ]
  },
  {
   "cell_type": "code",
   "execution_count": 38,
   "metadata": {},
   "outputs": [
    {
     "data": {
      "text/plain": [
       "tensor([ 0.5645, 19.6025], grad_fn=<SqueezeBackward0>)"
      ]
     },
     "execution_count": 38,
     "metadata": {},
     "output_type": "execute_result"
    }
   ],
   "source": [
    "y_val2 = model(cat_test[3:5], con_test[3:5])\n",
    "y_val2"
   ]
  },
  {
   "cell_type": "code",
   "execution_count": 1,
   "metadata": {},
   "outputs": [
    {
     "ename": "NameError",
     "evalue": "name 'model' is not defined",
     "output_type": "error",
     "traceback": [
      "\u001b[1;31m---------------------------------------------------------------------------\u001b[0m",
      "\u001b[1;31mNameError\u001b[0m                                 Traceback (most recent call last)",
      "\u001b[1;32m<ipython-input-1-4f5aa23da347>\u001b[0m in \u001b[0;36m<module>\u001b[1;34m\u001b[0m\n\u001b[1;32m----> 1\u001b[1;33m \u001b[0my_val3\u001b[0m \u001b[1;33m=\u001b[0m \u001b[0mmodel\u001b[0m\u001b[1;33m(\u001b[0m\u001b[0mcat_test\u001b[0m\u001b[1;33m[\u001b[0m\u001b[1;36m4\u001b[0m\u001b[1;33m:\u001b[0m\u001b[1;36m5\u001b[0m\u001b[1;33m]\u001b[0m\u001b[1;33m,\u001b[0m \u001b[0mcon_test\u001b[0m\u001b[1;33m[\u001b[0m\u001b[1;36m4\u001b[0m\u001b[1;33m:\u001b[0m\u001b[1;36m5\u001b[0m\u001b[1;33m]\u001b[0m\u001b[1;33m)\u001b[0m\u001b[1;33m\u001b[0m\u001b[1;33m\u001b[0m\u001b[0m\n\u001b[0m\u001b[0;32m      2\u001b[0m \u001b[0my_val3\u001b[0m\u001b[1;33m\u001b[0m\u001b[1;33m\u001b[0m\u001b[0m\n",
      "\u001b[1;31mNameError\u001b[0m: name 'model' is not defined"
     ]
    }
   ],
   "source": [
    "y_val3 = model(cat_test[4:5], con_test[4:5])\n",
    "y_val3"
   ]
  },
  {
   "cell_type": "code",
   "execution_count": null,
   "metadata": {},
   "outputs": [],
   "source": []
  }
 ],
 "metadata": {
  "kernelspec": {
   "display_name": "Python 3",
   "language": "python",
   "name": "python3"
  },
  "language_info": {
   "codemirror_mode": {
    "name": "ipython",
    "version": 3
   },
   "file_extension": ".py",
   "mimetype": "text/x-python",
   "name": "python",
   "nbconvert_exporter": "python",
   "pygments_lexer": "ipython3",
   "version": "3.7.3"
  }
 },
 "nbformat": 4,
 "nbformat_minor": 2
}
