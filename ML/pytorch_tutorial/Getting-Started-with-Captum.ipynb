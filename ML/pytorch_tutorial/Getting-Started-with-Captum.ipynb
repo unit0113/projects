{
 "cells": [
  {
   "cell_type": "markdown",
   "metadata": {},
   "source": [
    "# Getting Started with Captum\n",
    "\n",
    "[Captum](https://captum.ai/) (“comprehension” in Latin) is an open source, extensible library for model interpretability built on PyTorch.\n",
    "\n",
    "With the increase in model complexity and the resulting lack of transparency, model interpretability methods have become increasingly important. Model understanding is both an active area of research as well as an area of focus for practical applications across industries using machine learning. Captum provides state-of-the-art algorithms, including Integrated Gradients, to provide researchers and developers with an easy way to understand which features are contributing to a model’s output.\n",
    "\n",
    "Full documentation, an API reference, and a suite of tutorials on specific topics are available at the [captum.ai](https://captum.ai/) website.\n",
    "\n",
    "## Introduction\n",
    "\n",
    "Captum's approach to model interpretability is in terms of *attributions.* There are three kinds of attributions available in Captum:\n",
    "\n",
    "* **Feature Attribution** seeks to explain a particular output in terms of features of the input that generated it. Explaining whether a movie review was positive or negative in terms of certain words in the review is an example of feature attribution.\n",
    "* **Layer Attribution** examines the activity of a model's hidden layer subsequent to a particular input. Examining the spatially-mapped output of a convolutional layer in response to an input image in an example of layer attribution.\n",
    "* **Neuron Attribution** is analagous to layer attribution, but focuses on the activity of a single neuron.\n",
    "\n",
    "In this interactive notebook, we'll look at Feature Attribution and Layer Attribution.\n",
    "\n",
    "Each of the three attribution types has multiple **attribution algorithms** associated with it. Many attribution algorithms fall into two broad categories:\n",
    "\n",
    "* **Gradient-based algorithms** calculate the backward gradients of a model output, layer output, or neuron activation with respect to the input. **Integrated Gradients** (for features), **Layer Gradient * Activation**, and **Neuron Conductance** are all gradient-based algorithms.\n",
    "* **Perturbation-based algorithms** examine the changes in the output of a model, layer, or neuron in response to changes in the input. The input perturbations may be directed or random. **Occlusion,** **Feature Ablation,** and **Feature Permutation** are all perturbation-based algorithms.\n",
    "\n",
    "We'll be examining algorithms of both types below.\n",
    "\n",
    "Especially where large models are involved, it can be valuable to visualize attribution data in ways that relate it easily to the input features being examined. While it is certainly possible to create your own visualizations with Matplotlib, Plotly, or similar tools, Captum offers enhanced tools specific to its attributions:\n",
    "\n",
    "* The `captum.attr.visualization` module (imported below as `viz`) provides helpful functions for visualizing attributions related to images.\n",
    "* **Captum Insights** is an easy-to-use API on top of Captum that provides a visualization widget with ready-made visualizations for image, text, and arbitrary model types.\n",
    "\n",
    "Both of these visualization toolsets will be demonstrated in this notebook. The first few examples will focus on computer vision use cases, but the Captum Insights section at the end will demonstrate visualization of attributions in a multi-model, visual question-and-answer model.\n",
    "\n",
    "## Installation\n",
    "\n",
    "Before you get started, you need to have a Python environment with:\n",
    "\n",
    "* Python version 3.6 or higher\n",
    "* For the Captum Insights example, Flask 1.1 or higher\n",
    "* PyTorch version 1.2 or higher (the latest version is recommended)\n",
    "* TorchVision version 0.6 or higher (the latest version is recommended)\n",
    "* Captum (the latest version is recommended)\n",
    "\n",
    "To install Captum in an Anaconda or pip virtual environment, use the appropriate command for your environment below:\n",
    "\n",
    "```\n",
    "conda install captum -c pytorch\n",
    "pip install captum\n",
    "```\n",
    "\n",
    "Restart this notebook in the environment you set up, and you're ready to go!"
   ]
  },
  {
   "cell_type": "markdown",
   "metadata": {},
   "source": [
    "## A First Example\n",
    "\n",
    "To start, let's take a simple, visual example. We'll start with a ResNet model pretrained on the ImageNet dataset. We'll get a test input, and use different **Feature Attribution** algorithms to examine how the input images affect the output, and see a helpful visualization of this input attribution map for some test images.\n",
    "\n",
    "First, some imports:"
   ]
  },
  {
   "cell_type": "code",
   "execution_count": null,
   "metadata": {},
   "outputs": [],
   "source": [
    "import torch\n",
    "import torch.nn.functional as F\n",
    "import torchvision.transforms as transforms\n",
    "import torchvision.models as models\n",
    "\n",
    "import captum\n",
    "from captum.attr import IntegratedGradients, Occlusion, LayerGradCam, LayerAttribution\n",
    "from captum.attr import visualization as viz\n",
    "\n",
    "import os, sys\n",
    "import json\n",
    "\n",
    "import numpy as np\n",
    "from PIL import Image\n",
    "import matplotlib.pyplot as plt\n",
    "from matplotlib.colors import LinearSegmentedColormap"
   ]
  },
  {
   "cell_type": "markdown",
   "metadata": {},
   "source": [
    "Now we'll use the TorchVision model library to download a pretrained ResNet. Since we're not training, we'll place it in evaluation mode for now."
   ]
  },
  {
   "cell_type": "code",
   "execution_count": null,
   "metadata": {},
   "outputs": [],
   "source": [
    "model = models.resnet101(pretrained=True)\n",
    "model = model.eval()"
   ]
  },
  {
   "cell_type": "markdown",
   "metadata": {},
   "source": [
    "The place where you got this interactive notebook should also have an `img` folder with a file `cat.jpg` in it."
   ]
  },
  {
   "cell_type": "code",
   "execution_count": null,
   "metadata": {},
   "outputs": [],
   "source": [
    "test_img = Image.open('img/cat.jpg')\n",
    "test_img_data = np.asarray(test_img)\n",
    "plt.imshow(test_img_data)\n",
    "plt.show()"
   ]
  },
  {
   "cell_type": "markdown",
   "metadata": {},
   "source": [
    "Our ResNet model was trained on the ImageNet dataset, and expects images to be of a certain size, with the channel data normalized to a specific range of values. We'll also pull in the list of human-readable labels for the categories our model recognizes - that should be in the `img` folder as well."
   ]
  },
  {
   "cell_type": "code",
   "execution_count": null,
   "metadata": {},
   "outputs": [],
   "source": [
    "# model expects 224x224 3-color image\n",
    "transform = transforms.Compose([\n",
    " transforms.Resize(224),\n",
    " transforms.CenterCrop(224),\n",
    " transforms.ToTensor()\n",
    "])\n",
    "\n",
    "# standard ImageNet normalization\n",
    "transform_normalize = transforms.Normalize(\n",
    "     mean=[0.485, 0.456, 0.406],\n",
    "     std=[0.229, 0.224, 0.225]\n",
    " )\n",
    "\n",
    "transformed_img = transform(test_img)\n",
    "input_img = transform_normalize(transformed_img)\n",
    "input_img = input_img.unsqueeze(0) # the model requires a dummy batch dimension\n",
    "\n",
    "labels_path = 'img/imagenet_class_index.json'\n",
    "with open(labels_path) as json_data:\n",
    "    idx_to_labels = json.load(json_data)"
   ]
  },
  {
   "cell_type": "markdown",
   "metadata": {},
   "source": [
    "Now, we can ask the question: What does our model think this image represents?"
   ]
  },
  {
   "cell_type": "code",
   "execution_count": null,
   "metadata": {},
   "outputs": [],
   "source": [
    "output = model(input_img)\n",
    "output = F.softmax(output, dim=1)\n",
    "prediction_score, pred_label_idx = torch.topk(output, 1)\n",
    "pred_label_idx.squeeze_()\n",
    "predicted_label = idx_to_labels[str(pred_label_idx.item())][1]\n",
    "print('Predicted:', predicted_label, '(', prediction_score.squeeze().item(), ')')"
   ]
  },
  {
   "cell_type": "markdown",
   "metadata": {},
   "source": [
    "We've confirmed that ResNet thinks our image of a cat is, in fact, a cat. But *why* does the model think this is an image of a cat?\n",
    "\n",
    "For the answer to that, we turn to Captum."
   ]
  },
  {
   "cell_type": "markdown",
   "metadata": {},
   "source": [
    "## Feature Attribution with Integrated Gradients\n",
    "\n",
    "**Feature attribution** attributes a particular output to features of the input. It uses a specific input - here, our test image - to generate a map of the relative importance of each input feature to a particular output feature.\n",
    "\n",
    "[**Integrated Gradients**](https://captum.ai/api/integrated_gradients.html) is one of the feature attribution algorithms available in Captum. Integrated Gradients assigns an importance score to each input feature by approximating the integral of the gradients of the model's output with respect to the inputs.\n",
    "\n",
    "In our case, we're going to be taking a specific element of the output vector - that is, the one indicating the model's confidence in its chosen category - and use Integrated Gradients to understand what parts of the input image contributed to this output.\n",
    "\n",
    "Once we have the importance map from Integrated Gradients, we'll use the visualization tools in Captum to give a helpful representation of the importance map. Captum's `visualize_image_attr()` function provides a variety of options for customizing display of your attribution data. Here, we pass in a custom Matplotlib color map.\n",
    "\n",
    "Running the cell with the `integrated_gradients.attribute()` call will usually take a minute or two."
   ]
  },
  {
   "cell_type": "code",
   "execution_count": null,
   "metadata": {},
   "outputs": [],
   "source": [
    "# Initialize the attribution algorithm with the model\n",
    "integrated_gradients = IntegratedGradients(model)\n",
    "\n",
    "# Ask the algorithm to attribute our output target to \n",
    "attributions_ig = integrated_gradients.attribute(input_img, target=pred_label_idx, n_steps=200)"
   ]
  },
  {
   "cell_type": "code",
   "execution_count": null,
   "metadata": {},
   "outputs": [],
   "source": [
    "# Show the original image for comparison\n",
    "_ = viz.visualize_image_attr(None, np.transpose(transformed_img.squeeze().cpu().detach().numpy(), (1,2,0)), \n",
    "                      method=\"original_image\", title=\"Original Image\")\n",
    "\n",
    "default_cmap = LinearSegmentedColormap.from_list('custom blue', \n",
    "                                                 [(0, '#ffffff'),\n",
    "                                                  (0.25, '#0000ff'),\n",
    "                                                  (1, '#0000ff')], N=256)\n",
    "\n",
    "_ = viz.visualize_image_attr(np.transpose(attributions_ig.squeeze().cpu().detach().numpy(), (1,2,0)),\n",
    "                             np.transpose(transformed_img.squeeze().cpu().detach().numpy(), (1,2,0)),\n",
    "                             method='heat_map',\n",
    "                             cmap=default_cmap,\n",
    "                             show_colorbar=True,\n",
    "                             sign='positive',\n",
    "                             title='Integrated Gradients')"
   ]
  },
  {
   "cell_type": "markdown",
   "metadata": {},
   "source": [
    "In the image above, you should see that Integrated Gradients gives us the strongest signal around the cat's location in the image."
   ]
  },
  {
   "cell_type": "markdown",
   "metadata": {},
   "source": [
    "## Feature Attribution with Occlusion\n",
    "\n",
    "Gradient-based attribution methods help to understand the model in terms of directly computing out the output changes with respect to the input. *Perturbation-based attribution* methods approach this more directly, by introducing changes to the output to measure the effect on the output. [**Occlusion**](https://captum.ai/api/occlusion.html) is one such method. It involves replacing sections of the input image, and examining the effect on the output signal.\n",
    "\n",
    "Below, we set up Occlusion attribution. Similarly to configuring a convolutional neural network, you can specify the size of the target region, and a stride length to determine the spacing of individual measurements. We'll visualize the output of our Occlusion attribution with `visualize_image_attr_multiple()`, showing heat maps of both positive and negative attribution by region, and by masking the original image with the positive attribution regions. The masking gives a very instructive view of what regions of our cat photo the model found to be most \"cat-like\"."
   ]
  },
  {
   "cell_type": "code",
   "execution_count": null,
   "metadata": {},
   "outputs": [],
   "source": [
    "occlusion = Occlusion(model)\n",
    "\n",
    "attributions_occ = occlusion.attribute(input_img,\n",
    "                                       target=pred_label_idx,\n",
    "                                       strides=(3, 8, 8),\n",
    "                                       sliding_window_shapes=(3,15, 15),\n",
    "                                       baselines=0)\n"
   ]
  },
  {
   "cell_type": "code",
   "execution_count": null,
   "metadata": {},
   "outputs": [],
   "source": [
    "_ = viz.visualize_image_attr_multiple(np.transpose(attributions_occ.squeeze().cpu().detach().numpy(), (1,2,0)),\n",
    "                                      np.transpose(transformed_img.squeeze().cpu().detach().numpy(), (1,2,0)),\n",
    "                                      [\"original_image\", \"heat_map\", \"heat_map\", \"masked_image\"],\n",
    "                                      [\"all\", \"positive\", \"negative\", \"positive\"],\n",
    "                                      show_colorbar=True,\n",
    "                                      titles=[\"Original\", \"Positive Attribution\", \"Negative Attribution\", \"Masked\"],\n",
    "                                      fig_size=(18, 6)\n",
    "                                     )"
   ]
  },
  {
   "cell_type": "markdown",
   "metadata": {},
   "source": [
    "Again, we see greater significance placed on the region of the image that contains the cat."
   ]
  },
  {
   "cell_type": "markdown",
   "metadata": {},
   "source": [
    "## Layer Attribution with Layer GradCAM\n",
    "\n",
    "**Layer Attribution** allows you to attribute the activity of hidden layers within your model to features of your input. Below, we'll use a layer attribution algorithm to examine the activity of one of the convolutional layers within our model.\n",
    "\n",
    "GradCAM computes the gradients of the target output with respect to the given layer, averages for each output channel (dimension 2 of output), and multiplies the average gradient for each channel by the layer activations. The results are summed over all channels. GradCAM is designed for convnets; since the activity of convolutional layers often maps spatially to the input, GradCAM attributions are often upsampled and used to mask the input.\n",
    "\n",
    "Layer attribution is set up similarly to input attribution, except that in addition to the model, you must specify a hidden layer within the model that you wish to examine. As above, when we call `attribute()`, we specify the target class of interest."
   ]
  },
  {
   "cell_type": "code",
   "execution_count": null,
   "metadata": {},
   "outputs": [],
   "source": [
    "layer_gradcam = LayerGradCam(model, model.layer3[1].conv2)\n",
    "attributions_lgc = layer_gradcam.attribute(input_img, target=pred_label_idx)"
   ]
  },
  {
   "cell_type": "code",
   "execution_count": null,
   "metadata": {},
   "outputs": [],
   "source": [
    "_ = viz.visualize_image_attr(attributions_lgc[0].cpu().permute(1,2,0).detach().numpy(),\n",
    "                             sign=\"all\",\n",
    "                             title=\"Layer 3 Block 1 Conv 2\")"
   ]
  },
  {
   "cell_type": "markdown",
   "metadata": {},
   "source": [
    "We'll use the convenience method `interpolate()` in the [**LayerAttribution**](https://captum.ai/api/base_classes.html?highlight=layerattribution#captum.attr.LayerAttribution) base class to upsample this attribution data for comparison to the input image."
   ]
  },
  {
   "cell_type": "code",
   "execution_count": null,
   "metadata": {},
   "outputs": [],
   "source": [
    "upsamp_attr_lgc = LayerAttribution.interpolate(attributions_lgc, input_img.shape[2:])\n",
    "\n",
    "print(attributions_lgc.shape)\n",
    "print(upsamp_attr_lgc.shape)\n",
    "print(input_img.shape)\n",
    "\n",
    "_ = viz.visualize_image_attr_multiple(upsamp_attr_lgc[0].cpu().permute(1,2,0).detach().numpy(),\n",
    "                                      transformed_img.permute(1,2,0).numpy(),\n",
    "                                      [\"original_image\",\"blended_heat_map\",\"masked_image\"],\n",
    "                                      [\"all\",\"positive\",\"positive\"],\n",
    "                                      show_colorbar=True,\n",
    "                                      titles=[\"Original\", \"Positive Attribution\", \"Masked\"],\n",
    "                                      fig_size=(18, 6))"
   ]
  },
  {
   "cell_type": "markdown",
   "metadata": {},
   "source": [
    "Visualizations such as this can give you novel insights into how your hidden layers respond to your input."
   ]
  },
  {
   "cell_type": "markdown",
   "metadata": {},
   "source": [
    "##  Visualization with Captum Insights\n",
    "\n",
    "Captum Insights is an interpretability visualization widget built on top of Captum to facilitate model understanding. Captum Insights works across images, text, and other features to help users understand feature attribution. It allows you to visualize attribution for multiple input/output pairs, and provides visualization tools for image, text, and arbitrary data.\n",
    "\n",
    "In this section of the notebook, we'll visualize multiple image classification inferences with Captum Insights.\n",
    "\n",
    "First, let's gather some image and see what the model thinks of them. For variety, we'll take our cat, a teapot, and a trilobite fossil:"
   ]
  },
  {
   "cell_type": "code",
   "execution_count": null,
   "metadata": {},
   "outputs": [],
   "source": [
    "imgs = ['img/cat.jpg', 'img/teapot.jpg', 'img/trilobite.jpg']\n",
    "\n",
    "for img in imgs:\n",
    "    img = Image.open(img)\n",
    "    transformed_img = transform(img)\n",
    "    input_img = transform_normalize(transformed_img)\n",
    "    input_img = input_img.unsqueeze(0) # the model requires a dummy batch dimension\n",
    "\n",
    "    output = model(input_img)\n",
    "    output = F.softmax(output, dim=1)\n",
    "    prediction_score, pred_label_idx = torch.topk(output, 1)\n",
    "    pred_label_idx.squeeze_()\n",
    "    predicted_label = idx_to_labels[str(pred_label_idx.item())][1]\n",
    "    print('Predicted:', predicted_label, '/', pred_label_idx.item(), ' (', prediction_score.squeeze().item(), ')')"
   ]
  },
  {
   "cell_type": "markdown",
   "metadata": {},
   "source": [
    "...and it looks like our model is identifying them all correctly - but of course, we want to dig deeper. For that we'll use the Captum Insights widget, which we configure with an `AttributionVisualizer` object, imported below. The `AttributionVisualizer` expects batches of data, so we'll bring in Captum's `Batch` helper class. And we'll be looking at images specifically, so well also import `ImageFeature`.\n",
    "\n",
    "We configure the `AttributionVisualizer` with the following arguments:\n",
    "\n",
    "* An array of models to be examined (in our case, just the one)\n",
    "* A scoring function, which allows Captum Insights to pull out the top-k predictions from a model\n",
    "* An ordered, human-readable list of classes our model is trained on\n",
    "* A list of features to look for - in our case, an `ImageFeature`\n",
    "* A dataset, which is an iterable object returning batches of inputs and labels - just like you'd use for training"
   ]
  },
  {
   "cell_type": "code",
   "execution_count": null,
   "metadata": {},
   "outputs": [],
   "source": [
    "from captum.insights import AttributionVisualizer, Batch\n",
    "from captum.insights.attr_vis.features import ImageFeature\n",
    "\n",
    "# Baseline is all-zeros input - this may differ depending on your data\n",
    "def baseline_func(input):\n",
    "    return input * 0\n",
    "\n",
    "# merging our image transforms from above\n",
    "def full_img_transform(input):\n",
    "    i = Image.open(input)\n",
    "    i = transform(i)\n",
    "    i = transform_normalize(i)\n",
    "    i = i.unsqueeze(0)\n",
    "    return i\n",
    "\n",
    "\n",
    "input_imgs = torch.cat(list(map(lambda i: full_img_transform(i), imgs)), 0)\n",
    "\n",
    "visualizer = AttributionVisualizer(\n",
    "    models=[model],\n",
    "    score_func=lambda o: torch.nn.functional.softmax(o, 1),\n",
    "    classes=list(map(lambda k: idx_to_labels[k][1], idx_to_labels.keys())),\n",
    "    features=[\n",
    "        ImageFeature(\n",
    "            \"Photo\",\n",
    "            baseline_transforms=[baseline_func],\n",
    "            input_transforms=[],\n",
    "        )\n",
    "    ],\n",
    "    dataset=[Batch(input_imgs, labels=[282,849,69])]\n",
    ")"
   ]
  },
  {
   "cell_type": "markdown",
   "metadata": {},
   "source": [
    "Note that running the cell above didn't take much time at all, unlike our attributions above. That's because Captum Insights lets you configure different attribution algorithms in a visual widget, after which it will compute and display the attributions. *That* process will take a few minutes.\n",
    "\n",
    "Running the cell below will render the Captum Insights widget. You can then choose attributions methods and their arguments, filter model responses based on predicte class or prediction correctness, see the model's predictions with associated probabilities, and view heatmaps of the attribution compared with the original image."
   ]
  },
  {
   "cell_type": "code",
   "execution_count": null,
   "metadata": {
    "scrolled": false
   },
   "outputs": [],
   "source": [
    "visualizer.render()"
   ]
  },
  {
   "cell_type": "code",
   "execution_count": null,
   "metadata": {},
   "outputs": [],
   "source": []
  }
 ],
 "metadata": {
  "kernelspec": {
   "display_name": "Python 3",
   "language": "python",
   "name": "python3"
  },
  "language_info": {
   "codemirror_mode": {
    "name": "ipython",
    "version": 3
   },
   "file_extension": ".py",
   "mimetype": "text/x-python",
   "name": "python",
   "nbconvert_exporter": "python",
   "pygments_lexer": "ipython3",
   "version": "3.8.5"
  }
 },
 "nbformat": 4,
 "nbformat_minor": 4
}
