{
 "cells": [
  {
   "cell_type": "code",
   "execution_count": 2,
   "id": "f9e5fb6a-27d6-4a61-be00-5c5b6b1c99d5",
   "metadata": {},
   "outputs": [
    {
     "name": "stderr",
     "output_type": "stream",
     "text": [
      "/home/ubuntu/spark-3.5.1-bin-hadoop3/python/pyspark/sql/context.py:113: FutureWarning: Deprecated in 3.0.0. Use SparkSession.builder.getOrCreate() instead.\n",
      "  warnings.warn(\n",
      "                                                                                \r"
     ]
    },
    {
     "data": {
      "text/plain": [
       "[Row(revision=Row(text=' no outlinks here '), title='A'),\n",
       " Row(revision=Row(text=' link to [[F]] and link to [[A]] '), title='B'),\n",
       " Row(revision=Row(text=' link to [[A]] and link to [[D]] '), title='C'),\n",
       " Row(revision=Row(text=' no outlinks here (no inlinks to E either) '), title='E'),\n",
       " Row(revision=Row(text=' no outlinks here '), title='F')]"
      ]
     },
     "execution_count": 2,
     "metadata": {},
     "output_type": "execute_result"
    }
   ],
   "source": [
    "from pyspark.sql import SQLContext \n",
    "\n",
    "sqlContext = SQLContext(sc) \n",
    "df = sqlContext.read.format('com.databricks.spark.xml').options(rowTag='page').load('s3a://cap4770-2024summer-kl/example.xml')\n",
    "df.rdd.collect()"
   ]
  },
  {
   "cell_type": "code",
   "execution_count": 20,
   "id": "13a997b4-438f-4c72-ba55-0d9a3689c663",
   "metadata": {},
   "outputs": [],
   "source": [
    "import re \n",
    "\n",
    "def get_links(text, title_list): \n",
    "    pattern = re.compile(r\"\\[\\[(.*?)\\]\\]\") \n",
    "    res = pattern.findall(text) \n",
    "    links = [links.split('|')[0] for links in res] if res != None else []\n",
    "    if links:\n",
    "        links = [link.replace(' ', '_') for link in links if link in title_list]\n",
    "    return links"
   ]
  },
  {
   "cell_type": "code",
   "execution_count": 4,
   "id": "42f51f18-1e79-4c3c-9ff3-ffbf81d2c6f8",
   "metadata": {},
   "outputs": [
    {
     "name": "stderr",
     "output_type": "stream",
     "text": [
      "                                                                                \r"
     ]
    },
    {
     "data": {
      "text/plain": [
       "['A', 'B', 'C', 'E', 'F']"
      ]
     },
     "execution_count": 4,
     "metadata": {},
     "output_type": "execute_result"
    }
   ],
   "source": [
    "titles = df.rdd.map(lambda x: x['title'])\n",
    "titles.collect()"
   ]
  },
  {
   "cell_type": "code",
   "execution_count": 5,
   "id": "c457e51a-6f97-40d1-84d1-e3ed7810fb53",
   "metadata": {},
   "outputs": [
    {
     "name": "stderr",
     "output_type": "stream",
     "text": [
      "                                                                                \r"
     ]
    },
    {
     "data": {
      "text/plain": [
       "[[], ['F', 'A'], ['A'], [], []]"
      ]
     },
     "execution_count": 5,
     "metadata": {},
     "output_type": "execute_result"
    }
   ],
   "source": [
    "title_list = titles.collect()\n",
    "links = df.rdd.map(lambda x: get_links(x['revision']['text'], title_list))\n",
    "links.collect()"
   ]
  },
  {
   "cell_type": "code",
   "execution_count": 6,
   "id": "b11a751a-287e-4d5b-893c-e9523d94caf7",
   "metadata": {},
   "outputs": [
    {
     "name": "stderr",
     "output_type": "stream",
     "text": [
      "                                                                                \r"
     ]
    }
   ],
   "source": [
    "flat_links = {link for link_list in links.collect() for link in link_list}"
   ]
  },
  {
   "cell_type": "code",
   "execution_count": 7,
   "id": "06e2bd6a-a255-4057-acbf-478770c9dc42",
   "metadata": {},
   "outputs": [
    {
     "name": "stderr",
     "output_type": "stream",
     "text": [
      "                                                                                \r"
     ]
    },
    {
     "data": {
      "text/plain": [
       "{'A', 'F'}"
      ]
     },
     "execution_count": 7,
     "metadata": {},
     "output_type": "execute_result"
    }
   ],
   "source": [
    "valid_links = set(titles.collect()).intersection(flat_links)\n",
    "valid_links"
   ]
  },
  {
   "cell_type": "code",
   "execution_count": 9,
   "id": "0059122f-6e26-4554-aa28-df12af46ca24",
   "metadata": {},
   "outputs": [
    {
     "name": "stderr",
     "output_type": "stream",
     "text": [
      "                                                                                \r"
     ]
    },
    {
     "data": {
      "text/plain": [
       "[('A', []), ('B', ['F', 'A']), ('C', ['A']), ('E', []), ('F', [])]"
      ]
     },
     "execution_count": 9,
     "metadata": {},
     "output_type": "execute_result"
    }
   ],
   "source": [
    "adj_graph = titles.zip(links)\n",
    "adj_graph.collect()"
   ]
  },
  {
   "cell_type": "code",
   "execution_count": null,
   "id": "56ee633e-1c14-405a-86a7-2823beb8aab0",
   "metadata": {},
   "outputs": [],
   "source": []
  },
  {
   "cell_type": "code",
   "execution_count": 10,
   "id": "58912cc9-da3b-4497-a223-12d648dc85f5",
   "metadata": {},
   "outputs": [
    {
     "name": "stderr",
     "output_type": "stream",
     "text": [
      "                                                                                \r"
     ]
    }
   ],
   "source": [
    "df = sqlContext.read.format('com.databricks.spark.xml').options(rowTag='page').load('s3a://cap4770-2024summer-kl/enwiki-latest-pages-articles1-trunc.xml')"
   ]
  },
  {
   "cell_type": "code",
   "execution_count": 21,
   "id": "3912a295-c95e-49ca-85b5-0118192a1b46",
   "metadata": {},
   "outputs": [],
   "source": [
    "wiki_titles = df.rdd.map(lambda x: x['title'])"
   ]
  },
  {
   "cell_type": "code",
   "execution_count": 22,
   "id": "313560d8-cc1f-4b8e-945b-7e4421b6e180",
   "metadata": {},
   "outputs": [
    {
     "name": "stderr",
     "output_type": "stream",
     "text": [
      "                                                                                \r"
     ]
    }
   ],
   "source": [
    "wiki_titles_list = wiki_titles.collect()\n",
    "wiki_titles = wiki_titles.map(lambda x: x.replace(' ', '_'))\n",
    "wiki_links = df.rdd.map(lambda x: get_links(x['revision']['text'], wiki_titles_list))"
   ]
  },
  {
   "cell_type": "code",
   "execution_count": 23,
   "id": "5160b954-d760-4e0b-b93c-9e06c0a5045a",
   "metadata": {},
   "outputs": [],
   "source": [
    "wiki_adj_graph = wiki_titles.zip(wiki_links)"
   ]
  },
  {
   "cell_type": "code",
   "execution_count": 24,
   "id": "400472ba-a7b1-4e1f-a2ae-a794b09c7ba5",
   "metadata": {},
   "outputs": [
    {
     "name": "stderr",
     "output_type": "stream",
     "text": [
      "                                                                                \r"
     ]
    }
   ],
   "source": [
    "wiki_adj_graph.saveAsTextFile('s3a://cap4770-2024summer-kl/adj.txt')"
   ]
  },
  {
   "cell_type": "code",
   "execution_count": null,
   "id": "ea632c89-9464-4e28-8fa5-4e2c1210a98b",
   "metadata": {},
   "outputs": [],
   "source": []
  }
 ],
 "metadata": {
  "kernelspec": {
   "display_name": "Python 3 (ipykernel)",
   "language": "python",
   "name": "python3"
  },
  "language_info": {
   "codemirror_mode": {
    "name": "ipython",
    "version": 3
   },
   "file_extension": ".py",
   "mimetype": "text/x-python",
   "name": "python",
   "nbconvert_exporter": "python",
   "pygments_lexer": "ipython3",
   "version": "3.12.3"
  }
 },
 "nbformat": 4,
 "nbformat_minor": 5
}
