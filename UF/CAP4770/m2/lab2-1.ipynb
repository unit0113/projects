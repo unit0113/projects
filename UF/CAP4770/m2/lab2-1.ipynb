{
 "cells": [
  {
   "cell_type": "markdown",
   "metadata": {},
   "source": [
    "# Lab 2: Exploratory Data Analysis (Python, Pandas & matplotlib)"
   ]
  },
  {
   "cell_type": "markdown",
   "metadata": {},
   "source": [
    "In this lab 2, we are going to learn how to explore data using Python. Namely, we will work with Pandas and matplotlib, for data filtering and grouping, and visualization respectively."
   ]
  },
  {
   "cell_type": "markdown",
   "metadata": {},
   "source": [
    "## Setup"
   ]
  },
  {
   "cell_type": "markdown",
   "metadata": {},
   "source": [
    "#### This Notebook"
   ]
  },
  {
   "cell_type": "markdown",
   "metadata": {},
   "source": [
    "Download this notebook so you can edit it. (If you are viewing it via nbviewer.ipython.org, then use the link in the upper right corner.) To edit this notebook, in your VM terminal, type \"ipython notebook\" and in your prompted brower, click the notebook file to open and edit it."
   ]
  },
  {
   "cell_type": "markdown",
   "metadata": {},
   "source": [
    "#### Data"
   ]
  },
  {
   "cell_type": "markdown",
   "metadata": {},
   "source": [
    "We'll use the sampled data from the log file in lab 1, download the file 'wc_day6_1_sample.csv' [here](https://ufl.instructure.com/courses/390786/files/folder/labs/Lab2%263) and put it in your VM (To enable the 'Drag'n Drop' for ease of transfering files to/from VM, go to Device -> Drag 'n Drop -> Bidirectional)"
   ]
  },
  {
   "cell_type": "markdown",
   "metadata": {},
   "source": [
    "## Pandas"
   ]
  },
  {
   "cell_type": "markdown",
   "metadata": {},
   "source": [
    "The two main data structures used by pandas are\n",
    "\n",
    " * Series: one-dimensional collections of any data type.\n",
    " * DataFrames: two-dimensional data structures similar to a database table.\n",
    "\n",
    "At first, we need to import the libraries we need. In the code cell below, we will import two libraries, pandas for data processing and PyLab for plotting.\n",
    "\n",
    "To run the code in the cell below, select the cell, then press 'ctrl + enter', or hit the 'play' button above."
   ]
  },
  {
   "cell_type": "code",
   "execution_count": 1,
   "metadata": {},
   "outputs": [],
   "source": [
    "import matplotlib\n",
    "from matplotlib import pylab\n",
    "import pandas as pd"
   ]
  },
  {
   "cell_type": "raw",
   "metadata": {},
   "source": [
    "## The Basics"
   ]
  },
  {
   "cell_type": "markdown",
   "metadata": {},
   "source": [
    "To create our first DataFrame using pandas, run:"
   ]
  },
  {
   "cell_type": "code",
   "execution_count": 2,
   "metadata": {},
   "outputs": [],
   "source": [
    "df = pd.DataFrame( { 'a' : [1, 2, 3, 4], 'b': [ 'w', 'x', 'y', 'z'] })"
   ]
  },
  {
   "cell_type": "markdown",
   "metadata": {},
   "source": [
    "This is going to create a table with two columns and four rows, we can inspect the DataFrame by typing the name on the object:"
   ]
  },
  {
   "cell_type": "code",
   "execution_count": 3,
   "metadata": {},
   "outputs": [
    {
     "data": {
      "text/html": [
       "<div>\n",
       "<style scoped>\n",
       "    .dataframe tbody tr th:only-of-type {\n",
       "        vertical-align: middle;\n",
       "    }\n",
       "\n",
       "    .dataframe tbody tr th {\n",
       "        vertical-align: top;\n",
       "    }\n",
       "\n",
       "    .dataframe thead th {\n",
       "        text-align: right;\n",
       "    }\n",
       "</style>\n",
       "<table border=\"1\" class=\"dataframe\">\n",
       "  <thead>\n",
       "    <tr style=\"text-align: right;\">\n",
       "      <th></th>\n",
       "      <th>a</th>\n",
       "      <th>b</th>\n",
       "    </tr>\n",
       "  </thead>\n",
       "  <tbody>\n",
       "    <tr>\n",
       "      <th>0</th>\n",
       "      <td>1</td>\n",
       "      <td>w</td>\n",
       "    </tr>\n",
       "    <tr>\n",
       "      <th>1</th>\n",
       "      <td>2</td>\n",
       "      <td>x</td>\n",
       "    </tr>\n",
       "    <tr>\n",
       "      <th>2</th>\n",
       "      <td>3</td>\n",
       "      <td>y</td>\n",
       "    </tr>\n",
       "    <tr>\n",
       "      <th>3</th>\n",
       "      <td>4</td>\n",
       "      <td>z</td>\n",
       "    </tr>\n",
       "  </tbody>\n",
       "</table>\n",
       "</div>"
      ],
      "text/plain": [
       "   a  b\n",
       "0  1  w\n",
       "1  2  x\n",
       "2  3  y\n",
       "3  4  z"
      ]
     },
     "execution_count": 3,
     "metadata": {},
     "output_type": "execute_result"
    }
   ],
   "source": [
    "df"
   ]
  },
  {
   "cell_type": "markdown",
   "metadata": {},
   "source": [
    "For more detailed information about the schema of a DataFrame we can use the info function:"
   ]
  },
  {
   "cell_type": "code",
   "execution_count": 4,
   "metadata": {},
   "outputs": [
    {
     "name": "stdout",
     "output_type": "stream",
     "text": [
      "<class 'pandas.core.frame.DataFrame'>\n",
      "RangeIndex: 4 entries, 0 to 3\n",
      "Data columns (total 2 columns):\n",
      "a    4 non-null int64\n",
      "b    4 non-null object\n",
      "dtypes: int64(1), object(1)\n",
      "memory usage: 144.0+ bytes\n"
     ]
    }
   ],
   "source": [
    "df.info()"
   ]
  },
  {
   "cell_type": "markdown",
   "metadata": {},
   "source": [
    "To check the first few rows we can use head and the last few rows tail functions"
   ]
  },
  {
   "cell_type": "code",
   "execution_count": 5,
   "metadata": {},
   "outputs": [
    {
     "data": {
      "text/html": [
       "<div>\n",
       "<style scoped>\n",
       "    .dataframe tbody tr th:only-of-type {\n",
       "        vertical-align: middle;\n",
       "    }\n",
       "\n",
       "    .dataframe tbody tr th {\n",
       "        vertical-align: top;\n",
       "    }\n",
       "\n",
       "    .dataframe thead th {\n",
       "        text-align: right;\n",
       "    }\n",
       "</style>\n",
       "<table border=\"1\" class=\"dataframe\">\n",
       "  <thead>\n",
       "    <tr style=\"text-align: right;\">\n",
       "      <th></th>\n",
       "      <th>a</th>\n",
       "      <th>b</th>\n",
       "    </tr>\n",
       "  </thead>\n",
       "  <tbody>\n",
       "    <tr>\n",
       "      <th>0</th>\n",
       "      <td>1</td>\n",
       "      <td>w</td>\n",
       "    </tr>\n",
       "    <tr>\n",
       "      <th>1</th>\n",
       "      <td>2</td>\n",
       "      <td>x</td>\n",
       "    </tr>\n",
       "  </tbody>\n",
       "</table>\n",
       "</div>"
      ],
      "text/plain": [
       "   a  b\n",
       "0  1  w\n",
       "1  2  x"
      ]
     },
     "execution_count": 5,
     "metadata": {},
     "output_type": "execute_result"
    }
   ],
   "source": [
    "df.head(2)"
   ]
  },
  {
   "cell_type": "markdown",
   "metadata": {},
   "source": [
    "df.tail(2)"
   ]
  },
  {
   "cell_type": "markdown",
   "metadata": {},
   "source": [
    "To access any range of rows in the DataFrame we can use array-like indexes, for example, the following will retrieve rows 1 and 2 from our DataFrame:"
   ]
  },
  {
   "cell_type": "code",
   "execution_count": 6,
   "metadata": {},
   "outputs": [
    {
     "data": {
      "text/html": [
       "<div>\n",
       "<style scoped>\n",
       "    .dataframe tbody tr th:only-of-type {\n",
       "        vertical-align: middle;\n",
       "    }\n",
       "\n",
       "    .dataframe tbody tr th {\n",
       "        vertical-align: top;\n",
       "    }\n",
       "\n",
       "    .dataframe thead th {\n",
       "        text-align: right;\n",
       "    }\n",
       "</style>\n",
       "<table border=\"1\" class=\"dataframe\">\n",
       "  <thead>\n",
       "    <tr style=\"text-align: right;\">\n",
       "      <th></th>\n",
       "      <th>a</th>\n",
       "      <th>b</th>\n",
       "    </tr>\n",
       "  </thead>\n",
       "  <tbody>\n",
       "    <tr>\n",
       "      <th>1</th>\n",
       "      <td>2</td>\n",
       "      <td>x</td>\n",
       "    </tr>\n",
       "    <tr>\n",
       "      <th>2</th>\n",
       "      <td>3</td>\n",
       "      <td>y</td>\n",
       "    </tr>\n",
       "  </tbody>\n",
       "</table>\n",
       "</div>"
      ],
      "text/plain": [
       "   a  b\n",
       "1  2  x\n",
       "2  3  y"
      ]
     },
     "execution_count": 6,
     "metadata": {},
     "output_type": "execute_result"
    }
   ],
   "source": [
    "df[1:3]"
   ]
  },
  {
   "cell_type": "markdown",
   "metadata": {},
   "source": [
    "For the following exercises we will use the dataset mentioned in setup.\n",
    "\n",
    "After you download this CSV file, we can import it into a DataFrame, assuming the file is in the path /home/datascience/"
   ]
  },
  {
   "cell_type": "code",
   "execution_count": 11,
   "metadata": {},
   "outputs": [],
   "source": [
    "log_df = pd.read_csv(\"./wc_day6_1_sample.csv\",\n",
    "                     names=['ClientID', 'Date', 'Time', 'URL', 'ResponseCode', 'Size'],\n",
    "                     na_values=['-'], \n",
    "                     encoding = \"ISO-8859-1\")\n",
    "log_df.loc[:,('DateTime')] = pd.to_datetime(log_df.apply(lambda row: row['Date'] + ' ' + row['Time'], axis=1))\n",
    "log_df['hour'] = log_df.DateTime.dt.hour\n",
    "log_df['URL_type'] = log_df['URL'].str.split(\".\", n = -1, expand = False).str.get(-1)\n",
    "gif = log_df[log_df['URL_type'] == 'gif']\n",
    "#log_df.plot(kind = 'scatter', x = day_df2['hour'], y = day_df2['URL_type'].nunique())"
   ]
  },
  {
   "cell_type": "code",
   "execution_count": 12,
   "metadata": {},
   "outputs": [
    {
     "data": {
      "text/plain": [
       "Text(0.5,1,'# GIF Request changes in a day')"
      ]
     },
     "execution_count": 12,
     "metadata": {},
     "output_type": "execute_result"
    },
    {
     "data": {
      "image/png": "[encoded data removed]",
      "text/plain": [
       "<matplotlib.figure.Figure at 0x7fef6afdf978>"
      ]
     },
     "metadata": {},
     "output_type": "display_data"
    }
   ],
   "source": [
    "#gif.groupby('hour').size().plot(kind='bar', legend='false')\n",
    "ax = gif.groupby('hour').size().plot()\n",
    "ax.set_ylabel(\"# GIF Requests\")\n",
    "ax.set_xlabel(\"Hour of the day\")\n",
    "ax.set_title(\"# GIF Request changes in a day\")"
   ]
  },
  {
   "cell_type": "markdown",
   "metadata": {},
   "source": [
    "Using read_csv function, we created a new DataFrame with column names passed as a list in the names parameter and null or non existing values represented with \"-\" in the na_values parameter."
   ]
  },
  {
   "cell_type": "markdown",
   "metadata": {},
   "source": [
    "## More complex operations"
   ]
  },
  {
   "cell_type": "markdown",
   "metadata": {},
   "source": [
    "#### Row filtering"
   ]
  },
  {
   "cell_type": "markdown",
   "metadata": {},
   "source": [
    "To create row filters, we use lists of Boolean values that evaluate a condition:"
   ]
  },
  {
   "cell_type": "code",
   "execution_count": 13,
   "metadata": {},
   "outputs": [],
   "source": [
    "is_may1st = log_df['Date'] == '01/May/1998'"
   ]
  },
  {
   "cell_type": "markdown",
   "metadata": {},
   "source": [
    "This returns a list of True/False values for each row in **log_df** that evaluate the given condition. To filter using this list:"
   ]
  },
  {
   "cell_type": "code",
   "execution_count": 14,
   "metadata": {},
   "outputs": [
    {
     "data": {
      "text/html": [
       "<div>\n",
       "<style scoped>\n",
       "    .dataframe tbody tr th:only-of-type {\n",
       "        vertical-align: middle;\n",
       "    }\n",
       "\n",
       "    .dataframe tbody tr th {\n",
       "        vertical-align: top;\n",
       "    }\n",
       "\n",
       "    .dataframe thead th {\n",
       "        text-align: right;\n",
       "    }\n",
       "</style>\n",
       "<table border=\"1\" class=\"dataframe\">\n",
       "  <thead>\n",
       "    <tr style=\"text-align: right;\">\n",
       "      <th></th>\n",
       "      <th>ClientID</th>\n",
       "      <th>Date</th>\n",
       "      <th>Time</th>\n",
       "      <th>URL</th>\n",
       "      <th>ResponseCode</th>\n",
       "      <th>Size</th>\n",
       "      <th>DateTime</th>\n",
       "      <th>hour</th>\n",
       "      <th>URL_type</th>\n",
       "    </tr>\n",
       "  </thead>\n",
       "  <tbody>\n",
       "    <tr>\n",
       "      <th>1</th>\n",
       "      <td>10871</td>\n",
       "      <td>01/May/1998</td>\n",
       "      <td>12:10:53</td>\n",
       "      <td>/images/ligne.gif</td>\n",
       "      <td>200.0</td>\n",
       "      <td>169.0</td>\n",
       "      <td>1998-05-01 12:10:53</td>\n",
       "      <td>12</td>\n",
       "      <td>gif</td>\n",
       "    </tr>\n",
       "    <tr>\n",
       "      <th>2</th>\n",
       "      <td>11012</td>\n",
       "      <td>01/May/1998</td>\n",
       "      <td>12:17:30</td>\n",
       "      <td>/english/individuals/player111503.htm</td>\n",
       "      <td>200.0</td>\n",
       "      <td>7027.0</td>\n",
       "      <td>1998-05-01 12:17:30</td>\n",
       "      <td>12</td>\n",
       "      <td>htm</td>\n",
       "    </tr>\n",
       "    <tr>\n",
       "      <th>3</th>\n",
       "      <td>11435</td>\n",
       "      <td>01/May/1998</td>\n",
       "      <td>13:15:13</td>\n",
       "      <td>/french/frntpage.htm</td>\n",
       "      <td>304.0</td>\n",
       "      <td>0.0</td>\n",
       "      <td>1998-05-01 13:15:13</td>\n",
       "      <td>13</td>\n",
       "      <td>htm</td>\n",
       "    </tr>\n",
       "    <tr>\n",
       "      <th>4</th>\n",
       "      <td>12128</td>\n",
       "      <td>01/May/1998</td>\n",
       "      <td>13:30:21</td>\n",
       "      <td>/english/images/nav_sitemap_off.gif</td>\n",
       "      <td>304.0</td>\n",
       "      <td>NaN</td>\n",
       "      <td>1998-05-01 13:30:21</td>\n",
       "      <td>13</td>\n",
       "      <td>gif</td>\n",
       "    </tr>\n",
       "    <tr>\n",
       "      <th>5</th>\n",
       "      <td>13649</td>\n",
       "      <td>01/May/1998</td>\n",
       "      <td>14:55:01</td>\n",
       "      <td>/images/hm_anime_e.gif</td>\n",
       "      <td>200.0</td>\n",
       "      <td>15609.0</td>\n",
       "      <td>1998-05-01 14:55:01</td>\n",
       "      <td>14</td>\n",
       "      <td>gif</td>\n",
       "    </tr>\n",
       "    <tr>\n",
       "      <th>6</th>\n",
       "      <td>15006</td>\n",
       "      <td>01/May/1998</td>\n",
       "      <td>16:14:32</td>\n",
       "      <td>/english/images/comp_bu_group_off.gif</td>\n",
       "      <td>200.0</td>\n",
       "      <td>1557.0</td>\n",
       "      <td>1998-05-01 16:14:32</td>\n",
       "      <td>16</td>\n",
       "      <td>gif</td>\n",
       "    </tr>\n",
       "    <tr>\n",
       "      <th>7</th>\n",
       "      <td>16366</td>\n",
       "      <td>01/May/1998</td>\n",
       "      <td>17:14:13</td>\n",
       "      <td>/images/arw_lk.gif</td>\n",
       "      <td>200.0</td>\n",
       "      <td>669.0</td>\n",
       "      <td>1998-05-01 17:14:13</td>\n",
       "      <td>17</td>\n",
       "      <td>gif</td>\n",
       "    </tr>\n",
       "    <tr>\n",
       "      <th>8</th>\n",
       "      <td>16877</td>\n",
       "      <td>01/May/1998</td>\n",
       "      <td>17:46:37</td>\n",
       "      <td>/images/32p49807.jpg</td>\n",
       "      <td>200.0</td>\n",
       "      <td>13856.0</td>\n",
       "      <td>1998-05-01 17:46:37</td>\n",
       "      <td>17</td>\n",
       "      <td>jpg</td>\n",
       "    </tr>\n",
       "    <tr>\n",
       "      <th>9</th>\n",
       "      <td>17165</td>\n",
       "      <td>01/May/1998</td>\n",
       "      <td>17:58:46</td>\n",
       "      <td>/images/home_fr_button.gif</td>\n",
       "      <td>200.0</td>\n",
       "      <td>2140.0</td>\n",
       "      <td>1998-05-01 17:58:46</td>\n",
       "      <td>17</td>\n",
       "      <td>gif</td>\n",
       "    </tr>\n",
       "    <tr>\n",
       "      <th>10</th>\n",
       "      <td>17251</td>\n",
       "      <td>01/May/1998</td>\n",
       "      <td>18:06:07</td>\n",
       "      <td>/images/s102438.gif</td>\n",
       "      <td>200.0</td>\n",
       "      <td>297.0</td>\n",
       "      <td>1998-05-01 18:06:07</td>\n",
       "      <td>18</td>\n",
       "      <td>gif</td>\n",
       "    </tr>\n",
       "    <tr>\n",
       "      <th>11</th>\n",
       "      <td>1734</td>\n",
       "      <td>01/May/1998</td>\n",
       "      <td>12:57:32</td>\n",
       "      <td>/english/venues/cities/images/paris/21hundred.gif</td>\n",
       "      <td>200.0</td>\n",
       "      <td>318.0</td>\n",
       "      <td>1998-05-01 12:57:32</td>\n",
       "      <td>12</td>\n",
       "      <td>gif</td>\n",
       "    </tr>\n",
       "    <tr>\n",
       "      <th>12</th>\n",
       "      <td>17501</td>\n",
       "      <td>01/May/1998</td>\n",
       "      <td>18:17:26</td>\n",
       "      <td>/english/competition/flashed_stage1.htm</td>\n",
       "      <td>200.0</td>\n",
       "      <td>3541.0</td>\n",
       "      <td>1998-05-01 18:17:26</td>\n",
       "      <td>18</td>\n",
       "      <td>htm</td>\n",
       "    </tr>\n",
       "    <tr>\n",
       "      <th>13</th>\n",
       "      <td>18632</td>\n",
       "      <td>01/May/1998</td>\n",
       "      <td>19:27:09</td>\n",
       "      <td>/images/backnews.gif</td>\n",
       "      <td>200.0</td>\n",
       "      <td>4573.0</td>\n",
       "      <td>1998-05-01 19:27:09</td>\n",
       "      <td>19</td>\n",
       "      <td>gif</td>\n",
       "    </tr>\n",
       "    <tr>\n",
       "      <th>14</th>\n",
       "      <td>18902</td>\n",
       "      <td>01/May/1998</td>\n",
       "      <td>19:45:47</td>\n",
       "      <td>/images/dot.gif</td>\n",
       "      <td>200.0</td>\n",
       "      <td>43.0</td>\n",
       "      <td>1998-05-01 19:45:47</td>\n",
       "      <td>19</td>\n",
       "      <td>gif</td>\n",
       "    </tr>\n",
       "    <tr>\n",
       "      <th>15</th>\n",
       "      <td>20505</td>\n",
       "      <td>01/May/1998</td>\n",
       "      <td>21:36:22</td>\n",
       "      <td>/english/images/nav_store_off.gif</td>\n",
       "      <td>304.0</td>\n",
       "      <td>0.0</td>\n",
       "      <td>1998-05-01 21:36:22</td>\n",
       "      <td>21</td>\n",
       "      <td>gif</td>\n",
       "    </tr>\n",
       "    <tr>\n",
       "      <th>16</th>\n",
       "      <td>3168</td>\n",
       "      <td>01/May/1998</td>\n",
       "      <td>04:45:35</td>\n",
       "      <td>/english/images/news_btn_press_off.gif</td>\n",
       "      <td>200.0</td>\n",
       "      <td>1740.0</td>\n",
       "      <td>1998-05-01 04:45:35</td>\n",
       "      <td>4</td>\n",
       "      <td>gif</td>\n",
       "    </tr>\n",
       "    <tr>\n",
       "      <th>17</th>\n",
       "      <td>3250</td>\n",
       "      <td>01/May/1998</td>\n",
       "      <td>01:20:20</td>\n",
       "      <td>/images/s140875.gif</td>\n",
       "      <td>200.0</td>\n",
       "      <td>184.0</td>\n",
       "      <td>1998-05-01 01:20:20</td>\n",
       "      <td>1</td>\n",
       "      <td>gif</td>\n",
       "    </tr>\n",
       "    <tr>\n",
       "      <th>18</th>\n",
       "      <td>4293</td>\n",
       "      <td>01/May/1998</td>\n",
       "      <td>03:22:58</td>\n",
       "      <td>/english/playing/mascot/images/footix.test.gif</td>\n",
       "      <td>200.0</td>\n",
       "      <td>20385.0</td>\n",
       "      <td>1998-05-01 03:22:58</td>\n",
       "      <td>3</td>\n",
       "      <td>gif</td>\n",
       "    </tr>\n",
       "    <tr>\n",
       "      <th>19</th>\n",
       "      <td>4518</td>\n",
       "      <td>01/May/1998</td>\n",
       "      <td>03:12:52</td>\n",
       "      <td>/english/images/nav_field_off.gif</td>\n",
       "      <td>304.0</td>\n",
       "      <td>0.0</td>\n",
       "      <td>1998-05-01 03:12:52</td>\n",
       "      <td>3</td>\n",
       "      <td>gif</td>\n",
       "    </tr>\n",
       "    <tr>\n",
       "      <th>20</th>\n",
       "      <td>5518</td>\n",
       "      <td>01/May/1998</td>\n",
       "      <td>04:26:52</td>\n",
       "      <td>/english/nav_inet.html</td>\n",
       "      <td>200.0</td>\n",
       "      <td>2672.0</td>\n",
       "      <td>1998-05-01 04:26:52</td>\n",
       "      <td>4</td>\n",
       "      <td>html</td>\n",
       "    </tr>\n",
       "    <tr>\n",
       "      <th>21</th>\n",
       "      <td>5842</td>\n",
       "      <td>01/May/1998</td>\n",
       "      <td>04:58:25</td>\n",
       "      <td>/english/playing/images/play_hm_trivia.gif</td>\n",
       "      <td>200.0</td>\n",
       "      <td>796.0</td>\n",
       "      <td>1998-05-01 04:58:25</td>\n",
       "      <td>4</td>\n",
       "      <td>gif</td>\n",
       "    </tr>\n",
       "    <tr>\n",
       "      <th>22</th>\n",
       "      <td>5959</td>\n",
       "      <td>01/May/1998</td>\n",
       "      <td>05:32:07</td>\n",
       "      <td>/images/space.gif</td>\n",
       "      <td>200.0</td>\n",
       "      <td>42.0</td>\n",
       "      <td>1998-05-01 05:32:07</td>\n",
       "      <td>5</td>\n",
       "      <td>gif</td>\n",
       "    </tr>\n",
       "    <tr>\n",
       "      <th>23</th>\n",
       "      <td>6904</td>\n",
       "      <td>01/May/1998</td>\n",
       "      <td>13:09:01</td>\n",
       "      <td>/english/history/body.html</td>\n",
       "      <td>304.0</td>\n",
       "      <td>NaN</td>\n",
       "      <td>1998-05-01 13:09:01</td>\n",
       "      <td>13</td>\n",
       "      <td>html</td>\n",
       "    </tr>\n",
       "    <tr>\n",
       "      <th>24</th>\n",
       "      <td>7706</td>\n",
       "      <td>01/May/1998</td>\n",
       "      <td>08:01:19</td>\n",
       "      <td>/english/ProScroll.class</td>\n",
       "      <td>200.0</td>\n",
       "      <td>6507.0</td>\n",
       "      <td>1998-05-01 08:01:19</td>\n",
       "      <td>8</td>\n",
       "      <td>class</td>\n",
       "    </tr>\n",
       "    <tr>\n",
       "      <th>25</th>\n",
       "      <td>8103</td>\n",
       "      <td>01/May/1998</td>\n",
       "      <td>08:36:53</td>\n",
       "      <td>/english/images/news_btn_kits_off.gif</td>\n",
       "      <td>200.0</td>\n",
       "      <td>933.0</td>\n",
       "      <td>1998-05-01 08:36:53</td>\n",
       "      <td>8</td>\n",
       "      <td>gif</td>\n",
       "    </tr>\n",
       "    <tr>\n",
       "      <th>26</th>\n",
       "      <td>8278</td>\n",
       "      <td>01/May/1998</td>\n",
       "      <td>14:38:57</td>\n",
       "      <td>/french/playing/images/play_mascot_header.gif</td>\n",
       "      <td>304.0</td>\n",
       "      <td>0.0</td>\n",
       "      <td>1998-05-01 14:38:57</td>\n",
       "      <td>14</td>\n",
       "      <td>gif</td>\n",
       "    </tr>\n",
       "    <tr>\n",
       "      <th>27</th>\n",
       "      <td>8846</td>\n",
       "      <td>01/May/1998</td>\n",
       "      <td>17:06:36</td>\n",
       "      <td>/images/hm_brdl.gif</td>\n",
       "      <td>304.0</td>\n",
       "      <td>0.0</td>\n",
       "      <td>1998-05-01 17:06:36</td>\n",
       "      <td>17</td>\n",
       "      <td>gif</td>\n",
       "    </tr>\n",
       "    <tr>\n",
       "      <th>28</th>\n",
       "      <td>9788</td>\n",
       "      <td>01/May/1998</td>\n",
       "      <td>10:43:09</td>\n",
       "      <td>/images/s102378.gif</td>\n",
       "      <td>200.0</td>\n",
       "      <td>118.0</td>\n",
       "      <td>1998-05-01 10:43:09</td>\n",
       "      <td>10</td>\n",
       "      <td>gif</td>\n",
       "    </tr>\n",
       "    <tr>\n",
       "      <th>29</th>\n",
       "      <td>10686</td>\n",
       "      <td>01/May/1998</td>\n",
       "      <td>12:04:38</td>\n",
       "      <td>/images/info.gif</td>\n",
       "      <td>304.0</td>\n",
       "      <td>NaN</td>\n",
       "      <td>1998-05-01 12:04:38</td>\n",
       "      <td>12</td>\n",
       "      <td>gif</td>\n",
       "    </tr>\n",
       "    <tr>\n",
       "      <th>30</th>\n",
       "      <td>11012</td>\n",
       "      <td>01/May/1998</td>\n",
       "      <td>12:17:23</td>\n",
       "      <td>/images/arw_lk.gif</td>\n",
       "      <td>200.0</td>\n",
       "      <td>669.0</td>\n",
       "      <td>1998-05-01 12:17:23</td>\n",
       "      <td>12</td>\n",
       "      <td>gif</td>\n",
       "    </tr>\n",
       "    <tr>\n",
       "      <th>...</th>\n",
       "      <td>...</td>\n",
       "      <td>...</td>\n",
       "      <td>...</td>\n",
       "      <td>...</td>\n",
       "      <td>...</td>\n",
       "      <td>...</td>\n",
       "      <td>...</td>\n",
       "      <td>...</td>\n",
       "      <td>...</td>\n",
       "    </tr>\n",
       "    <tr>\n",
       "      <th>199966</th>\n",
       "      <td>10845</td>\n",
       "      <td>01/May/1998</td>\n",
       "      <td>12:06:01</td>\n",
       "      <td>/images/space.gif</td>\n",
       "      <td>200.0</td>\n",
       "      <td>42.0</td>\n",
       "      <td>1998-05-01 12:06:01</td>\n",
       "      <td>12</td>\n",
       "      <td>gif</td>\n",
       "    </tr>\n",
       "    <tr>\n",
       "      <th>199967</th>\n",
       "      <td>11147</td>\n",
       "      <td>01/May/1998</td>\n",
       "      <td>12:32:28</td>\n",
       "      <td>/images/s102330.gif</td>\n",
       "      <td>304.0</td>\n",
       "      <td>0.0</td>\n",
       "      <td>1998-05-01 12:32:28</td>\n",
       "      <td>12</td>\n",
       "      <td>gif</td>\n",
       "    </tr>\n",
       "    <tr>\n",
       "      <th>199968</th>\n",
       "      <td>11618</td>\n",
       "      <td>01/May/1998</td>\n",
       "      <td>13:06:41</td>\n",
       "      <td>/images/102320.gif</td>\n",
       "      <td>200.0</td>\n",
       "      <td>1750.0</td>\n",
       "      <td>1998-05-01 13:06:41</td>\n",
       "      <td>13</td>\n",
       "      <td>gif</td>\n",
       "    </tr>\n",
       "    <tr>\n",
       "      <th>199969</th>\n",
       "      <td>13282</td>\n",
       "      <td>01/May/1998</td>\n",
       "      <td>14:38:28</td>\n",
       "      <td>/images/s102329.gif</td>\n",
       "      <td>200.0</td>\n",
       "      <td>159.0</td>\n",
       "      <td>1998-05-01 14:38:28</td>\n",
       "      <td>14</td>\n",
       "      <td>gif</td>\n",
       "    </tr>\n",
       "    <tr>\n",
       "      <th>199970</th>\n",
       "      <td>14121</td>\n",
       "      <td>01/May/1998</td>\n",
       "      <td>15:19:21</td>\n",
       "      <td>/images/space.gif</td>\n",
       "      <td>200.0</td>\n",
       "      <td>42.0</td>\n",
       "      <td>1998-05-01 15:19:21</td>\n",
       "      <td>15</td>\n",
       "      <td>gif</td>\n",
       "    </tr>\n",
       "    <tr>\n",
       "      <th>199971</th>\n",
       "      <td>16012</td>\n",
       "      <td>01/May/1998</td>\n",
       "      <td>17:02:46</td>\n",
       "      <td>/english/playing/images/trivia/submit.gif</td>\n",
       "      <td>200.0</td>\n",
       "      <td>1808.0</td>\n",
       "      <td>1998-05-01 17:02:46</td>\n",
       "      <td>17</td>\n",
       "      <td>gif</td>\n",
       "    </tr>\n",
       "    <tr>\n",
       "      <th>199972</th>\n",
       "      <td>16596</td>\n",
       "      <td>01/May/1998</td>\n",
       "      <td>17:26:05</td>\n",
       "      <td>/english/ProScroll.class</td>\n",
       "      <td>200.0</td>\n",
       "      <td>6507.0</td>\n",
       "      <td>1998-05-01 17:26:05</td>\n",
       "      <td>17</td>\n",
       "      <td>class</td>\n",
       "    </tr>\n",
       "    <tr>\n",
       "      <th>199973</th>\n",
       "      <td>17660</td>\n",
       "      <td>01/May/1998</td>\n",
       "      <td>18:26:25</td>\n",
       "      <td>/english/images/comp_bu_groupsn_on.gif</td>\n",
       "      <td>200.0</td>\n",
       "      <td>963.0</td>\n",
       "      <td>1998-05-01 18:26:25</td>\n",
       "      <td>18</td>\n",
       "      <td>gif</td>\n",
       "    </tr>\n",
       "    <tr>\n",
       "      <th>199974</th>\n",
       "      <td>18543</td>\n",
       "      <td>01/May/1998</td>\n",
       "      <td>19:26:42</td>\n",
       "      <td>/images/news_hm_arw.gif</td>\n",
       "      <td>200.0</td>\n",
       "      <td>152.0</td>\n",
       "      <td>1998-05-01 19:26:42</td>\n",
       "      <td>19</td>\n",
       "      <td>gif</td>\n",
       "    </tr>\n",
       "    <tr>\n",
       "      <th>199975</th>\n",
       "      <td>19381</td>\n",
       "      <td>01/May/1998</td>\n",
       "      <td>20:16:42</td>\n",
       "      <td>/</td>\n",
       "      <td>200.0</td>\n",
       "      <td>8712.0</td>\n",
       "      <td>1998-05-01 20:16:42</td>\n",
       "      <td>20</td>\n",
       "      <td>/</td>\n",
       "    </tr>\n",
       "    <tr>\n",
       "      <th>199976</th>\n",
       "      <td>4512</td>\n",
       "      <td>01/May/1998</td>\n",
       "      <td>03:05:46</td>\n",
       "      <td>/english/images/top_stories.gif</td>\n",
       "      <td>200.0</td>\n",
       "      <td>1210.0</td>\n",
       "      <td>1998-05-01 03:05:46</td>\n",
       "      <td>3</td>\n",
       "      <td>gif</td>\n",
       "    </tr>\n",
       "    <tr>\n",
       "      <th>199977</th>\n",
       "      <td>4542</td>\n",
       "      <td>01/May/1998</td>\n",
       "      <td>17:56:42</td>\n",
       "      <td>/images/s102373.gif</td>\n",
       "      <td>304.0</td>\n",
       "      <td>0.0</td>\n",
       "      <td>1998-05-01 17:56:42</td>\n",
       "      <td>17</td>\n",
       "      <td>gif</td>\n",
       "    </tr>\n",
       "    <tr>\n",
       "      <th>199978</th>\n",
       "      <td>5029</td>\n",
       "      <td>01/May/1998</td>\n",
       "      <td>03:43:58</td>\n",
       "      <td>/french/images/nav_hosts_off.gif</td>\n",
       "      <td>200.0</td>\n",
       "      <td>1139.0</td>\n",
       "      <td>1998-05-01 03:43:58</td>\n",
       "      <td>3</td>\n",
       "      <td>gif</td>\n",
       "    </tr>\n",
       "    <tr>\n",
       "      <th>199980</th>\n",
       "      <td>5613</td>\n",
       "      <td>01/May/1998</td>\n",
       "      <td>04:41:50</td>\n",
       "      <td>/english/member/images/banner.jpg</td>\n",
       "      <td>200.0</td>\n",
       "      <td>13120.0</td>\n",
       "      <td>1998-05-01 04:41:50</td>\n",
       "      <td>4</td>\n",
       "      <td>jpg</td>\n",
       "    </tr>\n",
       "    <tr>\n",
       "      <th>199981</th>\n",
       "      <td>6414</td>\n",
       "      <td>01/May/1998</td>\n",
       "      <td>05:54:17</td>\n",
       "      <td>/english/nav_inet.html</td>\n",
       "      <td>200.0</td>\n",
       "      <td>2672.0</td>\n",
       "      <td>1998-05-01 05:54:17</td>\n",
       "      <td>5</td>\n",
       "      <td>html</td>\n",
       "    </tr>\n",
       "    <tr>\n",
       "      <th>199982</th>\n",
       "      <td>6555</td>\n",
       "      <td>01/May/1998</td>\n",
       "      <td>08:00:12</td>\n",
       "      <td>/english/images/news_btn_press_off.gif</td>\n",
       "      <td>200.0</td>\n",
       "      <td>1740.0</td>\n",
       "      <td>1998-05-01 08:00:12</td>\n",
       "      <td>8</td>\n",
       "      <td>gif</td>\n",
       "    </tr>\n",
       "    <tr>\n",
       "      <th>199983</th>\n",
       "      <td>72</td>\n",
       "      <td>01/May/1998</td>\n",
       "      <td>13:42:05</td>\n",
       "      <td>/images/arw_lk.gif</td>\n",
       "      <td>200.0</td>\n",
       "      <td>669.0</td>\n",
       "      <td>1998-05-01 13:42:05</td>\n",
       "      <td>13</td>\n",
       "      <td>gif</td>\n",
       "    </tr>\n",
       "    <tr>\n",
       "      <th>199984</th>\n",
       "      <td>78</td>\n",
       "      <td>01/May/1998</td>\n",
       "      <td>11:19:46</td>\n",
       "      <td>/english/images/top_stories.gif</td>\n",
       "      <td>200.0</td>\n",
       "      <td>1210.0</td>\n",
       "      <td>1998-05-01 11:19:46</td>\n",
       "      <td>11</td>\n",
       "      <td>gif</td>\n",
       "    </tr>\n",
       "    <tr>\n",
       "      <th>199986</th>\n",
       "      <td>8678</td>\n",
       "      <td>01/May/1998</td>\n",
       "      <td>09:15:22</td>\n",
       "      <td>/images/hm_anime_f.gif</td>\n",
       "      <td>200.0</td>\n",
       "      <td>15529.0</td>\n",
       "      <td>1998-05-01 09:15:22</td>\n",
       "      <td>9</td>\n",
       "      <td>gif</td>\n",
       "    </tr>\n",
       "    <tr>\n",
       "      <th>199987</th>\n",
       "      <td>8051</td>\n",
       "      <td>01/May/1998</td>\n",
       "      <td>16:35:07</td>\n",
       "      <td>/french/images/nav_field_off.gif</td>\n",
       "      <td>200.0</td>\n",
       "      <td>982.0</td>\n",
       "      <td>1998-05-01 16:35:07</td>\n",
       "      <td>16</td>\n",
       "      <td>gif</td>\n",
       "    </tr>\n",
       "    <tr>\n",
       "      <th>199988</th>\n",
       "      <td>10103</td>\n",
       "      <td>01/May/1998</td>\n",
       "      <td>16:12:29</td>\n",
       "      <td>/images/s102386.gif</td>\n",
       "      <td>200.0</td>\n",
       "      <td>279.0</td>\n",
       "      <td>1998-05-01 16:12:29</td>\n",
       "      <td>16</td>\n",
       "      <td>gif</td>\n",
       "    </tr>\n",
       "    <tr>\n",
       "      <th>199989</th>\n",
       "      <td>10156</td>\n",
       "      <td>01/May/1998</td>\n",
       "      <td>11:14:32</td>\n",
       "      <td>/english/playing/images/play_hm_bg_opt1.jpg</td>\n",
       "      <td>200.0</td>\n",
       "      <td>44502.0</td>\n",
       "      <td>1998-05-01 11:14:32</td>\n",
       "      <td>11</td>\n",
       "      <td>jpg</td>\n",
       "    </tr>\n",
       "    <tr>\n",
       "      <th>199990</th>\n",
       "      <td>10215</td>\n",
       "      <td>01/May/1998</td>\n",
       "      <td>16:32:01</td>\n",
       "      <td>/images/home_eng_phrase.gif</td>\n",
       "      <td>200.0</td>\n",
       "      <td>2861.0</td>\n",
       "      <td>1998-05-01 16:32:01</td>\n",
       "      <td>16</td>\n",
       "      <td>gif</td>\n",
       "    </tr>\n",
       "    <tr>\n",
       "      <th>199991</th>\n",
       "      <td>12459</td>\n",
       "      <td>01/May/1998</td>\n",
       "      <td>13:50:21</td>\n",
       "      <td>/english/images/nav_home_off.gif</td>\n",
       "      <td>200.0</td>\n",
       "      <td>828.0</td>\n",
       "      <td>1998-05-01 13:50:21</td>\n",
       "      <td>13</td>\n",
       "      <td>gif</td>\n",
       "    </tr>\n",
       "    <tr>\n",
       "      <th>199992</th>\n",
       "      <td>13015</td>\n",
       "      <td>01/May/1998</td>\n",
       "      <td>14:23:33</td>\n",
       "      <td>/images/hm_nbg.jpg</td>\n",
       "      <td>200.0</td>\n",
       "      <td>33665.0</td>\n",
       "      <td>1998-05-01 14:23:33</td>\n",
       "      <td>14</td>\n",
       "      <td>jpg</td>\n",
       "    </tr>\n",
       "    <tr>\n",
       "      <th>199995</th>\n",
       "      <td>14308</td>\n",
       "      <td>01/May/1998</td>\n",
       "      <td>15:31:30</td>\n",
       "      <td>/english/images/news_btn_press_off.gif</td>\n",
       "      <td>200.0</td>\n",
       "      <td>1740.0</td>\n",
       "      <td>1998-05-01 15:31:30</td>\n",
       "      <td>15</td>\n",
       "      <td>gif</td>\n",
       "    </tr>\n",
       "    <tr>\n",
       "      <th>199996</th>\n",
       "      <td>14401</td>\n",
       "      <td>01/May/1998</td>\n",
       "      <td>15:54:00</td>\n",
       "      <td>/images/102338.gif</td>\n",
       "      <td>200.0</td>\n",
       "      <td>1573.0</td>\n",
       "      <td>1998-05-01 15:54:00</td>\n",
       "      <td>15</td>\n",
       "      <td>gif</td>\n",
       "    </tr>\n",
       "    <tr>\n",
       "      <th>199997</th>\n",
       "      <td>8145</td>\n",
       "      <td>01/May/1998</td>\n",
       "      <td>08:41:37</td>\n",
       "      <td>/english/news/player01.htm</td>\n",
       "      <td>200.0</td>\n",
       "      <td>42591.0</td>\n",
       "      <td>1998-05-01 08:41:37</td>\n",
       "      <td>8</td>\n",
       "      <td>htm</td>\n",
       "    </tr>\n",
       "    <tr>\n",
       "      <th>199998</th>\n",
       "      <td>17799</td>\n",
       "      <td>01/May/1998</td>\n",
       "      <td>18:34:08</td>\n",
       "      <td>/english/images/nav_team_off.gif</td>\n",
       "      <td>200.0</td>\n",
       "      <td>776.0</td>\n",
       "      <td>1998-05-01 18:34:08</td>\n",
       "      <td>18</td>\n",
       "      <td>gif</td>\n",
       "    </tr>\n",
       "    <tr>\n",
       "      <th>199999</th>\n",
       "      <td>18194</td>\n",
       "      <td>01/May/1998</td>\n",
       "      <td>19:07:24</td>\n",
       "      <td>/french/playing/images/trivia/02comme.gif</td>\n",
       "      <td>200.0</td>\n",
       "      <td>944.0</td>\n",
       "      <td>1998-05-01 19:07:24</td>\n",
       "      <td>19</td>\n",
       "      <td>gif</td>\n",
       "    </tr>\n",
       "  </tbody>\n",
       "</table>\n",
       "<p>183303 rows × 9 columns</p>\n",
       "</div>"
      ],
      "text/plain": [
       "        ClientID         Date      Time  \\\n",
       "1          10871  01/May/1998  12:10:53   \n",
       "2          11012  01/May/1998  12:17:30   \n",
       "3          11435  01/May/1998  13:15:13   \n",
       "4          12128  01/May/1998  13:30:21   \n",
       "5          13649  01/May/1998  14:55:01   \n",
       "6          15006  01/May/1998  16:14:32   \n",
       "7          16366  01/May/1998  17:14:13   \n",
       "8          16877  01/May/1998  17:46:37   \n",
       "9          17165  01/May/1998  17:58:46   \n",
       "10         17251  01/May/1998  18:06:07   \n",
       "11          1734  01/May/1998  12:57:32   \n",
       "12         17501  01/May/1998  18:17:26   \n",
       "13         18632  01/May/1998  19:27:09   \n",
       "14         18902  01/May/1998  19:45:47   \n",
       "15         20505  01/May/1998  21:36:22   \n",
       "16          3168  01/May/1998  04:45:35   \n",
       "17          3250  01/May/1998  01:20:20   \n",
       "18          4293  01/May/1998  03:22:58   \n",
       "19          4518  01/May/1998  03:12:52   \n",
       "20          5518  01/May/1998  04:26:52   \n",
       "21          5842  01/May/1998  04:58:25   \n",
       "22          5959  01/May/1998  05:32:07   \n",
       "23          6904  01/May/1998  13:09:01   \n",
       "24          7706  01/May/1998  08:01:19   \n",
       "25          8103  01/May/1998  08:36:53   \n",
       "26          8278  01/May/1998  14:38:57   \n",
       "27          8846  01/May/1998  17:06:36   \n",
       "28          9788  01/May/1998  10:43:09   \n",
       "29         10686  01/May/1998  12:04:38   \n",
       "30         11012  01/May/1998  12:17:23   \n",
       "...          ...          ...       ...   \n",
       "199966     10845  01/May/1998  12:06:01   \n",
       "199967     11147  01/May/1998  12:32:28   \n",
       "199968     11618  01/May/1998  13:06:41   \n",
       "199969     13282  01/May/1998  14:38:28   \n",
       "199970     14121  01/May/1998  15:19:21   \n",
       "199971     16012  01/May/1998  17:02:46   \n",
       "199972     16596  01/May/1998  17:26:05   \n",
       "199973     17660  01/May/1998  18:26:25   \n",
       "199974     18543  01/May/1998  19:26:42   \n",
       "199975     19381  01/May/1998  20:16:42   \n",
       "199976      4512  01/May/1998  03:05:46   \n",
       "199977      4542  01/May/1998  17:56:42   \n",
       "199978      5029  01/May/1998  03:43:58   \n",
       "199980      5613  01/May/1998  04:41:50   \n",
       "199981      6414  01/May/1998  05:54:17   \n",
       "199982      6555  01/May/1998  08:00:12   \n",
       "199983        72  01/May/1998  13:42:05   \n",
       "199984        78  01/May/1998  11:19:46   \n",
       "199986      8678  01/May/1998  09:15:22   \n",
       "199987      8051  01/May/1998  16:35:07   \n",
       "199988     10103  01/May/1998  16:12:29   \n",
       "199989     10156  01/May/1998  11:14:32   \n",
       "199990     10215  01/May/1998  16:32:01   \n",
       "199991     12459  01/May/1998  13:50:21   \n",
       "199992     13015  01/May/1998  14:23:33   \n",
       "199995     14308  01/May/1998  15:31:30   \n",
       "199996     14401  01/May/1998  15:54:00   \n",
       "199997      8145  01/May/1998  08:41:37   \n",
       "199998     17799  01/May/1998  18:34:08   \n",
       "199999     18194  01/May/1998  19:07:24   \n",
       "\n",
       "                                                      URL  ResponseCode  \\\n",
       "1                                       /images/ligne.gif         200.0   \n",
       "2                   /english/individuals/player111503.htm         200.0   \n",
       "3                                    /french/frntpage.htm         304.0   \n",
       "4                     /english/images/nav_sitemap_off.gif         304.0   \n",
       "5                                  /images/hm_anime_e.gif         200.0   \n",
       "6                   /english/images/comp_bu_group_off.gif         200.0   \n",
       "7                                      /images/arw_lk.gif         200.0   \n",
       "8                                    /images/32p49807.jpg         200.0   \n",
       "9                              /images/home_fr_button.gif         200.0   \n",
       "10                                    /images/s102438.gif         200.0   \n",
       "11      /english/venues/cities/images/paris/21hundred.gif         200.0   \n",
       "12                /english/competition/flashed_stage1.htm         200.0   \n",
       "13                                   /images/backnews.gif         200.0   \n",
       "14                                        /images/dot.gif         200.0   \n",
       "15                      /english/images/nav_store_off.gif         304.0   \n",
       "16                 /english/images/news_btn_press_off.gif         200.0   \n",
       "17                                    /images/s140875.gif         200.0   \n",
       "18         /english/playing/mascot/images/footix.test.gif         200.0   \n",
       "19                      /english/images/nav_field_off.gif         304.0   \n",
       "20                                 /english/nav_inet.html         200.0   \n",
       "21             /english/playing/images/play_hm_trivia.gif         200.0   \n",
       "22                                      /images/space.gif         200.0   \n",
       "23                             /english/history/body.html         304.0   \n",
       "24                               /english/ProScroll.class         200.0   \n",
       "25                  /english/images/news_btn_kits_off.gif         200.0   \n",
       "26          /french/playing/images/play_mascot_header.gif         304.0   \n",
       "27                                    /images/hm_brdl.gif         304.0   \n",
       "28                                    /images/s102378.gif         200.0   \n",
       "29                                       /images/info.gif         304.0   \n",
       "30                                     /images/arw_lk.gif         200.0   \n",
       "...                                                   ...           ...   \n",
       "199966                                  /images/space.gif         200.0   \n",
       "199967                                /images/s102330.gif         304.0   \n",
       "199968                                 /images/102320.gif         200.0   \n",
       "199969                                /images/s102329.gif         200.0   \n",
       "199970                                  /images/space.gif         200.0   \n",
       "199971          /english/playing/images/trivia/submit.gif         200.0   \n",
       "199972                           /english/ProScroll.class         200.0   \n",
       "199973             /english/images/comp_bu_groupsn_on.gif         200.0   \n",
       "199974                            /images/news_hm_arw.gif         200.0   \n",
       "199975                                                  /         200.0   \n",
       "199976                    /english/images/top_stories.gif         200.0   \n",
       "199977                                /images/s102373.gif         304.0   \n",
       "199978                   /french/images/nav_hosts_off.gif         200.0   \n",
       "199980                  /english/member/images/banner.jpg         200.0   \n",
       "199981                             /english/nav_inet.html         200.0   \n",
       "199982             /english/images/news_btn_press_off.gif         200.0   \n",
       "199983                                 /images/arw_lk.gif         200.0   \n",
       "199984                    /english/images/top_stories.gif         200.0   \n",
       "199986                             /images/hm_anime_f.gif         200.0   \n",
       "199987                   /french/images/nav_field_off.gif         200.0   \n",
       "199988                                /images/s102386.gif         200.0   \n",
       "199989        /english/playing/images/play_hm_bg_opt1.jpg         200.0   \n",
       "199990                        /images/home_eng_phrase.gif         200.0   \n",
       "199991                   /english/images/nav_home_off.gif         200.0   \n",
       "199992                                 /images/hm_nbg.jpg         200.0   \n",
       "199995             /english/images/news_btn_press_off.gif         200.0   \n",
       "199996                                 /images/102338.gif         200.0   \n",
       "199997                         /english/news/player01.htm         200.0   \n",
       "199998                   /english/images/nav_team_off.gif         200.0   \n",
       "199999          /french/playing/images/trivia/02comme.gif         200.0   \n",
       "\n",
       "           Size            DateTime  hour URL_type  \n",
       "1         169.0 1998-05-01 12:10:53    12      gif  \n",
       "2        7027.0 1998-05-01 12:17:30    12      htm  \n",
       "3           0.0 1998-05-01 13:15:13    13      htm  \n",
       "4           NaN 1998-05-01 13:30:21    13      gif  \n",
       "5       15609.0 1998-05-01 14:55:01    14      gif  \n",
       "6        1557.0 1998-05-01 16:14:32    16      gif  \n",
       "7         669.0 1998-05-01 17:14:13    17      gif  \n",
       "8       13856.0 1998-05-01 17:46:37    17      jpg  \n",
       "9        2140.0 1998-05-01 17:58:46    17      gif  \n",
       "10        297.0 1998-05-01 18:06:07    18      gif  \n",
       "11        318.0 1998-05-01 12:57:32    12      gif  \n",
       "12       3541.0 1998-05-01 18:17:26    18      htm  \n",
       "13       4573.0 1998-05-01 19:27:09    19      gif  \n",
       "14         43.0 1998-05-01 19:45:47    19      gif  \n",
       "15          0.0 1998-05-01 21:36:22    21      gif  \n",
       "16       1740.0 1998-05-01 04:45:35     4      gif  \n",
       "17        184.0 1998-05-01 01:20:20     1      gif  \n",
       "18      20385.0 1998-05-01 03:22:58     3      gif  \n",
       "19          0.0 1998-05-01 03:12:52     3      gif  \n",
       "20       2672.0 1998-05-01 04:26:52     4     html  \n",
       "21        796.0 1998-05-01 04:58:25     4      gif  \n",
       "22         42.0 1998-05-01 05:32:07     5      gif  \n",
       "23          NaN 1998-05-01 13:09:01    13     html  \n",
       "24       6507.0 1998-05-01 08:01:19     8    class  \n",
       "25        933.0 1998-05-01 08:36:53     8      gif  \n",
       "26          0.0 1998-05-01 14:38:57    14      gif  \n",
       "27          0.0 1998-05-01 17:06:36    17      gif  \n",
       "28        118.0 1998-05-01 10:43:09    10      gif  \n",
       "29          NaN 1998-05-01 12:04:38    12      gif  \n",
       "30        669.0 1998-05-01 12:17:23    12      gif  \n",
       "...         ...                 ...   ...      ...  \n",
       "199966     42.0 1998-05-01 12:06:01    12      gif  \n",
       "199967      0.0 1998-05-01 12:32:28    12      gif  \n",
       "199968   1750.0 1998-05-01 13:06:41    13      gif  \n",
       "199969    159.0 1998-05-01 14:38:28    14      gif  \n",
       "199970     42.0 1998-05-01 15:19:21    15      gif  \n",
       "199971   1808.0 1998-05-01 17:02:46    17      gif  \n",
       "199972   6507.0 1998-05-01 17:26:05    17    class  \n",
       "199973    963.0 1998-05-01 18:26:25    18      gif  \n",
       "199974    152.0 1998-05-01 19:26:42    19      gif  \n",
       "199975   8712.0 1998-05-01 20:16:42    20        /  \n",
       "199976   1210.0 1998-05-01 03:05:46     3      gif  \n",
       "199977      0.0 1998-05-01 17:56:42    17      gif  \n",
       "199978   1139.0 1998-05-01 03:43:58     3      gif  \n",
       "199980  13120.0 1998-05-01 04:41:50     4      jpg  \n",
       "199981   2672.0 1998-05-01 05:54:17     5     html  \n",
       "199982   1740.0 1998-05-01 08:00:12     8      gif  \n",
       "199983    669.0 1998-05-01 13:42:05    13      gif  \n",
       "199984   1210.0 1998-05-01 11:19:46    11      gif  \n",
       "199986  15529.0 1998-05-01 09:15:22     9      gif  \n",
       "199987    982.0 1998-05-01 16:35:07    16      gif  \n",
       "199988    279.0 1998-05-01 16:12:29    16      gif  \n",
       "199989  44502.0 1998-05-01 11:14:32    11      jpg  \n",
       "199990   2861.0 1998-05-01 16:32:01    16      gif  \n",
       "199991    828.0 1998-05-01 13:50:21    13      gif  \n",
       "199992  33665.0 1998-05-01 14:23:33    14      jpg  \n",
       "199995   1740.0 1998-05-01 15:31:30    15      gif  \n",
       "199996   1573.0 1998-05-01 15:54:00    15      gif  \n",
       "199997  42591.0 1998-05-01 08:41:37     8      htm  \n",
       "199998    776.0 1998-05-01 18:34:08    18      gif  \n",
       "199999    944.0 1998-05-01 19:07:24    19      gif  \n",
       "\n",
       "[183303 rows x 9 columns]"
      ]
     },
     "execution_count": 14,
     "metadata": {},
     "output_type": "execute_result"
    }
   ],
   "source": [
    "may1_df = log_df[is_may1st]\n",
    "may1_df"
   ]
  },
  {
   "cell_type": "markdown",
   "metadata": {},
   "source": [
    "This can be done more concisely:"
   ]
  },
  {
   "cell_type": "code",
   "execution_count": 15,
   "metadata": {},
   "outputs": [],
   "source": [
    "may1_df = log_df[log_df['Date'] == '01/May/1998']"
   ]
  },
  {
   "cell_type": "markdown",
   "metadata": {},
   "source": [
    "#### Column filtering"
   ]
  },
  {
   "cell_type": "markdown",
   "metadata": {},
   "source": [
    "For column filters, we use the name of the columns that we want to keep passes as a string array:"
   ]
  },
  {
   "cell_type": "code",
   "execution_count": 16,
   "metadata": {},
   "outputs": [],
   "source": [
    "url_codes = log_df[['URL', 'ResponseCode']]"
   ]
  },
  {
   "cell_type": "markdown",
   "metadata": {},
   "source": [
    "#### Grouping"
   ]
  },
  {
   "cell_type": "markdown",
   "metadata": {},
   "source": [
    "For grouping by a column, i.e. dividing all the rows into groups of the same value in that column, we use **groupby** which does not return a DataFrame but a **DataFrameGroupBy** object. The **DataFrameGroupBy** object is a dictionary-like object where keys are the distinct values in the grouping column, and values are DataFrames containnig th remaining columns"
   ]
  },
  {
   "cell_type": "code",
   "execution_count": 17,
   "metadata": {},
   "outputs": [],
   "source": [
    "grouped = log_df.groupby('ResponseCode')"
   ]
  },
  {
   "cell_type": "code",
   "execution_count": 18,
   "metadata": {},
   "outputs": [
    {
     "name": "stdout",
     "output_type": "stream",
     "text": [
      "<class 'pandas.core.frame.DataFrame'>\n",
      "Int64Index: 173924 entries, 0 to 199999\n",
      "Data columns (total 9 columns):\n",
      "ClientID        173924 non-null int64\n",
      "Date            173924 non-null object\n",
      "Time            173924 non-null object\n",
      "URL             173924 non-null object\n",
      "ResponseCode    173924 non-null float64\n",
      "Size            173924 non-null float64\n",
      "DateTime        173924 non-null datetime64[ns]\n",
      "hour            173924 non-null int64\n",
      "URL_type        173924 non-null object\n",
      "dtypes: datetime64[ns](1), float64(2), int64(2), object(4)\n",
      "memory usage: 13.3+ MB\n"
     ]
    }
   ],
   "source": [
    "grouped.get_group(200).info()"
   ]
  },
  {
   "cell_type": "code",
   "execution_count": 19,
   "metadata": {},
   "outputs": [],
   "source": [
    "# group by multiple columns\n",
    "multi_grouped = log_df.groupby(['ResponseCode', 'Date'])"
   ]
  },
  {
   "cell_type": "markdown",
   "metadata": {},
   "source": [
    "Similarly, we can apply operations to each group such as:"
   ]
  },
  {
   "cell_type": "code",
   "execution_count": 20,
   "metadata": {},
   "outputs": [
    {
     "name": "stdout",
     "output_type": "stream",
     "text": [
      "<class 'pandas.core.frame.DataFrame'>\n",
      "Int64Index: 14577 entries, 0 to 199994\n",
      "Data columns (total 9 columns):\n",
      "ClientID        14577 non-null int64\n",
      "Date            14577 non-null object\n",
      "Time            14577 non-null object\n",
      "URL             14577 non-null object\n",
      "ResponseCode    14577 non-null float64\n",
      "Size            14577 non-null float64\n",
      "DateTime        14577 non-null datetime64[ns]\n",
      "hour            14577 non-null int64\n",
      "URL_type        14577 non-null object\n",
      "dtypes: datetime64[ns](1), float64(2), int64(2), object(4)\n",
      "memory usage: 1.1+ MB\n"
     ]
    }
   ],
   "source": [
    "multi_grouped.get_group((200, '30/Apr/1998')).info()"
   ]
  },
  {
   "cell_type": "code",
   "execution_count": 21,
   "metadata": {},
   "outputs": [
    {
     "data": {
      "text/plain": [
       "ResponseCode\n",
       "200.0    173924\n",
       "206.0       379\n",
       "302.0        14\n",
       "304.0     25457\n",
       "400.0         3\n",
       "404.0       215\n",
       "500.0         5\n",
       "dtype: int64"
      ]
     },
     "execution_count": 21,
     "metadata": {},
     "output_type": "execute_result"
    }
   ],
   "source": [
    "grouped.size()\n",
    "# returns a panda Series(1-d array with the groupby value(s)as index, count of each group as data values.)"
   ]
  },
  {
   "cell_type": "code",
   "execution_count": 22,
   "metadata": {},
   "outputs": [
    {
     "data": {
      "text/plain": [
       "(                ClientID          Size     hour\n",
       " ResponseCode                                   \n",
       " 200.0         1747413714  1.468218e+09  2227190\n",
       " 206.0            3943763  3.399102e+07     4791\n",
       " 302.0             160809  3.334000e+03      152\n",
       " 304.0          228519101  1.994370e+05   323252\n",
       " 400.0              14153  4.080000e+02       58\n",
       " 404.0            1777150  5.784000e+04     2300\n",
       " 500.0              51037  1.525000e+03       66,\n",
       "                   ClientID          Size       hour\n",
       " ResponseCode                                       \n",
       " 200.0         10046.995895   8441.722091  12.805536\n",
       " 206.0         10405.707124  89686.058047  12.641161\n",
       " 302.0         11486.357143    238.142857  10.857143\n",
       " 304.0          8976.670503     11.878320  12.697961\n",
       " 400.0          4717.666667    136.000000  19.333333\n",
       " 404.0          8265.813953    269.023256  10.697674\n",
       " 500.0         10207.400000    305.000000  13.200000,\n",
       "               ClientID     Size  hour\n",
       " ResponseCode                         \n",
       " 200.0          10081.0    937.0  14.0\n",
       " 206.0          10274.0  10200.0  14.0\n",
       " 302.0           9865.5    218.0  11.5\n",
       " 304.0           8349.0      0.0  13.0\n",
       " 400.0            781.0    147.0  22.0\n",
       " 404.0           7116.0    207.0  10.0\n",
       " 500.0           7211.0    305.0  14.0)"
      ]
     },
     "execution_count": 22,
     "metadata": {},
     "output_type": "execute_result"
    }
   ],
   "source": [
    "grouped.sum(), grouped.mean(), grouped.median()"
   ]
  },
  {
   "cell_type": "markdown",
   "metadata": {},
   "source": [
    "## Basic Statistics"
   ]
  },
  {
   "cell_type": "markdown",
   "metadata": {},
   "source": [
    "Pandas can also provide useful insights of numerical columns in a DataFrame. The function describe will provide basic statistics such as count, mean, standard deviation, etc."
   ]
  },
  {
   "cell_type": "code",
   "execution_count": 23,
   "metadata": {},
   "outputs": [
    {
     "data": {
      "text/html": [
       "<div>\n",
       "<style scoped>\n",
       "    .dataframe tbody tr th:only-of-type {\n",
       "        vertical-align: middle;\n",
       "    }\n",
       "\n",
       "    .dataframe tbody tr th {\n",
       "        vertical-align: top;\n",
       "    }\n",
       "\n",
       "    .dataframe thead th {\n",
       "        text-align: right;\n",
       "    }\n",
       "</style>\n",
       "<table border=\"1\" class=\"dataframe\">\n",
       "  <thead>\n",
       "    <tr style=\"text-align: right;\">\n",
       "      <th></th>\n",
       "      <th>ClientID</th>\n",
       "      <th>ResponseCode</th>\n",
       "      <th>Size</th>\n",
       "      <th>hour</th>\n",
       "    </tr>\n",
       "  </thead>\n",
       "  <tbody>\n",
       "    <tr>\n",
       "      <th>count</th>\n",
       "      <td>200000.000000</td>\n",
       "      <td>199997.000000</td>\n",
       "      <td>1.913330e+05</td>\n",
       "      <td>200000.000000</td>\n",
       "    </tr>\n",
       "    <tr>\n",
       "      <th>mean</th>\n",
       "      <td>9909.549500</td>\n",
       "      <td>213.486152</td>\n",
       "      <td>7.852653e+03</td>\n",
       "      <td>12.789190</td>\n",
       "    </tr>\n",
       "    <tr>\n",
       "      <th>std</th>\n",
       "      <td>6363.720798</td>\n",
       "      <td>35.259744</td>\n",
       "      <td>7.960852e+04</td>\n",
       "      <td>6.483314</td>\n",
       "    </tr>\n",
       "    <tr>\n",
       "      <th>min</th>\n",
       "      <td>0.000000</td>\n",
       "      <td>200.000000</td>\n",
       "      <td>0.000000e+00</td>\n",
       "      <td>0.000000</td>\n",
       "    </tr>\n",
       "    <tr>\n",
       "      <th>25%</th>\n",
       "      <td>4326.000000</td>\n",
       "      <td>200.000000</td>\n",
       "      <td>2.310000e+02</td>\n",
       "      <td>8.000000</td>\n",
       "    </tr>\n",
       "    <tr>\n",
       "      <th>50%</th>\n",
       "      <td>9812.000000</td>\n",
       "      <td>200.000000</td>\n",
       "      <td>9.140000e+02</td>\n",
       "      <td>14.000000</td>\n",
       "    </tr>\n",
       "    <tr>\n",
       "      <th>75%</th>\n",
       "      <td>15056.000000</td>\n",
       "      <td>200.000000</td>\n",
       "      <td>2.557000e+03</td>\n",
       "      <td>18.000000</td>\n",
       "    </tr>\n",
       "    <tr>\n",
       "      <th>max</th>\n",
       "      <td>34794.000000</td>\n",
       "      <td>500.000000</td>\n",
       "      <td>2.891887e+06</td>\n",
       "      <td>23.000000</td>\n",
       "    </tr>\n",
       "  </tbody>\n",
       "</table>\n",
       "</div>"
      ],
      "text/plain": [
       "            ClientID   ResponseCode          Size           hour\n",
       "count  200000.000000  199997.000000  1.913330e+05  200000.000000\n",
       "mean     9909.549500     213.486152  7.852653e+03      12.789190\n",
       "std      6363.720798      35.259744  7.960852e+04       6.483314\n",
       "min         0.000000     200.000000  0.000000e+00       0.000000\n",
       "25%      4326.000000     200.000000  2.310000e+02       8.000000\n",
       "50%      9812.000000     200.000000  9.140000e+02      14.000000\n",
       "75%     15056.000000     200.000000  2.557000e+03      18.000000\n",
       "max     34794.000000     500.000000  2.891887e+06      23.000000"
      ]
     },
     "execution_count": 23,
     "metadata": {},
     "output_type": "execute_result"
    }
   ],
   "source": [
    "log_df.describe()"
   ]
  },
  {
   "cell_type": "markdown",
   "metadata": {},
   "source": [
    "## Visualization"
   ]
  },
  {
   "cell_type": "markdown",
   "metadata": {},
   "source": [
    "Now lets visualize our data using PyLab (this step requires to have matplotlib installed, already installed in the virtual machine)"
   ]
  },
  {
   "cell_type": "markdown",
   "metadata": {},
   "source": [
    "#### Pie Chart"
   ]
  },
  {
   "cell_type": "code",
   "execution_count": 24,
   "metadata": {},
   "outputs": [
    {
     "data": {
      "text/plain": [
       "ResponseCode\n",
       "200.0    173924\n",
       "206.0       379\n",
       "302.0        14\n",
       "304.0     25457\n",
       "400.0         3\n",
       "404.0       215\n",
       "500.0         5\n",
       "dtype: int64"
      ]
     },
     "execution_count": 24,
     "metadata": {},
     "output_type": "execute_result"
    }
   ],
   "source": [
    "# The sizes of each group by ResponseCode\n",
    "grouped.size()"
   ]
  },
  {
   "cell_type": "code",
   "execution_count": 25,
   "metadata": {},
   "outputs": [
    {
     "data": {
      "text/plain": [
       "<matplotlib.axes._subplots.AxesSubplot at 0x7fef6b004d68>"
      ]
     },
     "execution_count": 25,
     "metadata": {},
     "output_type": "execute_result"
    },
    {
     "data": {
      "image/png": "[encoded data removed]",
      "text/plain": [
       "<matplotlib.figure.Figure at 0x7fef742255c0>"
      ]
     },
     "metadata": {},
     "output_type": "display_data"
    }
   ],
   "source": [
    "%matplotlib inline\n",
    "# show the percentage of each response code\n",
    "import matplotlib.pyplot as plt\n",
    "grouped.size().plot(kind='pie', legend=True)"
   ]
  },
  {
   "cell_type": "markdown",
   "metadata": {},
   "source": [
    "#### Bar Chart"
   ]
  },
  {
   "cell_type": "code",
   "execution_count": 26,
   "metadata": {},
   "outputs": [
    {
     "data": {
      "text/plain": [
       "<matplotlib.axes._subplots.AxesSubplot at 0x7fef6b0231d0>"
      ]
     },
     "execution_count": 26,
     "metadata": {},
     "output_type": "execute_result"
    },
    {
     "data": {
      "image/png": "[encoded data removed]",
      "text/plain": [
       "<matplotlib.figure.Figure at 0x7fef6aff8438>"
      ]
     },
     "metadata": {},
     "output_type": "display_data"
    }
   ],
   "source": [
    "# Or show as bar chart\n",
    "grouped.size().plot(kind='bar')"
   ]
  },
  {
   "cell_type": "code",
   "execution_count": 27,
   "metadata": {},
   "outputs": [
    {
     "data": {
      "image/png": "[encoded data removed]",
      "text/plain": [
       "<matplotlib.figure.Figure at 0x7fef6b08c4a8>"
      ]
     },
     "metadata": {},
     "output_type": "display_data"
    }
   ],
   "source": [
    "# Since the diferences between the counts are huge, use logy y-axis\n",
    "ax = grouped.size().plot(kind='bar')\n",
    "ax.set_yscale('log', nonposy='clip')# the 'noposy='clip'' is to replace the invalid log(0) with a very small positive one\n",
    "                                  # while doing the log-scale transition."
   ]
  },
  {
   "cell_type": "markdown",
   "metadata": {},
   "source": [
    "Now let's check how requests changes during different hour of the day on '01/May/1998'"
   ]
  },
  {
   "cell_type": "markdown",
   "metadata": {},
   "source": [
    "#### Line Plot"
   ]
  },
  {
   "cell_type": "code",
   "execution_count": 28,
   "metadata": {},
   "outputs": [
    {
     "name": "stderr",
     "output_type": "stream",
     "text": [
      "/usr/lib/python3/dist-packages/pandas/core/indexing.py:537: SettingWithCopyWarning: \n",
      "A value is trying to be set on a copy of a slice from a DataFrame.\n",
      "Try using .loc[row_indexer,col_indexer] = value instead\n",
      "\n",
      "See the caveats in the documentation: http://pandas.pydata.org/pandas-docs/stable/indexing.html#indexing-view-versus-copy\n",
      "  self.obj[item] = s\n"
     ]
    }
   ],
   "source": [
    "may1_df = log_df[log_df['Date'] == '01/May/1998']\n",
    "may1_df.loc[:,('DateTime')] = pd.to_datetime(may1_df.apply(lambda row: row['Date'] + ' ' + row['Time'], axis=1))\n",
    "hour_grouped = may1_df.groupby(lambda x: may1_df['DateTime'][x].hour)"
   ]
  },
  {
   "cell_type": "code",
   "execution_count": 29,
   "metadata": {},
   "outputs": [
    {
     "data": {
      "text/plain": [
       "0      6569\n",
       "1      6103\n",
       "2      6072\n",
       "3      6625\n",
       "4      6019\n",
       "5      4733\n",
       "6      4995\n",
       "7      5094\n",
       "8      6460\n",
       "9      7892\n",
       "10     7465\n",
       "11     7893\n",
       "12    10127\n",
       "13    10225\n",
       "14    12040\n",
       "15    12256\n",
       "16    13367\n",
       "17    11494\n",
       "18    11515\n",
       "19    10386\n",
       "20     9363\n",
       "21     6610\n",
       "dtype: int64"
      ]
     },
     "execution_count": 29,
     "metadata": {},
     "output_type": "execute_result"
    }
   ],
   "source": [
    "# Let's check how many requests were made during each hour of the day on '01/May/1998' \n",
    "hour_grouped.size()"
   ]
  },
  {
   "cell_type": "code",
   "execution_count": 30,
   "metadata": {},
   "outputs": [
    {
     "data": {
      "text/plain": [
       "0     44166352.0\n",
       "1     46857868.0\n",
       "2     42803283.0\n",
       "3     38868040.0\n",
       "4     49190470.0\n",
       "5     34184105.0\n",
       "6     47877742.0\n",
       "7     37838488.0\n",
       "8     57224306.0\n",
       "9     67645841.0\n",
       "10    64193518.0\n",
       "11    59961757.0\n",
       "12    79150391.0\n",
       "13    80907946.0\n",
       "14    98825640.0\n",
       "15    94044070.0\n",
       "16    73413868.0\n",
       "17    94389754.0\n",
       "18    79264404.0\n",
       "19    76209823.0\n",
       "20    67784666.0\n",
       "21    59834046.0\n",
       "Name: Size, dtype: float64"
      ]
     },
     "execution_count": 30,
     "metadata": {},
     "output_type": "execute_result"
    }
   ],
   "source": [
    "# and how much traffic the server handled during each hour:\n",
    "hour_grouped['Size'].sum()"
   ]
  },
  {
   "cell_type": "code",
   "execution_count": 31,
   "metadata": {},
   "outputs": [
    {
     "data": {
      "text/plain": [
       "Text(0.5,1,'# Request changes in a day')"
      ]
     },
     "execution_count": 31,
     "metadata": {},
     "output_type": "execute_result"
    },
    {
     "data": {
      "image/png": "[encoded data removed]",
      "text/plain": [
       "<matplotlib.figure.Figure at 0x7fef6b2704a8>"
      ]
     },
     "metadata": {},
     "output_type": "display_data"
    }
   ],
   "source": [
    "# plot the changes of traffic on different hours of the day.\n",
    "ax = hour_grouped.size().plot()\n",
    "ax.set_ylabel(\"# Requests\")\n",
    "ax.set_xlabel(\"Hour of the day\")\n",
    "ax.set_title(\"# Request changes in a day\")"
   ]
  },
  {
   "cell_type": "code",
   "execution_count": 32,
   "metadata": {},
   "outputs": [
    {
     "data": {
      "text/plain": [
       "Text(0,0.5,'Size of traffic handled')"
      ]
     },
     "execution_count": 32,
     "metadata": {},
     "output_type": "execute_result"
    },
    {
     "data": {
      "image/png": "[encoded data removed]",
      "text/plain": [
       "<matplotlib.figure.Figure at 0x7fef6b1765c0>"
      ]
     },
     "metadata": {},
     "output_type": "display_data"
    }
   ],
   "source": [
    "# Let's show the # requests and size of traffic in a single graph:\n",
    "fig, ax1 = plt.subplots()\n",
    "ax2 = ax1.twinx()\n",
    "x = hour_grouped.size().index\n",
    "\n",
    "ax1.plot(x, hour_grouped.size(), 'g-')\n",
    "ax2.plot(x, hour_grouped['Size'].sum(), 'r-')\n",
    "\n",
    "ax1.set_xlabel('Hour of the day')\n",
    "ax1.set_ylabel('# Requests', color='g')\n",
    "ax2.set_ylabel('Size of traffic handled', color='r')"
   ]
  },
  {
   "cell_type": "markdown",
   "metadata": {},
   "source": [
    "## Now it's your turn:"
   ]
  },
  {
   "cell_type": "markdown",
   "metadata": {},
   "source": [
    "### Homework 2-1"
   ]
  },
  {
   "cell_type": "markdown",
   "metadata": {},
   "source": [
    "NOTE: You don't have to submit this notebook for this homework, only answers of these questions are required to be submitted.\n",
    "\n",
    "Questions:\n",
    "1. How many requests that were sent on '30/Apr/1998' and had HTTP return code 404?\n",
    "2. Generate a plot of the number of **distinct** users of the site every hour on 01/May/1998 using bar chart.\n",
    "3. The dataset we used in this lab is from world cup 1998: ftp://ita.ee.lbl.gov/html/contrib/WorldCup.html. Please generate a different visualization using some subsets of the data to show some interesting/surprising findings/trend about the requests made to the 1998 World Cup Web site (e.g. how the traffic changed or the main type of traffic in a certain period of time) using the data exploration techniques/tools."
   ]
  },
  {
   "cell_type": "code",
   "execution_count": null,
   "metadata": {},
   "outputs": [],
   "source": []
  }
 ],
 "metadata": {
  "kernelspec": {
   "display_name": "Python 3",
   "language": "python",
   "name": "python3"
  },
  "language_info": {
   "codemirror_mode": {
    "name": "ipython",
    "version": 3
   },
   "file_extension": ".py",
   "mimetype": "text/x-python",
   "name": "python",
   "nbconvert_exporter": "python",
   "pygments_lexer": "ipython3",
   "version": "3.6.9"
  }
 },
 "nbformat": 4,
 "nbformat_minor": 1
}
