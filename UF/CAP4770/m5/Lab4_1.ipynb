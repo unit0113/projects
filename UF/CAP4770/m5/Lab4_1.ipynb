{
 "cells": [
  {
   "cell_type": "code",
   "execution_count": 1,
   "id": "a7c28e7e-bea8-4742-9677-681403504d18",
   "metadata": {},
   "outputs": [
    {
     "name": "stderr",
     "output_type": "stream",
     "text": [
      "24/06/10 23:58:22 WARN MetricsConfig: Cannot locate configuration: tried hadoop-metrics2-s3a-file-system.properties,hadoop-metrics2.properties\n"
     ]
    },
    {
     "data": {
      "text/plain": [
       "['Do not go gentle into that good night,',\n",
       " 'Old age should burn and rave at close of day;',\n",
       " 'Rage, rage against the dying of the light.',\n",
       " '',\n",
       " 'Though wise men at their end know dark is right,',\n",
       " 'Because their words had forked no lightning they',\n",
       " 'Do not go gentle into that good night.',\n",
       " '',\n",
       " 'Good men, the last wave by, crying how bright',\n",
       " 'Their frail deeds might have danced in a green bay,',\n",
       " 'Rage, rage against the dying of the light.',\n",
       " '',\n",
       " 'Wild men who caught and sang the sun in flight,',\n",
       " 'And learn, too late, they grieved it on its way,',\n",
       " 'Do not go gentle into that good night.',\n",
       " '',\n",
       " 'Grave men, near death, who see with blinding sight',\n",
       " 'Blind eyes could blaze like meteors and be gay,',\n",
       " 'Rage, rage against the dying of the light.',\n",
       " '',\n",
       " 'And you, my father, there on the sad height,',\n",
       " 'Curse, bless, me now with your fierce tears, I pray.',\n",
       " 'Do not go gentle into that good night.',\n",
       " 'Rage, rage against the dying of the light.']"
      ]
     },
     "execution_count": 1,
     "metadata": {},
     "output_type": "execute_result"
    }
   ],
   "source": [
    "sc.textFile('s3a://cap4770-2024summer-kl/test.txt').collect()"
   ]
  },
  {
   "cell_type": "code",
   "execution_count": 3,
   "id": "6fff19e0-9f40-41fd-8ddd-023710e59da5",
   "metadata": {},
   "outputs": [
    {
     "name": "stderr",
     "output_type": "stream",
     "text": [
      "                                                                                \r"
     ]
    },
    {
     "data": {
      "text/plain": [
       "[('good', 4),\n",
       " ('night,', 1),\n",
       " ('should', 1),\n",
       " ('and', 3),\n",
       " ('rave', 1),\n",
       " ('at', 2),\n",
       " ('of', 5),\n",
       " ('against', 4),\n",
       " ('dying', 4),\n",
       " ('light.', 4),\n",
       " ('Though', 1),\n",
       " ('their', 2),\n",
       " ('end', 1),\n",
       " ('right,', 1),\n",
       " ('Because', 1),\n",
       " ('words', 1),\n",
       " ('forked', 1),\n",
       " ('no', 1),\n",
       " ('they', 2),\n",
       " ('night.', 3),\n",
       " ('Good', 1),\n",
       " ('last', 1),\n",
       " ('wave', 1),\n",
       " ('by,', 1),\n",
       " ('how', 1),\n",
       " ('Their', 1),\n",
       " ('might', 1),\n",
       " ('have', 1),\n",
       " ('danced', 1),\n",
       " ('green', 1),\n",
       " ('caught', 1),\n",
       " ('sun', 1),\n",
       " ('too', 1),\n",
       " ('late,', 1),\n",
       " ('grieved', 1),\n",
       " ('it', 1),\n",
       " ('death,', 1),\n",
       " ('see', 1),\n",
       " ('with', 2),\n",
       " ('blinding', 1),\n",
       " ('sight', 1),\n",
       " ('eyes', 1),\n",
       " ('could', 1),\n",
       " ('like', 1),\n",
       " ('sad', 1),\n",
       " ('Curse,', 1),\n",
       " ('bless,', 1),\n",
       " ('me', 1),\n",
       " ('I', 1),\n",
       " ('pray.', 1),\n",
       " ('Do', 4),\n",
       " ('not', 4),\n",
       " ('go', 4),\n",
       " ('gentle', 4),\n",
       " ('into', 4),\n",
       " ('that', 4),\n",
       " ('Old', 1),\n",
       " ('age', 1),\n",
       " ('burn', 1),\n",
       " ('close', 1),\n",
       " ('day;', 1),\n",
       " ('Rage,', 4),\n",
       " ('rage', 4),\n",
       " ('the', 11),\n",
       " ('wise', 1),\n",
       " ('men', 2),\n",
       " ('know', 1),\n",
       " ('dark', 1),\n",
       " ('is', 1),\n",
       " ('had', 1),\n",
       " ('lightning', 1),\n",
       " ('men,', 2),\n",
       " ('crying', 1),\n",
       " ('bright', 1),\n",
       " ('frail', 1),\n",
       " ('deeds', 1),\n",
       " ('in', 2),\n",
       " ('a', 1),\n",
       " ('bay,', 1),\n",
       " ('Wild', 1),\n",
       " ('who', 2),\n",
       " ('sang', 1),\n",
       " ('flight,', 1),\n",
       " ('And', 2),\n",
       " ('learn,', 1),\n",
       " ('on', 2),\n",
       " ('its', 1),\n",
       " ('way,', 1),\n",
       " ('Grave', 1),\n",
       " ('near', 1),\n",
       " ('Blind', 1),\n",
       " ('blaze', 1),\n",
       " ('meteors', 1),\n",
       " ('be', 1),\n",
       " ('gay,', 1),\n",
       " ('you,', 1),\n",
       " ('my', 1),\n",
       " ('father,', 1),\n",
       " ('there', 1),\n",
       " ('height,', 1),\n",
       " ('now', 1),\n",
       " ('your', 1),\n",
       " ('fierce', 1),\n",
       " ('tears,', 1)]"
      ]
     },
     "execution_count": 3,
     "metadata": {},
     "output_type": "execute_result"
    }
   ],
   "source": [
    "rdd = sc.textFile('s3a://cap4770-2024summer-kl/test.txt') \\\n",
    "        .flatMap(lambda line: line.split()) \\\n",
    "        .map(lambda word: (word, 1)) \\\n",
    "        .reduceByKey(lambda x, y: x + y)\n",
    "rdd.collect()"
   ]
  },
  {
   "cell_type": "code",
   "execution_count": 4,
   "id": "44167c47-1073-4d34-9fc8-90e82c4b78bc",
   "metadata": {},
   "outputs": [
    {
     "name": "stderr",
     "output_type": "stream",
     "text": [
      "                                                                                \r"
     ]
    }
   ],
   "source": [
    "rdd.saveAsTextFile('s3a://cap4770-2024summer-kl/test_rddoutput.txt')"
   ]
  },
  {
   "cell_type": "code",
   "execution_count": null,
   "id": "1d783f3b-36f9-4091-8a9e-306af4bd0f86",
   "metadata": {},
   "outputs": [],
   "source": []
  }
 ],
 "metadata": {
  "kernelspec": {
   "display_name": "Python 3 (ipykernel)",
   "language": "python",
   "name": "python3"
  },
  "language_info": {
   "codemirror_mode": {
    "name": "ipython",
    "version": 3
   },
   "file_extension": ".py",
   "mimetype": "text/x-python",
   "name": "python",
   "nbconvert_exporter": "python",
   "pygments_lexer": "ipython3",
   "version": "3.12.3"
  }
 },
 "nbformat": 4,
 "nbformat_minor": 5
}
