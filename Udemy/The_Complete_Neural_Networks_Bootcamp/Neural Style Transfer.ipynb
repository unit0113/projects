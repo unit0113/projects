{
 "cells": [
  {
   "cell_type": "code",
   "execution_count": null,
   "metadata": {},
   "outputs": [],
   "source": [
    "import torch\n",
    "import torch.nn as nn\n",
    "import torchvision\n",
    "from torchvision import models, transforms\n",
    "from PIL import Image\n",
    "import numpy as np\n",
    "import matplotlib.pyplot as plt\n",
    "\n",
    "device = torch.device('cuda' if torch.cuda.is_available() else 'cpu')"
   ]
  },
  {
   "cell_type": "code",
   "execution_count": null,
   "metadata": {},
   "outputs": [],
   "source": [
    "def get_image(path, img_transform, size = (300,300)):\n",
    "    image = Image.open(path)\n",
    "    image = image.resize(size, Image.LANCZOS)\n",
    "    image = img_transform(image).unsqueeze(0)\n",
    "    return image.to(device)\n",
    "\n",
    "def get_gram(m):\n",
    "    _, c, h, w = m.size()\n",
    "    m = m.view(c, h * w)\n",
    "    m = torch.mm(m, m.t()) \n",
    "    return m\n",
    "\n",
    "def denormalize_img(inp):\n",
    "    inp = inp.numpy().transpose((1, 2, 0))\n",
    "    mean = np.array([0.485, 0.456, 0.406])\n",
    "    std = np.array([0.229, 0.224, 0.225])\n",
    "    inp = std * inp + mean\n",
    "    inp = np.clip(inp, 0, 1)\n",
    "    return inp"
   ]
  },
  {
   "cell_type": "markdown",
   "metadata": {},
   "source": [
    "![figure](https://user-images.githubusercontent.com/30661597/107026142-96fa0100-67aa-11eb-9f71-4adce01dd362.png)"
   ]
  },
  {
   "cell_type": "code",
   "execution_count": null,
   "metadata": {},
   "outputs": [],
   "source": [
    "class FeatureExtractor(nn.Module):\n",
    "    def __init__(self):\n",
    "        super(FeatureExtractor, self).__init__()\n",
    "        self.selected_layers = [3, 8, 15, 22]\n",
    "        self.vgg = models.vgg16(pretrained=True).features\n",
    "        \n",
    "    def forward(self, x):\n",
    "        layer_features = []\n",
    "        for layer_number, layer in self.vgg._modules.items():\n",
    "            x = layer(x)\n",
    "            if int(layer_number) in self.selected_layers:\n",
    "                layer_features.append(x)\n",
    "        return layer_features"
   ]
  },
  {
   "cell_type": "code",
   "execution_count": null,
   "metadata": {},
   "outputs": [],
   "source": [
    "img_transform = transforms.Compose([transforms.ToTensor(),\n",
    "                                    transforms.Normalize(mean=(0.485, 0.456, 0.406), std=(0.229, 0.224, 0.225))])\n",
    "\n",
    "content_img = get_image('content.jpg', img_transform)\n",
    "style_img = get_image('style.jpg', img_transform)\n",
    "generated_img = content_img.clone()    # or nn.Parameter(torch.FloatTensor(content_img.size()))\n",
    "generated_img.requires_grad = True\n",
    "\n",
    "optimizer = torch.optim.Adam([generated_img], lr=0.003, betas=[0.5, 0.999])\n",
    "encoder = FeatureExtractor().to(device)\n",
    "\n",
    "for p in encoder.parameters():\n",
    "    p.requires_grad = False"
   ]
  },
  {
   "cell_type": "code",
   "execution_count": null,
   "metadata": {},
   "outputs": [],
   "source": [
    "content_weight = 1\n",
    "style_weight = 100\n",
    "\n",
    "for epoch in range(500):\n",
    "    \n",
    "    content_features = encoder(content_img)\n",
    "    style_features = encoder(style_img)\n",
    "    generated_features = encoder(generated_img)\n",
    "    \n",
    "    content_loss = torch.mean((content_features[-1] - generated_features[-1])**2)  \n",
    "\n",
    "    style_loss = 0\n",
    "    for gf, sf in zip(generated_features, style_features):\n",
    "        _, c, h, w = gf.size()\n",
    "        gram_gf = get_gram(gf)\n",
    "        gram_sf = get_gram(sf)\n",
    "        style_loss += torch.mean((gram_gf - gram_sf)**2)  / (c * h * w) \n",
    "\n",
    "    loss = content_weight * content_loss + style_weight * style_loss \n",
    "    optimizer.zero_grad()\n",
    "    loss.backward()\n",
    "    optimizer.step()\n",
    "\n",
    "    if epoch % 10 == 0:\n",
    "        print ('Epoch [{}]\\tContent Loss: {:.4f}\\tStyle Loss: {:.4f}'.format(epoch, content_loss.item(), style_loss.item()))"
   ]
  },
  {
   "cell_type": "code",
   "execution_count": null,
   "metadata": {},
   "outputs": [],
   "source": [
    "inp = generated_img.detach().cpu().squeeze()\n",
    "inp = denormalize_img(inp)\n",
    "plt.imshow(inp)"
   ]
  },
  {
   "cell_type": "code",
   "execution_count": null,
   "metadata": {},
   "outputs": [],
   "source": []
  }
 ],
 "metadata": {
  "kernelspec": {
   "display_name": "Python 3",
   "language": "python",
   "name": "python3"
  },
  "language_info": {
   "codemirror_mode": {
    "name": "ipython",
    "version": 3
   },
   "file_extension": ".py",
   "mimetype": "text/x-python",
   "name": "python",
   "nbconvert_exporter": "python",
   "pygments_lexer": "ipython3",
   "version": "3.7.4"
  }
 },
 "nbformat": 4,
 "nbformat_minor": 2
}
