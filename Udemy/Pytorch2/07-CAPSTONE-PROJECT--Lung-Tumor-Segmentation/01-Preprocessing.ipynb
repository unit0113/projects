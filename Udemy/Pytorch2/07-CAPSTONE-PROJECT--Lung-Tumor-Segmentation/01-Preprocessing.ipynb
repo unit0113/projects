{
 "cells": [
  {
   "cell_type": "markdown",
   "id": "dental-clear",
   "metadata": {},
   "source": [
    "## Introduction\n",
    "\n",
    "First, you need to obtain and preprocess the data for the segmentation task\n",
    "The data is provided by the medical segmentation decathlon challenge(http://medicaldecathlon.com/) <br />\n",
    "You can directly download the full body cts and segmentation maps from: <br />\n",
    "https://drive.google.com/file/d/1I1LR7XjyEZ-VBQ-Xruh31V7xExMjlVvi/view?usp=sharing\n",
    "\n",
    "(Data License: CC-BY-SA 4.0, https://creativecommons.org/licenses/by-sa/4.0/)"
   ]
  },
  {
   "cell_type": "markdown",
   "id": "exotic-continuity",
   "metadata": {},
   "source": [
    "## Imports\n",
    "**Task: Import the necessary libraries**"
   ]
  },
  {
   "cell_type": "code",
   "execution_count": null,
   "id": "statistical-bidder",
   "metadata": {},
   "outputs": [],
   "source": []
  },
  {
   "cell_type": "markdown",
   "id": "sapphire-issue",
   "metadata": {},
   "source": [
    "## Inspection\n",
    "**Task: Define the paths to images and labels**"
   ]
  },
  {
   "cell_type": "code",
   "execution_count": null,
   "id": "interracial-trick",
   "metadata": {},
   "outputs": [],
   "source": [
    "root = # todo"
   ]
  },
  {
   "cell_type": "markdown",
   "id": "satellite-polish",
   "metadata": {},
   "source": [
    "**Task: Load a sample NIfTI and its corresponding label mask**<br />\n",
    "Hint: You might want to define a helper function to make your life easier"
   ]
  },
  {
   "cell_type": "code",
   "execution_count": null,
   "id": "likely-sunrise",
   "metadata": {},
   "outputs": [],
   "source": []
  },
  {
   "cell_type": "markdown",
   "id": "agreed-wyoming",
   "metadata": {},
   "source": [
    "**Task: Find out the orientation**"
   ]
  },
  {
   "cell_type": "code",
   "execution_count": null,
   "id": "intimate-provider",
   "metadata": {},
   "outputs": [],
   "source": []
  },
  {
   "cell_type": "markdown",
   "id": "optimum-integrity",
   "metadata": {},
   "source": [
    "**Task: Inspect the loaded data with overlaid Ground Truth tumor segmentation**<br />\n",
    "Hint: Use the axial view (last axis)<br />\n",
    "You may skip every second slice to speed up the process\n"
   ]
  },
  {
   "cell_type": "code",
   "execution_count": null,
   "id": "hindu-harvey",
   "metadata": {},
   "outputs": [],
   "source": []
  },
  {
   "cell_type": "markdown",
   "id": "mature-colors",
   "metadata": {},
   "source": [
    "## Preprocessing\n",
    "**Task: Please perform the following preprocessing steps:**\n",
    "\n",
    "1. CT images have a fixed range from -1000 to 3071. **Thus you could normalize by dividing by 3071** <br /> You don't need to compute mean and standard deviation for this task\n",
    "2. As we want to focus on lung tumors, we can crop away parts of the lower abdomen to reduce the complexity and help the network learn. As an example, **you might skip the first 30 slices (from lower abdomen to the neck)** (last axis)\n",
    "3. As we want to tackle this task on a slice level (2D) and not on a subject level (3D) to reduce the computational cost **you should store the preprocessed data as 2d files**, because reading a single slice is much faster than loading the complete NIfTI file.\n",
    "4. Resize the single slices and masks to (256, 256) (when resizing the mask, pass interpolation=cv2.INTER_NEAREST to the resize function to apply nearest neighbour interpolation)\n",
    "\n",
    "Loop over all_files and apply the preprocessing steps. <br />\n",
    "\n",
    "Additionally, please make sure that all scans have the same orientation\n",
    "\n",
    "In the preprocessing loop, you need to create a directory for each subject containg the ct and label slices with identical names. <br />\n",
    "E.g:\n",
    "* 0/data/0.npy\n",
    "* 0/masks/0.npy\n",
    "\n",
    "Store the last 6 subjects as validation data\n",
    "\n",
    "PS: Feel free to try the lung window!"
   ]
  },
  {
   "cell_type": "code",
   "execution_count": null,
   "id": "shared-efficiency",
   "metadata": {},
   "outputs": [],
   "source": [
    "all_files = list(root.glob(\"lung_*\"))  # Get all subjects"
   ]
  },
  {
   "cell_type": "code",
   "execution_count": 1,
   "id": "suburban-toronto",
   "metadata": {},
   "outputs": [],
   "source": [
    "# TODO"
   ]
  },
  {
   "cell_type": "markdown",
   "id": "manual-digest",
   "metadata": {},
   "source": [
    "## Validate preprocessed data\n",
    "**Task: Take a look at your stored files and inspect if everything worked as expected**"
   ]
  },
  {
   "cell_type": "code",
   "execution_count": 2,
   "id": "assigned-mountain",
   "metadata": {},
   "outputs": [],
   "source": [
    "# TODO"
   ]
  },
  {
   "cell_type": "code",
   "execution_count": null,
   "id": "quiet-isolation",
   "metadata": {},
   "outputs": [],
   "source": []
  }
 ],
 "metadata": {
  "kernelspec": {
   "display_name": "Udemy",
   "language": "python",
   "name": "udemy"
  },
  "language_info": {
   "codemirror_mode": {
    "name": "ipython",
    "version": 3
   },
   "file_extension": ".py",
   "mimetype": "text/x-python",
   "name": "python",
   "nbconvert_exporter": "python",
   "pygments_lexer": "ipython3",
   "version": "3.8.0"
  }
 },
 "nbformat": 4,
 "nbformat_minor": 5
}
