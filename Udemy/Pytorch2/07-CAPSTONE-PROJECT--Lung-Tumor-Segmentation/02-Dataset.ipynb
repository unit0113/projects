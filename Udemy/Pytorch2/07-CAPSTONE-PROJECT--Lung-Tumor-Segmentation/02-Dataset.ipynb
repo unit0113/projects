{
 "cells": [
  {
   "cell_type": "markdown",
   "id": "renewable-balloon",
   "metadata": {},
   "source": [
    "## Introduction\n",
    "In this notebook you will create the dataset class used to feed slices and corresponding segmentation masks to the network during training.\n",
    "It is similar to the CardiacDataset"
   ]
  },
  {
   "cell_type": "markdown",
   "id": "secret-supervision",
   "metadata": {},
   "source": [
    "## Imports\n",
    "\n",
    "**Task: Import the necessary libraries**"
   ]
  },
  {
   "cell_type": "code",
   "execution_count": null,
   "id": "resident-murray",
   "metadata": {},
   "outputs": [],
   "source": []
  },
  {
   "cell_type": "markdown",
   "id": "relative-headquarters",
   "metadata": {},
   "source": [
    "## DataSet Creation\n",
    "**Task: Create a torch Dataset which implements the following functionality:**\n",
    "1. Create a list of all 2D slices. To so we need to extract all slices from all subjects\n",
    "2. Extract the corresponding label path for each slice path\n",
    "3. Load slice and label\n",
    "4. Data Augmentation. Make sure that slice and mask are augmented identically. Hint: Remember imgaug\n",
    "5. Return slice and mask"
   ]
  },
  {
   "cell_type": "code",
   "execution_count": null,
   "id": "introductory-fellowship",
   "metadata": {},
   "outputs": [],
   "source": []
  },
  {
   "cell_type": "markdown",
   "id": "guided-azerbaijan",
   "metadata": {},
   "source": [
    "## Validation\n",
    "**Task: Test the dataset by showing the same (tumorous) slice 9 times. Make sure that the label mask is augmented correctly**\n",
    "Hint: \n",
    "You can use the following augmentation pipeline:\n",
    "```python\n",
    "seq = iaa.Sequential([\n",
    "    iaa.Affine(scale=(0.85, 1.15), # zoom in or out\n",
    "               rotate=(-45, 45)),  # rotate up to 45 degrees\n",
    "    iaa.ElasticTransformation()\n",
    "                ])\n",
    "```"
   ]
  },
  {
   "cell_type": "code",
   "execution_count": null,
   "id": "tired-portable",
   "metadata": {},
   "outputs": [],
   "source": []
  }
 ],
 "metadata": {
  "kernelspec": {
   "display_name": "Udemy",
   "language": "python",
   "name": "udemy"
  },
  "language_info": {
   "codemirror_mode": {
    "name": "ipython",
    "version": 3
   },
   "file_extension": ".py",
   "mimetype": "text/x-python",
   "name": "python",
   "nbconvert_exporter": "python",
   "pygments_lexer": "ipython3",
   "version": "3.7.0"
  }
 },
 "nbformat": 4,
 "nbformat_minor": 5
}
