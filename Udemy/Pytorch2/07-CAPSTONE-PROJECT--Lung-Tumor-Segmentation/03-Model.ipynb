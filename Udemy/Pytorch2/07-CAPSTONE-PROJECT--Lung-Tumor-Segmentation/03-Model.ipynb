{
 "cells": [
  {
   "cell_type": "markdown",
   "id": "moral-scenario",
   "metadata": {},
   "source": [
    "## Introduction\n",
    "In thise notebook you will create the model for the Tumor Segmentation! <br />\n",
    "Nothing is changed compared to the Atrium Segmentation\n",
    "We will use the most famous architecture for this task, the U-NET (https://arxiv.org/abs/1505.04597)."
   ]
  },
  {
   "cell_type": "code",
   "execution_count": 1,
   "id": "alone-generation",
   "metadata": {},
   "outputs": [],
   "source": [
    "import torch"
   ]
  },
  {
   "cell_type": "markdown",
   "id": "after-python",
   "metadata": {},
   "source": [
    "## UNET\n",
    "**Task: Create a UNET with three DownConvolutions and three UpConvolutions.\n",
    "Use 64, 128, 256 and 512 filters for both, Down and UpConvolutions and use skip-connections. Use Upsampling instead of transposed Convolutions**"
   ]
  },
  {
   "cell_type": "code",
   "execution_count": null,
   "id": "macro-generation",
   "metadata": {},
   "outputs": [],
   "source": []
  },
  {
   "cell_type": "markdown",
   "id": "traditional-positive",
   "metadata": {},
   "source": [
    "## Testing\n",
    "**Task: Test if your model works by computing an inference over a random tensor**"
   ]
  },
  {
   "cell_type": "code",
   "execution_count": null,
   "id": "strange-today",
   "metadata": {},
   "outputs": [],
   "source": []
  }
 ],
 "metadata": {
  "kernelspec": {
   "display_name": "Udemy",
   "language": "python",
   "name": "udemy"
  },
  "language_info": {
   "codemirror_mode": {
    "name": "ipython",
    "version": 3
   },
   "file_extension": ".py",
   "mimetype": "text/x-python",
   "name": "python",
   "nbconvert_exporter": "python",
   "pygments_lexer": "ipython3",
   "version": "3.7.0"
  }
 },
 "nbformat": 4,
 "nbformat_minor": 5
}
