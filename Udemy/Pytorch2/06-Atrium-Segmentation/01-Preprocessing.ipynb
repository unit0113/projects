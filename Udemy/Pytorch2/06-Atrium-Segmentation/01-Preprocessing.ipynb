{
 "cells": [
  {
   "cell_type": "markdown",
   "id": "ordered-scotland",
   "metadata": {},
   "source": [
    "## Introduction\n",
    "In this notebook you will download and preprocess the data for the segmentation task for cardiac mri images:<br />\n",
    "The data is provided by the medical segmentation decathlon (http://medicaldecathlon.com/)<br /> (Data License: https://creativecommons.org/licenses/by-sa/4.0/)<br />\n",
    "\n",
    "You can directly download the cardiac MRIs and segmentation maps from: <br />\n",
    "https://drive.google.com/file/d/1wEB2I6S6tQBVEPxir8cA5kFB8gTQadYY/view?usp=sharing"
   ]
  },
  {
   "cell_type": "markdown",
   "id": "reserved-hamburg",
   "metadata": {},
   "source": [
    "## Imports:\n",
    "* Pathlib for easy path handling\n",
    "* nibabel as the files are provided in the NIfTI format\n",
    "* numpy for data saving and processing\n",
    "* matplotlib for plotting\n",
    "* tqdm for nice progressing bars"
   ]
  },
  {
   "cell_type": "code",
   "execution_count": null,
   "id": "color-nashville",
   "metadata": {},
   "outputs": [],
   "source": [
    "%matplotlib notebook\n",
    "from pathlib import Path\n",
    "import nibabel as nib\n",
    "import numpy as np\n",
    "import matplotlib.pyplot as plt\n",
    "from tqdm.notebook import tqdm"
   ]
  },
  {
   "cell_type": "markdown",
   "id": "placed-dating",
   "metadata": {},
   "source": [
    "## Inspection:\n",
    "Let's first inspect some sample data"
   ]
  },
  {
   "cell_type": "code",
   "execution_count": null,
   "id": "liberal-standard",
   "metadata": {},
   "outputs": [],
   "source": [
    "root = Path(\"/path/to/Task02_Heart/imagesTr/\")\n",
    "label = Path(\"/path/to/Task02_Heart/labelsTr/\")"
   ]
  },
  {
   "cell_type": "markdown",
   "id": "dying-setup",
   "metadata": {},
   "source": [
    "We start with a helper function which automatically replaces \"imagesTr\" with \"labelsTr\" in the filepaths so that we can easily switch between mri images and label masks"
   ]
  },
  {
   "cell_type": "code",
   "execution_count": null,
   "id": "effective-programmer",
   "metadata": {},
   "outputs": [],
   "source": [
    "def change_img_to_label_path(path):\n",
    "    \"\"\"\n",
    "    Replaces imagesTr with labelsTr\n",
    "    \"\"\"\n",
    "    parts = list(path.parts)  # get all directories within the path\n",
    "    parts[parts.index(\"imagesTr\")] = \"labelsTr\"  # Replace imagesTr with labelsTr\n",
    "    return Path(*parts)  # Combine list back into a Path object\n"
   ]
  },
  {
   "cell_type": "code",
   "execution_count": null,
   "id": "adaptive-jacket",
   "metadata": {},
   "outputs": [],
   "source": [
    "sample_path = list(root.glob(\"la*\"))[0]  # Choose a subject\n",
    "sample_path_label = change_img_to_label_path(sample_path)"
   ]
  },
  {
   "cell_type": "code",
   "execution_count": null,
   "id": "fabulous-toolbox",
   "metadata": {},
   "outputs": [],
   "source": [
    "sample_path, sample_path_label"
   ]
  },
  {
   "cell_type": "markdown",
   "id": "suffering-unknown",
   "metadata": {},
   "source": [
    "Load NIfTI and extract image data"
   ]
  },
  {
   "cell_type": "code",
   "execution_count": null,
   "id": "external-narrative",
   "metadata": {},
   "outputs": [],
   "source": [
    "data = nib.load(sample_path)\n",
    "label = nib.load(sample_path_label)\n",
    "\n",
    "mri = data.get_fdata()\n",
    "mask = label.get_fdata().astype(np.uint8)  # Class labels should not be handled as float64"
   ]
  },
  {
   "cell_type": "code",
   "execution_count": null,
   "id": "vanilla-growth",
   "metadata": {},
   "outputs": [],
   "source": [
    "nib.aff2axcodes(data.affine)"
   ]
  },
  {
   "cell_type": "markdown",
   "id": "stupid-thunder",
   "metadata": {},
   "source": [
    "Let's inspect the data.\n",
    "We use the sagittal view for this task as it provides the \"nicest\" images<br />\n",
    "\n",
    "We can use celluloid (https://github.com/jwkvam/celluloid) which is a great tool for live visualization in matplotlib.<br />\n",
    "Additionally we import HTML from IPython.display to create a video of the volume."
   ]
  },
  {
   "cell_type": "code",
   "execution_count": null,
   "id": "labeled-reference",
   "metadata": {},
   "outputs": [],
   "source": [
    "from celluloid import Camera\n",
    "from IPython.display import HTML"
   ]
  },
  {
   "cell_type": "code",
   "execution_count": null,
   "id": "digital-measurement",
   "metadata": {},
   "outputs": [],
   "source": [
    "fig = plt.figure()\n",
    "camera = Camera(fig)  # Create the camera object from celluloid\n",
    "\n",
    "for i in range(mri.shape[2]):  # Sagital view\n",
    "    plt.imshow(mri[:,:,i], cmap=\"bone\")\n",
    "    mask_ = np.ma.masked_where(mask[:,:,i]==0, mask[:,:,i])\n",
    "    plt.imshow(mask_, alpha=0.5, cmap=\"autumn\")\n",
    "    # plt.axis(\"off\")\n",
    "    camera.snap()  # Store the current slice\n",
    "animation = camera.animate()  # Create the animation\n",
    "\n",
    "\n"
   ]
  },
  {
   "cell_type": "code",
   "execution_count": null,
   "id": "contained-camping",
   "metadata": {},
   "outputs": [],
   "source": [
    "HTML(animation.to_html5_video())  # convert the animation to a video\n"
   ]
  },
  {
   "cell_type": "markdown",
   "id": "representative-phoenix",
   "metadata": {},
   "source": [
    "## Preprocessing\n",
    "We perform the following preprocessing steps:\n",
    "\n",
    "1. Normalization per subject. We compute mean and sigma of the full 3d volume $X$ and then perform z-normalization:\n",
    "$$X_n = \\frac{X-\\mu}{\\sigma}$$\n",
    "2. There is a plenty of empty space around the image, so we can crop the image (e.g 32 px from top and bottom). Additionally, we can crop away non-cardiac regions as they will definitely not contain the left atrium. This will  reduce training time due to the smaller size and will simplify the segmentation. It is important to crop first and to normalize afterwards. Otherwise the included zero values introduce skewness to the intesity distribution.\n",
    "3. Standardize the normalized subject into the 0-1 range:\n",
    "$$X_s = \\frac{X_n - min(X_n)}{max(X_n)-min(X_n)} $$\n",
    "4. This task will be performed on a slice level (2D) and not on a subject level (3D). In order to reduce the computational cost we store the preprocessed data as npy files of 2d slices. Reading a single slice is much faster than loading the complete NIfTI file every time."
   ]
  },
  {
   "cell_type": "code",
   "execution_count": null,
   "id": "protected-highlight",
   "metadata": {},
   "outputs": [],
   "source": [
    "# Helper functions for normalization and standardization\n",
    "def normalize(full_volume):\n",
    "    \"\"\"\n",
    "    Z-Normalization of the whole subject\n",
    "    \"\"\"\n",
    "    mu = full_volume.mean()\n",
    "    std = np.std(full_volume)\n",
    "    normalized = (full_volume - mu) / std\n",
    "    return normalized\n",
    "\n",
    "def standardize(normalized_data):\n",
    "    \"\"\"\n",
    "    Standardize the normalized data into the 0-1 range\n",
    "    \"\"\"\n",
    "    standardized_data = (normalized_data - normalized_data.min()) / (normalized_data.max() - normalized_data.min())\n",
    "    return standardized_data\n"
   ]
  },
  {
   "cell_type": "code",
   "execution_count": null,
   "id": "romantic-campaign",
   "metadata": {},
   "outputs": [],
   "source": [
    "def normalize(full_volume):\n",
    "    mu = full_volume.mean()\n",
    "    std = np.std(full_volume)\n",
    "    normalized = (full_volume - mu) / std\n",
    "    return normalized\n",
    "\n",
    "def standardize(normalized):\n",
    "    standardized = (normalized - normalized.min()) / (normalized.max() - normalized.min())\n",
    "    return standardized"
   ]
  },
  {
   "cell_type": "markdown",
   "id": "demanding-dover",
   "metadata": {},
   "source": [
    "Now we can loop over the subjects and store the preprocessed files in the corresponding directories.\n",
    "To evaluate our model we use the last 4 subjects as validation set."
   ]
  },
  {
   "cell_type": "markdown",
   "id": "formed-endorsement",
   "metadata": {},
   "source": [
    "We want to create a directory containing a numpy file for each slice of the MRI image and the associated label mask of each subject.\n",
    "E.g:\n",
    "* 0/data/0.npy\n",
    "* 0/masks/0.npy"
   ]
  },
  {
   "cell_type": "code",
   "execution_count": null,
   "id": "tender-visitor",
   "metadata": {},
   "outputs": [],
   "source": [
    "all_files = list(root.glob(\"la*\"))  # Get all subjects\n",
    "len(all_files)"
   ]
  },
  {
   "cell_type": "code",
   "execution_count": null,
   "id": "severe-vintage",
   "metadata": {
    "scrolled": true
   },
   "outputs": [],
   "source": [
    "save_root = Path(\"Preprocessed\")\n",
    "\n",
    "for counter, path_to_mri_data in enumerate(tqdm(all_files)):\n",
    "    \n",
    "    path_to_label = change_img_to_label_path(path_to_mri_data)\n",
    "    \n",
    "    mri = nib.load(path_to_mri_data)\n",
    "    assert nib.aff2axcodes(mri.affine) == (\"R\", \"A\", \"S\")    \n",
    "    mri_data = mri.get_fdata()\n",
    "    label_data = nib.load(path_to_label).get_fdata().astype(np.uint8)\n",
    "    \n",
    "    # Crop volume and label mask. Reduce 32 px from top and 32 px from bottom.\n",
    "    # Addtionally crop front and back with same size. Dont crop viewing axis\n",
    "    mri_data = mri_data[32:-32, 32:-32]\n",
    "    label_data = label_data[32:-32, 32:-32]\n",
    "    \n",
    "    # Normalize and standardize the images\n",
    "    normalized_mri_data = normalize(mri_data)\n",
    "    standardized_mri_data = standardize(normalized_mri_data)\n",
    "    \n",
    "    # Check if train or val data and create corresponding path\n",
    "    if counter < 17:\n",
    "        current_path = save_root/\"train\"/str(counter)\n",
    "    else:\n",
    "        current_path = save_root/\"val\"/str(counter)\n",
    "    \n",
    "    # Loop over the slices in the full volume and store the images and labels in the data/masks directory\n",
    "    for i in range(standardized_mri_data.shape[-1]):\n",
    "        slice = standardized_mri_data[:,:,i]\n",
    "        mask = label_data[:,:,i]\n",
    "        slice_path = current_path/\"data\"\n",
    "        mask_path = current_path/\"masks\"\n",
    "        slice_path.mkdir(parents=True, exist_ok=True)\n",
    "        mask_path.mkdir(parents=True, exist_ok=True)\n",
    "        \n",
    "        np.save(slice_path/str(i), slice)\n",
    "        np.save(mask_path/str(i), mask)\n",
    "        \n",
    "        \n",
    "    "
   ]
  },
  {
   "cell_type": "markdown",
   "id": "gentle-clinic",
   "metadata": {},
   "source": [
    "## Validate preprocessed data\n",
    "Now, we can take a look at the stored files and inspect if everything works"
   ]
  },
  {
   "cell_type": "code",
   "execution_count": null,
   "id": "fifteen-failing",
   "metadata": {},
   "outputs": [],
   "source": [
    "path = Path(\"Preprocessed/train/1/\")  # Select a subject\n"
   ]
  },
  {
   "cell_type": "code",
   "execution_count": null,
   "id": "applicable-handbook",
   "metadata": {},
   "outputs": [],
   "source": [
    "# Choose a file and load slice + mask\n",
    "file = \"50.npy\"\n",
    "slice = np.load(path/\"data\"/file)\n",
    "mask = np.load(path/\"masks\"/file)"
   ]
  },
  {
   "cell_type": "code",
   "execution_count": null,
   "id": "pending-acceptance",
   "metadata": {
    "scrolled": false
   },
   "outputs": [],
   "source": [
    "# Plot everything\n",
    "plt.figure()\n",
    "plt.imshow(slice, cmap=\"bone\")\n",
    "mask_ = np.ma.masked_where(mask==0, mask)\n",
    "plt.imshow(mask_, cmap=\"autumn\")"
   ]
  },
  {
   "cell_type": "code",
   "execution_count": null,
   "id": "accomplished-occasion",
   "metadata": {},
   "outputs": [],
   "source": [
    "print(slice.min(), slice.max())"
   ]
  }
 ],
 "metadata": {
  "kernelspec": {
   "display_name": "Python 3 (ipykernel)",
   "language": "python",
   "name": "python3"
  },
  "language_info": {
   "codemirror_mode": {
    "name": "ipython",
    "version": 3
   },
   "file_extension": ".py",
   "mimetype": "text/x-python",
   "name": "python",
   "nbconvert_exporter": "python",
   "pygments_lexer": "ipython3",
   "version": "3.8.0"
  }
 },
 "nbformat": 4,
 "nbformat_minor": 5
}
