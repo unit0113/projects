{
 "cells": [
  {
   "cell_type": "markdown",
   "metadata": {},
   "source": [
    "<img src=\"../Pierian-Data-Logo.PNG\">\n",
    "<br>\n",
    "<strong><center>Copyright 2019. Created by Jose Marcial Portilla.</center></strong>"
   ]
  },
  {
   "cell_type": "markdown",
   "metadata": {},
   "source": [
    "# Full Artificial Neural Network Code Along\n",
    "In the last section we took in four continuous variables (lengths) to perform a classification. In this section we'll combine continuous and categorical data to perform a regression. The goal is to estimate the cost of a cab ride from several inputs. The inspiration behind this code along is a recent <a href='https://www.kaggle.com/c/new-york-city-taxi-fare-prediction'>Kaggle competition</a>."
   ]
  },
  {
   "cell_type": "markdown",
   "metadata": {},
   "source": [
    "## Perform standard imports"
   ]
  },
  {
   "cell_type": "code",
   "execution_count": 1,
   "metadata": {
    "collapsed": true
   },
   "outputs": [],
   "source": [
    "import torch\n",
    "import torch.nn as nn\n",
    "import torch.nn.functional as F\n",
    "from torch.utils.data import Dataset, DataLoader\n",
    "from sklearn.model_selection import train_test_split\n",
    "\n",
    "import pandas as pd\n",
    "import matplotlib.pyplot as plt\n",
    "%matplotlib inline"
   ]
  },
  {
   "cell_type": "markdown",
   "metadata": {},
   "source": [
    "## Load the NYC Taxi Fares dataset"
   ]
  },
  {
   "cell_type": "code",
   "execution_count": 2,
   "metadata": {},
   "outputs": [
    {
     "data": {
      "text/html": [
       "<div>\n",
       "<style scoped>\n",
       "    .dataframe tbody tr th:only-of-type {\n",
       "        vertical-align: middle;\n",
       "    }\n",
       "\n",
       "    .dataframe tbody tr th {\n",
       "        vertical-align: top;\n",
       "    }\n",
       "\n",
       "    .dataframe thead th {\n",
       "        text-align: right;\n",
       "    }\n",
       "</style>\n",
       "<table border=\"1\" class=\"dataframe\">\n",
       "  <thead>\n",
       "    <tr style=\"text-align: right;\">\n",
       "      <th></th>\n",
       "      <th>fare_amount</th>\n",
       "      <th>pickup_datetime</th>\n",
       "      <th>pickup_longitude</th>\n",
       "      <th>pickup_latitude</th>\n",
       "      <th>dropoff_longitude</th>\n",
       "      <th>dropoff_latitude</th>\n",
       "      <th>passenger_count</th>\n",
       "      <th>hour</th>\n",
       "    </tr>\n",
       "  </thead>\n",
       "  <tbody>\n",
       "    <tr>\n",
       "      <th>2010-03-01-23:58:01.01</th>\n",
       "      <td>5.7</td>\n",
       "      <td>2010-03-01 23:58:01 UTC</td>\n",
       "      <td>-73.972751</td>\n",
       "      <td>40.763546</td>\n",
       "      <td>-73.986086</td>\n",
       "      <td>40.760804</td>\n",
       "      <td>1</td>\n",
       "      <td>23</td>\n",
       "    </tr>\n",
       "    <tr>\n",
       "      <th>2010-03-01-23:58:10.01</th>\n",
       "      <td>11.3</td>\n",
       "      <td>2010-03-01 23:58:10 UTC</td>\n",
       "      <td>-73.937198</td>\n",
       "      <td>40.804350</td>\n",
       "      <td>-73.928214</td>\n",
       "      <td>40.772218</td>\n",
       "      <td>1</td>\n",
       "      <td>23</td>\n",
       "    </tr>\n",
       "    <tr>\n",
       "      <th>2010-03-01-23:58:30.01</th>\n",
       "      <td>6.9</td>\n",
       "      <td>2010-03-01 23:58:30 UTC</td>\n",
       "      <td>-73.971783</td>\n",
       "      <td>40.794864</td>\n",
       "      <td>-73.966151</td>\n",
       "      <td>40.789576</td>\n",
       "      <td>1</td>\n",
       "      <td>23</td>\n",
       "    </tr>\n",
       "    <tr>\n",
       "      <th>2010-03-01-23:59:42.01</th>\n",
       "      <td>6.9</td>\n",
       "      <td>2010-03-01 23:59:42 UTC</td>\n",
       "      <td>-74.001461</td>\n",
       "      <td>40.731025</td>\n",
       "      <td>-73.987639</td>\n",
       "      <td>40.721758</td>\n",
       "      <td>1</td>\n",
       "      <td>23</td>\n",
       "    </tr>\n",
       "    <tr>\n",
       "      <th>2010-03-01-23:59:44.01</th>\n",
       "      <td>6.5</td>\n",
       "      <td>2010-03-01 23:59:44 UTC</td>\n",
       "      <td>-73.971741</td>\n",
       "      <td>40.754337</td>\n",
       "      <td>-73.952507</td>\n",
       "      <td>40.778123</td>\n",
       "      <td>1</td>\n",
       "      <td>23</td>\n",
       "    </tr>\n",
       "  </tbody>\n",
       "</table>\n",
       "</div>"
      ],
      "text/plain": [
       "                        fare_amount          pickup_datetime  \\\n",
       "2010-03-01-23:58:01.01          5.7  2010-03-01 23:58:01 UTC   \n",
       "2010-03-01-23:58:10.01         11.3  2010-03-01 23:58:10 UTC   \n",
       "2010-03-01-23:58:30.01          6.9  2010-03-01 23:58:30 UTC   \n",
       "2010-03-01-23:59:42.01          6.9  2010-03-01 23:59:42 UTC   \n",
       "2010-03-01-23:59:44.01          6.5  2010-03-01 23:59:44 UTC   \n",
       "\n",
       "                        pickup_longitude  pickup_latitude  dropoff_longitude  \\\n",
       "2010-03-01-23:58:01.01        -73.972751        40.763546         -73.986086   \n",
       "2010-03-01-23:58:10.01        -73.937198        40.804350         -73.928214   \n",
       "2010-03-01-23:58:30.01        -73.971783        40.794864         -73.966151   \n",
       "2010-03-01-23:59:42.01        -74.001461        40.731025         -73.987639   \n",
       "2010-03-01-23:59:44.01        -73.971741        40.754337         -73.952507   \n",
       "\n",
       "                        dropoff_latitude  passenger_count  hour  \n",
       "2010-03-01-23:58:01.01         40.760804                1    23  \n",
       "2010-03-01-23:58:10.01         40.772218                1    23  \n",
       "2010-03-01-23:58:30.01         40.789576                1    23  \n",
       "2010-03-01-23:59:42.01         40.721758                1    23  \n",
       "2010-03-01-23:59:44.01         40.778123                1    23  "
      ]
     },
     "execution_count": 2,
     "metadata": {},
     "output_type": "execute_result"
    }
   ],
   "source": [
    "df = pd.read_csv('../Data/NYCTaxiFares.csv',index_col=0)\n",
    "df.tail()"
   ]
  },
  {
   "cell_type": "code",
   "execution_count": 3,
   "metadata": {},
   "outputs": [
    {
     "data": {
      "text/plain": [
       "9600"
      ]
     },
     "execution_count": 3,
     "metadata": {},
     "output_type": "execute_result"
    }
   ],
   "source": [
    "len(df)"
   ]
  },
  {
   "cell_type": "code",
   "execution_count": 4,
   "metadata": {},
   "outputs": [
    {
     "data": {
      "text/plain": [
       "Index(['fare_amount', 'pickup_datetime', 'pickup_longitude', 'pickup_latitude',\n",
       "       'dropoff_longitude', 'dropoff_latitude', 'passenger_count', 'hour'],\n",
       "      dtype='object')"
      ]
     },
     "execution_count": 4,
     "metadata": {},
     "output_type": "execute_result"
    }
   ],
   "source": [
    "c = df.columns\n",
    "c"
   ]
  },
  {
   "cell_type": "code",
   "execution_count": 5,
   "metadata": {},
   "outputs": [
    {
     "data": {
      "text/plain": [
       "'fare_amount'"
      ]
     },
     "execution_count": 5,
     "metadata": {},
     "output_type": "execute_result"
    }
   ],
   "source": [
    "c[0]"
   ]
  },
  {
   "cell_type": "code",
   "execution_count": 6,
   "metadata": {
    "collapsed": true
   },
   "outputs": [],
   "source": [
    "cont_cols = ['pickup_longitude', 'pickup_latitude', 'dropoff_longitude', 'dropoff_latitude']"
   ]
  },
  {
   "cell_type": "code",
   "execution_count": 28,
   "metadata": {
    "collapsed": true
   },
   "outputs": [],
   "source": [
    "import numpy as np\n",
    "def haversine_distance(df, start_lat, end_lat, start_lng, end_lng, prefix):\n",
    "    \"\"\"\n",
    "    calculates haversine distance between 2 sets of GPS coordinates in df\n",
    "    \"\"\"\n",
    "    R = 6371  #radius of earth in kilometers\n",
    "       \n",
    "    phi1 = np.radians(df[start_lat])\n",
    "    phi2 = np.radians(df[end_lat])\n",
    "    \n",
    "    delta_phi = np.radians(df[end_lat]-df[start_lat])\n",
    "    delta_lambda = np.radians(df[end_lng]-df[start_lng])\n",
    "    \n",
    "        \n",
    "    a = np.sin(delta_phi / 2.0) ** 2 + np.cos(phi1) * np.cos(phi2) * np.sin(delta_lambda / 2.0) ** 2\n",
    "    c = 2 * np.arctan2(np.sqrt(a), np.sqrt(1-a))\n",
    "    d = (R * c) #in kilometers\n",
    "    df[prefix+'distance_km'] = d"
   ]
  },
  {
   "cell_type": "code",
   "execution_count": 29,
   "metadata": {},
   "outputs": [],
   "source": [
    "haversine_distance(df, 'pickup_latitude', 'dropoff_latitude', 'pickup_longitude', 'dropoff_longitude', '')"
   ]
  },
  {
   "cell_type": "code",
   "execution_count": 30,
   "metadata": {},
   "outputs": [
    {
     "data": {
      "text/html": [
       "<div>\n",
       "<style scoped>\n",
       "    .dataframe tbody tr th:only-of-type {\n",
       "        vertical-align: middle;\n",
       "    }\n",
       "\n",
       "    .dataframe tbody tr th {\n",
       "        vertical-align: top;\n",
       "    }\n",
       "\n",
       "    .dataframe thead th {\n",
       "        text-align: right;\n",
       "    }\n",
       "</style>\n",
       "<table border=\"1\" class=\"dataframe\">\n",
       "  <thead>\n",
       "    <tr style=\"text-align: right;\">\n",
       "      <th></th>\n",
       "      <th>fare_amount</th>\n",
       "      <th>pickup_datetime</th>\n",
       "      <th>pickup_longitude</th>\n",
       "      <th>pickup_latitude</th>\n",
       "      <th>dropoff_longitude</th>\n",
       "      <th>dropoff_latitude</th>\n",
       "      <th>passenger_count</th>\n",
       "      <th>hour</th>\n",
       "      <th>distance_km</th>\n",
       "    </tr>\n",
       "  </thead>\n",
       "  <tbody>\n",
       "    <tr>\n",
       "      <th>2010-03-01-00:00:05.01</th>\n",
       "      <td>23.07</td>\n",
       "      <td>2010-03-01 00:00:05 UTC</td>\n",
       "      <td>-73.955364</td>\n",
       "      <td>40.776753</td>\n",
       "      <td>-73.871019</td>\n",
       "      <td>40.774185</td>\n",
       "      <td>1</td>\n",
       "      <td>0</td>\n",
       "      <td>7.108018</td>\n",
       "    </tr>\n",
       "    <tr>\n",
       "      <th>2010-03-01-00:00:26.01</th>\n",
       "      <td>6.10</td>\n",
       "      <td>2010-03-01 00:00:26 UTC</td>\n",
       "      <td>-73.977562</td>\n",
       "      <td>40.752204</td>\n",
       "      <td>-73.979139</td>\n",
       "      <td>40.764011</td>\n",
       "      <td>1</td>\n",
       "      <td>0</td>\n",
       "      <td>1.319581</td>\n",
       "    </tr>\n",
       "    <tr>\n",
       "      <th>2010-03-01-00:00:30.01</th>\n",
       "      <td>4.90</td>\n",
       "      <td>2010-03-01 00:00:30 UTC</td>\n",
       "      <td>-73.988141</td>\n",
       "      <td>40.759481</td>\n",
       "      <td>-73.992240</td>\n",
       "      <td>40.748884</td>\n",
       "      <td>1</td>\n",
       "      <td>0</td>\n",
       "      <td>1.227875</td>\n",
       "    </tr>\n",
       "    <tr>\n",
       "      <th>2010-03-01-00:00:30.02</th>\n",
       "      <td>8.50</td>\n",
       "      <td>2010-03-01 00:00:30 UTC</td>\n",
       "      <td>-73.981855</td>\n",
       "      <td>40.775459</td>\n",
       "      <td>-73.968213</td>\n",
       "      <td>40.751485</td>\n",
       "      <td>1</td>\n",
       "      <td>0</td>\n",
       "      <td>2.902838</td>\n",
       "    </tr>\n",
       "    <tr>\n",
       "      <th>2010-03-01-00:01:07.01</th>\n",
       "      <td>6.10</td>\n",
       "      <td>2010-03-01 00:01:07 UTC</td>\n",
       "      <td>-73.904717</td>\n",
       "      <td>40.879041</td>\n",
       "      <td>-73.921539</td>\n",
       "      <td>40.881664</td>\n",
       "      <td>1</td>\n",
       "      <td>0</td>\n",
       "      <td>1.444022</td>\n",
       "    </tr>\n",
       "  </tbody>\n",
       "</table>\n",
       "</div>"
      ],
      "text/plain": [
       "                        fare_amount          pickup_datetime  \\\n",
       "2010-03-01-00:00:05.01        23.07  2010-03-01 00:00:05 UTC   \n",
       "2010-03-01-00:00:26.01         6.10  2010-03-01 00:00:26 UTC   \n",
       "2010-03-01-00:00:30.01         4.90  2010-03-01 00:00:30 UTC   \n",
       "2010-03-01-00:00:30.02         8.50  2010-03-01 00:00:30 UTC   \n",
       "2010-03-01-00:01:07.01         6.10  2010-03-01 00:01:07 UTC   \n",
       "\n",
       "                        pickup_longitude  pickup_latitude  dropoff_longitude  \\\n",
       "2010-03-01-00:00:05.01        -73.955364        40.776753         -73.871019   \n",
       "2010-03-01-00:00:26.01        -73.977562        40.752204         -73.979139   \n",
       "2010-03-01-00:00:30.01        -73.988141        40.759481         -73.992240   \n",
       "2010-03-01-00:00:30.02        -73.981855        40.775459         -73.968213   \n",
       "2010-03-01-00:01:07.01        -73.904717        40.879041         -73.921539   \n",
       "\n",
       "                        dropoff_latitude  passenger_count  hour  distance_km  \n",
       "2010-03-01-00:00:05.01         40.774185                1     0     7.108018  \n",
       "2010-03-01-00:00:26.01         40.764011                1     0     1.319581  \n",
       "2010-03-01-00:00:30.01         40.748884                1     0     1.227875  \n",
       "2010-03-01-00:00:30.02         40.751485                1     0     2.902838  \n",
       "2010-03-01-00:01:07.01         40.881664                1     0     1.444022  "
      ]
     },
     "execution_count": 30,
     "metadata": {},
     "output_type": "execute_result"
    }
   ],
   "source": [
    "df.head()"
   ]
  },
  {
   "cell_type": "code",
   "execution_count": 32,
   "metadata": {},
   "outputs": [],
   "source": [
    "cont_cols = cont_cols + ['distance_km']"
   ]
  },
  {
   "cell_type": "code",
   "execution_count": null,
   "metadata": {
    "collapsed": true
   },
   "outputs": [],
   "source": []
  },
  {
   "cell_type": "markdown",
   "metadata": {},
   "source": [
    "## Create a model class\n",
    "For this exercise we're using the Iris dataset. Since a single straight line can't classify three flowers we should include at least one hidden layer in our model.\n",
    "\n",
    "In the forward section we'll use the <a href='https://en.wikipedia.org/wiki/Rectifier_(neural_networks)'>rectified linear unit</a> (ReLU)  function<br>\n",
    "$\\quad f(x)=max(0,x)$<br>\n",
    "as our activation function. This is available as a full module <a href='https://pytorch.org/docs/stable/nn.html#relu'><strong><tt>torch.nn.ReLU</tt></strong></a> or as just a functional call <a href='https://pytorch.org/docs/stable/nn.html#id27'><strong><tt>torch.nn.functional.relu</tt></strong></a>"
   ]
  },
  {
   "cell_type": "code",
   "execution_count": 33,
   "metadata": {
    "collapsed": true
   },
   "outputs": [],
   "source": [
    "class Model(nn.Module):\n",
    "    def __init__(self, in_features=4, h1=30, h2=30,h3=30, out_features=1):\n",
    "        super().__init__()\n",
    "        self.fc1 = nn.Linear(in_features,h1)    # input layer\n",
    "        self.fc2 = nn.Linear(h1, h2)  \n",
    "        self.fc2 = nn.Linear(h2, h3) # hidden layer\n",
    "        self.out = nn.Linear(h3, out_features)  # output layer\n",
    "        \n",
    "    def forward(self, x):\n",
    "        x = self.fc1(x)\n",
    "        x = self.fc2(x)\n",
    "        x = self.out(x)\n",
    "        return x"
   ]
  },
  {
   "cell_type": "code",
   "execution_count": 38,
   "metadata": {
    "collapsed": true
   },
   "outputs": [],
   "source": [
    "# Instantiate the Model class using parameter defaults:\n",
    "torch.manual_seed(101)\n",
    "model = Model(5,40,40,40,1)"
   ]
  },
  {
   "cell_type": "code",
   "execution_count": 39,
   "metadata": {
    "collapsed": true
   },
   "outputs": [],
   "source": [
    "criterion = nn.MSELoss()\n",
    "optimizer = torch.optim.Adam(model.parameters(), lr=0.001)"
   ]
  },
  {
   "cell_type": "markdown",
   "metadata": {},
   "source": [
    "## Perform Train/Test/Split"
   ]
  },
  {
   "cell_type": "code",
   "execution_count": 40,
   "metadata": {
    "collapsed": true
   },
   "outputs": [],
   "source": [
    "X = df[cont_cols].values\n",
    "y = df['fare_amount'].values.reshape(-1,1)\n",
    "\n",
    "X_train, X_test, y_train, y_test = train_test_split(X,y,test_size=0.4,random_state=42)\n",
    "\n",
    "X_train = torch.FloatTensor(X_train)\n",
    "X_test = torch.FloatTensor(X_test)\n",
    "y_train = torch.FloatTensor(y_train)\n",
    "y_test = torch.FloatTensor(y_test)"
   ]
  },
  {
   "cell_type": "markdown",
   "metadata": {},
   "source": [
    "## Train the model"
   ]
  },
  {
   "cell_type": "code",
   "execution_count": 41,
   "metadata": {},
   "outputs": [
    {
     "name": "stdout",
     "output_type": "stream",
     "text": [
      "epoch:  1  loss: 139.58552551\n",
      "epoch: 11  loss: 63.49932480\n",
      "epoch: 21  loss: 60.91341782\n",
      "epoch: 31  loss: 54.18982697\n",
      "epoch: 41  loss: 49.22862625\n",
      "epoch: 51  loss: 45.51780319\n",
      "epoch: 61  loss: 41.09418869\n",
      "epoch: 71  loss: 36.73507309\n",
      "epoch: 81  loss: 32.19643021\n",
      "epoch: 91  loss: 27.59387016\n",
      "epoch: 101  loss: 23.07151031\n",
      "epoch: 111  loss: 18.81528664\n",
      "epoch: 121  loss: 15.03000069\n",
      "epoch: 131  loss: 11.91219711\n",
      "epoch: 141  loss: 9.58362293\n",
      "epoch: 151  loss: 8.04716682\n",
      "epoch: 161  loss: 7.17847347\n",
      "epoch: 171  loss: 6.77299261\n",
      "epoch: 181  loss: 6.62477779\n",
      "epoch: 191  loss: 6.58645487\n",
      "epoch: 201  loss: 6.58148336\n",
      "epoch: 211  loss: 6.58203030\n",
      "epoch: 221  loss: 6.58212852\n",
      "epoch: 231  loss: 6.58181334\n",
      "epoch: 241  loss: 6.58156443\n",
      "epoch: 251  loss: 6.58146286\n",
      "epoch: 261  loss: 6.58143663\n",
      "epoch: 271  loss: 6.58142805\n",
      "epoch: 281  loss: 6.58141994\n",
      "epoch: 291  loss: 6.58141136\n",
      "epoch: 301  loss: 6.58140182\n",
      "epoch: 311  loss: 6.58139324\n",
      "epoch: 321  loss: 6.58138418\n",
      "epoch: 331  loss: 6.58137465\n",
      "epoch: 341  loss: 6.58136559\n",
      "epoch: 351  loss: 6.58135605\n",
      "epoch: 361  loss: 6.58134604\n",
      "epoch: 371  loss: 6.58133650\n",
      "epoch: 381  loss: 6.58132648\n",
      "epoch: 391  loss: 6.58131599\n",
      "epoch: 401  loss: 6.58130598\n",
      "epoch: 411  loss: 6.58129549\n",
      "epoch: 421  loss: 6.58128500\n",
      "epoch: 431  loss: 6.58127356\n",
      "epoch: 441  loss: 6.58126259\n",
      "epoch: 451  loss: 6.58125210\n",
      "epoch: 461  loss: 6.58124065\n",
      "epoch: 471  loss: 6.58122921\n",
      "epoch: 481  loss: 6.58121729\n",
      "epoch: 491  loss: 6.58120584\n",
      "epoch: 501  loss: 6.58119345\n",
      "epoch: 511  loss: 6.58118200\n",
      "epoch: 521  loss: 6.58116961\n",
      "epoch: 531  loss: 6.58115768\n",
      "epoch: 541  loss: 6.58114481\n",
      "epoch: 551  loss: 6.58113194\n",
      "epoch: 561  loss: 6.58111954\n",
      "epoch: 571  loss: 6.58110619\n",
      "epoch: 581  loss: 6.58109331\n",
      "epoch: 591  loss: 6.58108044\n",
      "epoch: 601  loss: 6.58106661\n",
      "epoch: 611  loss: 6.58105326\n",
      "epoch: 621  loss: 6.58103943\n",
      "epoch: 631  loss: 6.58102560\n",
      "epoch: 641  loss: 6.58101177\n",
      "epoch: 651  loss: 6.58099747\n",
      "epoch: 661  loss: 6.58098269\n",
      "epoch: 671  loss: 6.58096886\n",
      "epoch: 681  loss: 6.58095407\n",
      "epoch: 691  loss: 6.58093929\n",
      "epoch: 701  loss: 6.58092499\n",
      "epoch: 711  loss: 6.58090925\n",
      "epoch: 721  loss: 6.58089447\n",
      "epoch: 731  loss: 6.58087873\n",
      "epoch: 741  loss: 6.58086348\n",
      "epoch: 751  loss: 6.58084774\n",
      "epoch: 761  loss: 6.58083200\n",
      "epoch: 771  loss: 6.58081627\n",
      "epoch: 781  loss: 6.58080006\n",
      "epoch: 791  loss: 6.58086348\n",
      "epoch: 801  loss: 6.60858727\n",
      "epoch: 811  loss: 6.59079218\n",
      "epoch: 821  loss: 6.58567572\n",
      "epoch: 831  loss: 6.58278275\n",
      "epoch: 841  loss: 6.58161592\n",
      "epoch: 851  loss: 6.58099079\n",
      "epoch: 861  loss: 6.58069515\n",
      "epoch: 871  loss: 6.58068562\n",
      "epoch: 881  loss: 6.58065796\n",
      "epoch: 891  loss: 6.58063555\n",
      "epoch: 901  loss: 6.58061457\n",
      "epoch: 911  loss: 6.58059835\n",
      "epoch: 921  loss: 6.58058214\n",
      "epoch: 931  loss: 6.58056545\n",
      "epoch: 941  loss: 6.58054924\n",
      "epoch: 951  loss: 6.58053255\n",
      "epoch: 961  loss: 6.58051634\n",
      "epoch: 971  loss: 6.58053541\n",
      "epoch: 981  loss: 6.58679342\n",
      "epoch: 991  loss: 6.58083439\n"
     ]
    }
   ],
   "source": [
    "epochs = 1000\n",
    "losses = []\n",
    "\n",
    "for i in range(epochs):\n",
    "    i+=1\n",
    "    y_pred = model(X_train)\n",
    "    loss = criterion(y_pred, y_train)\n",
    "    losses.append(loss)\n",
    "    \n",
    "    # a neat trick to save screen space:\n",
    "    if i%10 == 1:\n",
    "        print(f'epoch: {i:2}  loss: {loss.item():10.8f}')\n",
    "\n",
    "    optimizer.zero_grad()\n",
    "    loss.backward()\n",
    "    optimizer.step()"
   ]
  },
  {
   "cell_type": "markdown",
   "metadata": {},
   "source": [
    "## Plot the loss function"
   ]
  },
  {
   "cell_type": "code",
   "execution_count": 42,
   "metadata": {},
   "outputs": [
    {
     "data": {
      "image/png": "[encoded data removed]",
      "text/plain": [
       "<Figure size 432x288 with 1 Axes>"
      ]
     },
     "metadata": {},
     "output_type": "display_data"
    }
   ],
   "source": [
    "plt.plot(range(epochs), losses)\n",
    "plt.ylabel('Loss')\n",
    "plt.xlabel('epoch');"
   ]
  },
  {
   "cell_type": "markdown",
   "metadata": {},
   "source": [
    "## Validate the model\n",
    "Now we run the test set through the model to see if the loss calculation resembles the training data."
   ]
  },
  {
   "cell_type": "code",
   "execution_count": 43,
   "metadata": {},
   "outputs": [
    {
     "name": "stdout",
     "output_type": "stream",
     "text": [
      "6.57392597\n"
     ]
    }
   ],
   "source": [
    "# TO EVALUATE THE ENTIRE TEST SET\n",
    "with torch.no_grad():\n",
    "    y_val = model.forward(X_test)\n",
    "    loss = criterion(y_val, y_test)\n",
    "print(f'{loss:.8f}')"
   ]
  },
  {
   "cell_type": "code",
   "execution_count": 44,
   "metadata": {},
   "outputs": [
    {
     "name": "stdout",
     "output_type": "stream",
     "text": [
      " 1. tensor([5.9351])                        tensor([5.7000])\n",
      " 2. tensor([4.7169])                        tensor([6.5000])\n",
      " 3. tensor([6.5764])                        tensor([6.1000])\n",
      " 4. tensor([5.1535])                        tensor([4.9000])\n",
      " 5. tensor([10.0742])                       tensor([7.3000])\n",
      " 6. tensor([5.5340])                        tensor([5.3000])\n",
      " 7. tensor([8.9779])                        tensor([9.3000])\n",
      " 8. tensor([9.0194])                        tensor([8.5000])\n",
      " 9. tensor([5.4973])                        tensor([4.1000])\n",
      "10. tensor([8.8415])                        tensor([8.1000])\n",
      "11. tensor([4.6676])                        tensor([3.7000])\n",
      "12. tensor([6.1553])                        tensor([6.9000])\n",
      "13. tensor([4.3723])                        tensor([5.3000])\n",
      "14. tensor([8.8304])                        tensor([7.7000])\n",
      "15. tensor([10.3429])                       tensor([11.7000])\n",
      "16. tensor([5.4253])                        tensor([4.1000])\n",
      "17. tensor([5.9984])                        tensor([8.1000])\n",
      "18. tensor([5.9468])                        tensor([6.1000])\n",
      "19. tensor([4.9695])                        tensor([4.5000])\n",
      "20. tensor([16.6034])                       tensor([20.1000])\n",
      "21. tensor([8.1620])                        tensor([7.7000])\n",
      "22. tensor([5.7226])                        tensor([6.5000])\n",
      "23. tensor([6.9785])                        tensor([6.1000])\n",
      "24. tensor([4.4926])                        tensor([5.3000])\n",
      "25. tensor([4.0590])                        tensor([3.7000])\n",
      "26. tensor([4.4487])                        tensor([4.5000])\n",
      "27. tensor([18.6178])                       tensor([25.8700])\n",
      "28. tensor([8.8670])                        tensor([7.3000])\n",
      "29. tensor([6.9234])                        tensor([5.7000])\n",
      "30. tensor([11.4128])                       tensor([8.5000])\n",
      "31. tensor([13.0176])                       tensor([10.5000])\n",
      "32. tensor([13.6224])                       tensor([13.3000])\n",
      "33. tensor([5.1584])                        tensor([5.3000])\n",
      "34. tensor([7.6501])                        tensor([8.1000])\n",
      "35. tensor([6.8289])                        tensor([5.3000])\n",
      "36. tensor([4.3122])                        tensor([4.1000])\n",
      "37. tensor([2.9577])                        tensor([2.5000])\n",
      "38. tensor([8.9821])                        tensor([8.5000])\n",
      "39. tensor([8.8475])                        tensor([8.9000])\n",
      "40. tensor([17.2852])                       tensor([12.1000])\n",
      "41. tensor([4.6542])                        tensor([4.1000])\n",
      "42. tensor([5.4848])                        tensor([5.7000])\n",
      "43. tensor([7.6436])                        tensor([6.5000])\n",
      "44. tensor([5.8038])                        tensor([5.7000])\n",
      "45. tensor([4.6248])                        tensor([4.1000])\n",
      "46. tensor([27.3486])                       tensor([27.8700])\n",
      "47. tensor([11.2318])                       tensor([11.3000])\n",
      "48. tensor([6.4442])                        tensor([5.7000])\n",
      "49. tensor([14.0349])                       tensor([15.7000])\n",
      "50. tensor([11.2625])                       tensor([8.9000])\n",
      "51. tensor([17.5776])                       tensor([15.9000])\n",
      "52. tensor([13.9531])                       tensor([13.7000])\n",
      "53. tensor([6.5622])                        tensor([6.9000])\n",
      "54. tensor([8.1888])                        tensor([11.7000])\n",
      "55. tensor([3.9806])                        tensor([4.1000])\n",
      "56. tensor([25.7906])                       tensor([23.7000])\n",
      "57. tensor([6.5049])                        tensor([7.7000])\n",
      "58. tensor([6.9916])                        tensor([7.3000])\n",
      "59. tensor([5.1066])                        tensor([5.3000])\n",
      "60. tensor([9.0657])                        tensor([12.5000])\n",
      "61. tensor([9.6268])                        tensor([8.5000])\n",
      "62. tensor([9.1951])                        tensor([7.7000])\n",
      "63. tensor([18.8694])                       tensor([15.3000])\n",
      "64. tensor([15.3793])                       tensor([12.5000])\n",
      "65. tensor([4.8490])                        tensor([4.1000])\n",
      "66. tensor([11.2053])                       tensor([10.9000])\n",
      "67. tensor([3.0025])                        tensor([2.5000])\n",
      "68. tensor([10.7960])                       tensor([24.5000])\n",
      "69. tensor([5.8103])                        tensor([4.1000])\n",
      "70. tensor([5.9153])                        tensor([6.1000])\n",
      "71. tensor([4.3209])                        tensor([4.1000])\n",
      "72. tensor([5.1897])                        tensor([4.9000])\n",
      "73. tensor([26.8660])                       tensor([26.5000])\n",
      "74. tensor([14.4186])                       tensor([13.7000])\n",
      "75. tensor([6.1869])                        tensor([7.3000])\n",
      "76. tensor([11.5258])                       tensor([10.5000])\n",
      "77. tensor([11.7629])                       tensor([10.1000])\n",
      "78. tensor([4.8780])                        tensor([9.3000])\n",
      "79. tensor([6.7100])                        tensor([5.7000])\n",
      "80. tensor([3.8303])                        tensor([4.1000])\n",
      "81. tensor([15.0898])                       tensor([12.1000])\n",
      "82. tensor([6.4430])                        tensor([5.7000])\n",
      "83. tensor([9.0043])                        tensor([9.7000])\n",
      "84. tensor([6.5237])                        tensor([8.5000])\n",
      "85. tensor([13.5751])                       tensor([12.5000])\n",
      "86. tensor([10.8481])                       tensor([10.5000])\n",
      "87. tensor([14.6166])                       tensor([41.5000])\n",
      "88. tensor([7.7631])                        tensor([7.3000])\n",
      "89. tensor([4.4774])                        tensor([4.1000])\n",
      "90. tensor([6.9318])                        tensor([8.9000])\n",
      "91. tensor([5.2952])                        tensor([14.1000])\n",
      "92. tensor([23.6661])                       tensor([35.8700])\n",
      "93. tensor([8.8729])                        tensor([8.5000])\n",
      "94. tensor([14.8063])                       tensor([13.7000])\n",
      "95. tensor([5.8293])                        tensor([6.5000])\n",
      "96. tensor([3.8397])                        tensor([3.7000])\n",
      "97. tensor([7.1149])                        tensor([6.9000])\n",
      "98. tensor([4.5141])                        tensor([4.9000])\n",
      "99. tensor([8.7219])                        tensor([10.9000])\n",
      "100. tensor([9.7488])                        tensor([8.5000])\n"
     ]
    }
   ],
   "source": [
    "with torch.no_grad():\n",
    "    for i,data in enumerate(X_test[:100]):\n",
    "        y_val = model(data)\n",
    "        print(f'{i+1:2}. {str(y_val):38}  {y_test[i]}')"
   ]
  },
  {
   "cell_type": "code",
   "execution_count": null,
   "metadata": {
    "collapsed": true
   },
   "outputs": [],
   "source": []
  }
 ],
 "metadata": {
  "kernelspec": {
   "display_name": "Python 3",
   "language": "python",
   "name": "python3"
  },
  "language_info": {
   "codemirror_mode": {
    "name": "ipython",
    "version": 3
   },
   "file_extension": ".py",
   "mimetype": "text/x-python",
   "name": "python",
   "nbconvert_exporter": "python",
   "pygments_lexer": "ipython3",
   "version": "3.7.3"
  }
 },
 "nbformat": 4,
 "nbformat_minor": 2
}
